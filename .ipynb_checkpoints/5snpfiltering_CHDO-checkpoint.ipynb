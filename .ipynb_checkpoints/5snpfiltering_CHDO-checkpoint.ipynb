{
 "cells": [
  {
   "cell_type": "markdown",
   "metadata": {},
   "source": [
    "### Refilter all. Aligning to genome makes no missing data. Adjust to remove loci private"
   ]
  },
  {
   "cell_type": "code",
   "execution_count": 1,
   "metadata": {},
   "outputs": [
    {
     "name": "stdout",
     "output_type": "stream",
     "text": [
      "/usr/bin/sh: line 0: source: activate: file not found\r\n"
     ]
    }
   ],
   "source": [
    "!source activate py36"
   ]
  },
  {
   "cell_type": "code",
   "execution_count": 2,
   "metadata": {},
   "outputs": [],
   "source": [
    "import sys\n",
    "\n",
    "#sys.path.append('/home/faske/g/anaconda3/envs/py34/lib/python3.4/site-packages')\n",
    "sys.path.append('/data/gpfs/assoc/parchmanlab/tfaske/anaconda3/envs/py36/lib/python3.6/site-packages')\n",
    "sys.path.append(\"/data/gpfs/assoc/parchmanlab/tfaske/ipynb/include_utils\")\n",
    "\n",
    "import ipyparallel as ipp\n",
    "import os, time\n",
    "import include_utils as u\n",
    "import pandas as pd\n",
    "import numpy as np\n",
    "import scipy as sp\n",
    "import random\n",
    "import numbers\n",
    "import matplotlib.pyplot as plt\n",
    "import matplotlib.patches as mpatches\n",
    "import matplotlib.cm as cm\n",
    "import matplotlib.colors as mcolors\n",
    "#import vcf\n",
    "from sklearn import preprocessing\n",
    "from subprocess import Popen, PIPE, call, check_output\n",
    "import seaborn as sns\n",
    "from IPython.display import FileLink\n",
    "import urllib.request as urllib2\n",
    "import dill\n",
    "import traceback\n",
    "from pandas import Series, DataFrame\n",
    "import gzip\n",
    "import warnings\n",
    "warnings.filterwarnings('ignore',category=pd.io.pytables.PerformanceWarning)\n",
    "%config InlineBackend.figure_format = 'retina'\n",
    "from Bio import SeqIO\n",
    "#import pysam\n",
    "from collections import OrderedDict, namedtuple, Counter\n",
    "import operator\n",
    "import multiprocessing as mp\n",
    "import shutil\n",
    "import tempfile\n",
    "#from ipyparallel import Client\n",
    "import scandir\n",
    "import glob\n",
    "from Bio.SeqIO.QualityIO import FastqGeneralIterator\n",
    "import pickle\n",
    "import re\n",
    "from itertools import chain\n",
    "#import Levenshtein as lv"
   ]
  },
  {
   "cell_type": "code",
   "execution_count": 3,
   "metadata": {},
   "outputs": [],
   "source": [
    "vcfutils = \"vcfutils.pl\"\n",
    "vcftools = \"vcftools\"\n",
    "bcftools = \"bcftools\"\n",
    "bgzip = \"bgzip\"\n",
    "tabix = \"tabix\"\n",
    "java = \"java\"\n",
    "plink = \"plink --noweb\""
   ]
  },
  {
   "cell_type": "code",
   "execution_count": 4,
   "metadata": {},
   "outputs": [],
   "source": [
    "analysis_dir = \"/data/gpfs/assoc/denovo/tfaske/sagebrush/SNPcall/filtering\""
   ]
  },
  {
   "cell_type": "code",
   "execution_count": 5,
   "metadata": {},
   "outputs": [
    {
     "name": "stdout",
     "output_type": "stream",
     "text": [
      "/data/gpfs/assoc/denovo/tfaske/sagebrush/SNPcall/filtering\n"
     ]
    }
   ],
   "source": [
    "cd $analysis_dir"
   ]
  },
  {
   "cell_type": "code",
   "execution_count": 73,
   "metadata": {
    "scrolled": true
   },
   "outputs": [
    {
     "data": {
      "text/plain": [
       "'/data/gpfs/assoc/denovo/tfaske/sagebrush/SNPcall/filtering/ARTR_chr.vcf.gz'"
      ]
     },
     "execution_count": 73,
     "metadata": {},
     "output_type": "execute_result"
    }
   ],
   "source": [
    "vcf_file = os.path.join(analysis_dir, \"ARTR_chr.vcf.gz\")\n",
    "assert os.path.exists(vcf_file)\n",
    "vcf_file"
   ]
  },
  {
   "cell_type": "markdown",
   "metadata": {},
   "source": [
    "## keep only biallelic first"
   ]
  },
  {
   "cell_type": "code",
   "execution_count": 74,
   "metadata": {},
   "outputs": [
    {
     "name": "stdout",
     "output_type": "stream",
     "text": [
      "\n",
      "VCFtools - 0.1.16\n",
      "(C) Adam Auton and Anthony Marcketta 2009\n",
      "\n",
      "Parameters as interpreted:\n",
      "\t--gzvcf /data/gpfs/assoc/denovo/tfaske/sagebrush/SNPcall/filtering/ARTR_chr.vcf.gz\n",
      "\t--recode-INFO-all\n",
      "\t--max-alleles 2\n",
      "\t--min-alleles 2\n",
      "\t--out ARTR_chr.biallelic\n",
      "\t--recode\n",
      "\t--remove-filtered-all\n",
      "\t--remove-indels\n",
      "\n",
      "Using zlib version: 1.2.11\n",
      "Warning: Expected at least 2 parts in INFO entry: ID=PV4,Number=4,Type=Float,Description=\"P-values for strand bias, baseQ bias, mapQ bias and tail distance bias\">\n",
      "Warning: Expected at least 2 parts in INFO entry: ID=PV4,Number=4,Type=Float,Description=\"P-values for strand bias, baseQ bias, mapQ bias and tail distance bias\">\n",
      "Warning: Expected at least 2 parts in INFO entry: ID=DP4,Number=4,Type=Integer,Description=\"Number of high-quality ref-forward , ref-reverse, alt-forward and alt-reverse bases\">\n",
      "Warning: Expected at least 2 parts in INFO entry: ID=DP4,Number=4,Type=Integer,Description=\"Number of high-quality ref-forward , ref-reverse, alt-forward and alt-reverse bases\">\n",
      "After filtering, kept 708 out of 708 Individuals\n",
      "Outputting VCF file...\n",
      "After filtering, kept 2766918 out of a possible 2774609 Sites\n",
      "Run Time = 3749.00 seconds\n"
     ]
    }
   ],
   "source": [
    "!$vcftools --remove-indels \\\n",
    "--min-alleles 2 \\\n",
    "--max-alleles 2 \\\n",
    "--remove-filtered-all \\\n",
    "--recode \\\n",
    "--recode-INFO-all \\\n",
    "--gzvcf \\\n",
    "$vcf_file \\\n",
    "--out $'ARTR_chr.biallelic'"
   ]
  },
  {
   "cell_type": "code",
   "execution_count": 223,
   "metadata": {},
   "outputs": [
    {
     "data": {
      "text/plain": [
       "'/data/gpfs/assoc/denovo/tfaske/sagebrush/SNPcall/filtering/ARTR_chr.biallelic.recode.vcf.gz'"
      ]
     },
     "execution_count": 223,
     "metadata": {},
     "output_type": "execute_result"
    }
   ],
   "source": [
    "#already done\n",
    "#vcf_biallelic = \"ARTR_chr.biallelic.recode.vcf\" \n",
    "#vcf_biallelic_gz = \"%s.gz\" % vcf_biallelic\n",
    "#!$bgzip -c $vcf_biallelic > {vcf_biallelic_gz}\n",
    "#!$tabix {vcf_biallelic_gz}\n",
    "\n",
    "vcf_biallelic_gz = os.path.join(analysis_dir, \"ARTR_chr.biallelic.recode.vcf.gz\")\n",
    "assert os.path.exists(vcf_file)\n",
    "vcf_biallelic_gz"
   ]
  },
  {
   "cell_type": "markdown",
   "metadata": {},
   "source": [
    "## Remove by MAF, missing, and thin next"
   ]
  },
  {
   "cell_type": "code",
   "execution_count": 225,
   "metadata": {},
   "outputs": [
    {
     "name": "stdout",
     "output_type": "stream",
     "text": [
      "\n",
      "VCFtools - 0.1.16\n",
      "(C) Adam Auton and Anthony Marcketta 2009\n",
      "\n",
      "Parameters as interpreted:\n",
      "\t--gzvcf /data/gpfs/assoc/denovo/tfaske/sagebrush/SNPcall/filtering/ARTR_chr.biallelic.recode.vcf.gz\n",
      "\t--recode-INFO-all\n",
      "\t--maf 0.01\n",
      "\t--thin 100\n",
      "\t--max-missing 0.7\n",
      "\t--out ARTR_chr_miss70_thin100_MAF1\n",
      "\t--recode\n",
      "\t--remove-filtered-all\n",
      "\n",
      "Using zlib version: 1.2.11\n",
      "Warning: Expected at least 2 parts in INFO entry: ID=PV4,Number=4,Type=Float,Description=\"P-values for strand bias, baseQ bias, mapQ bias and tail distance bias\">\n",
      "Warning: Expected at least 2 parts in INFO entry: ID=PV4,Number=4,Type=Float,Description=\"P-values for strand bias, baseQ bias, mapQ bias and tail distance bias\">\n",
      "Warning: Expected at least 2 parts in INFO entry: ID=DP4,Number=4,Type=Integer,Description=\"Number of high-quality ref-forward , ref-reverse, alt-forward and alt-reverse bases\">\n",
      "Warning: Expected at least 2 parts in INFO entry: ID=DP4,Number=4,Type=Integer,Description=\"Number of high-quality ref-forward , ref-reverse, alt-forward and alt-reverse bases\">\n",
      "After filtering, kept 708 out of 708 Individuals\n",
      "Outputting VCF file...\n",
      "After filtering, kept 470121 out of a possible 2766918 Sites\n",
      "Run Time = 878.00 seconds\n"
     ]
    }
   ],
   "source": [
    "!$vcftools \\\n",
    "--max-missing 0.7 \\\n",
    "--maf 0.01 \\\n",
    "--thin 100 \\\n",
    "--remove-filtered-all \\\n",
    "--recode \\\n",
    "--recode-INFO-all \\\n",
    "--gzvcf \\\n",
    "$vcf_biallelic_gz \\\n",
    "--out $'ARTR_chr_miss70_thin100_MAF1'"
   ]
  },
  {
   "cell_type": "code",
   "execution_count": 31,
   "metadata": {},
   "outputs": [],
   "source": [
    "vcf_filtered = \"ARTR_chr_miss70_thin100_MAF1.recode.vcf\"\n",
    "vcf_filtered_gz = \"%s.gz\" % vcf_filtered"
   ]
  },
  {
   "cell_type": "code",
   "execution_count": 227,
   "metadata": {},
   "outputs": [],
   "source": [
    "!$bgzip -c $vcf_filtered > {vcf_filtered_gz}\n",
    "!$tabix {vcf_filtered_gz}"
   ]
  },
  {
   "cell_type": "markdown",
   "metadata": {},
   "source": [
    "# Calulate missing data and private alleles using vcfR\n"
   ]
  },
  {
   "cell_type": "code",
   "execution_count": 6,
   "metadata": {},
   "outputs": [],
   "source": [
    "%load_ext rpy2.ipython"
   ]
  },
  {
   "cell_type": "code",
   "execution_count": 7,
   "metadata": {},
   "outputs": [
    {
     "name": "stderr",
     "output_type": "stream",
     "text": [
      "R[write to console]: Loading required package: readr\n",
      "\n",
      "R[write to console]: Loading required package: MASS\n",
      "\n",
      "R[write to console]: Loading required package: ggplot2\n",
      "\n",
      "R[write to console]: \n",
      "   *****       ***   vcfR   ***       *****\n",
      "   This is vcfR 1.8.0 \n",
      "     browseVignettes('vcfR') # Documentation\n",
      "     citation('vcfR') # Citation\n",
      "   *****       *****      *****       *****\n",
      "\n",
      "\n"
     ]
    }
   ],
   "source": [
    "%%R\n",
    "require(readr)\n",
    "library(data.table)\n",
    "require(MASS)\n",
    "require(ggplot2)\n",
    "library(vcfR)\n",
    "\n",
    "source('/data/gpfs/home/tfaske/g/src/R/Imports.R')\n",
    "\n",
    "setwd('/data/gpfs/assoc/denovo/tfaske/sagebrush/SNPcall/filtering/')"
   ]
  },
  {
   "cell_type": "code",
   "execution_count": 8,
   "metadata": {},
   "outputs": [],
   "source": [
    "%%R\n",
    "vcf <- read.vcfR(\"ARTR_chr_miss70_thin100_MAF1.recode.vcf\", verbose = FALSE)\n",
    "\n",
    "#get positions\n",
    "chrom <- getCHROM(vcf)\n",
    "pos <- getPOS(vcf)\n",
    "pos_ID <- paste(chrom,pos,sep = ':')"
   ]
  },
  {
   "cell_type": "code",
   "execution_count": 12,
   "metadata": {},
   "outputs": [],
   "source": [
    "%%R\n",
    "#get pl \n",
    "dp <- extract.gt(vcf, element = 'DP')"
   ]
  },
  {
   "cell_type": "code",
   "execution_count": 13,
   "metadata": {},
   "outputs": [
    {
     "name": "stdout",
     "output_type": "stream",
     "text": [
      "[1] 470121\n",
      " [1] \"CM042338.1:22493\"  \"CM042338.1:59115\"  \"CM042338.1:97078\" \n",
      " [4] \"CM042338.1:106063\" \"CM042338.1:126072\" \"CM042338.1:128439\"\n",
      " [7] \"CM042338.1:129199\" \"CM042338.1:129763\" \"CM042338.1:130233\"\n",
      "[10] \"CM042338.1:169173\"\n",
      "                  AT2_BB_10 AT2_BB_11 AT2_BB_12 AT2_BB_13 AT2_BB_14\n",
      "CM042338.1_22493  \"0\"       \"0\"       \"0\"       \"0\"       \"0\"      \n",
      "CM042338.1_59115  \"3\"       \"0\"       \"0\"       \"0\"       \"0\"      \n",
      "CM042338.1_97078  \"0\"       \"0\"       \"0\"       \"0\"       \"0\"      \n",
      "CM042338.1_106063 \"0\"       \"0\"       \"0\"       \"0\"       \"0\"      \n",
      "CM042338.1_126072 \"2\"       \"0\"       \"2\"       \"1\"       \"4\"      \n"
     ]
    }
   ],
   "source": [
    "%%R\n",
    "## check out PL and pos_ID\n",
    "print(length(pos_ID))\n",
    "print(pos_ID[1:10])\n",
    "dp[1:5,1:5]"
   ]
  },
  {
   "cell_type": "code",
   "execution_count": 14,
   "metadata": {},
   "outputs": [
    {
     "name": "stdout",
     "output_type": "stream",
     "text": [
      " chr [1:5, 1:5] \"0\" \"3\" \"0\" \"0\" \"2\" \"0\" \"0\" \"0\" \"0\" \"0\" \"0\" \"0\" \"0\" \"0\" \"2\" ...\n",
      " - attr(*, \"dimnames\")=List of 2\n",
      "  ..$ : chr [1:5] \"CM042338.1_22493\" \"CM042338.1_59115\" \"CM042338.1_97078\" \"CM042338.1_106063\" ...\n",
      "  ..$ : chr [1:5] \"AT2_BB_10\" \"AT2_BB_11\" \"AT2_BB_12\" \"AT2_BB_13\" ...\n"
     ]
    }
   ],
   "source": [
    "%%R\n",
    "str(dp[1:5,1:5])"
   ]
  },
  {
   "cell_type": "code",
   "execution_count": null,
   "metadata": {},
   "outputs": [],
   "source": [
    "%%R\n",
    "pl_sum <- apply(pl,1:2, function(GP) sum(as.numeric(unlist(strsplit(as.character(GP),split = ',')))))"
   ]
  },
  {
   "cell_type": "markdown",
   "metadata": {},
   "source": [
    "#### Calculate missing loci and individual"
   ]
  },
  {
   "cell_type": "code",
   "execution_count": 15,
   "metadata": {},
   "outputs": [
    {
     "name": "stdout",
     "output_type": "stream",
     "text": [
      "[1] 708\n",
      "[1] 470121\n"
     ]
    }
   ],
   "source": [
    "%%R\n",
    "nloci <- ncol(dp)\n",
    "nindv <- nrow(dp)\n",
    "print(nloci)\n",
    "print(nindv)"
   ]
  },
  {
   "cell_type": "code",
   "execution_count": null,
   "metadata": {},
   "outputs": [],
   "source": [
    "%%R\n"
   ]
  },
  {
   "cell_type": "code",
   "execution_count": 24,
   "metadata": {},
   "outputs": [
    {
     "name": "stdout",
     "output_type": "stream",
     "text": [
      "    Min.  1st Qu.   Median     Mean  3rd Qu.     Max. \n",
      "0.001412 0.980226 0.998588 0.908238 0.998588 0.998588 \n"
     ]
    }
   ],
   "source": [
    "%%R\n",
    "miss_loci <- apply(dp,1, function(d) length(which(d == \"0\"))/nloci)\n",
    "#miss_loci <- apply(dp[,1:100],1, function(d) (length(which(d == \"0\"))/100))\n",
    "print(summary(miss_loci))"
   ]
  },
  {
   "cell_type": "code",
   "execution_count": 27,
   "metadata": {},
   "outputs": [
    {
     "name": "stdout",
     "output_type": "stream",
     "text": [
      "[1] 15690\n",
      "[1] 24759\n",
      "[1] 35149\n",
      "[1] 46854\n",
      "[1] 60896\n"
     ]
    }
   ],
   "source": [
    "%%R\n",
    "print(length(which(miss_loci <= .30)))\n",
    "print(length(which(miss_loci <= .40)))\n",
    "print(length(which(miss_loci <= .50)))\n",
    "print(length(which(miss_loci <= .60)))\n",
    "print(length(which(miss_loci <= .70)))"
   ]
  },
  {
   "cell_type": "code",
   "execution_count": 29,
   "metadata": {},
   "outputs": [],
   "source": [
    "%%R\n",
    "keep_miss <- pos_ID[which(miss_loci <= .60)]\n",
    "length(keep_miss)"
   ]
  },
  {
   "cell_type": "code",
   "execution_count": 35,
   "metadata": {},
   "outputs": [
    {
     "name": "stdout",
     "output_type": "stream",
     "text": [
      "                        chrom     pos\n",
      "CM042338.1:126072  CM042338.1  126072\n",
      "CM042338.1:1342981 CM042338.1 1342981\n",
      "CM042338.1:1496841 CM042338.1 1496841\n",
      "CM042338.1:1744262 CM042338.1 1744262\n",
      "CM042338.1:1942811 CM042338.1 1942811\n",
      "CM042338.1:2385838 CM042338.1 2385838\n"
     ]
    }
   ],
   "source": [
    "%%R\n",
    "keep_miss60_df <- data.frame(chrom=sapply(keep_miss,function(s) unlist(strsplit(as.character(s),':'))[1]),\n",
    "                             pos=sapply(keep_miss,function(s) unlist(strsplit(as.character(s),':'))[2]))\n",
    "print(head(keep_miss60_df))    \n",
    "write.table(keep_miss60_df,'keep_miss60.txt',quote=F,row.names=F,col.names=F,sep='\\t')"
   ]
  },
  {
   "cell_type": "code",
   "execution_count": 36,
   "metadata": {},
   "outputs": [
    {
     "name": "stdout",
     "output_type": "stream",
     "text": [
      "CM042338.1\t126072\r\n",
      "CM042338.1\t1342981\r\n",
      "CM042338.1\t1496841\r\n",
      "CM042338.1\t1744262\r\n",
      "CM042338.1\t1942811\r\n",
      "CM042338.1\t2385838\r\n",
      "CM042338.1\t3792582\r\n",
      "CM042338.1\t4255378\r\n",
      "CM042338.1\t5373930\r\n",
      "CM042338.1\t6087026\r\n"
     ]
    }
   ],
   "source": [
    "!head keep_miss60.txt"
   ]
  },
  {
   "cell_type": "code",
   "execution_count": 37,
   "metadata": {},
   "outputs": [
    {
     "name": "stdout",
     "output_type": "stream",
     "text": [
      "\n",
      "VCFtools - 0.1.16\n",
      "(C) Adam Auton and Anthony Marcketta 2009\n",
      "\n",
      "Parameters as interpreted:\n",
      "\t--gzvcf ARTR_chr_miss70_thin100_MAF1.recode.vcf.gz\n",
      "\t--recode-INFO-all\n",
      "\t--out /data/gpfs/assoc/denovo/tfaske/sagebrush/SNPcall/filtering/ARTR_chr_miss60_thin100_MAF1\n",
      "\t--positions /data/gpfs/assoc/denovo/tfaske/sagebrush/SNPcall/filtering/keep_miss60.txt\n",
      "\t--recode\n",
      "\t--remove-filtered-all\n",
      "\n",
      "Using zlib version: 1.2.11\n",
      "Warning: Expected at least 2 parts in INFO entry: ID=PV4,Number=4,Type=Float,Description=\"P-values for strand bias, baseQ bias, mapQ bias and tail distance bias\">\n",
      "Warning: Expected at least 2 parts in INFO entry: ID=PV4,Number=4,Type=Float,Description=\"P-values for strand bias, baseQ bias, mapQ bias and tail distance bias\">\n",
      "Warning: Expected at least 2 parts in INFO entry: ID=DP4,Number=4,Type=Integer,Description=\"Number of high-quality ref-forward , ref-reverse, alt-forward and alt-reverse bases\">\n",
      "Warning: Expected at least 2 parts in INFO entry: ID=DP4,Number=4,Type=Integer,Description=\"Number of high-quality ref-forward , ref-reverse, alt-forward and alt-reverse bases\">\n",
      "After filtering, kept 708 out of 708 Individuals\n",
      "Outputting VCF file...\n",
      "After filtering, kept 46854 out of a possible 470121 Sites\n",
      "Run Time = 76.00 seconds\n"
     ]
    }
   ],
   "source": [
    "!$vcftools --gzvcf $vcf_filtered_gz \\\n",
    "--remove-filtered-all \\\n",
    "--recode \\\n",
    "--recode-INFO-all \\\n",
    "--positions {os.path.join(analysis_dir, \"keep_miss60.txt\")} \\\n",
    "--out {os.path.join(analysis_dir, \"ARTR_chr_miss60_thin100_MAF1\")}"
   ]
  },
  {
   "cell_type": "code",
   "execution_count": 38,
   "metadata": {},
   "outputs": [],
   "source": [
    "vcf_filtered = \"ARTR_chr_miss60_thin100_MAF1.recode.vcf\"\n",
    "vcf_filtered_gz = \"%s.gz\" % vcf_filtered\n",
    "!$bgzip -c $vcf_filtered > {vcf_filtered_gz}\n",
    "!$tabix {vcf_filtered_gz}"
   ]
  },
  {
   "cell_type": "markdown",
   "metadata": {},
   "source": [
    "# Remove bad_indv\n",
    "\n",
    "by do it by mean_depth cause no missing data "
   ]
  },
  {
   "cell_type": "code",
   "execution_count": 40,
   "metadata": {
    "scrolled": true
   },
   "outputs": [
    {
     "name": "stdout",
     "output_type": "stream",
     "text": [
      "\n",
      "VCFtools - 0.1.16\n",
      "(C) Adam Auton and Anthony Marcketta 2009\n",
      "\n",
      "Parameters as interpreted:\n",
      "\t--gzvcf ARTR_chr_miss60_thin100_MAF1.recode.vcf.gz\n",
      "\t--depth\n",
      "\t--out ARTR_chr_miss60_thin100_MAF1.recode.vcf.gz\n",
      "\n",
      "Using zlib version: 1.2.11\n",
      "Warning: Expected at least 2 parts in INFO entry: ID=PV4,Number=4,Type=Float,Description=\"P-values for strand bias, baseQ bias, mapQ bias and tail distance bias\">\n",
      "Warning: Expected at least 2 parts in INFO entry: ID=PV4,Number=4,Type=Float,Description=\"P-values for strand bias, baseQ bias, mapQ bias and tail distance bias\">\n",
      "Warning: Expected at least 2 parts in INFO entry: ID=DP4,Number=4,Type=Integer,Description=\"Number of high-quality ref-forward , ref-reverse, alt-forward and alt-reverse bases\">\n",
      "Warning: Expected at least 2 parts in INFO entry: ID=DP4,Number=4,Type=Integer,Description=\"Number of high-quality ref-forward , ref-reverse, alt-forward and alt-reverse bases\">\n",
      "After filtering, kept 708 out of 708 Individuals\n",
      "Outputting Mean Depth by Individual\n",
      "After filtering, kept 46854 out of a possible 46854 Sites\n",
      "Run Time = 6.00 seconds\n"
     ]
    }
   ],
   "source": [
    "!$vcftools --gzvcf {vcf_filtered_gz} \\\n",
    "--out {vcf_filtered_gz} \\\n",
    "--depth"
   ]
  },
  {
   "cell_type": "code",
   "execution_count": 41,
   "metadata": {},
   "outputs": [
    {
     "data": {
      "text/html": [
       "<div>\n",
       "<style scoped>\n",
       "    .dataframe tbody tr th:only-of-type {\n",
       "        vertical-align: middle;\n",
       "    }\n",
       "\n",
       "    .dataframe tbody tr th {\n",
       "        vertical-align: top;\n",
       "    }\n",
       "\n",
       "    .dataframe thead th {\n",
       "        text-align: right;\n",
       "    }\n",
       "</style>\n",
       "<table border=\"1\" class=\"dataframe\">\n",
       "  <thead>\n",
       "    <tr style=\"text-align: right;\">\n",
       "      <th></th>\n",
       "      <th>INDV</th>\n",
       "      <th>N_SITES</th>\n",
       "      <th>MEAN_DEPTH</th>\n",
       "    </tr>\n",
       "  </thead>\n",
       "  <tbody>\n",
       "    <tr>\n",
       "      <th>0</th>\n",
       "      <td>AT2_BB_10</td>\n",
       "      <td>46854</td>\n",
       "      <td>2.67627</td>\n",
       "    </tr>\n",
       "    <tr>\n",
       "      <th>1</th>\n",
       "      <td>AT2_BB_11</td>\n",
       "      <td>46854</td>\n",
       "      <td>1.75917</td>\n",
       "    </tr>\n",
       "    <tr>\n",
       "      <th>2</th>\n",
       "      <td>AT2_BB_12</td>\n",
       "      <td>46854</td>\n",
       "      <td>1.50275</td>\n",
       "    </tr>\n",
       "    <tr>\n",
       "      <th>3</th>\n",
       "      <td>AT2_BB_13</td>\n",
       "      <td>46854</td>\n",
       "      <td>2.21315</td>\n",
       "    </tr>\n",
       "    <tr>\n",
       "      <th>4</th>\n",
       "      <td>AT2_BB_14</td>\n",
       "      <td>46854</td>\n",
       "      <td>3.08396</td>\n",
       "    </tr>\n",
       "  </tbody>\n",
       "</table>\n",
       "</div>"
      ],
      "text/plain": [
       "        INDV  N_SITES  MEAN_DEPTH\n",
       "0  AT2_BB_10    46854     2.67627\n",
       "1  AT2_BB_11    46854     1.75917\n",
       "2  AT2_BB_12    46854     1.50275\n",
       "3  AT2_BB_13    46854     2.21315\n",
       "4  AT2_BB_14    46854     3.08396"
      ]
     },
     "execution_count": 41,
     "metadata": {},
     "output_type": "execute_result"
    }
   ],
   "source": [
    "depth_file = vcf_filtered_gz + \".idepth\"\n",
    "depth_df = pd.read_csv(depth_file, sep=\"\\t\")\n",
    "depth_df.head()"
   ]
  },
  {
   "cell_type": "code",
   "execution_count": 42,
   "metadata": {
    "scrolled": false
   },
   "outputs": [
    {
     "data": {
      "text/plain": [
       "count    708.000000\n",
       "mean       2.050820\n",
       "std        0.758901\n",
       "min        0.004781\n",
       "25%        1.546605\n",
       "50%        1.983460\n",
       "75%        2.606032\n",
       "max        4.326910\n",
       "Name: MEAN_DEPTH, dtype: float64"
      ]
     },
     "execution_count": 42,
     "metadata": {},
     "output_type": "execute_result"
    }
   ],
   "source": [
    "depth_df.MEAN_DEPTH.describe()"
   ]
  },
  {
   "cell_type": "code",
   "execution_count": 43,
   "metadata": {},
   "outputs": [
    {
     "data": {
      "text/plain": [
       "(708, 6, 10, 12)"
      ]
     },
     "execution_count": 43,
     "metadata": {},
     "output_type": "execute_result"
    }
   ],
   "source": [
    "len(depth_df),len(depth_df[depth_df.MEAN_DEPTH <= .05]),len(depth_df[depth_df.MEAN_DEPTH <= .1]), len(depth_df[depth_df.MEAN_DEPTH <= .15])\n"
   ]
  },
  {
   "cell_type": "code",
   "execution_count": 44,
   "metadata": {},
   "outputs": [],
   "source": [
    "bad_indv = depth_df.INDV[depth_df.MEAN_DEPTH <= .1]"
   ]
  },
  {
   "cell_type": "code",
   "execution_count": 45,
   "metadata": {},
   "outputs": [],
   "source": [
    "with open(os.path.join(analysis_dir, \"bad_indv.txt\"), \"w\") as o:\n",
    "    o.write(\"INDV\\n\")\n",
    "    for elem in bad_indv:\n",
    "        o.write(\"%s\\n\" % elem)"
   ]
  },
  {
   "cell_type": "code",
   "execution_count": 46,
   "metadata": {},
   "outputs": [
    {
     "name": "stdout",
     "output_type": "stream",
     "text": [
      "INDV\r\n",
      "AT2_LN_97\r\n",
      "AT2_OC_1\r\n",
      "AT2_SS_9\r\n",
      "AT4_DS_9\r\n",
      "AV2_TF_149\r\n",
      "AV4_EW_5\r\n",
      "AW4_FR_4\r\n",
      "AW4_GB_3\r\n",
      "AW4_JC_2\r\n",
      "AW4_MK_232\r\n"
     ]
    }
   ],
   "source": [
    "!cat bad_indv.txt"
   ]
  },
  {
   "cell_type": "code",
   "execution_count": 47,
   "metadata": {},
   "outputs": [
    {
     "name": "stdout",
     "output_type": "stream",
     "text": [
      "\n",
      "VCFtools - 0.1.16\n",
      "(C) Adam Auton and Anthony Marcketta 2009\n",
      "\n",
      "Parameters as interpreted:\n",
      "\t--gzvcf ARTR_chr_miss60_thin100_MAF1.recode.vcf.gz\n",
      "\t--remove /data/gpfs/assoc/denovo/tfaske/sagebrush/SNPcall/filtering/bad_indv.txt\n",
      "\t--recode-INFO-all\n",
      "\t--out /data/gpfs/assoc/denovo/tfaske/sagebrush/SNPcall/filtering/snps_indv_removed\n",
      "\t--recode\n",
      "\t--remove-filtered-all\n",
      "\t--remove-indels\n",
      "\n",
      "Using zlib version: 1.2.11\n",
      "Warning: Expected at least 2 parts in INFO entry: ID=PV4,Number=4,Type=Float,Description=\"P-values for strand bias, baseQ bias, mapQ bias and tail distance bias\">\n",
      "Warning: Expected at least 2 parts in INFO entry: ID=PV4,Number=4,Type=Float,Description=\"P-values for strand bias, baseQ bias, mapQ bias and tail distance bias\">\n",
      "Warning: Expected at least 2 parts in INFO entry: ID=DP4,Number=4,Type=Integer,Description=\"Number of high-quality ref-forward , ref-reverse, alt-forward and alt-reverse bases\">\n",
      "Warning: Expected at least 2 parts in INFO entry: ID=DP4,Number=4,Type=Integer,Description=\"Number of high-quality ref-forward , ref-reverse, alt-forward and alt-reverse bases\">\n",
      "Excluding individuals in 'exclude' list\n",
      "After filtering, kept 698 out of 708 Individuals\n",
      "Outputting VCF file...\n",
      "After filtering, kept 46854 out of a possible 46854 Sites\n",
      "Run Time = 65.00 seconds\n"
     ]
    }
   ],
   "source": [
    "!$vcftools --gzvcf $vcf_filtered_gz \\\n",
    "--remove-indels  \\\n",
    "--remove-filtered-all \\\n",
    "--recode \\\n",
    "--recode-INFO-all \\\n",
    "--remove {os.path.join(analysis_dir, \"bad_indv.txt\")} \\\n",
    "--out {os.path.join(analysis_dir, \"snps_indv_removed\")}"
   ]
  },
  {
   "cell_type": "code",
   "execution_count": 48,
   "metadata": {},
   "outputs": [],
   "source": [
    "vcf_bad_remove = os.path.join(analysis_dir, \"snps_indv_removed.recode.vcf\")\n",
    "vcf_bad_remove_gz = vcf_bad_remove + \".gz\"\n",
    "!$bgzip -c {vcf_bad_remove} > {vcf_bad_remove_gz}\n",
    "!$tabix {vcf_bad_remove_gz}"
   ]
  },
  {
   "cell_type": "markdown",
   "metadata": {},
   "source": [
    "# Filter snps further \n",
    "this needs to be done after removing individuals\n"
   ]
  },
  {
   "cell_type": "code",
   "execution_count": 49,
   "metadata": {},
   "outputs": [],
   "source": [
    "def get_vcf_stats(vcf_gz):\n",
    "    \n",
    "    stats = ['depth',\n",
    "            'site-depth',\n",
    "            'site-mean-depth',\n",
    "            'site-quality',\n",
    "            'missing-site',\n",
    "            'freq',\n",
    "            'counts',\n",
    "            'hardy',\n",
    "            'het']\n",
    "    \n",
    "    for stat in stats:\n",
    "        !$vcftools --gzvcf $vcf_gz \\\n",
    "        --out $vcf_gz \\\n",
    "        {\"--%s\" % stat} "
   ]
  },
  {
   "cell_type": "code",
   "execution_count": 50,
   "metadata": {},
   "outputs": [
    {
     "name": "stdout",
     "output_type": "stream",
     "text": [
      "\n",
      "VCFtools - 0.1.16\n",
      "(C) Adam Auton and Anthony Marcketta 2009\n",
      "\n",
      "Parameters as interpreted:\n",
      "\t--gzvcf /data/gpfs/assoc/denovo/tfaske/sagebrush/SNPcall/filtering/snps_indv_removed.recode.vcf.gz\n",
      "\t--depth\n",
      "\t--out /data/gpfs/assoc/denovo/tfaske/sagebrush/SNPcall/filtering/snps_indv_removed.recode.vcf.gz\n",
      "\n",
      "Using zlib version: 1.2.11\n",
      "Warning: Expected at least 2 parts in INFO entry: ID=PV4,Number=4,Type=Float,Description=\"P-values for strand bias, baseQ bias, mapQ bias and tail distance bias\">\n",
      "Warning: Expected at least 2 parts in INFO entry: ID=PV4,Number=4,Type=Float,Description=\"P-values for strand bias, baseQ bias, mapQ bias and tail distance bias\">\n",
      "Warning: Expected at least 2 parts in INFO entry: ID=DP4,Number=4,Type=Integer,Description=\"Number of high-quality ref-forward , ref-reverse, alt-forward and alt-reverse bases\">\n",
      "Warning: Expected at least 2 parts in INFO entry: ID=DP4,Number=4,Type=Integer,Description=\"Number of high-quality ref-forward , ref-reverse, alt-forward and alt-reverse bases\">\n",
      "After filtering, kept 698 out of 698 Individuals\n",
      "Outputting Mean Depth by Individual\n",
      "After filtering, kept 46854 out of a possible 46854 Sites\n",
      "Run Time = 6.00 seconds\n",
      "\n",
      "VCFtools - 0.1.16\n",
      "(C) Adam Auton and Anthony Marcketta 2009\n",
      "\n",
      "Parameters as interpreted:\n",
      "\t--gzvcf /data/gpfs/assoc/denovo/tfaske/sagebrush/SNPcall/filtering/snps_indv_removed.recode.vcf.gz\n",
      "\t--out /data/gpfs/assoc/denovo/tfaske/sagebrush/SNPcall/filtering/snps_indv_removed.recode.vcf.gz\n",
      "\t--site-depth\n",
      "\n",
      "Using zlib version: 1.2.11\n",
      "Warning: Expected at least 2 parts in INFO entry: ID=PV4,Number=4,Type=Float,Description=\"P-values for strand bias, baseQ bias, mapQ bias and tail distance bias\">\n",
      "Warning: Expected at least 2 parts in INFO entry: ID=PV4,Number=4,Type=Float,Description=\"P-values for strand bias, baseQ bias, mapQ bias and tail distance bias\">\n",
      "Warning: Expected at least 2 parts in INFO entry: ID=DP4,Number=4,Type=Integer,Description=\"Number of high-quality ref-forward , ref-reverse, alt-forward and alt-reverse bases\">\n",
      "Warning: Expected at least 2 parts in INFO entry: ID=DP4,Number=4,Type=Integer,Description=\"Number of high-quality ref-forward , ref-reverse, alt-forward and alt-reverse bases\">\n",
      "After filtering, kept 698 out of 698 Individuals\n",
      "Outputting Depth for Each Site\n",
      "After filtering, kept 46854 out of a possible 46854 Sites\n",
      "Run Time = 6.00 seconds\n",
      "\n",
      "VCFtools - 0.1.16\n",
      "(C) Adam Auton and Anthony Marcketta 2009\n",
      "\n",
      "Parameters as interpreted:\n",
      "\t--gzvcf /data/gpfs/assoc/denovo/tfaske/sagebrush/SNPcall/filtering/snps_indv_removed.recode.vcf.gz\n",
      "\t--out /data/gpfs/assoc/denovo/tfaske/sagebrush/SNPcall/filtering/snps_indv_removed.recode.vcf.gz\n",
      "\t--site-mean-depth\n",
      "\n",
      "Using zlib version: 1.2.11\n",
      "Warning: Expected at least 2 parts in INFO entry: ID=PV4,Number=4,Type=Float,Description=\"P-values for strand bias, baseQ bias, mapQ bias and tail distance bias\">\n",
      "Warning: Expected at least 2 parts in INFO entry: ID=PV4,Number=4,Type=Float,Description=\"P-values for strand bias, baseQ bias, mapQ bias and tail distance bias\">\n",
      "Warning: Expected at least 2 parts in INFO entry: ID=DP4,Number=4,Type=Integer,Description=\"Number of high-quality ref-forward , ref-reverse, alt-forward and alt-reverse bases\">\n",
      "Warning: Expected at least 2 parts in INFO entry: ID=DP4,Number=4,Type=Integer,Description=\"Number of high-quality ref-forward , ref-reverse, alt-forward and alt-reverse bases\">\n",
      "After filtering, kept 698 out of 698 Individuals\n",
      "Outputting Depth for Each Site\n",
      "After filtering, kept 46854 out of a possible 46854 Sites\n",
      "Run Time = 6.00 seconds\n",
      "\n",
      "VCFtools - 0.1.16\n",
      "(C) Adam Auton and Anthony Marcketta 2009\n",
      "\n",
      "Parameters as interpreted:\n",
      "\t--gzvcf /data/gpfs/assoc/denovo/tfaske/sagebrush/SNPcall/filtering/snps_indv_removed.recode.vcf.gz\n",
      "\t--out /data/gpfs/assoc/denovo/tfaske/sagebrush/SNPcall/filtering/snps_indv_removed.recode.vcf.gz\n",
      "\t--site-quality\n",
      "\n",
      "Using zlib version: 1.2.11\n",
      "Warning: Expected at least 2 parts in INFO entry: ID=PV4,Number=4,Type=Float,Description=\"P-values for strand bias, baseQ bias, mapQ bias and tail distance bias\">\n",
      "Warning: Expected at least 2 parts in INFO entry: ID=PV4,Number=4,Type=Float,Description=\"P-values for strand bias, baseQ bias, mapQ bias and tail distance bias\">\n",
      "Warning: Expected at least 2 parts in INFO entry: ID=DP4,Number=4,Type=Integer,Description=\"Number of high-quality ref-forward , ref-reverse, alt-forward and alt-reverse bases\">\n",
      "Warning: Expected at least 2 parts in INFO entry: ID=DP4,Number=4,Type=Integer,Description=\"Number of high-quality ref-forward , ref-reverse, alt-forward and alt-reverse bases\">\n",
      "After filtering, kept 698 out of 698 Individuals\n",
      "Outputting Quality for Each Site\n",
      "After filtering, kept 46854 out of a possible 46854 Sites\n",
      "Run Time = 2.00 seconds\n",
      "\n",
      "VCFtools - 0.1.16\n",
      "(C) Adam Auton and Anthony Marcketta 2009\n",
      "\n",
      "Parameters as interpreted:\n",
      "\t--gzvcf /data/gpfs/assoc/denovo/tfaske/sagebrush/SNPcall/filtering/snps_indv_removed.recode.vcf.gz\n",
      "\t--out /data/gpfs/assoc/denovo/tfaske/sagebrush/SNPcall/filtering/snps_indv_removed.recode.vcf.gz\n",
      "\t--missing-site\n",
      "\n",
      "Using zlib version: 1.2.11\n",
      "Warning: Expected at least 2 parts in INFO entry: ID=PV4,Number=4,Type=Float,Description=\"P-values for strand bias, baseQ bias, mapQ bias and tail distance bias\">\n",
      "Warning: Expected at least 2 parts in INFO entry: ID=PV4,Number=4,Type=Float,Description=\"P-values for strand bias, baseQ bias, mapQ bias and tail distance bias\">\n",
      "Warning: Expected at least 2 parts in INFO entry: ID=DP4,Number=4,Type=Integer,Description=\"Number of high-quality ref-forward , ref-reverse, alt-forward and alt-reverse bases\">\n",
      "Warning: Expected at least 2 parts in INFO entry: ID=DP4,Number=4,Type=Integer,Description=\"Number of high-quality ref-forward , ref-reverse, alt-forward and alt-reverse bases\">\n",
      "After filtering, kept 698 out of 698 Individuals\n",
      "Outputting Site Missingness\n",
      "After filtering, kept 46854 out of a possible 46854 Sites\n",
      "Run Time = 6.00 seconds\n",
      "\n",
      "VCFtools - 0.1.16\n",
      "(C) Adam Auton and Anthony Marcketta 2009\n",
      "\n",
      "Parameters as interpreted:\n",
      "\t--gzvcf /data/gpfs/assoc/denovo/tfaske/sagebrush/SNPcall/filtering/snps_indv_removed.recode.vcf.gz\n",
      "\t--freq\n",
      "\t--out /data/gpfs/assoc/denovo/tfaske/sagebrush/SNPcall/filtering/snps_indv_removed.recode.vcf.gz\n",
      "\n",
      "Using zlib version: 1.2.11\n",
      "Warning: Expected at least 2 parts in INFO entry: ID=PV4,Number=4,Type=Float,Description=\"P-values for strand bias, baseQ bias, mapQ bias and tail distance bias\">\n",
      "Warning: Expected at least 2 parts in INFO entry: ID=PV4,Number=4,Type=Float,Description=\"P-values for strand bias, baseQ bias, mapQ bias and tail distance bias\">\n",
      "Warning: Expected at least 2 parts in INFO entry: ID=DP4,Number=4,Type=Integer,Description=\"Number of high-quality ref-forward , ref-reverse, alt-forward and alt-reverse bases\">\n",
      "Warning: Expected at least 2 parts in INFO entry: ID=DP4,Number=4,Type=Integer,Description=\"Number of high-quality ref-forward , ref-reverse, alt-forward and alt-reverse bases\">\n",
      "After filtering, kept 698 out of 698 Individuals\n",
      "Outputting Frequency Statistics...\n",
      "After filtering, kept 46854 out of a possible 46854 Sites\n",
      "Run Time = 6.00 seconds\n",
      "\n",
      "VCFtools - 0.1.16\n",
      "(C) Adam Auton and Anthony Marcketta 2009\n",
      "\n",
      "Parameters as interpreted:\n",
      "\t--gzvcf /data/gpfs/assoc/denovo/tfaske/sagebrush/SNPcall/filtering/snps_indv_removed.recode.vcf.gz\n",
      "\t--counts\n",
      "\t--out /data/gpfs/assoc/denovo/tfaske/sagebrush/SNPcall/filtering/snps_indv_removed.recode.vcf.gz\n",
      "\n",
      "Using zlib version: 1.2.11\n",
      "Warning: Expected at least 2 parts in INFO entry: ID=PV4,Number=4,Type=Float,Description=\"P-values for strand bias, baseQ bias, mapQ bias and tail distance bias\">\n",
      "Warning: Expected at least 2 parts in INFO entry: ID=PV4,Number=4,Type=Float,Description=\"P-values for strand bias, baseQ bias, mapQ bias and tail distance bias\">\n",
      "Warning: Expected at least 2 parts in INFO entry: ID=DP4,Number=4,Type=Integer,Description=\"Number of high-quality ref-forward , ref-reverse, alt-forward and alt-reverse bases\">\n",
      "Warning: Expected at least 2 parts in INFO entry: ID=DP4,Number=4,Type=Integer,Description=\"Number of high-quality ref-forward , ref-reverse, alt-forward and alt-reverse bases\">\n",
      "After filtering, kept 698 out of 698 Individuals\n",
      "Outputting Frequency Statistics...\n",
      "After filtering, kept 46854 out of a possible 46854 Sites\n",
      "Run Time = 5.00 seconds\n"
     ]
    },
    {
     "name": "stdout",
     "output_type": "stream",
     "text": [
      "\n",
      "VCFtools - 0.1.16\n",
      "(C) Adam Auton and Anthony Marcketta 2009\n",
      "\n",
      "Parameters as interpreted:\n",
      "\t--gzvcf /data/gpfs/assoc/denovo/tfaske/sagebrush/SNPcall/filtering/snps_indv_removed.recode.vcf.gz\n",
      "\t--hardy\n",
      "\t--out /data/gpfs/assoc/denovo/tfaske/sagebrush/SNPcall/filtering/snps_indv_removed.recode.vcf.gz\n",
      "\n",
      "Using zlib version: 1.2.11\n",
      "Warning: Expected at least 2 parts in INFO entry: ID=PV4,Number=4,Type=Float,Description=\"P-values for strand bias, baseQ bias, mapQ bias and tail distance bias\">\n",
      "Warning: Expected at least 2 parts in INFO entry: ID=PV4,Number=4,Type=Float,Description=\"P-values for strand bias, baseQ bias, mapQ bias and tail distance bias\">\n",
      "Warning: Expected at least 2 parts in INFO entry: ID=DP4,Number=4,Type=Integer,Description=\"Number of high-quality ref-forward , ref-reverse, alt-forward and alt-reverse bases\">\n",
      "Warning: Expected at least 2 parts in INFO entry: ID=DP4,Number=4,Type=Integer,Description=\"Number of high-quality ref-forward , ref-reverse, alt-forward and alt-reverse bases\">\n",
      "After filtering, kept 698 out of 698 Individuals\n",
      "Outputting HWE statistics (but only for biallelic loci)\n",
      "After filtering, kept 46854 out of a possible 46854 Sites\n",
      "Run Time = 7.00 seconds\n",
      "\n",
      "VCFtools - 0.1.16\n",
      "(C) Adam Auton and Anthony Marcketta 2009\n",
      "\n",
      "Parameters as interpreted:\n",
      "\t--gzvcf /data/gpfs/assoc/denovo/tfaske/sagebrush/SNPcall/filtering/snps_indv_removed.recode.vcf.gz\n",
      "\t--het\n",
      "\t--out /data/gpfs/assoc/denovo/tfaske/sagebrush/SNPcall/filtering/snps_indv_removed.recode.vcf.gz\n",
      "\n",
      "Using zlib version: 1.2.11\n",
      "Warning: Expected at least 2 parts in INFO entry: ID=PV4,Number=4,Type=Float,Description=\"P-values for strand bias, baseQ bias, mapQ bias and tail distance bias\">\n",
      "Warning: Expected at least 2 parts in INFO entry: ID=PV4,Number=4,Type=Float,Description=\"P-values for strand bias, baseQ bias, mapQ bias and tail distance bias\">\n",
      "Warning: Expected at least 2 parts in INFO entry: ID=DP4,Number=4,Type=Integer,Description=\"Number of high-quality ref-forward , ref-reverse, alt-forward and alt-reverse bases\">\n",
      "Warning: Expected at least 2 parts in INFO entry: ID=DP4,Number=4,Type=Integer,Description=\"Number of high-quality ref-forward , ref-reverse, alt-forward and alt-reverse bases\">\n",
      "After filtering, kept 698 out of 698 Individuals\n",
      "Outputting Individual Heterozygosity\n",
      "After filtering, kept 46854 out of a possible 46854 Sites\n",
      "Run Time = 5.00 seconds\n"
     ]
    }
   ],
   "source": [
    "get_vcf_stats(vcf_bad_remove_gz)"
   ]
  },
  {
   "cell_type": "code",
   "execution_count": 51,
   "metadata": {},
   "outputs": [],
   "source": [
    "#pd.set_option('display.max_columns', 100)\n",
    "\n",
    "def get_MAF(row):\n",
    "    try:\n",
    "        return np.min([row.A1_freq, row.A2_freq])\n",
    "    except:\n",
    "        print(row)\n",
    "        \n",
    "def get_correction(n):\n",
    "    #for finite sample size\n",
    "    return (2*n)/(2*n-1)\n",
    "\n",
    "def calculate_Fis(vals):\n",
    "    try:\n",
    "        data = [float(x) for x in vals.split(\"/\")]\n",
    "        assert len(data) == 3\n",
    "        num_individuals = np.sum(data)\n",
    "        total_alleles = 2*num_individuals\n",
    "        a1_count = 2*data[0]\n",
    "        a2_count = 2*data[2]\n",
    "        het_count = data[1]\n",
    "        a1_count += het_count\n",
    "        a2_count += het_count\n",
    "        a1_freq = a1_count/total_alleles\n",
    "        a2_freq = a2_count/total_alleles\n",
    "        assert a1_freq + a2_freq == 1.0\n",
    "        He = 2 * a1_freq * a2_freq * get_correction(num_individuals)\n",
    "        Ho = het_count/num_individuals\n",
    "        Fis = 1 - (Ho/He)\n",
    "        return Fis\n",
    "    except:\n",
    "        return -9\n",
    "\n",
    "def combine_vcf_stats(filedir, prefix):\n",
    "    \n",
    "    hardy_files = !ls {filedir}/{prefix}.hwe\n",
    "    hardy = pd.read_csv(hardy_files[0], sep=\"\\t\")\n",
    "\n",
    "    hardy.columns = ['CHROM', 'POS', 'OBS(HOM1/HET/HOM2)', 'E(HOM1/HET/HOM2)', 'ChiSq_HWE',\n",
    "       'P_HWE', 'P_HET_DEFICIT', 'P_HET_EXCESS']\n",
    "    hardy.index = hardy.apply(lambda x: \"%s-%d\" % (x.CHROM, x.POS), axis=1)\n",
    "    \n",
    "    loci_files = !ls {filedir}/{prefix}.l* | grep -v log\n",
    "    loci_df = pd.concat([pd.read_csv(x, sep=\"\\t\", skiprows=0) for x in loci_files], axis=1)\n",
    "    chrom_pos = loci_df.ix[:,0:2]\n",
    "    \n",
    "    frq_files = !ls {filedir}/{prefix}.frq* | grep -v count\n",
    "    frq_data = []\n",
    "    h = open(frq_files[0])\n",
    "    header = h.readline().strip().split()\n",
    "    for line in h:\n",
    "        frq_data.append(line.strip().split('\\t'))\n",
    "\n",
    "    header = ['CHROM', 'POS', 'N_ALLELES', 'N_CHR', 'A1_FREQ', \"A2_FREQ\"]\n",
    "    frq_df = pd.DataFrame(frq_data)\n",
    "    print(frq_df.columns)\n",
    "    #frq_df = frq_df.drop([6,7],axis=1)\n",
    "    frq_df.columns = header\n",
    "    frq_df.index = frq_df.apply(lambda x: \"%s-%s\" % (x.CHROM, x.POS), axis=1)\n",
    "    \n",
    "    loci_df = loci_df.drop(['CHROM','CHR','POS'], axis=1)\n",
    "    loci_df = pd.concat([chrom_pos, loci_df], axis=1)\n",
    "    loci_df.index = loci_df.apply(lambda x: \"%s-%d\" % (x.CHROM, x.POS), axis=1)\n",
    "    \n",
    "    loci_df = pd.concat([loci_df, frq_df, hardy], axis=1)\n",
    "    loci_df[\"A1_allele\"] = loci_df.apply(lambda row: row.A1_FREQ.split(\":\")[0], axis=1)\n",
    "    loci_df[\"A2_allele\"] = loci_df.apply(lambda row: row.A2_FREQ.split(\":\")[0], axis=1)\n",
    "    \n",
    "    loci_df[\"A1_freq\"] = loci_df.apply(lambda row: float(row.A1_FREQ.split(\":\")[1]), axis=1)\n",
    "    loci_df[\"A2_freq\"] = loci_df.apply(lambda row: float(row.A2_FREQ.split(\":\")[1]), axis=1)\n",
    "    \n",
    "    loci_df['MAF'] = loci_df.apply(get_MAF, axis=1)\n",
    "    loci_df = loci_df.drop(['CHROM', 'POS'], axis=1)\n",
    "    \n",
    "    loci_df['Fis'] = loci_df['OBS(HOM1/HET/HOM2)'].apply(calculate_Fis)\n",
    "    \n",
    "    return loci_df, frq_df, hardy"
   ]
  },
  {
   "cell_type": "code",
   "execution_count": 52,
   "metadata": {},
   "outputs": [
    {
     "data": {
      "text/plain": [
       "'/data/gpfs/assoc/denovo/tfaske/sagebrush/SNPcall/filtering/snps_indv_removed.recode.vcf.gz'"
      ]
     },
     "execution_count": 52,
     "metadata": {},
     "output_type": "execute_result"
    }
   ],
   "source": [
    "vcf_bad_remove_gz"
   ]
  },
  {
   "cell_type": "code",
   "execution_count": 53,
   "metadata": {
    "scrolled": true
   },
   "outputs": [
    {
     "name": "stderr",
     "output_type": "stream",
     "text": [
      "/data/gpfs/assoc/parchmanlab/tfaske/anaconda3/envs/py36/lib/python3.6/site-packages/ipykernel_launcher.py:45: FutureWarning: \n",
      ".ix is deprecated. Please use\n",
      ".loc for label based indexing or\n",
      ".iloc for positional indexing\n",
      "\n",
      "See the documentation here:\n",
      "http://pandas.pydata.org/pandas-docs/stable/user_guide/indexing.html#ix-indexer-is-deprecated\n",
      "/data/gpfs/assoc/parchmanlab/tfaske/anaconda3/envs/py36/lib/python3.6/site-packages/pandas/core/indexing.py:822: FutureWarning: \n",
      ".ix is deprecated. Please use\n",
      ".loc for label based indexing or\n",
      ".iloc for positional indexing\n",
      "\n",
      "See the documentation here:\n",
      "http://pandas.pydata.org/pandas-docs/stable/user_guide/indexing.html#ix-indexer-is-deprecated\n",
      "  retval = getattr(retval, self.name)._getitem_axis(key, axis=i)\n"
     ]
    },
    {
     "name": "stdout",
     "output_type": "stream",
     "text": [
      "RangeIndex(start=0, stop=6, step=1)\n"
     ]
    }
   ],
   "source": [
    "loci_df, frq_df, hardy = combine_vcf_stats(analysis_dir,'snps_indv_removed.recode.vcf.gz')"
   ]
  },
  {
   "cell_type": "code",
   "execution_count": 54,
   "metadata": {},
   "outputs": [
    {
     "data": {
      "text/html": [
       "<div>\n",
       "<style scoped>\n",
       "    .dataframe tbody tr th:only-of-type {\n",
       "        vertical-align: middle;\n",
       "    }\n",
       "\n",
       "    .dataframe tbody tr th {\n",
       "        vertical-align: top;\n",
       "    }\n",
       "\n",
       "    .dataframe thead th {\n",
       "        text-align: right;\n",
       "    }\n",
       "</style>\n",
       "<table border=\"1\" class=\"dataframe\">\n",
       "  <thead>\n",
       "    <tr style=\"text-align: right;\">\n",
       "      <th></th>\n",
       "      <th>SUM_DEPTH</th>\n",
       "      <th>SUMSQ_DEPTH</th>\n",
       "      <th>MEAN_DEPTH</th>\n",
       "      <th>VAR_DEPTH</th>\n",
       "      <th>N_DATA</th>\n",
       "      <th>N_GENOTYPE_FILTERED</th>\n",
       "      <th>N_MISS</th>\n",
       "      <th>F_MISS</th>\n",
       "      <th>QUAL</th>\n",
       "      <th>N_ALLELES</th>\n",
       "      <th>...</th>\n",
       "      <th>ChiSq_HWE</th>\n",
       "      <th>P_HWE</th>\n",
       "      <th>P_HET_DEFICIT</th>\n",
       "      <th>P_HET_EXCESS</th>\n",
       "      <th>A1_allele</th>\n",
       "      <th>A2_allele</th>\n",
       "      <th>A1_freq</th>\n",
       "      <th>A2_freq</th>\n",
       "      <th>MAF</th>\n",
       "      <th>Fis</th>\n",
       "    </tr>\n",
       "  </thead>\n",
       "  <tbody>\n",
       "    <tr>\n",
       "      <th>CM042338.1-126072</th>\n",
       "      <td>555</td>\n",
       "      <td>1601</td>\n",
       "      <td>0.795129</td>\n",
       "      <td>1.66385</td>\n",
       "      <td>1396</td>\n",
       "      <td>0</td>\n",
       "      <td>0</td>\n",
       "      <td>0</td>\n",
       "      <td>999.0</td>\n",
       "      <td>2</td>\n",
       "      <td>...</td>\n",
       "      <td>61.682280</td>\n",
       "      <td>2.580264e-09</td>\n",
       "      <td>2.580264e-09</td>\n",
       "      <td>1.000000</td>\n",
       "      <td>C</td>\n",
       "      <td>G</td>\n",
       "      <td>0.933381</td>\n",
       "      <td>0.066619</td>\n",
       "      <td>0.066619</td>\n",
       "      <td>0.297774</td>\n",
       "    </tr>\n",
       "    <tr>\n",
       "      <th>CM042338.1-1342981</th>\n",
       "      <td>1128</td>\n",
       "      <td>4994</td>\n",
       "      <td>1.616050</td>\n",
       "      <td>4.54964</td>\n",
       "      <td>1396</td>\n",
       "      <td>0</td>\n",
       "      <td>0</td>\n",
       "      <td>0</td>\n",
       "      <td>999.0</td>\n",
       "      <td>2</td>\n",
       "      <td>...</td>\n",
       "      <td>9.918258</td>\n",
       "      <td>2.855945e-03</td>\n",
       "      <td>2.292476e-03</td>\n",
       "      <td>0.999105</td>\n",
       "      <td>G</td>\n",
       "      <td>A</td>\n",
       "      <td>0.866762</td>\n",
       "      <td>0.133238</td>\n",
       "      <td>0.133238</td>\n",
       "      <td>0.119835</td>\n",
       "    </tr>\n",
       "    <tr>\n",
       "      <th>CM042338.1-1496841</th>\n",
       "      <td>2066</td>\n",
       "      <td>19146</td>\n",
       "      <td>2.959890</td>\n",
       "      <td>18.69570</td>\n",
       "      <td>1396</td>\n",
       "      <td>0</td>\n",
       "      <td>0</td>\n",
       "      <td>0</td>\n",
       "      <td>999.0</td>\n",
       "      <td>2</td>\n",
       "      <td>...</td>\n",
       "      <td>0.082348</td>\n",
       "      <td>1.000000e+00</td>\n",
       "      <td>1.000000e+00</td>\n",
       "      <td>0.926811</td>\n",
       "      <td>G</td>\n",
       "      <td>C</td>\n",
       "      <td>0.989255</td>\n",
       "      <td>0.010745</td>\n",
       "      <td>0.010745</td>\n",
       "      <td>-0.010138</td>\n",
       "    </tr>\n",
       "    <tr>\n",
       "      <th>CM042338.1-1744262</th>\n",
       "      <td>1081</td>\n",
       "      <td>4957</td>\n",
       "      <td>1.548710</td>\n",
       "      <td>4.70996</td>\n",
       "      <td>1396</td>\n",
       "      <td>0</td>\n",
       "      <td>0</td>\n",
       "      <td>0</td>\n",
       "      <td>999.0</td>\n",
       "      <td>2</td>\n",
       "      <td>...</td>\n",
       "      <td>0.119097</td>\n",
       "      <td>1.000000e+00</td>\n",
       "      <td>1.000000e+00</td>\n",
       "      <td>0.894945</td>\n",
       "      <td>C</td>\n",
       "      <td>T</td>\n",
       "      <td>0.987106</td>\n",
       "      <td>0.012894</td>\n",
       "      <td>0.012894</td>\n",
       "      <td>-0.012337</td>\n",
       "    </tr>\n",
       "    <tr>\n",
       "      <th>CM042338.1-1942811</th>\n",
       "      <td>1673</td>\n",
       "      <td>14005</td>\n",
       "      <td>2.396850</td>\n",
       "      <td>14.34010</td>\n",
       "      <td>1396</td>\n",
       "      <td>0</td>\n",
       "      <td>0</td>\n",
       "      <td>0</td>\n",
       "      <td>999.0</td>\n",
       "      <td>2</td>\n",
       "      <td>...</td>\n",
       "      <td>0.697515</td>\n",
       "      <td>6.113742e-01</td>\n",
       "      <td>8.618386e-01</td>\n",
       "      <td>0.300844</td>\n",
       "      <td>G</td>\n",
       "      <td>A</td>\n",
       "      <td>0.918338</td>\n",
       "      <td>0.081662</td>\n",
       "      <td>0.081662</td>\n",
       "      <td>-0.030873</td>\n",
       "    </tr>\n",
       "    <tr>\n",
       "      <th>...</th>\n",
       "      <td>...</td>\n",
       "      <td>...</td>\n",
       "      <td>...</td>\n",
       "      <td>...</td>\n",
       "      <td>...</td>\n",
       "      <td>...</td>\n",
       "      <td>...</td>\n",
       "      <td>...</td>\n",
       "      <td>...</td>\n",
       "      <td>...</td>\n",
       "      <td>...</td>\n",
       "      <td>...</td>\n",
       "      <td>...</td>\n",
       "      <td>...</td>\n",
       "      <td>...</td>\n",
       "      <td>...</td>\n",
       "      <td>...</td>\n",
       "      <td>...</td>\n",
       "      <td>...</td>\n",
       "      <td>...</td>\n",
       "      <td>...</td>\n",
       "    </tr>\n",
       "    <tr>\n",
       "      <th>CM042346.1-338104939</th>\n",
       "      <td>1753</td>\n",
       "      <td>8185</td>\n",
       "      <td>2.511460</td>\n",
       "      <td>5.42670</td>\n",
       "      <td>1396</td>\n",
       "      <td>0</td>\n",
       "      <td>0</td>\n",
       "      <td>0</td>\n",
       "      <td>999.0</td>\n",
       "      <td>2</td>\n",
       "      <td>...</td>\n",
       "      <td>0.132891</td>\n",
       "      <td>1.000000e+00</td>\n",
       "      <td>1.000000e+00</td>\n",
       "      <td>0.883255</td>\n",
       "      <td>C</td>\n",
       "      <td>A</td>\n",
       "      <td>0.986390</td>\n",
       "      <td>0.013610</td>\n",
       "      <td>0.013610</td>\n",
       "      <td>-0.013072</td>\n",
       "    </tr>\n",
       "    <tr>\n",
       "      <th>CM042346.1-338112942</th>\n",
       "      <td>2307</td>\n",
       "      <td>21957</td>\n",
       "      <td>3.305160</td>\n",
       "      <td>20.56240</td>\n",
       "      <td>1396</td>\n",
       "      <td>0</td>\n",
       "      <td>0</td>\n",
       "      <td>0</td>\n",
       "      <td>999.0</td>\n",
       "      <td>2</td>\n",
       "      <td>...</td>\n",
       "      <td>0.106078</td>\n",
       "      <td>1.000000e+00</td>\n",
       "      <td>1.000000e+00</td>\n",
       "      <td>0.906115</td>\n",
       "      <td>T</td>\n",
       "      <td>C</td>\n",
       "      <td>0.987822</td>\n",
       "      <td>0.012178</td>\n",
       "      <td>0.012178</td>\n",
       "      <td>-0.011603</td>\n",
       "    </tr>\n",
       "    <tr>\n",
       "      <th>CM042346.1-338202655</th>\n",
       "      <td>1578</td>\n",
       "      <td>6784</td>\n",
       "      <td>2.260740</td>\n",
       "      <td>4.61484</td>\n",
       "      <td>1396</td>\n",
       "      <td>0</td>\n",
       "      <td>0</td>\n",
       "      <td>0</td>\n",
       "      <td>999.0</td>\n",
       "      <td>2</td>\n",
       "      <td>...</td>\n",
       "      <td>0.119097</td>\n",
       "      <td>1.000000e+00</td>\n",
       "      <td>1.000000e+00</td>\n",
       "      <td>0.894945</td>\n",
       "      <td>T</td>\n",
       "      <td>G</td>\n",
       "      <td>0.987106</td>\n",
       "      <td>0.012894</td>\n",
       "      <td>0.012894</td>\n",
       "      <td>-0.012337</td>\n",
       "    </tr>\n",
       "    <tr>\n",
       "      <th>CM042346.1-338204118</th>\n",
       "      <td>1710</td>\n",
       "      <td>11438</td>\n",
       "      <td>2.449860</td>\n",
       "      <td>10.39990</td>\n",
       "      <td>1396</td>\n",
       "      <td>0</td>\n",
       "      <td>0</td>\n",
       "      <td>0</td>\n",
       "      <td>999.0</td>\n",
       "      <td>2</td>\n",
       "      <td>...</td>\n",
       "      <td>1.003578</td>\n",
       "      <td>1.000000e+00</td>\n",
       "      <td>1.000000e+00</td>\n",
       "      <td>0.387583</td>\n",
       "      <td>C</td>\n",
       "      <td>T</td>\n",
       "      <td>0.963467</td>\n",
       "      <td>0.036533</td>\n",
       "      <td>0.036533</td>\n",
       "      <td>-0.037175</td>\n",
       "    </tr>\n",
       "    <tr>\n",
       "      <th>CM042346.1-338258033</th>\n",
       "      <td>1622</td>\n",
       "      <td>8874</td>\n",
       "      <td>2.323780</td>\n",
       "      <td>7.32400</td>\n",
       "      <td>1396</td>\n",
       "      <td>0</td>\n",
       "      <td>0</td>\n",
       "      <td>0</td>\n",
       "      <td>999.0</td>\n",
       "      <td>2</td>\n",
       "      <td>...</td>\n",
       "      <td>0.671609</td>\n",
       "      <td>1.000000e+00</td>\n",
       "      <td>1.000000e+00</td>\n",
       "      <td>0.529534</td>\n",
       "      <td>C</td>\n",
       "      <td>T</td>\n",
       "      <td>0.969914</td>\n",
       "      <td>0.030086</td>\n",
       "      <td>0.030086</td>\n",
       "      <td>-0.030281</td>\n",
       "    </tr>\n",
       "  </tbody>\n",
       "</table>\n",
       "<p>46854 rows × 25 columns</p>\n",
       "</div>"
      ],
      "text/plain": [
       "                      SUM_DEPTH  SUMSQ_DEPTH  MEAN_DEPTH  VAR_DEPTH  N_DATA  \\\n",
       "CM042338.1-126072           555         1601    0.795129    1.66385    1396   \n",
       "CM042338.1-1342981         1128         4994    1.616050    4.54964    1396   \n",
       "CM042338.1-1496841         2066        19146    2.959890   18.69570    1396   \n",
       "CM042338.1-1744262         1081         4957    1.548710    4.70996    1396   \n",
       "CM042338.1-1942811         1673        14005    2.396850   14.34010    1396   \n",
       "...                         ...          ...         ...        ...     ...   \n",
       "CM042346.1-338104939       1753         8185    2.511460    5.42670    1396   \n",
       "CM042346.1-338112942       2307        21957    3.305160   20.56240    1396   \n",
       "CM042346.1-338202655       1578         6784    2.260740    4.61484    1396   \n",
       "CM042346.1-338204118       1710        11438    2.449860   10.39990    1396   \n",
       "CM042346.1-338258033       1622         8874    2.323780    7.32400    1396   \n",
       "\n",
       "                      N_GENOTYPE_FILTERED  N_MISS  F_MISS   QUAL N_ALLELES  \\\n",
       "CM042338.1-126072                       0       0       0  999.0         2   \n",
       "CM042338.1-1342981                      0       0       0  999.0         2   \n",
       "CM042338.1-1496841                      0       0       0  999.0         2   \n",
       "CM042338.1-1744262                      0       0       0  999.0         2   \n",
       "CM042338.1-1942811                      0       0       0  999.0         2   \n",
       "...                                   ...     ...     ...    ...       ...   \n",
       "CM042346.1-338104939                    0       0       0  999.0         2   \n",
       "CM042346.1-338112942                    0       0       0  999.0         2   \n",
       "CM042346.1-338202655                    0       0       0  999.0         2   \n",
       "CM042346.1-338204118                    0       0       0  999.0         2   \n",
       "CM042346.1-338258033                    0       0       0  999.0         2   \n",
       "\n",
       "                      ...  ChiSq_HWE         P_HWE P_HET_DEFICIT P_HET_EXCESS  \\\n",
       "CM042338.1-126072     ...  61.682280  2.580264e-09  2.580264e-09     1.000000   \n",
       "CM042338.1-1342981    ...   9.918258  2.855945e-03  2.292476e-03     0.999105   \n",
       "CM042338.1-1496841    ...   0.082348  1.000000e+00  1.000000e+00     0.926811   \n",
       "CM042338.1-1744262    ...   0.119097  1.000000e+00  1.000000e+00     0.894945   \n",
       "CM042338.1-1942811    ...   0.697515  6.113742e-01  8.618386e-01     0.300844   \n",
       "...                   ...        ...           ...           ...          ...   \n",
       "CM042346.1-338104939  ...   0.132891  1.000000e+00  1.000000e+00     0.883255   \n",
       "CM042346.1-338112942  ...   0.106078  1.000000e+00  1.000000e+00     0.906115   \n",
       "CM042346.1-338202655  ...   0.119097  1.000000e+00  1.000000e+00     0.894945   \n",
       "CM042346.1-338204118  ...   1.003578  1.000000e+00  1.000000e+00     0.387583   \n",
       "CM042346.1-338258033  ...   0.671609  1.000000e+00  1.000000e+00     0.529534   \n",
       "\n",
       "                     A1_allele  A2_allele   A1_freq   A2_freq       MAF  \\\n",
       "CM042338.1-126072            C          G  0.933381  0.066619  0.066619   \n",
       "CM042338.1-1342981           G          A  0.866762  0.133238  0.133238   \n",
       "CM042338.1-1496841           G          C  0.989255  0.010745  0.010745   \n",
       "CM042338.1-1744262           C          T  0.987106  0.012894  0.012894   \n",
       "CM042338.1-1942811           G          A  0.918338  0.081662  0.081662   \n",
       "...                        ...        ...       ...       ...       ...   \n",
       "CM042346.1-338104939         C          A  0.986390  0.013610  0.013610   \n",
       "CM042346.1-338112942         T          C  0.987822  0.012178  0.012178   \n",
       "CM042346.1-338202655         T          G  0.987106  0.012894  0.012894   \n",
       "CM042346.1-338204118         C          T  0.963467  0.036533  0.036533   \n",
       "CM042346.1-338258033         C          T  0.969914  0.030086  0.030086   \n",
       "\n",
       "                           Fis  \n",
       "CM042338.1-126072     0.297774  \n",
       "CM042338.1-1342981    0.119835  \n",
       "CM042338.1-1496841   -0.010138  \n",
       "CM042338.1-1744262   -0.012337  \n",
       "CM042338.1-1942811   -0.030873  \n",
       "...                        ...  \n",
       "CM042346.1-338104939 -0.013072  \n",
       "CM042346.1-338112942 -0.011603  \n",
       "CM042346.1-338202655 -0.012337  \n",
       "CM042346.1-338204118 -0.037175  \n",
       "CM042346.1-338258033 -0.030281  \n",
       "\n",
       "[46854 rows x 25 columns]"
      ]
     },
     "execution_count": 54,
     "metadata": {},
     "output_type": "execute_result"
    }
   ],
   "source": [
    "loci_df"
   ]
  },
  {
   "cell_type": "code",
   "execution_count": 55,
   "metadata": {},
   "outputs": [
    {
     "data": {
      "text/html": [
       "<div>\n",
       "<style scoped>\n",
       "    .dataframe tbody tr th:only-of-type {\n",
       "        vertical-align: middle;\n",
       "    }\n",
       "\n",
       "    .dataframe tbody tr th {\n",
       "        vertical-align: top;\n",
       "    }\n",
       "\n",
       "    .dataframe thead th {\n",
       "        text-align: right;\n",
       "    }\n",
       "</style>\n",
       "<table border=\"1\" class=\"dataframe\">\n",
       "  <thead>\n",
       "    <tr style=\"text-align: right;\">\n",
       "      <th></th>\n",
       "      <th>CHROM</th>\n",
       "      <th>POS</th>\n",
       "      <th>N_ALLELES</th>\n",
       "      <th>N_CHR</th>\n",
       "      <th>A1_FREQ</th>\n",
       "      <th>A2_FREQ</th>\n",
       "    </tr>\n",
       "  </thead>\n",
       "  <tbody>\n",
       "    <tr>\n",
       "      <th>CM042338.1-126072</th>\n",
       "      <td>CM042338.1</td>\n",
       "      <td>126072</td>\n",
       "      <td>2</td>\n",
       "      <td>1396</td>\n",
       "      <td>C:0.933381</td>\n",
       "      <td>G:0.0666189</td>\n",
       "    </tr>\n",
       "    <tr>\n",
       "      <th>CM042338.1-1342981</th>\n",
       "      <td>CM042338.1</td>\n",
       "      <td>1342981</td>\n",
       "      <td>2</td>\n",
       "      <td>1396</td>\n",
       "      <td>G:0.866762</td>\n",
       "      <td>A:0.133238</td>\n",
       "    </tr>\n",
       "    <tr>\n",
       "      <th>CM042338.1-1496841</th>\n",
       "      <td>CM042338.1</td>\n",
       "      <td>1496841</td>\n",
       "      <td>2</td>\n",
       "      <td>1396</td>\n",
       "      <td>G:0.989255</td>\n",
       "      <td>C:0.010745</td>\n",
       "    </tr>\n",
       "    <tr>\n",
       "      <th>CM042338.1-1744262</th>\n",
       "      <td>CM042338.1</td>\n",
       "      <td>1744262</td>\n",
       "      <td>2</td>\n",
       "      <td>1396</td>\n",
       "      <td>C:0.987106</td>\n",
       "      <td>T:0.012894</td>\n",
       "    </tr>\n",
       "    <tr>\n",
       "      <th>CM042338.1-1942811</th>\n",
       "      <td>CM042338.1</td>\n",
       "      <td>1942811</td>\n",
       "      <td>2</td>\n",
       "      <td>1396</td>\n",
       "      <td>G:0.918338</td>\n",
       "      <td>A:0.0816619</td>\n",
       "    </tr>\n",
       "    <tr>\n",
       "      <th>...</th>\n",
       "      <td>...</td>\n",
       "      <td>...</td>\n",
       "      <td>...</td>\n",
       "      <td>...</td>\n",
       "      <td>...</td>\n",
       "      <td>...</td>\n",
       "    </tr>\n",
       "    <tr>\n",
       "      <th>CM042346.1-338104939</th>\n",
       "      <td>CM042346.1</td>\n",
       "      <td>338104939</td>\n",
       "      <td>2</td>\n",
       "      <td>1396</td>\n",
       "      <td>C:0.98639</td>\n",
       "      <td>A:0.0136103</td>\n",
       "    </tr>\n",
       "    <tr>\n",
       "      <th>CM042346.1-338112942</th>\n",
       "      <td>CM042346.1</td>\n",
       "      <td>338112942</td>\n",
       "      <td>2</td>\n",
       "      <td>1396</td>\n",
       "      <td>T:0.987822</td>\n",
       "      <td>C:0.0121777</td>\n",
       "    </tr>\n",
       "    <tr>\n",
       "      <th>CM042346.1-338202655</th>\n",
       "      <td>CM042346.1</td>\n",
       "      <td>338202655</td>\n",
       "      <td>2</td>\n",
       "      <td>1396</td>\n",
       "      <td>T:0.987106</td>\n",
       "      <td>G:0.012894</td>\n",
       "    </tr>\n",
       "    <tr>\n",
       "      <th>CM042346.1-338204118</th>\n",
       "      <td>CM042346.1</td>\n",
       "      <td>338204118</td>\n",
       "      <td>2</td>\n",
       "      <td>1396</td>\n",
       "      <td>C:0.963467</td>\n",
       "      <td>T:0.036533</td>\n",
       "    </tr>\n",
       "    <tr>\n",
       "      <th>CM042346.1-338258033</th>\n",
       "      <td>CM042346.1</td>\n",
       "      <td>338258033</td>\n",
       "      <td>2</td>\n",
       "      <td>1396</td>\n",
       "      <td>C:0.969914</td>\n",
       "      <td>T:0.030086</td>\n",
       "    </tr>\n",
       "  </tbody>\n",
       "</table>\n",
       "<p>46854 rows × 6 columns</p>\n",
       "</div>"
      ],
      "text/plain": [
       "                           CHROM        POS N_ALLELES N_CHR     A1_FREQ  \\\n",
       "CM042338.1-126072     CM042338.1     126072         2  1396  C:0.933381   \n",
       "CM042338.1-1342981    CM042338.1    1342981         2  1396  G:0.866762   \n",
       "CM042338.1-1496841    CM042338.1    1496841         2  1396  G:0.989255   \n",
       "CM042338.1-1744262    CM042338.1    1744262         2  1396  C:0.987106   \n",
       "CM042338.1-1942811    CM042338.1    1942811         2  1396  G:0.918338   \n",
       "...                          ...        ...       ...   ...         ...   \n",
       "CM042346.1-338104939  CM042346.1  338104939         2  1396   C:0.98639   \n",
       "CM042346.1-338112942  CM042346.1  338112942         2  1396  T:0.987822   \n",
       "CM042346.1-338202655  CM042346.1  338202655         2  1396  T:0.987106   \n",
       "CM042346.1-338204118  CM042346.1  338204118         2  1396  C:0.963467   \n",
       "CM042346.1-338258033  CM042346.1  338258033         2  1396  C:0.969914   \n",
       "\n",
       "                          A2_FREQ  \n",
       "CM042338.1-126072     G:0.0666189  \n",
       "CM042338.1-1342981     A:0.133238  \n",
       "CM042338.1-1496841     C:0.010745  \n",
       "CM042338.1-1744262     T:0.012894  \n",
       "CM042338.1-1942811    A:0.0816619  \n",
       "...                           ...  \n",
       "CM042346.1-338104939  A:0.0136103  \n",
       "CM042346.1-338112942  C:0.0121777  \n",
       "CM042346.1-338202655   G:0.012894  \n",
       "CM042346.1-338204118   T:0.036533  \n",
       "CM042346.1-338258033   T:0.030086  \n",
       "\n",
       "[46854 rows x 6 columns]"
      ]
     },
     "execution_count": 55,
     "metadata": {},
     "output_type": "execute_result"
    }
   ],
   "source": [
    "frq_df"
   ]
  },
  {
   "cell_type": "code",
   "execution_count": 56,
   "metadata": {},
   "outputs": [
    {
     "data": {
      "text/html": [
       "<div>\n",
       "<style scoped>\n",
       "    .dataframe tbody tr th:only-of-type {\n",
       "        vertical-align: middle;\n",
       "    }\n",
       "\n",
       "    .dataframe tbody tr th {\n",
       "        vertical-align: top;\n",
       "    }\n",
       "\n",
       "    .dataframe thead th {\n",
       "        text-align: right;\n",
       "    }\n",
       "</style>\n",
       "<table border=\"1\" class=\"dataframe\">\n",
       "  <thead>\n",
       "    <tr style=\"text-align: right;\">\n",
       "      <th></th>\n",
       "      <th>CHROM</th>\n",
       "      <th>POS</th>\n",
       "      <th>OBS(HOM1/HET/HOM2)</th>\n",
       "      <th>E(HOM1/HET/HOM2)</th>\n",
       "      <th>ChiSq_HWE</th>\n",
       "      <th>P_HWE</th>\n",
       "      <th>P_HET_DEFICIT</th>\n",
       "      <th>P_HET_EXCESS</th>\n",
       "    </tr>\n",
       "  </thead>\n",
       "  <tbody>\n",
       "    <tr>\n",
       "      <th>CM042338.1-126072</th>\n",
       "      <td>CM042338.1</td>\n",
       "      <td>126072</td>\n",
       "      <td>621/61/16</td>\n",
       "      <td>608.10/86.80/3.10</td>\n",
       "      <td>61.682280</td>\n",
       "      <td>2.580264e-09</td>\n",
       "      <td>2.580264e-09</td>\n",
       "      <td>1.000000</td>\n",
       "    </tr>\n",
       "    <tr>\n",
       "      <th>CM042338.1-1342981</th>\n",
       "      <td>CM042338.1</td>\n",
       "      <td>1342981</td>\n",
       "      <td>534/142/22</td>\n",
       "      <td>524.39/161.22/12.39</td>\n",
       "      <td>9.918258</td>\n",
       "      <td>2.855945e-03</td>\n",
       "      <td>2.292476e-03</td>\n",
       "      <td>0.999105</td>\n",
       "    </tr>\n",
       "    <tr>\n",
       "      <th>CM042338.1-1496841</th>\n",
       "      <td>CM042338.1</td>\n",
       "      <td>1496841</td>\n",
       "      <td>683/15/0</td>\n",
       "      <td>683.08/14.84/0.08</td>\n",
       "      <td>0.082348</td>\n",
       "      <td>1.000000e+00</td>\n",
       "      <td>1.000000e+00</td>\n",
       "      <td>0.926811</td>\n",
       "    </tr>\n",
       "    <tr>\n",
       "      <th>CM042338.1-1744262</th>\n",
       "      <td>CM042338.1</td>\n",
       "      <td>1744262</td>\n",
       "      <td>680/18/0</td>\n",
       "      <td>680.12/17.77/0.12</td>\n",
       "      <td>0.119097</td>\n",
       "      <td>1.000000e+00</td>\n",
       "      <td>1.000000e+00</td>\n",
       "      <td>0.894945</td>\n",
       "    </tr>\n",
       "    <tr>\n",
       "      <th>CM042338.1-1942811</th>\n",
       "      <td>CM042338.1</td>\n",
       "      <td>1942811</td>\n",
       "      <td>587/108/3</td>\n",
       "      <td>588.65/104.69/4.65</td>\n",
       "      <td>0.697515</td>\n",
       "      <td>6.113742e-01</td>\n",
       "      <td>8.618386e-01</td>\n",
       "      <td>0.300844</td>\n",
       "    </tr>\n",
       "    <tr>\n",
       "      <th>...</th>\n",
       "      <td>...</td>\n",
       "      <td>...</td>\n",
       "      <td>...</td>\n",
       "      <td>...</td>\n",
       "      <td>...</td>\n",
       "      <td>...</td>\n",
       "      <td>...</td>\n",
       "      <td>...</td>\n",
       "    </tr>\n",
       "    <tr>\n",
       "      <th>CM042346.1-338104939</th>\n",
       "      <td>CM042346.1</td>\n",
       "      <td>338104939</td>\n",
       "      <td>679/19/0</td>\n",
       "      <td>679.13/18.74/0.13</td>\n",
       "      <td>0.132891</td>\n",
       "      <td>1.000000e+00</td>\n",
       "      <td>1.000000e+00</td>\n",
       "      <td>0.883255</td>\n",
       "    </tr>\n",
       "    <tr>\n",
       "      <th>CM042346.1-338112942</th>\n",
       "      <td>CM042346.1</td>\n",
       "      <td>338112942</td>\n",
       "      <td>681/17/0</td>\n",
       "      <td>681.10/16.79/0.10</td>\n",
       "      <td>0.106078</td>\n",
       "      <td>1.000000e+00</td>\n",
       "      <td>1.000000e+00</td>\n",
       "      <td>0.906115</td>\n",
       "    </tr>\n",
       "    <tr>\n",
       "      <th>CM042346.1-338202655</th>\n",
       "      <td>CM042346.1</td>\n",
       "      <td>338202655</td>\n",
       "      <td>680/18/0</td>\n",
       "      <td>680.12/17.77/0.12</td>\n",
       "      <td>0.119097</td>\n",
       "      <td>1.000000e+00</td>\n",
       "      <td>1.000000e+00</td>\n",
       "      <td>0.894945</td>\n",
       "    </tr>\n",
       "    <tr>\n",
       "      <th>CM042346.1-338204118</th>\n",
       "      <td>CM042346.1</td>\n",
       "      <td>338204118</td>\n",
       "      <td>647/51/0</td>\n",
       "      <td>647.93/49.14/0.93</td>\n",
       "      <td>1.003578</td>\n",
       "      <td>1.000000e+00</td>\n",
       "      <td>1.000000e+00</td>\n",
       "      <td>0.387583</td>\n",
       "    </tr>\n",
       "    <tr>\n",
       "      <th>CM042346.1-338258033</th>\n",
       "      <td>CM042346.1</td>\n",
       "      <td>338258033</td>\n",
       "      <td>656/42/0</td>\n",
       "      <td>656.63/40.74/0.63</td>\n",
       "      <td>0.671609</td>\n",
       "      <td>1.000000e+00</td>\n",
       "      <td>1.000000e+00</td>\n",
       "      <td>0.529534</td>\n",
       "    </tr>\n",
       "  </tbody>\n",
       "</table>\n",
       "<p>46854 rows × 8 columns</p>\n",
       "</div>"
      ],
      "text/plain": [
       "                           CHROM        POS OBS(HOM1/HET/HOM2)  \\\n",
       "CM042338.1-126072     CM042338.1     126072          621/61/16   \n",
       "CM042338.1-1342981    CM042338.1    1342981         534/142/22   \n",
       "CM042338.1-1496841    CM042338.1    1496841           683/15/0   \n",
       "CM042338.1-1744262    CM042338.1    1744262           680/18/0   \n",
       "CM042338.1-1942811    CM042338.1    1942811          587/108/3   \n",
       "...                          ...        ...                ...   \n",
       "CM042346.1-338104939  CM042346.1  338104939           679/19/0   \n",
       "CM042346.1-338112942  CM042346.1  338112942           681/17/0   \n",
       "CM042346.1-338202655  CM042346.1  338202655           680/18/0   \n",
       "CM042346.1-338204118  CM042346.1  338204118           647/51/0   \n",
       "CM042346.1-338258033  CM042346.1  338258033           656/42/0   \n",
       "\n",
       "                         E(HOM1/HET/HOM2)  ChiSq_HWE         P_HWE  \\\n",
       "CM042338.1-126072       608.10/86.80/3.10  61.682280  2.580264e-09   \n",
       "CM042338.1-1342981    524.39/161.22/12.39   9.918258  2.855945e-03   \n",
       "CM042338.1-1496841      683.08/14.84/0.08   0.082348  1.000000e+00   \n",
       "CM042338.1-1744262      680.12/17.77/0.12   0.119097  1.000000e+00   \n",
       "CM042338.1-1942811     588.65/104.69/4.65   0.697515  6.113742e-01   \n",
       "...                                   ...        ...           ...   \n",
       "CM042346.1-338104939    679.13/18.74/0.13   0.132891  1.000000e+00   \n",
       "CM042346.1-338112942    681.10/16.79/0.10   0.106078  1.000000e+00   \n",
       "CM042346.1-338202655    680.12/17.77/0.12   0.119097  1.000000e+00   \n",
       "CM042346.1-338204118    647.93/49.14/0.93   1.003578  1.000000e+00   \n",
       "CM042346.1-338258033    656.63/40.74/0.63   0.671609  1.000000e+00   \n",
       "\n",
       "                      P_HET_DEFICIT  P_HET_EXCESS  \n",
       "CM042338.1-126072      2.580264e-09      1.000000  \n",
       "CM042338.1-1342981     2.292476e-03      0.999105  \n",
       "CM042338.1-1496841     1.000000e+00      0.926811  \n",
       "CM042338.1-1744262     1.000000e+00      0.894945  \n",
       "CM042338.1-1942811     8.618386e-01      0.300844  \n",
       "...                             ...           ...  \n",
       "CM042346.1-338104939   1.000000e+00      0.883255  \n",
       "CM042346.1-338112942   1.000000e+00      0.906115  \n",
       "CM042346.1-338202655   1.000000e+00      0.894945  \n",
       "CM042346.1-338204118   1.000000e+00      0.387583  \n",
       "CM042346.1-338258033   1.000000e+00      0.529534  \n",
       "\n",
       "[46854 rows x 8 columns]"
      ]
     },
     "execution_count": 56,
     "metadata": {},
     "output_type": "execute_result"
    }
   ],
   "source": [
    "hardy"
   ]
  },
  {
   "cell_type": "code",
   "execution_count": 57,
   "metadata": {},
   "outputs": [],
   "source": [
    "loci_out = os.path.join(analysis_dir,'loci_out.csv')\n",
    "frq_out = os.path.join(analysis_dir,'frq_out.csv')\n",
    "hardy_out = os.path.join(analysis_dir,'hardy_out.csv')\n",
    "\n",
    "loci_df.to_csv(path_or_buf=loci_out)\n",
    "frq_df.to_csv(path_or_buf=frq_out)\n",
    "hardy.to_csv(path_or_buf=hardy_out)\n"
   ]
  },
  {
   "cell_type": "code",
   "execution_count": 58,
   "metadata": {},
   "outputs": [
    {
     "data": {
      "text/plain": [
       "count     46854.000000\n",
       "mean       1451.569407\n",
       "std        1801.784653\n",
       "min         418.000000\n",
       "25%         819.000000\n",
       "50%        1152.000000\n",
       "75%        1711.000000\n",
       "max      163984.000000\n",
       "Name: SUM_DEPTH, dtype: float64"
      ]
     },
     "execution_count": 58,
     "metadata": {},
     "output_type": "execute_result"
    }
   ],
   "source": [
    "loci_df.SUM_DEPTH.describe()"
   ]
  },
  {
   "cell_type": "code",
   "execution_count": 59,
   "metadata": {},
   "outputs": [
    {
     "data": {
      "text/plain": [
       "count    46854.000000\n",
       "mean         2.079612\n",
       "std          2.581353\n",
       "min          0.598854\n",
       "25%          1.173350\n",
       "50%          1.650430\n",
       "75%          2.451290\n",
       "max        234.934000\n",
       "Name: MEAN_DEPTH, dtype: float64"
      ]
     },
     "execution_count": 59,
     "metadata": {},
     "output_type": "execute_result"
    }
   ],
   "source": [
    "loci_df.MEAN_DEPTH.describe()"
   ]
  },
  {
   "cell_type": "code",
   "execution_count": 60,
   "metadata": {},
   "outputs": [
    {
     "data": {
      "text/plain": [
       "count    46854.000000\n",
       "mean       995.497164\n",
       "std         55.662527\n",
       "min         30.374800\n",
       "25%        999.000000\n",
       "50%        999.000000\n",
       "75%        999.000000\n",
       "max        999.000000\n",
       "Name: QUAL, dtype: float64"
      ]
     },
     "execution_count": 60,
     "metadata": {},
     "output_type": "execute_result"
    }
   ],
   "source": [
    "loci_df.QUAL.describe()"
   ]
  },
  {
   "cell_type": "code",
   "execution_count": 61,
   "metadata": {
    "scrolled": true
   },
   "outputs": [
    {
     "data": {
      "image/png": "[encoded data removed]",
      "text/plain": [
       "<Figure size 432x288 with 1 Axes>"
      ]
     },
     "metadata": {
      "image/png": {
       "height": 248,
       "width": 401
      },
      "needs_background": "light"
     },
     "output_type": "display_data"
    }
   ],
   "source": [
    "loci_df.QUAL.plot(kind=\"hist\");"
   ]
  },
  {
   "cell_type": "code",
   "execution_count": 62,
   "metadata": {},
   "outputs": [
    {
     "data": {
      "image/png": "[encoded data removed]",
      "text/plain": [
       "<Figure size 432x288 with 1 Axes>"
      ]
     },
     "metadata": {
      "image/png": {
       "height": 248,
       "width": 401
      },
      "needs_background": "light"
     },
     "output_type": "display_data"
    }
   ],
   "source": [
    "loci_df.MEAN_DEPTH.plot(kind=\"hist\");"
   ]
  },
  {
   "cell_type": "code",
   "execution_count": 63,
   "metadata": {},
   "outputs": [
    {
     "data": {
      "text/plain": [
       "0"
      ]
     },
     "execution_count": 63,
     "metadata": {},
     "output_type": "execute_result"
    }
   ],
   "source": [
    "len(loci_df[loci_df.Fis == -9])"
   ]
  },
  {
   "cell_type": "code",
   "execution_count": 64,
   "metadata": {},
   "outputs": [
    {
     "data": {
      "text/plain": [
       "(46363, 46491)"
      ]
     },
     "execution_count": 64,
     "metadata": {},
     "output_type": "execute_result"
    }
   ],
   "source": [
    "len(loci_df[loci_df.SUM_DEPTH <5000]),len(loci_df[loci_df.SUM_DEPTH >=500])"
   ]
  },
  {
   "cell_type": "code",
   "execution_count": 152,
   "metadata": {},
   "outputs": [
    {
     "data": {
      "text/plain": [
       "(21, 17278)"
      ]
     },
     "execution_count": 152,
     "metadata": {},
     "output_type": "execute_result"
    }
   ],
   "source": [
    "len(loci_df[loci_df.MEAN_DEPTH > 25 ]),len(loci_df[loci_df.MEAN_DEPTH >= 2])"
   ]
  },
  {
   "cell_type": "code",
   "execution_count": 143,
   "metadata": {},
   "outputs": [
    {
     "data": {
      "text/plain": [
       "0"
      ]
     },
     "execution_count": 143,
     "metadata": {},
     "output_type": "execute_result"
    }
   ],
   "source": [
    "len(loci_df[loci_df.QUAL >= 20]) - len(loci_df[loci_df.QUAL >= 30])"
   ]
  },
  {
   "cell_type": "code",
   "execution_count": 144,
   "metadata": {},
   "outputs": [
    {
     "data": {
      "text/plain": [
       "(46854, 46848, 46799)"
      ]
     },
     "execution_count": 144,
     "metadata": {},
     "output_type": "execute_result"
    }
   ],
   "source": [
    "len(loci_df[loci_df.QUAL >  20]), len(loci_df[loci_df.QUAL > 50]), len(loci_df[loci_df.QUAL > 100])"
   ]
  },
  {
   "cell_type": "code",
   "execution_count": 145,
   "metadata": {},
   "outputs": [
    {
     "data": {
      "text/plain": [
       "(46726, 0)"
      ]
     },
     "execution_count": 145,
     "metadata": {},
     "output_type": "execute_result"
    }
   ],
   "source": [
    " len(loci_df[loci_df.Fis >= -0.5]), len(loci_df[loci_df.MAF < 0.01])"
   ]
  },
  {
   "cell_type": "code",
   "execution_count": 153,
   "metadata": {},
   "outputs": [],
   "source": [
    "def filter_snps(df, imputed=False):\n",
    "    if imputed:\n",
    "        return df[(df.MAF >= 0.01) &  \n",
    "                  (df.Fis > -0.5)]\n",
    "    else:\n",
    "        return df[(df.MEAN_DEPTH >= 2) & \n",
    "                  (df.MEAN_DEPTH < 25) & \n",
    "                  (df.QUAL >= 100) & \n",
    "                  (df.MAF >= 0.01) &\n",
    "                  (df.Fis >= -0.5)]"
   ]
  },
  {
   "cell_type": "code",
   "execution_count": 154,
   "metadata": {},
   "outputs": [
    {
     "data": {
      "text/plain": [
       "(17201, 25)"
      ]
     },
     "execution_count": 154,
     "metadata": {},
     "output_type": "execute_result"
    }
   ],
   "source": [
    "#42513 with df.Fis >= -0.5\n",
    "#42688 without \n",
    "loci_stage1 = filter_snps(loci_df)\n",
    "loci_stage1.shape"
   ]
  },
  {
   "cell_type": "code",
   "execution_count": 155,
   "metadata": {},
   "outputs": [],
   "source": [
    "with open(os.path.join(analysis_dir, \"stage1_positions.txt\"), \"w\") as o:\n",
    "    for elem in loci_stage1.index:\n",
    "        o.write(\"%s\\n\" % \"\\t\".join(elem.split(\"-\")))"
   ]
  },
  {
   "cell_type": "code",
   "execution_count": 156,
   "metadata": {
    "run_control": {
     "marked": false
    }
   },
   "outputs": [
    {
     "name": "stdout",
     "output_type": "stream",
     "text": [
      "\n",
      "VCFtools - 0.1.16\n",
      "(C) Adam Auton and Anthony Marcketta 2009\n",
      "\n",
      "Parameters as interpreted:\n",
      "\t--gzvcf /data/gpfs/assoc/denovo/tfaske/sagebrush/SNPcall/filtering/snps_indv_removed.recode.vcf.gz\n",
      "\t--recode-INFO-all\n",
      "\t--out /data/gpfs/assoc/denovo/tfaske/sagebrush/SNPcall/filtering/good_snps\n",
      "\t--positions /data/gpfs/assoc/denovo/tfaske/sagebrush/SNPcall/filtering/stage1_positions.txt\n",
      "\t--recode\n",
      "\t--remove-filtered-all\n",
      "\t--remove-indels\n",
      "\n",
      "Using zlib version: 1.2.11\n",
      "Warning: Expected at least 2 parts in INFO entry: ID=PV4,Number=4,Type=Float,Description=\"P-values for strand bias, baseQ bias, mapQ bias and tail distance bias\">\n",
      "Warning: Expected at least 2 parts in INFO entry: ID=PV4,Number=4,Type=Float,Description=\"P-values for strand bias, baseQ bias, mapQ bias and tail distance bias\">\n",
      "Warning: Expected at least 2 parts in INFO entry: ID=DP4,Number=4,Type=Integer,Description=\"Number of high-quality ref-forward , ref-reverse, alt-forward and alt-reverse bases\">\n",
      "Warning: Expected at least 2 parts in INFO entry: ID=DP4,Number=4,Type=Integer,Description=\"Number of high-quality ref-forward , ref-reverse, alt-forward and alt-reverse bases\">\n",
      "After filtering, kept 698 out of 698 Individuals\n",
      "Outputting VCF file...\n",
      "After filtering, kept 17201 out of a possible 46854 Sites\n",
      "Run Time = 25.00 seconds\n"
     ]
    }
   ],
   "source": [
    "!$vcftools --gzvcf $vcf_bad_remove_gz \\\n",
    "--remove-indels  \\\n",
    "--remove-filtered-all \\\n",
    "--recode \\\n",
    "--recode-INFO-all \\\n",
    "--positions {os.path.join(analysis_dir, \"stage1_positions.txt\")} \\\n",
    "--out {os.path.join(analysis_dir, \"good_snps\")}"
   ]
  },
  {
   "cell_type": "code",
   "execution_count": 157,
   "metadata": {},
   "outputs": [],
   "source": [
    "snps = os.path.join(analysis_dir, \"good_snps.recode.vcf\")\n",
    "snps_gz = snps + \".gz\"\n",
    "!$bgzip -c {snps} > {snps_gz}\n",
    "!$tabix {snps_gz}"
   ]
  },
  {
   "cell_type": "markdown",
   "metadata": {},
   "source": [
    "## recalculate missing data (loci / indv) & remove alleles not present in one ssp_ploidy group"
   ]
  },
  {
   "cell_type": "code",
   "execution_count": 158,
   "metadata": {},
   "outputs": [],
   "source": [
    "%%R\n",
    "vcf <- read.vcfR(\"good_snps.recode.vcf\", verbose = FALSE)\n",
    "\n",
    "#get positions\n",
    "chrom <- getCHROM(vcf)\n",
    "pos <- getPOS(vcf)\n",
    "pos_ID <- paste(chrom,pos,sep = ':')"
   ]
  },
  {
   "cell_type": "code",
   "execution_count": 159,
   "metadata": {},
   "outputs": [],
   "source": [
    "%%R\n",
    "#get DP \n",
    "dp <- extract.gt(vcf, element = 'DP')"
   ]
  },
  {
   "cell_type": "code",
   "execution_count": 160,
   "metadata": {},
   "outputs": [
    {
     "name": "stdout",
     "output_type": "stream",
     "text": [
      "[1] 17201\n",
      " [1] \"CM042338.1:1496841\" \"CM042338.1:1942811\" \"CM042338.1:6353755\"\n",
      " [4] \"CM042338.1:7214312\" \"CM042338.1:8063221\" \"CM042338.1:8177835\"\n",
      " [7] \"CM042338.1:8530959\" \"CM042338.1:8548932\" \"CM042338.1:8655617\"\n",
      "[10] \"CM042338.1:8690402\"\n",
      "                   AT2_BB_10 AT2_BB_11 AT2_BB_12 AT2_BB_13 AT2_BB_14\n",
      "CM042338.1_1496841 \"0\"       \"1\"       \"3\"       \"6\"       \"8\"      \n",
      "CM042338.1_1942811 \"0\"       \"0\"       \"0\"       \"0\"       \"9\"      \n",
      "CM042338.1_6353755 \"7\"       \"3\"       \"5\"       \"5\"       \"6\"      \n",
      "CM042338.1_7214312 \"5\"       \"3\"       \"0\"       \"0\"       \"0\"      \n",
      "CM042338.1_8063221 \"3\"       \"3\"       \"0\"       \"1\"       \"8\"      \n"
     ]
    }
   ],
   "source": [
    "%%R\n",
    "## check out PL and pos_ID\n",
    "print(length(pos_ID))\n",
    "print(pos_ID[1:10])\n",
    "dp[1:5,1:5]"
   ]
  },
  {
   "cell_type": "code",
   "execution_count": 161,
   "metadata": {},
   "outputs": [
    {
     "name": "stdout",
     "output_type": "stream",
     "text": [
      "[1] 698\n",
      " [1] \"AT2_BB_10\" \"AT2_BB_11\" \"AT2_BB_12\" \"AT2_BB_13\" \"AT2_BB_14\" \"AT2_BB_15\"\n",
      " [7] \"AT2_BB_16\" \"AT2_BB_17\" \"AT2_BB_1\"  \"AT2_BB_2\" \n",
      " [1] \"AT2\" \"AT2\" \"AT2\" \"AT2\" \"AT2\" \"AT2\" \"AT2\" \"AT2\" \"AT2\" \"AT2\"\n",
      "AT2 AT2 AT2 AT2 AT2 AT2 AT2 AT2 AT2 AT2 \n",
      "\"2\" \"2\" \"2\" \"2\" \"2\" \"2\" \"2\" \"2\" \"2\" \"2\" \n"
     ]
    }
   ],
   "source": [
    "%%R\n",
    "ID <- colnames(dp)\n",
    "ssp_ploid <- as.character(sapply(ID,function(s) unlist(strsplit(as.character(s),'_'))[1]))\n",
    "ploidy <- sapply(ssp_ploid,function(s) gsub('(\\\\D)','',s,perl=TRUE))\n",
    "print(length(ID))\n",
    "print(ID[1:10])\n",
    "print(ssp_ploid[1:10])\n",
    "print(ploidy[1:10])"
   ]
  },
  {
   "cell_type": "markdown",
   "metadata": {},
   "source": [
    "#### Calculate missing loci and individual"
   ]
  },
  {
   "cell_type": "code",
   "execution_count": 162,
   "metadata": {},
   "outputs": [
    {
     "name": "stdout",
     "output_type": "stream",
     "text": [
      "[1] 17201\n",
      "[1] 698\n"
     ]
    }
   ],
   "source": [
    "%%R\n",
    "nindv <- ncol(dp)\n",
    "nloci <- nrow(dp)\n",
    "print(nloci)\n",
    "print(nindv)"
   ]
  },
  {
   "cell_type": "code",
   "execution_count": 163,
   "metadata": {},
   "outputs": [
    {
     "name": "stdout",
     "output_type": "stream",
     "text": [
      "[1] 17201\n",
      "    Min.  1st Qu.   Median     Mean  3rd Qu.     Max. \n",
      "0.001433 0.128940 0.196275 0.207378 0.270774 0.590258 \n"
     ]
    }
   ],
   "source": [
    "%%R\n",
    "miss_loci <- apply(dp,1, function(d) length(which(d == \"0\"))/nindv)\n",
    "#miss_loci <- apply(dp[,1:100],1, function(d) (length(which(d == \"0\"))/100))\n",
    "print(length(miss_loci))\n",
    "print(summary(miss_loci))"
   ]
  },
  {
   "cell_type": "code",
   "execution_count": 168,
   "metadata": {},
   "outputs": [
    {
     "name": "stdout",
     "output_type": "stream",
     "text": [
      "   Min. 1st Qu.  Median    Mean 3rd Qu.    Max. \n",
      "0.00000 0.04298 0.06447 0.07052 0.08883 0.29943 \n",
      "    Min.  1st Qu.   Median     Mean  3rd Qu.     Max. \n",
      "0.000000 0.002865 0.005731 0.006708 0.008596 0.037249 \n",
      "   Min. 1st Qu.  Median    Mean 3rd Qu.    Max. \n",
      "0.00000 0.03582 0.05587 0.06533 0.08023 0.24212 \n",
      "   Min. 1st Qu.  Median    Mean 3rd Qu.    Max. \n",
      "0.00000 0.01146 0.01862 0.02178 0.02865 0.10602 \n",
      "   Min. 1st Qu.  Median    Mean 3rd Qu.    Max. \n",
      "0.00000 0.01862 0.03438 0.04303 0.05731 0.27364 \n"
     ]
    }
   ],
   "source": [
    "%%R\n",
    "#calculaate missing within each spp_ploid (hard code it)\n",
    "\n",
    "#subset dp\n",
    "dp_AT2 <- dp[,which(ssp_ploid=='AT2')]\n",
    "dp_AT4 <- dp[,which(ssp_ploid=='AT4')]\n",
    "dp_AV2 <- dp[,which(ssp_ploid=='AV2')]\n",
    "dp_AV4 <- dp[,which(ssp_ploid=='AV4')]\n",
    "dp_AW4 <- dp[,which(ssp_ploid=='AW4')]\n",
    "\n",
    "#calc miss\n",
    "miss_loci_AT2 <- apply(dp_AT2,1, function(d) length(which(d == \"0\"))/nindv)\n",
    "print(summary(miss_loci_AT2))\n",
    "                       \n",
    "miss_loci_AT4 <- apply(dp_AT4,1, function(d) length(which(d == \"0\"))/nindv)\n",
    "print(summary(miss_loci_AT4))\n",
    "                       \n",
    "miss_loci_AV2 <- apply(dp_AV2,1, function(d) length(which(d == \"0\"))/nindv)\n",
    "print(summary(miss_loci_AV2))                       \n",
    "                       \n",
    "miss_loci_AV4 <- apply(dp_AV4,1, function(d) length(which(d == \"0\"))/nindv)\n",
    "print(summary(miss_loci_AV4))                       \n",
    "                       \n",
    "miss_loci_AW4 <- apply(dp_AW4,1, function(d) length(which(d == \"0\"))/nindv)\n",
    "print(summary(miss_loci_AW4))                       "
   ]
  },
  {
   "cell_type": "code",
   "execution_count": 169,
   "metadata": {},
   "outputs": [
    {
     "name": "stdout",
     "output_type": "stream",
     "text": [
      "    Min.  1st Qu.   Median     Mean  3rd Qu.     Max. \n",
      "0.000000 0.003488 0.005232 0.005513 0.007093 0.021278 \n",
      "    Min.  1st Qu.   Median     Mean  3rd Qu.     Max. \n",
      "0.000000 0.001453 0.002500 0.002902 0.003779 0.016743 \n"
     ]
    }
   ],
   "source": [
    "%%R\n",
    "#calculaate missing within each ploidy\n",
    "\n",
    "#subset dp\n",
    "dp2 <- dp[,which(ploidy=='2')]\n",
    "dp4 <- dp[,which(ploidy=='4')]\n",
    "\n",
    "#calc miss\n",
    "miss_loci_2 <- apply(dp2,1, function(d) length(which(d == \"0\"))/nloci)\n",
    "print(summary(miss_loci_2))\n",
    "                       \n",
    "miss_loci_4 <- apply(dp4,1, function(d) length(which(d == \"0\"))/nloci)\n",
    "print(summary(miss_loci_4))"
   ]
  },
  {
   "cell_type": "markdown",
   "metadata": {},
   "source": [
    "### all groups have v little missing data, remove none"
   ]
  },
  {
   "cell_type": "markdown",
   "metadata": {},
   "source": [
    "### Miss indv!"
   ]
  },
  {
   "cell_type": "code",
   "execution_count": 170,
   "metadata": {},
   "outputs": [
    {
     "name": "stdout",
     "output_type": "stream",
     "text": [
      "[1] 698\n",
      "   Min. 1st Qu.  Median    Mean 3rd Qu.    Max. \n",
      " 0.0611  0.1358  0.1853  0.2074  0.2507  0.8839 \n"
     ]
    }
   ],
   "source": [
    "%%R\n",
    "nloci <- nrow(dp)\n",
    "#print(nloci)\n",
    "\n",
    "miss_indv <- apply(dp,2, function(d) length(which(d == \"0\"))/nloci)\n",
    "print(length(miss_indv))\n",
    "print(summary(miss_indv))"
   ]
  },
  {
   "cell_type": "code",
   "execution_count": 171,
   "metadata": {},
   "outputs": [
    {
     "name": "stdout",
     "output_type": "stream",
     "text": [
      "[1] \"number of individuals with greater than 10% missing data.....  656\"\n",
      "[1] \"number of individuals with greater than 20% missing data.....  314\"\n",
      "[1] \"number of individuals with greater than 30% missing data.....  99\"\n",
      "[1] \"number of individuals with greater than 40% missing data.....  27\"\n",
      "[1] \"number of individuals with greater than 50% missing data.....  12\"\n",
      "[1] \"number of individuals with greater than 60% missing data.....  8\"\n",
      "[1] \"number of individuals with greater than 70% missing data.....  6\"\n",
      "[1] \"number of individuals with greater than 80% missing data.....  2\"\n",
      "[1] \"number of individuals with greater than 90% missing data.....  0\"\n"
     ]
    }
   ],
   "source": [
    "%%R\n",
    "for (perc in seq(.1,.9,by=.1)){\n",
    "    print(paste0('number of individuals with greater than ',perc*100,'% missing data.....  ',\n",
    "                 length(which(miss_indv >= perc))))\n",
    "}"
   ]
  },
  {
   "cell_type": "code",
   "execution_count": 172,
   "metadata": {},
   "outputs": [],
   "source": [
    "%%R\n",
    "miss60_indv_df <- data.frame(INDV=ID[which(miss_indv >= .60)])\n",
    "miss60_indv_df\n",
    "write.table(miss60_indv_df,'miss60_indv.txt',quote=F,row.names=F,col.names=T)"
   ]
  },
  {
   "cell_type": "markdown",
   "metadata": {},
   "source": [
    "### use vcftools to remove individuals and loci based off above parameters"
   ]
  },
  {
   "cell_type": "code",
   "execution_count": 173,
   "metadata": {},
   "outputs": [
    {
     "name": "stdout",
     "output_type": "stream",
     "text": [
      "\n",
      "VCFtools - 0.1.16\n",
      "(C) Adam Auton and Anthony Marcketta 2009\n",
      "\n",
      "Parameters as interpreted:\n",
      "\t--gzvcf /data/gpfs/assoc/denovo/tfaske/sagebrush/SNPcall/filtering/good_snps.recode.vcf.gz\n",
      "\t--remove /data/gpfs/assoc/denovo/tfaske/sagebrush/SNPcall/filtering/miss60_indv.txt\n",
      "\t--recode-INFO-all\n",
      "\t--out /data/gpfs/assoc/denovo/tfaske/sagebrush/SNPcall/filtering/final_snps\n",
      "\t--recode\n",
      "\t--remove-filtered-all\n",
      "\n",
      "Using zlib version: 1.2.11\n",
      "Warning: Expected at least 2 parts in INFO entry: ID=PV4,Number=4,Type=Float,Description=\"P-values for strand bias, baseQ bias, mapQ bias and tail distance bias\">\n",
      "Warning: Expected at least 2 parts in INFO entry: ID=PV4,Number=4,Type=Float,Description=\"P-values for strand bias, baseQ bias, mapQ bias and tail distance bias\">\n",
      "Warning: Expected at least 2 parts in INFO entry: ID=DP4,Number=4,Type=Integer,Description=\"Number of high-quality ref-forward , ref-reverse, alt-forward and alt-reverse bases\">\n",
      "Warning: Expected at least 2 parts in INFO entry: ID=DP4,Number=4,Type=Integer,Description=\"Number of high-quality ref-forward , ref-reverse, alt-forward and alt-reverse bases\">\n",
      "Excluding individuals in 'exclude' list\n",
      "After filtering, kept 690 out of 698 Individuals\n",
      "Outputting VCF file...\n",
      "After filtering, kept 17201 out of a possible 17201 Sites\n",
      "Run Time = 23.00 seconds\n"
     ]
    }
   ],
   "source": [
    "!$vcftools --gzvcf $snps_gz \\\n",
    "--remove-filtered-all \\\n",
    "--recode \\\n",
    "--recode-INFO-all \\\n",
    "--remove {os.path.join(analysis_dir, \"miss60_indv.txt\")} \\\n",
    "--out {os.path.join(analysis_dir, \"final_snps\")}"
   ]
  },
  {
   "cell_type": "code",
   "execution_count": 174,
   "metadata": {},
   "outputs": [],
   "source": [
    "final_snps = os.path.join(analysis_dir, \"final_snps.recode.vcf\")\n",
    "final_snps_gz = final_snps + \".gz\"\n",
    "!$bgzip -c {final_snps} > {final_snps_gz}\n",
    "!$tabix {final_snps_gz}"
   ]
  },
  {
   "cell_type": "markdown",
   "metadata": {},
   "source": [
    "# Make 012"
   ]
  },
  {
   "cell_type": "code",
   "execution_count": 175,
   "metadata": {},
   "outputs": [
    {
     "name": "stdout",
     "output_type": "stream",
     "text": [
      "\n",
      "VCFtools - 0.1.16\n",
      "(C) Adam Auton and Anthony Marcketta 2009\n",
      "\n",
      "Parameters as interpreted:\n",
      "\t--gzvcf /data/gpfs/assoc/denovo/tfaske/sagebrush/SNPcall/filtering/final_snps.recode.vcf\n",
      "\t--012\n",
      "\t--out /data/gpfs/assoc/denovo/tfaske/sagebrush/SNPcall/filtering/final_snps.recode.vcf\n",
      "\n",
      "Using zlib version: 1.2.11\n",
      "Warning: Expected at least 2 parts in INFO entry: ID=PV4,Number=4,Type=Float,Description=\"P-values for strand bias, baseQ bias, mapQ bias and tail distance bias\">\n",
      "Warning: Expected at least 2 parts in INFO entry: ID=PV4,Number=4,Type=Float,Description=\"P-values for strand bias, baseQ bias, mapQ bias and tail distance bias\">\n",
      "Warning: Expected at least 2 parts in INFO entry: ID=DP4,Number=4,Type=Integer,Description=\"Number of high-quality ref-forward , ref-reverse, alt-forward and alt-reverse bases\">\n",
      "Warning: Expected at least 2 parts in INFO entry: ID=DP4,Number=4,Type=Integer,Description=\"Number of high-quality ref-forward , ref-reverse, alt-forward and alt-reverse bases\">\n",
      "After filtering, kept 690 out of 690 Individuals\n",
      "Writing 012 matrix files ... Done.\n",
      "After filtering, kept 17201 out of a possible 17201 Sites\n",
      "Run Time = 3.00 seconds\n"
     ]
    }
   ],
   "source": [
    "f = os.path.join(analysis_dir, \"final_snps.recode.vcf\")\n",
    "!$vcftools --gzvcf {f} \\\n",
    "--out {f} \\\n",
    "--012"
   ]
  },
  {
   "cell_type": "markdown",
   "metadata": {},
   "source": [
    "# Get coverage per individual"
   ]
  },
  {
   "cell_type": "code",
   "execution_count": 176,
   "metadata": {
    "scrolled": true
   },
   "outputs": [
    {
     "name": "stdout",
     "output_type": "stream",
     "text": [
      "\n",
      "VCFtools - 0.1.16\n",
      "(C) Adam Auton and Anthony Marcketta 2009\n",
      "\n",
      "Parameters as interpreted:\n",
      "\t--gzvcf /data/gpfs/assoc/denovo/tfaske/sagebrush/SNPcall/filtering/final_snps.recode.vcf\n",
      "\t--depth\n",
      "\t--out /data/gpfs/assoc/denovo/tfaske/sagebrush/SNPcall/filtering/final_snps.recode.vcf\n",
      "\n",
      "Using zlib version: 1.2.11\n",
      "Warning: Expected at least 2 parts in INFO entry: ID=PV4,Number=4,Type=Float,Description=\"P-values for strand bias, baseQ bias, mapQ bias and tail distance bias\">\n",
      "Warning: Expected at least 2 parts in INFO entry: ID=PV4,Number=4,Type=Float,Description=\"P-values for strand bias, baseQ bias, mapQ bias and tail distance bias\">\n",
      "Warning: Expected at least 2 parts in INFO entry: ID=DP4,Number=4,Type=Integer,Description=\"Number of high-quality ref-forward , ref-reverse, alt-forward and alt-reverse bases\">\n",
      "Warning: Expected at least 2 parts in INFO entry: ID=DP4,Number=4,Type=Integer,Description=\"Number of high-quality ref-forward , ref-reverse, alt-forward and alt-reverse bases\">\n",
      "After filtering, kept 690 out of 690 Individuals\n",
      "Outputting Mean Depth by Individual\n",
      "After filtering, kept 17201 out of a possible 17201 Sites\n",
      "Run Time = 2.00 seconds\n"
     ]
    }
   ],
   "source": [
    "f = os.path.join(analysis_dir, \"final_snps.recode.vcf\")\n",
    "!$vcftools --gzvcf {f} \\\n",
    "--out {f} \\\n",
    "--depth"
   ]
  },
  {
   "cell_type": "code",
   "execution_count": 177,
   "metadata": {},
   "outputs": [
    {
     "data": {
      "text/html": [
       "<div>\n",
       "<style scoped>\n",
       "    .dataframe tbody tr th:only-of-type {\n",
       "        vertical-align: middle;\n",
       "    }\n",
       "\n",
       "    .dataframe tbody tr th {\n",
       "        vertical-align: top;\n",
       "    }\n",
       "\n",
       "    .dataframe thead th {\n",
       "        text-align: right;\n",
       "    }\n",
       "</style>\n",
       "<table border=\"1\" class=\"dataframe\">\n",
       "  <thead>\n",
       "    <tr style=\"text-align: right;\">\n",
       "      <th></th>\n",
       "      <th>INDV</th>\n",
       "      <th>N_SITES</th>\n",
       "      <th>MEAN_DEPTH</th>\n",
       "    </tr>\n",
       "  </thead>\n",
       "  <tbody>\n",
       "    <tr>\n",
       "      <th>0</th>\n",
       "      <td>AT2_BB_10</td>\n",
       "      <td>17201</td>\n",
       "      <td>4.41079</td>\n",
       "    </tr>\n",
       "    <tr>\n",
       "      <th>1</th>\n",
       "      <td>AT2_BB_11</td>\n",
       "      <td>17201</td>\n",
       "      <td>2.74972</td>\n",
       "    </tr>\n",
       "    <tr>\n",
       "      <th>2</th>\n",
       "      <td>AT2_BB_12</td>\n",
       "      <td>17201</td>\n",
       "      <td>2.36021</td>\n",
       "    </tr>\n",
       "    <tr>\n",
       "      <th>3</th>\n",
       "      <td>AT2_BB_13</td>\n",
       "      <td>17201</td>\n",
       "      <td>3.42829</td>\n",
       "    </tr>\n",
       "    <tr>\n",
       "      <th>4</th>\n",
       "      <td>AT2_BB_14</td>\n",
       "      <td>17201</td>\n",
       "      <td>4.72223</td>\n",
       "    </tr>\n",
       "  </tbody>\n",
       "</table>\n",
       "</div>"
      ],
      "text/plain": [
       "        INDV  N_SITES  MEAN_DEPTH\n",
       "0  AT2_BB_10    17201     4.41079\n",
       "1  AT2_BB_11    17201     2.74972\n",
       "2  AT2_BB_12    17201     2.36021\n",
       "3  AT2_BB_13    17201     3.42829\n",
       "4  AT2_BB_14    17201     4.72223"
      ]
     },
     "execution_count": 177,
     "metadata": {},
     "output_type": "execute_result"
    }
   ],
   "source": [
    "depth_file = os.path.join(analysis_dir, \"final_snps.recode.vcf.idepth\")\n",
    "depth_df = pd.read_csv(depth_file, sep=\"\\t\")\n",
    "depth_df.head()"
   ]
  },
  {
   "cell_type": "code",
   "execution_count": 178,
   "metadata": {},
   "outputs": [
    {
     "data": {
      "text/plain": [
       "count    690.000000\n",
       "mean       3.335573\n",
       "std        1.152326\n",
       "min        0.914656\n",
       "25%        2.467112\n",
       "50%        3.198155\n",
       "75%        4.126478\n",
       "max        7.355390\n",
       "Name: MEAN_DEPTH, dtype: float64"
      ]
     },
     "execution_count": 178,
     "metadata": {},
     "output_type": "execute_result"
    }
   ],
   "source": [
    "depth_df.MEAN_DEPTH.describe()"
   ]
  },
  {
   "cell_type": "markdown",
   "metadata": {},
   "source": [
    "# Remove unnecessary files"
   ]
  },
  {
   "cell_type": "code",
   "execution_count": 179,
   "metadata": {},
   "outputs": [],
   "source": [
    "!rm *vcf"
   ]
  },
  {
   "cell_type": "code",
   "execution_count": null,
   "metadata": {},
   "outputs": [],
   "source": []
  },
  {
   "cell_type": "code",
   "execution_count": null,
   "metadata": {},
   "outputs": [],
   "source": []
  }
 ],
 "metadata": {
  "kernelspec": {
   "display_name": "Python 3",
   "language": "python",
   "name": "python3"
  },
  "language_info": {
   "codemirror_mode": {
    "name": "ipython",
    "version": 3
   },
   "file_extension": ".py",
   "mimetype": "text/x-python",
   "name": "python",
   "nbconvert_exporter": "python",
   "pygments_lexer": "ipython3",
   "version": "3.6.7"
  }
 },
 "nbformat": 4,
 "nbformat_minor": 1
}
