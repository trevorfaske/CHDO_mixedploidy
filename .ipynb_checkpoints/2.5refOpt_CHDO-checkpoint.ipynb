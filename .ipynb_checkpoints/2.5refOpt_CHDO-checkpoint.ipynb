{
 "cells": [
  {
   "cell_type": "markdown",
   "metadata": {},
   "source": [
    "# Optimize denovo reference\n",
    "    This script uses scripts provided by dDocent to de novo assembly in CD-HIT\n",
    "    https://www.ddocent.com/assembly/\n",
    "    \n",
    "    Run dDocent first with basic commands. Use individuals retained from filtering to make assembly"
   ]
  },
  {
   "cell_type": "code",
   "execution_count": 1,
   "metadata": {
    "ExecuteTime": {}
   },
   "outputs": [
    {
     "name": "stdout",
     "output_type": "stream",
     "text": [
      "/usr/bin/sh: line 0: source: activate: file not found\r\n"
     ]
    }
   ],
   "source": [
    "!source activate py36"
   ]
  },
  {
   "cell_type": "code",
   "execution_count": 2,
   "metadata": {
    "ExecuteTime": {}
   },
   "outputs": [],
   "source": [
    "import sys\n",
    "\n",
    "#sys.path.append('/home/faske/g/anaconda3/envs/py34/lib/python3.4/site-packages')\n",
    "sys.path.append('/data/gpfs/assoc/parchmanlab/tfaske/anaconda3/envs/py36/lib/python3.6/site-packages')\n",
    "sys.path.append(\"/data/gpfs/assoc/parchmanlab/tfaske/ipynb/include_utils\")\n",
    "\n",
    "import ipyparallel as ipp\n",
    "import os, time\n",
    "import include_utils as u\n",
    "import pandas as pd\n",
    "import numpy as np\n",
    "import scipy as sp\n",
    "import numbers\n",
    "import matplotlib.pyplot as plt\n",
    "import matplotlib.patches as mpatches\n",
    "import matplotlib.cm as cm\n",
    "import matplotlib.colors as mcolors\n",
    "#import vcf\n",
    "from sklearn import preprocessing\n",
    "from subprocess import Popen, PIPE, call, check_output\n",
    "import seaborn as sns\n",
    "from IPython.display import FileLink\n",
    "import urllib.request as urllib2\n",
    "import dill\n",
    "import traceback\n",
    "from pandas import Series, DataFrame\n",
    "import gzip\n",
    "import warnings\n",
    "warnings.filterwarnings('ignore',category=pd.io.pytables.PerformanceWarning)\n",
    "%config InlineBackend.figure_format = 'retina'\n",
    "from Bio import SeqIO\n",
    "#import pysam\n",
    "from collections import OrderedDict, namedtuple, Counter\n",
    "import operator\n",
    "import multiprocessing as mp\n",
    "import shutil\n",
    "import tempfile\n",
    "#from ipyparallel import Client\n",
    "import scandir\n",
    "import glob\n",
    "from Bio.SeqIO.QualityIO import FastqGeneralIterator\n",
    "import pickle\n",
    "import re\n",
    "from itertools import chain\n",
    "#import Levenshtein as lv"
   ]
  },
  {
   "cell_type": "code",
   "execution_count": 4,
   "metadata": {
    "ExecuteTime": {}
   },
   "outputs": [],
   "source": [
    "root = \"/data/gpfs/home/tfaske/d/sagebrush\""
   ]
  },
  {
   "cell_type": "code",
   "execution_count": 5,
   "metadata": {
    "ExecuteTime": {}
   },
   "outputs": [
    {
     "name": "stdout",
     "output_type": "stream",
     "text": [
      "/data/gpfs/assoc/denovo/tfaske/sagebrush\n"
     ]
    }
   ],
   "source": [
    "cd $root"
   ]
  },
  {
   "cell_type": "code",
   "execution_count": 6,
   "metadata": {
    "ExecuteTime": {}
   },
   "outputs": [
    {
     "data": {
      "text/plain": [
       "'/data/gpfs/assoc/denovo/tfaske/sagebrush'"
      ]
     },
     "execution_count": 6,
     "metadata": {},
     "output_type": "execute_result"
    }
   ],
   "source": [
    "pwd"
   ]
  },
  {
   "cell_type": "markdown",
   "metadata": {},
   "source": [
    "# Sample random fastq for optimizer\n",
    "\n",
    "    708 ARTR individuals 3 subspecies, 2 ploidy levels (2x,4x). \n",
    "    Make fastq.size file and pick the largest 5 files each subspecies/ploidy combo\n",
    "    \n",
    "    in terminal:\n",
    "    ls -l fastq/*.F.fq.gz > fastq_size.txt\n",
    " "
   ]
  },
  {
   "cell_type": "code",
   "execution_count": 7,
   "metadata": {},
   "outputs": [
    {
     "data": {
      "text/html": [
       "<div>\n",
       "<style scoped>\n",
       "    .dataframe tbody tr th:only-of-type {\n",
       "        vertical-align: middle;\n",
       "    }\n",
       "\n",
       "    .dataframe tbody tr th {\n",
       "        vertical-align: top;\n",
       "    }\n",
       "\n",
       "    .dataframe thead th {\n",
       "        text-align: right;\n",
       "    }\n",
       "</style>\n",
       "<table border=\"1\" class=\"dataframe\">\n",
       "  <thead>\n",
       "    <tr style=\"text-align: right;\">\n",
       "      <th></th>\n",
       "      <th>size</th>\n",
       "      <th>fq</th>\n",
       "    </tr>\n",
       "  </thead>\n",
       "  <tbody>\n",
       "    <tr>\n",
       "      <th>0</th>\n",
       "      <td>138228018</td>\n",
       "      <td>fastq/AT2_BB_10.F.fq.gz</td>\n",
       "    </tr>\n",
       "    <tr>\n",
       "      <th>1</th>\n",
       "      <td>103206432</td>\n",
       "      <td>fastq/AT2_BB_11.F.fq.gz</td>\n",
       "    </tr>\n",
       "    <tr>\n",
       "      <th>2</th>\n",
       "      <td>82434182</td>\n",
       "      <td>fastq/AT2_BB_12.F.fq.gz</td>\n",
       "    </tr>\n",
       "    <tr>\n",
       "      <th>3</th>\n",
       "      <td>120446625</td>\n",
       "      <td>fastq/AT2_BB_13.F.fq.gz</td>\n",
       "    </tr>\n",
       "    <tr>\n",
       "      <th>4</th>\n",
       "      <td>166822045</td>\n",
       "      <td>fastq/AT2_BB_14.F.fq.gz</td>\n",
       "    </tr>\n",
       "    <tr>\n",
       "      <th>5</th>\n",
       "      <td>148605427</td>\n",
       "      <td>fastq/AT2_BB_15.F.fq.gz</td>\n",
       "    </tr>\n",
       "    <tr>\n",
       "      <th>6</th>\n",
       "      <td>117856793</td>\n",
       "      <td>fastq/AT2_BB_16.F.fq.gz</td>\n",
       "    </tr>\n",
       "    <tr>\n",
       "      <th>7</th>\n",
       "      <td>104009033</td>\n",
       "      <td>fastq/AT2_BB_17.F.fq.gz</td>\n",
       "    </tr>\n",
       "    <tr>\n",
       "      <th>8</th>\n",
       "      <td>120536151</td>\n",
       "      <td>fastq/AT2_BB_1.F.fq.gz</td>\n",
       "    </tr>\n",
       "    <tr>\n",
       "      <th>9</th>\n",
       "      <td>102768522</td>\n",
       "      <td>fastq/AT2_BB_2.F.fq.gz</td>\n",
       "    </tr>\n",
       "    <tr>\n",
       "      <th>10</th>\n",
       "      <td>83442811</td>\n",
       "      <td>fastq/AT2_BB_3.F.fq.gz</td>\n",
       "    </tr>\n",
       "  </tbody>\n",
       "</table>\n",
       "</div>"
      ],
      "text/plain": [
       "         size                       fq\n",
       "0   138228018  fastq/AT2_BB_10.F.fq.gz\n",
       "1   103206432  fastq/AT2_BB_11.F.fq.gz\n",
       "2    82434182  fastq/AT2_BB_12.F.fq.gz\n",
       "3   120446625  fastq/AT2_BB_13.F.fq.gz\n",
       "4   166822045  fastq/AT2_BB_14.F.fq.gz\n",
       "5   148605427  fastq/AT2_BB_15.F.fq.gz\n",
       "6   117856793  fastq/AT2_BB_16.F.fq.gz\n",
       "7   104009033  fastq/AT2_BB_17.F.fq.gz\n",
       "8   120536151   fastq/AT2_BB_1.F.fq.gz\n",
       "9   102768522   fastq/AT2_BB_2.F.fq.gz\n",
       "10   83442811   fastq/AT2_BB_3.F.fq.gz"
      ]
     },
     "execution_count": 7,
     "metadata": {},
     "output_type": "execute_result"
    }
   ],
   "source": [
    "#fq_size = pd.read_csv('fastq_size.txt',usecols=[5,9],sep=' ',names=['size','fq'])\n",
    "fq_size = pd.read_csv('fastq_size.txt',sep='\\s+',usecols=[4,8],names=['size','fq'])\n",
    "fq_size.loc[:10,]"
   ]
  },
  {
   "cell_type": "code",
   "execution_count": 12,
   "metadata": {},
   "outputs": [
    {
     "data": {
      "text/plain": [
       "(708, 2)"
      ]
     },
     "execution_count": 12,
     "metadata": {},
     "output_type": "execute_result"
    }
   ],
   "source": [
    "fq_size.shape"
   ]
  },
  {
   "cell_type": "code",
   "execution_count": 13,
   "metadata": {},
   "outputs": [
    {
     "data": {
      "text/html": [
       "<div>\n",
       "<style scoped>\n",
       "    .dataframe tbody tr th:only-of-type {\n",
       "        vertical-align: middle;\n",
       "    }\n",
       "\n",
       "    .dataframe tbody tr th {\n",
       "        vertical-align: top;\n",
       "    }\n",
       "\n",
       "    .dataframe thead th {\n",
       "        text-align: right;\n",
       "    }\n",
       "</style>\n",
       "<table border=\"1\" class=\"dataframe\">\n",
       "  <thead>\n",
       "    <tr style=\"text-align: right;\">\n",
       "      <th></th>\n",
       "      <th>size</th>\n",
       "      <th>fq</th>\n",
       "    </tr>\n",
       "  </thead>\n",
       "  <tbody>\n",
       "    <tr>\n",
       "      <th>253</th>\n",
       "      <td>205654320</td>\n",
       "      <td>fastq/AT4_SL_6.F.fq.gz</td>\n",
       "    </tr>\n",
       "    <tr>\n",
       "      <th>35</th>\n",
       "      <td>197338024</td>\n",
       "      <td>fastq/AT2_BT_63.F.fq.gz</td>\n",
       "    </tr>\n",
       "    <tr>\n",
       "      <th>612</th>\n",
       "      <td>192797332</td>\n",
       "      <td>fastq/AW4_OE_4.F.fq.gz</td>\n",
       "    </tr>\n",
       "    <tr>\n",
       "      <th>143</th>\n",
       "      <td>191983018</td>\n",
       "      <td>fastq/AT2_KN_94.F.fq.gz</td>\n",
       "    </tr>\n",
       "    <tr>\n",
       "      <th>655</th>\n",
       "      <td>184356371</td>\n",
       "      <td>fastq/AW4_SC_3.F.fq.gz</td>\n",
       "    </tr>\n",
       "    <tr>\n",
       "      <th>...</th>\n",
       "      <td>...</td>\n",
       "      <td>...</td>\n",
       "    </tr>\n",
       "    <tr>\n",
       "      <th>243</th>\n",
       "      <td>84244037</td>\n",
       "      <td>fastq/AT4_DS_8.F.fq.gz</td>\n",
       "    </tr>\n",
       "    <tr>\n",
       "      <th>58</th>\n",
       "      <td>84205751</td>\n",
       "      <td>fastq/AT2_DK_17.F.fq.gz</td>\n",
       "    </tr>\n",
       "    <tr>\n",
       "      <th>428</th>\n",
       "      <td>83777646</td>\n",
       "      <td>fastq/AV2_UV_1.F.fq.gz</td>\n",
       "    </tr>\n",
       "    <tr>\n",
       "      <th>236</th>\n",
       "      <td>83528638</td>\n",
       "      <td>fastq/AT4_DS_1.F.fq.gz</td>\n",
       "    </tr>\n",
       "    <tr>\n",
       "      <th>10</th>\n",
       "      <td>83442811</td>\n",
       "      <td>fastq/AT2_BB_3.F.fq.gz</td>\n",
       "    </tr>\n",
       "  </tbody>\n",
       "</table>\n",
       "<p>479 rows × 2 columns</p>\n",
       "</div>"
      ],
      "text/plain": [
       "          size                       fq\n",
       "253  205654320   fastq/AT4_SL_6.F.fq.gz\n",
       "35   197338024  fastq/AT2_BT_63.F.fq.gz\n",
       "612  192797332   fastq/AW4_OE_4.F.fq.gz\n",
       "143  191983018  fastq/AT2_KN_94.F.fq.gz\n",
       "655  184356371   fastq/AW4_SC_3.F.fq.gz\n",
       "..         ...                      ...\n",
       "243   84244037   fastq/AT4_DS_8.F.fq.gz\n",
       "58    84205751  fastq/AT2_DK_17.F.fq.gz\n",
       "428   83777646   fastq/AV2_UV_1.F.fq.gz\n",
       "236   83528638   fastq/AT4_DS_1.F.fq.gz\n",
       "10    83442811   fastq/AT2_BB_3.F.fq.gz\n",
       "\n",
       "[479 rows x 2 columns]"
      ]
     },
     "execution_count": 13,
     "metadata": {},
     "output_type": "execute_result"
    }
   ],
   "source": [
    "fq_size.sort_values('size',axis=0,ascending=False,inplace=True)\n",
    "fq_size.loc[:10,]"
   ]
  },
  {
   "cell_type": "code",
   "execution_count": 16,
   "metadata": {},
   "outputs": [
    {
     "data": {
      "text/plain": [
       "(708, 'AT4')"
      ]
     },
     "execution_count": 16,
     "metadata": {},
     "output_type": "execute_result"
    }
   ],
   "source": [
    "ssp_ploid = [f.split('_')[0].split('/')[1] for f in fq_size.fq]\n",
    "len(ssp_ploid),ssp_ploid[0]"
   ]
  },
  {
   "cell_type": "code",
   "execution_count": 19,
   "metadata": {},
   "outputs": [
    {
     "data": {
      "text/html": [
       "<div>\n",
       "<style scoped>\n",
       "    .dataframe tbody tr th:only-of-type {\n",
       "        vertical-align: middle;\n",
       "    }\n",
       "\n",
       "    .dataframe tbody tr th {\n",
       "        vertical-align: top;\n",
       "    }\n",
       "\n",
       "    .dataframe thead th {\n",
       "        text-align: right;\n",
       "    }\n",
       "</style>\n",
       "<table border=\"1\" class=\"dataframe\">\n",
       "  <thead>\n",
       "    <tr style=\"text-align: right;\">\n",
       "      <th></th>\n",
       "      <th>size</th>\n",
       "      <th>fq</th>\n",
       "      <th>ssp_ploid</th>\n",
       "    </tr>\n",
       "  </thead>\n",
       "  <tbody>\n",
       "    <tr>\n",
       "      <th>253</th>\n",
       "      <td>205654320</td>\n",
       "      <td>fastq/AT4_SL_6.F.fq.gz</td>\n",
       "      <td>AT4</td>\n",
       "    </tr>\n",
       "    <tr>\n",
       "      <th>35</th>\n",
       "      <td>197338024</td>\n",
       "      <td>fastq/AT2_BT_63.F.fq.gz</td>\n",
       "      <td>AT2</td>\n",
       "    </tr>\n",
       "    <tr>\n",
       "      <th>612</th>\n",
       "      <td>192797332</td>\n",
       "      <td>fastq/AW4_OE_4.F.fq.gz</td>\n",
       "      <td>AW4</td>\n",
       "    </tr>\n",
       "    <tr>\n",
       "      <th>143</th>\n",
       "      <td>191983018</td>\n",
       "      <td>fastq/AT2_KN_94.F.fq.gz</td>\n",
       "      <td>AT2</td>\n",
       "    </tr>\n",
       "    <tr>\n",
       "      <th>655</th>\n",
       "      <td>184356371</td>\n",
       "      <td>fastq/AW4_SC_3.F.fq.gz</td>\n",
       "      <td>AW4</td>\n",
       "    </tr>\n",
       "  </tbody>\n",
       "</table>\n",
       "</div>"
      ],
      "text/plain": [
       "          size                       fq ssp_ploid\n",
       "253  205654320   fastq/AT4_SL_6.F.fq.gz       AT4\n",
       "35   197338024  fastq/AT2_BT_63.F.fq.gz       AT2\n",
       "612  192797332   fastq/AW4_OE_4.F.fq.gz       AW4\n",
       "143  191983018  fastq/AT2_KN_94.F.fq.gz       AT2\n",
       "655  184356371   fastq/AW4_SC_3.F.fq.gz       AW4"
      ]
     },
     "execution_count": 19,
     "metadata": {},
     "output_type": "execute_result"
    }
   ],
   "source": [
    "fq_size['ssp_ploid'] = ssp_ploid\n",
    "fq_size.head()"
   ]
  },
  {
   "cell_type": "code",
   "execution_count": 25,
   "metadata": {},
   "outputs": [],
   "source": [
    "AT2 = fq_size[fq_size.ssp_ploid == 'AT2'].fq[:5]\n",
    "AT4 = fq_size[fq_size.ssp_ploid == 'AT4'].fq[:5]\n",
    "AV2 = fq_size[fq_size.ssp_ploid == 'AV2'].fq[:5]\n",
    "AV4 = fq_size[fq_size.ssp_ploid == 'AV4'].fq[:5]\n",
    "AW4 = fq_size[fq_size.ssp_ploid == 'AW4'].fq[:5]"
   ]
  },
  {
   "cell_type": "code",
   "execution_count": 27,
   "metadata": {},
   "outputs": [
    {
     "data": {
      "text/plain": [
       "pandas.core.series.Series"
      ]
     },
     "execution_count": 27,
     "metadata": {},
     "output_type": "execute_result"
    }
   ],
   "source": [
    "type(AT2)"
   ]
  },
  {
   "cell_type": "code",
   "execution_count": 32,
   "metadata": {},
   "outputs": [
    {
     "data": {
      "text/plain": [
       "(25, 'fastq/AT2_BT_63.F.fq.gz')"
      ]
     },
     "execution_count": 32,
     "metadata": {},
     "output_type": "execute_result"
    }
   ],
   "source": [
    "fq_keep = AT2.tolist() + AT4.tolist() + AV2.tolist() + AV4.tolist() + AW4.tolist()\n",
    "len(fq_keep),fq_keep[0]"
   ]
  },
  {
   "cell_type": "code",
   "execution_count": 33,
   "metadata": {},
   "outputs": [],
   "source": [
    "!mkdir refOpt"
   ]
  },
  {
   "cell_type": "code",
   "execution_count": 34,
   "metadata": {},
   "outputs": [],
   "source": [
    "def write_cp_refOpt_sh(fq_files):\n",
    "    with open(\"cp_refOpt.sh\", \"w\") as o:\n",
    "        o.write(\"\"\"#!/bin/bash \\n\"\"\")\n",
    "        for fq in fq_files:\n",
    "            o.write(\"\"\"cp {} refOpt &\\n\"\"\".format(fq))"
   ]
  },
  {
   "cell_type": "code",
   "execution_count": 35,
   "metadata": {},
   "outputs": [],
   "source": [
    "write_cp_refOpt_sh(fq_keep)"
   ]
  },
  {
   "cell_type": "markdown",
   "metadata": {},
   "source": [
    "# run cp_ref.sh\n",
    "    cd /data/gpfs/home/tfaske/d/sagebrush\n",
    "    bash cp_ref.sh"
   ]
  },
  {
   "cell_type": "markdown",
   "metadata": {
    "ExecuteTime": {}
   },
   "source": [
    "# make a slurm script to run ReferenceOpt.sh \n",
    "    ReferenceOpt.sh minK1 maxK1 minK2 maxK2 Assembly_Type Processors"
   ]
  },
  {
   "cell_type": "code",
   "execution_count": 44,
   "metadata": {},
   "outputs": [],
   "source": [
    "refOpt = '/data/gpfs/home/tfaske/g/src/refOpt/./ReferenceOpt.sh'\n",
    "refOpt_dir = '/data/gpfs/home/tfaske/d/sagebrush/refOpt'"
   ]
  },
  {
   "cell_type": "code",
   "execution_count": 45,
   "metadata": {},
   "outputs": [
    {
     "name": "stdout",
     "output_type": "stream",
     "text": [
      "/data/gpfs/assoc/denovo/tfaske/sagebrush/refOpt\n"
     ]
    }
   ],
   "source": [
    "cd $refOpt_dir"
   ]
  },
  {
   "cell_type": "code",
   "execution_count": 53,
   "metadata": {},
   "outputs": [],
   "source": [
    "### select options\n",
    "account = 'cpu-s5-denovo-0'\n",
    "partition = 'cpu-core-0'\n",
    "jobname = 'sagebrush'\n",
    "time = '4-00:00:00' #time limit 4 days\n",
    "minK1 = 4\n",
    "maxK1 = 10\n",
    "minK2 = 4\n",
    "maxK2 = 10\n",
    "Type = 'SE' \n",
    "cpus = 64\n",
    "mem_cpu = 2500\n",
    "email = 'tfaske@nevada.unr.edu'"
   ]
  },
  {
   "cell_type": "code",
   "execution_count": 54,
   "metadata": {
    "ExecuteTime": {}
   },
   "outputs": [],
   "source": [
    "def write_refOpt_sh(account,partition,cpus,mem_cpu,jobname,email,refOpt,minK1,maxK1,minK2,maxK2,Type):\n",
    "    with open(\"run_refOpt.sh\", \"w\") as o:\n",
    "        o.write(\"\"\"#!/usr/bin/env bash\n",
    "#SBATCH --account=%s\n",
    "#SBATCH --partition=%s\n",
    "#SBATCH --ntasks 1\n",
    "#SBATCH --cpus-per-task %d\n",
    "#SBATCH --mem-per-cpu=%d\n",
    "#SBATCH --job-name %s_refOpt\n",
    "#SBATCH --output output_refOpt.txt\n",
    "#SBATCH --mail-type=BEGIN,END\n",
    "#SBATCH --mail-user=%s\\n\\n\"\"\" % (account,partition,int(cpus),int(mem_cpu),jobname,email))\n",
    "\n",
    "        #ReferenceOpt.sh minK1 maxK1 minK2 maxK2 Assembly_Type Processors\n",
    "        o.write(\"\"\"%s %d %d %d %d %s %d\"\"\"% (refOpt,minK1,maxK1,minK2,maxK2,Type,cpus))"
   ]
  },
  {
   "cell_type": "code",
   "execution_count": 55,
   "metadata": {},
   "outputs": [],
   "source": [
    "write_refOpt_sh(account,partition,cpus,mem_cpu,jobname,email,refOpt,minK1,maxK1,minK2,maxK2,Type)"
   ]
  },
  {
   "cell_type": "markdown",
   "metadata": {},
   "source": [
    "# run refOpt.sh in slurm\n",
    "    cd /data/gpfs/home/tfaske/d/sagebrush/refOpt\n",
    "    source activate ddocent_env\n",
    "    sbatch run_refOpt.sh"
   ]
  },
  {
   "cell_type": "markdown",
   "metadata": {},
   "source": [
    "# Visualize kopt"
   ]
  },
  {
   "cell_type": "code",
   "execution_count": 56,
   "metadata": {},
   "outputs": [
    {
     "name": "stdout",
     "output_type": "stream",
     "text": [
      "/data/gpfs/assoc/denovo/tfaske/sagebrush/refOpt\n"
     ]
    }
   ],
   "source": [
    "cd $refOpt_dir"
   ]
  },
  {
   "cell_type": "code",
   "execution_count": 60,
   "metadata": {},
   "outputs": [
    {
     "name": "stdout",
     "output_type": "stream",
     "text": [
      "The top three most common number of contigs\r\n",
      "X\tContig number\r\n",
      "3\t8663\r\n",
      "2\t6365\r\n",
      "2\t6150\r\n",
      "The top three most common number of contigs (with values rounded)\r\n",
      "X\tContig number\r\n",
      "8\t8300\r\n",
      "8\t6200\r\n",
      "8\t5100\r\n"
     ]
    }
   ],
   "source": [
    "!tail output_refOpt.txt"
   ]
  },
  {
   "cell_type": "code",
   "execution_count": 58,
   "metadata": {},
   "outputs": [],
   "source": [
    "%load_ext rpy2.ipython"
   ]
  },
  {
   "cell_type": "code",
   "execution_count": 59,
   "metadata": {},
   "outputs": [
    {
     "name": "stderr",
     "output_type": "stream",
     "text": [
      "R[write to console]: Parsed with column specification:\n",
      "cols(\n",
      "  k1 = \u001b[32mcol_double()\u001b[39m,\n",
      "  k2 = \u001b[32mcol_double()\u001b[39m,\n",
      "  c = \u001b[32mcol_double()\u001b[39m,\n",
      "  contig = \u001b[32mcol_double()\u001b[39m\n",
      ")\n",
      "\n"
     ]
    },
    {
     "data": {
      "image/png": "[encoded data removed]"
     },
     "metadata": {},
     "output_type": "display_data"
    }
   ],
   "source": [
    "%%R\n",
    "library(readr)\n",
    "library(ggplot2)\n",
    "\n",
    "kopt <- read_table2('kopt.data',col_names = c('k1','k2','c','contig'))\n",
    "kopt$k <- paste0(kopt$k1,'_',kopt$k2)\n",
    "\n",
    "ggplot(data=kopt,aes(x=c,y=contig,colour=k)) + \n",
    "  geom_line() "
   ]
  },
  {
   "cell_type": "markdown",
   "metadata": {},
   "source": [
    "c = .94 is the winner!"
   ]
  },
  {
   "cell_type": "markdown",
   "metadata": {},
   "source": [
    "# MapOpt now!!!\n",
    "    This script assembles references across cutoff values and then maps 20 random samples and evaluates mappings to the reference, along with number of contigs and coverage.\n",
    "    \n",
    "    Moves fastq files from refOpt, runs dDocent to get trimmed files\n",
    "    \n",
    "    choose mapOpt sim from kopt above: 94 add (e.g. 90,92,96)"
   ]
  },
  {
   "cell_type": "code",
   "execution_count": 86,
   "metadata": {},
   "outputs": [
    {
     "name": "stdout",
     "output_type": "stream",
     "text": [
      "/data/gpfs/assoc/denovo/tfaske/sagebrush\n"
     ]
    }
   ],
   "source": [
    "cd $root"
   ]
  },
  {
   "cell_type": "code",
   "execution_count": 62,
   "metadata": {},
   "outputs": [],
   "source": [
    "!mkdir mapOpt"
   ]
  },
  {
   "cell_type": "code",
   "execution_count": 69,
   "metadata": {},
   "outputs": [],
   "source": [
    "mapOpt_dir = os.path.join(root,'mapOpt/')\n",
    "assert mapOpt_dir"
   ]
  },
  {
   "cell_type": "code",
   "execution_count": 63,
   "metadata": {},
   "outputs": [],
   "source": [
    "sim_val = [90,92,94,96]"
   ]
  },
  {
   "cell_type": "code",
   "execution_count": 65,
   "metadata": {},
   "outputs": [],
   "source": [
    "for sim in sim_val:\n",
    "    mapsim = \"mapOpt/mapOpt%d\" % (sim)\n",
    "    !mkdir $mapsim"
   ]
  },
  {
   "cell_type": "code",
   "execution_count": 87,
   "metadata": {},
   "outputs": [
    {
     "data": {
      "text/plain": [
       "(50, '/data/gpfs/home/tfaske/d/sagebrush/refOpt/AW4_OE_4.R1.fq.gz')"
      ]
     },
     "execution_count": 87,
     "metadata": {},
     "output_type": "execute_result"
    }
   ],
   "source": [
    "### cp fastq from refOpt\n",
    "fq_files = !find $refOpt_dir -name '*fq.gz'\n",
    "fq_files = [os.path.abspath(x) for x in fq_files]\n",
    "len(fq_files),fq_files[0]"
   ]
  },
  {
   "cell_type": "code",
   "execution_count": 88,
   "metadata": {},
   "outputs": [],
   "source": [
    "for fq in fq_files:   \n",
    "    for sim in sim_val:\n",
    "        mapsim = \"mapOpt/mapOpt%d\" % (sim)\n",
    "        !cp $fq $mapsim"
   ]
  },
  {
   "cell_type": "code",
   "execution_count": 91,
   "metadata": {},
   "outputs": [],
   "source": [
    "for sim in sim_val:\n",
    "    mapsim = \"mapOpt/mapOpt%d\" % (sim)\n",
    "    logfiles = os.path.join(refOpt_dir,'logfiles')\n",
    "    !cp -r $logfiles $mapsim"
   ]
  },
  {
   "cell_type": "code",
   "execution_count": 73,
   "metadata": {},
   "outputs": [],
   "source": [
    "src_dir = '/data/gpfs/home/tfaske/g/src/refOpt/./'\n",
    "mapOpt_sh = []\n",
    "for sim in sim_val:\n",
    "    sh = src_dir + \"Map%d.sh\"%(sim)\n",
    "    mapOpt_sh.append(sh)"
   ]
  },
  {
   "cell_type": "code",
   "execution_count": 74,
   "metadata": {},
   "outputs": [
    {
     "data": {
      "text/plain": [
       "(4,\n",
       " ['/data/gpfs/home/tfaske/g/src/refOpt/./Map90.sh',\n",
       "  '/data/gpfs/home/tfaske/g/src/refOpt/./Map92.sh',\n",
       "  '/data/gpfs/home/tfaske/g/src/refOpt/./Map94.sh',\n",
       "  '/data/gpfs/home/tfaske/g/src/refOpt/./Map96.sh'])"
      ]
     },
     "execution_count": 74,
     "metadata": {},
     "output_type": "execute_result"
    }
   ],
   "source": [
    "len(mapOpt_sh), mapOpt_sh"
   ]
  },
  {
   "cell_type": "code",
   "execution_count": 92,
   "metadata": {},
   "outputs": [],
   "source": [
    "### select slurm options\n",
    "account = 'cpu-s5-denovo-0'\n",
    "partition = 'cpu-core-0'\n",
    "time = '1-00:00:00' #time limit 4 days\n",
    "cpus = 16\n",
    "mem_cpu = 2500\n",
    "\n",
    "#RefMapOpt minK1 maxK1 minK2 maxK2 cluster_similarity Assembly_Type Num_of_Processors\n",
    "minK1 = 4\n",
    "maxK1 = 10\n",
    "minK2 = 4\n",
    "maxK2 = 10\n",
    "Type = 'SE' "
   ]
  },
  {
   "cell_type": "code",
   "execution_count": 93,
   "metadata": {},
   "outputs": [
    {
     "name": "stdout",
     "output_type": "stream",
     "text": [
      "/data/gpfs/assoc/denovo/tfaske/sagebrush/mapOpt\n"
     ]
    }
   ],
   "source": [
    "cd $mapOpt_dir"
   ]
  },
  {
   "cell_type": "code",
   "execution_count": 94,
   "metadata": {},
   "outputs": [],
   "source": [
    "def write_mapOpt_sh(account,partition,time,cpus,mem_cpu,sim,email,\n",
    "                    mapOpt_sh,sim_val,minK1,maxK1,minK2,maxK2,Type):\n",
    "    for i in range(0,len(mapOpt_sh)):\n",
    "        sh = mapOpt_sh[i]\n",
    "        sim = sim_val[i]\n",
    "        with open(\"mapOpt%d/run_mapOpt%d.sh\" % (sim,sim), \"w\") as o:\n",
    "            o.write(\"\"\"#!/usr/bin/env bash\n",
    "#SBATCH --account=%s\n",
    "#SBATCH --partition=%s\n",
    "#SBATCH --time=%s\n",
    "#SBATCH --ntasks 1\n",
    "#SBATCH --cpus-per-task %d\n",
    "#SBATCH --mem-per-cpu=%d\n",
    "#SBATCH --job-name mapOpt%d\n",
    "#SBATCH --output output_mapOpt%d.txt\n",
    "#SBATCH --mail-type=END\n",
    "#SBATCH --mail-user=%s\\n\\n\"\"\" % (account,partition,time,int(cpus),int(mem_cpu),sim,sim,email))\n",
    "\n",
    "        #RefMapOpt minK1 maxK1 minK2 maxK2 cluster_similarity Assembly_Type Num_of_Processors\n",
    "            o.write(\"\"\"%s %d %d %d %d 0.%d %s %d\"\"\"% (sh,minK1,maxK1,minK2,maxK2,sim,Type,cpus))"
   ]
  },
  {
   "cell_type": "code",
   "execution_count": 95,
   "metadata": {},
   "outputs": [],
   "source": [
    "write_mapOpt_sh(account,partition,time,cpus,mem_cpu,sim,email,\n",
    "                    mapOpt_sh,sim_val,minK1,maxK1,minK2,maxK2,Type)"
   ]
  },
  {
   "cell_type": "code",
   "execution_count": 96,
   "metadata": {},
   "outputs": [
    {
     "data": {
      "text/plain": [
       "['/data/gpfs/home/tfaske/d/sagebrush/mapOpt/mapOpt94/run_mapOpt94.sh',\n",
       " '/data/gpfs/home/tfaske/d/sagebrush/mapOpt/mapOpt96/run_mapOpt96.sh',\n",
       " '/data/gpfs/home/tfaske/d/sagebrush/mapOpt/mapOpt90/run_mapOpt90.sh',\n",
       " '/data/gpfs/home/tfaske/d/sagebrush/mapOpt/mapOpt92/run_mapOpt92.sh']"
      ]
     },
     "execution_count": 96,
     "metadata": {},
     "output_type": "execute_result"
    }
   ],
   "source": [
    "mapShells = !find $mapOpt_dir -name 'run_map*.sh'\n",
    "mapShells"
   ]
  },
  {
   "cell_type": "code",
   "execution_count": 82,
   "metadata": {},
   "outputs": [],
   "source": [
    "def write_sbatch_mapOpt(mapShells):\n",
    "         with open(\"sbatch_mapOpt.sh\", \"w\") as o:\n",
    "            o.write(\"\"\"#!/usr/bin/env bash \\n\"\"\")\n",
    "            for sh in mapShells:\n",
    "                o.write(\"\"\"sbatch %s\\n\"\"\" % (sh))"
   ]
  },
  {
   "cell_type": "code",
   "execution_count": 83,
   "metadata": {},
   "outputs": [],
   "source": [
    "write_sbatch_mapOpt(mapShells)"
   ]
  },
  {
   "cell_type": "code",
   "execution_count": null,
   "metadata": {},
   "outputs": [],
   "source": []
  },
  {
   "cell_type": "markdown",
   "metadata": {},
   "source": [
    "# Run all mapOpt*sh (doesnt work, run mapOpt in each dir)\n",
    "    cd /data/gpfs/home/tfaske/d/sagebrush/mapOpt\n",
    "    source activate ddocent_env\n",
    "    bash sbatch_mapOpt.sh"
   ]
  },
  {
   "cell_type": "markdown",
   "metadata": {},
   "source": [
    "# Read in mapping results and make decision"
   ]
  },
  {
   "cell_type": "code",
   "execution_count": 99,
   "metadata": {},
   "outputs": [
    {
     "name": "stdout",
     "output_type": "stream",
     "text": [
      "/data/gpfs/assoc/denovo/tfaske/sagebrush\n"
     ]
    }
   ],
   "source": [
    "cd $root"
   ]
  },
  {
   "cell_type": "code",
   "execution_count": 100,
   "metadata": {},
   "outputs": [
    {
     "data": {
      "text/plain": [
       "['./mapOpt/mapOpt94/mapping94.results',\n",
       " './mapOpt/mapOpt96/mapping96.results',\n",
       " './mapOpt/mapOpt90/mapping90.results',\n",
       " './mapOpt/mapOpt92/mapping92.results']"
      ]
     },
     "execution_count": 100,
     "metadata": {},
     "output_type": "execute_result"
    }
   ],
   "source": [
    "mapResults = !find . -name 'mapping*results'\n",
    "mapResults"
   ]
  },
  {
   "cell_type": "code",
   "execution_count": 101,
   "metadata": {},
   "outputs": [
    {
     "name": "stdout",
     "output_type": "stream",
     "text": [
      "./mapOpt/mapOpt94/mapping94.results\n",
      "Cov\tNon0Cov\tContigs\tMeanContigsMapped\tK1\tK2\tSUM Mapped\tSUM Properly\tMean Mapped\tMean Properly\tMisMatched\n",
      "61.5222\t68.3139\t45940\t41296.7\t4\t4\t53701435\t0\t2.82639e+06\t0\t0\n",
      "85.5731\t92.259\t31980\t29632.7\t4\t5\t51997552\t0\t2.73671e+06\t0\t0\n",
      "115.864\t118.349\t22281\t21811.1\t4\t6\t49052081\t0\t2.58169e+06\t0\t0\n",
      "145.998\t148.086\t17224\t16981\t4\t7\t47781516\t0\t2.51482e+06\t0\t0\n",
      "183.208\t184.97\t13430\t13303.6\t4\t8\t46752724\t0\t2.46067e+06\t0\t0\n",
      "228.012\t229.516\t10502\t10435.5\t4\t9\t45501316\t0\t2.39481e+06\t0\t0\n",
      "282.704\t283.864\t8219\t8187.37\t4\t10\t44152711\t0\t2.32383e+06\t0\t0\n",
      "83.7915\t91.9114\t32698\t29768.6\t5\t4\t52058013\t0\t2.7399e+06\t0\t0\n",
      "114.892\t123.027\t23167\t21621\t5\t5\t50574758\t0\t2.66183e+06\t0\t0\n",
      "154.231\t156.533\t16263\t16023.9\t5\t6\t47659934\t0\t2.50842e+06\t0\t0\n",
      "191.63\t193.589\t12809\t12680.8\t5\t7\t46640925\t0\t2.45479e+06\t0\t0\n",
      "236.117\t237.825\t10138\t10066.8\t5\t8\t45485785\t0\t2.39399e+06\t0\t0\n",
      "288.442\t289.908\t8086\t8047.05\t5\t9\t44320059\t0\t2.33263e+06\t0\t0\n",
      "351.921\t353.135\t6414\t6393.95\t5\t10\t42893853\t0\t2.25757e+06\t0\t0\n",
      "107.855\t117.651\t24719\t22636.5\t6\t4\t50657349\t0\t2.66618e+06\t0\t0\n",
      "146.129\t156.106\t17727\t16586.2\t6\t5\t49220831\t0\t2.59057e+06\t0\t0\n",
      "193.239\t195.49\t12626\t12481.7\t6\t6\t46360535\t0\t2.44003e+06\t0\t0\n",
      "236.84\t238.781\t10085\t10004.8\t6\t7\t45386622\t0\t2.38877e+06\t0\t0\n",
      "286.376\t288.089\t8151\t8104.32\t6\t8\t44356228\t0\t2.33454e+06\t0\t0\n",
      "346.572\t348.145\t6568\t6540.16\t6\t9\t43256061\t0\t2.27663e+06\t0\t0\n",
      "411.222\t412.387\t5363\t5349.53\t6\t10\t41910134\t0\t2.2058e+06\t0\t0\n",
      "133.718\t145.514\t19503\t17907.6\t7\t4\t49552573\t0\t2.60803e+06\t0\t0\n",
      "177.571\t189.965\t14282\t13345.4\t7\t5\t48188688\t0\t2.53625e+06\t0\t0\n",
      "234.405\t236.648\t10212\t10116.7\t7\t6\t45485536\t0\t2.39398e+06\t0\t0\n",
      "280.759\t282.725\t8339\t8282.84\t7\t7\t44489027\t0\t2.34153e+06\t0\t0\n",
      "336.705\t338.453\t6795\t6761.63\t7\t8\t43476647\t0\t2.28824e+06\t0\t0\n",
      "400.456\t402.076\t5555\t5534.32\t7\t9\t42273757\t0\t2.22493e+06\t0\t0\n",
      "475.454\t476.76\t4546\t4535.16\t7\t10\t41075854\t0\t2.16189e+06\t0\t0\n",
      "159.525\t173.426\t16035\t14740.5\t8\t4\t48604677\t0\t2.55814e+06\t0\t0\n",
      "208.11\t222.748\t11944\t11156.4\t8\t5\t47231522\t0\t2.48587e+06\t0\t0\n",
      "271.603\t273.931\t8663\t8590.95\t8\t6\t44710251\t0\t2.35317e+06\t0\t0\n",
      "325.097\t327.12\t7077\t7034.84\t8\t7\t43719756\t0\t2.30104e+06\t0\t0\n",
      "386.355\t388.085\t5808\t5783.74\t8\t8\t42642355\t0\t2.24433e+06\t0\t0\n",
      "452.97\t454.53\t4827\t4811.95\t8\t9\t41551876\t0\t2.18694e+06\t0\t0\n",
      "531.043\t532.37\t4010\t4001.47\t8\t10\t40470227\t0\t2.13001e+06\t0\t0\n",
      "186.255\t202.561\t13565\t12467.1\t9\t4\t48008056\t0\t2.52674e+06\t0\t0\n",
      "238.996\t255.94\t10276\t9594.26\t9\t5\t46667093\t0\t2.45616e+06\t0\t0\n",
      "311.814\t314.187\t7411\t7356.63\t9\t6\t43912182\t0\t2.31117e+06\t0\t0\n",
      "370.696\t372.754\t6112\t6079.95\t9\t7\t43055275\t0\t2.26607e+06\t0\t0\n",
      "433.689\t435.631\t5093\t5071.84\t9\t8\t41974996\t0\t2.20921e+06\t0\t0\n",
      "504.994\t506.603\t4271\t4258.84\t9\t9\t40989372\t0\t2.15734e+06\t0\t0\n",
      "589.084\t590.421\t3566\t3559.32\t9\t10\t39923975\t0\t2.10126e+06\t0\t0\n",
      "212.456\t230.892\t11718\t10778.1\t10\t4\t47305745\t0\t2.48978e+06\t0\t0\n",
      "271.633\t291.014\t8912\t8317.89\t10\t5\t46000240\t0\t2.42107e+06\t0\t0\n",
      "350.428\t352.636\t6517\t6477.79\t10\t6\t43397727\t0\t2.28409e+06\t0\t0\n",
      "414.337\t416.415\t5396\t5370.63\t10\t7\t42487324\t0\t2.23617e+06\t0\t0\n",
      "481.6\t483.462\t4535\t4518.89\t10\t8\t41506217\t0\t2.18454e+06\t0\t0\n",
      "551.946\t553.656\t3858\t3847.42\t10\t9\t40469232\t0\t2.12996e+06\t0\t0\n",
      "642.379\t643.803\t3222\t3216.21\t10\t10\t39337390\t0\t2.07039e+06\t0\t0\n",
      "\n",
      "\n",
      "./mapOpt/mapOpt96/mapping96.results\n",
      "Cov\tNon0Cov\tContigs\tMeanContigsMapped\tK1\tK2\tSUM Mapped\tSUM Properly\tMean Mapped\tMean Properly\tMisMatched\n",
      "50.2643\t55.641\t52837\t47649.7\t4\t4\t53117307\t0\t2.65587e+06\t0\t0\n",
      "70.588\t75.8002\t36481\t33940.4\t4\t5\t51503819\t0\t2.57519e+06\t0\t0\n",
      "95.2002\t97.2727\t25509\t24963.5\t4\t6\t48571155\t0\t2.42856e+06\t0\t0\n",
      "120.391\t122.117\t19729\t19450.8\t4\t7\t47506223\t0\t2.37531e+06\t0\t0\n",
      "150.092\t151.583\t15453\t15303\t4\t8\t46390425\t0\t2.31952e+06\t0\t0\n",
      "188.47\t189.728\t12104\t12026.1\t4\t9\t45628656\t0\t2.28143e+06\t0\t0\n",
      "234.549\t235.509\t9460\t9423.65\t4\t10\t44381295\t0\t2.21906e+06\t0\t0\n",
      "69.0092\t75.3967\t37514\t34292.1\t5\t4\t51777637\t0\t2.58888e+06\t0\t0\n",
      "95.2554\t101.555\t26472\t24814.3\t5\t5\t50433901\t0\t2.5217e+06\t0\t0\n",
      "126.954\t128.922\t18682\t18397.1\t5\t6\t47437751\t0\t2.37189e+06\t0\t0\n",
      "157.087\t158.777\t14764\t14608.8\t5\t7\t46387909\t0\t2.3194e+06\t0\t0\n",
      "192.885\t194.388\t11740\t11651.3\t5\t8\t45293204\t0\t2.26466e+06\t0\t0\n",
      "235.977\t237.253\t9422\t9373.4\t5\t9\t44472164\t0\t2.22361e+06\t0\t0\n",
      "289.256\t290.24\t7453\t7429.85\t5\t10\t43122363\t0\t2.15612e+06\t0\t0\n",
      "88.5224\t96.1081\t28446\t26175.7\t6\t4\t50363890\t0\t2.51819e+06\t0\t0\n",
      "120.417\t128.061\t20344\t19121.1\t6\t5\t48997849\t0\t2.44989e+06\t0\t0\n",
      "159.214\t161.18\t14589\t14412.2\t6\t6\t46458478\t0\t2.32292e+06\t0\t0\n",
      "195.146\t196.821\t11728\t11630.1\t6\t7\t45777276\t0\t2.28886e+06\t0\t0\n",
      "236.011\t237.522\t9495\t9436.5\t6\t8\t44823116\t0\t2.24116e+06\t0\t0\n",
      "284.734\t286.117\t7644\t7609\t6\t9\t43535790\t0\t2.17679e+06\t0\t0\n",
      "338.774\t339.718\t6218\t6202.4\t6\t10\t42136726\t0\t2.10684e+06\t0\t0\n",
      "109.929\t118.997\t22452\t20725.5\t7\t4\t49364639\t0\t2.46823e+06\t0\t0\n",
      "145.876\t155.315\t16438\t15433.8\t7\t5\t47961122\t0\t2.39806e+06\t0\t0\n",
      "190.715\t192.688\t11898\t11778.1\t7\t6\t45386333\t0\t2.26932e+06\t0\t0\n",
      "230.877\t232.578\t9704\t9634.8\t7\t7\t44813307\t0\t2.24067e+06\t0\t0\n",
      "277.981\t279.551\t7912\t7869.25\t7\t8\t43993286\t0\t2.19966e+06\t0\t0\n",
      "330.478\t331.898\t6475\t6448.85\t7\t9\t42803512\t0\t2.14018e+06\t0\t0\n",
      "389.534\t390.55\t5291\t5278.85\t7\t10\t41228273\t0\t2.06141e+06\t0\t0\n",
      "131.33\t141.924\t18476\t17086.7\t8\t4\t48531766\t0\t2.42659e+06\t0\t0\n",
      "168.999\t179.952\t13770\t12929.3\t8\t5\t46545584\t0\t2.32728e+06\t0\t0\n",
      "220.848\t222.853\t10087\t9998.25\t8\t6\t44558204\t0\t2.22791e+06\t0\t0\n",
      "267.875\t269.667\t8236\t8182.95\t8\t7\t44129751\t0\t2.20649e+06\t0\t0\n",
      "317.922\t319.498\t6791\t6759\t8\t8\t43186509\t0\t2.15933e+06\t0\t0\n",
      "375.344\t376.816\t5626\t5605.45\t8\t9\t42241161\t0\t2.11206e+06\t0\t0\n",
      "435.241\t436.303\t4670\t4660.05\t8\t10\t40660252\t0\t2.03301e+06\t0\t0\n",
      "152.371\t164.64\t15668\t14493.6\t9\t4\t47749951\t0\t2.3875e+06\t0\t0\n",
      "193.144\t205.783\t11897\t11165.1\t9\t5\t45960452\t0\t2.29802e+06\t0\t0\n",
      "252.763\t254.791\t8663\t8595.85\t9\t6\t43798858\t0\t2.18994e+06\t0\t0\n",
      "304.206\t305.986\t7157\t7117\t9\t7\t43550117\t0\t2.17751e+06\t0\t0\n",
      "356.953\t358.647\t5970\t5943.25\t9\t8\t42627315\t0\t2.13137e+06\t0\t0\n",
      "414.376\t415.819\t5027\t5010.95\t9\t9\t41669641\t0\t2.08348e+06\t0\t0\n",
      "480.332\t481.375\t4167\t4159.35\t9\t10\t40040503\t0\t2.00203e+06\t0\t0\n",
      "\n",
      "\n",
      "./mapOpt/mapOpt90/mapping90.results\n",
      "Cov\tNon0Cov\tContigs\tMeanContigsMapped\tK1\tK2\tSUM Mapped\tSUM Properly\tMean Mapped\tMean Properly\tMisMatched\n",
      "73.1563\t79.5571\t40015\t36721.2\t4\t4\t49766155\t0\t2.92742e+06\t0\t0\n",
      "100.41\t106.443\t28102\t26479.2\t4\t5\t47971177\t0\t2.82183e+06\t0\t0\n",
      "132.251\t135.018\t19927\t19515.6\t4\t6\t44803544\t0\t2.6355e+06\t0\t0\n",
      "166.44\t168.767\t15380\t15167.2\t4\t7\t43520118\t0\t2.56001e+06\t0\t0\n",
      "208.136\t210.049\t11982\t11874\t4\t8\t42399558\t0\t2.49409e+06\t0\t0\n",
      "259.738\t261.327\t9335\t9280.06\t4\t9\t41223558\t0\t2.42492e+06\t0\t0\n",
      "322.845\t324.251\t7288\t7258.12\t4\t10\t40004704\t0\t2.35322e+06\t0\t0\n",
      "99.3874\t106.767\t28474\t26466.5\t5\t4\t48110950\t0\t2.83006e+06\t0\t0\n",
      "134.755\t141.892\t20287\t19251.9\t5\t5\t46476452\t0\t2.73391e+06\t0\t0\n",
      "176.339\t178.912\t14466\t14257.8\t5\t6\t43368524\t0\t2.55109e+06\t0\t0\n",
      "218.985\t221.105\t11372\t11264\t5\t7\t42338822\t0\t2.49052e+06\t0\t0\n",
      "268.825\t270.637\t9003\t8944.18\t5\t8\t41148513\t0\t2.4205e+06\t0\t0\n",
      "329.386\t330.991\t7156\t7123\t5\t9\t40076107\t0\t2.35742e+06\t0\t0\n",
      "403.979\t405.451\t5659\t5640.18\t5\t10\t38870864\t0\t2.28652e+06\t0\t0\n",
      "127.531\t136.06\t21531\t20157.5\t6\t4\t46681756\t0\t2.74599e+06\t0\t0\n",
      "171.759\t180.221\t15475\t14740.5\t6\t5\t45188440\t0\t2.65814e+06\t0\t0\n",
      "222.221\t224.66\t11190\t11069.4\t6\t6\t42276788\t0\t2.48687e+06\t0\t0\n",
      "271.348\t273.377\t8935\t8870.18\t6\t7\t41221003\t0\t2.42476e+06\t0\t0\n",
      "328.795\t330.6\t7196\t7158.29\t6\t8\t40227691\t0\t2.36633e+06\t0\t0\n",
      "398.571\t400.296\t5767\t5743.82\t6\t9\t39082269\t0\t2298957\t0\t0\n",
      "474.288\t475.662\t4707\t4694.88\t6\t10\t37960143\t0\t2.23295e+06\t0\t0\n",
      "159.338\t169.43\t16932\t15909.4\t7\t4\t45867061\t0\t2.69806e+06\t0\t0\n",
      "210.522\t220.909\t12399\t11811.4\t7\t5\t44377926\t0\t2.61047e+06\t0\t0\n",
      "269.923\t272.305\t9028\t8950.24\t7\t6\t41431281\t0\t2.43713e+06\t0\t0\n",
      "323.442\t325.461\t7355\t7311\t7\t7\t40447063\t0\t2379239\t0\t0\n",
      "387.952\t389.741\t5967\t5941.18\t7\t8\t39360043\t0\t2.3153e+06\t0\t0\n",
      "461.834\t463.623\t4880\t4862.65\t7\t9\t38321567\t0\t2.25421e+06\t0\t0\n",
      "546.7\t548.381\t4004\t3993.18\t7\t10\t37222079\t0\t2.18953e+06\t0\t0\n",
      "190.514\t202.418\t13883\t13057.8\t8\t4\t44966611\t0\t2.64509e+06\t0\t0\n",
      "247.591\t259.604\t10342\t9860.88\t8\t5\t43534234\t0\t2.56084e+06\t0\t0\n",
      "313.747\t316.139\t7641\t7584.41\t8\t6\t40760124\t0\t2.39765e+06\t0\t0\n",
      "374.744\t376.769\t6230\t6197.88\t8\t7\t39695514\t0\t2.33503e+06\t0\t0\n",
      "445.846\t447.693\t5096\t5076.35\t8\t8\t38632122\t0\t2.27248e+06\t0\t0\n",
      "524.11\t525.927\t4226\t4212.76\t8\t9\t37662031\t0\t2.21541e+06\t0\t0\n",
      "615.19\t617.014\t3513\t3503.94\t8\t10\t36750243\t0\t2161779\t0\t0\n",
      "220.552\t234.28\t11744\t11050\t9\t4\t44036557\t0\t2.59039e+06\t0\t0\n",
      "283.346\t297.184\t8883\t8468.12\t9\t5\t42793199\t0\t2517247\t0\t0\n",
      "360.805\t363.21\t6524\t6482.06\t9\t6\t40022243\t0\t2.35425e+06\t0\t0\n",
      "427.088\t429.099\t5370\t5346.29\t9\t7\t38996164\t0\t2293892\t0\t0\n",
      "501.4\t503.447\t4462\t4445.24\t9\t8\t38041714\t0\t2.23775e+06\t0\t0\n",
      "583.212\t584.869\t3750\t3740.65\t9\t9\t37189694\t0\t2.18763e+06\t0\t0\n",
      "679.45\t681.257\t3129\t3121.94\t9\t10\t36153565\t0\t2.12668e+06\t0\t0\n",
      "253.052\t268.889\t10094\t9495.29\t10\t4\t43427473\t0\t2.55456e+06\t0\t0\n",
      "322.979\t338.783\t7681\t7321.94\t10\t5\t42179150\t0\t2.48113e+06\t0\t0\n",
      "405.419\t407.681\t5717\t5686.59\t10\t6\t39409202\t0\t2.31819e+06\t0\t0\n",
      "479.191\t481.265\t4717\t4698.06\t10\t7\t38433990\t0\t2.26082e+06\t0\t0\n",
      "556.019\t557.878\t3965\t3953\t10\t8\t37487910\t0\t2.20517e+06\t0\t0\n",
      "635.19\t636.814\t3392\t3384.59\t10\t9\t36638424\t0\t2.1552e+06\t0\t0\n",
      "736.344\t738.281\t2832\t2825.82\t10\t10\t35463065\t0\t2.08606e+06\t0\t0\n"
     ]
    },
    {
     "name": "stdout",
     "output_type": "stream",
     "text": [
      "\n",
      "\n",
      "./mapOpt/mapOpt92/mapping92.results\n",
      "Cov\tNon0Cov\tContigs\tMeanContigsMapped\tK1\tK2\tSUM Mapped\tSUM Properly\tMean Mapped\tMean Properly\tMisMatched\n",
      "65.797\t72.0361\t43059\t39272.4\t4\t4\t50997950\t0\t2.83322e+06\t0\t0\n",
      "91.0934\t96.9616\t30073\t28231.3\t4\t5\t49311735\t0\t2.73954e+06\t0\t0\n",
      "120.977\t123.646\t21298\t20839.1\t4\t6\t46380409\t0\t2.57669e+06\t0\t0\n",
      "152.386\t154.617\t16447\t16211.3\t4\t7\t45115878\t0\t2.50644e+06\t0\t0\n",
      "190.778\t192.643\t12823\t12701.2\t4\t8\t44037650\t0\t2.44654e+06\t0\t0\n",
      "238.941\t240.464\t9987\t9926.06\t4\t9\t42957734\t0\t2.38654e+06\t0\t0\n",
      "296.489\t297.738\t7821\t7790.22\t4\t10\t41744474\t0\t2.31914e+06\t0\t0\n",
      "89.5063\t96.6221\t30632\t28345.9\t5\t4\t49353297\t0\t2.74185e+06\t0\t0\n",
      "121.847\t128.704\t21780\t20609.3\t5\t5\t47771069\t0\t2.65395e+06\t0\t0\n",
      "161.208\t163.687\t15478\t15245.4\t5\t6\t44916178\t0\t2.49534e+06\t0\t0\n",
      "199.887\t201.968\t12191\t12067.7\t5\t7\t43866410\t0\t2.43702e+06\t0\t0\n",
      "245.916\t247.687\t9656\t9588.94\t5\t8\t42746519\t0\t2.37481e+06\t0\t0\n",
      "302.104\t303.645\t7690\t7653\t5\t9\t41822725\t0\t2.32348e+06\t0\t0\n",
      "368.466\t369.708\t6098\t6079.33\t5\t10\t40450877\t0\t2.24727e+06\t0\t0\n",
      "115.041\t123.258\t23139\t21578.2\t6\t4\t47916839\t0\t2.66205e+06\t0\t0\n",
      "155.137\t163.303\t16636\t15798.9\t6\t5\t46458242\t0\t2.58101e+06\t0\t0\n",
      "202.348\t204.717\t12001\t11864.1\t6\t6\t43714430\t0\t2.42858e+06\t0\t0\n",
      "247.622\t249.623\t9585\t9510.28\t6\t7\t42726648\t0\t2.3737e+06\t0\t0\n",
      "300.141\t301.854\t7739\t7697.06\t6\t8\t41815643\t0\t2.32309e+06\t0\t0\n",
      "363.826\t365.395\t6235\t6210.11\t6\t9\t40838730\t0\t2.26882e+06\t0\t0\n",
      "431.204\t432.391\t5095\t5082.61\t6\t10\t39553442\t0\t2.19741e+06\t0\t0\n",
      "143.096\t152.786\t18222\t17055.8\t7\t4\t46937671\t0\t2.60765e+06\t0\t0\n",
      "189.614\t199.552\t13354\t12686.1\t7\t5\t45581288\t0\t2.53229e+06\t0\t0\n",
      "246.197\t248.56\t9678\t9588.11\t7\t6\t42892885\t0\t2.38294e+06\t0\t0\n",
      "294.781\t296.817\t7897\t7844.94\t7\t7\t41907227\t0\t2.32818e+06\t0\t0\n",
      "354.762\t356.547\t6426\t6395.61\t7\t8\t41040993\t0\t2.28006e+06\t0\t0\n",
      "421.815\t423.496\t5273\t5253.72\t7\t9\t40043769\t0\t2.22465e+06\t0\t0\n",
      "501.159\t502.538\t4317\t4306.67\t7\t10\t38952105\t0\t2.16401e+06\t0\t0\n",
      "171.218\t182.55\t14923\t13990.2\t8\t4\t45994621\t0\t2.55526e+06\t0\t0\n",
      "222.994\t234.514\t11151\t10601.8\t8\t5\t44762907\t0\t2.48683e+06\t0\t0\n",
      "285.211\t287.623\t8216\t8149\t8\t6\t42184461\t0\t2.34358e+06\t0\t0\n",
      "341.629\t343.795\t6714\t6673.56\t8\t7\t41292709\t0\t2.29404e+06\t0\t0\n",
      "406.808\t408.742\t5506\t5481.61\t8\t8\t40325214\t0\t2.24029e+06\t0\t0\n",
      "478.443\t480.138\t4572\t4557.39\t8\t9\t39382552\t0\t2.18792e+06\t0\t0\n",
      "561.491\t562.973\t3796\t3787.39\t8\t10\t38375643\t0\t2.13198e+06\t0\t0\n",
      "199.31\t212.523\t12634\t11844.4\t9\t4\t45329071\t0\t2.51828e+06\t0\t0\n",
      "255.384\t268.609\t9568\t9096.44\t9\t5\t43987885\t0\t2.44377e+06\t0\t0\n",
      "327.67\t330.105\t7015\t6965\t9\t6\t41380772\t0\t2.29893e+06\t0\t0\n",
      "388.577\t390.619\t5792\t5763.5\t9\t7\t40518466\t0\t2.25103e+06\t0\t0\n",
      "456.128\t458.155\t4821\t4801.22\t9\t8\t39590107\t0\t2.19945e+06\t0\t0\n",
      "534.541\t536.162\t4036\t4025.17\t9\t9\t38842928\t0\t2.15794e+06\t0\t0\n",
      "623.101\t624.682\t3377\t3369.78\t9\t10\t37887002\t0\t2.10483e+06\t0\t0\n",
      "227.238\t242.085\t10897\t10225.8\t10\t4\t44575844\t0\t2.47644e+06\t0\t0\n",
      "290.264\t305.284\t8291\t7883.06\t10\t5\t43323704\t0\t2.40687e+06\t0\t0\n",
      "368.447\t370.595\t6162\t6127.94\t10\t6\t40873315\t0\t2.27074e+06\t0\t0\n",
      "434.761\t436.812\t5110\t5087.67\t10\t7\t39997169\t0\t2.22206e+06\t0\t0\n",
      "505.431\t507.308\t4292\t4277.44\t10\t8\t39056642\t0\t2.16981e+06\t0\t0\n",
      "582.891\t584.577\t3652\t3642.78\t10\t9\t38327447\t0\t2.1293e+06\t0\t0\n",
      "677.023\t678.648\t3050\t3044\t10\t10\t37180734\t0\t2.0656e+06\t0\t0\n",
      "\n",
      "\n"
     ]
    }
   ],
   "source": [
    "for mR in mapResults:\n",
    "    print(mR)\n",
    "    !cat $mR\n",
    "    print('\\n')"
   ]
  },
  {
   "cell_type": "code",
   "execution_count": 105,
   "metadata": {},
   "outputs": [
    {
     "name": "stderr",
     "output_type": "stream",
     "text": [
      "R[write to console]: Parsed with column specification:\n",
      "cols(\n",
      "  Cov = \u001b[32mcol_double()\u001b[39m,\n",
      "  Non0Cov = \u001b[32mcol_double()\u001b[39m,\n",
      "  Contigs = \u001b[32mcol_double()\u001b[39m,\n",
      "  MeanContigsMapped = \u001b[32mcol_double()\u001b[39m,\n",
      "  K1 = \u001b[32mcol_double()\u001b[39m,\n",
      "  K2 = \u001b[32mcol_double()\u001b[39m,\n",
      "  SUM = \u001b[32mcol_double()\u001b[39m,\n",
      "  Mapped = \u001b[32mcol_double()\u001b[39m,\n",
      "  SUM_1 = \u001b[32mcol_double()\u001b[39m,\n",
      "  Properly = \u001b[32mcol_double()\u001b[39m,\n",
      "  Mean = \u001b[32mcol_double()\u001b[39m,\n",
      "  Mapped_1 = \u001b[31mcol_character()\u001b[39m,\n",
      "  Mean_1 = \u001b[31mcol_character()\u001b[39m,\n",
      "  Properly_1 = \u001b[31mcol_character()\u001b[39m,\n",
      "  MisMatched = \u001b[31mcol_character()\u001b[39m\n",
      ")\n",
      "\n",
      "R[write to console]: Warning:\n",
      "R[write to console]:  49 parsing failures.\n",
      "row col   expected     actual                         file\n",
      "  1  -- 15 columns 11 columns 'mapOpt90/mapping90.results'\n",
      "  2  -- 15 columns 11 columns 'mapOpt90/mapping90.results'\n",
      "  3  -- 15 columns 11 columns 'mapOpt90/mapping90.results'\n",
      "  4  -- 15 columns 11 columns 'mapOpt90/mapping90.results'\n",
      "  5  -- 15 columns 11 columns 'mapOpt90/mapping90.results'\n",
      "... ... .......... .......... ............................\n",
      "See problems(...) for more details.\n",
      "\n",
      "\n",
      "R[write to console]: Parsed with column specification:\n",
      "cols(\n",
      "  Cov = \u001b[32mcol_double()\u001b[39m,\n",
      "  Non0Cov = \u001b[32mcol_double()\u001b[39m,\n",
      "  Contigs = \u001b[32mcol_double()\u001b[39m,\n",
      "  MeanContigsMapped = \u001b[32mcol_double()\u001b[39m,\n",
      "  K1 = \u001b[32mcol_double()\u001b[39m,\n",
      "  K2 = \u001b[32mcol_double()\u001b[39m,\n",
      "  SUM = \u001b[32mcol_double()\u001b[39m,\n",
      "  Mapped = \u001b[32mcol_double()\u001b[39m,\n",
      "  SUM_1 = \u001b[32mcol_double()\u001b[39m,\n",
      "  Properly = \u001b[32mcol_double()\u001b[39m,\n",
      "  Mean = \u001b[32mcol_double()\u001b[39m,\n",
      "  Mapped_1 = \u001b[31mcol_character()\u001b[39m,\n",
      "  Mean_1 = \u001b[31mcol_character()\u001b[39m,\n",
      "  Properly_1 = \u001b[31mcol_character()\u001b[39m,\n",
      "  MisMatched = \u001b[31mcol_character()\u001b[39m\n",
      ")\n",
      "\n",
      "R[write to console]: Warning:\n",
      "R[write to console]:  49 parsing failures.\n",
      "row col   expected     actual                         file\n",
      "  1  -- 15 columns 11 columns 'mapOpt92/mapping92.results'\n",
      "  2  -- 15 columns 11 columns 'mapOpt92/mapping92.results'\n",
      "  3  -- 15 columns 11 columns 'mapOpt92/mapping92.results'\n",
      "  4  -- 15 columns 11 columns 'mapOpt92/mapping92.results'\n",
      "  5  -- 15 columns 11 columns 'mapOpt92/mapping92.results'\n",
      "... ... .......... .......... ............................\n",
      "See problems(...) for more details.\n",
      "\n",
      "\n",
      "R[write to console]: Parsed with column specification:\n",
      "cols(\n",
      "  Cov = \u001b[32mcol_double()\u001b[39m,\n",
      "  Non0Cov = \u001b[32mcol_double()\u001b[39m,\n",
      "  Contigs = \u001b[32mcol_double()\u001b[39m,\n",
      "  MeanContigsMapped = \u001b[32mcol_double()\u001b[39m,\n",
      "  K1 = \u001b[32mcol_double()\u001b[39m,\n",
      "  K2 = \u001b[32mcol_double()\u001b[39m,\n",
      "  SUM = \u001b[32mcol_double()\u001b[39m,\n",
      "  Mapped = \u001b[32mcol_double()\u001b[39m,\n",
      "  SUM_1 = \u001b[32mcol_double()\u001b[39m,\n",
      "  Properly = \u001b[32mcol_double()\u001b[39m,\n",
      "  Mean = \u001b[32mcol_double()\u001b[39m,\n",
      "  Mapped_1 = \u001b[31mcol_character()\u001b[39m,\n",
      "  Mean_1 = \u001b[31mcol_character()\u001b[39m,\n",
      "  Properly_1 = \u001b[31mcol_character()\u001b[39m,\n",
      "  MisMatched = \u001b[31mcol_character()\u001b[39m\n",
      ")\n",
      "\n",
      "R[write to console]: Warning:\n",
      "R[write to console]:  49 parsing failures.\n",
      "row col   expected     actual                         file\n",
      "  1  -- 15 columns 11 columns 'mapOpt94/mapping94.results'\n",
      "  2  -- 15 columns 11 columns 'mapOpt94/mapping94.results'\n",
      "  3  -- 15 columns 11 columns 'mapOpt94/mapping94.results'\n",
      "  4  -- 15 columns 11 columns 'mapOpt94/mapping94.results'\n",
      "  5  -- 15 columns 11 columns 'mapOpt94/mapping94.results'\n",
      "... ... .......... .......... ............................\n",
      "See problems(...) for more details.\n",
      "\n",
      "\n",
      "R[write to console]: Parsed with column specification:\n",
      "cols(\n",
      "  Cov = \u001b[32mcol_double()\u001b[39m,\n",
      "  Non0Cov = \u001b[32mcol_double()\u001b[39m,\n",
      "  Contigs = \u001b[32mcol_double()\u001b[39m,\n",
      "  MeanContigsMapped = \u001b[32mcol_double()\u001b[39m,\n",
      "  K1 = \u001b[32mcol_double()\u001b[39m,\n",
      "  K2 = \u001b[32mcol_double()\u001b[39m,\n",
      "  SUM = \u001b[32mcol_double()\u001b[39m,\n",
      "  Mapped = \u001b[32mcol_double()\u001b[39m,\n",
      "  SUM_1 = \u001b[32mcol_double()\u001b[39m,\n",
      "  Properly = \u001b[32mcol_double()\u001b[39m,\n",
      "  Mean = \u001b[32mcol_double()\u001b[39m,\n",
      "  Mapped_1 = \u001b[31mcol_character()\u001b[39m,\n",
      "  Mean_1 = \u001b[31mcol_character()\u001b[39m,\n",
      "  Properly_1 = \u001b[31mcol_character()\u001b[39m,\n",
      "  MisMatched = \u001b[31mcol_character()\u001b[39m\n",
      ")\n",
      "\n",
      "R[write to console]: Warning:\n",
      "R[write to console]:  42 parsing failures.\n",
      "row col   expected     actual                         file\n",
      "  1  -- 15 columns 11 columns 'mapOpt96/mapping96.results'\n",
      "  2  -- 15 columns 11 columns 'mapOpt96/mapping96.results'\n",
      "  3  -- 15 columns 11 columns 'mapOpt96/mapping96.results'\n",
      "  4  -- 15 columns 11 columns 'mapOpt96/mapping96.results'\n",
      "  5  -- 15 columns 11 columns 'mapOpt96/mapping96.results'\n",
      "... ... .......... .......... ............................\n",
      "See problems(...) for more details.\n",
      "\n",
      "\n"
     ]
    },
    {
     "name": "stdout",
     "output_type": "stream",
     "text": [
      "        Cov  Non0Cov Contigs MeanContigsMapped K1 K2      SUM Mapped   SUM_1\n",
      "1:  73.1563  79.5571   40015          36721.20  4  4 49766155      0 2927420\n",
      "2: 100.4100 106.4430   28102          26479.20  4  5 47971177      0 2821830\n",
      "3: 132.2510 135.0180   19927          19515.60  4  6 44803544      0 2635500\n",
      "4: 166.4400 168.7670   15380          15167.20  4  7 43520118      0 2560010\n",
      "5: 208.1360 210.0490   11982          11874.00  4  8 42399558      0 2494090\n",
      "6: 259.7380 261.3270    9335           9280.06  4  9 41223558      0 2424920\n",
      "   Properly Mean Mapped_1 Mean_1 Properly_1 MisMatched   k sim      ratio\n",
      "1:        0    0     <NA>   <NA>       <NA>       <NA> 4_4  90 1.00933481\n",
      "2:        0    0     <NA>   <NA>       <NA>       <NA> 4_5  90 1.15111603\n",
      "3:        0    0     <NA>   <NA>       <NA>       <NA> 4_6  90 0.90081421\n",
      "4:        0    0     <NA>   <NA>       <NA>       <NA> 4_7  90 0.86338649\n",
      "5:        0    0     <NA>   <NA>       <NA>       <NA> 4_8  90 0.84422560\n",
      "6:        0    0     <NA>   <NA>       <NA>       <NA> 4_9  90 0.07479189\n"
     ]
    }
   ],
   "source": [
    "%%R \n",
    "library(readr)\n",
    "library(data.table)\n",
    "setwd('/data/gpfs/assoc/denovo/tfaske/sagebrush/mapOpt')\n",
    "\n",
    "mapping90 <- read_table2('mapOpt90/mapping90.results')\n",
    "mapping90$k <- paste0(mapping90$K1,'_',mapping90$K2)\n",
    "mapping90$sim <- '90'\n",
    "mapping90$ratio <- abs( scale(mapping90$SUM_1) / (scale(mapping90$MeanContigsMapped) / scale(mapping90$Cov) ) ) \n",
    "\n",
    "mapping92 <- read_table2('mapOpt92/mapping92.results')\n",
    "mapping92$k <- paste0(mapping92$K1,'_',mapping92$K2)\n",
    "mapping92$sim <- '92'\n",
    "mapping92$ratio <- abs( scale(mapping92$SUM_1) / (scale(mapping92$MeanContigsMapped) / scale(mapping92$Cov) ) ) \n",
    "\n",
    "\n",
    "mapping94 <- read_table2('mapOpt94/mapping94.results')\n",
    "mapping94$k <- paste0(mapping94$K1,'_',mapping94$K2)\n",
    "mapping94$sim <- '94'\n",
    "mapping94$ratio <- abs( scale(mapping94$SUM_1) / (scale(mapping94$MeanContigsMapped) / scale(mapping94$Cov) ) ) \n",
    "\n",
    "mapping96 <- read_table2('mapOpt96/mapping96.results')\n",
    "mapping96$k <- paste0(mapping96$K1,'_',mapping96$K2)\n",
    "mapping96$sim <- '96'\n",
    "mapping96$ratio <- abs( scale(mapping96$SUM_1) / (scale(mapping96$MeanContigsMapped) / scale(mapping96$Cov) ) )\n",
    "\n",
    "#print(mapping92)\n",
    "#print(mapping94)\n",
    "#print(mapping96)\n",
    "\n",
    "#map_df\n",
    "map_df <- rbindlist(list(mapping90,mapping92,mapping94,mapping96))\n",
    "head(map_df)"
   ]
  },
  {
   "cell_type": "code",
   "execution_count": 106,
   "metadata": {},
   "outputs": [
    {
     "data": {
      "image/png": "[encoded data removed]"
     },
     "metadata": {},
     "output_type": "display_data"
    }
   ],
   "source": [
    "%%R\n",
    "ggplot(data=map_df,aes(x=k,y=ratio,color=as.factor(sim))) + \n",
    "    geom_line(aes(group=as.factor(sim))) + theme_bw()"
   ]
  },
  {
   "cell_type": "code",
   "execution_count": 107,
   "metadata": {},
   "outputs": [
    {
     "name": "stdout",
     "output_type": "stream",
     "text": [
      "              Cov           Non0Cov           Contigs MeanContigsMapped \n",
      "     2.898807e+02      2.941559e+02      1.164077e+04      1.118020e+04 \n",
      "               K1                K2               SUM             SUM_1 \n",
      "     6.888889e+00      7.000000e+00      4.367304e+07      2.370519e+06 \n"
     ]
    }
   ],
   "source": [
    "%%R \n",
    "colMeans(map_df[,c(1:7,9)])"
   ]
  },
  {
   "cell_type": "code",
   "execution_count": 108,
   "metadata": {},
   "outputs": [
    {
     "data": {
      "image/png": "[encoded data removed]"
     },
     "metadata": {},
     "output_type": "display_data"
    }
   ],
   "source": [
    "%%R\n",
    "map_top <- map_df[which(map_df$ratio > quantile(map_df$ratio,probs=.75)),]\n",
    "\n",
    "#SUM Properly\n",
    "ggplot(data=map_top,aes(x=k,y=ratio,color=as.factor(sim))) + \n",
    "    geom_line(aes(group=as.factor(sim))) + theme_bw()"
   ]
  },
  {
   "cell_type": "code",
   "execution_count": 109,
   "metadata": {},
   "outputs": [
    {
     "name": "stdout",
     "output_type": "stream",
     "text": [
      "        Cov Non0Cov Contigs MeanContigsMapped K1 K2      SUM   SUM_1 sim\n",
      " 1: 247.591 259.604   10342           9860.88  8  5 43534234 2560840  90\n",
      " 2: 524.110 525.927    4226           4212.76  8  9 37662031 2215410  90\n",
      " 3: 253.052 268.889   10094           9495.29 10  4 43427473 2554560  90\n",
      " 4: 222.994 234.514   11151          10601.80  8  5 44762907 2486830  92\n",
      " 5: 478.443 480.138    4572           4557.39  8  9 39382552 2187920  92\n",
      " 6: 227.238 242.085   10897          10225.80 10  4 44575844 2476440  92\n",
      " 7: 208.110 222.748   11944          11156.40  8  5 47231522 2485870  94\n",
      " 8: 452.970 454.530    4827           4811.95  8  9 41551876 2186940  94\n",
      " 9: 212.456 230.892   11718          10778.10 10  4 47305745 2489780  94\n",
      "10: 168.999 179.952   13770          12929.30  8  5 46545584 2327280  96\n",
      "11: 375.344 376.816    5626           5605.45  8  9 42241161 2112060  96\n"
     ]
    }
   ],
   "source": [
    "%%R\n",
    "map_df[which(map_df$k %in% c('8_5','8_9','10_4')),c(1:7,9,17)]"
   ]
  },
  {
   "cell_type": "markdown",
   "metadata": {},
   "source": [
    "# Map results \n",
    "    sim=90 K1=8 k2=5 WINNER\n",
    "    \n",
    "    remake reference in fastq using these parameters. Move reference.fasta to assembly dir"
   ]
  }
 ],
 "metadata": {
  "kernelspec": {
   "display_name": "Python 3",
   "language": "python",
   "name": "python3"
  },
  "language_info": {
   "codemirror_mode": {
    "name": "ipython",
    "version": 3
   },
   "file_extension": ".py",
   "mimetype": "text/x-python",
   "name": "python",
   "nbconvert_exporter": "python",
   "pygments_lexer": "ipython3",
   "version": "3.6.7"
  }
 },
 "nbformat": 4,
 "nbformat_minor": 1
}
