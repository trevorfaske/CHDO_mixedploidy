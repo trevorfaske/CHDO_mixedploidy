{
 "cells": [
  {
   "cell_type": "markdown",
   "metadata": {},
   "source": [
    "# Variant calling\n",
    "\n",
    "    Going to use bcftools concensus calling (see https://github.com/tparchman/T.podura/blob/master/analysis_workflow_varcal.md).   "
   ]
  },
  {
   "cell_type": "code",
   "execution_count": 1,
   "metadata": {
    "ExecuteTime": {}
   },
   "outputs": [
    {
     "name": "stdout",
     "output_type": "stream",
     "text": [
      "/usr/bin/sh: line 0: source: activate: file not found\r\n"
     ]
    }
   ],
   "source": [
    "!source activate py36"
   ]
  },
  {
   "cell_type": "code",
   "execution_count": 2,
   "metadata": {
    "ExecuteTime": {}
   },
   "outputs": [],
   "source": [
    "import sys\n",
    "\n",
    "#sys.path.append('/home/faske/g/anaconda3/envs/py34/lib/python3.4/site-packages')\n",
    "sys.path.append('/data/gpfs/assoc/parchmanlab/tfaske/anaconda3/envs/py36/lib/python3.6/site-packages')\n",
    "sys.path.append(\"/data/gpfs/assoc/parchmanlab/tfaske/ipynb/include_utils\")\n",
    "\n",
    "import ipyparallel as ipp\n",
    "import os, time\n",
    "from os import environ\n",
    "import include_utils as u\n",
    "import pandas as pd\n",
    "import numpy as np\n",
    "import scipy as sp\n",
    "import numbers\n",
    "import matplotlib.pyplot as plt\n",
    "import matplotlib.patches as mpatches\n",
    "import matplotlib.cm as cm\n",
    "import matplotlib.colors as mcolors\n",
    "#import vcf\n",
    "from sklearn import preprocessing\n",
    "from subprocess import Popen, PIPE, call, check_output\n",
    "import seaborn as sns\n",
    "from IPython.display import FileLink\n",
    "import urllib.request as urllib2\n",
    "import dill\n",
    "import traceback\n",
    "from pandas import Series, DataFrame\n",
    "import gzip\n",
    "import warnings\n",
    "warnings.filterwarnings('ignore',category=pd.io.pytables.PerformanceWarning)\n",
    "%config InlineBackend.figure_format = 'retina'\n",
    "from Bio import SeqIO\n",
    "#import pysam\n",
    "from collections import OrderedDict, namedtuple, Counter\n",
    "import operator\n",
    "import multiprocessing as mp\n",
    "import shutil\n",
    "import tempfile\n",
    "#from ipyparallel import Client\n",
    "import scandir\n",
    "import glob\n",
    "from Bio.SeqIO.QualityIO import FastqGeneralIterator\n",
    "import pickle\n",
    "import re\n",
    "from itertools import chain\n",
    "#import Levenshtein as lv"
   ]
  },
  {
   "cell_type": "code",
   "execution_count": 3,
   "metadata": {
    "ExecuteTime": {}
   },
   "outputs": [],
   "source": [
    "root = \"/data/gpfs/assoc/denovo/tfaske/CHDO\""
   ]
  },
  {
   "cell_type": "code",
   "execution_count": 4,
   "metadata": {},
   "outputs": [],
   "source": [
    "snp_dir = os.path.join(root,'SNPcall')"
   ]
  },
  {
   "cell_type": "code",
   "execution_count": 5,
   "metadata": {
    "ExecuteTime": {}
   },
   "outputs": [],
   "source": [
    "bwa_dir = os.path.join(snp_dir,'bwa')"
   ]
  },
  {
   "cell_type": "code",
   "execution_count": 6,
   "metadata": {},
   "outputs": [
    {
     "name": "stdout",
     "output_type": "stream",
     "text": [
      "/data/gpfs/assoc/denovo/tfaske/CHDO/SNPcall/bwa\n"
     ]
    }
   ],
   "source": [
    "cd $bwa_dir"
   ]
  },
  {
   "cell_type": "markdown",
   "metadata": {},
   "source": [
    "### Assembly"
   ]
  },
  {
   "cell_type": "code",
   "execution_count": 14,
   "metadata": {},
   "outputs": [],
   "source": [
    "assembly = \"/data/gpfs/assoc/denovo/tfaske/CHDO/assembly/reference.fasta\"\n",
    "assert assembly\n",
    "\n",
    "#assembly indexed with bwa: \n",
    "# bwa index -a bwtsw -p chromosome_assembly chromosome_assembly.fna\n",
    "# index_bwa.sh "
   ]
  },
  {
   "cell_type": "code",
   "execution_count": 29,
   "metadata": {},
   "outputs": [],
   "source": [
    "mapped_bam = []\n",
    "files = !find . -type f -name '*mapped.bam'\n",
    "files = [os.path.abspath(x) for x in files if 'bam' in x]\n",
    "for x in files:\n",
    "    mapped_bam.append(x)\n",
    "mapped_bam = sorted(mapped_bam)"
   ]
  },
  {
   "cell_type": "code",
   "execution_count": 30,
   "metadata": {
    "scrolled": true
   },
   "outputs": [
    {
     "data": {
      "text/plain": [
       "(708,\n",
       " '/data/gpfs/assoc/denovo/tfaske/sagebrush/SNPcall/bwa/split_bam/AT2_BB_10_mapped.bam')"
      ]
     },
     "execution_count": 30,
     "metadata": {},
     "output_type": "execute_result"
    }
   ],
   "source": [
    "len(mapped_bam), mapped_bam[0]"
   ]
  },
  {
   "cell_type": "markdown",
   "metadata": {},
   "source": [
    "## split bam files by chromosome"
   ]
  },
  {
   "cell_type": "code",
   "execution_count": 15,
   "metadata": {},
   "outputs": [
    {
     "name": "stdout",
     "output_type": "stream",
     "text": [
      "/data/gpfs/assoc/denovo/tfaske/sagebrush/SNPcall/bwa\n"
     ]
    }
   ],
   "source": [
    "cd $bwa_dir"
   ]
  },
  {
   "cell_type": "code",
   "execution_count": 35,
   "metadata": {},
   "outputs": [
    {
     "name": "stdout",
     "output_type": "stream",
     "text": [
      "mkdir: cannot create directory ‘split_bam’: File exists\r\n"
     ]
    }
   ],
   "source": [
    "!mkdir split_bam"
   ]
  },
  {
   "cell_type": "code",
   "execution_count": 16,
   "metadata": {},
   "outputs": [],
   "source": [
    "split_dir = os.path.join(bwa_dir,\"split_bam\")\n",
    "assert(split_dir)"
   ]
  },
  {
   "cell_type": "code",
   "execution_count": null,
   "metadata": {},
   "outputs": [],
   "source": [
    "#mv mapped bam to spilt_bam\n",
    "for mb in mapped_bam:\n",
    "    !mv $mb $split_dir"
   ]
  },
  {
   "cell_type": "code",
   "execution_count": 17,
   "metadata": {},
   "outputs": [
    {
     "name": "stdout",
     "output_type": "stream",
     "text": [
      "/data/gpfs/assoc/denovo/tfaske/sagebrush/SNPcall/bwa/split_bam\n"
     ]
    }
   ],
   "source": [
    "cd $split_dir"
   ]
  },
  {
   "cell_type": "code",
   "execution_count": 18,
   "metadata": {},
   "outputs": [],
   "source": [
    "mapped_bam = []\n",
    "files = !find . -type f -name '*mapped.bam'\n",
    "files = [os.path.abspath(x) for x in files if 'bam' in x]\n",
    "for x in files:\n",
    "    mapped_bam.append(x)\n",
    "mapped_bam = sorted(mapped_bam)"
   ]
  },
  {
   "cell_type": "code",
   "execution_count": 19,
   "metadata": {
    "scrolled": true
   },
   "outputs": [
    {
     "data": {
      "text/plain": [
       "(708,\n",
       " '/data/gpfs/assoc/denovo/tfaske/sagebrush/SNPcall/bwa/split_bam/AT2_BB_10_mapped.bam')"
      ]
     },
     "execution_count": 19,
     "metadata": {},
     "output_type": "execute_result"
    }
   ],
   "source": [
    "len(mapped_bam), mapped_bam[0]"
   ]
  },
  {
   "cell_type": "code",
   "execution_count": null,
   "metadata": {},
   "outputs": [],
   "source": [
    "for mb in mapped_bam:                                     \n",
    "    cmd = \"bamtools split -in %s -reference\" % (mb)\n",
    "    !$cmd"
   ]
  },
  {
   "cell_type": "code",
   "execution_count": 40,
   "metadata": {},
   "outputs": [
    {
     "name": "stdout",
     "output_type": "stream",
     "text": [
      "708\r\n"
     ]
    }
   ],
   "source": [
    "!ls -l *REF_CM042338.1.bam | wc -l "
   ]
  },
  {
   "cell_type": "markdown",
   "metadata": {},
   "source": [
    "# Call snps by chromosome\n",
    "\n",
    "    Using bcftools modeled after https://github.com/tparchman/T.podura/blob/master/analysis_workflow_varcal.md\n",
    "    \n",
    "    Need to make one text file that lists bam files one per line, one file per chromosome"
   ]
  },
  {
   "cell_type": "code",
   "execution_count": 20,
   "metadata": {},
   "outputs": [
    {
     "name": "stdout",
     "output_type": "stream",
     "text": [
      "/data/gpfs/assoc/denovo/tfaske/sagebrush/SNPcall/bwa/split_bam\n"
     ]
    }
   ],
   "source": [
    "cd $split_dir"
   ]
  },
  {
   "cell_type": "code",
   "execution_count": 21,
   "metadata": {},
   "outputs": [],
   "source": [
    "chrom_bam = []\n",
    "chrom_files = !find . -type f -name '*mapped.REF*bam'\n",
    "chrom_files = [os.path.abspath(x) for x in chrom_files if 'bam' in x]\n",
    "for x in chrom_files:\n",
    "    chrom_bam.append(x)\n",
    "chrom_bam = sorted(chrom_bam)"
   ]
  },
  {
   "cell_type": "code",
   "execution_count": 22,
   "metadata": {},
   "outputs": [
    {
     "data": {
      "text/plain": [
       "(6372,\n",
       " '/data/gpfs/assoc/denovo/tfaske/sagebrush/SNPcall/bwa/split_bam/AT2_BB_10_mapped.REF_CM042338.1.bam')"
      ]
     },
     "execution_count": 22,
     "metadata": {},
     "output_type": "execute_result"
    }
   ],
   "source": [
    "len(chrom_bam),chrom_bam[0]"
   ]
  },
  {
   "cell_type": "code",
   "execution_count": 23,
   "metadata": {},
   "outputs": [],
   "source": [
    "chroms = sorted(list(set([b.split('REF_')[1].split('.bam')[0] for b in chrom_bam])))"
   ]
  },
  {
   "cell_type": "code",
   "execution_count": 24,
   "metadata": {},
   "outputs": [
    {
     "data": {
      "text/plain": [
       "(9,\n",
       " ['CM042338.1',\n",
       "  'CM042339.1',\n",
       "  'CM042340.1',\n",
       "  'CM042341.1',\n",
       "  'CM042342.1',\n",
       "  'CM042343.1',\n",
       "  'CM042344.1',\n",
       "  'CM042345.1',\n",
       "  'CM042346.1'])"
      ]
     },
     "execution_count": 24,
     "metadata": {},
     "output_type": "execute_result"
    }
   ],
   "source": [
    "len(chroms),chroms"
   ]
  },
  {
   "cell_type": "code",
   "execution_count": 25,
   "metadata": {},
   "outputs": [
    {
     "name": "stdout",
     "output_type": "stream",
     "text": [
      "/data/gpfs/assoc/denovo/tfaske/sagebrush/SNPcall\n"
     ]
    }
   ],
   "source": [
    "cd $snp_dir"
   ]
  },
  {
   "cell_type": "code",
   "execution_count": 87,
   "metadata": {},
   "outputs": [],
   "source": [
    "!mkdir vcf"
   ]
  },
  {
   "cell_type": "code",
   "execution_count": 26,
   "metadata": {},
   "outputs": [],
   "source": [
    "vcf_dir = os.path.join(snp_dir,\"vcf\")\n",
    "assert(vcf_dir)"
   ]
  },
  {
   "cell_type": "code",
   "execution_count": 27,
   "metadata": {},
   "outputs": [
    {
     "name": "stdout",
     "output_type": "stream",
     "text": [
      "/data/gpfs/assoc/denovo/tfaske/sagebrush/SNPcall/vcf\n"
     ]
    }
   ],
   "source": [
    "cd $vcf_dir"
   ]
  },
  {
   "cell_type": "markdown",
   "metadata": {},
   "source": [
    "#### make bam file list per chrom"
   ]
  },
  {
   "cell_type": "code",
   "execution_count": 28,
   "metadata": {},
   "outputs": [],
   "source": [
    "for i in range(0,len(chroms)):\n",
    "    c_files = [c for c in chrom_files if chroms[i] in c]\n",
    "    c_files = sorted(c_files)\n",
    "    outfile = 'chr' + str(i + 1) + '_bam.txt'\n",
    "    with open(outfile, \"w\") as o:\n",
    "        for c in c_files:\n",
    "            o.write(\"%s\\n\" % (c))"
   ]
  },
  {
   "cell_type": "markdown",
   "metadata": {},
   "source": [
    "#### call snps for bcftools "
   ]
  },
  {
   "cell_type": "code",
   "execution_count": 29,
   "metadata": {},
   "outputs": [
    {
     "name": "stdout",
     "output_type": "stream",
     "text": [
      "/data/gpfs/assoc/denovo/tfaske/sagebrush/SNPcall/vcf\n"
     ]
    }
   ],
   "source": [
    "cd $vcf_dir"
   ]
  },
  {
   "cell_type": "code",
   "execution_count": 30,
   "metadata": {},
   "outputs": [
    {
     "data": {
      "text/plain": [
       "['chr1', 'chr2', 'chr3', 'chr4', 'chr5', 'chr6', 'chr7', 'chr8', 'chr9']"
      ]
     },
     "execution_count": 30,
     "metadata": {},
     "output_type": "execute_result"
    }
   ],
   "source": [
    "chrom_list = ['chr' + str(l) for l in list(range(1,10))]\n",
    "chrom_list"
   ]
  },
  {
   "cell_type": "code",
   "execution_count": 33,
   "metadata": {},
   "outputs": [],
   "source": [
    "### select options for slurm submission\n",
    "#account = 'cpu-s1-bionres-0'\n",
    "#partition = 'cpu-s1-bionres-0'\n",
    "account = 'cpu-s5-denovo-0'\n",
    "partition = 'cpu-core-0'\n",
    "jobname = 'bcftools'\n",
    "time = '1-00:00:00' #time limit 1 day\n",
    "cpus = 1\n",
    "mem_cpu = 24000\n",
    "email = 'tfaske@nevada.unr.edu'"
   ]
  },
  {
   "cell_type": "code",
   "execution_count": 36,
   "metadata": {},
   "outputs": [],
   "source": [
    "def write_bcftools_sh(account,partition,time,jobname,cpus,mem_cpu,email,chr,assembly):\n",
    "    for i in range(0,len(chr)):\n",
    "        with open(\"run_bcftools_%s.sh\" % (chr[i]), \"w\") as o:\n",
    "            o.write(\"\"\"#!/usr/bin/env bash\n",
    "#SBATCH --account=%s\n",
    "#SBATCH --partition=%s\n",
    "#SBATCH --time=%s\n",
    "#SBATCH --ntasks 1\n",
    "#SBATCH --cpus-per-task %d\n",
    "#SBATCH --mem-per-cpu=%d\n",
    "#SBATCH --job-name %s_bcftools\n",
    "#SBATCH --output output_bcftools_%s.txt\n",
    "#SBATCH --mail-type=FAIL,END\n",
    "#SBATCH --mail-user=%s \\n\\n\n",
    "    \n",
    "bcftools mpileup -a DP,AD,INFO/AD -C 50 -d 250 -f %s -q 30 -Q 20 -I -b %s_bam.txt | bcftools call -v -c -f GQ -O z -o %s.vcf.gz\n",
    " \\n\"\"\" % (account,partition,time,int(cpus),int(mem_cpu),chr[i],chr[i],email,assembly,chr[i],chr[i]))"
   ]
  },
  {
   "cell_type": "code",
   "execution_count": 37,
   "metadata": {},
   "outputs": [],
   "source": [
    "write_bcftools_sh(account,partition,time,jobname,cpus,mem_cpu,email,chrom_list,assembly)"
   ]
  },
  {
   "cell_type": "markdown",
   "metadata": {},
   "source": [
    "#### finds all bcftools slurm scripts and writes bash script to sbatch them"
   ]
  },
  {
   "cell_type": "code",
   "execution_count": 38,
   "metadata": {},
   "outputs": [],
   "source": [
    "shbcf_files = []\n",
    "files = !find . -name 'run_bcftools*'\n",
    "files = [os.path.abspath(x) for x in files]\n",
    "for x in files:\n",
    "        shbcf_files.append(x)\n",
    "shbcf_files = sorted(shbcf_files)"
   ]
  },
  {
   "cell_type": "code",
   "execution_count": 39,
   "metadata": {},
   "outputs": [
    {
     "data": {
      "text/plain": [
       "(9,\n",
       " '/data/gpfs/assoc/denovo/tfaske/sagebrush/SNPcall/vcf/run_bcftools_chr1.sh')"
      ]
     },
     "execution_count": 39,
     "metadata": {},
     "output_type": "execute_result"
    }
   ],
   "source": [
    "len(shbcf_files),shbcf_files[0]"
   ]
  },
  {
   "cell_type": "code",
   "execution_count": 40,
   "metadata": {},
   "outputs": [],
   "source": [
    "def write_bash_bcf_sh(sh_files):\n",
    "    with open(\"run_bash_bcftools.sh\", \"w\") as o:\n",
    "        o.write(\"\"\"#!/usr/bin/env bash \\n\\n\"\"\")\n",
    "        for f in sh_files:\n",
    "            o.write(\"sbatch %s \\n\" % (f))    "
   ]
  },
  {
   "cell_type": "code",
   "execution_count": 41,
   "metadata": {},
   "outputs": [],
   "source": [
    "write_bash_bcf_sh(shbcf_files)"
   ]
  },
  {
   "cell_type": "markdown",
   "metadata": {},
   "source": [
    "### concatnate vcf files"
   ]
  },
  {
   "cell_type": "code",
   "execution_count": 50,
   "metadata": {},
   "outputs": [
    {
     "name": "stdout",
     "output_type": "stream",
     "text": [
      "/data/gpfs/assoc/denovo/tfaske/sagebrush/SNPcall/vcf\n"
     ]
    }
   ],
   "source": [
    "cd $vcf_dir"
   ]
  },
  {
   "cell_type": "code",
   "execution_count": 54,
   "metadata": {},
   "outputs": [],
   "source": [
    "vcfs_gz = !ls *vcf.gz | grep -v tbi | grep -v reorder | grep -v sorted\n",
    "vcfs_gz = [os.path.abspath(x) for x in vcfs_gz]"
   ]
  },
  {
   "cell_type": "code",
   "execution_count": 55,
   "metadata": {},
   "outputs": [
    {
     "data": {
      "text/plain": [
       "(9,\n",
       " ['/data/gpfs/assoc/denovo/tfaske/sagebrush/SNPcall/vcf/chr1.vcf.gz',\n",
       "  '/data/gpfs/assoc/denovo/tfaske/sagebrush/SNPcall/vcf/chr2.vcf.gz',\n",
       "  '/data/gpfs/assoc/denovo/tfaske/sagebrush/SNPcall/vcf/chr3.vcf.gz',\n",
       "  '/data/gpfs/assoc/denovo/tfaske/sagebrush/SNPcall/vcf/chr4.vcf.gz',\n",
       "  '/data/gpfs/assoc/denovo/tfaske/sagebrush/SNPcall/vcf/chr5.vcf.gz',\n",
       "  '/data/gpfs/assoc/denovo/tfaske/sagebrush/SNPcall/vcf/chr6.vcf.gz',\n",
       "  '/data/gpfs/assoc/denovo/tfaske/sagebrush/SNPcall/vcf/chr7.vcf.gz',\n",
       "  '/data/gpfs/assoc/denovo/tfaske/sagebrush/SNPcall/vcf/chr8.vcf.gz',\n",
       "  '/data/gpfs/assoc/denovo/tfaske/sagebrush/SNPcall/vcf/chr9.vcf.gz'])"
      ]
     },
     "execution_count": 55,
     "metadata": {},
     "output_type": "execute_result"
    }
   ],
   "source": [
    "len(vcfs_gz),vcfs_gz"
   ]
  },
  {
   "cell_type": "code",
   "execution_count": 56,
   "metadata": {},
   "outputs": [],
   "source": [
    "with open(\"run_concat_vcf.sh\", \"w\") as o:\n",
    "    o.write(\"bcftools concat --threads 50 -Oz -o ARTR_chr.vcf.gz {}\\n\".format(\" \".join(vcfs_gz)))"
   ]
  },
  {
   "cell_type": "code",
   "execution_count": null,
   "metadata": {},
   "outputs": [],
   "source": []
  },
  {
   "cell_type": "code",
   "execution_count": null,
   "metadata": {},
   "outputs": [],
   "source": []
  },
  {
   "cell_type": "markdown",
   "metadata": {},
   "source": [
    "## EXTRA TEST \n",
    "\n",
    "I messed up initial vcf files but still have half in dir: /data/gpfs/home/tfaske/d/sagebrush/SNPcall/vcf/vcf_part\n",
    "\n",
    "Reorder and filter and run EBG to get started \n",
    "\n",
    "## reorder vcf file\n",
    "\n",
    "messed up bam file ordering and need to reorder\n",
    "\n",
    "    Ran in terminal: \n",
    "    - cp chr1.vcf.gz index.vcf.gz\n",
    "    - gunzip index.vcf.gz\n",
    "    - bcftools query -l index.vcf | sort > sample_index.txt \n",
    "    - gunzip *vcf.gz\n",
    "    - bcftools view -S samples.txt input.vcf > output.vcf"
   ]
  },
  {
   "cell_type": "code",
   "execution_count": 42,
   "metadata": {},
   "outputs": [],
   "source": [
    "vcf_part = os.path.join(vcf_dir,\"vcf_part\")\n",
    "assert(vcf_part)"
   ]
  },
  {
   "cell_type": "code",
   "execution_count": 57,
   "metadata": {},
   "outputs": [
    {
     "name": "stdout",
     "output_type": "stream",
     "text": [
      "/data/gpfs/assoc/denovo/tfaske/sagebrush/SNPcall/vcf/vcf_part\n"
     ]
    }
   ],
   "source": [
    "cd $vcf_part"
   ]
  },
  {
   "cell_type": "code",
   "execution_count": 44,
   "metadata": {},
   "outputs": [],
   "source": [
    "vcfs_gz = !ls *vcf.gz | grep -v tbi | grep -v sorted\n",
    "vcfs_gz = [os.path.abspath(x) for x in vcfs_gz]"
   ]
  },
  {
   "cell_type": "code",
   "execution_count": 45,
   "metadata": {},
   "outputs": [
    {
     "data": {
      "text/plain": [
       "(5,\n",
       " '/data/gpfs/assoc/denovo/tfaske/sagebrush/SNPcall/vcf/vcf_part/chr5.vcf.gz')"
      ]
     },
     "execution_count": 45,
     "metadata": {},
     "output_type": "execute_result"
    }
   ],
   "source": [
    "len(vcfs_gz),vcfs_gz[0]"
   ]
  },
  {
   "cell_type": "code",
   "execution_count": 46,
   "metadata": {},
   "outputs": [
    {
     "data": {
      "text/plain": [
       "['chr5', 'chr6', 'chr7', 'chr8', 'chr9']"
      ]
     },
     "execution_count": 46,
     "metadata": {},
     "output_type": "execute_result"
    }
   ],
   "source": [
    "chrom_list = ['chr' + str(l) for l in list(range(5,10))]\n",
    "chrom_list"
   ]
  },
  {
   "cell_type": "code",
   "execution_count": 47,
   "metadata": {},
   "outputs": [],
   "source": [
    "for c in chrom_list:\n",
    "    vcf = c + '.vcf'\n",
    "    vcf_out = c + '.reorder.vcf'\n",
    "    !bcftools view -S sample_index.txt $vcf > $vcf_out"
   ]
  },
  {
   "cell_type": "code",
   "execution_count": 58,
   "metadata": {},
   "outputs": [],
   "source": [
    "for c in chrom_list:\n",
    "    vcf = c + '.reorder.vcf'\n",
    "    vcf_gz = vcf + '.gz'\n",
    "    !bgzip -c {vcf} > {vcf_gz}\n",
    "    !tabix {vcf_gz}"
   ]
  },
  {
   "cell_type": "markdown",
   "metadata": {},
   "source": [
    "### concatnate vcf files"
   ]
  },
  {
   "cell_type": "code",
   "execution_count": 59,
   "metadata": {},
   "outputs": [
    {
     "name": "stdout",
     "output_type": "stream",
     "text": [
      "/data/gpfs/assoc/denovo/tfaske/sagebrush/SNPcall/vcf/vcf_part\n"
     ]
    }
   ],
   "source": [
    "cd $vcf_part"
   ]
  },
  {
   "cell_type": "code",
   "execution_count": 60,
   "metadata": {},
   "outputs": [],
   "source": [
    "vcfs_gz = !ls *reorder.vcf.gz | grep -v tbi | grep -v sorted\n",
    "vcfs_gz = [os.path.abspath(x) for x in vcfs_gz]"
   ]
  },
  {
   "cell_type": "code",
   "execution_count": 61,
   "metadata": {},
   "outputs": [
    {
     "data": {
      "text/plain": [
       "(5,\n",
       " '/data/gpfs/assoc/denovo/tfaske/sagebrush/SNPcall/vcf/vcf_part/chr5.reorder.vcf.gz')"
      ]
     },
     "execution_count": 61,
     "metadata": {},
     "output_type": "execute_result"
    }
   ],
   "source": [
    "len(vcfs_gz),vcfs_gz[0]"
   ]
  },
  {
   "cell_type": "code",
   "execution_count": 62,
   "metadata": {},
   "outputs": [],
   "source": [
    "with open(\"run_concat_vcf.sh\", \"w\") as o:\n",
    "    o.write(\"bcftools concat --threads 50 -Oz -o ARTR_part.vcf.gz {}\\n\".format(\" \".join(vcfs_gz)))"
   ]
  },
  {
   "cell_type": "code",
   "execution_count": null,
   "metadata": {},
   "outputs": [],
   "source": []
  }
 ],
 "metadata": {
  "kernelspec": {
   "display_name": "Python 3",
   "language": "python",
   "name": "python3"
  },
  "language_info": {
   "codemirror_mode": {
    "name": "ipython",
    "version": 3
   },
   "file_extension": ".py",
   "mimetype": "text/x-python",
   "name": "python",
   "nbconvert_exporter": "python",
   "pygments_lexer": "ipython3",
   "version": "3.6.7"
  }
 },
 "nbformat": 4,
 "nbformat_minor": 1
}
