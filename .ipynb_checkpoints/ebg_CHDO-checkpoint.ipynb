{
 "cells": [
  {
   "cell_type": "markdown",
   "metadata": {},
   "source": [
    "## Extracting genotype likelihoods and running EBG \n",
    "\n",
    "ebg git: https://github.com/pblischak/polyploid-genotyping  \n",
    "\n",
    "ebg tutorial: https://pblischak.github.io/polyploid-genotyping/\n",
    "\n",
    "Tiger (genotype error) bitbucket: \n",
    "https://bitbucket.org/wegmannlab/tiger/wiki/Home\n",
    "\n",
    "Tiger paper: https://onlinelibrary.wiley.com/doi/epdf/10.1111/1755-0998.13153  \n",
    "\n",
    "Workflow thoughts: \n",
    "\n",
    "- run UPDOG (https://github.com/dcgerard/updog) to get sequencing error\n",
    "- use vcfR to extract read depths\n",
    "- run EBG"
   ]
  },
  {
   "cell_type": "code",
   "execution_count": 61,
   "metadata": {},
   "outputs": [],
   "source": [
    "import sys\n",
    "\n",
    "#sys.path.append('/home/faske/g/anaconda3/envs/py34/lib/python3.4/site-packages')\n",
    "sys.path.append('/data/gpfs/assoc/parchmanlab/tfaske/anaconda3/envs/py36/lib/python3.6/site-packages')\n",
    "sys.path.append(\"/data/gpfs/assoc/parchmanlab/tfaske/ipynb/include_utils\")\n",
    "\n",
    "import ipyparallel as ipp\n",
    "import os, time\n",
    "import include_utils as u\n",
    "import pandas as pd\n",
    "import numpy as np\n",
    "import scipy as sp\n",
    "import random\n",
    "import numbers\n",
    "import matplotlib.pyplot as plt\n",
    "import matplotlib.patches as mpatches\n",
    "import matplotlib.cm as cm\n",
    "import matplotlib.colors as mcolors\n",
    "#import vcf\n",
    "from sklearn import preprocessing\n",
    "from subprocess import Popen, PIPE, call, check_output\n",
    "import seaborn as sns\n",
    "from IPython.display import FileLink\n",
    "import urllib.request as urllib2\n",
    "import dill\n",
    "import traceback\n",
    "from pandas import Series, DataFrame\n",
    "import gzip\n",
    "import warnings\n",
    "warnings.filterwarnings('ignore',category=pd.io.pytables.PerformanceWarning)\n",
    "%config InlineBackend.figure_format = 'retina'\n",
    "from Bio import SeqIO\n",
    "#import pysam\n",
    "from collections import OrderedDict, namedtuple, Counter\n",
    "import operator\n",
    "import multiprocessing as mp\n",
    "import shutil\n",
    "import tempfile\n",
    "#from ipyparallel import Client\n",
    "import scandir\n",
    "import glob\n",
    "from Bio.SeqIO.QualityIO import FastqGeneralIterator\n",
    "import pickle\n",
    "import re\n",
    "from itertools import chain\n",
    "#import Levenshtein as lv"
   ]
  },
  {
   "cell_type": "code",
   "execution_count": 62,
   "metadata": {},
   "outputs": [],
   "source": [
    "analysis_dir = '/data/gpfs/assoc/denovo/tfaske/CHDO/SNPcall/'"
   ]
  },
  {
   "cell_type": "code",
   "execution_count": 63,
   "metadata": {},
   "outputs": [
    {
     "name": "stdout",
     "output_type": "stream",
     "text": [
      "/data/gpfs/assoc/denovo/tfaske/CHDO/SNPcall\n"
     ]
    }
   ],
   "source": [
    "cd $analysis_dir"
   ]
  },
  {
   "cell_type": "code",
   "execution_count": 64,
   "metadata": {},
   "outputs": [
    {
     "name": "stdout",
     "output_type": "stream",
     "text": [
      "mkdir: cannot create directory ‘ebg’: File exists\r\n"
     ]
    }
   ],
   "source": [
    "!mkdir ebg"
   ]
  },
  {
   "cell_type": "code",
   "execution_count": 65,
   "metadata": {},
   "outputs": [
    {
     "data": {
      "text/plain": [
       "'/data/gpfs/assoc/denovo/tfaske/CHDO/SNPcall/ebg'"
      ]
     },
     "execution_count": 65,
     "metadata": {},
     "output_type": "execute_result"
    }
   ],
   "source": [
    "ebg_dir = os.path.join(analysis_dir, \"ebg\")\n",
    "assert os.path.exists(ebg_dir)\n",
    "ebg_dir"
   ]
  },
  {
   "cell_type": "code",
   "execution_count": 66,
   "metadata": {},
   "outputs": [
    {
     "name": "stdout",
     "output_type": "stream",
     "text": [
      "/data/gpfs/assoc/denovo/tfaske/CHDO/SNPcall/ebg\n"
     ]
    }
   ],
   "source": [
    "cd $ebg_dir"
   ]
  },
  {
   "cell_type": "markdown",
   "metadata": {},
   "source": [
    "#### Make sure to move vcf file over and make an unziped copy"
   ]
  },
  {
   "cell_type": "code",
   "execution_count": 67,
   "metadata": {},
   "outputs": [
    {
     "data": {
      "text/plain": [
       "'/data/gpfs/assoc/denovo/tfaske/CHDO/SNPcall/ebg/final_snps.recode.vcf.gz'"
      ]
     },
     "execution_count": 67,
     "metadata": {},
     "output_type": "execute_result"
    }
   ],
   "source": [
    "vcf_gz_file = os.path.join(ebg_dir, \"final_snps.recode.vcf.gz\")\n",
    "assert os.path.exists(vcf_gz_file)\n",
    "vcf_gz_file"
   ]
  },
  {
   "cell_type": "markdown",
   "metadata": {},
   "source": [
    "## UPDOG \n",
    "\n",
    "use updog to calculate sequencing error (R) \n",
    "https://github.com/dcgerard/updog\n",
    "\n",
    "multidog(  \n",
    "refmat,  \n",
    "sizemat,  \n",
    "ploidy,  \n",
    "model = c(\"norm\", \"hw\", \"bb\", \"s1\", \"s1pp\", \"f1\", \"f1pp\", \"flex\", \"uniform\",\n",
    "\"custom\"),  \n",
    "nc = 1,  \n",
    "p1_id = NULL,  \n",
    "p2_id = NULL,  \n",
    "bias_init = exp(c(-1, -0.5, 0, 0.5, 1)),  \n",
    "prior_vec = NULL,  \n",
    "...\n",
    ")\n",
    "\n",
    "\n",
    "-**refmat:** A matrix of reference read counts. The columns index the individuals and the\n",
    "rows index the markers (SNPs). This matrix must have rownames (for the names\n",
    "of the markers) and column names (for the names of the individuals). These\n",
    "names must match the names in sizemat.  \n",
    "-**sizemat:** A matrix of total read counts. The columns index the individuals and the rows\n",
    "index the markers (SNPs). This matrix must have rownames (for the names of\n",
    "the markers) and column names (for the names of the individuals). These names\n",
    "must match the names in refmat.  \n",
    "-**ploidy:** The ploidy of the species. Assumed to be the same for each individual.  \n",
    "-**model:** What form should the prior (genotype distribution) take? See Details for possible values.  \n",
    "-**nc:** The number of computing cores to use when doing parallelization on your local\n",
    "machine. See the section \"Parallel Computation\" for how to implement more\n",
    "complicated evaluation strategies using the future package  \n",
    "\n",
    "\n",
    "### Use updog_Rscipt to make slurm files"
   ]
  },
  {
   "cell_type": "code",
   "execution_count": 88,
   "metadata": {},
   "outputs": [],
   "source": [
    "### select options for slurm submission common\n",
    "#account = 'cpu-s1-bionres-0'\n",
    "#partition = 'cpu-s1-bionres-0'\n",
    "account = 'cpu-s5-denovo-0'\n",
    "partition = 'cpu-core-0'\n",
    "time = '1-00:00:00' #time limit 1 day\n",
    "cpus = 64\n",
    "mem_cpu = 2500\n",
    "email = 'tfaske@nevada.unr.edu'\n",
    "\n",
    "### updog imports inputs\n",
    "updog_Rscript = '~/g/src/R/updog_Rscript.R'\n",
    "vcf = 'final_snps.recode.vcf'\n",
    "ploidy4 = 4\n",
    "ploidy6 = 6"
   ]
  },
  {
   "cell_type": "code",
   "execution_count": 89,
   "metadata": {},
   "outputs": [],
   "source": [
    "def write_updog_sh(account,partition,time,cpus,mem_cpu,email,ebg_dir,Rscript,vcf,ploidy):\n",
    "    with open(\"run_updog%d.sh\" % (int(ploidy)), \"w\") as o:\n",
    "        o.write(\"\"\"#!/usr/bin/env bash\n",
    "#SBATCH --account=%s\n",
    "#SBATCH --partition=%s\n",
    "#SBATCH --time=%s\n",
    "#SBATCH --ntasks 1\n",
    "#SBATCH --cpus-per-task %d\n",
    "#SBATCH --mem-per-cpu=%d\n",
    "#SBATCH --job-name updog%d\n",
    "#SBATCH --output output_updog%d.txt\n",
    "#SBATCH --mail-type=FAIL,END\n",
    "#SBATCH --mail-user=%s\n",
    "\n",
    "#change working directory\n",
    "cd %s \n",
    "\n",
    "# run updog Rscript\n",
    "Rscript %s %s %d %d \\n\"\"\" % \n",
    "                (account,partition,time,int(cpus),int(mem_cpu),int(ploidy),int(ploidy),email,ebg_dir,Rscript,vcf,int(ploidy),int(cpus)))\n",
    "\n"
   ]
  },
  {
   "cell_type": "code",
   "execution_count": 90,
   "metadata": {},
   "outputs": [],
   "source": [
    "write_updog_sh(account,partition,time,cpus,mem_cpu,email,ebg_dir,updog_Rscript,vcf,ploidy4)"
   ]
  },
  {
   "cell_type": "code",
   "execution_count": 91,
   "metadata": {},
   "outputs": [],
   "source": [
    "write_updog_sh(account,partition,time,cpus,mem_cpu,email,ebg_dir,updog_Rscript,vcf,ploidy6)"
   ]
  },
  {
   "cell_type": "code",
   "execution_count": null,
   "metadata": {},
   "outputs": [],
   "source": []
  },
  {
   "cell_type": "markdown",
   "metadata": {},
   "source": [
    "### run in terminal \n",
    "sbatch run_updog6.sh  \n",
    "sbatch run_updog4.sh  \n",
    "\n",
    "### get sequencing error and write it out "
   ]
  },
  {
   "cell_type": "code",
   "execution_count": 35,
   "metadata": {},
   "outputs": [
    {
     "name": "stdout",
     "output_type": "stream",
     "text": [
      "The rpy2.ipython extension is already loaded. To reload it, use:\n",
      "  %reload_ext rpy2.ipython\n"
     ]
    }
   ],
   "source": [
    "%load_ext rpy2.ipython"
   ]
  },
  {
   "cell_type": "code",
   "execution_count": 36,
   "metadata": {},
   "outputs": [],
   "source": [
    "%%R\n",
    "require(readr)\n",
    "library(data.table)\n",
    "library(updog)\n",
    "require(ggplot2)\n",
    "library(vcfR)\n",
    "\n",
    "source('/data/gpfs/home/tfaske/g/src/R/Imports.R')\n",
    "\n",
    "setwd('/data/gpfs/assoc/denovo/tfaske/CHDO/SNPcall/ebg')"
   ]
  },
  {
   "cell_type": "code",
   "execution_count": 17,
   "metadata": {},
   "outputs": [],
   "source": [
    "%%R\n",
    "ref_ad <- apply(ad, c(1,2), function(df) as.numeric(unlist(strsplit(as.character(df),','))[1]))\n",
    "                "
   ]
  },
  {
   "cell_type": "code",
   "execution_count": 18,
   "metadata": {},
   "outputs": [
    {
     "name": "stdout",
     "output_type": "stream",
     "text": [
      "[1] 23442   272\n",
      "                       CD2_IP_10 CD2_IP_11 CD2_IP_12 CD2_IP_1 CD2_IP_2\n",
      "dDocent_Contig_794_58  \"3,1\"     \"3,3\"     \"0,0\"     \"0,0\"    \"0,2\"   \n",
      "dDocent_Contig_860_5   \"0,0\"     \"0,0\"     \"3,0\"     \"0,0\"    \"13,0\"  \n",
      "dDocent_Contig_1448_8  \"18,0\"    \"25,0\"    \"0,0\"     \"0,0\"    \"5,0\"   \n",
      "dDocent_Contig_2012_5  \"3,0\"     \"1,2\"     \"0,0\"     \"8,0\"    \"11,1\"  \n",
      "dDocent_Contig_2169_59 \"6,1\"     \"0,0\"     \"0,0\"     \"1,1\"    \"2,0\"   \n",
      "                       CD2_IP_10 CD2_IP_11 CD2_IP_12 CD2_IP_1 CD2_IP_2\n",
      "dDocent_Contig_794_58          3         3         0        0        0\n",
      "dDocent_Contig_860_5           0         0         3        0       13\n",
      "dDocent_Contig_1448_8         18        25         0        0        5\n",
      "dDocent_Contig_2012_5          3         1         0        8       11\n",
      "dDocent_Contig_2169_59         6         0         0        1        2\n"
     ]
    }
   ],
   "source": [
    "%%R\n",
    "print(dim(ref_ad))\n",
    "print(ad[1:5,1:5])\n",
    "print(ref_ad[1:5,1:5])"
   ]
  },
  {
   "cell_type": "code",
   "execution_count": 19,
   "metadata": {},
   "outputs": [],
   "source": [
    "%%R\n",
    "tot_ad <- apply(ad, c(1,2), function(df) sum(as.numeric(unlist(strsplit(as.character(df),',')))))\n",
    "                "
   ]
  },
  {
   "cell_type": "code",
   "execution_count": 20,
   "metadata": {},
   "outputs": [
    {
     "name": "stdout",
     "output_type": "stream",
     "text": [
      "                       CD2_IP_10 CD2_IP_11 CD2_IP_12 CD2_IP_1 CD2_IP_2\n",
      "dDocent_Contig_794_58  \"3,1\"     \"3,3\"     \"0,0\"     \"0,0\"    \"0,2\"   \n",
      "dDocent_Contig_860_5   \"0,0\"     \"0,0\"     \"3,0\"     \"0,0\"    \"13,0\"  \n",
      "dDocent_Contig_1448_8  \"18,0\"    \"25,0\"    \"0,0\"     \"0,0\"    \"5,0\"   \n",
      "dDocent_Contig_2012_5  \"3,0\"     \"1,2\"     \"0,0\"     \"8,0\"    \"11,1\"  \n",
      "dDocent_Contig_2169_59 \"6,1\"     \"0,0\"     \"0,0\"     \"1,1\"    \"2,0\"   \n",
      "[1] 23442   272\n",
      "                       CD2_IP_10 CD2_IP_11 CD2_IP_12 CD2_IP_1 CD2_IP_2\n",
      "dDocent_Contig_794_58  \"3,1\"     \"3,3\"     \"0,0\"     \"0,0\"    \"0,2\"   \n",
      "dDocent_Contig_860_5   \"0,0\"     \"0,0\"     \"3,0\"     \"0,0\"    \"13,0\"  \n",
      "dDocent_Contig_1448_8  \"18,0\"    \"25,0\"    \"0,0\"     \"0,0\"    \"5,0\"   \n",
      "dDocent_Contig_2012_5  \"3,0\"     \"1,2\"     \"0,0\"     \"8,0\"    \"11,1\"  \n",
      "dDocent_Contig_2169_59 \"6,1\"     \"0,0\"     \"0,0\"     \"1,1\"    \"2,0\"   \n",
      "                       CD2_IP_10 CD2_IP_11 CD2_IP_12 CD2_IP_1 CD2_IP_2\n",
      "dDocent_Contig_794_58          3         3         0        0        0\n",
      "dDocent_Contig_860_5           0         0         3        0       13\n",
      "dDocent_Contig_1448_8         18        25         0        0        5\n",
      "dDocent_Contig_2012_5          3         1         0        8       11\n",
      "dDocent_Contig_2169_59         6         0         0        1        2\n",
      "                       CD2_IP_10 CD2_IP_11 CD2_IP_12 CD2_IP_1 CD2_IP_2\n",
      "dDocent_Contig_794_58          4         6         0        0        2\n",
      "dDocent_Contig_860_5           0         0         3        0       13\n",
      "dDocent_Contig_1448_8         18        25         0        0        5\n",
      "dDocent_Contig_2012_5          3         3         0        8       12\n",
      "dDocent_Contig_2169_59         7         0         0        2        2\n"
     ]
    }
   ],
   "source": [
    "%%R\n",
    "print(ad[1:5,1:5])\n",
    "print(dim(tot_ad))\n",
    "print(ad[1:5,1:5])\n",
    "print(ref_ad[1:5,1:5])\n",
    "print(tot_ad[1:5,1:5])"
   ]
  },
  {
   "cell_type": "code",
   "execution_count": 21,
   "metadata": {},
   "outputs": [],
   "source": [
    "%%R\n",
    "# turn ref_ad numeric \n",
    "ref_ad <- apply(ref_ad, c(1,2), function(df) as.numeric(df))"
   ]
  },
  {
   "cell_type": "code",
   "execution_count": 22,
   "metadata": {},
   "outputs": [
    {
     "name": "stderr",
     "output_type": "stream",
     "text": [
      "R[write to console]: x being coerced from class: matrix to data.table\n",
      "\n",
      "R[write to console]: x being coerced from class: matrix to data.table\n",
      "\n"
     ]
    }
   ],
   "source": [
    "%%R\n",
    "fwrite(tot_ad,'tot_ad.txt',quote=FALSE)\n",
    "fwrite(ref_ad,'ref_ad.txt',quote=FALSE)"
   ]
  },
  {
   "cell_type": "code",
   "execution_count": 23,
   "metadata": {},
   "outputs": [],
   "source": [
    "%%R\n",
    "#split file to include only tetraploids\n",
    "indv <- colnames(ad)\n",
    "\n",
    "Sp <- rep(NA,times=length(indv))\n",
    "Ploidy <- rep(NA,times=length(indv))\n",
    "Pop <- rep(NA,times=length(indv))\n",
    "ID <- rep(NA,times=length(indv))\n",
    "All <- rep(NA,times=length(indv))\n",
    "for (i in 1:length(indv)){\n",
    "  SpP <- unlist(strsplit(as.character(indv[i]),\"_\"))[1]\n",
    "  Sp[i] <- gsub('\\\\d','',SpP,perl=TRUE)\n",
    "  Ploidy[i] <-  gsub('(\\\\D)','',SpP,perl=TRUE)\n",
    "  Pop[i] <- unlist(strsplit(as.character(indv[i]),\"_\"))[2]\n",
    "  ID[i] <- unlist(strsplit(as.character(indv[i]),\"_\"))[3]\n",
    "  All[i] <- as.character(indv[i])\n",
    "}\n",
    "Pop_ID <- data.frame(Sp=Sp,Ploidy=Ploidy,Pop=Pop,ID=ID,All=All,\n",
    "                     SpPloidy=paste0(Sp,Ploidy))\n",
    "write.csv(Pop_ID,'Pop_ID.csv',row.names=FALSE)"
   ]
  },
  {
   "cell_type": "code",
   "execution_count": 24,
   "metadata": {},
   "outputs": [
    {
     "name": "stdout",
     "output_type": "stream",
     "text": [
      "  Sp Ploidy Pop ID       All SpPloidy\n",
      "1 CD      2  IP 10 CD2_IP_10      CD2\n",
      "2 CD      2  IP 11 CD2_IP_11      CD2\n",
      "3 CD      2  IP 12 CD2_IP_12      CD2\n",
      "4 CD      2  IP  1  CD2_IP_1      CD2\n",
      "5 CD      2  IP  2  CD2_IP_2      CD2\n",
      "6 CD      2  IP  3  CD2_IP_3      CD2\n"
     ]
    }
   ],
   "source": [
    "%%R\n",
    "head(Pop_ID)"
   ]
  },
  {
   "cell_type": "code",
   "execution_count": 42,
   "metadata": {},
   "outputs": [],
   "source": [
    "%%R \n",
    "updog4_out <- readRDS('updog4_out.RDS')"
   ]
  },
  {
   "cell_type": "code",
   "execution_count": 43,
   "metadata": {},
   "outputs": [
    {
     "data": {
      "image/png": "[encoded data removed]"
     },
     "metadata": {},
     "output_type": "display_data"
    }
   ],
   "source": [
    "%%R\n",
    "seq_error4 <- updog4_out$snpdf$seq\n",
    "hist(seq_error4)"
   ]
  },
  {
   "cell_type": "code",
   "execution_count": 44,
   "metadata": {},
   "outputs": [],
   "source": [
    "%%R\n",
    "updog4_snp <- updog4_out$snpdf$snp\n",
    "updog4_snp <- sapply(updog4_snp, function(s) gsub('_',':',s))"
   ]
  },
  {
   "cell_type": "code",
   "execution_count": 45,
   "metadata": {},
   "outputs": [
    {
     "name": "stdout",
     "output_type": "stream",
     "text": [
      "[1] 23442\n",
      "[1] 23442\n"
     ]
    }
   ],
   "source": [
    "%%R\n",
    "print(length(updog4_snp))\n",
    "print(length(pos_ID))"
   ]
  },
  {
   "cell_type": "code",
   "execution_count": 46,
   "metadata": {},
   "outputs": [],
   "source": [
    "%%R\n",
    "seq_err4_df <- data.frame(error=round(seq_error4,5))\n",
    "write.table(seq_err4_df,'seq_error4.txt',row.names=FALSE,col.names=FALSE)"
   ]
  },
  {
   "cell_type": "markdown",
   "metadata": {},
   "source": [
    "### hexaploids 6n"
   ]
  },
  {
   "cell_type": "code",
   "execution_count": 49,
   "metadata": {},
   "outputs": [
    {
     "name": "stdout",
     "output_type": "stream",
     "text": [
      "    |                                   *.#,%    \n",
      "   |||                                 *******/  \n",
      " |||||||    (**..#**.                  */   **/  \n",
      "|||||||||    */****************************/*%   \n",
      "   |||    &****..,*.************************/    \n",
      "   |||     (....,,,*,...****%********/(******    \n",
      "   |||                ,,****%////,,,,./.****/    \n",
      "   |||                  /**//         .*///....  \n",
      "   |||                  .*/*/%#         .,/   ., \n",
      "   |||               , **/   #%         .*    .. \n",
      "   |||                               ,,,*        \n",
      "\n",
      "Working on it...done!"
     ]
    }
   ],
   "source": [
    "%%R \n",
    "updog6_out <- multidog(refmat=ref_ad_6,\n",
    "                      sizemat=tot_ad_6,\n",
    "                      ploidy=6,\n",
    "                      model = \"hw\",\n",
    "                      nc = 32)\n",
    "\n",
    "saveRDS(updog6_out,'updog6_out.RDS')\n",
    "\n"
   ]
  },
  {
   "cell_type": "code",
   "execution_count": 38,
   "metadata": {},
   "outputs": [],
   "source": [
    "%%R \n",
    "updog6_out <- readRDS('updog6_out.RDS')"
   ]
  },
  {
   "cell_type": "code",
   "execution_count": 39,
   "metadata": {},
   "outputs": [
    {
     "data": {
      "image/png": "[encoded data removed]"
     },
     "metadata": {},
     "output_type": "display_data"
    }
   ],
   "source": [
    "%%R\n",
    "seq_error6 <- updog6_out$snpdf$seq\n",
    "hist(seq_error6)"
   ]
  },
  {
   "cell_type": "code",
   "execution_count": 55,
   "metadata": {},
   "outputs": [],
   "source": [
    "%%R\n",
    "updog6_snp <- as.character(updog6_out$snpdf$snp)\n",
    "#updog6_snp <- sapply(updog6_snp, function(s) gsub('_',':',s))"
   ]
  },
  {
   "cell_type": "code",
   "execution_count": 56,
   "metadata": {
    "scrolled": true
   },
   "outputs": [
    {
     "name": "stdout",
     "output_type": "stream",
     "text": [
      "[1] 23440\n",
      "[1] 23442\n",
      "[1] \"dDocent_Contig_794:58\"  \"dDocent_Contig_860:5\"   \"dDocent_Contig_1448:8\" \n",
      "[4] \"dDocent_Contig_2012:5\"  \"dDocent_Contig_2169:59\"\n",
      "[1] \"dDocent_Contig_794:58\"  \"dDocent_Contig_860:5\"   \"dDocent_Contig_1448:8\" \n",
      "[4] \"dDocent_Contig_2012:5\"  \"dDocent_Contig_2169:59\"\n"
     ]
    }
   ],
   "source": [
    "%%R\n",
    "print(length(updog6_snp))\n",
    "print(length(pos_ID))\n",
    "print(updog6_snp[1:5])\n",
    "print(pos_ID[1:5])"
   ]
  },
  {
   "cell_type": "code",
   "execution_count": 59,
   "metadata": {},
   "outputs": [
    {
     "name": "stdout",
     "output_type": "stream",
     "text": [
      "[1] \"dDocent_Contig_45101:23\" \"dDocent_Contig_65000:27\"\n",
      "[1] 2746 5006\n"
     ]
    }
   ],
   "source": [
    "%%R\n",
    "#length(which(pos_ID %in% updog6_snp))\n",
    "print(pos_ID[-which(pos_ID %in% updog6_snp)])\n",
    "print(which(pos_ID %in% pos_ID[-which(pos_ID %in% updog6_snp)]))"
   ]
  },
  {
   "cell_type": "code",
   "execution_count": 60,
   "metadata": {},
   "outputs": [],
   "source": [
    "%%R\n",
    "seq_err6_df <- data.frame(error=round(seq_error6,5))\n",
    "write.table(seq_err6_df,'seq_error6.txt',row.names=FALSE,col.names=FALSE)"
   ]
  },
  {
   "cell_type": "markdown",
   "metadata": {},
   "source": [
    "## EBG \n",
    "\n",
    "https://pblischak.github.io/polyploid-genotyping/\n",
    "\n",
    "**Input data formats:**  \n",
    "There are three input files that are necessary to run an analysis with ebg (four if you are using the alloSNP model). The read count data files (total and alternative allele read counts) should be in plain text files as tab delimited matrices with individuals as rows and loci as columns. The per locus error rates files should be a single column with the error value listed for each locus on one line.  \n",
    "  \n",
    "Reference allele frequencies (**alloSNP** model only)  \n",
    "If you are running the *alloSNP* model, you will need a reference panel of allele frequencies for the genotypes in subgenomes one. This should be formated in the same way as the per locus error rates file: one allele frequency per locus listed on separate lines.  \n",
    "  \n",
    "**Running analyses:**  \n",
    "Analyses for each model can be run from the command line by calling the ebg executable. The options for each of the models can be viewed by typing: ebg model -h. Below we have given an example of what should be typed at the command line to run each model.  \n",
    "  \n",
    "**hwe**  \n",
    "ebg hwe -t tot-reads.txt \\  \n",
    "        -a alt-reads.txt \\  \n",
    "        -e error.txt \\  \n",
    "        -p 4 \\  \n",
    "        --iters 1000 \\  \n",
    "        --prefix hwe-test   \n",
    "**diseq**  \n",
    "ebg diseq -t tot-reads.txt \\  \n",
    "          -a alt-reads.txt \\  \n",
    "          -e error.txt \\  \n",
    "          -p 4 \\  \n",
    "          --iters 1000 \\  \n",
    "          --prefix diseq-test  \n",
    "          \n",
    "          \n",
    "**alloSNP**  \n",
    "ebg alloSNP -f reference-freqs.txt \\  \n",
    "            -t tot-reads.txt \\  \n",
    "            -a alt-reads.txt \\  \n",
    "            -e error.txt \\  \n",
    "            -p1 2 \\  \n",
    "            -p2 4 \\  \n",
    "            --iters 1000 \\  \n",
    "            --prefix alloSNP-test  \n",
    "            \n",
    "              --stop              <double>     Stop value for ECM algorithm parameter updates (default = 1e-5)\n",
    "            \n",
    "**notes**   \n",
    "    - EM iterations so 1000 is just the limit  \n",
    "    \n",
    "    \n",
    "**Ways we want to run**  \n",
    "    - hwe preformed poorly so just diseq and alloSNP  \n",
    "    - diseq just run all tetraploids as auto  \n",
    "    - allosnp: run just wyomingensis with tridentata and vayesana diploid allele freqs  \n",
    "        - need to wait for entropy to get allele freqs for AT and AV before running allosnp\n",
    "        \n",
    "        **FOR hexploids: REMOVE dDocent_Contig_45101:23, 2746 & dDocent_Contig_65000:27, 5006**\n",
    "        \n",
    "     "
   ]
  },
  {
   "cell_type": "code",
   "execution_count": 57,
   "metadata": {},
   "outputs": [
    {
     "name": "stdout",
     "output_type": "stream",
     "text": [
      "/data/gpfs/assoc/denovo/tfaske/sagebrush/SNPcall/ebg\n"
     ]
    }
   ],
   "source": [
    "cd $ebg_dir"
   ]
  },
  {
   "cell_type": "markdown",
   "metadata": {},
   "source": [
    "#### Make input files "
   ]
  },
  {
   "cell_type": "code",
   "execution_count": null,
   "metadata": {},
   "outputs": [],
   "source": [
    "%%R\n",
    "vcf <- read.vcfR(\"final_snps.recode.vcf\", verbose = FALSE)\n",
    "\n",
    "#get positions\n",
    "chrom <- getCHROM(vcf)\n",
    "pos <- getPOS(vcf)\n",
    "pos_ID <- paste(chrom,pos,sep = ':')"
   ]
  },
  {
   "cell_type": "code",
   "execution_count": null,
   "metadata": {},
   "outputs": [],
   "source": [
    "%%R\n",
    "#Make pop_ID\n",
    "indv <- colnames(ad)\n",
    "\n",
    "Sp <- rep(NA,times=length(indv))\n",
    "Ploidy <- rep(NA,times=length(indv))\n",
    "Pop <- rep(NA,times=length(indv))\n",
    "ID <- rep(NA,times=length(indv))\n",
    "All <- rep(NA,times=length(indv))\n",
    "for (i in 1:length(indv)){\n",
    "  SpP <- unlist(strsplit(as.character(indv[i]),\"_\"))[1]\n",
    "  Sp[i] <- gsub('\\\\d','',SpP,perl=TRUE)\n",
    "  Ploidy[i] <-  gsub('(\\\\D)','',SpP,perl=TRUE)\n",
    "  Pop[i] <- unlist(strsplit(as.character(indv[i]),\"_\"))[2]\n",
    "  ID[i] <- unlist(strsplit(as.character(indv[i]),\"_\"))[3]\n",
    "  All[i] <- as.character(indv[i])\n",
    "}\n",
    "Pop_ID <- data.frame(Sp=Sp,Ploidy=Ploidy,Pop=Pop,ID=ID,All=All,\n",
    "                     SpPloidy=paste0(Sp,Ploidy))\n",
    "write.csv(Pop_ID,'Pop_ID.csv',row.names=FALSE)"
   ]
  },
  {
   "cell_type": "code",
   "execution_count": null,
   "metadata": {},
   "outputs": [],
   "source": [
    "%%R\n",
    "#get AD\n",
    "# ref, alt allele \n",
    "ad <- extract.gt(vcf, element = 'AD')"
   ]
  },
  {
   "cell_type": "code",
   "execution_count": null,
   "metadata": {},
   "outputs": [],
   "source": [
    "%%R\n",
    "## check out PL and pos_ID\n",
    "print(length(pos_ID))\n",
    "print(pos_ID[1:10])\n",
    "ad[1:5,1:5]"
   ]
  },
  {
   "cell_type": "code",
   "execution_count": 59,
   "metadata": {},
   "outputs": [],
   "source": [
    "%%R \n",
    "# get total, ref, and alt allele\n",
    "tot_ad <- apply(ad, c(1,2), function(df) sum(as.numeric(unlist(strsplit(as.character(df),',')))))\n",
    "ref_ad <- apply(ad, c(1,2), function(df) as.numeric(unlist(strsplit(as.character(df),','))[1]))\n",
    "alt_ad <- apply(ad, c(1,2), function(df) as.numeric(unlist(strsplit(as.character(df),','))[2]))\n"
   ]
  },
  {
   "cell_type": "code",
   "execution_count": 60,
   "metadata": {},
   "outputs": [
    {
     "name": "stdout",
     "output_type": "stream",
     "text": [
      "                   AT2_BB_10 AT2_BB_11 AT2_BB_12 AT2_BB_13 AT2_BB_14\n",
      "CM042338.1_1496841 \"0,0\"     \"1,0\"     \"3,0\"     \"6,0\"     \"8,0\"    \n",
      "CM042338.1_1942811 \"0,0\"     \"0,0\"     \"0,0\"     \"0,0\"     \"9,0\"    \n",
      "CM042338.1_6353755 \"6,1\"     \"3,0\"     \"3,2\"     \"4,1\"     \"4,2\"    \n",
      "CM042338.1_7214312 \"5,0\"     \"3,0\"     \"0,0\"     \"0,0\"     \"0,0\"    \n",
      "CM042338.1_8063221 \"0,3\"     \"0,3\"     \"0,0\"     \"0,1\"     \"8,0\"    \n",
      "[1] 17201   690\n",
      "                   AT2_BB_10 AT2_BB_11 AT2_BB_12 AT2_BB_13 AT2_BB_14\n",
      "CM042338.1_1496841         0         0         0         0         0\n",
      "CM042338.1_1942811         0         0         0         0         0\n",
      "CM042338.1_6353755         1         0         2         1         2\n",
      "CM042338.1_7214312         0         0         0         0         0\n",
      "CM042338.1_8063221         3         3         0         1         0\n"
     ]
    }
   ],
   "source": [
    "%%R\n",
    "print(ad[1:5,1:5])\n",
    "print(dim(tot_ad))\n",
    "print(ad[1:5,1:5])\n",
    "print(ref_ad[1:5,1:5])\n",
    "print(tot_ad[1:5,1:5])\n",
    "print(alt_ad[1:5,1:5])"
   ]
  },
  {
   "cell_type": "code",
   "execution_count": 63,
   "metadata": {},
   "outputs": [
    {
     "name": "stderr",
     "output_type": "stream",
     "text": [
      "R[write to console]: x being coerced from class: matrix to data.table\n",
      "\n"
     ]
    }
   ],
   "source": [
    "%%R\n",
    "fwrite(tot_ad,'tot_ad.txt',quote=FALSE)\n",
    "fwrite(ref_ad,'ref_ad.txt',quote=FALSE)\n",
    "fwrite(alt_ad,'alt_ad.txt',quote=FALSE)"
   ]
  },
  {
   "cell_type": "markdown",
   "metadata": {},
   "source": [
    "#### tetraploids 4n"
   ]
  },
  {
   "cell_type": "code",
   "execution_count": 64,
   "metadata": {},
   "outputs": [
    {
     "name": "stdout",
     "output_type": "stream",
     "text": [
      "[1] 291\n",
      "[1] 17201   291\n",
      "[1] 17201   291\n",
      "[1] 17201   291\n"
     ]
    }
   ],
   "source": [
    "%%R\n",
    "ploidy_index <- which(Pop_ID$Ploidy == 4)\n",
    "tot_ad_4 <- tot_ad[,ploidy_index]\n",
    "ref_ad_4 <- ref_ad[,ploidy_index]\n",
    "alt_ad_4 <- alt_ad[,ploidy_index]\n",
    "Pop_ID_4 <- Pop_ID[ploidy_index,]\n",
    "\n",
    "print(length(ploidy_index))\n",
    "print(dim(tot_ad_4))\n",
    "print(dim(ref_ad_4))\n",
    "print(dim(alt_ad_4))"
   ]
  },
  {
   "cell_type": "code",
   "execution_count": 65,
   "metadata": {},
   "outputs": [
    {
     "name": "stderr",
     "output_type": "stream",
     "text": [
      "R[write to console]: x being coerced from class: matrix to data.table\n",
      "\n",
      "R[write to console]: x being coerced from class: matrix to data.table\n",
      "\n",
      "R[write to console]: x being coerced from class: matrix to data.table\n",
      "\n"
     ]
    }
   ],
   "source": [
    "%%R\n",
    "write.csv(Pop_ID_4,'Pop_ID_4.csv',row.names=FALSE)\n",
    "fwrite(t(tot_ad_4),'tot_ad_4.txt',sep='\\t',row.names=FALSE,col.names=FALSE)\n",
    "fwrite(t(ref_ad_4),'ref_ad_4.txt',sep='\\t',row.names=FALSE,col.names=FALSE)\n",
    "fwrite(t(alt_ad_4),'alt_ad_4.txt',sep='\\t',row.names=FALSE,col.names=FALSE)"
   ]
  },
  {
   "cell_type": "markdown",
   "metadata": {},
   "source": [
    "#### hexaploids 6n"
   ]
  },
  {
   "cell_type": "code",
   "execution_count": 64,
   "metadata": {},
   "outputs": [
    {
     "name": "stdout",
     "output_type": "stream",
     "text": [
      "[1] 291\n",
      "[1] 17201   291\n",
      "[1] 17201   291\n",
      "[1] 17201   291\n"
     ]
    }
   ],
   "source": [
    "%%R\n",
    "ploidy_index <- which(Pop_ID$Ploidy == 6)\n",
    "tot_ad_6 <- tot_ad[,ploidy_index]\n",
    "ref_ad_6 <- ref_ad[,ploidy_index]\n",
    "alt_ad_6 <- alt_ad[,ploidy_index]\n",
    "Pop_ID_6 <- Pop_ID[ploidy_index,]\n",
    "\n",
    "print(length(ploidy_index))\n",
    "print(dim(tot_ad_6))\n",
    "print(dim(ref_ad_6))\n",
    "print(dim(alt_ad_6))"
   ]
  },
  {
   "cell_type": "code",
   "execution_count": 65,
   "metadata": {},
   "outputs": [
    {
     "name": "stderr",
     "output_type": "stream",
     "text": [
      "R[write to console]: x being coerced from class: matrix to data.table\n",
      "\n",
      "R[write to console]: x being coerced from class: matrix to data.table\n",
      "\n",
      "R[write to console]: x being coerced from class: matrix to data.table\n",
      "\n"
     ]
    }
   ],
   "source": [
    "%%R\n",
    "write.csv(Pop_ID_6,'Pop_ID_6.csv',row.names=FALSE)\n",
    "fwrite(t(tot_ad_6),'tot_ad_6.txt',sep='\\t',row.names=FALSE,col.names=FALSE)\n",
    "fwrite(t(ref_ad_6),'ref_ad_6.txt',sep='\\t',row.names=FALSE,col.names=FALSE)\n",
    "fwrite(t(alt_ad_6),'alt_ad_6.txt',sep='\\t',row.names=FALSE,col.names=FALSE)"
   ]
  },
  {
   "cell_type": "code",
   "execution_count": null,
   "metadata": {},
   "outputs": [],
   "source": []
  },
  {
   "cell_type": "code",
   "execution_count": null,
   "metadata": {},
   "outputs": [],
   "source": []
  },
  {
   "cell_type": "code",
   "execution_count": 66,
   "metadata": {},
   "outputs": [],
   "source": [
    "### select options for slurm submission\n",
    "#account = 'cpu-s1-bionres-0'\n",
    "#partition = 'cpu-s1-bionres-0'\n",
    "account = 'cpu-s5-denovo-0'\n",
    "partition = 'cpu-core-0'\n",
    "time = '10-00:00:00' #time limit 1 day\n",
    "cpus = 1\n",
    "mem_cpu = 36000\n",
    "email = 'tfaske@nevada.unr.edu'\n",
    "\n",
    "### ebg inputs\n",
    "ebg = '/data/gpfs/assoc/parchmanlab/tfaske/src/polyploid-genotyping/ebg/./ebg'\n",
    "nindv = 291\n",
    "nloci = 17201\n",
    "iters = 2000\n",
    "stop = '1e-4'\n",
    "tot_file = 'tot_ad_4.txt'\n",
    "alt_file = 'alt_ad_4.txt'\n",
    "error_file = 'seq_error.txt'\n",
    "out_file = 'ARTR.diseq.all'"
   ]
  },
  {
   "cell_type": "code",
   "execution_count": 67,
   "metadata": {},
   "outputs": [],
   "source": [
    "def write_ebg_diseq_sh(account,partition,time,cpus,mem_cpu,email,ebg,nindv,nloci,tot_file,alt_file,error_file,iters,stop,out_file):\n",
    "    with open(\"run_ebg_diseq.sh\", \"w\") as o:\n",
    "        o.write(\"\"\"#!/usr/bin/env bash\n",
    "#SBATCH --account=%s\n",
    "#SBATCH --partition=%s\n",
    "#SBATCH --time=%s\n",
    "#SBATCH --ntasks 1\n",
    "#SBATCH --cpus-per-task %d\n",
    "#SBATCH --mem-per-cpu=%d\n",
    "#SBATCH --job-name ebg_diseq\n",
    "#SBATCH --output output_ebg_diseq.txt\n",
    "#SBATCH --mail-type=FAIL,END\n",
    "#SBATCH --mail-user=%s \\n\n",
    "\n",
    "%s diseq -n %s -l %s -t %s -a %s -e %s -p 4 --iters %s --stop %s --prefix %s \\n\"\"\" % \n",
    "                (account,partition,time,int(cpus),int(mem_cpu),email,ebg,nindv,nloci,tot_file,alt_file,error_file,iters,stop,out_file))\n",
    "        "
   ]
  },
  {
   "cell_type": "code",
   "execution_count": 68,
   "metadata": {},
   "outputs": [],
   "source": [
    "write_ebg_diseq_sh(account,partition,time,cpus,mem_cpu,email,ebg,nindv,nloci,tot_file,alt_file,error_file,iters,stop,out_file)"
   ]
  },
  {
   "cell_type": "markdown",
   "metadata": {},
   "source": [
    "## Run ebg with only AT4 and AV4\n",
    "\n",
    "Assumming allotetraploid for AW4"
   ]
  },
  {
   "cell_type": "code",
   "execution_count": 247,
   "metadata": {},
   "outputs": [
    {
     "name": "stdout",
     "output_type": "stream",
     "text": [
      "/data/gpfs/assoc/denovo/tfaske/sagebrush/SNPcall/ebg\n"
     ]
    }
   ],
   "source": [
    "cd $ebg_dir"
   ]
  },
  {
   "cell_type": "markdown",
   "metadata": {},
   "source": [
    "#### Make input files "
   ]
  },
  {
   "cell_type": "code",
   "execution_count": 248,
   "metadata": {},
   "outputs": [],
   "source": [
    "%%R\n",
    "Pop_ID <- read.csv('Pop_ID.csv')\n",
    "tot_ad <- data.frame(fread('tot_ad.txt'))\n",
    "alt_ad <- data.frame(fread('alt_ad.txt'))"
   ]
  },
  {
   "cell_type": "code",
   "execution_count": 249,
   "metadata": {},
   "outputs": [
    {
     "name": "stdout",
     "output_type": "stream",
     "text": [
      "                   AT2_BB_10 AT2_BB_11 AT2_BB_12 AT2_BB_13 AT2_BB_14\n",
      "CM042338.1_398150  \"1,0\"     \"0,0\"     \"0,0\"     \"0,0\"     \"2,0\"    \n",
      "CM042338.1_1342981 \"0,0\"     \"0,0\"     \"0,0\"     \"0,0\"     \"4,0\"    \n",
      "CM042338.1_1496841 \"0,0\"     \"1,0\"     \"3,0\"     \"6,0\"     \"8,0\"    \n",
      "CM042338.1_1744262 \"8,0\"     \"1,0\"     \"0,0\"     \"0,0\"     \"4,0\"    \n",
      "CM042338.1_1942811 \"0,0\"     \"0,0\"     \"0,0\"     \"0,0\"     \"9,0\"    \n",
      "[1] 42513   684\n",
      "  AT2_BB_10 AT2_BB_11 AT2_BB_12 AT2_BB_13 AT2_BB_14\n",
      "1         1         0         0         0         2\n",
      "2         0         0         0         0         4\n",
      "3         0         1         3         6         8\n",
      "4         8         1         0         0         4\n",
      "5         0         0         0         0         9\n",
      "  AT2_BB_10 AT2_BB_11 AT2_BB_12 AT2_BB_13 AT2_BB_14\n",
      "1         0         0         0         0         0\n",
      "2         0         0         0         0         0\n",
      "3         0         0         0         0         0\n",
      "4         0         0         0         0         0\n",
      "5         0         0         0         0         0\n"
     ]
    }
   ],
   "source": [
    "%%R\n",
    "print(ad[1:5,1:5])\n",
    "print(dim(ad))\n",
    "print(tot_ad[1:5,1:5])\n",
    "print(alt_ad[1:5,1:5])"
   ]
  },
  {
   "cell_type": "code",
   "execution_count": 250,
   "metadata": {},
   "outputs": [
    {
     "name": "stdout",
     "output_type": "stream",
     "text": [
      "  Sp Ploidy Pop ID       All SpPloidy\n",
      "1 AT      2  BB 10 AT2_BB_10      AT2\n",
      "2 AT      2  BB 11 AT2_BB_11      AT2\n",
      "3 AT      2  BB 12 AT2_BB_12      AT2\n",
      "4 AT      2  BB 13 AT2_BB_13      AT2\n",
      "5 AT      2  BB 14 AT2_BB_14      AT2\n",
      "6 AT      2  BB 15 AT2_BB_15      AT2\n"
     ]
    }
   ],
   "source": [
    "%%R \n",
    "head(Pop_ID)"
   ]
  },
  {
   "cell_type": "code",
   "execution_count": 252,
   "metadata": {},
   "outputs": [
    {
     "name": "stdout",
     "output_type": "stream",
     "text": [
      "[1] 98\n",
      "[1] 42513    98\n",
      "[1] 42513    98\n"
     ]
    }
   ],
   "source": [
    "%%R\n",
    "ATAV_index <- which(Pop_ID$SpPloidy %in% c('AT4','AV4'))\n",
    "tot_ad_minusAW <- tot_ad[,ATAV_index]\n",
    "alt_ad_minusAW <- alt_ad[,ATAV_index]\n",
    "Pop_ID_minusAW <- Pop_ID[ATAV_index,]\n",
    "\n",
    "print(length(ATAV_index))\n",
    "print(dim(tot_ad_minusAW))\n",
    "print(dim(alt_ad_minusAW))"
   ]
  },
  {
   "cell_type": "code",
   "execution_count": 253,
   "metadata": {},
   "outputs": [
    {
     "name": "stderr",
     "output_type": "stream",
     "text": [
      "WARNING:rpy2.rinterface_lib.callbacks:R[write to console]: x being coerced from class: matrix to data.table\n",
      "\n",
      "WARNING:rpy2.rinterface_lib.callbacks:R[write to console]: x being coerced from class: matrix to data.table\n",
      "\n"
     ]
    }
   ],
   "source": [
    "%%R\n",
    "write.csv(Pop_ID_minusAW,'Pop_ID_minusAW.csv',row.names=FALSE)\n",
    "fwrite(t(tot_ad_minusAW[-40397,]),'tot_ad_minusAW.txt',sep='\\t',row.names=FALSE,col.names=FALSE)\n",
    "fwrite(t(alt_ad_minusAW[-40397,]),'alt_ad_minusAW.txt',sep='\\t',row.names=FALSE,col.names=FALSE)"
   ]
  },
  {
   "cell_type": "code",
   "execution_count": 257,
   "metadata": {},
   "outputs": [],
   "source": [
    "### select options for slurm submission\n",
    "#account = 'cpu-s1-bionres-0'\n",
    "#partition = 'cpu-s1-bionres-0'\n",
    "account = 'cpu-s5-denovo-0'\n",
    "partition = 'cpu-core-0'\n",
    "time = '10-00:00:00' #time limit 1 day\n",
    "cpus = 1\n",
    "mem_cpu = 36000\n",
    "email = 'tfaske@nevada.unr.edu'\n",
    "\n",
    "### ebg inputs\n",
    "ebg = '/data/gpfs/assoc/parchmanlab/tfaske/src/polyploid-genotyping/ebg/./ebg'\n",
    "nindv = 98\n",
    "nloci = 42512\n",
    "iters = 2000\n",
    "stop = '1e-3'\n",
    "tot_file = 'tot_ad_minusAW.txt'\n",
    "alt_file = 'alt_ad_minusAW.txt'\n",
    "error_file = 'seq_error.txt'\n",
    "out_file = 'ARTR.diseq.minusAW'"
   ]
  },
  {
   "cell_type": "code",
   "execution_count": 258,
   "metadata": {},
   "outputs": [],
   "source": [
    "def write_ebg_diseq_minusAW_sh(account,partition,time,cpus,mem_cpu,email,ebg,nindv,nloci,tot_file,alt_file,error_file,iters,stop,out_file):\n",
    "    with open(\"run_ebg_diseq_minusAW.sh\", \"w\") as o:\n",
    "        o.write(\"\"\"#!/usr/bin/env bash\n",
    "#SBATCH --account=%s\n",
    "#SBATCH --partition=%s\n",
    "#SBATCH --time=%s\n",
    "#SBATCH --ntasks 1\n",
    "#SBATCH --cpus-per-task %d\n",
    "#SBATCH --mem-per-cpu=%d\n",
    "#SBATCH --job-name ebg_diseq_minusAW\n",
    "#SBATCH --output output_ebg_diseq_minusAW.txt\n",
    "#SBATCH --mail-type=FAIL,END\n",
    "#SBATCH --mail-user=%s \\n\n",
    "\n",
    "%s diseq -n %s -l %s -t %s -a %s -e %s -p 4 --iters %s --stop %s --prefix %s \\n\"\"\" % \n",
    "                (account,partition,time,int(cpus),int(mem_cpu),email,ebg,nindv,nloci,tot_file,alt_file,error_file,iters,stop,out_file))\n",
    "        "
   ]
  },
  {
   "cell_type": "code",
   "execution_count": 259,
   "metadata": {},
   "outputs": [],
   "source": [
    "write_ebg_diseq_minusAW_sh(account,partition,time,cpus,mem_cpu,email,ebg,nindv,nloci,tot_file,alt_file,error_file,iters,stop,out_file)"
   ]
  },
  {
   "cell_type": "code",
   "execution_count": null,
   "metadata": {},
   "outputs": [],
   "source": []
  },
  {
   "cell_type": "code",
   "execution_count": null,
   "metadata": {},
   "outputs": [],
   "source": []
  },
  {
   "cell_type": "markdown",
   "metadata": {},
   "source": [
    "# OLDDDD, no tiger"
   ]
  },
  {
   "cell_type": "markdown",
   "metadata": {},
   "source": [
    "## Tiger\n",
    "\n",
    "./tiger task=estimateHardyWeinberg vcf=simple.vcf.gz groups=simple_sampleGroups.txt\n",
    "\n",
    "sample groups will be ssp and ploidy (5 total groups)\n",
    "- file setup: sample name and group (must have header)\n",
    "\n",
    "Notes: \n",
    " - mcmc takes forever. Reduce burnin rounds and samples \n",
    "     - OR: EM ML only? \n",
    "     - Ran EM ML only and doesnt give per locus error rates. Need to run MCMC\n",
    "\n",
    "**Inference algorithm**\n",
    "\n",
    "For all models you can choose if you want to infer the parameters with an EM-algorithm and obtain the maximum likelihood estimates or if you want to use an MCMC and obtain the posterior densities of the parameters. The parameter for this is algo and you can set it to either MLE or Bayes.\n",
    "\n",
    "**Parameters:**\n",
    "\n",
    "- **algo:** Can be set to either \"MLE\" or \"Bayes\". Default for the Hardy-Weinberg model is Bayes and for the rest MLE.\n",
    "- **numIter:** Control the maximum number of iterations of the EM algorithm or MCMC algorithm. Default for EM = 1000 default for MCMC = 100000.\n",
    "- **minDelta:** Assume EM-algorithm to have converged when the parameter value does not change by more than minDelta. default = 0.000001\n",
    "- **minEpsIter:** Minimum amount of EM iterations to be run, even if algorithm has converged\n",
    "- **maxEpsIter:** Minimum amount of EM iterations to be run, even if algorithm has not converged\n",
    "- **burnin:** Length of burnin in MCMC. Default = 5000\n",
    "- **numBurnins:** Number of burnin rounds in MCMC (used to adjust proposal range for optimal acceptance rate). Default = 5\n",
    "- **thinning:** After how many MCMC iterations the sampled values should be printed to file. Default = 10.\n",
    "- **epsLambda:** The parameter used for the exponential prior on the error rates"
   ]
  },
  {
   "cell_type": "code",
   "execution_count": 90,
   "metadata": {},
   "outputs": [
    {
     "name": "stdout",
     "output_type": "stream",
     "text": [
      "\r\n",
      "gzip: stdout: Broken pipe\r\n"
     ]
    }
   ],
   "source": [
    "!zcat $vcf_gz_file | bcftools query -l | sort > sampleGroups.txt "
   ]
  },
  {
   "cell_type": "code",
   "execution_count": 91,
   "metadata": {},
   "outputs": [],
   "source": [
    "sample_group = pd.read_csv('sampleGroups.txt',header=None,names=['sample'])"
   ]
  },
  {
   "cell_type": "code",
   "execution_count": 92,
   "metadata": {},
   "outputs": [
    {
     "data": {
      "text/html": [
       "<div>\n",
       "<style scoped>\n",
       "    .dataframe tbody tr th:only-of-type {\n",
       "        vertical-align: middle;\n",
       "    }\n",
       "\n",
       "    .dataframe tbody tr th {\n",
       "        vertical-align: top;\n",
       "    }\n",
       "\n",
       "    .dataframe thead th {\n",
       "        text-align: right;\n",
       "    }\n",
       "</style>\n",
       "<table border=\"1\" class=\"dataframe\">\n",
       "  <thead>\n",
       "    <tr style=\"text-align: right;\">\n",
       "      <th></th>\n",
       "      <th>sample</th>\n",
       "    </tr>\n",
       "  </thead>\n",
       "  <tbody>\n",
       "    <tr>\n",
       "      <th>0</th>\n",
       "      <td>AT2_BB_1</td>\n",
       "    </tr>\n",
       "    <tr>\n",
       "      <th>1</th>\n",
       "      <td>AT2_BB_10</td>\n",
       "    </tr>\n",
       "    <tr>\n",
       "      <th>2</th>\n",
       "      <td>AT2_BB_11</td>\n",
       "    </tr>\n",
       "    <tr>\n",
       "      <th>3</th>\n",
       "      <td>AT2_BB_12</td>\n",
       "    </tr>\n",
       "    <tr>\n",
       "      <th>4</th>\n",
       "      <td>AT2_BB_13</td>\n",
       "    </tr>\n",
       "  </tbody>\n",
       "</table>\n",
       "</div>"
      ],
      "text/plain": [
       "      sample\n",
       "0   AT2_BB_1\n",
       "1  AT2_BB_10\n",
       "2  AT2_BB_11\n",
       "3  AT2_BB_12\n",
       "4  AT2_BB_13"
      ]
     },
     "execution_count": 92,
     "metadata": {},
     "output_type": "execute_result"
    }
   ],
   "source": [
    "sample_group.head()"
   ]
  },
  {
   "cell_type": "code",
   "execution_count": 93,
   "metadata": {},
   "outputs": [
    {
     "data": {
      "text/plain": [
       "0      AT2\n",
       "1      AT2\n",
       "2      AT2\n",
       "3      AT2\n",
       "4      AT2\n",
       "      ... \n",
       "679    AW4\n",
       "680    AW4\n",
       "681    AW4\n",
       "682    AW4\n",
       "683    AW4\n",
       "Name: 0, Length: 684, dtype: object"
      ]
     },
     "execution_count": 93,
     "metadata": {},
     "output_type": "execute_result"
    }
   ],
   "source": [
    "ssp_ploidy = sample_group['sample'].str.split('_',expand=True)[0]\n",
    "ssp_ploidy"
   ]
  },
  {
   "cell_type": "code",
   "execution_count": 94,
   "metadata": {},
   "outputs": [],
   "source": [
    "ssp_ploidy_num = ssp_ploidy.replace(ssp_ploidy.unique(),range(1,(len(ssp_ploidy.unique())+1)))"
   ]
  },
  {
   "cell_type": "code",
   "execution_count": 95,
   "metadata": {},
   "outputs": [
    {
     "data": {
      "text/plain": [
       "0      1\n",
       "1      1\n",
       "2      1\n",
       "3      1\n",
       "4      1\n",
       "      ..\n",
       "679    5\n",
       "680    5\n",
       "681    5\n",
       "682    5\n",
       "683    5\n",
       "Name: 0, Length: 684, dtype: int64"
      ]
     },
     "execution_count": 95,
     "metadata": {},
     "output_type": "execute_result"
    }
   ],
   "source": [
    "ssp_ploidy_num"
   ]
  },
  {
   "cell_type": "code",
   "execution_count": 96,
   "metadata": {},
   "outputs": [],
   "source": [
    "sample_group['group'] = ssp_ploidy_num"
   ]
  },
  {
   "cell_type": "code",
   "execution_count": 97,
   "metadata": {},
   "outputs": [],
   "source": [
    "sample_group.to_csv('sampleGroups.txt',sep='\\t',index=False)"
   ]
  },
  {
   "cell_type": "code",
   "execution_count": 98,
   "metadata": {},
   "outputs": [
    {
     "name": "stdout",
     "output_type": "stream",
     "text": [
      "sample\tgroup\r\n",
      "AT2_BB_1\t1\r\n",
      "AT2_BB_10\t1\r\n",
      "AT2_BB_11\t1\r\n",
      "AT2_BB_12\t1\r\n",
      "AT2_BB_13\t1\r\n",
      "AT2_BB_14\t1\r\n",
      "AT2_BB_15\t1\r\n",
      "AT2_BB_16\t1\r\n",
      "AT2_BB_17\t1\r\n"
     ]
    }
   ],
   "source": [
    "!head sampleGroups.txt"
   ]
  },
  {
   "cell_type": "markdown",
   "metadata": {},
   "source": [
    "### Make slurm file to run tiger"
   ]
  },
  {
   "cell_type": "code",
   "execution_count": 108,
   "metadata": {},
   "outputs": [],
   "source": [
    "tiger = '/data/gpfs/assoc/parchmanlab/tfaske/src/Tiger/./tiger'"
   ]
  },
  {
   "cell_type": "code",
   "execution_count": 109,
   "metadata": {},
   "outputs": [],
   "source": [
    "### select options for slurm submission\n",
    "#account = 'cpu-s1-bionres-0'\n",
    "#partition = 'cpu-s1-bionres-0'\n",
    "account = 'cpu-s5-denovo-0'\n",
    "partition = 'cpu-core-0'\n",
    "time = '4-00:00:00' #time limit 1 day\n",
    "cpus = 2\n",
    "mem_cpu = 16000\n",
    "email = 'tfaske@nevada.unr.edu'\n",
    "\n",
    "### because need to edit!!!\n",
    "vcf_gz_file = 'final_snps.edit.vcf.gz'\n",
    "\n",
    "#### model parameters for MLE\n",
    "#algo = \"MLE\"\n",
    "#numIter = 501\n",
    "#maxEpsIter = 500\n",
    "\n",
    "#sbatch cmd\n",
    "#%s task=estimateHardyWeinberg vcf=%s groups=sampleGroups.txt outname=ARTR.tiger.hwe algo=%s numIter=%s maxEpsIter=%s\\n\"\"\" % \n",
    "\n",
    "#### model parameters for MCMC\n",
    "# below gives 2500 samples \n",
    "algo = \"Bayes\"\n",
    "numIter = 30000\n",
    "burnin = 2500\n",
    "numBurnins = 2 \n",
    "thinning = 10\n",
    "\n",
    "#sbatch cmd\n",
    "#%s task=estimateHardyWeinberg vcf=%s groups=sampleGroups.txt outname=ARTR.tiger.hwe algo=%s numIter=%s burnin=%s numBurnins=%s thinning=%s\\n\"\"\" % \n",
    "\n"
   ]
  },
  {
   "cell_type": "code",
   "execution_count": 110,
   "metadata": {},
   "outputs": [],
   "source": [
    "def write_tiger_sh(account,partition,time,cpus,mem_cpu,email,tiger,vcf,algo,numIter,burnin,numBurnins,thinning):\n",
    "    with open(\"run_tiger.sh\", \"w\") as o:\n",
    "        o.write(\"\"\"#!/usr/bin/env bash\n",
    "#SBATCH --account=%s\n",
    "#SBATCH --partition=%s\n",
    "#SBATCH --time=%s\n",
    "#SBATCH --ntasks 1\n",
    "#SBATCH --cpus-per-task %d\n",
    "#SBATCH --mem-per-cpu=%d\n",
    "#SBATCH --job-name tiger\n",
    "#SBATCH --output output_tiger.txt\n",
    "#SBATCH --mail-type=FAIL,END\n",
    "#SBATCH --mail-user=%s \\n\n",
    "\n",
    "module load gcc/9.2.0\\n\n",
    "%s task=estimateHardyWeinberg vcf=%s groups=sampleGroups.txt outname=ARTR.tiger.hwe algo=%s numIter=%s burnin=%s numBurnins=%s thinning=%s\\n\"\"\" % \n",
    "                (account,partition,time,int(cpus),int(mem_cpu),email,tiger,vcf,algo,numIter,burnin,numBurnins,thinning))\n",
    "        "
   ]
  },
  {
   "cell_type": "code",
   "execution_count": 111,
   "metadata": {},
   "outputs": [],
   "source": [
    "write_tiger_sh(account,partition,time,cpus,mem_cpu,email,tiger,vcf_gz_file,algo,numIter,burnin,numBurnins,thinning)"
   ]
  },
  {
   "cell_type": "markdown",
   "metadata": {},
   "source": [
    "#### errors \n",
    "\n",
    "ERROR: Error when parsing vcf header, unknown tag 'Version' in l\n",
    "ine '##INFO=<ID=VDB,Number=1,Type=Float,Description=\"Variant Dis\n",
    "tance Bias for filtering splice-site artefacts in RNA-seq data (\n",
    "bigger is better)\",Version=\"3\">'!\n",
    "\n",
    "solution: grep -v ',Version=\"3\"' final_snps.recode.vcf > final_snps.edit.vcf; bgzip final_snps.edit.vcf"
   ]
  }
 ],
 "metadata": {
  "kernelspec": {
   "display_name": "Python 3",
   "language": "python",
   "name": "python3"
  },
  "language_info": {
   "codemirror_mode": {
    "name": "ipython",
    "version": 3
   },
   "file_extension": ".py",
   "mimetype": "text/x-python",
   "name": "python",
   "nbconvert_exporter": "python",
   "pygments_lexer": "ipython3",
   "version": "3.6.7"
  }
 },
 "nbformat": 4,
 "nbformat_minor": 1
}
