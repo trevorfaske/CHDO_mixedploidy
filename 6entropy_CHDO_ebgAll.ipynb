{
 "cells": [
  {
   "cell_type": "markdown",
   "metadata": {},
   "source": [
    "# Does everything to run entropy and creates slurm files to submit\n",
    "\n",
    "## Run entropy with all diploid likelihoods from bcftools and all tetraploid likelihoods from ebg\n",
    "\n",
    "Goal is 4 chains k=2-7.\n",
    "\n",
    "**Creates mpgl file from PL in vcf and post-ebg**. \n",
    "Use CHDO.diseq.long-PL.txt\n",
    "\n",
    "**full pntest_mean and mpgl all file taken from 6entropy_CHDO_diploidAll**  \n",
    "Rename pntest_mean_final_snps.recode.txt to pntest_mean_diploidAll.txt  \n",
    "Rename final_snps.recode.mpgl to mpgl_diploidAll.txt\n"
   ]
  },
  {
   "cell_type": "code",
   "execution_count": 1,
   "metadata": {},
   "outputs": [
    {
     "name": "stdout",
     "output_type": "stream",
     "text": [
      "/usr/bin/sh: line 0: source: activate: file not found\r\n"
     ]
    }
   ],
   "source": [
    "!source activate py36"
   ]
  },
  {
   "cell_type": "code",
   "execution_count": 2,
   "metadata": {},
   "outputs": [],
   "source": [
    "import sys\n",
    "\n",
    "#sys.path.append('/home/faske/g/anaconda3/envs/py34/lib/python3.4/site-packages')\n",
    "sys.path.append('/data/gpfs/assoc/parchmanlab/tfaske/anaconda3/envs/py36/lib/python3.6/site-packages')\n",
    "sys.path.append(\"/data/gpfs/assoc/parchmanlab/tfaske/ipynb/include_utils\")\n",
    "\n",
    "import ipyparallel as ipp\n",
    "import os, time\n",
    "import include_utils as u\n",
    "import pandas as pd\n",
    "import numpy as np\n",
    "import scipy as sp\n",
    "import random\n",
    "import numbers\n",
    "import matplotlib.pyplot as plt\n",
    "import matplotlib.patches as mpatches\n",
    "import matplotlib.cm as cm\n",
    "import matplotlib.colors as mcolors\n",
    "#import vcf\n",
    "from sklearn import preprocessing\n",
    "from subprocess import Popen, PIPE, call, check_output\n",
    "import seaborn as sns\n",
    "from IPython.display import FileLink\n",
    "import urllib.request as urllib2\n",
    "import dill\n",
    "import traceback\n",
    "from pandas import Series, DataFrame\n",
    "import gzip\n",
    "import warnings\n",
    "warnings.filterwarnings('ignore',category=pd.io.pytables.PerformanceWarning)\n",
    "%config InlineBackend.figure_format = 'retina'\n",
    "from Bio import SeqIO\n",
    "#import pysam\n",
    "from collections import OrderedDict, namedtuple, Counter\n",
    "import operator\n",
    "import multiprocessing as mp\n",
    "import shutil\n",
    "import tempfile\n",
    "#from ipyparallel import Client\n",
    "import scandir\n",
    "import glob\n",
    "from Bio.SeqIO.QualityIO import FastqGeneralIterator\n",
    "import pickle\n",
    "import re\n",
    "from itertools import chain\n",
    "#import Levenshtein as lv"
   ]
  },
  {
   "cell_type": "code",
   "execution_count": 3,
   "metadata": {},
   "outputs": [],
   "source": [
    "root = '/data/gpfs/assoc/denovo/tfaske/CHDO/SNPcall'"
   ]
  },
  {
   "cell_type": "code",
   "execution_count": 4,
   "metadata": {},
   "outputs": [
    {
     "name": "stdout",
     "output_type": "stream",
     "text": [
      "/data/gpfs/assoc/denovo/tfaske/CHDO/SNPcall\n"
     ]
    }
   ],
   "source": [
    "cd $root"
   ]
  },
  {
   "cell_type": "markdown",
   "metadata": {},
   "source": [
    "### Create mgpl & pntest files with associated dir   \n",
    "\n",
    "Uses custom R script to do so"
   ]
  },
  {
   "cell_type": "code",
   "execution_count": 5,
   "metadata": {},
   "outputs": [],
   "source": [
    "ent_dir =os.path.join(root,'entropy_ebgAll')\n",
    "assert ent_dir"
   ]
  },
  {
   "cell_type": "code",
   "execution_count": 6,
   "metadata": {},
   "outputs": [
    {
     "name": "stdout",
     "output_type": "stream",
     "text": [
      "mkdir: cannot create directory ‘/data/gpfs/assoc/denovo/tfaske/CHDO/SNPcall/entropy_ebgAll’: File exists\r\n"
     ]
    }
   ],
   "source": [
    "!mkdir $ent_dir"
   ]
  },
  {
   "cell_type": "code",
   "execution_count": 7,
   "metadata": {},
   "outputs": [
    {
     "name": "stdout",
     "output_type": "stream",
     "text": [
      "/data/gpfs/assoc/denovo/tfaske/CHDO/SNPcall/entropy_ebgAll\n"
     ]
    }
   ],
   "source": [
    "cd $ent_dir"
   ]
  },
  {
   "cell_type": "markdown",
   "metadata": {},
   "source": [
    "### move ebg PL txt, and Pop_ID to ent dir, extract PL data   "
   ]
  },
  {
   "cell_type": "code",
   "execution_count": 8,
   "metadata": {},
   "outputs": [],
   "source": [
    "%load_ext rpy2.ipython"
   ]
  },
  {
   "cell_type": "code",
   "execution_count": 10,
   "metadata": {},
   "outputs": [
    {
     "name": "stderr",
     "output_type": "stream",
     "text": [
      "R[write to console]: Loading required package: LEA\n",
      "\n"
     ]
    }
   ],
   "source": [
    "%%R\n",
    "require(readr)\n",
    "library(data.table)\n",
    "require(MASS)\n",
    "require(LEA)\n",
    "require(ggplot2)\n",
    "library(vcfR)\n",
    "\n",
    "source('/data/gpfs/home/tfaske/g/src/R/Imports.R')\n",
    "\n",
    "setwd('/data/gpfs/assoc/denovo/tfaske/CHDO/SNPcall/entropy_ebgAll/')"
   ]
  },
  {
   "cell_type": "code",
   "execution_count": 12,
   "metadata": {},
   "outputs": [],
   "source": [
    "%%R \n",
    "#read in data\n",
    "PL_4 <- data.frame(fread('CHDO4.diseq-PL.txt',header=F,sep='\\t'))\n",
    "PL_6 <- data.frame(fread('CHDO6.diseq-PL.txt',header=F,sep='\\t'))\n",
    "\n",
    "pntest_mean_2 <- data.frame(fread('pntest_mean_diploidAll.txt'))\n",
    "mpgl_2 <- data.frame(fread('mpgl_diploidAll.txt',header=FALSE),row.names=1)\n",
    "\n",
    "Pop_ID_OG <- read.csv('Pop_ID.csv')\n",
    "Pop_ID_4 <- read.csv('Pop_ID_4.csv')\n",
    "Pop_ID_6 <- read.csv('Pop_ID_6.csv')"
   ]
  },
  {
   "cell_type": "code",
   "execution_count": 14,
   "metadata": {},
   "outputs": [],
   "source": [
    "%%R\n",
    "# REMOVE LAST COLUMN of PL_4/6 for some reason\n",
    "PL_4 <- PL_4[,-c(ncol(PL_4))]\n",
    "PL_6 <- PL_6[,-c(ncol(PL_6))]"
   ]
  },
  {
   "cell_type": "code",
   "execution_count": 15,
   "metadata": {},
   "outputs": [
    {
     "name": "stdout",
     "output_type": "stream",
     "text": [
      "[1] 272   6\n",
      "[1] 142   6\n",
      "[1] 23425   272\n",
      "       V1      V2      V3      V4      V5\n",
      "1 0.99685 0.99998      NA      NA 1.79924\n",
      "2      NA      NA 0.11182      NA 0.00013\n",
      "3 0.00000 0.00000      NA      NA 0.03065\n",
      "4 0.11182 1.00198      NA 0.00397 0.50000\n",
      "5 0.96935      NA      NA 1.00000 0.20081\n",
      "[1] 23425   816\n",
      "                       V2 V3  V4 V5 V6\n",
      "dDocent_Contig_794:58  25  0  73 46  0\n",
      "dDocent_Contig_860:5    0  0   0  0  0\n",
      "dDocent_Contig_1448:8   0 54 194  0 75\n",
      "dDocent_Contig_2012:5   0  9  81 48  0\n",
      "dDocent_Contig_2169:59 15  0  99  0  0\n",
      "[1] 23425   142\n",
      "                                         V137\n",
      "1     21.9465,3.05883,3.36601,14.1468,62.4969\n",
      "2    0.100382,16.4519,36.7373,65.9538,196.981\n",
      "3 4.51701e-08,79.8293,280.463,631.283,2102.91\n",
      "4       6.5309,1.1653,18.8469,49.6475,157.049\n",
      "5   0.0404752,20.3326,48.6524,92.7024,240.624\n",
      "                                         V138\n",
      "1     41.5741,6.23689,1.96209,9.01071,53.0755\n",
      "2   0.0566408,18.9335,37.6057,65.2427,210.351\n",
      "3 6.89313e-10,97.9937,234.144,460.672,1393.23\n",
      "4   18.3143,0.0899297,22.4021,68.1949,263.527\n",
      "5    0.0396677,20.4294,44.7196,82.181,214.102\n",
      "                                       V139\n",
      "1    10.5313,7.1923,5.80382,5.68057,7.27058\n",
      "2   0.0122381,25.5159,52.3303,94.067,335.57\n",
      "3 0.0114287,25.8465,45.8831,75.0986,179.125\n",
      "4  0.088618,16.9529,45.5447,92.7798,278.783\n",
      "5     5.74441,3.09448,7.01875,13.5951,30.89\n",
      "                                         V140\n",
      "1     46.3078,13.5702,4.57503,2.62825,12.1247\n",
      "2 5.65642e-06,58.8524,138.101,267.943,1060.45\n",
      "3   0.0212427,23.1396,45.8401,77.3134,175.162\n",
      "4     2.26113,4.12688,17.2048,37.3534,97.0526\n",
      "5     0.158216,14.5138,33.9198,63.075,153.918\n",
      "                                         V141\n",
      "1      38.7601,14.5801,6.8357,3.73691,4.75156\n",
      "2 0.000396667,40.3938,92.6301,176.696,675.751\n",
      "3   0.00652317,28.2426,56.765,98.5292,243.109\n",
      "4   0.0388438,20.5047,58.5661,120.783,358.895\n",
      "5    0.627071,9.10662,19.5161,33.6651,67.2999\n",
      "                                       V142\n",
      "1   9.87277,7.25062,6.12649,5.88912,6.83974\n",
      "2  0.0346843,21.046,40.2274,69.1777,231.641\n",
      "3 0.0077017,27.5501,48.5708,79.7549,194.657\n",
      "4  0.138702,15.0414,39.5879,80.2414,241.207\n",
      "5      6.25914,1.4105,13.924,37.9396,131.67\n",
      "[1] 23425    30\n",
      "                                                          V25\n",
      "1       30.647,10.715,6.80348,5.36471,5.70391,8.42092,26.9087\n",
      "2   0.0184291,24.1317,34.5167,47.3288,64.5509,91.6183,176.698\n",
      "3 6.96258e-05,48.0333,65.2173,84.9377,110.857,152.169,353.739\n",
      "4   0.0774561,17.6558,32.9055,50.7726,74.3976,112.009,273.914\n",
      "5   0.0944103,16.7342,35.3631,58.5325,90.2393,142.395,417.638\n",
      "                                                        V26\n",
      "1   13.0692,9.68545,7.98738,7.14195,6.95545,7.51953,9.48894\n",
      "2   0.00316815,31.8191,41.847,52.3765,65.381,84.6158,140.68\n",
      "3 0.000619832,39.6442,45.927,51.6638,58.0206,66.348,89.8221\n",
      "4 0.0603379,18.7111,34.7174,53.5355,78.5425,118.651,294.062\n",
      "5   3.88479,2.46831,16.1253,34.8694,61.5604,106.448,346.856\n",
      "                                                         V27\n",
      "1      35.1164,14.873,10.2571,7.68576,6.2524,5.81722,6.91428\n",
      "2 0.00383984,31.1111,40.1293,49.3763,60.6154,76.9743,123.166\n",
      "3 7.76046e-05,47.5921,63.4462,81.5126,105.214,143.01,327.764\n",
      "4     110.664,6.99815,1.44742,10.791,33.2661,79.2546,317.646\n",
      "5    0.181172,14.035,28.7099,46.6721,71.0502,110.889,318.417\n",
      "                                                        V28\n",
      "1   25.9067,7.72497,5.29257,5.31059,7.34403,12.6596,47.2056\n",
      "2   0.0095989,28.379,33.292,37.3306,41.4139,46.1513,52.6993\n",
      "3 1.14527e-08,85.7888,147.571,224.8,331.728,510.942,1469.78\n",
      "4  0.261042,13.0611,21.1106,29.6681,40.3449,56.4719,118.848\n",
      "5       4.6563,2.11589,13.735,29.7261,52.5354,90.97,297.112\n",
      "                                                         V29\n",
      "1     57.643,20.9621,13.6488,9.44268,6.74044,5.14848,4.97962\n",
      "2   0.000365592,40.7915,60.7907,84.135,115.06,164.148,326.61\n",
      "3 8.59756e-05,47.1875,61.729,78.1565,99.6502,133.934,301.853\n",
      "4  0.00729511,27.7614,54.043,86.0417,129.598,201.247,530.249\n",
      "5   20.8352,0.751329,8.43638,21.4276,41.2314,75.7121,264.254\n",
      "                                                         V30\n",
      "1      12.6865,9.59672,8.05532,7.27521,7.07293,7.525,9.22158\n",
      "2    0.0251687,23.0868,31.076,40.8963,54.096,74.8324,139.464\n",
      "3 0.000196715,43.8024,54.694,66.3944,81.1902,103.975,207.747\n",
      "4  0.0691416,18.1557,33.0573,50.4392,73.4645,110.341,271.326\n",
      "5     4.25389,2.2793,14.9149,32.2761,57.0174,98.6682,321.932\n"
     ]
    }
   ],
   "source": [
    "%%R\n",
    "print(dim(Pop_ID_OG))\n",
    "print(dim(Pop_ID_4))\n",
    "\n",
    "print(dim(pntest_mean_2))\n",
    "print(pntest_mean_2[1:5,1:5])\n",
    "print(dim(mpgl_2))\n",
    "print(mpgl_2[1:5,1:5])\n",
    "print(dim(PL_4))\n",
    "print(PL_4[1:5,(ncol(PL_4)-5):ncol(PL_4)])\n",
    "print(dim(PL_6))\n",
    "print(PL_6[1:5,(ncol(PL_6)-5):ncol(PL_6)])"
   ]
  },
  {
   "cell_type": "code",
   "execution_count": 16,
   "metadata": {},
   "outputs": [],
   "source": [
    "%%R\n",
    "#converts pl to mpgl format\n",
    "mpgl_4 <- apply(PL_4, c(1,2), function(df) gsub(',',' ',df,fixed=TRUE))\n",
    "mpgl_6 <- apply(PL_6, c(1,2), function(df) gsub(',',' ',df,fixed=TRUE))"
   ]
  },
  {
   "cell_type": "code",
   "execution_count": 17,
   "metadata": {},
   "outputs": [
    {
     "name": "stdout",
     "output_type": "stream",
     "text": [
      "                                         V1\n",
      "1    8.8395,7.43673,6.72775,6.31089,6.15002\n",
      "2  0.0212101,23.1656,43.232,73.9566,254.217\n",
      "3 0.0112166,25.9792,42.5789,66.7387,155.891\n",
      "4  0.00413763,30.2168,60.196,107.094,291.54\n",
      "5   0.547619,10.5448,16.1088,22.5074,38.347\n",
      "                                          V2\n",
      "1      22.6142,10.52,6.60117,4.71218,4.56934\n",
      "2    0.0148725,24.6767,49.2159,87.26,308.362\n",
      "3 0.00590701,28.6896,51.5399,85.7407,212.839\n",
      "4 0.00390291,30.4683,63.1237,114.237,312.522\n",
      "5    0.64437,9.64995,16.0034,23.6431,41.2868\n",
      "                                         V3\n",
      "1   22.2045,10.5732,6.81907,4.85891,4.29854\n",
      "2 0.00328389,31.2178,64.1566,116.63,434.491\n",
      "3   0.042871,20.4697,30.9036,44.473,86.8122\n",
      "4 0.00844717,27.1233,54.277,96.2807,257.982\n",
      "5  0.430071,10.9893,18.7529,28.7789,57.0211\n",
      "                                           V4\n",
      "1      3.47292,4.2931,8.12028,16.1605,45.3109\n",
      "2    0.311321,12.4886,19.5387,27.7767,54.0864\n",
      "3 8.99091e-06,56.8398,119.147,219.446,622.839\n",
      "4     0.16533,14.6688,25.0909,38.9439,81.6726\n",
      "5     0.942955,7.21777,22.686,48.5773,143.767\n",
      "                                           V5\n",
      "1      4.3453,4.45221,6.78356,11.9978,31.3568\n",
      "2   0.0591988,18.8077,34.2333,56.8675,179.894\n",
      "3 2.94244e-08,81.6908,177.821,334.981,977.835\n",
      "4      0.154202,15.0027,25.0385,38.36,80.3762\n",
      "5     0.391948,10.6807,30.948,64.8841,193.118\n",
      "     V1                                         \n",
      "[1,] \"8.8395 7.43673 6.72775 6.31089 6.15002\"   \n",
      "[2,] \"0.0212101 23.1656 43.232 73.9566 254.217\" \n",
      "[3,] \"0.0112166 25.9792 42.5789 66.7387 155.891\"\n",
      "[4,] \"0.00413763 30.2168 60.196 107.094 291.54\" \n",
      "[5,] \"0.547619 10.5448 16.1088 22.5074 38.347\"  \n",
      "     V2                                          \n",
      "[1,] \"22.6142 10.52 6.60117 4.71218 4.56934\"     \n",
      "[2,] \"0.0148725 24.6767 49.2159 87.26 308.362\"   \n",
      "[3,] \"0.00590701 28.6896 51.5399 85.7407 212.839\"\n",
      "[4,] \"0.00390291 30.4683 63.1237 114.237 312.522\"\n",
      "[5,] \"0.64437 9.64995 16.0034 23.6431 41.2868\"   \n",
      "     V3                                         \n",
      "[1,] \"22.2045 10.5732 6.81907 4.85891 4.29854\"  \n",
      "[2,] \"0.00328389 31.2178 64.1566 116.63 434.491\"\n",
      "[3,] \"0.042871 20.4697 30.9036 44.473 86.8122\"  \n",
      "[4,] \"0.00844717 27.1233 54.277 96.2807 257.982\"\n",
      "[5,] \"0.430071 10.9893 18.7529 28.7789 57.0211\" \n",
      "     V4                                           \n",
      "[1,] \"3.47292 4.2931 8.12028 16.1605 45.3109\"     \n",
      "[2,] \"0.311321 12.4886 19.5387 27.7767 54.0864\"   \n",
      "[3,] \"8.99091e-06 56.8398 119.147 219.446 622.839\"\n",
      "[4,] \"0.16533 14.6688 25.0909 38.9439 81.6726\"    \n",
      "[5,] \"0.942955 7.21777 22.686 48.5773 143.767\"    \n",
      "     V5                                           \n",
      "[1,] \"4.3453 4.45221 6.78356 11.9978 31.3568\"     \n",
      "[2,] \"0.0591988 18.8077 34.2333 56.8675 179.894\"  \n",
      "[3,] \"2.94244e-08 81.6908 177.821 334.981 977.835\"\n",
      "[4,] \"0.154202 15.0027 25.0385 38.36 80.3762\"     \n",
      "[5,] \"0.391948 10.6807 30.948 64.8841 193.118\"    \n",
      "                                                           V1\n",
      "1     36.5685,15.2586,10.0494,7.22654,5.85396,5.84232,7.91891\n",
      "2 0.000979209,36.5478,53.9965,73.8943,99.6914,139.547,265.271\n",
      "3 0.000161858,44.4672,58.3129,73.6478,93.2462,123.479,261.368\n",
      "4   0.000756579,37.5901,78.147,128.591,197.82,312.143,839.798\n",
      "5       2.4947,6.07295,9.3978,13.0231,17.2644,22.5924,30.1706\n",
      "                                                          V2\n",
      "1     44.6012,7.69238,3.21091,5.1655,13.2507,31.5349,137.461\n",
      "2  0.00786927,27.5592,42.6314,58.1592,75.749,98.0036,143.905\n",
      "3 1.47742e-05,54.6828,106.458,171.243,259.281,402.39,1128.46\n",
      "4   0.0653278,18.2843,40.7086,68.4596,104.99,161.165,386.981\n",
      "5     20.621,0.263342,13.028,34.3071,65.9318,118.476,381.773\n",
      "                                                          V3\n",
      "1     14.7741,10.1537,7.75971,6.61776,6.5029,7.56346,10.6648\n",
      "2 0.00877052,27.8532,35.1712,42.0629,49.7035,59.4026,78.3202\n",
      "3  0.000707543,38.773,46.1276,53.0612,60.7727,70.661,95.9774\n",
      "4  0.0019497,33.4803,69.3994,113.899,174.747,274.779,732.649\n",
      "5    38.0277,7.86055,5.31579,5.60216,7.57797,11.2579,17.6121\n",
      "                                                          V4\n",
      "1    38.5408,15.8918,9.88316,6.71121,5.42284,5.97778,9.25303\n",
      "2 0.000484065,39.5476,63.2478,90.8598,126.894,182.663,359.42\n",
      "3  0.000346635,41.2282,53.7242,67.0176,83.232,106.64,198.408\n",
      "4      0.0136664,25.0285,66.4811,120.225,195.009,319,890.128\n",
      "5    2.20922,5.63024,10.2439,15.9613,23.1663,33.0124,59.2821\n",
      "                                                         V5\n",
      "1   12.8014,7.89695,5.82288,5.64064,7.33999,11.8233,32.8319\n",
      "2 0.00527424,29.4808,40.9006,52.8008,66.9969,86.696,136.731\n",
      "3 0.000285533,42.02,55.4715,69.9964,87.9442,114.299,222.196\n",
      "4  0.016822,24.1381,50.2648,82.2745,125.384,194.776,500.016\n",
      "5      1.7042,4.91487,26.8163,56.8591,99.4725,170.6,548.398\n",
      "     V1                                                           \n",
      "[1,] \"36.5685 15.2586 10.0494 7.22654 5.85396 5.84232 7.91891\"    \n",
      "[2,] \"0.000979209 36.5478 53.9965 73.8943 99.6914 139.547 265.271\"\n",
      "[3,] \"0.000161858 44.4672 58.3129 73.6478 93.2462 123.479 261.368\"\n",
      "[4,] \"0.000756579 37.5901 78.147 128.591 197.82 312.143 839.798\"  \n",
      "[5,] \"2.4947 6.07295 9.3978 13.0231 17.2644 22.5924 30.1706\"      \n",
      "     V2                                                          \n",
      "[1,] \"44.6012 7.69238 3.21091 5.1655 13.2507 31.5349 137.461\"    \n",
      "[2,] \"0.00786927 27.5592 42.6314 58.1592 75.749 98.0036 143.905\" \n",
      "[3,] \"1.47742e-05 54.6828 106.458 171.243 259.281 402.39 1128.46\"\n",
      "[4,] \"0.0653278 18.2843 40.7086 68.4596 104.99 161.165 386.981\"  \n",
      "[5,] \"20.621 0.263342 13.028 34.3071 65.9318 118.476 381.773\"    \n",
      "     V3                                                          \n",
      "[1,] \"14.7741 10.1537 7.75971 6.61776 6.5029 7.56346 10.6648\"    \n",
      "[2,] \"0.00877052 27.8532 35.1712 42.0629 49.7035 59.4026 78.3202\"\n",
      "[3,] \"0.000707543 38.773 46.1276 53.0612 60.7727 70.661 95.9774\" \n",
      "[4,] \"0.0019497 33.4803 69.3994 113.899 174.747 274.779 732.649\" \n",
      "[5,] \"38.0277 7.86055 5.31579 5.60216 7.57797 11.2579 17.6121\"   \n",
      "     V4                                                          \n",
      "[1,] \"38.5408 15.8918 9.88316 6.71121 5.42284 5.97778 9.25303\"   \n",
      "[2,] \"0.000484065 39.5476 63.2478 90.8598 126.894 182.663 359.42\"\n",
      "[3,] \"0.000346635 41.2282 53.7242 67.0176 83.232 106.64 198.408\" \n",
      "[4,] \"0.0136664 25.0285 66.4811 120.225 195.009 319 890.128\"     \n",
      "[5,] \"2.20922 5.63024 10.2439 15.9613 23.1663 33.0124 59.2821\"   \n",
      "     V5                                                         \n",
      "[1,] \"12.8014 7.89695 5.82288 5.64064 7.33999 11.8233 32.8319\"  \n",
      "[2,] \"0.00527424 29.4808 40.9006 52.8008 66.9969 86.696 136.731\"\n",
      "[3,] \"0.000285533 42.02 55.4715 69.9964 87.9442 114.299 222.196\"\n",
      "[4,] \"0.016822 24.1381 50.2648 82.2745 125.384 194.776 500.016\" \n",
      "[5,] \"1.7042 4.91487 26.8163 56.8591 99.4725 170.6 548.398\"     \n"
     ]
    }
   ],
   "source": [
    "%%R\n",
    "#check pl and mggl\n",
    "print(PL_4[1:5,1:5])\n",
    "print(mpgl_4[1:5,1:5])\n",
    "print(PL_6[1:5,1:5])\n",
    "print(mpgl_6[1:5,1:5])"
   ]
  },
  {
   "cell_type": "code",
   "execution_count": 18,
   "metadata": {},
   "outputs": [
    {
     "name": "stdout",
     "output_type": "stream",
     "text": [
      "[1] 23425   142\n"
     ]
    },
    {
     "name": "stderr",
     "output_type": "stream",
     "text": [
      "R[write to console]: x being coerced from class: matrix to data.table\n",
      "\n"
     ]
    },
    {
     "name": "stdout",
     "output_type": "stream",
     "text": [
      "[1] 23425    30\n"
     ]
    },
    {
     "name": "stderr",
     "output_type": "stream",
     "text": [
      "R[write to console]: x being coerced from class: matrix to data.table\n",
      "\n"
     ]
    }
   ],
   "source": [
    "%%R\n",
    "rownames(mpgl_4) <- rownames(mpgl_2)\n",
    "print(dim(mpgl_4))\n",
    "fwrite(mpgl_4,'mpgl_4.txt',quote=F,col.names = F,sep = ' ') \n",
    "\n",
    "rownames(mpgl_6) <- rownames(mpgl_2)\n",
    "print(dim(mpgl_6))\n",
    "fwrite(mpgl_6,'mpgl_6.txt',quote=F,col.names = F,sep = ' ') "
   ]
  },
  {
   "cell_type": "code",
   "execution_count": 19,
   "metadata": {},
   "outputs": [
    {
     "name": "stdout",
     "output_type": "stream",
     "text": [
      "   user  system elapsed \n",
      " 21.442   0.474  21.910 \n"
     ]
    }
   ],
   "source": [
    "%%R\n",
    "### pntest_mean ploidy###\n",
    "mean_pl <- function(GP){\n",
    "  gps <- as.numeric(unlist(strsplit(as.character(GP),split = ',')))\n",
    "  ploidy <- length(gps)-1\n",
    "  if (sum(gps) == 0){\n",
    "    mean <- 0\n",
    "  }else{\n",
    "    gps <- 10 ^ (gps/-10)\n",
    "    mean <- sum(gps*(0:ploidy))/sum(gps)\n",
    "    return(mean) \n",
    "  }\n",
    "}\n",
    "\n",
    "system.time(pntest_mean_4 <- apply(PL_4,1:2,mean_pl))\n",
    "system.time(pntest_mean_6 <- apply(PL_6,1:2,mean_pl))"
   ]
  },
  {
   "cell_type": "code",
   "execution_count": 20,
   "metadata": {},
   "outputs": [
    {
     "name": "stdout",
     "output_type": "stream",
     "text": [
      "[1] 23425   142\n"
     ]
    },
    {
     "name": "stderr",
     "output_type": "stream",
     "text": [
      "R[write to console]: x being coerced from class: matrix to data.table\n",
      "\n"
     ]
    },
    {
     "name": "stdout",
     "output_type": "stream",
     "text": [
      "[1] 23425    30\n"
     ]
    },
    {
     "name": "stderr",
     "output_type": "stream",
     "text": [
      "R[write to console]: x being coerced from class: matrix to data.table\n",
      "\n"
     ]
    }
   ],
   "source": [
    "%%R \n",
    "rownames(pntest_mean_4) <- rownames(mpgl_2)\n",
    "print(dim(pntest_mean_4))\n",
    "fwrite(pntest_mean_4,'pntest_mean_4.txt',quote=F,sep = ' ')\n",
    "\n",
    "rownames(pntest_mean_6) <- rownames(mpgl_2)\n",
    "print(dim(pntest_mean_6))\n",
    "fwrite(pntest_mean_6,'pntest_mean_6.txt',quote=F,sep = ' ')"
   ]
  },
  {
   "cell_type": "code",
   "execution_count": 21,
   "metadata": {},
   "outputs": [
    {
     "name": "stdout",
     "output_type": "stream",
     "text": [
      "               V1           V2           V3           V4           V5\n",
      "[1,] 6.188708e-33 1.630047e-31 2.681637e-31 1.552387e-31 1.553102e-30\n",
      "[2,] 4.000000e+00 3.999703e+00 3.998456e+00 3.999773e+00 4.000000e+00\n",
      "              V6           V7           V8           V9          V10\n",
      "[1,] 2.84905e-33 8.160185e-33 1.217026e-28 3.318945e-31 9.210856e-33\n",
      "[2,] 4.00000e+00 4.000000e+00 3.997293e+00 3.998991e+00 3.999796e+00\n",
      "              V11          V12          V13          V14          V15\n",
      "[1,] 6.437244e-31 5.244451e-31 1.532498e-23 4.067242e-21 4.960209e-24\n",
      "[2,] 3.999631e+00 3.997980e+00 3.999915e+00 3.999028e+00 3.999979e+00\n",
      "              V16          V17          V18          V19          V20\n",
      "[1,] 2.133045e-22 7.262732e-19 2.657052e-19 7.423351e-33 1.415468e-21\n",
      "[2,] 3.999903e+00 4.000000e+00 4.000000e+00 4.000000e+00 3.999994e+00\n",
      "              V21          V22          V23        V24          V25\n",
      "[1,] 1.832736e-17 1.459822e-16 1.481836e-19 5.5386e-31 1.625175e-25\n",
      "[2,] 3.999653e+00 4.000000e+00 4.000000e+00 4.0000e+00 4.000000e+00\n",
      "              V26          V27          V28          V29          V30\n",
      "[1,] 2.385613e-33 1.539218e-23 5.004953e-33 8.843008e-26 3.518034e-26\n",
      "[2,] 3.999815e+00 3.998314e+00 3.998221e+00 3.999852e+00 3.999996e+00\n",
      "              V31          V32          V33          V34          V35\n",
      "[1,] 3.162278e-29 3.007461e-27 3.621596e-18 2.955289e-21 1.046887e-15\n",
      "[2,] 4.000000e+00 4.000000e+00 3.998326e+00 3.999102e+00 3.982350e+00\n",
      "              V36          V37          V38          V39          V40\n",
      "[1,] 7.571815e-20 1.576522e-32 1.852678e-26 1.048093e-20 1.811757e-29\n",
      "[2,] 3.997840e+00 3.999947e+00 3.999969e+00 3.999917e+00 3.997030e+00\n",
      "              V41          V42          V43          V44          V45\n",
      "[1,] 2.521390e-10 3.452232e-30 1.503142e-32 6.658862e-33 4.163897e-32\n",
      "[2,] 3.943404e+00 3.999998e+00 3.999998e+00 4.000000e+00 3.999995e+00\n",
      "              V46          V47          V48          V49          V50\n",
      "[1,] 5.665001e-19 8.986695e-21 6.777976e-15 5.214348e-32 1.987010e-32\n",
      "[2,] 3.999997e+00 3.999901e+00 3.999163e+00 3.999964e+00 3.999996e+00\n",
      "              V51          V52          V53          V54          V55\n",
      "[1,] 5.460092e-16 2.164213e-21 3.131122e-29 2.515938e-18 1.855667e-33\n",
      "[2,] 3.999456e+00 3.999990e+00 3.999701e+00 3.993053e+00 3.999647e+00\n",
      "              V56          V57          V58          V59          V60\n",
      "[1,] 8.359879e-32 2.288232e-13 2.877398e-26 5.280803e-32 1.076465e-32\n",
      "[2,] 3.999998e+00 3.972620e+00 3.999959e+00 3.999757e+00 4.000000e+00\n",
      "              V61          V62          V63          V64          V65\n",
      "[1,] 2.409905e-32 1.299571e-32 2.819681e-32 6.774855e-33 2.434445e-31\n",
      "[2,] 4.000000e+00 4.000000e+00 4.000000e+00 4.000000e+00 4.000000e+00\n",
      "              V66         V67          V68          V69         V70\n",
      "[1,] 1.779918e-32 1.09446e-32 8.957772e-32 2.286125e-32 1.34648e-32\n",
      "[2,] 4.000000e+00 4.00000e+00 4.000000e+00 4.000000e+00 4.00000e+00\n",
      "              V71          V72          V73          V74          V75\n",
      "[1,] 3.748004e-33 3.830893e-33 5.173685e-30 5.524589e-22 8.288959e-21\n",
      "[2,] 4.000000e+00 3.999999e+00 3.998967e+00 4.000000e+00 3.999988e+00\n",
      "              V76          V77          V78          V79          V80\n",
      "[1,] 1.707654e-23 9.935735e-31 1.186315e-18 2.414349e-11 6.345999e-33\n",
      "[2,] 3.998731e+00 3.999879e+00 3.999894e+00 3.999992e+00 3.999467e+00\n",
      "              V81          V82          V83          V84          V85\n",
      "[1,] 6.934258e-16 3.327362e-21 1.379431e-23 4.954502e-16 5.632484e-26\n",
      "[2,] 3.999364e+00 3.999801e+00 4.000000e+00 3.992456e+00 3.997603e+00\n",
      "              V86          V87          V88          V89          V90\n",
      "[1,] 2.737789e-18 4.216965e-28 5.580846e-20 2.368645e-25 2.511886e-32\n",
      "[2,] 3.997353e+00 3.987965e+00 3.975474e+00 3.999709e+00 3.999999e+00\n",
      "              V91          V92          V93          V94          V95\n",
      "[1,] 9.906038e-25 3.185664e-32 5.737200e-32 2.026749e-20 4.187936e-22\n",
      "[2,] 3.999936e+00 3.999864e+00 3.996134e+00 3.991955e+00 3.999997e+00\n",
      "              V96          V97          V98          V99         V100\n",
      "[1,] 2.986758e-32 4.929467e-26 2.344229e-32 5.833108e-33 1.737401e-29\n",
      "[2,] 3.999981e+00 4.000000e+00 4.000000e+00 3.999999e+00 4.000000e+00\n",
      "             V101         V102         V103         V104         V105\n",
      "[1,] 9.051072e-17 1.839077e-26 4.972789e-18 3.066197e-28 1.229702e-30\n",
      "[2,] 3.996151e+00 4.000000e+00 4.000000e+00 4.000000e+00 4.000000e+00\n",
      "             V106         V107         V108         V109         V110\n",
      "[1,] 1.601769e-24 6.629793e-33 1.353942e-34 2.977831e-33 3.392345e-33\n",
      "[2,] 3.999999e+00 4.000000e+00 4.000000e+00 3.999999e+00 3.999993e+00\n",
      "             V111         V112         V113         V114         V115\n",
      "[1,] 2.542729e-33 3.699985e-34 4.323147e-33 1.832736e-33 2.934945e-33\n",
      "[2,] 4.000000e+00 3.999963e+00 4.000000e+00 4.000000e+00 4.000000e+00\n",
      "             V116         V117         V118         V119         V120\n",
      "[1,] 3.471363e-35 5.067573e-33 1.087928e-35 1.396047e-28 6.119275e-27\n",
      "[2,] 4.000000e+00 4.000000e+00 4.000000e+00 4.000000e+00 3.998919e+00\n",
      "             V121         V122         V123         V124         V125\n",
      "[1,] 8.497673e-29 7.199461e-32 3.526144e-27 2.063954e-28 5.486558e-32\n",
      "[2,] 3.999744e+00 3.991362e+00 3.999984e+00 3.998755e+00 3.999585e+00\n",
      "             V126         V127         V128         V129         V130\n",
      "[1,] 1.399265e-30 1.035142e-26 2.955289e-30 2.705827e-33 4.043896e-33\n",
      "[2,] 3.996440e+00 3.986235e+00 3.999925e+00 3.999988e+00 3.998885e+00\n",
      "             V131         V132         V133         V134         V135\n",
      "[1,] 7.538761e-29 3.661002e-22 4.732602e-19 5.274727e-19 1.327394e-32\n",
      "[2,] 3.999999e+00 4.000000e+00 3.997829e+00 3.999999e+00 3.999593e+00\n",
      "             V136         V137         V138         V139         V140\n",
      "[1,] 4.729334e-20 5.426253e-32 2.931568e-30 1.187682e-23 5.428752e-26\n",
      "[2,] 3.999931e+00 3.999958e+00 3.999778e+00 4.000000e+00 3.999790e+00\n",
      "             V141         V142\n",
      "[1,] 1.523702e-24 2.224846e-24\n",
      "[2,] 3.999994e+00 4.000000e+00\n",
      "               V1           V2           V3           V4           V5\n",
      "[1,] 2.413237e-23 2.196848e-14 1.058035e-20 8.266088e-18 2.141411e-20\n",
      "[2,] 6.000000e+00 5.999985e+00 5.999987e+00 5.999997e+00 5.999994e+00\n",
      "               V6           V7           V8           V9          V10\n",
      "[1,] 2.976460e-11 8.914562e-13 2.316328e-23 7.107224e-16 2.089777e-22\n",
      "[2,] 5.999983e+00 5.999995e+00 5.999993e+00 5.999981e+00 5.999965e+00\n",
      "              V11          V12          V13          V14          V15\n",
      "[1,] 3.250125e-23 2.567438e-21 1.674943e-21 2.367009e-21 1.997101e-21\n",
      "[2,] 5.999993e+00 5.999999e+00 5.999999e+00 5.999994e+00 5.999998e+00\n",
      "              V16          V17          V18          V19          V20\n",
      "[1,] 4.636604e-22 4.954502e-24 1.412212e-21 2.732121e-21 2.396073e-21\n",
      "[2,] 5.999997e+00 5.999996e+00 5.999999e+00 5.999988e+00 5.999999e+00\n",
      "              V21          V22          V23          V24          V25\n",
      "[1,] 7.045308e-24 5.676753e-24 4.310226e-24 5.112108e-22 9.266164e-22\n",
      "[2,] 6.000000e+00 5.999992e+00 6.000000e+00 6.000000e+00 6.000000e+00\n",
      "              V26          V27          V28          V29          V30\n",
      "[1,] 1.254296e-23 4.151452e-24 8.356030e-25 1.831471e-23 5.766337e-24\n",
      "[2,] 5.999999e+00 6.000000e+00 5.999999e+00 6.000000e+00 5.999999e+00\n",
      "[1] 2.413237e-23 6.000000e+00 2.196848e-14 5.999985e+00 1.058035e-20\n"
     ]
    }
   ],
   "source": [
    "%%R\n",
    "#make sure ploidy makes sense\n",
    "print(apply(pntest_mean_4,2,function(df) range(df, na.rm=TRUE)))[1:5]\n",
    "print(apply(pntest_mean_6,2,function(df) range(df, na.rm=TRUE)))[1:5]"
   ]
  },
  {
   "cell_type": "code",
   "execution_count": 23,
   "metadata": {},
   "outputs": [
    {
     "name": "stdout",
     "output_type": "stream",
     "text": [
      "[1] 23425   142\n",
      "                                 V1           V2           V3           V4\n",
      "dDocent_Contig_794:58  2.2774537794 2.9366124629 2.9703168753 7.531860e-01\n",
      "dDocent_Contig_860:5   0.0049195071 0.0034306326 0.0007562429 8.364441e-02\n",
      "dDocent_Contig_1448:8  0.0026350248 0.0013662345 0.0107063390 2.070239e-06\n",
      "dDocent_Contig_2012:5  0.0009532173 0.0008987544 0.0019468825 4.070489e-02\n",
      "dDocent_Contig_2169:59 0.1546320311 0.1718559046 0.1102634184 2.005849e-01\n",
      "[1] 23425    30\n",
      "                                 V1           V2           V3           V4\n",
      "dDocent_Contig_794:58  4.106040e+00 2.230934e+00 3.3711540496 3.993496e+00\n",
      "dDocent_Contig_860:5   2.295130e-04 1.868011e-03 0.0024826078 1.119280e-04\n",
      "dDocent_Contig_1448:8  3.883119e-05 3.401933e-06 0.0002000351 8.446624e-05\n",
      "dDocent_Contig_2012:5  1.742073e-04 1.501497e-02 0.0004489441 3.142043e-03\n",
      "dDocent_Contig_2169:59 7.347011e-01 1.041872e+00 2.7545151209 5.604204e-01\n"
     ]
    }
   ],
   "source": [
    "%%R\n",
    "print(dim(pntest_mean_4))\n",
    "print(pntest_mean_4[1:5,1:4])\n",
    "\n",
    "print(dim(pntest_mean_6))\n",
    "print(pntest_mean_6[1:5,1:4])"
   ]
  },
  {
   "cell_type": "markdown",
   "metadata": {},
   "source": [
    "## merge needed diploid, tetraploids, hexaploids to make new files "
   ]
  },
  {
   "cell_type": "code",
   "execution_count": 25,
   "metadata": {},
   "outputs": [],
   "source": [
    "%%R\n",
    "Pop_ID_OG <- read.csv('Pop_ID.csv')\n",
    "Pop_ID_4 <- read.csv('Pop_ID_4.csv')\n",
    "Pop_ID_6 <- read.csv('Pop_ID_6.csv')\n",
    "\n",
    "pntest_mean_2 <- data.frame(fread('pntest_mean_diploidAll.txt'))\n",
    "mpgl_2 <- data.frame(fread('mpgl_diploidAll.txt',header=FALSE),row.names=1)\n",
    "\n",
    "pntest_mean_4 <- data.frame(fread('pntest_mean_4.txt'))\n",
    "mpgl_4 <- data.frame(fread('mpgl_4.txt',header=FALSE))\n",
    "\n",
    "pntest_mean_6 <- data.frame(fread('pntest_mean_6.txt'))\n",
    "mpgl_6 <- data.frame(fread('mpgl_6.txt',header=FALSE))\n",
    "\n"
   ]
  },
  {
   "cell_type": "code",
   "execution_count": 26,
   "metadata": {},
   "outputs": [
    {
     "name": "stdout",
     "output_type": "stream",
     "text": [
      "[1] 272   6\n",
      "[1] 23425   272\n",
      "[1] 23425   816\n",
      "[1] 142   6\n",
      "[1] 23425   142\n",
      "[1] 23425   710\n",
      "[1] 30  6\n",
      "[1] 23425    30\n",
      "[1] 23425   210\n"
     ]
    }
   ],
   "source": [
    "%%R\n",
    "print(dim(Pop_ID_OG))\n",
    "print(dim(pntest_mean_2))\n",
    "print(dim(mpgl_2))\n",
    "\n",
    "print(dim(Pop_ID_4))\n",
    "print(dim(pntest_mean_4))\n",
    "print(dim(mpgl_4))\n",
    "\n",
    "print(dim(Pop_ID_6))\n",
    "print(dim(pntest_mean_6))\n",
    "print(dim(mpgl_6))"
   ]
  },
  {
   "cell_type": "code",
   "execution_count": 27,
   "metadata": {},
   "outputs": [],
   "source": [
    "%%R\n",
    "#extract only diploids for mpgl \n",
    "#first make a header for mpgl_2 so can select the right indv\n",
    "names3 <- rep(Pop_ID_OG$All,each=3)\n",
    "names(mpgl_2) <- names3\n",
    "only2_names <- Pop_ID_OG$All[which(Pop_ID_OG$Ploidy == 2)]\n",
    "index_mpgl2 <- which(names(mpgl_2) %in% only2_names)\n",
    "mpgl_2only <- mpgl_2[,index_mpgl2]\n",
    "\n",
    "#only diploids for rest\n",
    "pntest_mean_2only <- pntest_mean_2[,which(Pop_ID_OG$Ploidy == 2)]\n",
    "Pop_ID_2only <- Pop_ID_OG[which(Pop_ID_OG$Ploidy == 2),]"
   ]
  },
  {
   "cell_type": "code",
   "execution_count": 28,
   "metadata": {},
   "outputs": [
    {
     "name": "stdout",
     "output_type": "stream",
     "text": [
      "[1] 100   6\n",
      "[1] 23425   100\n",
      "[1] 23425   300\n"
     ]
    }
   ],
   "source": [
    "%%R\n",
    "print(dim(Pop_ID_2only))\n",
    "print(dim(pntest_mean_2only))\n",
    "print(dim(mpgl_2only))"
   ]
  },
  {
   "cell_type": "code",
   "execution_count": 29,
   "metadata": {},
   "outputs": [],
   "source": [
    "%%R\n",
    "\n",
    "pntest_mean_ebgAll <- cbind(pntest_mean_2only,pntest_mean_4,pntest_mean_6)\n",
    "\n",
    "\n",
    "mpgl_ebgAll <- cbind(mpgl_2only,mpgl_4,mpgl_6)\n",
    "Pop_ID_ebgAll <- rbind(Pop_ID_2only,Pop_ID_4,Pop_ID_6)\n"
   ]
  },
  {
   "cell_type": "code",
   "execution_count": 32,
   "metadata": {},
   "outputs": [
    {
     "name": "stdout",
     "output_type": "stream",
     "text": [
      "[1] 272   6\n",
      "[1] 23425   272\n",
      "[1] 23425  1220\n",
      "[1] 1220\n"
     ]
    }
   ],
   "source": [
    "%%R\n",
    "print(dim(Pop_ID_ebgAll))\n",
    "print(dim(pntest_mean_ebgAll))\n",
    "print(dim(mpgl_ebgAll))\n",
    "\n",
    "#test right dim for mpgl\n",
    "print((nrow(Pop_ID_2only)*3) + (nrow(Pop_ID_4)*5) + (nrow(Pop_ID_6)*7))"
   ]
  },
  {
   "cell_type": "code",
   "execution_count": 33,
   "metadata": {},
   "outputs": [
    {
     "name": "stdout",
     "output_type": "stream",
     "text": [
      "       V1      V2      V3      V4      V5\n",
      "1 0.99685 0.99998      NA      NA 1.79924\n",
      "2      NA      NA 0.11182      NA 0.00013\n",
      "3 0.00000 0.00000      NA      NA 0.03065\n",
      "4 0.11182 1.00198      NA 0.00397 0.50000\n",
      "5 0.96935      NA      NA 1.00000 0.20081\n"
     ]
    }
   ],
   "source": [
    "%%R\n",
    "print(pntest_mean_ebgAll[1:5,1:5])"
   ]
  },
  {
   "cell_type": "code",
   "execution_count": 34,
   "metadata": {},
   "outputs": [
    {
     "name": "stdout",
     "output_type": "stream",
     "text": [
      " [1] \"dDocent_Contig_794:58\"  \"dDocent_Contig_860:5\"   \"dDocent_Contig_1448:8\" \n",
      " [4] \"dDocent_Contig_2012:5\"  \"dDocent_Contig_2169:59\" \"dDocent_Contig_2541:34\"\n",
      " [7] \"dDocent_Contig_2679:47\" \"dDocent_Contig_2762:47\" \"dDocent_Contig_2933:69\"\n",
      "[10] \"dDocent_Contig_3152:79\"\n"
     ]
    }
   ],
   "source": [
    "%%R\n",
    "print(rownames(mpgl_2)[1:10])\n",
    "rownames(mpgl_ebgAll) <- rownames(mpgl_2)\n"
   ]
  },
  {
   "cell_type": "code",
   "execution_count": 35,
   "metadata": {},
   "outputs": [],
   "source": [
    "%%R\n",
    "rownames(mpgl_ebgAll) <- rownames(mpgl_2)\n",
    "fwrite(mpgl_ebgAll,'mpgl_ebgAll.txt',quote=F,col.names = F,row.names=TRUE,sep = ' ') \n",
    "#change pntest NAs to 0 \n",
    "fwrite(pntest_mean_ebgAll,'pntest_mean_ebgAll.txt',na=0,col.names = F,sep = ' ') \n",
    "write.csv(Pop_ID_ebgAll,'Pop_ID_ebgAll.csv',row.names=F)"
   ]
  },
  {
   "cell_type": "markdown",
   "metadata": {},
   "source": [
    "## Create ldak files in R: standardize by ploidy! \n",
    "\n",
    "see mixed_ploidy_PCA.Rmd"
   ]
  },
  {
   "cell_type": "code",
   "execution_count": 43,
   "metadata": {},
   "outputs": [
    {
     "name": "stdout",
     "output_type": "stream",
     "text": [
      "[1] 0\n",
      "[1]   272 23425\n",
      "      [,1]    [,2]    [,3]    [,4]    [,5]\n",
      "V1 0.99685 0.00000 0.00000 0.11182 0.96935\n",
      "V2 0.99998 0.00000 0.00000 1.00198 0.00000\n",
      "V3 0.00000 0.11182 0.00000 0.00000 0.00000\n",
      "V4 0.00000 0.00000 0.00000 0.00397 1.00000\n",
      "V5 1.79924 0.00013 0.03065 0.50000 0.20081\n"
     ]
    }
   ],
   "source": [
    "%%R\n",
    "#read in data \n",
    "Pop_ID <- read.csv(\"Pop_ID_ebgAll.csv\")\n",
    "pntest_mean <- fread(\"pntest_mean_ebgAll.txt\",header=F, data.table=F)\n",
    "\n",
    "g <- t(pntest_mean)\n",
    "\n",
    "###make sure all NA to 0 \n",
    "#g[is.na(g)]<-0\n",
    "print(length(which(is.na(g))))\n",
    "print(dim(g))\n",
    "g[1:5,1:5]"
   ]
  },
  {
   "cell_type": "code",
   "execution_count": 44,
   "metadata": {},
   "outputs": [
    {
     "name": "stdout",
     "output_type": "stream",
     "text": [
      "[1] 772087\n"
     ]
    }
   ],
   "source": [
    "%%R \n",
    "\n",
    "#test, convert 0 after scale \n",
    "g[which(g == 0)] <- NA\n",
    "print(length(which(is.na(g))))\n",
    "\n",
    "#### create pl_list ####\n",
    "\n",
    "pl_list <- Pop_ID$Ploidy\n",
    "\n",
    "#### get stats on g and ploidy ####\n",
    "\n",
    "nind <- nrow(g)\n",
    "nloci <- ncol(g)\n",
    "n2_index <- which(pl_list == 2)\n",
    "n4_index <- which(pl_list == 4)\n",
    "n6_index <- which(pl_list == 6)\n",
    "\n",
    "#### check distributions  / range ###\n",
    "g2 <- g[n2_index,]\n",
    "g4 <- g[n4_index,]\n",
    "g6 <- g[n6_index,]\n",
    "\n",
    "\n"
   ]
  },
  {
   "cell_type": "code",
   "execution_count": 47,
   "metadata": {},
   "outputs": [
    {
     "name": "stdout",
     "output_type": "stream",
     "text": [
      "                           PC1     PC2     PC3     PC4     PC5\n",
      "Proportion of Variance 0.05088 0.03453 0.02657 0.01970 0.01910\n",
      "Cumulative Proportion  0.05088 0.08541 0.11198 0.13169 0.15079\n"
     ]
    }
   ],
   "source": [
    "%%R\n",
    "#### create pl_list ####\n",
    "\n",
    "pl_list <- Pop_ID$Ploidy\n",
    "\n",
    "#### get stats on g and ploidy ####\n",
    "\n",
    "nind <- nrow(g)\n",
    "nloci <- ncol(g)\n",
    "n2_index <- which(pl_list == 2)\n",
    "n4_index <- which(pl_list == 4)\n",
    "n6_index <- which(pl_list == 6)\n",
    "\n",
    "#### check distributions  / range ###\n",
    "g2 <- g[n2_index,]\n",
    "g4 <- g[n4_index,]\n",
    "g6 <- g[n6_index,]\n",
    "\n",
    "#### scale withing ####\n",
    "g2_scale <- scale(g2)\n",
    "g4_scale <- scale(g4)\n",
    "g6_scale <- scale(g6)\n",
    "\n",
    "g_z <- rbind(g2_scale,g4_scale,g6_scale)\n",
    "\n",
    "### if NAs\n",
    "g_z[is.na(g_z)] <- 0\n",
    "\n",
    "z_pca <- prcomp(as.matrix(g_z),scale. = F, center = F)\n",
    "pve <- summary(z_pca)$importance[2,1:5]\n",
    "print(summary(z_pca)$importance[2:3,1:5])\n",
    "\n",
    "pca_df <- cbind(rbind(Pop_ID[n2_index,],Pop_ID[n4_index,],Pop_ID[n6_index,]),\n",
    "                  z_pca$x[,1:5])"
   ]
  },
  {
   "cell_type": "code",
   "execution_count": 48,
   "metadata": {},
   "outputs": [
    {
     "data": {
      "image/png": "[encoded data removed]"
     },
     "metadata": {},
     "output_type": "display_data"
    }
   ],
   "source": [
    "%%R\n",
    "col24 <- c(\"#0094e6\",\"#ffab35\",\"#0072e1\",\"#5fb111\",\"#bb5de5\",\"#00db79\",\"#ff70d7\",\"#00a543\",\n",
    "           \"#d5005b\",\"#b7d069\",\"#005da2\",\"#ca6300\",\"#eab3f9\",\"#928b00\",\"#ff6cae\",\"#46591e\",\n",
    "           \"#f3b3dd\",\"#816600\",\"#604879\",\"#fabb5d\",\"#8d3353\",\"#919962\",\"#ff8885\",\"#8f361c\")\n",
    "\n",
    "ggplot(data = pca_df, aes(x=PC1,y=PC2,\n",
    "                          fill=Pop,shape=as.character(Ploidy))) + \n",
    "  geom_point(colour='black',size = 4) +\n",
    "  xlab(paste(\"PC\",1,\" (\",pve[1]*100,\"%)\",sep=\"\")) + \n",
    "  ylab(paste(\"PC\",2,\" (\",pve[2]*100,\"%)\",sep=\"\"))  +\n",
    "  scale_fill_manual(name='Population:',values = col24) +\n",
    "  scale_shape_manual(name='Ploidy:',values = c(21,22,24)) + \n",
    "  guides(fill = guide_legend(override.aes=list(pch=21))) +\n",
    "  theme_bw() + \n",
    "  theme(#legend.position = 'none',\n",
    "    axis.text = element_text(size=11), \n",
    "    axis.title = element_text(size = 13, colour=\"black\",face = \"bold\",vjust = 1),\n",
    "    panel.border = element_rect(size = 1.5, colour = \"black\"),\n",
    "    panel.grid.major = element_blank(),\n",
    "    panel.grid.minor = element_blank())"
   ]
  },
  {
   "cell_type": "code",
   "execution_count": 49,
   "metadata": {},
   "outputs": [],
   "source": [
    "%%R\n",
    "#######################################################################################\n",
    "                                    #### LDA ####\n",
    "#######################################################################################\n",
    "\n",
    "k2<-kmeans(z_pca$x[,1:5],2,iter.max=10,nstart=10,algorithm=\"Hartigan-Wong\")\n",
    "k3<-kmeans(z_pca$x[,1:5],3,iter.max=10,nstart=10,algorithm=\"Hartigan-Wong\")\n",
    "k4<-kmeans(z_pca$x[,1:5],4,iter.max=10,nstart=10,algorithm=\"Hartigan-Wong\")\n",
    "k5<-kmeans(z_pca$x[,1:5],5,iter.max=10,nstart=10,algorithm=\"Hartigan-Wong\")\n",
    "k6<-kmeans(z_pca$x[,1:5],6,iter.max=10,nstart=10,algorithm=\"Hartigan-Wong\")\n",
    "k7<-kmeans(z_pca$x[,1:5],7,iter.max=10,nstart=10,algorithm=\"Hartigan-Wong\")\n",
    "k8<-kmeans(z_pca$x[,1:5],8,iter.max=10,nstart=10,algorithm=\"Hartigan-Wong\")\n",
    "k9<-kmeans(z_pca$x[,1:5],9,iter.max=10,nstart=10,algorithm=\"Hartigan-Wong\")\n",
    "k10<-kmeans(z_pca$x[,1:5],10,iter.max=10,nstart=10,algorithm=\"Hartigan-Wong\")\n",
    "k11<-kmeans(z_pca$x[,1:5],11,iter.max=10,nstart=10,algorithm=\"Hartigan-Wong\")\n",
    "\n",
    "ldak2<-lda(x=z_pca$x[,1:5],grouping=k2$cluster,CV=TRUE)\n",
    "ldak3<-lda(x=z_pca$x[,1:5],grouping=k3$cluster,CV=TRUE)\n",
    "ldak4<-lda(x=z_pca$x[,1:5],grouping=k4$cluster,CV=TRUE)\n",
    "ldak5<-lda(x=z_pca$x[,1:5],grouping=k5$cluster,CV=TRUE)\n",
    "ldak6<-lda(x=z_pca$x[,1:5],grouping=k6$cluster,CV=TRUE)\n",
    "ldak7<-lda(x=z_pca$x[,1:5],grouping=k7$cluster,CV=TRUE)\n",
    "#ldak8<-lda(x=z_pca$x[,1:5],grouping=k8$cluster,CV=TRUE)\n",
    "#ldak9<-lda(x=z_pca$x[,1:5],grouping=k9$cluster,CV=TRUE)\n",
    "#ldak10<-lda(x=z_pca$x[,1:5],grouping=k10$cluster,CV=TRUE)\n",
    "#ldak11<-lda(x=z_pca$x[,1:5],grouping=k11$cluster,CV=TRUE)\n",
    "\n",
    "write.table(round(ldak2$posterior,5),file=\"ldak2.txt\",quote=F,row.names=F,col.names=F)\n",
    "write.table(round(ldak3$posterior,5),file=\"ldak3.txt\",quote=F,row.names=F,col.names=F)\n",
    "write.table(round(ldak4$posterior,5),file=\"ldak4.txt\",quote=F,row.names=F,col.names=F)\n",
    "write.table(round(ldak5$posterior,5),file=\"ldak5.txt\",quote=F,row.names=F,col.names=F)\n",
    "write.table(round(ldak6$posterior,5),file=\"ldak6.txt\",quote=F,row.names=F,col.names=F)                                      \n",
    "write.table(round(ldak7$posterior,5),file=\"ldak7.txt\",quote=F,row.names=F,col.names=F)\n",
    "#write.table(round(ldak8$posterior,5),file=\"ldak8.txt\",quote=F,row.names=F,col.names=F)\n",
    "#write.table(round(ldak9$posterior,5),file=\"ldak9.txt\",quote=F,row.names=F,col.names=F)\n",
    "#write.table(round(ldak10$posterior,5),file=\"ldak10.txt\",quote=F,row.names=F,col.names=F)\n",
    "#write.table(round(ldak11$posterior,5),file=\"ldak11.txt\",quote=F,row.names=F,col.names=F)\n"
   ]
  },
  {
   "cell_type": "code",
   "execution_count": 50,
   "metadata": {},
   "outputs": [],
   "source": [
    "%%R\n",
    "###### Create ploidy inds.txt ######\n",
    "ploidy_inds <- data.frame(Ploidy=Pop_ID$Ploidy)\n",
    "write.table(ploidy_inds,'ploidy_inds.txt',quote=F,row.names=F,col.names=F)"
   ]
  },
  {
   "cell_type": "code",
   "execution_count": 51,
   "metadata": {},
   "outputs": [
    {
     "name": "stdout",
     "output_type": "stream",
     "text": [
      "2\n",
      "2\n",
      "2\n",
      "2\n",
      "2\n",
      "2\n",
      "2\n",
      "2\n",
      "2\n",
      "2\n",
      "272 ploidy_inds.txt\n"
     ]
    }
   ],
   "source": [
    "!head ploidy_inds.txt\n",
    "!wc -l ploidy_inds.txt"
   ]
  },
  {
   "cell_type": "code",
   "execution_count": 52,
   "metadata": {},
   "outputs": [],
   "source": [
    "%%R\n",
    "######### create entropy header ####\n",
    "\n",
    "Pop_ID_list <- Pop_ID$All\n",
    "\n",
    "Header <- data.frame(dims = NA,Pop_ID_list)\n",
    "\n",
    "dim(pntest_mean)\n",
    "\n",
    "df <- t(Header)\n",
    "dims <- paste(dim(pntest_mean)[2],dim(pntest_mean)[1],sep = \" \")\n",
    "\n",
    "df[1,1] <- dims\n",
    "\n",
    "write.table(df,'entropy_header.txt',sep = \" \",na =\"\",\n",
    "            quote = FALSE,row.names = FALSE,col.names = FALSE)"
   ]
  },
  {
   "cell_type": "code",
   "execution_count": 53,
   "metadata": {},
   "outputs": [
    {
     "name": "stdout",
     "output_type": "stream",
     "text": [
      "272 23425                                                                                                                                                                                                                                                                               \r\n",
      "CD2_IP_10 CD2_IP_11 CD2_IP_12 CD2_IP_1 CD2_IP_2 CD2_IP_3 CD2_IP_4 CD2_IP_5 CD2_IP_6 CD2_IP_7 CD2_IP_8 CD2_IP_9 CD2_LA_10 CD2_LA_11 CD2_LA_1 CD2_LA_2 CD2_LA_3 CD2_LA_6 CD2_LA_7 CD2_LA_8 CD2_LS_10 CD2_LS_11 CD2_LS_12 CD2_LS_1 CD2_LS_2 CD2_LS_3 CD2_LS_4 CD2_LS_5 CD2_LS_6 CD2_LS_7 CD2_LS_8 CD2_LS_9 CD2_MM_10 CD2_MM_11 CD2_MM_12 CD2_MM_1 CD2_MM_2 CD2_MM_3 CD2_MM_4 CD2_MM_5 CD2_MM_6 CD2_MM_7 CD2_MM_8 CD2_MM_9 CD2_PM_10 CD2_PM_11 CD2_PM_12 CD2_PM_1 CD2_PM_2 CD2_PM_3 CD2_PM_4 CD2_PM_5 CD2_PM_6 CD2_PM_7 CD2_PM_8 CD2_PM_9 CD2_RC_10 CD2_RC_11 CD2_RC_12 CD2_RC_1 CD2_RC_2 CD2_RC_3 CD2_RC_4 CD2_RC_5 CD2_RC_6 CD2_RC_7 CD2_RC_8 CD2_RC_9 CD2_SA_10 CD2_SA_11 CD2_SA_12 CD2_SA_1 CD2_SA_2 CD2_SA_3 CD2_SA_4 CD2_SA_6 CD2_SA_7 CD2_SA_8 CD2_SA_9 CD2_SB_10 CD2_SB_12 CD2_SB_1 CD2_SB_2 CD2_SB_3 CD2_SB_4 CD2_SB_5 CD2_SB_7 CD2_SB_8 CD2_SB_9 CD2_UD_10 CD2_UD_11 CD2_UD_12 CD2_UD_1 CD2_UD_2 CD2_UD_3 CD2_UD_4 CD2_UD_6 CD2_UD_7 CD2_UD_8 CD2_UD_9 CD4_BB_10 CD4_BB_11 CD4_BB_12 CD4_BB_1 CD4_BB_2 CD4_BB_3 CD4_BB_4 CD4_BB_5 CD4_BB_6 CD4_BB_7 CD4_BB_8 CD4_BB_9 CD4_CC_10 CD4_CC_11 CD4_CC_12 CD4_CC_1 CD4_CC_2 CD4_CC_3 CD4_CC_4 CD4_CC_5 CD4_CC_6 CD4_CC_7 CD4_CC_8 CD4_CC_9 CD4_CL_10 CD4_CL_11 CD4_CL_12 CD4_CL_1 CD4_CL_2 CD4_CL_3 CD4_CL_4 CD4_CL_5 CD4_CL_6 CD4_CL_8 CD4_CL_9 CD4_CT_10 CD4_CT_11 CD4_CT_12 CD4_CT_1 CD4_CT_2 CD4_CT_3 CD4_CT_4 CD4_CT_5 CD4_CT_6 CD4_CT_7 CD4_CT_8 CD4_CT_9 CD4_MC_10 CD4_MC_11 CD4_MC_12 CD4_MC_1 CD4_MC_2 CD4_MC_3 CD4_MC_4 CD4_MC_5 CD4_MC_6 CD4_MC_7 CD4_MC_8 CD4_MC_9 CD4_MP_10 CD4_MP_11 CD4_MP_12 CD4_MP_1 CD4_MP_2 CD4_MP_3 CD4_MP_4 CD4_MP_5 CD4_MP_6 CD4_MP_7 CD4_MP_8 CD4_MP_9 CD4_OV_10 CD4_OV_11 CD4_OV_12 CD4_OV_1 CD4_OV_2 CD4_OV_3 CD4_OV_4 CD4_OV_5 CD4_OV_6 CD4_OV_7 CD4_OV_8 CD4_OV_9 CD4_SF_10 CD4_SF_11 CD4_SF_12 CD4_SF_1 CD4_SF_2 CD4_SF_3 CD4_SF_4 CD4_SF_5 CD4_SF_6 CD4_SF_7 CD4_SF_8 CD4_SF_9 CD4_SO_10 CD4_SO_11 CD4_SO_12 CD4_SO_2 CD4_SO_3 CD4_SO_4 CD4_SO_5 CD4_SO_6 CD4_SO_7 CD4_SO_8 CD4_SO_9 CD4_ST_10 CD4_ST_11 CD4_ST_12 CD4_ST_1 CD4_ST_2 CD4_ST_3 CD4_ST_4 CD4_ST_5 CD4_ST_6 CD4_ST_7 CD4_ST_8 CD4_ST_9 CD4_TR_10 CD4_TR_11 CD4_TR_12 CD4_TR_1 CD4_TR_2 CD4_TR_3 CD4_TR_4 CD4_TR_5 CD4_TR_6 CD4_TR_7 CD4_TR_8 CD4_TR_9 CD4_WM_10 CD4_WM_11 CD4_WM_12 CD4_WM_1 CD4_WM_2 CD4_WM_3 CD4_WM_4 CD4_WM_5 CD4_WM_6 CD4_WM_7 CD4_WM_8 CD4_WM_9 CD6_AI_10 CD6_AI_11 CD6_AI_1 CD6_AI_2 CD6_AI_3 CD6_AI_4 CD6_AI_5 CD6_AI_6 CD6_AI_7 CD6_AI_8 CD6_AI_9 CD6_AO_1 CD6_AO_2 CD6_AO_3 CD6_AO_4 CD6_AO_5 CD6_AO_6 CD6_AO_7 CD6_AO_8 CD6_AO_9 CD6_CP_10 CD6_CP_11 CD6_CP_1 CD6_CP_2 CD6_CP_3 CD6_CP_4 CD6_CP_5 CD6_CP_6 CD6_CP_7 CD6_CP_9\r\n"
     ]
    }
   ],
   "source": [
    "!head entropy_header.txt"
   ]
  },
  {
   "cell_type": "code",
   "execution_count": 54,
   "metadata": {},
   "outputs": [],
   "source": [
    "!cat entropy_header.txt mpgl_ebgAll.txt > entropy.mpgl"
   ]
  },
  {
   "cell_type": "code",
   "execution_count": 55,
   "metadata": {},
   "outputs": [
    {
     "name": "stdout",
     "output_type": "stream",
     "text": [
      "272 23425                                                                                                                                                                                                                                                                               \r\n",
      "CD2_IP_10 CD2_IP_11 CD2_IP_12 CD2_IP_1 CD2_IP_2 CD2_IP_3 CD2_IP_4 CD2_IP_5 CD2_IP_6 CD2_IP_7 CD2_IP_8 CD2_IP_9 CD2_LA_10 CD2_LA_11 CD2_LA_1 CD2_LA_2 CD2_LA_3 CD2_LA_6 CD2_LA_7 CD2_LA_8 CD2_LS_10 CD2_LS_11 CD2_LS_12 CD2_LS_1 CD2_LS_2 CD2_LS_3 CD2_LS_4 CD2_LS_5 CD2_LS_6 CD2_LS_7 CD2_LS_8 CD2_LS_9 CD2_MM_10 CD2_MM_11 CD2_MM_12 CD2_MM_1 CD2_MM_2 CD2_MM_3 CD2_MM_4 CD2_MM_5 CD2_MM_6 CD2_MM_7 CD2_MM_8 CD2_MM_9 CD2_PM_10 CD2_PM_11 CD2_PM_12 CD2_PM_1 CD2_PM_2 CD2_PM_3 CD2_PM_4 CD2_PM_5 CD2_PM_6 CD2_PM_7 CD2_PM_8 CD2_PM_9 CD2_RC_10 CD2_RC_11 CD2_RC_12 CD2_RC_1 CD2_RC_2 CD2_RC_3 CD2_RC_4 CD2_RC_5 CD2_RC_6 CD2_RC_7 CD2_RC_8 CD2_RC_9 CD2_SA_10 CD2_SA_11 CD2_SA_12 CD2_SA_1 CD2_SA_2 CD2_SA_3 CD2_SA_4 CD2_SA_6 CD2_SA_7 CD2_SA_8 CD2_SA_9 CD2_SB_10 CD2_SB_12 CD2_SB_1 CD2_SB_2 CD2_SB_3 CD2_SB_4 CD2_SB_5 CD2_SB_7 CD2_SB_8 CD2_SB_9 CD2_UD_10 CD2_UD_11 CD2_UD_12 CD2_UD_1 CD2_UD_2 CD2_UD_3 CD2_UD_4 CD2_UD_6 CD2_UD_7 CD2_UD_8 CD2_UD_9 CD4_BB_10 CD4_BB_11 CD4_BB_12 CD4_BB_1 CD4_BB_2 CD4_BB_3 CD4_BB_4 CD4_BB_5 CD4_BB_6 CD4_BB_7 CD4_BB_8 CD4_BB_9 CD4_CC_10 CD4_CC_11 CD4_CC_12 CD4_CC_1 CD4_CC_2 CD4_CC_3 CD4_CC_4 CD4_CC_5 CD4_CC_6 CD4_CC_7 CD4_CC_8 CD4_CC_9 CD4_CL_10 CD4_CL_11 CD4_CL_12 CD4_CL_1 CD4_CL_2 CD4_CL_3 CD4_CL_4 CD4_CL_5 CD4_CL_6 CD4_CL_8 CD4_CL_9 CD4_CT_10 CD4_CT_11 CD4_CT_12 CD4_CT_1 CD4_CT_2 CD4_CT_3 CD4_CT_4 CD4_CT_5 CD4_CT_6 CD4_CT_7 CD4_CT_8 CD4_CT_9 CD4_MC_10 CD4_MC_11 CD4_MC_12 CD4_MC_1 CD4_MC_2 CD4_MC_3 CD4_MC_4 CD4_MC_5 CD4_MC_6 CD4_MC_7 CD4_MC_8 CD4_MC_9 CD4_MP_10 CD4_MP_11 CD4_MP_12 CD4_MP_1 CD4_MP_2 CD4_MP_3 CD4_MP_4 CD4_MP_5 CD4_MP_6 CD4_MP_7 CD4_MP_8 CD4_MP_9 CD4_OV_10 CD4_OV_11 CD4_OV_12 CD4_OV_1 CD4_OV_2 CD4_OV_3 CD4_OV_4 CD4_OV_5 CD4_OV_6 CD4_OV_7 CD4_OV_8 CD4_OV_9 CD4_SF_10 CD4_SF_11 CD4_SF_12 CD4_SF_1 CD4_SF_2 CD4_SF_3 CD4_SF_4 CD4_SF_5 CD4_SF_6 CD4_SF_7 CD4_SF_8 CD4_SF_9 CD4_SO_10 CD4_SO_11 CD4_SO_12 CD4_SO_2 CD4_SO_3 CD4_SO_4 CD4_SO_5 CD4_SO_6 CD4_SO_7 CD4_SO_8 CD4_SO_9 CD4_ST_10 CD4_ST_11 CD4_ST_12 CD4_ST_1 CD4_ST_2 CD4_ST_3 CD4_ST_4 CD4_ST_5 CD4_ST_6 CD4_ST_7 CD4_ST_8 CD4_ST_9 CD4_TR_10 CD4_TR_11 CD4_TR_12 CD4_TR_1 CD4_TR_2 CD4_TR_3 CD4_TR_4 CD4_TR_5 CD4_TR_6 CD4_TR_7 CD4_TR_8 CD4_TR_9 CD4_WM_10 CD4_WM_11 CD4_WM_12 CD4_WM_1 CD4_WM_2 CD4_WM_3 CD4_WM_4 CD4_WM_5 CD4_WM_6 CD4_WM_7 CD4_WM_8 CD4_WM_9 CD6_AI_10 CD6_AI_11 CD6_AI_1 CD6_AI_2 CD6_AI_3 CD6_AI_4 CD6_AI_5 CD6_AI_6 CD6_AI_7 CD6_AI_8 CD6_AI_9 CD6_AO_1 CD6_AO_2 CD6_AO_3 CD6_AO_4 CD6_AO_5 CD6_AO_6 CD6_AO_7 CD6_AO_8 CD6_AO_9 CD6_CP_10 CD6_CP_11 CD6_CP_1 CD6_CP_2 CD6_CP_3 CD6_CP_4 CD6_CP_5 CD6_CP_6 CD6_CP_7 CD6_CP_9\r\n",
      "dDocent_Contig_794:58 25 0 73 46 0 58 0 0 0 0 0 0 56 6 0 0 3 25 0 12 106 37 3 0 0 9 74 0 0 0 0 3 25 82 9 0 62 9 0 0 0 0 74 9 0 91 12 0 0 0 0 68 9 0 50 0 87 37 0 16 4 0 77 0 9 74 0 0 0 45 6 0 0 0 0 0 0 0 25 3 0 0 12 97 0 0 0 25 3 0 0 9 84 25 3 0 74 9 0 34 0 34 56 0 68 0 3 25 0 0 0 25 3 0 63 0 13 0 0 0 0 6 45 0 0 0 0 0 0 37 0 16 0 0 0 45 6 0 32 0 93 61 0 110 0 15 86 94 12 0 96 0 20 116 2 0 13 0 51 0 0 0 0 3 37 0 3 25 0 0 0 57 6 0 0 6 45 19 0 19 0 3 37 19 0 19 13 0 63 84 9 0 0 0 0 51 0 13 0 0 0 27 0 31 25 3 0 55 0 80 0 3 25 25 3 0 57 0 129 0 0 0 26 0 110 25 3 0 75 0 124 89 0 120 96 12 0 45 6 0 25 3 0 25 3 0 0 6 57 45 6 0 0 0 0 25 3 0 50 0 87 31 0 19 31 0 19 36 0 93 67 6 0 13 0 51 0 0 0 45 6 0 72 9 0 22 0 62 25 3 0 25 3 0 25 3 0 25 3 0 8.8395 7.43673 6.72775 6.31089 6.15002 22.6142 10.52 6.60117 4.71218 4.56934 22.2045 10.5732 6.81907 4.85891 4.29854 3.47292 4.2931 8.12028 16.1605 45.3109 4.3453 4.45221 6.78356 11.9978 31.3568 10.093 7.22666 6.01401 5.81489 6.98463 21.3123 10.7601 7.36423 5.24917 3.69986 4.28488 4.47639 6.8372 12.0387 31.3209 27.6137 3.05219 3.2853 14.7178 69.1418 17.3058 6.34669 4.07376 4.94596 14.214 13.8786 4.37322 3.86125 7.44491 25.8378 22.7032 10.5107 6.55609 4.68256 4.62785 18.315 6.49952 3.90502 4.91591 14.9427 26.873 10.6377 5.05809 3.87572 7.21449 10.2713 7.21065 5.92643 5.7582 7.10131 24.0216 10.4501 5.96844 4.3219 5.47911 7.1629 4.90975 5.14729 7.79375 18.8372 11.9152 2.6081 4.58826 14.0381 53.0627 14.102 4.40133 3.81903 7.43308 26.0015 18.2459 6.48843 3.91627 4.91754 14.8935 45.7994 8.33513 2.01975 6.4763 41.9818 8.83025 1.77369 7.03149 22.0094 79.8651 23.303 10.4666 6.27147 4.50173 5.01866 16.0326 1.82596 5.1867 18.1272 72.8639 26.7189 10.6205 5.09799 3.89192 7.1248 10.7655 7.18048 5.69823 5.61539 7.42216 1.67433 5.39005 15.1582 34.5193 102.743 9.26975 4.9416 4.34785 7.34984 20.1629 45.0851 13.3405 4.75553 2.6348 11.3115 79.6955 29.5082 14.3292 5.86884 1.52992 22.6045 10.521 6.60614 4.71547 4.56294 5.50503 3.50548 6.22057 14.7373 46.3137 38.6104 14.5821 6.90051 3.7751 4.66446 25.1969 10.4881 5.54458 4.09516 6.21294 27.2347 10.6801 4.96775 3.84032 7.42311 46.0611 13.5224 4.61004 2.62833 11.9632 7.14586 4.91062 5.15498 7.79851 18.8262 32.0663 9.76616 3.97039 3.50387 13.304 16.4246 4.75093 3.40612 7.34804 27.6393 9.38777 4.94984 4.31053 7.3318 20.2348 13.9276 7.32144 4.6089 5.04875 9.37405 23.6314 10.4547 6.12831 4.41505 5.23012 10.2751 7.21034 5.9246 5.75703 7.10378 42.5738 12.9496 5.18818 2.7136 9.54401 37.5147 14.6453 7.43367 4.10761 4.01669 32.8593 9.92221 3.86488 3.50962 13.8414 86.4689 25.8395 8.65826 1.67179 7.43029 4.29993 4.47029 6.82376 12.0284 31.3299 36.4594 14.8136 8.07064 4.5428 3.37716 35.8482 14.9801 8.51467 4.86686 3.00057 23.929 4.98533 2.90971 7.7818 35.4664 17.616 2.45165 4.22983 14.3818 59.5476 18.1355 6.47089 3.93433 4.92027 14.8147 22.48 10.5354 6.67061 4.75831 4.4809 35.2219 15.2233 9.04643 5.27387 2.61056 22.1236 10.5859 6.8643 4.89007 4.24473 11.522 7.16884 5.38534 5.43193 7.90546 8.61888 7.49552 6.87493 6.41986 6.00064 9.90061 2.50843 5.23166 14.3621 51.7179 4.65024 5.37959 6.62488 8.83596 17.1614 13.9075 6.0257 4.72479 5.17711 11.604 18.8985 0.151233 16.7093 56.4248 210.766 15.9816 1.82186 5.19954 18.1327 72.8273 18.8178 4.20797 3.55378 7.81228 31.5318 41.0123 12.7931 5.51265 2.83011 8.38166 8.57012 7.50958 6.90852 6.44501 5.96753 21.7588 5.99742 3.68582 5.18815 19.5087 7.36265 8.01428 7.8927 7.22243 5.13611 8.88697 7.42508 6.69705 6.28842 6.18207 57.947 13.051 3.48541 3.01666 25.2142 21.9542 6.02135 3.6656 5.18693 19.67 51.159 19.3483 9.54628 4.48071 2.83189 44.6959 13.2717 4.81679 2.64053 11.046 127.116 39.7874 14.9073 2.67353 3.69293 24.9561 10.4749 5.62511 4.13584 6.06459 8.44511 4.90045 4.6285 7.49363 19.6533 23.4164 10.4616 6.22112 4.4709 5.09183 8.28522 4.89622 4.68728 7.52548 19.553 74.543 21.7939 6.75046 1.69058 9.80858 24.8671 10.4706 5.65564 4.15157 6.0095 80.7601 28.9588 13.1393 4.9535 2.00274 37.0439 14.7047 7.7003 4.28516 3.73316 7.63274 4.89404 4.9439 7.67114 19.1395 40.546 14.642 6.17921 3.38104 5.76019 18.3205 6.50041 3.90412 4.91578 14.9466 72.7092 9.6862 0.83692 11.6887 82.8461 8.73617 3.93835 4.31787 10.362 33.8474 7.44962 4.89828 5.02118 7.71701 19.0221 9.81209 7.25808 6.15833 5.91043 6.79969 9.97052 7.2394 6.07598 5.85559 6.90413 3.33242 4.38582 8.29706 16.301 45.2418 7.49432 0.993531 15.782 48.091 168.914 18.1468 6.47267 3.93249 4.91999 14.8227 31.1227 4.35644 2.52118 11.3737 57.31 36.4603 14.8134 8.07002 4.54235 3.37773 10.9773 7.17334 5.60647 5.56005 7.55845 15.6274 4.62041 3.54246 7.37008 27.0904 36.873 14.7322 7.80377 4.3559 3.62949 14.3166 7.36438 4.50751 5.00735 9.60085 12.3582 3.27735 4.14941 10.6073 39.045 23.3331 10.4652 6.25802 4.49346 5.03807 23.2965 10.4669 6.2744 4.50353 5.01443 16.05 0.978171 7.55184 29.5077 116.033 36.7093 14.7618 7.9065 4.4271 3.52987 50.8132 19.4546 9.82572 4.6856 2.6393 10.3028 7.20812 5.91124 5.74848 7.1219 33.1301 8.76491 3.8831 3.6373 16.0438 9.66612 4.11366 4.75856 7.84314 22.5479 25.571 1.40643 5.70599 22.9413 98.509 6.70791 8.46323 8.59719 7.81732 4.67612 122.911 42.3714 19.5532 6.43126 1.18379 14.2777 2.18443 4.89954 14.6469 56.9616 31.3789 8.59683 4.03669 3.65345 14.5348 65.947 2.70135 3.35558 28.7048 153.921 0.482889 10.1759 20.4785 36.1397 88.4052 1.50074 5.37312 27.0316 66.7921 209.329 33.0259 17.2398 12.0982 7.88072 1.21459 5.90768 9.29702 9.73717 8.82677 4.10509 9.89079 7.24848 6.1171 5.88287 6.85162 36.5853 14.7864 7.98679 4.4834 3.4542 43.4584 7.80628 2.20028 6.3522 40.286 72.1343 21.4348 7.24424 1.8267 8.31049 30.1272 9.42158 4.25142 3.51626 11.9346 54.2545 19.001 7.78773 3.31883 4.49441 50.8937 19.428 9.75859 4.63595 2.68419 22.9904 10.4857 6.41586 4.5921 4.81568 22.7014 10.5108 6.55701 4.68316 4.62665 20.8024 2.87726 3.58445 14.1963 61.7626 35.9339 14.9529 8.44834 4.81748 3.05366 23.0425 10.482 6.39121 4.57646 4.84962 19.9014 6.77532 3.65842 4.89315 16.0446 2.86937 4.0868 10.4765 24.3525 73.9543 27.2346 10.6801 4.96778 3.84032 7.42306 51.0275 19.3863 9.64981 4.55607 2.75876 98.7062 30.2731 10.9721 2.04629 5.30401 31.5635 9.6712 4.04005 3.50314 12.9565 21.9465 3.05883 3.36601 14.1468 62.4969 41.5741 6.23689 1.96209 9.01071 53.0755 10.5313 7.1923 5.80382 5.68057 7.27058 46.3078 13.5702 4.57503 2.62825 12.1247 38.7601 14.5801 6.8357 3.73691 4.75156 9.87277 7.25062 6.12649 5.88912 6.83974 36.5685 15.2586 10.0494 7.22654 5.85396 5.84232 7.91891 44.6012 7.69238 3.21091 5.1655 13.2507 31.5349 137.461 14.7741 10.1537 7.75971 6.61776 6.5029 7.56346 10.6648 38.5408 15.8918 9.88316 6.71121 5.42284 5.97778 9.25303 12.8014 7.89695 5.82288 5.64064 7.33999 11.8233 32.8319 75.6125 18.3147 7.28042 3.45188 5.13042 14.0147 69.1625 103.071 29.1192 14.3961 6.8797 3.69512 4.86682 23.7985 80.8172 12.1849 3.62176 3.72375 10.976 29.687 149.816 41.0791 5.54008 2.85369 7.23184 18.8237 43.1312 183.127 19.234 2.7178 4.31653 11.0317 23.7241 48.0863 187.116 33.3143 11.7503 6.88758 5.03756 5.47605 8.86941 28.8327 151.768 19.8958 4.18794 2.65398 11.8312 37.9418 221.478 130.861 41.5646 24.3819 14.5277 8.1985 4.40558 3.49685 132.039 41.664 23.8354 13.6989 7.43778 4.10242 4.15776 63.7894 2.90205 3.42262 14.881 37.8055 82.931 355.045 120.449 33.0328 17.4288 9.07823 4.43196 3.16716 18.2095 41.7203 7.84264 4.20428 4.89023 9.19083 19.5951 87.5538 83.3466 27.8769 16.5841 10.2038 6.36299 4.52961 5.26446 84.2936 28.0822 16.3473 9.77397 5.97975 4.45997 5.85942 123.994 34.3239 17.4083 8.49086 3.98142 3.64872 20.7279 14.3182 10.0182 7.80987 6.74796 6.61377 7.54214 10.3529 14.0184 9.93294 7.84684 6.8373 6.69045 7.53164 10.1468 26.1426 6.91621 4.43657 5.26866 9.1516 18.1557 71.3382 36.9054 15.359 10.0127 7.13061 5.77231 5.85833 8.14934 30.647 10.715 6.80348 5.36471 5.70391 8.42092 26.9087 13.0692 9.68545 7.98738 7.14195 6.95545 7.51953 9.48894 35.1164 14.873 10.2571 7.68576 6.2524 5.81722 6.91428 25.9067 7.72497 5.29257 5.31059 7.34403 12.6596 47.2056 57.643 20.9621 13.6488 9.44268 6.74044 5.14848 4.97962 12.6865 9.59672 8.05532 7.27521 7.07293 7.525 9.22158\r\n",
      "dDocent_Contig_860:5 0 0 0 0 0 0 0 9 86 0 0 0 0 39 186 0 6 67 0 12 112 0 15 129 0 0 0 0 3 37 0 0 0 0 18 143 0 39 184 0 51 188 0 21 153 0 60 196 0 6 67 0 18 123 0 9 92 0 21 153 0 15 129 0 0 0 0 3 37 0 24 161 0 30 173 0 12 111 0 21 150 0 9 90 0 3 37 0 0 0 0 0 0 0 9 91 0 0 0 0 0 0 0 0 0 0 3 37 0 0 0 13 0 76 0 6 63 0 0 0 0 6 67 0 15 121 0 9 91 0 0 0 0 30 174 0 15 123 79 0 24 0 3 36 0 0 0 0 36 182 0 57 194 0 30 175 0 0 0 0 3 37 0 18 137 0 12 112 0 9 92 0 15 121 0 6 66 0 0 0 0 6 67 0 0 0 0 3 36 0 12 109 0 3 37 0 0 0 0 0 0 0 3 37 0 33 180 0 12 111 0 27 169 0 48 192 0 6 66 0 36 181 0 18 140 0 15 129 0 12 110 0 6 66 0 57 194 0 15 118 0 21 146 25 0 81 0 9 89 0 27 166 0 21 153 0 3 36 0 6 67 0 3 37 0 3 37 0 6 62 0 6 61 0 0 0 0 3 37 0 12 104 0 6 62 0 3 32 0 0 0 0 3 37 0 0 0 0 3 37 0.0212101 23.1656 43.232 73.9566 254.217 0.0148725 24.6767 49.2159 87.26 308.362 0.00328389 31.2178 64.1566 116.63 434.491 0.311321 12.4886 19.5387 27.7767 54.0864 0.0591988 18.8077 34.2333 56.8675 179.894 22.6993 0.0264928 31.4844 91.2809 484.203 0.0274067 22.0785 40.269 67.8312 228.344 0.445186 11.7827 16.6289 21.261 27.252 0.344795 11.8918 19.8139 29.225 57.0326 0.0015139 34.5782 73.196 135.204 512.296 0.457335 11.5479 16.6603 21.6596 28.1478 0.0866843 17.2088 31.3138 51.5547 155.887 0.0128612 25.2998 52.4357 94.6026 336.647 0.675178 8.41832 43.2019 100.197 408.606 0.164894 14.6477 25.4348 39.9585 105.65 0.0139328 24.9517 52.6826 95.6401 338.657 0.334925 12.0626 19.7091 28.752 56.0985 0.113142 16.0029 32.1431 55.099 162.792 4.52683 2.22145 13.2699 31.6619 134.623 0.243575 13.1153 22.666 34.8974 81.9845 6.34837 1.44342 12.9912 31.4024 118.594 0.0862511 17.1301 35.235 61.4583 188.971 0.0708917 18.0052 34.4443 58.4552 183.281 0.115344 16.071 28.3285 45.4545 130.131 0.0600429 18.6366 43.7424 80.9331 253.354 0.176853 14.3111 25.5882 40.7702 107.299 0.533335 10.2335 17.528 25.4459 35.5793 0.222734 13.1923 26.9525 45.4439 115.939 0.00485655 29.5182 65.1105 121.139 443.45 0.00699965 27.9345 58.3499 106.186 386.824 0.463346 11.4346 16.6851 21.8734 28.6127 0.224597 13.1516 27.044 45.7153 116.421 0.0906592 16.9074 35.6001 62.609 191.047 0.0681866 18.1135 38.606 68.6639 216.662 0.047304 19.6589 47.9776 90.7995 286.27 0.0040367 30.3202 68.8949 129.565 473.305 0.173491 14.4035 25.5382 40.5297 106.819 0.278815 12.4136 23.3392 37.3956 86.6994 6.29205 1.47435 12.8226 30.9691 117.847 0.0705651 17.9619 38.9187 69.6062 218.341 0.247989 12.6663 28.628 50.2848 124.53 0.0131634 25.1988 52.4967 94.8794 337.192 0.0278241 21.9796 43.2865 75.7298 258.344 0.310919 12.496 19.5367 27.7618 54.0545 0.0327521 21.2667 43.6804 77.6022 262.066 0.0290985 21.7649 47.6466 86.8388 293.502 4.75732 1.86685 18.2505 44.4261 172.695 0.291901 12.8595 19.474 27.1137 52.6205 0.000155977 44.4473 97.2002 183.248 716.431 0.00241954 32.5432 67.1512 122.494 459.683 0.349094 11.8187 19.8664 29.4447 57.4595 0.152087 15.0347 25.3424 39.2127 104.043 0.0223437 22.9169 46.3978 82.3932 285.215 0.00613393 28.5082 58.184 105.019 384.359 0.00277938 31.9423 64.2136 115.747 432.275 0.437876 10.1815 61.6172 152.289 740.333 0.00600315 28.5992 61.7414 113.859 415.58 0.0202068 23.3773 43.273 73.7526 253.649 0.117519 15.9848 28.3488 45.6199 130.487 0.232609 14.1337 19.646 25.7101 48.8975 6.56224 2.81776 6.73812 13.4954 54.025 0.137741 15.5065 25.3229 38.5104 102.399 0.307504 12.5599 19.5209 27.6372 53.7861 0.35697 13.7843 17.0903 19.4834 22.0312 41.7604 1.48718 5.56747 19.0652 117.608 0.0888844 17.2678 28.3629 43.8599 126.245 0.0362797 20.9783 34.7782 55.0514 174.454 11.5829 5.66774 5.91432 6.44074 7.53891 0.183134 14.566 22.4007 32.2781 76.2143 0.275391 13.1911 19.4677 26.6351 51.4826 0.360575 13.6894 17.0477 19.5212 22.2108 0.0130384 25.2403 52.4707 94.7635 336.965 0.00147716 34.6846 76.8667 144.28 543.87 0.000810539 37.2906 82.7416 155.813 593.999 0.00282229 31.8737 71.3005 133.739 495.54 0.0630855 18.4573 38.0717 66.9577 213.574 0.0538567 19.1561 37.4641 64.616 209.123 0.00620584 28.4549 61.8903 114.397 416.584 0.00478836 29.5786 71.919 138.627 489.986 3.04885 3.02913 21.8203 52.4842 217.986 0.00495652 29.4297 65.238 121.554 444.205 0.072474 17.9068 34.4969 58.7097 183.789 0.136641 15.2869 28.6852 47.3438 133.968 1.56175e-06 64.4417 155.858 306.167 1203.13 5.6843e-08 78.8311 181.338 351.9 1431.85 25.7853 0.198392 13.7818 38.1688 133.718 0.0267003 22.1289 53.9527 102.745 337.187 0.000235065 42.6661 94.427 178.511 693.504 6.30671e-07 68.3798 154.11 296.446 1199.28 1.16147e-07 75.7278 172.117 332.563 1352.57 0.112452 16.1881 28.3069 45.2431 129.667 0.0947014 16.8091 31.4583 52.4335 157.71 4.21144e-09 90.1335 208.27 405.51 1660.59 0.0265534 22.1641 47.02 84.8412 289.889 0.000156005 44.4466 97.2004 183.25 716.434 0.134147 15.3724 28.6244 47.0885 133.473 0.0769265 17.6408 34.6779 59.4853 185.299 0.00932861 26.6902 55.3549 100.208 361.363 21.8332 0.0972221 18.077 49.786 201.519 0.235707 13.2844 22.5747 34.4575 81.105 3.98123 2.40884 15.8928 38.1919 161.824 0.0296329 21.7042 43.3949 76.3543 259.627 7.13035 1.02952 17.5986 43.7381 140.532 0.169146 14.5255 25.4817 40.2334 106.218 0.0928429 16.8987 31.4172 52.2171 157.272 0.322076 12.2913 19.6031 28.1959 54.9681 0.08235 17.9148 26.1598 37.0103 97.0862 0.330605 14.5242 17.4695 19.2965 20.7839 0.30392 15.3755 17.9908 19.2794 19.6271 0.16662 15.9196 20.4905 25.0985 45.6562 0.013898 25.0488 41.6854 66.8597 223.094 0.093086 17.3469 25.8642 37.1422 98.0189 0.0893069 18.0575 24.0496 31.094 69.9077 0.139054 16.8504 21.0933 25.1578 44.4997 0.302171 15.4357 18.0305 19.2849 19.5546 0.0560551 19.6773 27.3059 37.1378 94.9403 0.0311392 21.783 33.019 48.9966 146.21 0.126586 17.3251 21.4301 25.2591 44.0077 0.0840982 17.3455 31.2849 51.3001 155.334 0.1217 15.8233 28.3978 45.9541 131.192 0.165069 14.6427 25.4366 39.9695 105.673 4.56333 1.99137 17.4349 42.3378 169.116 0.00675849 28.0869 58.2878 105.836 386.107 0.0629442 18.4293 44.995 84.8304 260.814 0.000937168 36.6604 79.3231 148.031 565.034 0.230285 13.404 22.5226 34.1742 80.5264 0.048024 19.6621 37.2708 63.481 206.783 0.291803 12.1749 23.7259 38.6158 88.9032 0.00185052 33.7068 70.1512 128.596 485.429 0.00507371 29.3299 61.2843 111.819 411.578 7.49116 1.28335 11.2162 26.8251 94.7479 0.026785 22.1262 47.068 85.0032 290.187 0.0200551 23.3675 56.9441 108.723 362.65 0.0301324 21.6312 43.432 76.5388 259.997 0.000333543 41.1465 91.626 173.35 669.627 0.385534 10.7113 42.6727 96.0928 416.138 0.100382 16.4519 36.7373 65.9538 196.981 0.0566408 18.9335 37.6057 65.2427 210.351 0.0122381 25.5159 52.3303 94.067 335.57 5.65642e-06 58.8524 138.101 267.943 1060.45 0.000396667 40.3938 92.6301 176.696 675.751 0.0346843 21.046 40.2274 69.1777 231.641 0.000979209 36.5478 53.9965 73.8943 99.6914 139.547 265.271 0.00786927 27.5592 42.6314 58.1592 75.749 98.0036 143.905 0.00877052 27.8532 35.1712 42.0629 49.7035 59.4026 78.3202 0.000484065 39.5476 63.2478 90.8598 126.894 182.663 359.42 0.00527424 29.4808 40.9006 52.8008 66.9969 86.696 136.731 0.00502276 29.3754 59.2814 91.3843 127.394 171.633 260.653 0.000233572 42.6975 73.3309 109.334 156.261 228.558 456.894 0.0068972 28.3105 39.8234 51.6256 65.3312 83.5347 125.205 0.0140118 25.137 38.2693 51.097 64.5977 79.5027 97.1586 0.00367814 30.9166 44.4882 59.088 76.9483 102.527 172.417 0.00509433 29.6624 40.6968 52.1803 65.9242 85.1294 134.621 0.0467801 19.8023 36.0822 58.1186 88.9563 138.852 302.966 6.64796e-08 78.151 164.811 276.976 433.232 690.584 1585.06 8.28196e-09 87.1965 177.88 293.089 452.053 712.011 1609.13 0.09664 16.5965 39.5422 71.7958 117.657 192.802 445.23 2.91227e-13 131.739 263.6 430.011 659.694 1036.83 2350.36 0.00988047 26.4672 47.7611 76.4712 117.048 184.043 413.657 1.73579e-14 143.978 310.952 525.87 824.942 1318.17 3041.25 1.38533e-07 74.9623 150.197 245.707 377.4 592.534 1333.21 5.25395e-11 109.173 235.903 399.083 625.819 998.706 2294.83 0.00140012 35.0396 50.5442 67.9638 90.3325 124.56 230.698 0.0131004 25.4536 37.9913 53.5163 74.4341 107.44 212.477 0.00379473 30.9329 42.05 53.7988 68.1843 89.0105 146.952 0.00460122 30.1901 40.3163 50.8053 63.4538 81.4411 129.561 0.0184291 24.1317 34.5167 47.3288 64.5509 91.6183 176.698 0.00316815 31.8191 41.847 52.3765 65.381 84.6158 140.68 0.00383984 31.1111 40.1293 49.3763 60.6154 76.9743 123.166 0.0095989 28.379 33.292 37.3306 41.4139 46.1513 52.6993 0.000365592 40.7915 60.7907 84.135 115.06 164.148 326.61 0.0251687 23.0868 31.076 40.8963 54.096 74.8324 139.464\r\n",
      "dDocent_Contig_1448:8 0 54 194 0 75 198 0 0 0 0 0 0 0 15 112 0 3 37 0 93 199 0 6 67 0 87 199 0 18 119 0 39 187 0 12 104 0 0 0 0 0 0 0 3 37 0 6 62 0 0 0 0 6 62 0 39 186 0 0 0 0 57 159 0 45 186 0 6 57 0 21 148 0 3 37 0 9 92 0 3 36 0 113 185 0 63 196 0 14 165 0 66 197 0 6 53 50 0 61 45 0 153 8 0 97 19 0 113 0 6 57 0 24 158 28 0 152 0 21 144 0 3 155 0 27 169 0 3 32 26 0 108 0 15 116 0 9 84 0 252 220 0 211 219 0 77 178 0 9 92 0 21 153 0 57 193 0 62 176 0 6 67 0 0 0 0 36 177 24 0 81 35 0 122 0 30 175 27 0 142 0 18 141 18 0 148 0 23 169 0 21 142 82 0 162 49 0 158 0 9 84 11 0 154 0 24 154 0 66 197 0 3 37 0 33 175 0 196 216 0 30 174 0 129 203 0 24 162 0 255 255 0 255 235 0 27 162 0 36 184 0 12 109 0 0 0 0 102 200 0 3 37 0 0 0 0 9 92 0 42 189 0 72 197 0 30 175 0 102 200 0 15 129 0 57 195 0 12 104 0 0 0 0 3 37 0 141 205 0 9 92 0 6 57 0 6 54 0 6 67 0.0112166 25.9792 42.5789 66.7387 155.891 0.00590701 28.6896 51.5399 85.7407 212.839 0.042871 20.4697 30.9036 44.473 86.8122 8.99091e-06 56.8398 119.147 219.446 622.839 2.94244e-08 81.6908 177.821 334.981 977.835 0.0342394 21.2818 33.969 51.0892 106.317 0.0364661 21.2525 30.8586 43.3472 84.1938 7.4074e-05 47.6812 110.023 213.691 639.021 0 187.352 434.048 842.848 2532.84 0.0636767 18.8964 28.104 39.4163 70.5416 2.93439e-07 71.7027 154.359 288.844 836.009 0.0188798 23.7334 39.8248 62.6591 141.87 0.0212946 23.1921 40.1849 64.1225 144.693 0.0415845 20.229 43.665 74.4769 153.879 0.0922553 17.5325 25.2753 34.0248 53.5291 0.0129601 25.2915 46.4356 76.9801 182.591 0.0503634 19.6811 31.2825 46.3027 90.4773 5.49623e-10 98.9772 252.32 510.15 1575.24 0.0078674 27.4567 48.6065 79.9523 195.062 2.37526e-05 52.6207 110.67 203.438 572.141 4.92521e-11 109.454 249.877 479.768 1415.45 5.18471e-12 119.231 273.449 526.41 1558.28 0.138281 15.093 34.1393 64.7164 179.775 2.87998e-06 61.7839 130.887 242.597 693.935 3.74266 2.42437 22.7025 54.7356 154.484 0.0700427 18.3926 28.4298 40.7597 73.144 49.5175 4.88908e-05 70.8459 218.375 875.973 0.0360346 20.8918 39.2485 63.9183 136.586 0.511506 9.70552 23.9121 45.388 115.185 0.0371012 20.9044 34.2 52.068 108.224 0.0630325 18.9498 28.0809 39.2976 70.3011 2.06941e-06 63.2194 182.818 386.331 1224.18 0.0469775 19.7862 35.9819 57.2633 117.351 29.6079 1.29181 6.06566 20.5664 75.8338 0.00338963 31.0783 72.8545 134.002 327.014 0.00504655 29.3541 60.0962 105.317 262.548 0.0115979 25.7817 45.9306 75.283 179.476 5.25558e-14 139.156 334.838 660.489 2003.1 0.00254041 32.3327 64.5427 113.237 291.964 0 192.865 479.917 960.885 2953 0.0229688 22.7908 48.0708 82.6065 183.788 0.00523352 29.204 54.9601 93.4894 234.389 0.0352191 21.1493 34.0372 51.4061 106.946 1.24494e-06 65.4264 139.718 260.102 747.546 0.0228133 22.8817 40.5258 65.2413 146.733 0.00489422 29.4877 59.6354 104.169 260.646 0.00164006 34.2308 71.9343 128.764 334.17 1.19396e-07 75.6079 163.116 305.849 888.562 0.00111674 35.9009 69.2315 120.908 320.378 0.0228531 22.9807 36.7458 55.9353 122.131 2.32583e-05 52.7121 125.327 245.456 733.465 1.24253e-07 75.4348 163.159 306.167 889.241 0.006643 28.1762 51.8443 87.0511 215.4 0.00576969 28.7924 51.5015 85.5253 212.396 0.118148 17.5846 22.1165 26.08 31.0258 0.0229212 22.9672 36.7484 55.9585 122.182 0.0175482 23.9915 43.6118 71.5092 165.371 0.0504777 20.1011 27.9399 37.4853 66.2175 6.47218e-11 108.267 242.611 463.589 1371.5 0.023533 23.0263 33.8861 48.6198 100.537 0.0207139 23.6134 34.073 48.2429 99.2489 4.99141e-09 89.3956 195.405 369.276 1083.49 3.85731e-14 140.496 333.49 655.914 1994.68 0.00102543 36.2696 78.0248 147.758 437.475 0.0272948 22.34 33.7786 49.2973 102.382 0.0356633 21.3595 30.8702 43.2307 83.8903 0.0197578 23.83 34.1596 48.142 98.8276 0.0572745 20.2906 25.4226 30.7081 45.2201 0.000660701 38.1799 71.958 124.888 334.217 0.000694899 37.9607 71.9598 125.18 334.916 5.20869e-06 59.2106 119.318 216.69 615.865 0.00914203 26.7978 49.0452 81.7338 198.498 0.0135987 25.0791 46.7593 77.9348 184.274 0.439051 10.1779 37.8138 85.3134 272.869 0.0258092 22.3247 41.5475 68.1089 151.702 0.0246044 22.5407 41.0702 66.826 149.513 0.0702111 18.3798 28.441 40.7999 73.2192 0.0136228 25.0713 46.7728 77.9733 184.341 0.0568171 18.8763 43.5164 75.9498 148.864 5.86025 1.73584 11.6266 28.8302 85.7427 0.0192149 23.5872 44.3742 73.6339 169.043 0.0381215 20.7765 34.3067 52.4589 108.959 0.00357248 30.8499 156.607 384.316 1357.53 0.0104742 26.1833 61.1039 110.764 255.733 0.0159758 24.4094 43.1214 69.9372 162.526 3.50519e-10 100.931 240.382 465.198 1342.76 0.0138858 24.9611 58.1682 104.957 237.917 0.0012609 35.3733 69.6069 122.384 323.204 0.0242427 22.7116 36.8148 56.434 123.195 0.0104238 26.2523 45.6624 74.1042 177.162 2.67908e-05 52.098 107.331 195.868 550.867 5.46319e-09 89.0034 239.351 496.159 1569.48 0.000693514 37.9684 75.3565 133.548 357.991 2.24254e-09 92.8704 237.584 480.985 1485.95 0.00260658 32.225 60.4159 103.48 266.922 0.0526533 19.4617 31.4797 47.0026 91.7825 6.26813e-15 148.174 354.726 699.152 2124.31 0.0371115 20.9031 34.201 52.0718 108.231 0.0978538 16.5785 35.346 58.1832 102.283 0.000894485 36.8638 72.3263 127.389 339.508 0.0375003 20.854 34.2401 52.2181 108.507 0.139697 16.0787 22.5661 29.0046 37.1895 0.000781478 37.4491 102.057 204.56 576.489 0.0112763 25.9057 45.843 74.937 178.814 1.47849 6.74394 11.8819 19.2449 37.929 0.00469523 29.6776 54.592 92.0991 231.756 0.000399608 40.3643 72.6424 123.469 329.404 0 240.469 566.284 1112.08 Inf 0 242.567 569.732 1117.84 Inf 0.000155946 44.449 81.6821 140.841 382.254 0.000103332 46.2361 84.9593 146.642 399.335 0 242.004 557.328 1082.38 Inf 0.00119925 35.6103 58.7704 94.3874 238.484 0 172.858 387.946 745.166 2234.37 0 166.645 387.544 757.59 2306.03 0 162.245 361.78 692.945 2073.55 0.00500762 29.534 44.1104 65.3454 149.334 0.00833712 27.5119 38.5296 53.8086 113.254 0.0245673 22.6509 36.836 56.5582 123.452 0.00469888 29.6742 54.5939 92.1076 231.772 2.50725e-14 142.44 324.979 626.621 1871.13 0.00152649 34.5427 70.948 126.277 330.028 0.011212 25.9309 45.8268 74.8701 178.684 0.636752 8.67208 32.1533 65.7426 149.438 0.00211025 33.1395 63.5454 110.096 286.311 0.0483989 19.8768 31.1459 45.7602 89.4359 0.0253055 22.5156 36.8914 56.852 124.05 8.9721e-12 116.849 282.508 557.426 1684.93 0.00100484 36.3597 69.0706 119.968 318.435 0.00271384 32.0495 60.5144 103.916 267.78 3.21235e-10 101.31 258.447 522.447 1612.04 1.40818e-06 64.8913 184.566 389.054 1236.81 0.0428682 20.088 46.4406 81.7434 166.664 0.0210648 23.2409 40.1415 63.9679 144.404 0.0305541 21.6519 37.61 59.4869 129.007 0.0132716 25.1866 46.5856 77.4309 183.391 4.51701e-08 79.8293 280.463 631.283 2102.91 6.89313e-10 97.9937 234.144 460.672 1393.23 0.0114287 25.8465 45.8831 75.0986 179.125 0.0212427 23.1396 45.8401 77.3134 175.162 0.00652317 28.2426 56.765 98.5292 243.109 0.0077017 27.5501 48.5708 79.7549 194.657 0.000161858 44.4672 58.3129 73.6478 93.2462 123.479 261.368 1.47742e-05 54.6828 106.458 171.243 259.281 402.39 1128.46 0.000707543 38.773 46.1276 53.0612 60.7727 70.661 95.9774 0.000346635 41.2282 53.7242 67.0176 83.232 106.64 198.408 0.000285533 42.02 55.4715 69.9964 87.9442 114.299 222.196 8.43484e-10 97.1171 198.357 320.998 483.612 742.42 2032.37 0.000274927 42.08 58.7388 76.8756 99.0806 131.068 257.966 5.51478e-06 58.9637 94.6633 137.592 195.079 287.772 752.144 1.40273e-08 84.9081 157.901 247.693 369.302 567.581 1585.97 2.23013e-08 82.8946 146.725 226.037 334.931 515.391 1462.96 0.000614132 39.0491 48.2575 57.4025 67.9248 81.9565 124.748 2.64646e-09 92.1512 165.39 257.058 383.724 595.178 1718.59 0.00036517 41.1866 51.3592 61.9334 74.7842 93.4427 167.064 0.000160509 44.4263 60.6756 78.8214 101.89 136.999 293.188 1.11552e-07 75.9031 130.817 198.706 291.632 445.174 1247.14 0.00407601 30.5478 42.6012 57.8203 78.6951 112.757 280.809 2.36514e-09 92.6393 163.312 251.953 374.859 581.036 1685.58 0.000168197 44.29 58.3906 74.0072 93.9201 124.509 262.809 0.000273553 42.2277 55.239 69.2895 86.7229 112.516 219.795 0.000516077 39.6452 50.2291 61.058 73.8039 91.3168 150.825 0.000288208 42.1441 53.0422 64.5933 78.8922 100.173 189.549 0.000423953 40.717 49.4935 58.3477 68.9173 84.0055 140.774 1.96754e-07 73.4387 123.22 184.758 269.192 409.228 1144.76 6.58693e-05 48.2471 67.1422 88.9344 117.533 162.874 381.839 6.96258e-05 48.0333 65.2173 84.9377 110.857 152.169 353.739 0.000619832 39.6442 45.927 51.6638 58.0206 66.348 89.8221 7.76046e-05 47.5921 63.4462 81.5126 105.214 143.01 327.764 1.14527e-08 85.7888 147.571 224.8 331.728 510.942 1469.78 8.59756e-05 47.1875 61.729 78.1565 99.6502 133.934 301.853 0.000196715 43.8024 54.694 66.3944 81.1902 103.975 207.747\r\n",
      "dDocent_Contig_2012:5 0 9 81 48 0 27 0 0 0 0 24 161 0 0 149 19 0 151 31 0 129 0 12 110 0 9 89 0 9 91 0 12 97 0 39 183 0 20 166 0 39 179 0 63 194 0 36 183 0 6 66 0 27 164 0 0 0 9 0 136 0 24 155 0 33 154 0 54 187 0 54 193 0 57 188 0 15 162 0 57 187 0 39 159 0 15 136 36 3 0 0 12 97 0 36 180 46 27 24 0 0 0 0 6 58 0 24 156 15 0 118 0 15 127 0 0 0 0 3 36 0 3 32 0 24 157 12 0 133 0 0 0 0 60 195 0 18 135 0 21 131 0 6 62 0 6 57 0 51 193 0 75 190 0 32 147 0 9 79 0 21 149 0 66 190 0 48 186 0 12 110 0 30 171 0 6 58 0 9 80 0 60 191 0 3 32 0 3 32 0 45 185 0 9 84 0 3 32 0 24 161 30 33 59 35 0 156 0 33 165 0 72 196 0 105 194 38 0 146 112 0 153 157 0 143 154 0 156 149 0 104 0 60 171 0 138 204 0 21 132 0 51 190 0 72 196 0 15 117 0 105 192 0 87 192 0 27 145 0 45 166 0 15 111 0 24 143 0 33 175 0 39 180 0 42 175 0 75 193 0 27 169 0 21 151 3 0 136 0 33 171 0 60 189 0 18 140 0 42 188 0.00413763 30.2168 60.196 107.094 291.54 0.00390291 30.4683 63.1237 114.237 312.522 0.00844717 27.1233 54.277 96.2807 257.982 0.16533 14.6688 25.0909 38.9439 81.6726 0.154202 15.0027 25.0385 38.36 80.3762 0.002263 32.8332 69.0161 126.008 348.417 0.000237686 42.618 89.6064 165.029 468.926 0.0826643 17.4425 30.8418 49.8164 115.655 3.86468 2.37258 19.9136 51.6016 177.174 0.000234834 42.6704 92.5141 172.406 490.504 0.221095 13.6579 22.1827 32.9132 63.3357 0.01628 24.286 48.4572 85.331 223.907 0.00109826 35.9716 78.0322 144.63 404.226 0.105876 16.1838 52.123 110.228 317.85 0.0939711 16.863 30.9417 50.8484 117.929 0.020008 23.388 48.908 87.5931 228.448 0.0995058 16.6038 31.0453 51.4417 119.148 0.0669762 18.2024 37.5432 65.6434 159.691 0.011316 25.847 65.9225 132.559 401.466 0.252264 12.9794 22.432 34.4201 66.4675 0.290883 12.2363 23.1561 37.0988 71.5199 0.977138 7.05017 23.7311 50.3987 143.554 0.0560371 18.9912 36.8879 63.0635 154.761 0.163917 14.71 25.0815 38.8653 81.5027 0.0206934 23.2329 54.8022 102.492 262.633 1.60695 5.11286 29.357 72.3254 245.532 0.285663 12.3314 23.0248 36.6658 70.728 0.0736952 17.7792 38.2354 67.836 163.652 0.237715 12.7361 52.205 120.159 391.593 0.439625 10.1673 42.8367 99.9669 332.791 0.164028 14.7068 25.0822 38.8714 81.5159 2.79528 3.58582 14.4501 31.0359 77.9517 0.00243014 32.5231 73.2149 136.82 375.776 3.69321 2.45246 23.7452 61.0252 201.836 0.00932423 26.687 64.8255 123.726 323.29 0.00592923 28.6519 64.8003 120.607 324.603 2.04277e-05 53.2757 119.095 225.573 652.384 0.159217 14.5995 28.844 48.3915 106.594 0.0069418 27.9688 60.9619 111.953 301.685 0.00781067 27.4565 61.8019 114.615 306.495 0.146326 14.8496 34.0526 61.0538 136.657 1.63265e-05 54.2489 122.168 232.033 671.464 0.00132788 35.1474 74.9272 137.891 384.544 0.0121448 25.5514 51.3825 91.0539 241.506 1.29409e-05 55.2582 125.262 238.493 690.502 0.0133914 25.1201 55.7093 102.332 269.742 0.00449526 29.8532 67.7886 126.567 342.654 0.0147655 24.7113 48.4052 84.6223 222.318 0.000180889 43.8038 95.4735 178.389 508.66 6.77802e-11 108.067 248.206 479.524 1431.16 0.00613517 28.5054 60.4774 110.109 298.194 0.0108257 26.0391 65.8946 132.228 400.732 0.000149 44.6461 98.5501 185.04 528.183 5.53254e-05 48.9486 107.181 201.18 578.812 8.18473e-06 57.2478 124.853 234.802 682.478 6.20851e-09 88.448 201.191 386.605 1146.73 0.000914455 36.7668 81.284 151.743 424.526 5.35879e-05 49.0872 118.856 235.549 717.684 0.0267562 22.1183 57.1364 115.274 348.415 105.185 1.41284e-07 74.8809 249.739 1070.58 3.8353e-08 80.5398 178.158 338.549 999.758 40.0256 1.50133 5.40292 24.0207 119.086 3.47294 2.68662 19.2718 49.668 173.583 143.089 21.3369 2.18706 4.10841 75.7449 16.5632 0.138231 20.3323 63.2219 254.701 0.00030735 41.5018 86.6927 159.123 450.865 25.767 0.0115256 73.395 221.058 882.894 42.1726 0.024405 22.5625 78.8581 347.955 41.3855 0.00885927 27.066 90.7261 386.384 0.00583487 28.7266 57.2236 101.58 274.53 74.5359 0.85152 7.49583 43.3383 238.504 0.000204884 43.2629 95.6964 179.641 511.22 0.0605048 18.5922 51.9476 106.708 318.848 3.11058e-05 51.4494 116.564 221.517 638.017 0.0211665 23.1323 64.0845 131.318 392.522 0.000177696 43.8812 99.1675 187.499 532.891 0.0006187 38.4635 83.8864 156.139 439.57 1.05459 6.66386 49.7143 126.901 444.358 2.87288 3.15771 32.1295 81.8637 255.035 0.000757955 37.5819 84.7089 159.233 445.412 0.00412222 30.2295 67.087 124.403 338.771 0.00338004 31.0916 66.2702 121.348 333.011 0.192576 13.9329 25.4387 40.7513 85.3343 0.00171688 34.0314 82.4485 158.57 429.959 8.67445e-05 46.9955 104.479 196.915 564.258 0.00530532 29.1337 70.6982 135.339 358.845 6.08394e-06 58.536 141.216 274.74 785.553 0.00104228 36.1985 92.6071 186.309 564.535 0.0028544 31.8258 66.0409 119.814 329.79 0.000231782 42.7272 92.5032 172.302 490.279 9.66813e-05 46.5245 101.3 189.518 543.153 0.574653 9.07142 40.0357 94.3067 315.174 2.07056e-05 53.217 119.122 225.715 652.672 1.2384 6.19876 20.9087 44.3624 125.138 1.8934e-05 53.6054 118.981 224.859 650.901 0.0107082 26.0922 54.5843 98.4044 262.459 0.0608691 18.6254 37.1165 64.0863 156.771 0.00140722 34.8953 75.0201 138.449 385.698 0.000407971 40.2718 96.4123 185.28 514.291 0.0548523 19.0856 36.8452 62.8362 154.3 0.100379 16.5642 31.0651 51.5412 119.348 0.346098 11.9338 19.545 28.4909 48.3509 0.00301818 31.582 76.5728 146.954 394.401 0.266096 12.2894 33.9451 69.587 207.562 0.0308523 21.5336 42.6897 74.3809 189.736 0.0298563 21.6771 42.6384 74.0664 189.084 0.0858933 17.7551 25.8761 36.3757 73.9018 0.338589 14.4288 17.369 19.1921 20.6744 0.311259 15.2797 17.8909 19.1763 19.5192 0.328384 14.7328 17.5463 19.1648 20.2315 0.0697422 18.7151 26.4655 36.3608 72.6157 0.362237 13.7767 17.0296 19.3457 21.7588 0.299838 15.6744 18.1574 19.2273 19.0643 0.300153 15.6631 18.1496 19.2254 19.0766 0.309468 15.3398 17.9306 19.1819 19.4468 0.0302025 21.9392 32.8722 48.0947 107.29 0.091969 17.965 23.8601 30.6462 54.3665 0.287384 16.1376 18.4866 19.3272 18.5853 0.00164669 34.2133 71.9251 131.535 365.582 0.00679548 28.0592 71.8525 144.625 437.992 0.0702575 18.0594 33.858 56.6441 135.708 0.00315068 31.396 70.1135 130.496 357.068 0.0537833 19.1726 36.8109 62.6384 153.894 0.251104 12.5071 44.3487 95.7955 270.191 0.000146725 44.7129 98.5195 184.878 527.857 0.0280327 21.9165 57.1932 115.682 349.279 0.0678868 18.2124 33.8161 56.3369 135.055 0.0229592 22.7887 49.6454 90.1139 233.095 0.000502323 39.3684 83.6539 154.359 435.772 0.00238831 32.5991 69.0831 126.483 349.422 0.00717688 27.8241 61.1518 112.589 302.851 0.394004 11.1608 20.2603 31.1899 53.4702 0.102624 16.3166 67.5593 154.605 483.4 0.0525542 19.2006 51.4619 104.764 315.121 0.100337 16.4182 45.8845 94.2886 281.744 0.0848044 17.219 34.3773 58.983 140.311 6.5309 1.1653 18.8469 49.6475 157.049 18.3143 0.0899297 22.4021 68.1949 263.527 0.088618 16.9529 45.5447 92.7798 278.783 2.26113 4.12688 17.2048 37.3534 97.0526 0.0388438 20.5047 58.5661 120.783 358.895 0.138702 15.0414 39.5879 80.2414 241.207 0.000756579 37.5901 78.147 128.591 197.82 312.143 839.798 0.0653278 18.2843 40.7086 68.4596 104.99 161.165 386.981 0.0019497 33.4803 69.3994 113.899 174.747 274.779 732.649 0.0136664 25.0285 66.4811 120.225 195.009 319 890.128 0.016822 24.1381 50.2648 82.2745 125.384 194.776 500.016 74.005 2.7731 3.47684 16.432 39.2419 77.0602 219.633 19.4614 0.0522503 31.9483 79.7038 149.327 266.867 810.103 0.163916 14.4455 29.6153 47.6309 70.9429 106.369 244.445 0.284892 12.1095 27.1221 45.4555 68.7127 102.165 216.438 42.3127 1.53353 5.55224 17.2688 36.6485 70.3325 218.377 3.33982 2.72171 26.6171 59.7808 106.963 185.687 544.992 0.00423567 30.1133 62.4114 102.282 156.576 245.351 647.593 0.334958 11.2953 48.0422 97.6564 168.077 286.562 840.994 0.0199661 23.3983 48.5114 79.2099 120.496 186.86 477.946 0.103999 16.3558 32.8931 52.5748 78.3904 118.571 283.491 2.09008e-05 53.1762 111.471 184.667 285.93 454.759 1247.8 0.00376025 30.6316 60.9182 98.0843 148.852 232.553 618.154 0.00692251 27.9839 57.1812 93.0385 141.765 221.331 580.957 0.0111504 25.9177 53.7092 87.8233 133.96 208.696 541.434 0.00133794 35.1146 74.6983 124.013 191.389 301.738 803.497 0.278634 12.0869 35.2797 65.4211 107.378 176.811 493.069 0.0814873 17.4322 32.8589 50.9729 74.9 112.875 275.224 0.517731 10.4032 17.5294 25.0095 33.9326 46.2835 83.1412 0.0508574 19.3993 38.0186 60.2729 89.9249 137.3 342.506 0.0774561 17.6558 32.9055 50.7726 74.3976 112.009 273.914 0.0603379 18.7111 34.7174 53.5355 78.5425 118.651 294.062 110.664 6.99815 1.44742 10.791 33.2661 79.2546 317.646 0.261042 13.0611 21.1106 29.6681 40.3449 56.4719 118.848 0.00729511 27.7614 54.043 86.0417 129.598 201.247 530.249 0.0691416 18.1557 33.0573 50.4392 73.4645 110.341 271.326\r\n",
      "dDocent_Contig_2169:59 15 0 99 0 0 0 0 0 0 19 0 19 0 6 45 0 0 0 0 3 33 0 9 62 0 12 75 0 0 0 0 3 25 0 9 62 10 0 62 0 21 123 45 6 0 25 3 0 0 6 57 0 21 122 0 12 97 0 9 62 19 0 71 0 9 84 0 3 25 0 0 0 0 18 94 0 0 0 37 0 102 0 18 94 0 6 45 0 6 57 45 0 34 0 0 0 0 9 62 0 12 87 0 15 93 0 6 45 13 0 63 31 3 0 0 15 98 0 15 108 0 15 98 0 33 138 0 0 0 0 9 62 0 3 25 16 22 57 0 42 150 0 27 123 0 12 87 0 6 57 0 18 104 0 8 95 0 12 87 0 12 97 31 0 19 0 45 145 0 24 119 0 3 37 0 9 62 4 0 77 0 15 108 0 9 62 0 9 74 14 0 110 28 0 44 0 9 62 0 3 32 0 24 107 0 3 37 0 18 106 0 0 0 31 0 91 0 15 113 22 0 97 0 30 136 0 27 123 0 33 138 0 27 141 0 6 45 0 15 108 0 3 25 0 0 0 0 6 45 0 17 111 0 12 97 0 9 62 0 30 136 0 6 45 9 0 85 55 0 58 0 12 75 0 12 75 0 0 0 0 0 0 0 0 0 7 0 71 13 0 51 0 12 75 0 0 0 37 3 0 0.547619 10.5448 16.1088 22.5074 38.347 0.64437 9.64995 16.0034 23.6431 41.2868 0.430071 10.9893 18.7529 28.7789 57.0211 0.942955 7.21777 22.686 48.5773 143.767 0.391948 10.6807 30.948 64.8841 193.118 5.61493 3.2916 6.8824 12.9441 29.5412 0.142108 15.1764 27.4545 45.0652 105.623 0.0704718 18.0021 35.95 62.9777 158.588 0.0289657 21.7848 47.5995 87.6286 230.433 0.963303 8.69985 13.3948 18.261 24.7592 0.0992295 16.5583 33.0179 57.5383 142.384 12.8736 1.76496 5.90407 15.9255 53.7545 0.513964 10.106 18.829 30.3392 60.6095 7.79501 1.85416 7.84282 17.8544 32.0387 49.5249 12.1162 5.60439 3.91648 5.89095 0.0311312 21.4718 47.6897 88.3398 231.95 0.366727 11.3216 21.5856 35.6889 76.8705 0.0590124 18.7181 42.029 77.7687 199.884 0.0248624 22.4482 47.5553 86.4937 227.831 0.0877999 17.0424 35.9447 64.4499 162.087 0.252658 12.4861 39.8746 85.4515 251.527 0.0798402 17.4244 39.1839 72.3189 183.494 0.469656 9.92654 31.0017 66.1885 196.14 0.0576822 18.8397 38.8153 69.1915 176.758 1.90289 4.57352 22.283 51.7932 144.112 0.706588 9.13408 16.0876 24.6529 43.5473 0.187586 13.7449 42.6723 90.8351 267.827 0.114351 15.8894 36.5796 67.8847 169.093 0.590762 9.40773 19.2104 32.3923 64.809 0.113675 15.9627 33.0302 58.4901 144.618 1.57108 5.44462 17.4672 37.6121 110.235 0.00697772 27.9449 65.7643 125.655 339.476 0.460614 10.2471 22.1952 38.9215 83.4636 0.0156857 24.4331 56.8622 107.769 287.293 3.81186 2.34526 28.1589 74.5339 235.263 25.7408 1.59315 5.41531 17.69 59.4025 30.2463 5.04269 3.35298 6.63533 21.6412 1.22472 6.17963 23.2699 51.6668 150.138 0.557373 9.2186 31.3507 68.1699 200.231 0.478346 9.8318 34.6184 75.7988 221.015 0.0182837 23.7681 57.7456 111.315 294.261 0.0906509 16.9029 35.9753 64.742 162.723 0.667982 9.4493 16.0207 23.9975 42.1038 0.0772156 17.6032 35.9079 63.4915 159.886 0.402027 10.8894 21.7263 36.7113 79.0453 0.0853902 17.1319 39.4263 73.4135 185.661 0.155264 14.5963 33.8159 62.6601 153.109 0.125625 15.6004 30.1529 51.5125 124.666 0.659258 9.52271 16.0123 23.8627 41.7965 0.0128474 25.3028 53.447 97.4953 260.501 1.40499 5.73506 20.282 44.5356 130.098 0.528903 9.46439 28.1412 59.4107 176.654 4.54778 2.99723 8.76 18.3873 47.2008 5.53794 3.40705 6.81872 12.6026 28.8141 0.267937 12.7859 21.7049 33.7063 71.9004 0.5051 9.6552 28.1506 59.1365 175.975 6.00223 2.68973 7.4338 15.2726 34.2158 16.6074 4.33459 4.06873 6.83139 19.8754 0.18532 13.9944 27.2391 46.3713 109.148 0.0930327 16.9237 30.5633 50.4606 121.36 0.00625283 28.4261 57.0989 102.087 273.292 0.275209 12.1475 33.8319 70.161 208.982 0.0245568 22.5019 47.5589 86.4195 227.648 0.283388 13.0129 19.4525 27.3309 52.1262 0.0459462 19.8305 39.0121 68.1395 173.887 0.52378 10.7861 16.1775 22.2983 37.7048 0.0104359 26.211 51.3761 90.5067 238.915 0.411802 12.0659 16.7388 21.6659 35.0171 0.449107 10.144 28.2314 58.5719 174.454 0.210651 13.5988 24.4665 39.7023 89.7323 0.0595751 18.7928 33.7972 55.9714 137.121 0.519704 10.0505 18.8466 30.469 60.8867 0.923634 7.23633 25.8175 56.7261 166.018 0.307639 11.8794 24.6093 42.7302 96.6819 0.450579 10.3513 22.0917 38.4865 82.6114 0.792907 8.48019 16.4319 26.5397 47.4225 0.0877172 17.0465 35.944 64.4416 162.069 0.781415 8.56355 16.3687 26.2482 46.8412 0.18293 13.8784 35.1559 67.8746 163.586 0.446277 10.3967 22.0504 38.3081 82.2602 1.12925 7.41365 13.9621 21.6983 31.9348 1.02459 8.19469 13.4868 19.2737 27.0115 0.0170333 24.0784 53.4686 99.4435 265.07 0.731511 8.32364 21.0807 39.5788 79.0745 0.514249 10.1032 18.8299 30.3455 60.6231 0.182929 13.8784 35.1558 67.8743 163.586 6.5826 1.71099 9.91992 23.8699 50.9019 5.85347 2.92533 7.16754 14.2329 32.1753 0.238223 13.0418 24.3834 40.3626 91.4666 0.244606 12.9218 24.3785 40.5365 91.89 3.28922 3.62665 10.4223 21.8567 60.5016 0.0645603 18.3492 38.8312 69.9891 178.616 0.70236 9.16786 16.0778 24.5762 43.382 0.726245 8.16423 28.5963 62.5777 183.403 0.330336 11.3774 33.7683 71.2005 211.589 0.119961 15.7267 33.0764 58.9704 145.671 0.0403007 20.3607 44.7403 82.3396 214.44 0.0855854 17.1539 35.927 64.2333 161.607 1.26332 6.53352 15.4699 27.3959 43.0984 0.14914 14.8435 30.1344 52.6386 127.374 0.701633 9.17369 16.0762 24.5631 43.3537 0.0158809 24.3825 53.4087 98.8237 263.715 1.56364 5.23676 25.3741 59.2325 164.966 5.72007 3.13183 6.99003 13.4646 30.623 7.53623 3.68529 5.88427 9.58384 15.5919 0.257961 12.6806 24.3852 40.9266 92.8062 0.0373922 20.7676 37.1592 61.6313 152.969 0.0206237 23.2901 43.0543 73.1521 186.847 0.39023 10.8612 24.0893 46.287 135.149 0.0191798 23.6058 43.2608 73.1655 186.45 4.47148 2.47979 11.1595 28.8084 105.205 0.0103212 26.259 51.4034 90.4983 238.84 0.0272275 22.1505 38.1116 61.8094 151.39 0.604452 12.9507 15.2824 16.2332 15.8838 14.3685 1.19518 7.0134 22.9266 98.0266 0.0247926 22.5587 38.4192 61.9296 151.018 7.13738 8.30038 7.77265 6.99106 5.34849 0.264881 14.3224 18.2387 21.8111 32.1165 0.451404 10.7504 18.7408 29.1204 57.8622 0.143806 15.0042 30.1206 52.3557 126.729 0.0845745 17.1511 48.1459 99.9276 296.708 0.618589 8.77081 43.8166 105.191 338.056 0.00867939 26.9999 59.2353 110.032 297 0.554463 9.36727 23.8284 45.1705 95.9093 7.54417 3.62065 5.89876 9.72014 15.891 5.69475 3.17053 6.96174 13.333 30.3522 2.05164 4.62883 15.0188 32.4303 93.9632 6.52007 1.1935 17.5872 47.8246 157.201 0.0404064 20.3649 41.761 74.5397 192.727 0.485766 10.3869 18.7662 29.7473 59.3134 0.0112601 25.8699 59.6091 112.733 302.711 1.61218 5.09197 32.9666 82.4056 269.592 7.2988 0.949529 19.9468 54.9453 170.701 0.373378 11.2372 21.6046 35.867 77.2594 0.0758549 17.6178 51.1884 107.156 316.949 0.0983668 16.5463 36.1018 65.6132 164.555 0.0404752 20.3326 48.6524 92.7024 240.624 0.0396677 20.4294 44.7196 82.181 214.102 5.74441 3.09448 7.01875 13.5951 30.89 0.158216 14.5138 33.9198 63.075 153.918 0.627071 9.10662 19.5161 33.6651 67.2999 6.25914 1.4105 13.924 37.9396 131.67 2.4947 6.07295 9.3978 13.0231 17.2644 22.5924 30.1706 20.621 0.263342 13.028 34.3071 65.9318 118.476 381.773 38.0277 7.86055 5.31579 5.60216 7.57797 11.2579 17.6121 2.20922 5.63024 10.2439 15.9613 23.1663 33.0124 59.2821 1.7042 4.91487 26.8163 56.8591 99.4725 170.6 548.398 0.815385 7.92009 20.1948 37.3793 61.0557 97.1763 247.566 6.7453 1.26793 13.8671 32.452 59.0049 102.246 314.365 0.508631 9.80865 22.3135 38.4464 60.3121 94.7513 256.291 0.889767 7.66133 18.7025 33.7393 54.1936 85.3543 216.493 6.23272 1.43319 13.7381 31.4945 56.8402 98.56 308.869 2.14734 5.77015 10.308 15.8223 22.736 32.2135 58.037 77.2346 4.38498 2.66944 10.338 26.3332 57.1347 229.357 9.19827 1.38263 8.53679 19.2172 34.5915 59.9076 184.393 2.19393 5.66445 10.2592 15.9255 23.0572 32.8106 58.9685 0.223415 13.102 29.292 49.9167 78.0786 123.511 351.127 12.6309 2.48194 5.54426 10.6659 18.2082 30.5563 86.5032 0.255854 12.658 25.373 40.7753 61.5515 95.3134 269.087 0.156964 14.5868 31.4735 52.6343 81.5307 128.642 371.458 2.7039 5.56625 9.12935 13.3746 18.5034 24.9668 33.9522 15.1202 2.5452 5.1617 10.3828 18.1026 29.9624 72.2375 14.443 2.86569 5.14158 9.47035 15.9119 26.1407 66.4046 2.43778 6.22023 9.48452 12.9557 16.9762 22.0175 29.2308 0.477904 10.1589 21.2641 34.9884 53.4312 82.7808 224.963 0.225599 13.0953 28.0475 46.7108 72.096 113.252 322.481 0.0944103 16.7342 35.3631 58.5325 90.2393 142.395 417.638 3.88479 2.46831 16.1253 34.8694 61.5604 106.448 346.856 0.181172 14.035 28.7099 46.6721 71.0502 110.889 318.417 4.6563 2.11589 13.735 29.7261 52.5354 90.97 297.112 20.8352 0.751329 8.43638 21.4276 41.2314 75.7121 264.254 4.25389 2.2793 14.9149 32.2761 57.0174 98.6682 321.932\r\n",
      "dDocent_Contig_2541:34 0 9 92 0 0 0 0 6 67 0 6 62 0 66 196 0 21 149 0 12 113 0 12 113 0 3 36 0 12 106 0 0 0 114 0 137 0 3 37 0 0 0 0 45 189 0 42 188 0 3 37 0 3 37 0 24 159 0 0 0 0 0 0 0 0 0 0 12 111 0 39 186 0 12 113 0 21 153 0 3 36 0 6 67 0 3 37 0 3 37 0 6 67 0 9 84 0 0 0 0 9 92 0 0 0 0 3 37 0 18 141 0 15 129 0 3 36 0 9 92 0 12 113 0 0 0 0 18 142 0 0 0 12 0 134 0 12 113 0 9 92 0 0 0 0 0 0 0 42 188 0 3 37 0 3 25 0 0 0 0 0 0 0 3 37 0 3 37 0 15 129 0 66 196 0 9 92 0 6 67 0 21 154 0 0 0 0 0 0 0 21 152 0 6 66 0 0 0 0 6 67 0 18 140 0 42 188 0 0 0 0 12 111 0 3 36 0 0 0 0 0 0 0 3 37 0 3 37 0 9 89 0 0 0 0 51 193 0 0 0 86 0 132 0 0 0 0 12 113 0 9 92 0 6 57 0 0 0 0 0 0 0 12 113 0 0 0 0 0 0 0 0 0 0 0 0 22 0 99 0 0 0 0 6 67 0 9 92 0 3 36 0 0 0 0 3 36 0 9 92 0.0035288 30.9221 54.5575 90.7305 247.938 0.00105972 36.1284 69.5239 121.721 349.992 0.00130771 35.2166 66.4611 115.207 328.958 0.0139665 25.0045 42.8724 68.8494 172.726 0.0173329 24.1141 39.8026 62.2938 151.607 0.00253529 32.3452 60.6685 104.255 291.226 0.0744902 18.8038 24.998 31.7911 50.4371 0.059171 19.28 27.9752 38.696 72.5681 0.0386728 20.7067 34.4153 52.8962 116.839 0.000456631 39.783 78.4353 139.473 409.338 0.0242697 22.7033 36.896 56.7648 132.636 0.00594209 28.6626 51.7723 86.5716 232.018 0.000391343 40.4528 81.7654 146.862 431.963 0.00137555 34.9939 79.2549 145.327 399.771 0.0145501 24.8228 42.9613 69.2742 173.574 0.0758014 17.9738 28.8661 42.2764 79.467 0.0372511 20.8831 34.262 52.3443 115.806 0.0329163 21.3077 38.2425 61.4114 141.239 0.0249916 22.5696 36.946 57.0453 133.213 0.0157745 24.4638 43.2141 70.2739 175.49 0.0813798 17.5921 29.5241 44.1536 82.7397 0.0449407 19.9963 35.4741 56.0419 122.399 0.0207107 23.3149 40.1889 64.1522 155.325 0.0103616 26.2768 45.8158 74.6383 192.25 0.000185557 43.6932 99.2268 184.644 534.675 0.0982594 17.1596 25.4972 35.0022 57.1953 0.0326606 21.3435 38.1734 61.2199 140.908 0.0360433 20.8896 39.3233 64.2299 145.994 0.0105976 26.148 50.2254 85.3306 220.768 0.0153881 24.574 43.1242 69.9413 174.863 0.0633631 18.9228 28.0852 39.3968 74.0388 0.11855 15.9947 27.6925 41.1353 67.8168 0.0111888 25.9096 50.8173 86.8851 223.397 0.0353313 20.9816 39.0322 63.4959 144.772 0.0322969 21.3091 49.4354 87.8626 195.68 5.95349 1.2744 33.8319 91.9513 350.292 0.000284667 41.8348 84.6067 152.295 450.828 0.0104677 26.2022 50.1137 85.0256 220.245 0.0245087 22.5566 41.1533 67.162 160.728 1.80192 5.06605 15.6502 30.3696 69.7425 0.171942 14.3167 27.5874 42.0147 59.1216 0.012198 25.5575 46.3027 76.6005 196.028 0.00261423 32.2118 60.7358 104.571 291.854 0.0637335 18.8923 28.0982 39.4642 74.1756 0.00408659 30.273 58.3946 100.913 276.299 0.08611 17.2861 30.3253 46.2379 86.2541 0.0492439 19.5613 36.7611 59.3226 127.887 0.05934 19.2652 27.9784 38.7222 72.6249 0.00361233 30.802 73.5879 144.738 468.895 0.0587991 19.3128 27.9686 38.639 72.444 0.0727018 18.1967 28.5964 41.4204 77.9214 0.0239775 22.7585 36.8785 56.6554 132.408 4.1663 2.24887 16.7812 43.1677 159.585 0.00761133 27.6003 48.7433 80.327 211.565 0.0198718 23.6121 36.7937 55.3536 129.446 0.0841525 18.0906 25.0323 32.8039 52.8069 0.100255 16.4292 41.8938 82.9925 257.504 0.143194 14.9747 32.0375 60.3841 188.328 0.134801 16.4425 22.2639 27.8858 35.0585 0.0127874 25.4731 39.8586 60.6227 147.477 0.0409407 21.1554 28.2201 36.7427 67.368 0.0160285 24.4644 39.7512 61.7247 150.341 0.0629406 18.9579 28.0711 39.3211 73.8843 0.0145922 25.0057 37.1559 54.2854 126.141 0.902125 8.14096 14.995 26.0554 71.3546 0.00187987 33.6464 60.5077 102.206 286.619 0.0586353 20.1567 25.3612 30.7769 47.2524 0.0141381 25.1477 37.2163 54.2271 125.876 0.00474524 29.6453 51.5927 84.9024 228.36 0.011855 25.7313 42.709 67.5508 169.926 0.0403167 21.232 28.2496 36.7045 67.2152 0.00681874 28.061 52.1852 88.2241 235.194 0.108327 16.5593 26.2571 37.3787 61.4673 0.0567579 19.0897 31.9514 48.5636 99.911 0.00464652 29.7135 59.4123 103.776 281.262 0.000342471 41.0319 85.61 155.444 456.49 0.142393 15.9568 22.5882 29.2028 37.6013 0.000786633 37.421 76.5536 137.331 396.549 0.13344 15.2405 34.7157 58.5455 97.2149 0.00195898 33.46 68.1875 121.122 339.887 0.00346178 30.9898 62.2696 109.38 300.502 0.0381884 20.7661 34.3601 52.7029 116.48 0.145816 15.7477 22.7991 29.9182 38.9192 0.0797909 17.3987 56.4461 116.497 333.713 0.000221846 42.9176 87.6961 158.638 471.406 0.0756327 17.6506 40.5855 70.2529 136.58 0.000343375 41.0203 96.8288 181.965 511.051 0.0012349 35.4637 69.96 123.505 353.438 13.0224 0.388937 14.466 43.731 185.035 0.000144662 44.7745 90.2684 162.885 487.942 0.0878501 17.835 25.1017 33.2861 53.8312 0.140798 16.0563 22.5047 28.8975 37.0274 0.000173344 43.9888 106.437 210.473 687.707 0.024522 22.5542 41.158 67.175 160.751 0.0191406 23.6691 39.9622 63.2132 153.505 0.0722685 18.2285 28.5633 41.3093 77.7176 0.0126116 25.4104 46.466 77.1345 197 0.140732 16.0604 22.5015 28.8853 37.0041 0.0237186 22.6467 50.0754 87.5903 204.465 0.139719 16.1243 22.4532 28.7003 36.6521 0.0155644 24.5234 43.164 70.091 175.147 0.0971926 17.2261 25.4412 34.7977 56.8109 0.100447 16.4414 37.6459 64.3932 116.889 0.0268463 22.2426 37.1197 57.8384 134.783 0.0365076 20.9779 34.1921 52.0737 115.29 0.0663345 18.6821 28.205 39.9643 75.1713 0.0963326 19.5821 22.7282 24.7402 26.5087 0.0339338 22.0839 28.6447 36.4267 65.7226 0.0877204 20.5424 23.2798 24.6636 25.1517 0.0925451 19.9866 22.947 24.6773 25.8948 0.0877119 20.5434 23.2804 24.6637 25.1504 0.0388367 21.418 28.3257 36.6214 66.8579 0.0405724 22.1332 26.4597 30.5391 44.3472 0.0845894 20.9317 23.5319 24.6979 24.6909 0.0432875 21.7936 26.2386 30.5064 44.7455 0.0814718 21.3459 23.815 24.7692 24.2476 0.00673224 28.3167 41.2786 59.9301 142.826 0.0370592 22.603 26.7824 30.6235 43.8493 0.0626151 18.985 28.0607 39.2636 73.7662 0.0354517 21.1157 34.1043 51.7091 114.583 0.0930131 17.4924 25.2577 34.0638 55.3991 0.0145656 24.7745 47.5988 80.3383 202.567 0.00472478 29.6494 54.8664 93.0511 252.91 0.0756326 17.6506 40.5852 70.252 136.578 0.00117491 35.6801 69.7763 122.837 352.186 0.00199429 33.385 63.7339 110.605 311.863 0.0642414 18.8507 28.1168 39.558 74.3651 0.014727 24.7258 47.7268 80.671 203.127 1.97604 6.08647 10.1887 16.3323 35.2371 0.00120766 35.559 85.5407 168.708 548.606 0.0252884 22.4153 41.4471 67.9625 162.101 0.0807025 17.6372 29.4301 43.8975 82.3006 0.0756326 17.6506 40.5852 70.252 136.578 0.0016024 34.3333 66.9028 117.291 333.11 0.017103 24.1042 43.6025 71.5567 177.833 0.0568279 19.0836 31.9608 48.5912 99.9597 0.0164917 24.2257 49.7315 85.5855 211.227 0.0124234 25.4767 46.389 76.8866 196.551 0.00272534 32.0307 60.8487 105.044 292.775 0.0119706 25.6129 51.8824 89.5266 227.769 0.0036529 30.7559 62.9154 111.044 303.297 0.0101905 26.3502 45.7882 74.4842 191.933 19.3243 0.749398 8.57459 21.055 39.4751 70.4322 232.118 0.457154 10.2776 22.3037 36.6117 54.2416 78.5087 162.7 22.4514 1.3282 6.42588 15.4105 28.8688 51.2488 161.699 8.34384 0.708046 23.9688 56.4279 102.66 180.016 601.995 0.447949 10.6643 19.5947 29.4503 41.4722 58.4034 120.564 0.502753 9.79819 23.4913 40.9188 62.7601 92.1177 182.138 0.199791 13.6112 28.5415 46.319 69.1117 103.191 253.956 0.326772 11.7129 23.1558 36.3304 52.8376 76.8324 174.672 0.676501 8.812 19.1909 31.487 46.2149 65.2223 115.742 0.374877 11.2644 21.3135 32.6294 46.6575 66.853 146.556 2.94143 3.23658 17.6513 36.6161 62.7311 104.972 320.719 0.185736 14.0439 26.2694 40.3031 58.3688 86.0867 215.837 0.484786 10.6736 17.8016 25.2445 34.1201 46.4612 89.5432 0.0129692 25.2635 52.4723 85.8562 130.979 204.212 593.222 0.855305 8.69417 14.7434 20.8908 27.6944 35.745 46.3087 0.0834738 17.3693 31.5791 48.0815 69.8621 104.67 283.867 0.69471 10.333 14.7298 18.5823 22.614 27.3912 34.067 0.32016 12.0366 21.1421 31.1359 43.585 61.9573 139.567 0.238142 13.0347 24.5973 37.8104 54.6331 79.9657 193.179 0.0271836 22.0681 45.486 73.9972 112.247 173.737 494.06 0.0379153 20.6572 40.172 63.5492 94.8735 145.499 411.928 0.367687 11.6711 19.4772 27.7662 37.909 52.6499 112.261 0.32113 12.0219 21.1424 31.157 43.6312 62.033 139.678 0.319145 12.0521 21.1419 31.114 43.537 61.8785 139.452 0.44117 11.1829 17.8434 24.6407 32.7327 44.1396 86.0976 0.419841 11.4478 17.9005 24.4115 32.1519 43.1311 84.5586 0.176041 14.4276 24.6938 36.1109 50.7609 73.5191 183.661 0.388916 11.853 18.0255 24.1502 31.4112 41.7968 82.467 0.387416 11.8734 18.0328 24.1395 31.3782 41.7356 82.3694 0.51918 10.9797 16.32 21.3854 27.1275 34.8283 58.6553\r\n",
      "dDocent_Contig_2679:47 18 0 136 0 2 109 7 0 71 0 0 0 0 14 123 0 30 126 0 21 101 0 9 62 0 9 62 17 0 107 0 9 62 0 42 144 0 51 126 40 0 109 14 0 132 0 51 178 0 12 75 32 0 101 0 45 133 0 30 126 0 14 113 29 0 60 19 0 19 25 0 111 0 18 94 8 0 120 34 0 131 0 18 106 0 18 116 0 18 125 0 21 113 16 0 37 46 0 58 0 48 159 38 0 97 39 0 112 0 5 103 0 30 126 0 4 120 24 0 127 0 2 87 16 0 59 0 15 98 17 0 116 0 14 149 0 18 94 0 21 139 1 0 104 22 0 74 0 54 151 0 11 120 0 26 137 31 0 49 0 6 45 0 48 152 0 30 136 0 27 123 0 2 117 0 21 123 13 0 93 0 8 95 0 5 103 26 0 106 0 24 116 0 3 25 0 27 141 45 0 107 7 0 71 0 36 149 11 0 109 0 38 120 0 2 99 1 0 112 0 9 62 0 2 122 4 0 89 0 29 144 0 26 107 31 0 135 0 4 125 0 35 151 0 22 95 0 36 130 0 99 155 0 51 126 8 0 106 0 41 130 0 8 117 0 14 123 45 0 97 0 9 74 7 0 130 0 12 87 1 0 99 19 0 19 7 0 83 0 12 75 0 24 119 0 21 113 0 0 0 0.305553 12.8905 18.7496 25.1828 37.6552 0.791154 8.31326 17.3637 31.3622 67.3824 7.36262 4.05596 5.26914 9.2986 20.6081 0.0602088 18.7064 35.2765 58.8007 118.932 0.453303 10.0922 29.1576 61.9995 157.173 1.80916 4.67789 39.0343 104.27 303.435 0.0351633 21.0188 38.1095 62.6908 128.254 0.239486 13.4018 21.4238 31.2468 52.4411 3.84356 3.0802 10.3965 23.9825 60.3805 0.0458307 19.8544 38.0646 64.2317 132.018 0.102009 16.551 29.6976 47.7366 92.2907 0.361992 11.9034 18.7861 26.6639 41.1433 0.0290387 21.7626 75.6742 169.693 447.519 0.0117292 25.6923 61.0829 113.971 245.375 0.0361891 20.853 40.8917 69.9615 145.743 0.989169 6.98597 24.5436 54.527 137.51 0.0222731 22.9299 46.5662 81.3557 173.004 0.153502 14.6179 37.0673 72.1724 165.023 4.52526 3.23814 8.06031 17.8347 45.0754 0.0393222 20.4893 41.0291 70.7833 147.441 4.20787 2.18722 17.9198 47.3538 130.453 0.103571 16.2793 49.2879 103.988 256.963 3.00378 3.5798 12.279 28.158 71.7688 0.593234 9.30427 19.9639 36.5627 80.1815 0.019869 23.4089 55.1979 102.239 217.613 0.0894823 17.0226 32.6717 54.5385 108.287 4.10613 2.73929 11.1404 26.1938 64.3863 0.826489 7.79125 21.5841 42.455 91.3226 0.156089 14.5457 37.1602 72.4894 165.608 0.16691 14.286 33.6672 64.1959 147.017 0.104673 16.434 29.7151 47.9409 92.7449 0.493563 9.77175 26.9333 53.2141 117.532 0.126065 15.449 40.2845 79.0503 180.763 0.216216 13.1663 34.8031 68.3953 154.938 3.47479 2.60954 26.2332 68.2128 175.73 0.100793 16.4024 43.4307 85.6086 195.882 0.097206 16.5731 39.1968 74.9595 173.022 0.432344 10.2368 42.0881 97.5648 256.722 0.104565 16.3242 33.2314 56.8008 112.638 7.8727 0.784202 26.9865 78.2625 229.411 1.17636 6.40957 20.6376 41.9294 86.8186 0.102914 16.3261 39.3265 75.601 174.308 0.0700759 17.9748 41.8862 79.8094 184.906 0.140585 15.2604 26.9563 42.6149 79.8642 0.415009 10.5313 25.7845 49.4599 110.662 0.150265 14.7861 31.0566 53.3549 103.171 0.920603 7.22184 28.4596 63.8798 157.85 0.0730113 17.9324 32.4565 52.7713 104.482 2.05681 4.2455 29.9343 78.5603 225.673 0.747545 8.12472 23.8517 51.3248 131.071 0.734044 8.13952 26.9292 59.0032 148.958 0.248925 12.6669 27.9997 52.1843 118.31 0.0378234 20.6202 56.9182 117.337 290.568 0.136857 15.3853 26.935 42.3909 79.3697 0.0903634 16.9127 36.3085 67.2049 154.581 0.13762 15.1226 33.4809 62.595 143.546 0.0755467 17.7007 35.7762 61.3498 124.068 0.264489 12.5093 25.3142 45.5883 102.25 0.0517551 19.2768 44.6355 84.936 197.34 0.437997 10.2806 26.6005 55.1986 140.35 0.118069 16.3756 24.6054 34.9704 60.6086 0.00168529 34.1121 78.1564 148.782 351.16 0.0332136 21.1825 56.7561 116.18 288.12 0.0343776 21.1807 35.8044 56.4956 112.366 0.0235381 22.6795 50.2291 94.279 219.861 0.150006 14.7993 30.8113 56.2674 128.092 0.125017 15.4958 37.8359 76.19 190.616 0.110364 16.135 31.3122 55.5038 125.235 2.98692 3.26484 15.903 41.0822 118.693 6.47908e-06 58.2627 127.595 236.44 546.631 12.8598 2.24289 4.82578 16.4924 60.1703 0.333404 11.3329 34.8937 74.6931 187.355 0.0577057 18.7956 54.6056 113.941 281.442 3.91786 2.26347 33.2365 92.6347 271.472 0.139 15.02 46.6835 99.1428 244.945 0.0102666 26.2693 64.9058 126.146 295.164 0.0516593 19.3277 38.2397 65.368 134.394 0.287251 11.9487 38.0447 81.6969 203.494 0.00103971 36.2092 102.993 212.034 511.271 0.00361297 30.8011 76.3169 148.561 348.703 2.33132 3.81639 40.4927 108.88 311.946 0.131194 15.297 36.4903 69.8957 160.666 0.0157584 24.4122 58.8825 113.64 265.897 0.0310198 21.4776 60.0663 120.994 276.597 0.0302086 21.6176 43.8399 76.2942 160.677 1.06447 6.64284 31.2622 72.2455 173.318 0.0469594 19.6906 47.9233 89.5323 185.339 0.059331 18.6851 44.8563 86.2676 200.095 0.437133 10.4489 22.5926 41.6177 92.6024 0.0343773 21.078 40.8436 69.5367 144.823 0.183372 14.2802 24.179 36.9767 66.2792 0.00984375 26.4573 54.9508 97.5823 212.082 0.702419 8.31976 26.788 58.4256 147.833 0.261179 12.3908 31.5509 61.3586 138.891 0.0355633 20.9294 40.8725 69.8108 145.421 0.0307894 21.5344 43.8856 76.5148 161.117 0.205115 13.3685 40.485 85.9423 214.371 0.0217687 23.0109 62.4802 128.036 316.385 0.011813 25.6614 61.2355 114.45 246.283 0.18469 13.8154 40.2193 84.7093 211.926 0.0387838 20.5497 41.0005 70.6337 147.138 0.128146 15.3988 36.4393 69.6368 160.145 0.103408 16.2844 55.499 120.04 289.708 0.123796 15.5483 36.377 69.2855 159.424 0.0555145 18.9731 44.7222 85.559 198.66 0.0833048 17.3428 32.5457 53.8029 106.772 0.10846 16.1063 38.1551 76.0473 189.607 3.22355 3.45029 11.4889 29.3706 88.2699 0.0294009 21.7155 49.8862 97.6484 240.426 0.705476 8.3151 25.9591 59.3429 163.557 0.000383826 40.5367 94.6542 184.297 449.02 0.0720988 17.8466 43.4061 86.958 216.56 0.000458561 39.7641 92.1338 178.946 435.543 0.000231456 42.7333 107.084 215.838 539.867 5.14372 1.67075 18.7251 56.3531 180.275 0.0263147 22.4554 34.5385 51.1042 96.1541 0.00199937 33.3699 84.7297 172.513 435.495 0.00213133 33.1018 59.7622 99.8551 213.418 1.43183 6.66926 12.395 21.0455 41.6719 0.14718 15.0471 27.011 43.0391 80.7728 0.658782 8.58317 26.6367 57.7074 146.388 0.519672 9.49677 33.0852 72.5023 180.25 1.11519 6.58761 21.5213 47.5263 121.183 0.0159053 24.3718 59.0914 111.171 237.465 0.0328414 21.2354 50.3258 96.5313 225.046 0.111381 16.1519 29.7856 48.4974 93.9384 2.22448 4.41428 14.1687 31.8887 82.1173 3.60707 2.55636 20.4102 53.1435 144.676 0.266757 12.2749 34.5703 72.6285 183.02 1.11532 6.58715 21.5216 47.5277 121.186 0.0182069 23.7857 59.4807 115.896 270.161 0.0899636 16.8937 42.623 83.0126 191.165 0.203418 13.4035 40.6403 83.2452 185.496 0.422879 10.3542 32.1273 69.0837 173.841 4.23911 2.0808 24.0982 66.496 192.795 0.274711 12.126 53.8371 127.961 346.104 0.967328 7.02351 29.1211 65.7835 161.229 1.03924 6.72037 46.9526 121.42 345.207 0.0377565 20.6673 40.9518 70.3581 146.574 0.25963 12.3682 41.9851 90.8776 223.41 0.315935 11.5391 54.699 130.799 351.301 0.252683 13.1259 21.4534 31.7036 53.4787 2.01865 4.34124 24.3 51.77 91.0066 157.203 511.268 8.07718 1.02427 12.7083 30.98 57.6723 101.405 311.685 31.2516 3.41957 4.05221 8.8005 17.3306 32.4703 104.663 6.34838 1.39228 13.7864 32.0139 58.3711 102.307 325.759 1.08243 7.16481 15.7707 27.0509 42.4312 66.5908 174.943 10.9176 0.903812 9.83483 25.1762 48.0206 84.7979 247.853 0.615471 9.02593 21.6412 38.6365 62.1924 99.7784 276.286 2.08678 5.35564 11.1484 19.0889 29.8436 45.9191 105.597 58.731 1.89487 4.7198 17.9047 41.1225 82.3005 290.633 1.34065 6.50789 14.1713 24.3139 38.113 59.5264 151.591 16.4511 3.02833 4.78161 9.19293 16.1029 27.1193 68.0532 5.33989 1.70443 14.9773 34.0472 61.5228 107.591 346.555 45.1453 3.17897 3.73445 10.4266 22.8944 45.8818 166.854 25.7567 1.14299 6.7096 18.1867 36.2597 67.2991 223.64 5.135 1.74874 16.0725 36.7884 66.6442 116.517 373.092 6.40083 1.53647 11.763 26.4219 47.5869 83.3104 270.699 4.96184 1.93206 14.0571 31.0682 55.5176 96.8802 316.985 12.2576 1.76835 6.32723 14.0615 25.5776 44.6435 134.179 1.52127 6.25892 12.898 21.5145 33.1206 50.9795 125.753 8.47234 1.14307 10.6458 25.1556 46.2882 81.3511 255.156 0.0386662 20.5381 45.381 77.0501 120.973 193.999 581.883 0.0179749 23.8403 69.8045 130.662 216.807 362.71 1163.39 92.491 0.0128323 25.3013 74.2078 152.075 291.781 1087.66 34.5194 0.402032 10.6049 29.7333 59.6852 112.343 398.921 58.6765 3.11385 3.52044 11.8369 27.7422 57.8983 226.755 1.50403 5.37142 26.1975 54.4803 94.79 163.031 532.427 6.30264 1.56764 11.7789 26.3713 47.4318 83.0104 270.2 23.7197 1.24347 6.52075 16.6977 32.7306 61.0052 213.717 4.09678 2.14597 32.4904 74.9295 136.308 241.571 824.66 13.5263 0.285823 17.1586 42.3379 79.4766 143.533 495.231\r\n",
      "dDocent_Contig_2762:47 0 3 37 19 0 19 0 15 86 17 0 97 10 0 117 0 20 104 0 6 45 0 21 101 57 6 0 7 0 83 0 0 0 24 0 96 0 21 101 0 3 25 0 39 120 0 44 151 0 6 45 0 1 88 0 3 25 0 6 45 25 3 0 0 3 25 0 30 136 0 23 126 5 0 101 26 0 88 0 11 110 0 0 0 0 3 25 0 3 37 25 3 0 0 18 94 0 8 117 19 0 19 0 0 0 0 42 151 0 21 113 19 0 103 0 0 0 69 0 92 25 3 0 0 24 107 49 0 16 37 3 0 47 0 93 20 0 112 0 3 37 0 6 45 0 0 0 0 30 138 0 78 151 35 0 113 0 0 0 0 5 92 0 15 98 0 14 123 0 18 106 22 0 109 0 0 0 0 0 0 22 0 91 0 0 0 0 0 0 36 0 93 0 0 0 0 0 0 0 9 62 0 6 45 0 54 159 0 3 37 0 15 98 22 0 109 0 0 0 56 0 121 0 9 74 0 41 138 0 3 25 16 0 49 16 0 106 0 0 0 11 0 111 13 0 51 25 3 0 27 0 113 0 23 143 0 0 0 0 0 0 0 0 0 0 3 25 0 0 0 26 0 69 0 0 0 0 11 98 41 0 68 0 8 107 0 3 25 0 21 101 0 29 119 0 21 123 26 0 100 0.244161 12.6821 31.2907 61.5003 146.072 28.0604 1.29574 5.94774 26.6358 99.6789 20.8301 0.274564 12.759 46.0094 155.45 0.722194 8.95531 16.3004 25.9427 46.8626 1.41363 7.65827 11.5248 15.5279 20.982 0.0442371 19.9613 43.4838 79.1618 174.222 0.690679 8.59018 20.6602 40.3318 95.0418 0.668754 9.32417 16.3767 25.4986 45.6488 6.24088 4.06289 6.12422 9.91689 16.2085 0.0276896 21.9703 55.7773 110.562 263.604 1.4432 7.49394 11.4927 15.7312 21.5351 8.1791 1.20666 10.4728 30.902 92.7942 0.10096 16.3881 51.3144 110.543 278.444 12.7814 0.256029 23.4271 72.2488 213.623 4.51826 2.44638 11.2002 28.2606 76.8218 0.1191 15.6784 58.0401 131.856 343.858 4.68136 2.33248 11.3126 28.7739 77.9018 1.23195 6.95817 13.9169 23.1529 39.6962 0.0122141 25.5159 64.1349 126.657 301.835 1.56292 6.87199 11.455 16.7288 24.0105 0.6954 8.70215 18.9663 33.5377 65.0794 0.529105 9.68021 21.593 38.8247 77.8557 2.64853 3.43993 24.3646 63.6111 178.242 0.99763 8.10131 13.8002 20.7884 34.2207 1.83081 4.63488 48.6527 130.933 368.122 0.0852362 17.151 37.8548 69.0641 150.343 1.68916 6.2805 11.5811 18.1399 27.1711 0.252349 12.5653 29.7788 55.658 118.049 44.1257 0.0271105 22.0871 83.8428 287.597 0.473265 9.87466 34.9816 78.3889 201.528 6.47367 2.28819 7.6379 19.1924 52.4944 1.32697 6.55146 14.1457 24.5667 42.6966 10.6595 0.880059 10.1457 30.8838 89.3507 0.168059 14.2085 48.6853 107.43 270.78 1.66831 4.96662 35.2606 90.6534 242.921 0.0170551 24.0678 80.4193 177.002 450.912 1.28058 5.98721 24.6389 57.6597 151.183 0.917793 7.79753 16.3933 28.2685 52.2727 0.568768 9.12081 35.0631 79.9648 205.144 3.25538 3.40603 11.6564 25.7048 57.533 0.516371 9.5312 31.527 68.0415 161.432 1.34884 5.79101 24.6774 58.1147 152.216 0.310021 11.8686 24.2038 41.8992 85.4102 1.46768 7.36131 11.473 15.9118 22.0088 0.275971 12.255 26.871 48.3475 100.909 1.09814 6.51279 36.8438 91.4997 246.435 0.0270699 22.0666 68.1394 145.632 361.576 1.40653 7.69844 11.5339 15.4815 20.8521 11.6554 0.366103 19.0186 59.6871 186.008 0.0144802 24.7783 61.4854 120.881 287.869 6.2548 3.99544 6.13164 10.0573 16.5323 0.693429 9.15049 16.3359 25.6946 46.1986 0.516766 9.50332 41.7426 99.1971 265.7 1.7476 4.79868 42.6288 114.123 328.806 0.100629 16.5014 32.8217 56.7767 120.184 0.453722 10.0354 48.6448 118.794 326.707 2.38045 3.76854 26.8534 69.6698 193.04 0.103913 16.2831 39.6163 77.4033 183.841 1.47652 7.31411 11.4674 15.9799 22.1838 0.864064 7.45319 31.7981 76.2829 209.205 0.132649 15.4576 27.9747 45.6706 92.4059 1.35918 7.97354 11.6077 15.1949 20.0137 0.992314 8.13001 13.8043 20.7488 34.1173 1.12291 9.5853 12.353 14.3426 16.4098 15.24 0.433474 11.8718 40.7974 135.446 0.246553 12.5935 38.1459 82.062 209.46 0.171645 14.1869 32.0928 60.9983 143.272 1.20046 7.10164 13.6751 24.336 54.6459 18.0373 0.0935904 22.5135 74.2433 240.689 0.889229 8.71635 13.9411 20.0832 32.2409 1.13433 9.49592 12.3009 14.3613 16.5655 1.68871 5.00076 22.2333 53.0027 139.602 0.0335827 21.1407 48.9416 91.6844 204.144 0.0606584 18.5823 50.1097 101.386 241.966 0.0123352 25.474 60.1287 113.987 257.04 7.21629 0.950547 21.7121 63.4083 186.269 0.221889 13.0313 43.0776 94.4484 240.042 1.5812 5.16438 31.6402 79.9442 218.52 11.4491 0.66117 11.5909 35.8273 99.2517 10.4825 0.511591 16.6491 50.9539 152.137 3.98234 2.22435 29.6627 82.1513 235.172 0.0541852 19.0695 50.1197 100.545 239.961 4.72143 3.57792 7.38242 14.0017 28.0137 15.5225 0.131504 27.4773 85.818 256.775 0.571421 9.09135 48.5098 120.095 330.076 1.14922 6.70289 17.3533 33.4487 63.3763 0.161219 14.3848 52.116 116.911 292.564 3.70185 2.41577 36.0599 100.926 295.047 0.317878 11.5235 37.7575 82.8987 212.204 7.09198 1.01369 18.9197 55.8042 168.195 0.70033 9.10297 16.3262 25.7522 46.3556 1.07979 7.67472 13.7742 21.4722 35.9173 5.09238 1.61289 31.8924 91.3223 270.299 1.69217 6.26713 11.5863 18.1789 27.2555 0.937291 7.16267 27.1502 62.2754 162.504 0.457272 10.3314 21.4868 37.3548 74.5399 1.61508 6.62034 11.4856 17.2613 25.2339 0.786079 7.83837 29.7192 67.9358 176.271 0.507115 9.70652 24.9462 48.2317 99.4484 1.53196 7.0266 11.4505 16.4424 23.3299 1.29448 5.94632 24.645 57.7491 151.389 5.66452 2.12571 9.50593 24.3952 66.1536 1.96379 5.16976 12.5928 23.4954 38.6157 0.559138 9.28015 25.577 52.2273 124.439 0.321558 11.7078 24.1816 42.1226 85.9821 0.322685 11.4996 30.9371 62.6266 149.428 7.88564 0.782986 26.4719 80.6503 252.459 0.381674 11.9749 17.7111 24.3927 40.2374 0.160199 14.995 23.7184 35.1146 64.6526 15.1935 0.292894 14.5639 50.3273 169.778 0.707932 8.23256 37.2302 91.5021 257.012 3.43844 5.76386 7.51547 10.4239 18.5956 0.00720621 27.8063 61.2717 115 268.73 0.29423 13.182 18.5863 24.6028 38.851 0.31511 12.8652 18.3462 24.5192 39.1735 0.423341 12.5625 16.265 19.5032 25.8448 0.356397 11.0491 36.0838 81.3709 217.887 0.323774 11.4502 36.3964 81.5004 217.505 9.26368 1.26267 8.80907 26.4538 80.6685 0.130767 15.2785 55.345 125.354 328.273 6.16444 4.44756 6.11994 9.22342 14.5476 4.01923 2.19982 29.7143 82.344 235.553 0.0549412 19.007 56.8909 120.835 302.872 5.53627 1.431 29.1285 82.9074 234.001 39.1676 0.280892 12.041 51.9181 189.018 0.29144 11.8785 47.135 109.41 290.196 0.332888 11.3302 37.7147 83.1231 212.819 0.549665 9.51013 21.6584 39.3258 78.9395 0.425984 10.2982 41.8676 98.1338 262.922 3.79001 2.42543 19.963 53.7337 153.159 1.25573 6.85372 13.9632 23.4753 40.3883 12.0141 2.91537 4.70175 10.7477 24.9932 0.161219 14.3848 52.116 116.911 292.564 0.0997636 16.4393 51.3191 110.466 278.251 4.60026 1.85153 34.1585 96.9208 284.313 5.25292 1.55701 25.3023 71.7506 208.826 0.612722 9.02596 21.9619 41.1597 82.8413 4.72511 3.57182 7.38564 14.0215 28.0562 4.59009 1.96228 17.9594 49.2635 141.469 2.4205 3.69518 36.6367 98.1729 275.094 0.00889578 26.8905 79.2131 166.698 411.729 0.102952 16.3147 41.9529 83.5774 199.341 3.95667 2.3325 18.7259 44.2046 81.7355 143.592 316.866 10.5793 3.84766 4.81173 8.74974 14.9647 23.5556 35.5504 9.82207 2.39498 5.74209 13.0429 24.5774 43.645 93.7161 22.8134 0.102406 17.4317 51.2892 104.591 195.291 455.131 3.43719 2.84888 15.5947 35.2313 63.7946 109.942 234.642 10.8246 3.50836 4.68599 9.53747 17.2929 27.9957 42.6298 0.249921 12.529 42.099 83.6667 142.491 236.86 495.183 2.80269 4.99484 9.2035 14.9063 22.3085 32.33 49.8853 2.22801 4.97054 11.3287 20.5609 33.0517 50.6902 85.8262 2.19026 5.45957 10.504 17.0675 25.606 37.6024 61.7261 13.3305 0.599044 10.8865 30.6433 61.4281 113.15 257.842 7.03652 3.64049 5.93985 10.3429 16.8795 26.8758 48.9067 7.69808 0.902818 17.5042 44.9862 86.3221 155.212 349.909 5.31049 1.5459 22.9358 56.8908 107.2 190.23 422.993 2.64252 5.26549 9.35845 14.6454 21.4155 30.62 47.181 3.13933 2.96747 20.151 46.3675 84.8544 148.422 327.855 1.0191 7.83668 14.2978 21.7633 31.3487 45.6471 80.7201 10.797 0.436505 19.0723 50.8427 99.1154 180.095 410.691 0.419503 10.4135 29.3774 55.1124 90.9868 148.014 302.241 1.27513 5.99624 25.199 53.05 92.9 157.178 333.087 1.6508 5.10346 21.3088 44.8509 78.6771 133.633 285.651 60.3983 16.0498 5.45711 3.26093 6.91306 18.2375 56.4936 9.81747 5.12511 5.53093 7.42201 10.4858 14.9766 21.9652 31.8011 0.2816 12.0742 40.1735 86.5214 167.297 402.893 0.324022 11.4913 30.2054 55.0988 89.7073 145.065 297.164 4.47015 2.0751 16.4826 39.1506 72.7578 128.497 285.904 2.56583 3.75345 16.1258 34.5042 61.1725 104.816 226.311 2.57703 6.61407 9.34525 11.9878 14.9276 18.5948 24.0273 0.192747 13.6633 34.0878 60.8928 98.0668 157.705 323.211 0.67683 8.57845 22.5887 41.3175 67.4145 109.21 223.904\r\n"
     ]
    }
   ],
   "source": [
    "!head entropy.mpgl"
   ]
  },
  {
   "cell_type": "code",
   "execution_count": 56,
   "metadata": {},
   "outputs": [
    {
     "name": "stdout",
     "output_type": "stream",
     "text": [
      "/data/gpfs/assoc/denovo/tfaske/CHDO/SNPcall/entropy_ebgAll\n"
     ]
    }
   ],
   "source": [
    "cd $ent_dir"
   ]
  },
  {
   "cell_type": "code",
   "execution_count": 57,
   "metadata": {},
   "outputs": [],
   "source": [
    "!mkdir shdir"
   ]
  },
  {
   "cell_type": "code",
   "execution_count": 58,
   "metadata": {},
   "outputs": [],
   "source": [
    "### select slurm options\n",
    "account = 'cpu-s5-denovo-0'\n",
    "partition = 'cpu-core-0'\n",
    "time = '14-00:00:00' #time limit 14 days\n",
    "cpus = 1 #to prevent hammering one node\n",
    "mem_cpu = 16000\n",
    "email = 'tfaske@nevada.unr.edu'\n",
    "\n",
    "#entropy settings\n",
    "ploidy = 'ploidy_inds.txt'\n",
    "l = 60000\n",
    "b = 10000\n",
    "num_k = [2,3,4,5,6,7]\n",
    "chains = 4"
   ]
  },
  {
   "cell_type": "code",
   "execution_count": 59,
   "metadata": {},
   "outputs": [],
   "source": [
    "def write_entropy_sh(account,partition,time,cpus,mem_cpu,email,ploidy,l,b,num_k,chains):\n",
    "    for k in num_k:\n",
    "        for c in range(1,chains+1):\n",
    "            jobname = 'k%d_c%d' % (k,c)\n",
    "            seed = random.randint(1000,9999) #default is clock so messes up if submitted same time \n",
    "            with open(\"shdir/run_entropy_%s.sh\" % (jobname), \"w\") as o:\n",
    "                o.write(\"\"\"#!/usr/bin/env bash\n",
    "#SBATCH --account=%s\n",
    "#SBATCH --partition=%s\n",
    "#SBATCH --time=%s\n",
    "#SBATCH --ntasks 1\n",
    "#SBATCH --cpus-per-task %d\n",
    "#SBATCH --mem-per-cpu=%d\n",
    "#SBATCH --job-name ent_%s\n",
    "#SBATCH --output output_%s.txt\n",
    "#SBATCH --mail-type=END\n",
    "#SBATCH --mail-user=%s\\n\\n\"\"\" % (account,partition,time,cpus,mem_cpu,jobname,jobname,email))\n",
    "        \n",
    "                o.write(\"entropy -i ../entropy.mpgl -o ../entropy_%s.hdf5 -r %d -n ../%s -l %d -b %d -t 10 -s 50 -e .01 -k %d -q ../ldak%d.txt -m 1 -w 0\"\n",
    "                        % (jobname,seed,ploidy,l,b,k,k))\n",
    "    "
   ]
  },
  {
   "cell_type": "code",
   "execution_count": 60,
   "metadata": {},
   "outputs": [],
   "source": [
    "write_entropy_sh(account,partition,time,cpus,mem_cpu,email,ploidy,l,b,num_k,chains)"
   ]
  },
  {
   "cell_type": "code",
   "execution_count": 61,
   "metadata": {},
   "outputs": [
    {
     "data": {
      "text/plain": [
       "['/data/gpfs/assoc/denovo/tfaske/CHDO/SNPcall/entropy_ebgAll/shdir/run_entropy_k2_c1.sh',\n",
       " '/data/gpfs/assoc/denovo/tfaske/CHDO/SNPcall/entropy_ebgAll/shdir/run_entropy_k2_c2.sh',\n",
       " '/data/gpfs/assoc/denovo/tfaske/CHDO/SNPcall/entropy_ebgAll/shdir/run_entropy_k2_c3.sh',\n",
       " '/data/gpfs/assoc/denovo/tfaske/CHDO/SNPcall/entropy_ebgAll/shdir/run_entropy_k2_c4.sh',\n",
       " '/data/gpfs/assoc/denovo/tfaske/CHDO/SNPcall/entropy_ebgAll/shdir/run_entropy_k3_c1.sh',\n",
       " '/data/gpfs/assoc/denovo/tfaske/CHDO/SNPcall/entropy_ebgAll/shdir/run_entropy_k3_c2.sh',\n",
       " '/data/gpfs/assoc/denovo/tfaske/CHDO/SNPcall/entropy_ebgAll/shdir/run_entropy_k3_c3.sh',\n",
       " '/data/gpfs/assoc/denovo/tfaske/CHDO/SNPcall/entropy_ebgAll/shdir/run_entropy_k3_c4.sh',\n",
       " '/data/gpfs/assoc/denovo/tfaske/CHDO/SNPcall/entropy_ebgAll/shdir/run_entropy_k4_c1.sh',\n",
       " '/data/gpfs/assoc/denovo/tfaske/CHDO/SNPcall/entropy_ebgAll/shdir/run_entropy_k4_c2.sh',\n",
       " '/data/gpfs/assoc/denovo/tfaske/CHDO/SNPcall/entropy_ebgAll/shdir/run_entropy_k4_c3.sh',\n",
       " '/data/gpfs/assoc/denovo/tfaske/CHDO/SNPcall/entropy_ebgAll/shdir/run_entropy_k4_c4.sh',\n",
       " '/data/gpfs/assoc/denovo/tfaske/CHDO/SNPcall/entropy_ebgAll/shdir/run_entropy_k5_c1.sh',\n",
       " '/data/gpfs/assoc/denovo/tfaske/CHDO/SNPcall/entropy_ebgAll/shdir/run_entropy_k5_c2.sh',\n",
       " '/data/gpfs/assoc/denovo/tfaske/CHDO/SNPcall/entropy_ebgAll/shdir/run_entropy_k5_c3.sh',\n",
       " '/data/gpfs/assoc/denovo/tfaske/CHDO/SNPcall/entropy_ebgAll/shdir/run_entropy_k5_c4.sh',\n",
       " '/data/gpfs/assoc/denovo/tfaske/CHDO/SNPcall/entropy_ebgAll/shdir/run_entropy_k6_c1.sh',\n",
       " '/data/gpfs/assoc/denovo/tfaske/CHDO/SNPcall/entropy_ebgAll/shdir/run_entropy_k6_c2.sh',\n",
       " '/data/gpfs/assoc/denovo/tfaske/CHDO/SNPcall/entropy_ebgAll/shdir/run_entropy_k6_c3.sh',\n",
       " '/data/gpfs/assoc/denovo/tfaske/CHDO/SNPcall/entropy_ebgAll/shdir/run_entropy_k6_c4.sh',\n",
       " '/data/gpfs/assoc/denovo/tfaske/CHDO/SNPcall/entropy_ebgAll/shdir/run_entropy_k7_c1.sh',\n",
       " '/data/gpfs/assoc/denovo/tfaske/CHDO/SNPcall/entropy_ebgAll/shdir/run_entropy_k7_c2.sh',\n",
       " '/data/gpfs/assoc/denovo/tfaske/CHDO/SNPcall/entropy_ebgAll/shdir/run_entropy_k7_c3.sh',\n",
       " '/data/gpfs/assoc/denovo/tfaske/CHDO/SNPcall/entropy_ebgAll/shdir/run_entropy_k7_c4.sh']"
      ]
     },
     "execution_count": 61,
     "metadata": {},
     "output_type": "execute_result"
    }
   ],
   "source": [
    "entShells = !find $ent_dir -name 'run_entropy*.sh'\n",
    "entShells = entShells.sort()\n",
    "entShells"
   ]
  },
  {
   "cell_type": "code",
   "execution_count": 62,
   "metadata": {},
   "outputs": [],
   "source": [
    "def write_sbatch_entShells(entShells):\n",
    "         with open(\"shdir/sbatch_entropy.sh\", \"w\") as o:\n",
    "            o.write(\"\"\"#!/usr/bin/env bash \\n\"\"\")\n",
    "            for sh in entShells:\n",
    "                o.write(\"\"\"sbatch %s\\n\"\"\" % (sh))"
   ]
  },
  {
   "cell_type": "code",
   "execution_count": 63,
   "metadata": {},
   "outputs": [],
   "source": [
    "write_sbatch_entShells(entShells)"
   ]
  },
  {
   "cell_type": "markdown",
   "metadata": {},
   "source": [
    "# Run all entropy*sh\n",
    "    cd /data/gpfs/home/tfaske/d/connie/ch2/entropy/shdir\n",
    "    source activate entropy\n",
    "    bash sbatch_entropy.sh"
   ]
  },
  {
   "cell_type": "markdown",
   "metadata": {},
   "source": [
    "# Use estpost to get DIC, q, and gprob"
   ]
  },
  {
   "cell_type": "code",
   "execution_count": 64,
   "metadata": {},
   "outputs": [],
   "source": [
    "np.set_printoptions(precision=8) # increases float print option\n",
    "pd.set_option(\"precision\", 8)"
   ]
  },
  {
   "cell_type": "code",
   "execution_count": 65,
   "metadata": {},
   "outputs": [
    {
     "name": "stdout",
     "output_type": "stream",
     "text": [
      "/data/gpfs/assoc/denovo/tfaske/CHDO/SNPcall/entropy_ebgAll\n"
     ]
    }
   ],
   "source": [
    "cd $ent_dir"
   ]
  },
  {
   "cell_type": "code",
   "execution_count": 66,
   "metadata": {},
   "outputs": [
    {
     "data": {
      "text/plain": [
       "['./entropy_k2_c1.hdf5',\n",
       " './entropy_k2_c2.hdf5',\n",
       " './entropy_k2_c3.hdf5',\n",
       " './entropy_k2_c4.hdf5',\n",
       " './entropy_k3_c1.hdf5',\n",
       " './entropy_k3_c2.hdf5',\n",
       " './entropy_k3_c3.hdf5',\n",
       " './entropy_k3_c4.hdf5',\n",
       " './entropy_k4_c1.hdf5',\n",
       " './entropy_k4_c2.hdf5',\n",
       " './entropy_k4_c3.hdf5',\n",
       " './entropy_k4_c4.hdf5',\n",
       " './entropy_k5_c1.hdf5',\n",
       " './entropy_k5_c2.hdf5',\n",
       " './entropy_k5_c3.hdf5',\n",
       " './entropy_k5_c4.hdf5',\n",
       " './entropy_k6_c1.hdf5',\n",
       " './entropy_k6_c2.hdf5',\n",
       " './entropy_k6_c3.hdf5',\n",
       " './entropy_k6_c4.hdf5',\n",
       " './entropy_k7_c1.hdf5',\n",
       " './entropy_k7_c2.hdf5',\n",
       " './entropy_k7_c3.hdf5',\n",
       " './entropy_k7_c4.hdf5']"
      ]
     },
     "execution_count": 66,
     "metadata": {},
     "output_type": "execute_result"
    }
   ],
   "source": [
    "hdf5_files = !find . -name '*hdf5'\n",
    "hdf5_files = hdf5_files.sort()\n",
    "hdf5_files"
   ]
  },
  {
   "cell_type": "code",
   "execution_count": 67,
   "metadata": {},
   "outputs": [],
   "source": [
    "estpost = '/data/gpfs/home/tfaske/g/anaconda3/envs/entropy/bin/estpost.entropy'"
   ]
  },
  {
   "cell_type": "code",
   "execution_count": 68,
   "metadata": {},
   "outputs": [],
   "source": [
    "#make DIC\n",
    "for i in range(0,len(hdf5_files)):\n",
    "    f = hdf5_files[i]\n",
    "    k = f.split('_')[1] #set this \n",
    "    c = f.split('_')[2].split('.hdf5')[0]\n",
    "    #print(k,c)\n",
    "    dic = \"DIC_%s_%s.txt\" % (k,c)\n",
    "    !$estpost $f -s 3 -p deviance > $dic"
   ]
  },
  {
   "cell_type": "code",
   "execution_count": 69,
   "metadata": {},
   "outputs": [
    {
     "data": {
      "text/plain": [
       "['./DIC_k2_c4.txt',\n",
       " './DIC_k7_c2.txt',\n",
       " './DIC_k2_c1.txt',\n",
       " './DIC_k6_c1.txt',\n",
       " './DIC_k3_c2.txt',\n",
       " './DIC_k4_c4.txt',\n",
       " './DIC_k4_c2.txt',\n",
       " './DIC_k7_c1.txt',\n",
       " './DIC_k7_c4.txt',\n",
       " './DIC_k5_c2.txt',\n",
       " './DIC_k6_c2.txt',\n",
       " './DIC_k4_c3.txt',\n",
       " './DIC_k7_c3.txt',\n",
       " './DIC_k3_c1.txt',\n",
       " './DIC_k2_c2.txt',\n",
       " './DIC_k5_c4.txt',\n",
       " './DIC_k6_c3.txt',\n",
       " './DIC_k4_c1.txt',\n",
       " './DIC_k2_c3.txt',\n",
       " './DIC_k6_c4.txt',\n",
       " './DIC_k3_c4.txt',\n",
       " './DIC_k5_c1.txt',\n",
       " './DIC_k3_c3.txt',\n",
       " './DIC_k5_c3.txt']"
      ]
     },
     "execution_count": 69,
     "metadata": {},
     "output_type": "execute_result"
    }
   ],
   "source": [
    "dic_files = !find . -name 'DIC*'\n",
    "dic_files"
   ]
  },
  {
   "cell_type": "code",
   "execution_count": 70,
   "metadata": {},
   "outputs": [
    {
     "name": "stdout",
     "output_type": "stream",
     "text": [
      "file = ./entropy_k2_c4.hdf5\n",
      "parameter dimensions for deviance: samples = 5000, chains = 1\n",
      "Model deviance: 13807501.88\n",
      "Effective number of parameters: 17657549.01\n",
      "Model DIC: 31465050.89\n",
      "\n",
      "\n",
      "file = ./entropy_k7_c2.hdf5\n",
      "parameter dimensions for deviance: samples = 5000, chains = 1\n",
      "Model deviance: 12022145.53\n",
      "Effective number of parameters: 45494710.63\n",
      "Model DIC: 57516856.16\n",
      "\n",
      "\n",
      "file = ./entropy_k2_c1.hdf5\n",
      "parameter dimensions for deviance: samples = 5000, chains = 1\n",
      "Model deviance: 13806998.34\n",
      "Effective number of parameters: 17817596.47\n",
      "Model DIC: 31624594.81\n",
      "\n",
      "\n",
      "file = ./entropy_k6_c1.hdf5\n",
      "parameter dimensions for deviance: samples = 5000, chains = 1\n",
      "Model deviance: 12265292.10\n",
      "Effective number of parameters: 30832929.84\n",
      "Model DIC: 43098221.95\n",
      "\n",
      "\n",
      "file = ./entropy_k3_c2.hdf5\n",
      "parameter dimensions for deviance: samples = 5000, chains = 1\n",
      "Model deviance: 13123930.98\n",
      "Effective number of parameters: 22520936.00\n",
      "Model DIC: 35644866.98\n",
      "\n",
      "\n",
      "file = ./entropy_k4_c4.hdf5\n",
      "parameter dimensions for deviance: samples = 5000, chains = 1\n",
      "Model deviance: 12863379.27\n",
      "Effective number of parameters: 22925101.43\n",
      "Model DIC: 35788480.70\n",
      "\n",
      "\n",
      "file = ./entropy_k4_c2.hdf5\n",
      "parameter dimensions for deviance: samples = 5000, chains = 1\n",
      "Model deviance: 12863478.83\n",
      "Effective number of parameters: 22713465.47\n",
      "Model DIC: 35576944.29\n",
      "\n",
      "\n",
      "file = ./entropy_k7_c1.hdf5\n",
      "parameter dimensions for deviance: samples = 5000, chains = 1\n",
      "Model deviance: 12022236.75\n",
      "Effective number of parameters: 33564265.92\n",
      "Model DIC: 45586502.67\n",
      "\n",
      "\n",
      "file = ./entropy_k7_c4.hdf5\n",
      "parameter dimensions for deviance: samples = 5000, chains = 1\n",
      "Model deviance: 12023647.81\n",
      "Effective number of parameters: 38994754.83\n",
      "Model DIC: 51018402.64\n",
      "\n",
      "\n",
      "file = ./entropy_k5_c2.hdf5\n",
      "parameter dimensions for deviance: samples = 5000, chains = 1\n",
      "Model deviance: 12554473.47\n",
      "Effective number of parameters: 25536889.21\n",
      "Model DIC: 38091362.69\n",
      "\n",
      "\n",
      "file = ./entropy_k6_c2.hdf5\n",
      "parameter dimensions for deviance: samples = 5000, chains = 1\n",
      "Model deviance: 12265517.57\n",
      "Effective number of parameters: 29973378.02\n",
      "Model DIC: 42238895.58\n",
      "\n",
      "\n",
      "file = ./entropy_k4_c3.hdf5\n",
      "parameter dimensions for deviance: samples = 5000, chains = 1\n",
      "Model deviance: 12862881.87\n",
      "Effective number of parameters: 22566938.47\n",
      "Model DIC: 35429820.34\n",
      "\n",
      "\n",
      "file = ./entropy_k7_c3.hdf5\n",
      "parameter dimensions for deviance: samples = 5000, chains = 1\n",
      "Model deviance: 12023277.49\n",
      "Effective number of parameters: 39410036.24\n",
      "Model DIC: 51433313.73\n",
      "\n",
      "\n",
      "file = ./entropy_k3_c1.hdf5\n",
      "parameter dimensions for deviance: samples = 5000, chains = 1\n",
      "Model deviance: 13124919.70\n",
      "Effective number of parameters: 22413927.46\n",
      "Model DIC: 35538847.16\n",
      "\n",
      "\n",
      "file = ./entropy_k2_c2.hdf5\n",
      "parameter dimensions for deviance: samples = 5000, chains = 1\n",
      "Model deviance: 13807560.46\n",
      "Effective number of parameters: 17720789.71\n",
      "Model DIC: 31528350.17\n",
      "\n",
      "\n",
      "file = ./entropy_k5_c4.hdf5\n",
      "parameter dimensions for deviance: samples = 5000, chains = 1\n",
      "Model deviance: 12555672.99\n",
      "Effective number of parameters: 27066214.01\n",
      "Model DIC: 39621887.00\n",
      "\n",
      "\n",
      "file = ./entropy_k6_c3.hdf5\n",
      "parameter dimensions for deviance: samples = 5000, chains = 1\n",
      "Model deviance: 12265552.97\n",
      "Effective number of parameters: 29172383.86\n",
      "Model DIC: 41437936.83\n",
      "\n",
      "\n",
      "file = ./entropy_k4_c1.hdf5\n",
      "parameter dimensions for deviance: samples = 5000, chains = 1\n",
      "Model deviance: 12864019.16\n",
      "Effective number of parameters: 23388186.53\n",
      "Model DIC: 36252205.69\n",
      "\n",
      "\n",
      "file = ./entropy_k2_c3.hdf5\n",
      "parameter dimensions for deviance: samples = 5000, chains = 1\n",
      "Model deviance: 13806844.80\n",
      "Effective number of parameters: 18205895.26\n",
      "Model DIC: 32012740.06\n",
      "\n",
      "\n",
      "file = ./entropy_k6_c4.hdf5\n",
      "parameter dimensions for deviance: samples = 5000, chains = 1\n",
      "Model deviance: 12266629.83\n",
      "Effective number of parameters: 30214566.74\n",
      "Model DIC: 42481196.57\n",
      "\n",
      "\n",
      "file = ./entropy_k3_c4.hdf5\n",
      "parameter dimensions for deviance: samples = 5000, chains = 1\n",
      "Model deviance: 13124844.36\n",
      "Effective number of parameters: 22799097.09\n",
      "Model DIC: 35923941.45\n",
      "\n",
      "\n",
      "file = ./entropy_k5_c1.hdf5\n",
      "parameter dimensions for deviance: samples = 5000, chains = 1\n",
      "Model deviance: 12555403.14\n",
      "Effective number of parameters: 26062564.28\n",
      "Model DIC: 38617967.43\n",
      "\n",
      "\n",
      "file = ./entropy_k3_c3.hdf5\n",
      "parameter dimensions for deviance: samples = 5000, chains = 1\n",
      "Model deviance: 13125747.01\n",
      "Effective number of parameters: 24065223.68\n",
      "Model DIC: 37190970.69\n",
      "\n",
      "\n",
      "file = ./entropy_k5_c3.hdf5\n",
      "parameter dimensions for deviance: samples = 5000, chains = 1\n",
      "Model deviance: 12555695.07\n",
      "Effective number of parameters: 27115547.73\n",
      "Model DIC: 39671242.81\n",
      "\n",
      "\n"
     ]
    }
   ],
   "source": [
    "for d in dic_files:\n",
    "    !cat $d\n",
    "    print('\\n')"
   ]
  },
  {
   "cell_type": "code",
   "execution_count": 71,
   "metadata": {},
   "outputs": [
    {
     "data": {
      "text/html": [
       "<div>\n",
       "<style scoped>\n",
       "    .dataframe tbody tr th:only-of-type {\n",
       "        vertical-align: middle;\n",
       "    }\n",
       "\n",
       "    .dataframe tbody tr th {\n",
       "        vertical-align: top;\n",
       "    }\n",
       "\n",
       "    .dataframe thead th {\n",
       "        text-align: right;\n",
       "    }\n",
       "</style>\n",
       "<table border=\"1\" class=\"dataframe\">\n",
       "  <thead>\n",
       "    <tr style=\"text-align: right;\">\n",
       "      <th></th>\n",
       "      <th>k</th>\n",
       "      <th>DIC</th>\n",
       "      <th>chain</th>\n",
       "    </tr>\n",
       "  </thead>\n",
       "  <tbody>\n",
       "    <tr>\n",
       "      <th>0</th>\n",
       "      <td>2</td>\n",
       "      <td>31465050.89</td>\n",
       "      <td>4</td>\n",
       "    </tr>\n",
       "    <tr>\n",
       "      <th>1</th>\n",
       "      <td>7</td>\n",
       "      <td>57516856.16</td>\n",
       "      <td>2</td>\n",
       "    </tr>\n",
       "    <tr>\n",
       "      <th>2</th>\n",
       "      <td>2</td>\n",
       "      <td>31624594.81</td>\n",
       "      <td>1</td>\n",
       "    </tr>\n",
       "    <tr>\n",
       "      <th>3</th>\n",
       "      <td>6</td>\n",
       "      <td>43098221.95</td>\n",
       "      <td>1</td>\n",
       "    </tr>\n",
       "    <tr>\n",
       "      <th>4</th>\n",
       "      <td>3</td>\n",
       "      <td>35644866.98</td>\n",
       "      <td>2</td>\n",
       "    </tr>\n",
       "  </tbody>\n",
       "</table>\n",
       "</div>"
      ],
      "text/plain": [
       "   k          DIC chain\n",
       "0  2  31465050.89     4\n",
       "1  7  57516856.16     2\n",
       "2  2  31624594.81     1\n",
       "3  6  43098221.95     1\n",
       "4  3  35644866.98     2"
      ]
     },
     "execution_count": 71,
     "metadata": {},
     "output_type": "execute_result"
    }
   ],
   "source": [
    "dic_list = []\n",
    "for d in dic_files:\n",
    "    k = d.split('_k')[1].split('_')[0] #set this \n",
    "    c = d.split('_c')[1].split('.txt')[0]\n",
    "    #print(k,c)\n",
    "    \n",
    "    dic = !grep 'DIC' $d\n",
    "    dic = float(re.search('(\\d+.\\d+)',str(dic)).group(0))\n",
    "    #print(dic)\n",
    "    \n",
    "    dic_list.append([k,dic,c])\n",
    "dic_df = pd.DataFrame(dic_list,columns=['k','DIC','chain'])\n",
    "dic_df.head()"
   ]
  },
  {
   "cell_type": "code",
   "execution_count": 72,
   "metadata": {},
   "outputs": [],
   "source": [
    "dic_df.to_csv('dic_list.csv')"
   ]
  },
  {
   "cell_type": "code",
   "execution_count": 73,
   "metadata": {},
   "outputs": [],
   "source": [
    "dic_sum = dic_df.groupby('k').describe().DIC"
   ]
  },
  {
   "cell_type": "code",
   "execution_count": 74,
   "metadata": {},
   "outputs": [
    {
     "data": {
      "text/html": [
       "<div>\n",
       "<style scoped>\n",
       "    .dataframe tbody tr th:only-of-type {\n",
       "        vertical-align: middle;\n",
       "    }\n",
       "\n",
       "    .dataframe tbody tr th {\n",
       "        vertical-align: top;\n",
       "    }\n",
       "\n",
       "    .dataframe thead th {\n",
       "        text-align: right;\n",
       "    }\n",
       "</style>\n",
       "<table border=\"1\" class=\"dataframe\">\n",
       "  <thead>\n",
       "    <tr style=\"text-align: right;\">\n",
       "      <th></th>\n",
       "      <th>count</th>\n",
       "      <th>mean</th>\n",
       "      <th>std</th>\n",
       "      <th>min</th>\n",
       "      <th>25%</th>\n",
       "      <th>50%</th>\n",
       "      <th>75%</th>\n",
       "      <th>max</th>\n",
       "    </tr>\n",
       "    <tr>\n",
       "      <th>k</th>\n",
       "      <th></th>\n",
       "      <th></th>\n",
       "      <th></th>\n",
       "      <th></th>\n",
       "      <th></th>\n",
       "      <th></th>\n",
       "      <th></th>\n",
       "      <th></th>\n",
       "    </tr>\n",
       "  </thead>\n",
       "  <tbody>\n",
       "    <tr>\n",
       "      <th>2</th>\n",
       "      <td>4.0</td>\n",
       "      <td>3.16576840e+07</td>\n",
       "      <td>2.45624683e+05</td>\n",
       "      <td>31465050.89</td>\n",
       "      <td>3.15125254e+07</td>\n",
       "      <td>31576472.490</td>\n",
       "      <td>3.17216311e+07</td>\n",
       "      <td>32012740.06</td>\n",
       "    </tr>\n",
       "    <tr>\n",
       "      <th>4</th>\n",
       "      <td>4.0</td>\n",
       "      <td>3.57618628e+07</td>\n",
       "      <td>3.58511605e+05</td>\n",
       "      <td>35429820.34</td>\n",
       "      <td>3.55401633e+07</td>\n",
       "      <td>35682712.495</td>\n",
       "      <td>3.59044119e+07</td>\n",
       "      <td>36252205.69</td>\n",
       "    </tr>\n",
       "    <tr>\n",
       "      <th>3</th>\n",
       "      <td>4.0</td>\n",
       "      <td>3.60746566e+07</td>\n",
       "      <td>7.61726783e+05</td>\n",
       "      <td>35538847.16</td>\n",
       "      <td>3.56183620e+07</td>\n",
       "      <td>35784404.215</td>\n",
       "      <td>3.62406988e+07</td>\n",
       "      <td>37190970.69</td>\n",
       "    </tr>\n",
       "    <tr>\n",
       "      <th>5</th>\n",
       "      <td>4.0</td>\n",
       "      <td>3.90006150e+07</td>\n",
       "      <td>7.76504879e+05</td>\n",
       "      <td>38091362.69</td>\n",
       "      <td>3.84863162e+07</td>\n",
       "      <td>39119927.215</td>\n",
       "      <td>3.96342260e+07</td>\n",
       "      <td>39671242.81</td>\n",
       "    </tr>\n",
       "    <tr>\n",
       "      <th>6</th>\n",
       "      <td>4.0</td>\n",
       "      <td>4.23140627e+07</td>\n",
       "      <td>6.87043447e+05</td>\n",
       "      <td>41437936.83</td>\n",
       "      <td>4.20386559e+07</td>\n",
       "      <td>42360046.075</td>\n",
       "      <td>4.26354529e+07</td>\n",
       "      <td>43098221.95</td>\n",
       "    </tr>\n",
       "    <tr>\n",
       "      <th>7</th>\n",
       "      <td>4.0</td>\n",
       "      <td>5.13887688e+07</td>\n",
       "      <td>4.87712013e+06</td>\n",
       "      <td>45586502.67</td>\n",
       "      <td>4.96604276e+07</td>\n",
       "      <td>51225858.185</td>\n",
       "      <td>5.29541993e+07</td>\n",
       "      <td>57516856.16</td>\n",
       "    </tr>\n",
       "  </tbody>\n",
       "</table>\n",
       "</div>"
      ],
      "text/plain": [
       "   count            mean             std          min             25%  \\\n",
       "k                                                                       \n",
       "2    4.0  3.16576840e+07  2.45624683e+05  31465050.89  3.15125254e+07   \n",
       "4    4.0  3.57618628e+07  3.58511605e+05  35429820.34  3.55401633e+07   \n",
       "3    4.0  3.60746566e+07  7.61726783e+05  35538847.16  3.56183620e+07   \n",
       "5    4.0  3.90006150e+07  7.76504879e+05  38091362.69  3.84863162e+07   \n",
       "6    4.0  4.23140627e+07  6.87043447e+05  41437936.83  4.20386559e+07   \n",
       "7    4.0  5.13887688e+07  4.87712013e+06  45586502.67  4.96604276e+07   \n",
       "\n",
       "            50%             75%          max  \n",
       "k                                             \n",
       "2  31576472.490  3.17216311e+07  32012740.06  \n",
       "4  35682712.495  3.59044119e+07  36252205.69  \n",
       "3  35784404.215  3.62406988e+07  37190970.69  \n",
       "5  39119927.215  3.96342260e+07  39671242.81  \n",
       "6  42360046.075  4.26354529e+07  43098221.95  \n",
       "7  51225858.185  5.29541993e+07  57516856.16  "
      ]
     },
     "execution_count": 74,
     "metadata": {},
     "output_type": "execute_result"
    }
   ],
   "source": [
    "dic_sum.sort_values('mean')"
   ]
  },
  {
   "cell_type": "code",
   "execution_count": 75,
   "metadata": {},
   "outputs": [],
   "source": [
    "dic_sum.to_csv('dic_sum.csv')"
   ]
  },
  {
   "cell_type": "markdown",
   "metadata": {},
   "source": [
    "### Get gprob and q for each k, and mcmc metrics"
   ]
  },
  {
   "cell_type": "code",
   "execution_count": 76,
   "metadata": {},
   "outputs": [
    {
     "name": "stdout",
     "output_type": "stream",
     "text": [
      "file = entropy_k2_c1.hdf5\n",
      "file = entropy_k2_c2.hdf5\n",
      "file = entropy_k2_c3.hdf5\n",
      "file = entropy_k2_c4.hdf5\n",
      "parameter dimensions for q: ind = 272, populations = 2, samples = 5000, chains = 4\n",
      "file = entropy_k3_c1.hdf5\n",
      "file = entropy_k3_c2.hdf5\n",
      "file = entropy_k3_c3.hdf5\n",
      "file = entropy_k3_c4.hdf5\n",
      "parameter dimensions for q: ind = 272, populations = 3, samples = 5000, chains = 4\n",
      "file = entropy_k4_c1.hdf5\n",
      "file = entropy_k4_c2.hdf5\n",
      "file = entropy_k4_c3.hdf5\n",
      "file = entropy_k4_c4.hdf5\n",
      "parameter dimensions for q: ind = 272, populations = 4, samples = 5000, chains = 4\n",
      "file = entropy_k5_c1.hdf5\n",
      "file = entropy_k5_c2.hdf5\n",
      "file = entropy_k5_c3.hdf5\n",
      "file = entropy_k5_c4.hdf5\n",
      "parameter dimensions for q: ind = 272, populations = 5, samples = 5000, chains = 4\n",
      "file = entropy_k6_c1.hdf5\n",
      "file = entropy_k6_c2.hdf5\n",
      "file = entropy_k6_c3.hdf5\n",
      "file = entropy_k6_c4.hdf5\n",
      "parameter dimensions for q: ind = 272, populations = 6, samples = 5000, chains = 4\n",
      "file = entropy_k7_c1.hdf5\n",
      "file = entropy_k7_c2.hdf5\n",
      "file = entropy_k7_c3.hdf5\n",
      "file = entropy_k7_c4.hdf5\n",
      "parameter dimensions for q: ind = 272, populations = 7, samples = 5000, chains = 4\n"
     ]
    }
   ],
   "source": [
    "# ancestry coeffecients \n",
    "!$estpost *k2*.hdf5 -p q -s 0 -o q2.txt\n",
    "\n",
    "!$estpost *k3*.hdf5 -p q -s 0 -o q3.txt\n",
    "\n",
    "!$estpost *k4*.hdf5 -p q -s 0 -o q4.txt\n",
    "\n",
    "!$estpost *k5*.hdf5 -p q -s 0 -o q5.txt\n",
    "\n",
    "!$estpost *k6*.hdf5 -p q -s 0 -o q6.txt\n",
    "\n",
    "!$estpost *k7*.hdf5 -p q -s 0 -o q7.txt"
   ]
  },
  {
   "cell_type": "code",
   "execution_count": 77,
   "metadata": {},
   "outputs": [
    {
     "name": "stdout",
     "output_type": "stream",
     "text": [
      "file = entropy_k2_c1.hdf5\n",
      "file = entropy_k2_c2.hdf5\n",
      "file = entropy_k2_c3.hdf5\n",
      "file = entropy_k2_c4.hdf5\n",
      "parameter dimensions for q: ind = 272, populations = 2, samples = 5000, chains = 4\n",
      "file = entropy_k3_c1.hdf5\n",
      "file = entropy_k3_c2.hdf5\n",
      "file = entropy_k3_c3.hdf5\n",
      "file = entropy_k3_c4.hdf5\n",
      "parameter dimensions for q: ind = 272, populations = 3, samples = 5000, chains = 4\n",
      "file = entropy_k4_c1.hdf5\n",
      "file = entropy_k4_c2.hdf5\n",
      "file = entropy_k4_c3.hdf5\n",
      "file = entropy_k4_c4.hdf5\n",
      "parameter dimensions for q: ind = 272, populations = 4, samples = 5000, chains = 4\n",
      "file = entropy_k5_c1.hdf5\n",
      "file = entropy_k5_c2.hdf5\n",
      "file = entropy_k5_c3.hdf5\n",
      "file = entropy_k5_c4.hdf5\n",
      "parameter dimensions for q: ind = 272, populations = 5, samples = 5000, chains = 4\n",
      "file = entropy_k6_c1.hdf5\n",
      "file = entropy_k6_c2.hdf5\n",
      "file = entropy_k6_c3.hdf5\n",
      "file = entropy_k6_c4.hdf5\n",
      "parameter dimensions for q: ind = 272, populations = 6, samples = 5000, chains = 4\n",
      "file = entropy_k7_c1.hdf5\n",
      "file = entropy_k7_c2.hdf5\n",
      "file = entropy_k7_c3.hdf5\n",
      "file = entropy_k7_c4.hdf5\n",
      "parameter dimensions for q: ind = 272, populations = 7, samples = 5000, chains = 4\n"
     ]
    }
   ],
   "source": [
    "#MCMC diagnostics\n",
    "!$estpost *k2*.hdf5 -p q -s 4 -o MCMC_k2.txt\n",
    "\n",
    "!$estpost *k3*.hdf5 -p q -s 4 -o MCMC_k3.txt\n",
    "\n",
    "!$estpost *k4*.hdf5 -p q -s 4 -o MCMC_k4.txt\n",
    "\n",
    "!$estpost *k5*.hdf5 -p q -s 4 -o MCMC_k5.txt\n",
    "\n",
    "!$estpost *k6*.hdf5 -p q -s 4 -o MCMC_k6.txt\n",
    "\n",
    "!$estpost *k7*.hdf5 -p q -s 4 -o MCMC_k7.txt"
   ]
  },
  {
   "cell_type": "markdown",
   "metadata": {},
   "source": [
    "### make slurm script to make gprob file\n",
    "\n",
    "    use all k and chains to make gprob"
   ]
  },
  {
   "cell_type": "code",
   "execution_count": 78,
   "metadata": {},
   "outputs": [
    {
     "name": "stdout",
     "output_type": "stream",
     "text": [
      "/data/gpfs/assoc/denovo/tfaske/CHDO/SNPcall/entropy_ebgAll\n"
     ]
    }
   ],
   "source": [
    "cd $ent_dir"
   ]
  },
  {
   "cell_type": "code",
   "execution_count": 79,
   "metadata": {},
   "outputs": [],
   "source": [
    "### select slurm options\n",
    "account = 'cpu-s5-denovo-0'\n",
    "partition = 'cpu-core-0'\n",
    "time = '1-00:00:00' #time limit 4\n",
    "cpus = 2 #to prevent hammering one node\n",
    "mem_cpu = 6000\n",
    "email = 'tfaske@nevada.unr.edu'\n",
    "\n",
    "### select k \n",
    "num_k = [2,3,4,5,6,7]"
   ]
  },
  {
   "cell_type": "code",
   "execution_count": 80,
   "metadata": {},
   "outputs": [],
   "source": [
    "def write_gprob_k_sh(account,partition,time,cpus,mem_cpu,email,estpost,num_k):\n",
    "    for k in num_k:\n",
    "        with open(\"shdir/run_gprob_k%d.sh\" % (k), \"w\") as o:\n",
    "            o.write(\"\"\"#!/usr/bin/env bash\n",
    "#SBATCH --account=%s\n",
    "#SBATCH --partition=%s\n",
    "#SBATCH --time=%s\n",
    "#SBATCH --ntasks 1\n",
    "#SBATCH --cpus-per-task %d\n",
    "#SBATCH --mem-per-cpu=%d\n",
    "#SBATCH --job-name gprob_k%d\n",
    "#SBATCH --output output_gprob_k%d.txt\n",
    "#SBATCH --mail-type=END\n",
    "#SBATCH --mail-user=%s\\n\\n\"\"\" % (account,partition,time,cpus,mem_cpu,k,k,email))\n",
    "        \n",
    "            o.write(\"%s ../*k%d*.hdf5 -p gprob -s 0 -o ../gprob%d.txt\" % (estpost,k,k))"
   ]
  },
  {
   "cell_type": "code",
   "execution_count": 81,
   "metadata": {},
   "outputs": [],
   "source": [
    "write_gprob_k_sh(account,partition,time,cpus,mem_cpu,email,estpost,num_k)"
   ]
  },
  {
   "cell_type": "code",
   "execution_count": 82,
   "metadata": {},
   "outputs": [
    {
     "data": {
      "text/plain": [
       "['/data/gpfs/assoc/denovo/tfaske/CHDO/SNPcall/entropy_ebgAll/shdir/run_gprob_k2.sh',\n",
       " '/data/gpfs/assoc/denovo/tfaske/CHDO/SNPcall/entropy_ebgAll/shdir/run_gprob_k3.sh',\n",
       " '/data/gpfs/assoc/denovo/tfaske/CHDO/SNPcall/entropy_ebgAll/shdir/run_gprob_k4.sh',\n",
       " '/data/gpfs/assoc/denovo/tfaske/CHDO/SNPcall/entropy_ebgAll/shdir/run_gprob_k5.sh',\n",
       " '/data/gpfs/assoc/denovo/tfaske/CHDO/SNPcall/entropy_ebgAll/shdir/run_gprob_k6.sh',\n",
       " '/data/gpfs/assoc/denovo/tfaske/CHDO/SNPcall/entropy_ebgAll/shdir/run_gprob_k7.sh']"
      ]
     },
     "execution_count": 82,
     "metadata": {},
     "output_type": "execute_result"
    }
   ],
   "source": [
    "gprobShells = !find $ent_dir -name 'run_gprob*.sh'\n",
    "gprobShells = gprobShells.sort()\n",
    "gprobShells"
   ]
  },
  {
   "cell_type": "code",
   "execution_count": 83,
   "metadata": {},
   "outputs": [],
   "source": [
    "def write_sbatch_gprobShells(gprobShells):\n",
    "    with open(\"shdir/sbatch_gprob.sh\", \"w\") as o:\n",
    "        o.write(\"\"\"#!/usr/bin/env bash \\n\"\"\")\n",
    "        for sh in gprobShells:\n",
    "            o.write(\"\"\"sbatch %s\\n\"\"\" % (sh))"
   ]
  },
  {
   "cell_type": "code",
   "execution_count": 84,
   "metadata": {},
   "outputs": [],
   "source": [
    "write_sbatch_gprobShells(gprobShells)"
   ]
  },
  {
   "cell_type": "markdown",
   "metadata": {},
   "source": [
    "### gprob all "
   ]
  },
  {
   "cell_type": "code",
   "execution_count": 85,
   "metadata": {},
   "outputs": [
    {
     "data": {
      "text/plain": [
       "['../entropy_k2_c*hdf5',\n",
       " '../entropy_k3_c*hdf5',\n",
       " '../entropy_k4_c*hdf5',\n",
       " '../entropy_k5_c*hdf5',\n",
       " '../entropy_k6_c*hdf5',\n",
       " '../entropy_k7_c*hdf5']"
      ]
     },
     "execution_count": 85,
     "metadata": {},
     "output_type": "execute_result"
    }
   ],
   "source": [
    "hdf5_files = []\n",
    "for k in num_k:\n",
    "    f = '../entropy_k' + str(k) + '_c*hdf5'\n",
    "    hdf5_files.append(f)\n",
    "hdf5_files"
   ]
  },
  {
   "cell_type": "code",
   "execution_count": 86,
   "metadata": {},
   "outputs": [
    {
     "data": {
      "text/plain": [
       "'/data/gpfs/home/tfaske/g/anaconda3/envs/entropy/bin/estpost.entropy ../entropy_k2_c*hdf5 ../entropy_k3_c*hdf5 ../entropy_k4_c*hdf5 ../entropy_k5_c*hdf5 ../entropy_k6_c*hdf5 ../entropy_k7_c*hdf5 -p gprob -s 0 -o ../gprobAll.txt'"
      ]
     },
     "execution_count": 86,
     "metadata": {},
     "output_type": "execute_result"
    }
   ],
   "source": [
    "gprob_cmd = estpost + ' ' + ' '.join(hdf5_files) + ' -p gprob -s 0 -o ../gprobAll.txt'\n",
    "gprob_cmd"
   ]
  },
  {
   "cell_type": "code",
   "execution_count": 87,
   "metadata": {},
   "outputs": [],
   "source": [
    "### select slurm options\n",
    "account = 'cpu-s5-denovo-0'\n",
    "partition = 'cpu-core-0'\n",
    "time = '1-00:00:00' #time limit 4\n",
    "cpus = 2 #to prevent hammering one node\n",
    "mem_cpu = 100000\n",
    "email = 'tfaske@nevada.unr.edu'"
   ]
  },
  {
   "cell_type": "code",
   "execution_count": 88,
   "metadata": {},
   "outputs": [],
   "source": [
    "def write_gprob_all_sh(account,partition,time,cpus,mem_cpu,email,estpost,gprob_cmd):\n",
    "        with open(\"shdir/run_gprobAll.sh\", \"w\") as o:\n",
    "            o.write(\"\"\"#!/usr/bin/env bash\n",
    "#SBATCH --account=%s\n",
    "#SBATCH --partition=%s\n",
    "#SBATCH --time=%s\n",
    "#SBATCH --ntasks 1\n",
    "#SBATCH --cpus-per-task %d\n",
    "#SBATCH --mem-per-cpu=%d\n",
    "#SBATCH --job-name gprobAll\n",
    "#SBATCH --output output_gprobAll.txt\n",
    "#SBATCH --mail-type=END\n",
    "#SBATCH --mail-user=%s\n",
    "\n",
    "%s\"\"\" % (account,partition,time,cpus,mem_cpu,email,gprob_cmd))"
   ]
  },
  {
   "cell_type": "code",
   "execution_count": 89,
   "metadata": {},
   "outputs": [],
   "source": [
    "write_gprob_all_sh(account,partition,time,cpus,mem_cpu,email,estpost,gprob_cmd)"
   ]
  },
  {
   "cell_type": "code",
   "execution_count": null,
   "metadata": {},
   "outputs": [],
   "source": []
  },
  {
   "cell_type": "code",
   "execution_count": null,
   "metadata": {},
   "outputs": [],
   "source": []
  },
  {
   "cell_type": "markdown",
   "metadata": {},
   "source": [
    "## Run gprob sh \n",
    "    cd /data/gpfs/home/tfaske/d/milkweed/entropy\n",
    "    source activate entropy\n",
    "    sbatch run_gprob.sh"
   ]
  },
  {
   "cell_type": "code",
   "execution_count": null,
   "metadata": {},
   "outputs": [],
   "source": []
  },
  {
   "cell_type": "code",
   "execution_count": null,
   "metadata": {},
   "outputs": [],
   "source": [
    "#gprobs\n",
    "#!$estpost *k2*.hdf5 -p gprob -s 0 -o gprob2.txt\n",
    "\n",
    "#!$estpost *k3*.hdf5 -p gprob -s 0 -o gprob3.txt\n",
    "\n",
    "#!$estpost *k4*.hdf5 -p gprob -s 0 -o gprob4.txt\n",
    "\n",
    "#!$estpost *k5*.hdf5 -p gprob -s 0 -o gprob5.txt"
   ]
  }
 ],
 "metadata": {
  "kernelspec": {
   "display_name": "Python 3",
   "language": "python",
   "name": "python3"
  },
  "language_info": {
   "codemirror_mode": {
    "name": "ipython",
    "version": 3
   },
   "file_extension": ".py",
   "mimetype": "text/x-python",
   "name": "python",
   "nbconvert_exporter": "python",
   "pygments_lexer": "ipython3",
   "version": "3.6.7"
  }
 },
 "nbformat": 4,
 "nbformat_minor": 2
}
