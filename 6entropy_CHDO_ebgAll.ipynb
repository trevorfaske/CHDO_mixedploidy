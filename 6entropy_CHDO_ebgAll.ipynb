{
 "cells": [
  {
   "cell_type": "markdown",
   "metadata": {},
   "source": [
    "# Does everything to run entropy and creates slurm files to submit\n",
    "\n",
    "## Run entropy with all diploid likelihoods from bcftools and all tetraploid likelihoods from ebg\n",
    "\n",
    "Goal is 4 chains k=2-7.\n",
    "\n",
    "**Creates mpgl file from PL in vcf and post-ebg**. \n",
    "Use ARTR.diseq.all.long-PL.txt\n",
    "\n",
    "**full pntest_mean and mpgl all file taken from 6entropy_sagebrush_diploidAll**  \n",
    "Rename pntest_mean_final_snps.recode.txt to pntest_mean_allDiploid.txt  \n",
    "Rename final_snps.recode.mpgl to mpgl_diploidAll.txt\n"
   ]
  },
  {
   "cell_type": "code",
   "execution_count": 8,
   "metadata": {},
   "outputs": [
    {
     "name": "stdout",
     "output_type": "stream",
     "text": [
      "/usr/bin/sh: line 0: source: activate: file not found\r\n"
     ]
    }
   ],
   "source": [
    "!source activate py36"
   ]
  },
  {
   "cell_type": "code",
   "execution_count": 9,
   "metadata": {},
   "outputs": [],
   "source": [
    "import sys\n",
    "\n",
    "#sys.path.append('/home/faske/g/anaconda3/envs/py34/lib/python3.4/site-packages')\n",
    "sys.path.append('/data/gpfs/assoc/parchmanlab/tfaske/anaconda3/envs/py36/lib/python3.6/site-packages')\n",
    "sys.path.append(\"/data/gpfs/assoc/parchmanlab/tfaske/ipynb/include_utils\")\n",
    "\n",
    "import ipyparallel as ipp\n",
    "import os, time\n",
    "import include_utils as u\n",
    "import pandas as pd\n",
    "import numpy as np\n",
    "import scipy as sp\n",
    "import random\n",
    "import numbers\n",
    "import matplotlib.pyplot as plt\n",
    "import matplotlib.patches as mpatches\n",
    "import matplotlib.cm as cm\n",
    "import matplotlib.colors as mcolors\n",
    "#import vcf\n",
    "from sklearn import preprocessing\n",
    "from subprocess import Popen, PIPE, call, check_output\n",
    "import seaborn as sns\n",
    "from IPython.display import FileLink\n",
    "import urllib.request as urllib2\n",
    "import dill\n",
    "import traceback\n",
    "from pandas import Series, DataFrame\n",
    "import gzip\n",
    "import warnings\n",
    "warnings.filterwarnings('ignore',category=pd.io.pytables.PerformanceWarning)\n",
    "%config InlineBackend.figure_format = 'retina'\n",
    "from Bio import SeqIO\n",
    "#import pysam\n",
    "from collections import OrderedDict, namedtuple, Counter\n",
    "import operator\n",
    "import multiprocessing as mp\n",
    "import shutil\n",
    "import tempfile\n",
    "#from ipyparallel import Client\n",
    "import scandir\n",
    "import glob\n",
    "from Bio.SeqIO.QualityIO import FastqGeneralIterator\n",
    "import pickle\n",
    "import re\n",
    "from itertools import chain\n",
    "#import Levenshtein as lv"
   ]
  },
  {
   "cell_type": "code",
   "execution_count": 10,
   "metadata": {},
   "outputs": [],
   "source": [
    "root = '/data/gpfs/assoc/denovo/tfaske/sagebrush/SNPcall'"
   ]
  },
  {
   "cell_type": "code",
   "execution_count": 11,
   "metadata": {},
   "outputs": [
    {
     "name": "stdout",
     "output_type": "stream",
     "text": [
      "/data/gpfs/assoc/denovo/tfaske/sagebrush/SNPcall\n"
     ]
    }
   ],
   "source": [
    "cd $root"
   ]
  },
  {
   "cell_type": "markdown",
   "metadata": {},
   "source": [
    "### Create mgpl & pntest files with associated dir   \n",
    "\n",
    "Uses custom R script to do so"
   ]
  },
  {
   "cell_type": "code",
   "execution_count": 12,
   "metadata": {},
   "outputs": [],
   "source": [
    "ent_dir =os.path.join(root,'entropy_ebgAll')\n",
    "assert ent_dir"
   ]
  },
  {
   "cell_type": "code",
   "execution_count": 6,
   "metadata": {},
   "outputs": [
    {
     "name": "stdout",
     "output_type": "stream",
     "text": [
      "mkdir: cannot create directory ‘/data/gpfs/assoc/denovo/tfaske/sagebrush/SNPcall/entropy_ebgAll’: File exists\r\n"
     ]
    }
   ],
   "source": [
    "!mkdir $ent_dir"
   ]
  },
  {
   "cell_type": "code",
   "execution_count": 13,
   "metadata": {},
   "outputs": [
    {
     "name": "stdout",
     "output_type": "stream",
     "text": [
      "/data/gpfs/assoc/denovo/tfaske/sagebrush/SNPcall/entropy_ebgAll\n"
     ]
    }
   ],
   "source": [
    "cd $ent_dir"
   ]
  },
  {
   "cell_type": "markdown",
   "metadata": {},
   "source": [
    "### move ebg PL txt, and Pop_ID to ent dir, extract PL data   "
   ]
  },
  {
   "cell_type": "code",
   "execution_count": 14,
   "metadata": {},
   "outputs": [],
   "source": [
    "%load_ext rpy2.ipython"
   ]
  },
  {
   "cell_type": "code",
   "execution_count": 16,
   "metadata": {},
   "outputs": [
    {
     "name": "stderr",
     "output_type": "stream",
     "text": [
      "R[write to console]: Loading required package: LEA\n",
      "\n"
     ]
    }
   ],
   "source": [
    "%%R\n",
    "require(readr)\n",
    "library(data.table)\n",
    "require(MASS)\n",
    "require(LEA)\n",
    "require(ggplot2)\n",
    "library(vcfR)\n",
    "\n",
    "source('/data/gpfs/home/tfaske/g/src/R/Imports.R')\n",
    "\n",
    "setwd('/data/gpfs/assoc/denovo/tfaske/sagebrush/SNPcall/entropy_ebgAll/')"
   ]
  },
  {
   "cell_type": "code",
   "execution_count": 24,
   "metadata": {},
   "outputs": [],
   "source": [
    "%%R \n",
    "#read in data\n",
    "PL_4 <- data.frame(fread('ARTR.diseq.all.long-PL.txt',header=F,sep='\\t'))\n",
    "pntest_mean_2 <- data.frame(fread('pntest_mean_diploidAll.txt'))\n",
    "mpgl_2 <- data.frame(fread('mpgl_diploidAll.txt',header=FALSE),row.names=1)\n",
    "\n",
    "Pop_ID_OG <- read.csv('Pop_ID.csv')\n",
    "Pop_ID_4 <- read.csv('Pop_ID_4.csv')"
   ]
  },
  {
   "cell_type": "code",
   "execution_count": 25,
   "metadata": {},
   "outputs": [],
   "source": [
    "%%R\n",
    "# REMOVE LAST COLUMN of PL_4 for some reason\n",
    "PL_4 <- PL_4[,-c(ncol(PL_4))]"
   ]
  },
  {
   "cell_type": "code",
   "execution_count": 26,
   "metadata": {},
   "outputs": [
    {
     "name": "stdout",
     "output_type": "stream",
     "text": [
      "[1] 690   6\n",
      "[1] 291   6\n",
      "[1] 17201   690\n",
      "       V1      V2      V3      V4      V5\n",
      "1      NA 0.33408 0.11182 0.01560 0.00397\n",
      "2      NA      NA      NA      NA 0.00199\n",
      "3 0.96935 0.11182 0.99999 0.99373 0.99999\n",
      "4 0.03065 0.11182      NA      NA      NA\n",
      "5 1.88818 1.88818      NA 1.66586 0.00397\n",
      "[1] 17201  2070\n",
      "                   V2 V3  V4 V5 V6\n",
      "CM042338.1:1496841  0  0   0  0  3\n",
      "CM042338.1:1942811  0  0   0  0  0\n",
      "CM042338.1:6353755 15  0 125  0  9\n",
      "CM042338.1:7214312  0 15 119  0  9\n",
      "CM042338.1:8063221 83  9   0 83  9\n",
      "[1] 17201   291\n",
      "                                      V286\n",
      "1 0.153749,15.7687,21.9222,27.9699,35.6823\n",
      "2   0.421567,10.5304,24.005,45.7205,167.91\n",
      "3 89.0786,8.98574,0.899493,12.1632,96.0032\n",
      "4  0.0100082,26.3883,53.206,94.887,343.712\n",
      "5  6.17937,4.67179,5.48689,8.73378,28.5995\n",
      "                                        V287\n",
      "1   0.153611,15.7767,21.9171,27.9488,35.6412\n",
      "2    2.93294,5.57966,8.53542,12.3292,18.0407\n",
      "3     12.0577,2.98226,4.5703,10.6994,35.9291\n",
      "4 0.00237803,32.6181,68.1933,124.804,474.155\n",
      "5    9.43745,6.69827,5.76822,6.03757,8.00506\n",
      "                                      V288\n",
      "1 0.161567,15.3315,22.2916,29.3205,38.2221\n",
      "2  0.627439,8.9854,20.9098,40.2034,143.883\n",
      "3   3.00079,4.53567,8.94124,17.1335,44.347\n",
      "4 37.0251,0.134607,15.1858,46.5537,252.577\n",
      "5  6.76948,4.59526,5.18707,8.59018,29.0851\n",
      "                                       V289\n",
      "1   0.0971622,17.3991,24.67,32.9174,61.9379\n",
      "2   0.686149,8.7977,18.5902,33.8454,116.405\n",
      "3     2.48563,5.1376,9.5887,17.1122,42.8803\n",
      "4 0.0694003,18.1713,32.1413,52.1385,159.213\n",
      "5   41.6747,6.26489,3.07981,5.66307,40.3312\n",
      "                                       V290\n",
      "1  0.148702,16.0652,21.7666,27.2524,34.2576\n",
      "2 0.0125402,25.4026,59.7844,116.982,471.535\n",
      "3  13.3052,0.728573,9.70913,30.9734,121.654\n",
      "4   0.25957,13.2385,20.3613,28.6276,55.5639\n",
      "5  201.276,39.2186,13.3997,0.807659,9.07034\n",
      "                                       V291\n",
      "1 0.00327186,31.2416,57.564,98.4382,372.513\n",
      "2    3.61357,2.51711,23.265,60.4302,296.653\n",
      "3    17.7857,7.07217,5.2845,5.27689,7.11663\n",
      "4   0.00859619,27.05,53.0517,93.641,341.033\n",
      "5   18.6318,2.65244,4.28317,11.5259,65.0376\n"
     ]
    }
   ],
   "source": [
    "%%R\n",
    "print(dim(Pop_ID_OG))\n",
    "print(dim(Pop_ID_4))\n",
    "\n",
    "print(dim(pntest_mean_2))\n",
    "print(pntest_mean_2[1:5,1:5])\n",
    "print(dim(mpgl_2))\n",
    "print(mpgl_2[1:5,1:5])\n",
    "print(dim(PL_4))\n",
    "print(PL_4[1:5,(ncol(PL_4)-5):ncol(PL_4)])"
   ]
  },
  {
   "cell_type": "code",
   "execution_count": 27,
   "metadata": {},
   "outputs": [],
   "source": [
    "%%R\n",
    "#converts pl to mpgl format\n",
    "mpgl_4 <- apply(PL_4, c(1,2), function(df) gsub(',',' ',df,fixed=TRUE))"
   ]
  },
  {
   "cell_type": "code",
   "execution_count": 28,
   "metadata": {},
   "outputs": [
    {
     "name": "stdout",
     "output_type": "stream",
     "text": [
      "                                        V1\n",
      "1    0.150458,15.9607,21.8142,27.49,34.737\n",
      "2 0.127178,15.4366,35.8402,69.2723,268.736\n",
      "3    2.61834,4.96749,9.4069,17.1015,43.251\n",
      "4 0.135163,15.4984,26.2648,40.6905,108.081\n",
      "5     5.93821,4.71305,5.61953,8.80243,28.4\n",
      "                                         V2\n",
      "1     0.146678,16.1875,21.72,26.993,33.7245\n",
      "2   45.8179,0.663488,8.51544,30.469,186.959\n",
      "3  24.5822,0.969324,7.11379,26.5886,115.856\n",
      "4 0.00680269,28.0613,56.0783,100.01,367.986\n",
      "5   41.6976,6.26835,3.07722,5.66472,40.3514\n",
      "                                         V3\n",
      "1  0.144087,16.3471,21.6726,26.6825,33.0704\n",
      "2   0.20459,13.4619,30.2096,57.2541,217.197\n",
      "3   0.54769,9.27579,34.7382,80.2467,261.227\n",
      "4 0.00155976,34.449,71.0486,129.674,497.858\n",
      "5   2.08761,5.14476,11.4708,23.4574,96.1895\n",
      "                                        V4\n",
      "1 0.151819,15.8807,21.8558,27.6829,35.1204\n",
      "2  2.89675,5.66263,8.57395,12.2446,17.7555\n",
      "3  1.45556,6.14357,13.9856,27.4233,76.0823\n",
      "4 0.396639,11.9401,17.5535,23.1561,30.4054\n",
      "5  3.18795,4.33262,8.69953,17.8584,73.3413\n",
      "                                         V5\n",
      "1   0.0202582,23.4245,39.66,63.1236,204.033\n",
      "2   86.2854,2.17604,4.10371,22.6804,176.895\n",
      "3    1.8713,5.57811,11.7262,22.1843,59.3498\n",
      "4 0.0967679,16.8174,29.1964,46.4228,133.677\n",
      "5   9.07449,6.76326,5.97072,6.14376,7.70456\n",
      "     V1                                        \n",
      "[1,] \"0.150458 15.9607 21.8142 27.49 34.737\"   \n",
      "[2,] \"0.127178 15.4366 35.8402 69.2723 268.736\"\n",
      "[3,] \"2.61834 4.96749 9.4069 17.1015 43.251\"   \n",
      "[4,] \"0.135163 15.4984 26.2648 40.6905 108.081\"\n",
      "[5,] \"5.93821 4.71305 5.61953 8.80243 28.4\"    \n",
      "     V2                                         \n",
      "[1,] \"0.146678 16.1875 21.72 26.993 33.7245\"    \n",
      "[2,] \"45.8179 0.663488 8.51544 30.469 186.959\"  \n",
      "[3,] \"24.5822 0.969324 7.11379 26.5886 115.856\" \n",
      "[4,] \"0.00680269 28.0613 56.0783 100.01 367.986\"\n",
      "[5,] \"41.6976 6.26835 3.07722 5.66472 40.3514\"  \n",
      "     V3                                         \n",
      "[1,] \"0.144087 16.3471 21.6726 26.6825 33.0704\" \n",
      "[2,] \"0.20459 13.4619 30.2096 57.2541 217.197\"  \n",
      "[3,] \"0.54769 9.27579 34.7382 80.2467 261.227\"  \n",
      "[4,] \"0.00155976 34.449 71.0486 129.674 497.858\"\n",
      "[5,] \"2.08761 5.14476 11.4708 23.4574 96.1895\"  \n",
      "     V4                                        \n",
      "[1,] \"0.151819 15.8807 21.8558 27.6829 35.1204\"\n",
      "[2,] \"2.89675 5.66263 8.57395 12.2446 17.7555\" \n",
      "[3,] \"1.45556 6.14357 13.9856 27.4233 76.0823\" \n",
      "[4,] \"0.396639 11.9401 17.5535 23.1561 30.4054\"\n",
      "[5,] \"3.18795 4.33262 8.69953 17.8584 73.3413\" \n",
      "     V5                                         \n",
      "[1,] \"0.0202582 23.4245 39.66 63.1236 204.033\"  \n",
      "[2,] \"86.2854 2.17604 4.10371 22.6804 176.895\"  \n",
      "[3,] \"1.8713 5.57811 11.7262 22.1843 59.3498\"   \n",
      "[4,] \"0.0967679 16.8174 29.1964 46.4228 133.677\"\n",
      "[5,] \"9.07449 6.76326 5.97072 6.14376 7.70456\"  \n"
     ]
    }
   ],
   "source": [
    "%%R\n",
    "#check pl and mggl\n",
    "print(PL_4[1:5,1:5])\n",
    "print(mpgl_4[1:5,1:5])"
   ]
  },
  {
   "cell_type": "code",
   "execution_count": 29,
   "metadata": {},
   "outputs": [
    {
     "name": "stdout",
     "output_type": "stream",
     "text": [
      "[1] 17201   291\n"
     ]
    },
    {
     "name": "stderr",
     "output_type": "stream",
     "text": [
      "R[write to console]: x being coerced from class: matrix to data.table\n",
      "\n"
     ]
    }
   ],
   "source": [
    "%%R\n",
    "rownames(mpgl_4) <- rownames(mpgl_2)\n",
    "print(dim(mpgl_4))\n",
    "fwrite(mpgl_4,'mpgl_4.txt',quote=F,col.names = F,sep = ' ') "
   ]
  },
  {
   "cell_type": "code",
   "execution_count": 30,
   "metadata": {},
   "outputs": [
    {
     "name": "stdout",
     "output_type": "stream",
     "text": [
      "   user  system elapsed \n",
      "121.251   1.132 122.360 \n"
     ]
    }
   ],
   "source": [
    "%%R\n",
    "### pntest_mean ploidy###\n",
    "mean_pl <- function(GP){\n",
    "  gps <- as.numeric(unlist(strsplit(as.character(GP),split = ',')))\n",
    "  ploidy <- length(gps)-1\n",
    "  if (sum(gps) == 0){\n",
    "    mean <- 0\n",
    "  }else{\n",
    "    gps <- 10 ^ (gps/-10)\n",
    "    mean <- sum(gps*(0:ploidy))/sum(gps)\n",
    "    return(mean) \n",
    "  }\n",
    "}\n",
    "\n",
    "system.time(pntest_mean_4 <- apply(PL_4,1:2,mean_pl))"
   ]
  },
  {
   "cell_type": "code",
   "execution_count": 31,
   "metadata": {},
   "outputs": [
    {
     "name": "stdout",
     "output_type": "stream",
     "text": [
      "[1] 17201   291\n"
     ]
    },
    {
     "name": "stderr",
     "output_type": "stream",
     "text": [
      "R[write to console]: x being coerced from class: matrix to data.table\n",
      "\n"
     ]
    }
   ],
   "source": [
    "%%R \n",
    "rownames(pntest_mean_4) <- rownames(mpgl_2)\n",
    "print(dim(pntest_mean_4))\n",
    "\n",
    "fwrite(pntest_mean_4,'pntest_mean_4.txt',quote=F,sep = ' ')"
   ]
  },
  {
   "cell_type": "code",
   "execution_count": 32,
   "metadata": {},
   "outputs": [
    {
     "name": "stdout",
     "output_type": "stream",
     "text": [
      "               V1           V2           V3           V4           V5\n",
      "[1,] 3.338874e-13 7.461051e-13 1.295388e-13 1.056088e-33 7.580537e-34\n",
      "[2,] 4.000000e+00 4.000000e+00 4.000000e+00 4.000000e+00 4.000000e+00\n",
      "               V6          V7           V8           V9          V10\n",
      "[1,] 1.827259e-13 3.19595e-33 1.838654e-33 3.021343e-15 1.531087e-19\n",
      "[2,] 4.000000e+00 4.00000e+00 4.000000e+00 4.000000e+00 4.000000e+00\n",
      "              V11          V12          V13          V14          V15\n",
      "[1,] 7.996501e-32 3.254123e-07 1.970607e-26 7.413102e-26 3.956508e-08\n",
      "[2,] 4.000000e+00 4.000000e+00 4.000000e+00 4.000000e+00 4.000000e+00\n",
      "              V16          V17          V18          V19          V20\n",
      "[1,] 4.523244e-07 3.253869e-18 3.155005e-26 3.658474e-28 6.891282e-15\n",
      "[2,] 4.000000e+00 4.000000e+00 4.000000e+00 4.000000e+00 4.000000e+00\n",
      "              V21          V22          V23          V24          V25\n",
      "[1,] 1.243083e-13 8.949525e-17 1.100779e-13 2.860882e-23 1.593309e-12\n",
      "[2,] 4.000000e+00 4.000000e+00 4.000000e+00 4.000000e+00 4.000000e+00\n",
      "              V26          V27          V28          V29          V30\n",
      "[1,] 6.230171e-21 9.560927e-17 3.913812e-16 8.949525e-33 2.001705e-14\n",
      "[2,] 4.000000e+00 4.000000e+00 4.000000e+00 4.000000e+00 4.000000e+00\n",
      "              V31          V32          V33          V34          V35\n",
      "[1,] 1.220676e-08 7.254375e-15 3.141955e-14 6.505789e-33 9.711806e-23\n",
      "[2,] 4.000000e+00 4.000000e+00 4.000000e+00 4.000000e+00 4.000000e+00\n",
      "              V36         V37          V38          V39          V40\n",
      "[1,] 6.514784e-33 1.23197e-13 6.382635e-33 1.438799e-32 1.787722e-22\n",
      "[2,] 4.000000e+00 4.00000e+00 4.000000e+00 4.000000e+00 4.000000e+00\n",
      "              V41          V42          V43          V44          V45\n",
      "[1,] 3.861002e-11 5.302736e-11 5.217951e-17 1.241652e-12 4.588809e-14\n",
      "[2,] 4.000000e+00 4.000000e+00 4.000000e+00 4.000000e+00 3.999999e+00\n",
      "              V46          V47          V48          V49          V50\n",
      "[1,] 9.019864e-12 3.193743e-12 2.307278e-19 5.655878e-14 3.831775e-19\n",
      "[2,] 4.000000e+00 4.000000e+00 4.000000e+00 4.000000e+00 4.000000e+00\n",
      "              V51          V52          V53          V54          V55\n",
      "[1,] 1.016951e-15 5.134522e-14 2.143878e-18 1.657296e-33 7.379212e-10\n",
      "[2,] 4.000000e+00 4.000000e+00 4.000000e+00 4.000000e+00 4.000000e+00\n",
      "              V56          V57          V58          V59        V60\n",
      "[1,] 1.343136e-09 1.693558e-11 1.325777e-10 1.636063e-14 8.0089e-08\n",
      "[2,] 4.000000e+00 4.000000e+00 4.000000e+00 4.000000e+00 4.0000e+00\n",
      "              V61          V62          V63          V64          V65\n",
      "[1,] 3.394689e-15 2.463769e-15 4.428942e-14 1.216466e-22 1.605462e-21\n",
      "[2,] 4.000000e+00 4.000000e+00 4.000000e+00 4.000000e+00 4.000000e+00\n",
      "              V66          V67          V68          V69          V70\n",
      "[1,] 4.086956e-33 3.948208e-29 1.391554e-19 8.907791e-08 6.407668e-17\n",
      "[2,] 4.000000e+00 4.000000e+00 4.000000e+00 4.000000e+00 4.000000e+00\n",
      "              V71          V72          V73          V74          V75\n",
      "[1,] 9.547727e-33 1.140775e-31 1.061207e-28 9.109615e-26 1.217026e-29\n",
      "[2,] 4.000000e+00 4.000000e+00 4.000000e+00 4.000000e+00 4.000000e+00\n",
      "              V76          V77          V78          V79          V80\n",
      "[1,] 6.540181e-07 7.063176e-33 3.873522e-08 3.326596e-32 3.780942e-26\n",
      "[2,] 4.000000e+00 4.000000e+00 3.999999e+00 4.000000e+00 4.000000e+00\n",
      "              V81          V82          V83          V84          V85\n",
      "[1,] 2.423818e-28 3.396253e-32 9.289664e-31 2.286125e-18 3.846272e-09\n",
      "[2,] 4.000000e+00 4.000000e+00 4.000000e+00 4.000000e+00 4.000000e+00\n",
      "              V86          V87          V88          V89          V90\n",
      "[1,] 2.171701e-30 1.368989e-32 2.224334e-32 6.658862e-22 7.443891e-31\n",
      "[2,] 4.000000e+00 4.000000e+00 4.000000e+00 4.000000e+00 4.000000e+00\n",
      "             V91          V92          V93          V94          V95\n",
      "[1,] 2.39497e-21 1.640212e-33 4.030881e-33 2.851675e-33 1.234241e-25\n",
      "[2,] 4.00000e+00 4.000000e+00 4.000000e+00 4.000000e+00 4.000000e+00\n",
      "              V96          V97          V98         V99         V100\n",
      "[1,] 8.518511e-09 3.149923e-11 1.665329e-14 2.13501e-33 2.115017e-08\n",
      "[2,] 4.000000e+00 4.000000e+00 4.000000e+00 4.00000e+00 4.000000e+00\n",
      "            V101         V102         V103         V104         V105\n",
      "[1,] 1.18198e-10 4.015914e-08 9.709346e-10 2.225974e-10 4.895533e-16\n",
      "[2,] 4.00000e+00 4.000000e+00 4.000000e+00 4.000000e+00 4.000000e+00\n",
      "             V106         V107         V108         V109        V110\n",
      "[1,] 1.790853e-09 6.250931e-08 2.750426e-15 9.253372e-13 5.22998e-11\n",
      "[2,] 4.000000e+00 4.000000e+00 4.000000e+00 4.000000e+00 4.00000e+00\n",
      "             V111         V112         V113         V114         V115\n",
      "[1,] 4.679506e-18 2.007705e-19 3.919223e-13 1.255047e-10 5.803634e-25\n",
      "[2,] 4.000000e+00 4.000000e+00 4.000000e+00 3.999998e+00 4.000000e+00\n",
      "            V116         V117         V118         V119         V120\n",
      "[1,] 2.57395e-11 2.967563e-17 1.657296e-16 3.256867e-25 1.221237e-30\n",
      "[2,] 4.00000e+00 3.999999e+00 4.000000e+00 3.999999e+00 3.999999e+00\n",
      "             V121         V122         V123         V124         V125\n",
      "[1,] 3.703395e-24 1.619944e-11 2.963466e-15 7.511039e-14 2.786185e-09\n",
      "[2,] 4.000000e+00 4.000000e+00 4.000000e+00 4.000000e+00 3.999999e+00\n",
      "             V126         V127         V128         V129         V130\n",
      "[1,] 2.941846e-10 5.534775e-21 1.524053e-16 2.052721e-10 2.908037e-13\n",
      "[2,] 4.000000e+00 4.000000e+00 3.999999e+00 4.000000e+00 4.000000e+00\n",
      "             V131         V132         V133         V134         V135\n",
      "[1,] 6.845261e-10 1.780328e-11 3.614764e-09 2.413237e-14 1.773373e-12\n",
      "[2,] 4.000000e+00 4.000000e+00 4.000000e+00 4.000000e+00 4.000000e+00\n",
      "           V136         V137         V138         V139         V140\n",
      "[1,] 1.0325e-09 2.531629e-11 2.509574e-16 1.005079e-12 1.354753e-07\n",
      "[2,] 4.0000e+00 4.000000e+00 4.000000e+00 4.000000e+00 4.000000e+00\n",
      "             V141         V142         V143         V144         V145\n",
      "[1,] 1.299870e-11 1.856094e-18 4.599387e-14 2.800915e-11 6.495312e-11\n",
      "[2,] 3.999999e+00 4.000000e+00 4.000000e+00 4.000000e+00 4.000000e+00\n",
      "            V146         V147         V148         V149         V150\n",
      "[1,] 4.16198e-11 5.959365e-12 2.458669e-11 1.245948e-19 1.248245e-32\n",
      "[2,] 4.00000e+00 4.000000e+00 4.000000e+00 4.000000e+00 3.999999e+00\n",
      "             V151         V152         V153        V154         V155\n",
      "[1,] 1.482518e-13 1.210096e-10 2.298688e-10 7.67809e-08 1.033713e-18\n",
      "[2,] 4.000000e+00 4.000000e+00 4.000000e+00 4.00000e+00 4.000000e+00\n",
      "             V156        V157         V158         V159         V160\n",
      "[1,] 1.707497e-10 6.16879e-09 1.515654e-12 2.087373e-11 1.113269e-17\n",
      "[2,] 4.000000e+00 4.00000e+00 4.000000e+00 4.000000e+00 4.000000e+00\n",
      "             V161         V162        V163         V164         V165\n",
      "[1,] 4.097321e-22 4.857357e-32 7.19449e-30 7.056673e-18 2.836612e-13\n",
      "[2,] 4.000000e+00 4.000000e+00 4.00000e+00 4.000000e+00 4.000000e+00\n",
      "             V166         V167         V168         V169         V170\n",
      "[1,] 1.237656e-18 1.795271e-10 6.018801e-08 1.941467e-08 2.280237e-10\n",
      "[2,] 4.000000e+00 4.000000e+00 4.000000e+00 4.000000e+00 4.000000e+00\n",
      "             V171         V172         V173         V174         V175\n",
      "[1,] 1.524053e-13 5.696525e-10 3.889199e-08 3.596665e-09 4.784900e-08\n",
      "[2,] 4.000000e+00 4.000000e+00 4.000000e+00 4.000000e+00 3.999999e+00\n",
      "             V176         V177         V178         V179         V180\n",
      "[1,] 2.668149e-08 4.725089e-10 2.293507e-13 9.445022e-09 1.510428e-15\n",
      "[2,] 4.000000e+00 4.000000e+00 4.000000e+00 4.000000e+00 4.000000e+00\n",
      "             V181         V182         V183         V184         V185\n",
      "[1,] 4.152408e-29 9.395037e-08 1.077209e-18 2.837135e-08 2.535537e-09\n",
      "[2,] 4.000000e+00 4.000000e+00 4.000000e+00 4.000000e+00 4.000000e+00\n",
      "             V186         V187         V188         V189         V190\n",
      "[1,] 9.320732e-09 2.171006e-08 3.310015e-10 3.287759e-30 1.225745e-13\n",
      "[2,] 4.000000e+00 4.000000e+00 4.000000e+00 4.000000e+00 4.000000e+00\n",
      "             V191         V192         V193         V194         V195\n",
      "[1,] 1.940528e-09 4.625233e-07 1.378479e-33 1.814262e-33 7.045308e-21\n",
      "[2,] 4.000000e+00 3.999999e+00 4.000000e+00 4.000000e+00 3.999999e+00\n",
      "             V196         V197         V198         V199         V200\n",
      "[1,] 1.371829e-33 8.279422e-11 1.764818e-32 9.831052e-34 1.231119e-33\n",
      "[2,] 4.000000e+00 4.000000e+00 4.000000e+00 4.000000e+00 4.000000e+00\n",
      "             V201         V202         V203         V204         V205\n",
      "[1,] 1.706475e-33 1.049784e-33 2.061104e-33 1.168423e-31 2.029551e-33\n",
      "[2,] 4.000000e+00 4.000000e+00 4.000000e+00 4.000000e+00 4.000000e+00\n",
      "             V206         V207         V208         V209         V210\n",
      "[1,] 1.713563e-33 9.536741e-34 1.824316e-33 2.306747e-33 1.460158e-33\n",
      "[2,] 4.000000e+00 4.000000e+00 4.000000e+00 4.000000e+00 4.000000e+00\n",
      "             V211         V212         V213         V214         V215\n",
      "[1,] 2.949171e-20 3.075389e-22 4.440174e-20 3.999447e-20 5.557763e-17\n",
      "[2,] 4.000000e+00 4.000000e+00 4.000000e+00 4.000000e+00 4.000000e+00\n",
      "            V216         V217         V218        V219         V220\n",
      "[1,] 2.92146e-14 4.510244e-11 8.118952e-14 1.00995e-14 7.380742e-16\n",
      "[2,] 4.00000e+00 4.000000e+00 4.000000e+00 4.00000e+00 4.000000e+00\n",
      "             V221         V222         V223         V224         V225\n",
      "[1,] 3.414287e-18 1.584784e-09 2.252946e-10 1.046165e-19 4.166775e-16\n",
      "[2,] 4.000000e+00 4.000000e+00 4.000000e+00 4.000000e+00 4.000000e+00\n",
      "             V226         V227         V228         V229         V230\n",
      "[1,] 1.402168e-11 8.568405e-16 2.575135e-13 6.351847e-17 4.785199e-14\n",
      "[2,] 4.000000e+00 4.000000e+00 4.000000e+00 4.000000e+00 4.000000e+00\n",
      "             V231         V232         V233         V234         V235\n",
      "[1,] 9.647172e-13 5.815673e-13 1.633052e-20 9.587381e-15 1.023293e-11\n",
      "[2,] 4.000000e+00 4.000000e+00 4.000000e+00 4.000000e+00 4.000000e+00\n",
      "             V236        V237         V238         V239         V240\n",
      "[1,] 5.319858e-11 4.14219e-08 6.889695e-33 7.504124e-33 2.791965e-08\n",
      "[2,] 4.000000e+00 4.00000e+00 4.000000e+00 4.000000e+00 4.000000e+00\n",
      "             V241         V242         V243        V244         V245\n",
      "[1,] 4.999539e-10 3.544867e-12 3.094219e-09 1.69404e-08 5.758377e-11\n",
      "[2,] 3.999999e+00 4.000000e+00 4.000000e+00 4.00000e+00 4.000000e+00\n",
      "             V246         V247         V248         V249         V250\n",
      "[1,] 1.780328e-33 1.715932e-33 1.745018e-33 5.015336e-22 1.239938e-12\n",
      "[2,] 4.000000e+00 4.000000e+00 4.000000e+00 4.000000e+00 4.000000e+00\n",
      "             V251         V252         V253       V254         V255\n",
      "[1,] 1.273503e-13 7.242692e-19 4.660151e-17 1.3277e-33 1.226309e-33\n",
      "[2,] 4.000000e+00 4.000000e+00 4.000000e+00 4.0000e+00 4.000000e+00\n",
      "             V256         V257         V258         V259         V260\n",
      "[1,] 9.624984e-24 1.373409e-32 7.264404e-35 1.418404e-28 2.512465e-20\n",
      "[2,] 4.000000e+00 4.000000e+00 4.000000e+00 4.000000e+00 4.000000e+00\n",
      "             V261         V262         V263         V264        V265\n",
      "[1,] 1.296881e-28 1.739803e-27 1.041838e-25 2.294035e-18 1.36962e-33\n",
      "[2,] 4.000000e+00 4.000000e+00 4.000000e+00 4.000000e+00 4.00000e+00\n",
      "             V266         V267         V268         V269         V270\n",
      "[1,] 5.963483e-17 2.958694e-12 4.521682e-14 1.496615e-10 1.587726e-09\n",
      "[2,] 4.000000e+00 4.000000e+00 4.000000e+00 4.000000e+00 4.000000e+00\n",
      "             V271         V272         V273         V274         V275\n",
      "[1,] 1.814304e-09 6.788909e-13 2.963466e-09 9.094943e-33 1.469636e-06\n",
      "[2,] 3.999999e+00 4.000000e+00 4.000000e+00 4.000000e+00 4.000000e+00\n",
      "             V276         V277         V278         V279         V280\n",
      "[1,] 5.262597e-11 2.558001e-10 4.870797e-15 6.640488e-33 6.112234e-33\n",
      "[2,] 4.000000e+00 4.000000e+00 4.000000e+00 4.000000e+00 4.000000e+00\n",
      "             V281         V282         V283         V284         V285\n",
      "[1,] 6.394403e-33 7.989139e-12 6.110546e-09 1.162787e-13 1.266952e-10\n",
      "[2,] 4.000000e+00 4.000000e+00 4.000000e+00 4.000000e+00 4.000000e+00\n",
      "             V286         V287         V288         V289         V290\n",
      "[1,] 2.006319e-14 2.026749e-30 3.640659e-08 4.002119e-10 3.315889e-14\n",
      "[2,] 4.000000e+00 4.000000e+00 4.000000e+00 4.000000e+00 4.000000e+00\n",
      "             V291\n",
      "[1,] 1.378479e-13\n",
      "[2,] 4.000000e+00\n"
     ]
    }
   ],
   "source": [
    "%%R\n",
    "#make sure ploidy makes sense\n",
    "print(apply(pntest_mean_4,2,function(df) range(df, na.rm=TRUE)))"
   ]
  },
  {
   "cell_type": "code",
   "execution_count": 33,
   "metadata": {},
   "outputs": [
    {
     "name": "stdout",
     "output_type": "stream",
     "text": [
      "[1] 17201   291\n",
      "                           V1          V2           V3         V4          V5\n",
      "CM042338.1:1496841 0.04520895 0.045209167 0.0452089686 0.04520878 0.004762917\n",
      "CM042338.1:1942811 0.02911985 1.142521513 0.0469733411 0.79520477 1.399501901\n",
      "CM042338.1:6353755 0.60653375 1.195271691 0.1188183140 0.32833621 0.429364844\n",
      "CM042338.1:7214312 0.03317674 0.001567614 0.0003591617 0.11725048 0.023284305\n",
      "CM042338.1:8063221 1.28723926 2.035260471 0.4619376125 0.68769952 2.124094297\n"
     ]
    }
   ],
   "source": [
    "%%R\n",
    "print(dim(pntest_mean_4))\n",
    "print(pntest_mean_4[1:5,1:5])"
   ]
  },
  {
   "cell_type": "markdown",
   "metadata": {},
   "source": [
    "## merge needed diploids and tetraploids to make new files "
   ]
  },
  {
   "cell_type": "code",
   "execution_count": 35,
   "metadata": {},
   "outputs": [],
   "source": [
    "%%R\n",
    "Pop_ID_OG <- read.csv('Pop_ID.csv')\n",
    "Pop_ID_4 <- read.csv('Pop_ID_4.csv')\n",
    "\n",
    "pntest_mean_2 <- data.frame(fread('pntest_mean_diploidAll.txt'))\n",
    "mpgl_2 <- data.frame(fread('mpgl_diploidAll.txt',header=FALSE),row.names=1)\n",
    "\n",
    "pntest_mean_4 <- data.frame(fread('pntest_mean_4.txt'))\n",
    "mpgl_4 <- data.frame(fread('mpgl_4.txt',header=FALSE))\n"
   ]
  },
  {
   "cell_type": "code",
   "execution_count": 36,
   "metadata": {},
   "outputs": [
    {
     "name": "stdout",
     "output_type": "stream",
     "text": [
      "[1] 690   6\n",
      "[1] 17201   690\n",
      "[1] 17201  2070\n",
      "[1] 291   6\n",
      "[1] 17201   291\n",
      "[1] 17201  1455\n"
     ]
    }
   ],
   "source": [
    "%%R\n",
    "print(dim(Pop_ID_OG))\n",
    "print(dim(pntest_mean_2))\n",
    "print(dim(mpgl_2))\n",
    "\n",
    "print(dim(Pop_ID_4))\n",
    "print(dim(pntest_mean_4))\n",
    "print(dim(mpgl_4))"
   ]
  },
  {
   "cell_type": "code",
   "execution_count": 37,
   "metadata": {},
   "outputs": [],
   "source": [
    "%%R\n",
    "#extract only diploids for mpgl \n",
    "#first make a header for mpgl_2 so can select the right indv\n",
    "names3 <- rep(Pop_ID_OG$All,each=3)\n",
    "names(mpgl_2) <- names3\n",
    "only2_names <- Pop_ID_OG$All[which(Pop_ID_OG$Ploidy == 2)]\n",
    "index_mpgl2 <- which(names(mpgl_2) %in% only2_names)\n",
    "mpgl_2only <- mpgl_2[,index_mpgl2]\n",
    "\n",
    "#only diploids for rest\n",
    "pntest_mean_2only <- pntest_mean_2[,which(Pop_ID_OG$Ploidy == 2)]\n",
    "Pop_ID_2only <- Pop_ID_OG[which(Pop_ID_OG$Ploidy == 2),]"
   ]
  },
  {
   "cell_type": "code",
   "execution_count": 38,
   "metadata": {},
   "outputs": [
    {
     "name": "stdout",
     "output_type": "stream",
     "text": [
      "[1] 399   6\n",
      "[1] 17201   399\n",
      "[1] 17201  1197\n"
     ]
    }
   ],
   "source": [
    "%%R\n",
    "print(dim(Pop_ID_2only))\n",
    "print(dim(pntest_mean_2only))\n",
    "print(dim(mpgl_2only))"
   ]
  },
  {
   "cell_type": "code",
   "execution_count": 39,
   "metadata": {},
   "outputs": [],
   "source": [
    "%%R\n",
    "\n",
    "pntest_mean_ebgAll <- cbind(pntest_mean_2only,pntest_mean_4)\n",
    "mpgl_ebgAll <- cbind(mpgl_2only,mpgl_4)\n",
    "Pop_ID_ebgAll <- rbind(Pop_ID_2only,Pop_ID_4)\n"
   ]
  },
  {
   "cell_type": "code",
   "execution_count": 40,
   "metadata": {},
   "outputs": [
    {
     "name": "stdout",
     "output_type": "stream",
     "text": [
      "[1] 690   6\n",
      "[1] 17201   690\n",
      "[1] 17201  2652\n",
      "[1] 2652\n"
     ]
    }
   ],
   "source": [
    "%%R\n",
    "print(dim(Pop_ID_ebgAll))\n",
    "print(dim(pntest_mean_ebgAll))\n",
    "print(dim(mpgl_ebgAll))\n",
    "\n",
    "#test right dim for mpgl\n",
    "print((nrow(Pop_ID_2only)*3) + (nrow(Pop_ID_4)*5))"
   ]
  },
  {
   "cell_type": "code",
   "execution_count": 54,
   "metadata": {},
   "outputs": [
    {
     "name": "stdout",
     "output_type": "stream",
     "text": [
      "       V1      V2      V3      V4      V5\n",
      "1      NA 0.33408 0.11182 0.01560 0.00397\n",
      "2      NA      NA      NA      NA 0.00199\n",
      "3 0.96935 0.11182 0.99999 0.99373 0.99999\n",
      "4 0.03065 0.11182      NA      NA      NA\n",
      "5 1.88818 1.88818      NA 1.66586 0.00397\n"
     ]
    }
   ],
   "source": [
    "%%R\n",
    "print(pntest_mean_ebgAll[1:5,1:5])"
   ]
  },
  {
   "cell_type": "code",
   "execution_count": 42,
   "metadata": {},
   "outputs": [
    {
     "name": "stdout",
     "output_type": "stream",
     "text": [
      " [1] \"CM042338.1:1496841\" \"CM042338.1:1942811\" \"CM042338.1:6353755\"\n",
      " [4] \"CM042338.1:7214312\" \"CM042338.1:8063221\" \"CM042338.1:8177835\"\n",
      " [7] \"CM042338.1:8530959\" \"CM042338.1:8548932\" \"CM042338.1:8655617\"\n",
      "[10] \"CM042338.1:8690402\"\n"
     ]
    }
   ],
   "source": [
    "%%R\n",
    "print(rownames(mpgl_2)[1:10])\n",
    "rownames(mpgl_ebgAll) <- rownames(mpgl_2)\n"
   ]
  },
  {
   "cell_type": "code",
   "execution_count": 55,
   "metadata": {},
   "outputs": [],
   "source": [
    "%%R\n",
    "rownames(mpgl_ebgAll) <- rownames(mpgl_2)\n",
    "fwrite(mpgl_ebgAll,'mpgl_ebgAll.txt',quote=F,col.names = F,row.names=TRUE,sep = ' ') \n",
    "#change pntest NAs to 0 \n",
    "fwrite(pntest_mean_ebgAll,'pntest_mean_ebgAll.txt',na=0,col.names = F,sep = ' ') \n",
    "write.csv(Pop_ID_ebgAll,'Pop_ID_ebgAll.csv',row.names=F)"
   ]
  },
  {
   "cell_type": "markdown",
   "metadata": {},
   "source": [
    "## Create ldak files in R: standardize by ploidy! \n",
    "\n",
    "see mixed_ploidy_PCA.Rmd"
   ]
  },
  {
   "cell_type": "code",
   "execution_count": 56,
   "metadata": {},
   "outputs": [
    {
     "name": "stdout",
     "output_type": "stream",
     "text": [
      "[1] 0\n",
      "[1]   690 17201\n",
      "      [,1]    [,2]    [,3]    [,4]    [,5]\n",
      "V1 0.00000 0.00000 0.96935 0.03065 1.88818\n",
      "V2 0.33408 0.00000 0.11182 0.11182 1.88818\n",
      "V3 0.11182 0.00000 0.99999 0.00000 0.00000\n",
      "V4 0.01560 0.00000 0.99373 0.00000 1.66586\n",
      "V5 0.00397 0.00199 0.99999 0.00000 0.00397\n"
     ]
    }
   ],
   "source": [
    "%%R\n",
    "#read in data \n",
    "Pop_ID <- read.csv(\"Pop_ID_ebgAll.csv\")\n",
    "pntest_mean <- fread(\"pntest_mean_ebgAll.txt\",header=F, data.table=F)\n",
    "\n",
    "g <- t(pntest_mean)\n",
    "\n",
    "###make sure all NA to 0 \n",
    "#g[is.na(g)]<-0\n",
    "print(length(which(is.na(g))))\n",
    "print(dim(g))\n",
    "g[1:5,1:5]"
   ]
  },
  {
   "cell_type": "code",
   "execution_count": 57,
   "metadata": {},
   "outputs": [],
   "source": [
    "%%R\n",
    "#### create pl_list ####\n",
    "\n",
    "pl_list <- Pop_ID$Ploidy\n",
    "\n",
    "#### get stats on g and ploidy ####\n",
    "\n",
    "nind <- nrow(g)\n",
    "nloci <- ncol(g)\n",
    "n2_index <- which(pl_list == 2)\n",
    "n4_index <- which(pl_list == 4)\n",
    "\n",
    "#### check distributions  / range ###\n",
    "g2 <- g[n2_index,]\n",
    "g4 <- g[n4_index,]"
   ]
  },
  {
   "cell_type": "code",
   "execution_count": 58,
   "metadata": {},
   "outputs": [
    {
     "data": {
      "image/png": "[encoded data removed]"
     },
     "metadata": {},
     "output_type": "display_data"
    },
    {
     "data": {
      "image/png": "[encoded data removed]"
     },
     "metadata": {},
     "output_type": "display_data"
    }
   ],
   "source": [
    "%%R\n",
    "hist(as.vector(as.matrix(g2[,1:100])))\n",
    "hist(as.vector(as.matrix(g4[,1:100])))"
   ]
  },
  {
   "cell_type": "code",
   "execution_count": 59,
   "metadata": {},
   "outputs": [
    {
     "name": "stdout",
     "output_type": "stream",
     "text": [
      "                           PC1     PC2     PC3     PC4     PC5\n",
      "Proportion of Variance 0.03627 0.01420 0.01061 0.00850 0.00764\n",
      "Cumulative Proportion  0.03627 0.05047 0.06107 0.06958 0.07721\n"
     ]
    }
   ],
   "source": [
    "%%R\n",
    "g2 <- g[n2_index,]\n",
    "g4 <- g[n4_index,]\n",
    "g2_scale <- scale(g2)\n",
    "g4_scale <- scale(g4)\n",
    "\n",
    "g_z <- rbind(g2_scale,g4_scale)\n",
    "\n",
    "### if NAs\n",
    "g_z[is.na(g_z)] <- 0\n",
    "\n",
    "z_pca <- prcomp(as.matrix(g_z),scale. = F, center = F)\n",
    "pve <- summary(z_pca)$importance[2,1:5]\n",
    "print(summary(z_pca)$importance[2:3,1:5])\n",
    "\n",
    "pca_df <- cbind(rbind(Pop_ID[n2_index,],Pop_ID[n4_index,]),\n",
    "                  z_pca$x[,1:5])"
   ]
  },
  {
   "cell_type": "code",
   "execution_count": 61,
   "metadata": {},
   "outputs": [
    {
     "data": {
      "image/png": "[encoded data removed]"
     },
     "metadata": {},
     "output_type": "display_data"
    }
   ],
   "source": [
    "%%R\n",
    "col3 <- c(\"#899DA4\",\"#C93312\",\"#FAEFD1\")\n",
    "ggplot(data = pca_df, aes(x=PC1,y=PC2,fill=Sp,shape=as.character(Ploidy))) + \n",
    "  geom_point(colour='black',size = 4)+ #ggtitle(\"PCA ARTR all\") +\n",
    "  xlab(paste(\"PC\",1,\" (\",pve[1]*100,\"%)\",sep=\"\")) + ylab(paste(\"PC\",2,\" (\",pve[2]*100,\"%)\",sep=\"\"))  +\n",
    "  scale_fill_manual(name='Subspecies:',values = col3) +\n",
    "  scale_shape_manual(name='Ploidy:',values = c(21,24)) + \n",
    "  guides(fill = guide_legend(override.aes=list(pch=21))) +\n",
    "  theme_bw() + \n",
    "  theme(#legend.position = 'none',\n",
    "    axis.text = element_text(size=11), \n",
    "    axis.title = element_text(size = 13, colour=\"black\",face = \"bold\",vjust = 1),\n",
    "    panel.border = element_rect(size = 1.5, colour = \"black\"),\n",
    "    panel.grid.major = element_blank(),\n",
    "    panel.grid.minor = element_blank())"
   ]
  },
  {
   "cell_type": "code",
   "execution_count": 62,
   "metadata": {},
   "outputs": [],
   "source": [
    "%%R\n",
    "#######################################################################################\n",
    "                                    #### LDA ####\n",
    "#######################################################################################\n",
    "\n",
    "k2<-kmeans(z_pca$x[,1:5],2,iter.max=10,nstart=10,algorithm=\"Hartigan-Wong\")\n",
    "k3<-kmeans(z_pca$x[,1:5],3,iter.max=10,nstart=10,algorithm=\"Hartigan-Wong\")\n",
    "k4<-kmeans(z_pca$x[,1:5],4,iter.max=10,nstart=10,algorithm=\"Hartigan-Wong\")\n",
    "k5<-kmeans(z_pca$x[,1:5],5,iter.max=10,nstart=10,algorithm=\"Hartigan-Wong\")\n",
    "k6<-kmeans(z_pca$x[,1:5],6,iter.max=10,nstart=10,algorithm=\"Hartigan-Wong\")\n",
    "k7<-kmeans(z_pca$x[,1:5],7,iter.max=10,nstart=10,algorithm=\"Hartigan-Wong\")\n",
    "k8<-kmeans(z_pca$x[,1:5],8,iter.max=10,nstart=10,algorithm=\"Hartigan-Wong\")\n",
    "k9<-kmeans(z_pca$x[,1:5],9,iter.max=10,nstart=10,algorithm=\"Hartigan-Wong\")\n",
    "k10<-kmeans(z_pca$x[,1:5],10,iter.max=10,nstart=10,algorithm=\"Hartigan-Wong\")\n",
    "k11<-kmeans(z_pca$x[,1:5],11,iter.max=10,nstart=10,algorithm=\"Hartigan-Wong\")\n",
    "\n",
    "ldak2<-lda(x=z_pca$x[,1:5],grouping=k2$cluster,CV=TRUE)\n",
    "ldak3<-lda(x=z_pca$x[,1:5],grouping=k3$cluster,CV=TRUE)\n",
    "ldak4<-lda(x=z_pca$x[,1:5],grouping=k4$cluster,CV=TRUE)\n",
    "ldak5<-lda(x=z_pca$x[,1:5],grouping=k5$cluster,CV=TRUE)\n",
    "ldak6<-lda(x=z_pca$x[,1:5],grouping=k6$cluster,CV=TRUE)\n",
    "ldak7<-lda(x=z_pca$x[,1:5],grouping=k7$cluster,CV=TRUE)\n",
    "#ldak8<-lda(x=z_pca$x[,1:5],grouping=k8$cluster,CV=TRUE)\n",
    "#ldak9<-lda(x=z_pca$x[,1:5],grouping=k9$cluster,CV=TRUE)\n",
    "#ldak10<-lda(x=z_pca$x[,1:5],grouping=k10$cluster,CV=TRUE)\n",
    "#ldak11<-lda(x=z_pca$x[,1:5],grouping=k11$cluster,CV=TRUE)\n",
    "\n",
    "write.table(round(ldak2$posterior,5),file=\"ldak2.txt\",quote=F,row.names=F,col.names=F)\n",
    "write.table(round(ldak3$posterior,5),file=\"ldak3.txt\",quote=F,row.names=F,col.names=F)\n",
    "write.table(round(ldak4$posterior,5),file=\"ldak4.txt\",quote=F,row.names=F,col.names=F)\n",
    "write.table(round(ldak5$posterior,5),file=\"ldak5.txt\",quote=F,row.names=F,col.names=F)\n",
    "write.table(round(ldak6$posterior,5),file=\"ldak6.txt\",quote=F,row.names=F,col.names=F)                                      \n",
    "write.table(round(ldak7$posterior,5),file=\"ldak7.txt\",quote=F,row.names=F,col.names=F)\n",
    "#write.table(round(ldak8$posterior,5),file=\"ldak8.txt\",quote=F,row.names=F,col.names=F)\n",
    "#write.table(round(ldak9$posterior,5),file=\"ldak9.txt\",quote=F,row.names=F,col.names=F)\n",
    "#write.table(round(ldak10$posterior,5),file=\"ldak10.txt\",quote=F,row.names=F,col.names=F)\n",
    "#write.table(round(ldak11$posterior,5),file=\"ldak11.txt\",quote=F,row.names=F,col.names=F)\n"
   ]
  },
  {
   "cell_type": "code",
   "execution_count": 63,
   "metadata": {},
   "outputs": [],
   "source": [
    "%%R\n",
    "###### Create ploidy inds.txt ######\n",
    "ploidy_inds <- data.frame(Ploidy=Pop_ID$Ploidy)\n",
    "write.table(ploidy_inds,'ploidy_inds.txt',quote=F,row.names=F,col.names=F)"
   ]
  },
  {
   "cell_type": "code",
   "execution_count": 64,
   "metadata": {},
   "outputs": [
    {
     "name": "stdout",
     "output_type": "stream",
     "text": [
      "2\n",
      "2\n",
      "2\n",
      "2\n",
      "2\n",
      "2\n",
      "2\n",
      "2\n",
      "2\n",
      "2\n",
      "690 ploidy_inds.txt\n"
     ]
    }
   ],
   "source": [
    "!head ploidy_inds.txt\n",
    "!wc -l ploidy_inds.txt"
   ]
  },
  {
   "cell_type": "code",
   "execution_count": 65,
   "metadata": {},
   "outputs": [],
   "source": [
    "%%R\n",
    "######### create entropy header ####\n",
    "\n",
    "Pop_ID_list <- Pop_ID$All\n",
    "\n",
    "Header <- data.frame(dims = NA,Pop_ID_list)\n",
    "\n",
    "dim(pntest_mean)\n",
    "\n",
    "df <- t(Header)\n",
    "dims <- paste(dim(pntest_mean)[2],dim(pntest_mean)[1],sep = \" \")\n",
    "\n",
    "df[1,1] <- dims\n",
    "\n",
    "write.table(df,'entropy_header.txt',sep = \" \",na =\"\",\n",
    "            quote = FALSE,row.names = FALSE,col.names = FALSE)"
   ]
  },
  {
   "cell_type": "code",
   "execution_count": 66,
   "metadata": {},
   "outputs": [
    {
     "name": "stdout",
     "output_type": "stream",
     "text": [
      "690 17201                                                                                                                                                                                                                                                                                                                                                                                                                                                                                                                                                                                                                                                                                                                 \r\n",
      "AT2_BB_10 AT2_BB_11 AT2_BB_12 AT2_BB_13 AT2_BB_14 AT2_BB_15 AT2_BB_16 AT2_BB_17 AT2_BB_1 AT2_BB_2 AT2_BB_3 AT2_BB_4 AT2_BB_5 AT2_BB_6 AT2_BB_7 AT2_BB_8 AT2_BB_9 AT2_BC_17 AT2_BC_18 AT2_BC_19 AT2_BC_20 AT2_BC_21 AT2_BC_22 AT2_BC_23 AT2_BT_1 AT2_BT_2 AT2_BT_3 AT2_BT_4 AT2_BT_57 AT2_BT_58 AT2_BT_59 AT2_BT_5 AT2_BT_60 AT2_BT_61 AT2_BT_62 AT2_BT_63 AT2_BT_64 AT2_BT_6 AT2_BT_7 AT2_BW_1 AT2_BW_65 AT2_BW_66 AT2_BW_67 AT2_BW_68 AT2_BW_69 AT2_BW_70 AT2_BW_71 AT2_BW_72 AT2_CB_24 AT2_CB_25 AT2_CB_26 AT2_CB_27 AT2_CB_28 AT2_CB_29 AT2_CB_30 AT2_CB_31 AT2_CB_32 AT2_DK_16 AT2_DK_17 AT2_DK_18 AT2_DK_19 AT2_DK_20 AT2_DK_21 AT2_DK_22 AT2_DK_23 AT2_DK_24 AT2_DK_25 AT2_DK_26 AT2_DK_27 AT2_DK_28 AT2_DK_29 AT2_DK_30 AT2_DT_10 AT2_DT_11 AT2_DT_12 AT2_DT_13 AT2_DT_14 AT2_DT_15 AT2_DT_1 AT2_DT_2 AT2_DT_3 AT2_DT_4 AT2_DT_5 AT2_DT_6 AT2_DT_7 AT2_DT_8 AT2_DT_9 AT2_EC_45 AT2_EC_46 AT2_EC_47 AT2_EC_48 AT2_EC_49 AT2_EC_50 AT2_EC_51 AT2_EC_52 AT2_EC_53 AT2_EW_31 AT2_EW_32 AT2_EW_33 AT2_EW_34 AT2_EW_35 AT2_EW_36 AT2_EW_37 AT2_EW_39 AT2_EW_40 AT2_HC_1 AT2_HC_2 AT2_HC_3 AT2_HC_4 AT2_HC_5 AT2_HC_6 AT2_HC_7 AT2_HC_8 AT2_JV_1 AT2_JV_2 AT2_JV_37 AT2_JV_38 AT2_JV_39 AT2_JV_3 AT2_JV_40 AT2_JV_41 AT2_JV_42 AT2_JV_43 AT2_JV_44 AT2_JV_4 AT2_JV_5 AT2_JV_6 AT2_JV_7 AT2_KN_80 AT2_KN_81 AT2_KN_82 AT2_KN_83 AT2_KN_84 AT2_KN_85 AT2_KN_86 AT2_KN_87 AT2_KN_88 AT2_KN_89 AT2_KN_90 AT2_KN_91 AT2_KN_92 AT2_KN_93 AT2_KN_94 AT2_LB_1 AT2_LB_2 AT2_LB_3 AT2_LB_4 AT2_LB_5 AT2_LB_6 AT2_LB_7 AT2_LB_8 AT2_LB_9 AT2_LN_1 AT2_LN_2 AT2_LN_3 AT2_LN_4 AT2_LN_5 AT2_LN_6 AT2_LN_95 AT2_LN_96 AT2_LN_98 AT2_OC_15 AT2_OC_16 AT2_OC_2 AT2_OC_3 AT2_OC_4 AT2_OC_5 AT2_OC_6 AT2_OC_7 AT2_OC_8 AT2_OT_11 AT2_OT_12 AT2_OT_13 AT2_OT_14 AT2_OT_5 AT2_OT_6 AT2_OT_7 AT2_OT_8 AT2_OT_9 AT2_RB_100 AT2_RB_101 AT2_RB_102 AT2_RB_103 AT2_RB_104 AT2_RB_105 AT2_RB_106 AT2_RB_107 AT2_RB_108 AT2_RB_1 AT2_RB_3 AT2_RB_4 AT2_RB_5 AT2_RB_6 AT2_RB_7 AT2_RB_99 AT2_RK_1 AT2_RK_2 AT2_RK_3 AT2_RK_4 AT2_RK_5 AT2_RK_6 AT2_RK_7 AT2_SS_10 AT2_SS_1 AT2_SS_2 AT2_SS_3 AT2_SS_4 AT2_SS_5 AT2_SS_6 AT2_SS_7 AT2_VM_10 AT2_VM_1 AT2_VM_2 AT2_VM_3 AT2_VM_4 AT2_VM_5 AT2_VM_6 AT2_VM_7 AT2_VM_8 AT2_VM_9 AT2_YB_1 AT2_YB_2 AT2_YB_73 AT2_YB_74 AT2_YB_75 AT2_YB_76 AT2_YB_77 AT2_YB_78 AT2_YB_79 AV2_AN_1 AV2_AN_2 AV2_AN_3 AV2_AN_4 AV2_AN_5 AV2_AN_6 AV2_AN_7 AV2_AN_8 AV2_AS_61 AV2_AS_62 AV2_AS_63 AV2_AS_64 AV2_AS_65 AV2_AS_66 AV2_AS_67 AV2_AS_68 AV2_AS_69 AV2_AS_70 AV2_AS_71 AV2_AS_72 AV2_AS_73 AV2_AS_74 AV2_AS_75 AV2_BM_76 AV2_BM_77 AV2_BM_78 AV2_BM_79 AV2_BM_80 AV2_BM_81 AV2_BM_82 AV2_BM_83 AV2_BM_84 AV2_BM_85 AV2_BM_86 AV2_BM_87 AV2_BM_88 AV2_BM_89 AV2_BM_90 AV2_CC_134 AV2_CC_135 AV2_CC_136 AV2_CC_137 AV2_CC_138 AV2_CC_139 AV2_CC_140 AV2_CC_141 AV2_CC_1 AV2_CC_2 AV2_CC_3 AV2_CC_4 AV2_CC_5 AV2_CC_6 AV2_CC_7 AV2_CV_157 AV2_CV_158 AV2_CV_159 AV2_CV_160 AV2_CV_161 AV2_CV_162 AV2_CV_163 AV2_CV_164 AV2_CV_165 AV2_CV_166 AV2_CV_1 AV2_CV_2 AV2_CV_3 AV2_CV_4 AV2_CV_5 AV2_CV_6 AV2_CV_7 AV2_FP_1 AV2_FP_2 AV2_FP_3 AV2_FP_4 AV2_FP_5 AV2_FP_6 AV2_FP_7 AV2_GC_1 AV2_GC_2 AV2_GC_3 AV2_GC_4 AV2_GC_5 AV2_GC_6 AV2_GC_7 AV2_GC_8 AV2_GC_9 AV2_LV_100 AV2_LV_101 AV2_LV_102 AV2_LV_103 AV2_LV_104 AV2_LV_105 AV2_LV_91 AV2_LV_92 AV2_LV_93 AV2_LV_94 AV2_LV_95 AV2_LV_96 AV2_LV_97 AV2_LV_98 AV2_LV_99 AV2_NV_2 AV2_NV_3 AV2_NV_4 AV2_NV_5 AV2_NV_6 AV2_NV_7 AV2_NV_8 AV2_NV_9 AV2_PL_10 AV2_PL_1 AV2_PL_2 AV2_PL_3 AV2_PL_4 AV2_PL_5 AV2_PL_6 AV2_PL_7 AV2_PL_8 AV2_PL_9 AV2_PR_10 AV2_PR_2 AV2_PR_3 AV2_PR_4 AV2_PR_5 AV2_PR_6 AV2_PR_7 AV2_PR_8 AV2_PR_9 AV2_PT_10 AV2_PT_1 AV2_PT_2 AV2_PT_3 AV2_PT_4 AV2_PT_5 AV2_PT_6 AV2_PT_7 AV2_PT_8 AV2_PT_9 AV2_SN_125 AV2_SN_126 AV2_SN_127 AV2_SN_128 AV2_SN_129 AV2_SN_130 AV2_SN_131 AV2_SN_132 AV2_SN_133 AV2_SN_1 AV2_SN_2 AV2_SN_3 AV2_SN_4 AV2_SN_5 AV2_SN_6 AV2_SN_7 AV2_TF_150 AV2_TF_151 AV2_TF_152 AV2_TF_153 AV2_TF_154 AV2_TF_155 AV2_TF_156 AV2_UV_1 AV2_UV_2 AV2_UV_3 AV2_UV_4 AV2_UV_5 AV2_UV_6 AV2_UV_7 AV2_UV_8 AV2_UV_9 AT4_DS_10 AT4_DS_1 AT4_DS_2 AT4_DS_3 AT4_DS_4 AT4_DS_5 AT4_DS_6 AT4_DS_7 AT4_DS_8 AT4_SL_1 AT4_SL_284 AT4_SL_285 AT4_SL_286 AT4_SL_2 AT4_SL_3 AT4_SL_4 AT4_SL_5 AT4_SL_6 AT4_SL_7 AT4_WT_2 AT4_WT_3 AT4_WT_4 AT4_WT_5 AT4_WT_6 AT4_WT_7 AV4_CF_1 AV4_CF_2 AV4_CF_3 AV4_DH_10 AV4_DH_1 AV4_DH_2 AV4_DH_3 AV4_DH_4 AV4_DH_5 AV4_DH_6 AV4_DH_7 AV4_DH_8 AV4_DH_9 AV4_EW_10 AV4_EW_1 AV4_EW_2 AV4_EW_3 AV4_EW_4 AV4_EW_6 AV4_EW_7 AV4_EW_8 AV4_EW_9 AV4_JU_1 AV4_JU_3 AV4_JU_4 AV4_JU_5 AV4_JU_6 AV4_JU_7 AV4_LM_10 AV4_LM_1 AV4_LM_2 AV4_LM_3 AV4_LM_4 AV4_LM_5 AV4_LM_6 AV4_LM_7 AV4_LM_8 AV4_LM_9 AV4_LS_10 AV4_LS_11 AV4_LS_12 AV4_LS_13 AV4_LS_14 AV4_LS_15 AV4_LS_16 AV4_LS_17 AV4_LS_18 AV4_LS_19 AV4_LS_1 AV4_LS_20 AV4_LS_21 AV4_LS_22 AV4_LS_23 AV4_LS_24 AV4_LS_25 AV4_LS_26 AV4_LS_27 AV4_LS_2 AV4_LS_3 AV4_LS_4 AV4_LS_5 AV4_LS_6 AV4_LS_7 AV4_LS_8 AV4_LS_9 AV4_RR_10 AV4_RR_1 AV4_RR_2 AV4_RR_3 AV4_RR_4 AV4_RR_5 AV4_RR_7 AV4_RR_8 AV4_RR_9 AW4_AH_121 AW4_AH_122 AW4_AH_123 AW4_AH_124 AW4_AH_125 AW4_AH_126 AW4_AH_127 AW4_AH_128 AW4_AH_129 AW4_AH_130 AW4_AH_131 AW4_AH_132 AW4_AH_133 AW4_AH_134 AW4_AH_135 AW4_FR_10 AW4_FR_1 AW4_FR_2 AW4_FR_3 AW4_FR_5 AW4_FR_6 AW4_FR_7 AW4_FR_8 AW4_FR_9 AW4_GB_10 AW4_GB_1 AW4_GB_2 AW4_GB_4 AW4_GB_5 AW4_GB_6 AW4_GB_7 AW4_GB_8 AW4_GB_9 AW4_HO_10 AW4_HO_1 AW4_HO_2 AW4_HO_3 AW4_HO_4 AW4_HO_5 AW4_HO_6 AW4_HO_7 AW4_HO_8 AW4_HO_9 AW4_JC_10 AW4_JC_1 AW4_JC_4 AW4_JC_5 AW4_JC_6 AW4_JC_7 AW4_JC_8 AW4_JC_9 AW4_LW_10 AW4_LW_1 AW4_LW_2 AW4_LW_3 AW4_LW_4 AW4_LW_5 AW4_LW_6 AW4_LW_7 AW4_LW_8 AW4_LW_9 AW4_MC_1 AW4_MC_2 AW4_MC_3 AW4_MC_4 AW4_MC_5 AW4_MC_6 AW4_MD_10 AW4_MD_1 AW4_MD_2 AW4_MD_3 AW4_MD_4 AW4_MD_5 AW4_MD_6 AW4_MD_7 AW4_MD_8 AW4_MD_9 AW4_MK_220 AW4_MK_221 AW4_MK_222 AW4_MK_223 AW4_MK_224 AW4_MK_225 AW4_MK_226 AW4_MK_227 AW4_MK_228 AW4_MK_229 AW4_MK_230 AW4_MK_231 AW4_MK_233 AW4_MK_234 AW4_MK_235 AW4_MK_236 AW4_OE_1 AW4_OE_2 AW4_OE_3 AW4_OE_4 AW4_OE_5 AW4_OE_6 AW4_OE_7 AW4_OE_8 AW4_OE_9 AW4_OW_1 AW4_OW_2 AW4_OW_3 AW4_OW_4 AW4_OW_5 AW4_OW_6 AW4_OW_7 AW4_OW_8 AW4_OW_9 AW4_PD_1 AW4_PD_2 AW4_PD_3 AW4_PD_4 AW4_PD_5 AW4_PD_6 AW4_PM_1 AW4_PM_2 AW4_PM_3 AW4_PM_4 AW4_PM_5 AW4_PM_6 AW4_PM_7 AW4_PM_8 AW4_PM_9 AW4_SB_10 AW4_SB_1 AW4_SB_2 AW4_SB_3 AW4_SB_4 AW4_SB_5 AW4_SB_6 AW4_SB_7 AW4_SB_8 AW4_SB_9 AW4_SC_10 AW4_SC_1 AW4_SC_2 AW4_SC_3 AW4_SC_4 AW4_SC_5 AW4_SC_6 AW4_SC_7 AW4_SC_8 AW4_SC_9 AW4_SR_10 AW4_SR_1 AW4_SR_2 AW4_SR_3 AW4_SR_4 AW4_SR_5 AW4_SR_6 AW4_SR_7 AW4_SR_8 AW4_SR_9 AW4_SS_10 AW4_SS_1 AW4_SS_2 AW4_SS_3 AW4_SS_4 AW4_SS_5 AW4_SS_6 AW4_SS_7 AW4_SS_8 AW4_SS_9 AW4_WH_1 AW4_WH_2 AW4_WH_3 AW4_WH_4 AW4_WH_5 AW4_WH_6 AW4_WJ_10 AW4_WJ_1 AW4_WJ_2 AW4_WJ_3 AW4_WJ_4 AW4_WJ_5 AW4_WJ_6 AW4_WJ_7 AW4_WJ_8 AW4_WJ_9 AW4_YV_10 AW4_YV_1 AW4_YV_2 AW4_YV_3 AW4_YV_4 AW4_YV_5 AW4_YV_6 AW4_YV_7 AW4_YV_8 AW4_YV_9\r\n"
     ]
    }
   ],
   "source": [
    "!head entropy_header.txt"
   ]
  },
  {
   "cell_type": "code",
   "execution_count": 67,
   "metadata": {},
   "outputs": [],
   "source": [
    "!cat entropy_header.txt mpgl_ebgAll.txt > entropy.mpgl"
   ]
  },
  {
   "cell_type": "code",
   "execution_count": 68,
   "metadata": {},
   "outputs": [
    {
     "name": "stdout",
     "output_type": "stream",
     "text": [
      "690 17201                                                                                                                                                                                                                                                                                                                                                                                                                                                                                                                                                                                                                                                                                                                 \r\n",
      "AT2_BB_10 AT2_BB_11 AT2_BB_12 AT2_BB_13 AT2_BB_14 AT2_BB_15 AT2_BB_16 AT2_BB_17 AT2_BB_1 AT2_BB_2 AT2_BB_3 AT2_BB_4 AT2_BB_5 AT2_BB_6 AT2_BB_7 AT2_BB_8 AT2_BB_9 AT2_BC_17 AT2_BC_18 AT2_BC_19 AT2_BC_20 AT2_BC_21 AT2_BC_22 AT2_BC_23 AT2_BT_1 AT2_BT_2 AT2_BT_3 AT2_BT_4 AT2_BT_57 AT2_BT_58 AT2_BT_59 AT2_BT_5 AT2_BT_60 AT2_BT_61 AT2_BT_62 AT2_BT_63 AT2_BT_64 AT2_BT_6 AT2_BT_7 AT2_BW_1 AT2_BW_65 AT2_BW_66 AT2_BW_67 AT2_BW_68 AT2_BW_69 AT2_BW_70 AT2_BW_71 AT2_BW_72 AT2_CB_24 AT2_CB_25 AT2_CB_26 AT2_CB_27 AT2_CB_28 AT2_CB_29 AT2_CB_30 AT2_CB_31 AT2_CB_32 AT2_DK_16 AT2_DK_17 AT2_DK_18 AT2_DK_19 AT2_DK_20 AT2_DK_21 AT2_DK_22 AT2_DK_23 AT2_DK_24 AT2_DK_25 AT2_DK_26 AT2_DK_27 AT2_DK_28 AT2_DK_29 AT2_DK_30 AT2_DT_10 AT2_DT_11 AT2_DT_12 AT2_DT_13 AT2_DT_14 AT2_DT_15 AT2_DT_1 AT2_DT_2 AT2_DT_3 AT2_DT_4 AT2_DT_5 AT2_DT_6 AT2_DT_7 AT2_DT_8 AT2_DT_9 AT2_EC_45 AT2_EC_46 AT2_EC_47 AT2_EC_48 AT2_EC_49 AT2_EC_50 AT2_EC_51 AT2_EC_52 AT2_EC_53 AT2_EW_31 AT2_EW_32 AT2_EW_33 AT2_EW_34 AT2_EW_35 AT2_EW_36 AT2_EW_37 AT2_EW_39 AT2_EW_40 AT2_HC_1 AT2_HC_2 AT2_HC_3 AT2_HC_4 AT2_HC_5 AT2_HC_6 AT2_HC_7 AT2_HC_8 AT2_JV_1 AT2_JV_2 AT2_JV_37 AT2_JV_38 AT2_JV_39 AT2_JV_3 AT2_JV_40 AT2_JV_41 AT2_JV_42 AT2_JV_43 AT2_JV_44 AT2_JV_4 AT2_JV_5 AT2_JV_6 AT2_JV_7 AT2_KN_80 AT2_KN_81 AT2_KN_82 AT2_KN_83 AT2_KN_84 AT2_KN_85 AT2_KN_86 AT2_KN_87 AT2_KN_88 AT2_KN_89 AT2_KN_90 AT2_KN_91 AT2_KN_92 AT2_KN_93 AT2_KN_94 AT2_LB_1 AT2_LB_2 AT2_LB_3 AT2_LB_4 AT2_LB_5 AT2_LB_6 AT2_LB_7 AT2_LB_8 AT2_LB_9 AT2_LN_1 AT2_LN_2 AT2_LN_3 AT2_LN_4 AT2_LN_5 AT2_LN_6 AT2_LN_95 AT2_LN_96 AT2_LN_98 AT2_OC_15 AT2_OC_16 AT2_OC_2 AT2_OC_3 AT2_OC_4 AT2_OC_5 AT2_OC_6 AT2_OC_7 AT2_OC_8 AT2_OT_11 AT2_OT_12 AT2_OT_13 AT2_OT_14 AT2_OT_5 AT2_OT_6 AT2_OT_7 AT2_OT_8 AT2_OT_9 AT2_RB_100 AT2_RB_101 AT2_RB_102 AT2_RB_103 AT2_RB_104 AT2_RB_105 AT2_RB_106 AT2_RB_107 AT2_RB_108 AT2_RB_1 AT2_RB_3 AT2_RB_4 AT2_RB_5 AT2_RB_6 AT2_RB_7 AT2_RB_99 AT2_RK_1 AT2_RK_2 AT2_RK_3 AT2_RK_4 AT2_RK_5 AT2_RK_6 AT2_RK_7 AT2_SS_10 AT2_SS_1 AT2_SS_2 AT2_SS_3 AT2_SS_4 AT2_SS_5 AT2_SS_6 AT2_SS_7 AT2_VM_10 AT2_VM_1 AT2_VM_2 AT2_VM_3 AT2_VM_4 AT2_VM_5 AT2_VM_6 AT2_VM_7 AT2_VM_8 AT2_VM_9 AT2_YB_1 AT2_YB_2 AT2_YB_73 AT2_YB_74 AT2_YB_75 AT2_YB_76 AT2_YB_77 AT2_YB_78 AT2_YB_79 AV2_AN_1 AV2_AN_2 AV2_AN_3 AV2_AN_4 AV2_AN_5 AV2_AN_6 AV2_AN_7 AV2_AN_8 AV2_AS_61 AV2_AS_62 AV2_AS_63 AV2_AS_64 AV2_AS_65 AV2_AS_66 AV2_AS_67 AV2_AS_68 AV2_AS_69 AV2_AS_70 AV2_AS_71 AV2_AS_72 AV2_AS_73 AV2_AS_74 AV2_AS_75 AV2_BM_76 AV2_BM_77 AV2_BM_78 AV2_BM_79 AV2_BM_80 AV2_BM_81 AV2_BM_82 AV2_BM_83 AV2_BM_84 AV2_BM_85 AV2_BM_86 AV2_BM_87 AV2_BM_88 AV2_BM_89 AV2_BM_90 AV2_CC_134 AV2_CC_135 AV2_CC_136 AV2_CC_137 AV2_CC_138 AV2_CC_139 AV2_CC_140 AV2_CC_141 AV2_CC_1 AV2_CC_2 AV2_CC_3 AV2_CC_4 AV2_CC_5 AV2_CC_6 AV2_CC_7 AV2_CV_157 AV2_CV_158 AV2_CV_159 AV2_CV_160 AV2_CV_161 AV2_CV_162 AV2_CV_163 AV2_CV_164 AV2_CV_165 AV2_CV_166 AV2_CV_1 AV2_CV_2 AV2_CV_3 AV2_CV_4 AV2_CV_5 AV2_CV_6 AV2_CV_7 AV2_FP_1 AV2_FP_2 AV2_FP_3 AV2_FP_4 AV2_FP_5 AV2_FP_6 AV2_FP_7 AV2_GC_1 AV2_GC_2 AV2_GC_3 AV2_GC_4 AV2_GC_5 AV2_GC_6 AV2_GC_7 AV2_GC_8 AV2_GC_9 AV2_LV_100 AV2_LV_101 AV2_LV_102 AV2_LV_103 AV2_LV_104 AV2_LV_105 AV2_LV_91 AV2_LV_92 AV2_LV_93 AV2_LV_94 AV2_LV_95 AV2_LV_96 AV2_LV_97 AV2_LV_98 AV2_LV_99 AV2_NV_2 AV2_NV_3 AV2_NV_4 AV2_NV_5 AV2_NV_6 AV2_NV_7 AV2_NV_8 AV2_NV_9 AV2_PL_10 AV2_PL_1 AV2_PL_2 AV2_PL_3 AV2_PL_4 AV2_PL_5 AV2_PL_6 AV2_PL_7 AV2_PL_8 AV2_PL_9 AV2_PR_10 AV2_PR_2 AV2_PR_3 AV2_PR_4 AV2_PR_5 AV2_PR_6 AV2_PR_7 AV2_PR_8 AV2_PR_9 AV2_PT_10 AV2_PT_1 AV2_PT_2 AV2_PT_3 AV2_PT_4 AV2_PT_5 AV2_PT_6 AV2_PT_7 AV2_PT_8 AV2_PT_9 AV2_SN_125 AV2_SN_126 AV2_SN_127 AV2_SN_128 AV2_SN_129 AV2_SN_130 AV2_SN_131 AV2_SN_132 AV2_SN_133 AV2_SN_1 AV2_SN_2 AV2_SN_3 AV2_SN_4 AV2_SN_5 AV2_SN_6 AV2_SN_7 AV2_TF_150 AV2_TF_151 AV2_TF_152 AV2_TF_153 AV2_TF_154 AV2_TF_155 AV2_TF_156 AV2_UV_1 AV2_UV_2 AV2_UV_3 AV2_UV_4 AV2_UV_5 AV2_UV_6 AV2_UV_7 AV2_UV_8 AV2_UV_9 AT4_DS_10 AT4_DS_1 AT4_DS_2 AT4_DS_3 AT4_DS_4 AT4_DS_5 AT4_DS_6 AT4_DS_7 AT4_DS_8 AT4_SL_1 AT4_SL_284 AT4_SL_285 AT4_SL_286 AT4_SL_2 AT4_SL_3 AT4_SL_4 AT4_SL_5 AT4_SL_6 AT4_SL_7 AT4_WT_2 AT4_WT_3 AT4_WT_4 AT4_WT_5 AT4_WT_6 AT4_WT_7 AV4_CF_1 AV4_CF_2 AV4_CF_3 AV4_DH_10 AV4_DH_1 AV4_DH_2 AV4_DH_3 AV4_DH_4 AV4_DH_5 AV4_DH_6 AV4_DH_7 AV4_DH_8 AV4_DH_9 AV4_EW_10 AV4_EW_1 AV4_EW_2 AV4_EW_3 AV4_EW_4 AV4_EW_6 AV4_EW_7 AV4_EW_8 AV4_EW_9 AV4_JU_1 AV4_JU_3 AV4_JU_4 AV4_JU_5 AV4_JU_6 AV4_JU_7 AV4_LM_10 AV4_LM_1 AV4_LM_2 AV4_LM_3 AV4_LM_4 AV4_LM_5 AV4_LM_6 AV4_LM_7 AV4_LM_8 AV4_LM_9 AV4_LS_10 AV4_LS_11 AV4_LS_12 AV4_LS_13 AV4_LS_14 AV4_LS_15 AV4_LS_16 AV4_LS_17 AV4_LS_18 AV4_LS_19 AV4_LS_1 AV4_LS_20 AV4_LS_21 AV4_LS_22 AV4_LS_23 AV4_LS_24 AV4_LS_25 AV4_LS_26 AV4_LS_27 AV4_LS_2 AV4_LS_3 AV4_LS_4 AV4_LS_5 AV4_LS_6 AV4_LS_7 AV4_LS_8 AV4_LS_9 AV4_RR_10 AV4_RR_1 AV4_RR_2 AV4_RR_3 AV4_RR_4 AV4_RR_5 AV4_RR_7 AV4_RR_8 AV4_RR_9 AW4_AH_121 AW4_AH_122 AW4_AH_123 AW4_AH_124 AW4_AH_125 AW4_AH_126 AW4_AH_127 AW4_AH_128 AW4_AH_129 AW4_AH_130 AW4_AH_131 AW4_AH_132 AW4_AH_133 AW4_AH_134 AW4_AH_135 AW4_FR_10 AW4_FR_1 AW4_FR_2 AW4_FR_3 AW4_FR_5 AW4_FR_6 AW4_FR_7 AW4_FR_8 AW4_FR_9 AW4_GB_10 AW4_GB_1 AW4_GB_2 AW4_GB_4 AW4_GB_5 AW4_GB_6 AW4_GB_7 AW4_GB_8 AW4_GB_9 AW4_HO_10 AW4_HO_1 AW4_HO_2 AW4_HO_3 AW4_HO_4 AW4_HO_5 AW4_HO_6 AW4_HO_7 AW4_HO_8 AW4_HO_9 AW4_JC_10 AW4_JC_1 AW4_JC_4 AW4_JC_5 AW4_JC_6 AW4_JC_7 AW4_JC_8 AW4_JC_9 AW4_LW_10 AW4_LW_1 AW4_LW_2 AW4_LW_3 AW4_LW_4 AW4_LW_5 AW4_LW_6 AW4_LW_7 AW4_LW_8 AW4_LW_9 AW4_MC_1 AW4_MC_2 AW4_MC_3 AW4_MC_4 AW4_MC_5 AW4_MC_6 AW4_MD_10 AW4_MD_1 AW4_MD_2 AW4_MD_3 AW4_MD_4 AW4_MD_5 AW4_MD_6 AW4_MD_7 AW4_MD_8 AW4_MD_9 AW4_MK_220 AW4_MK_221 AW4_MK_222 AW4_MK_223 AW4_MK_224 AW4_MK_225 AW4_MK_226 AW4_MK_227 AW4_MK_228 AW4_MK_229 AW4_MK_230 AW4_MK_231 AW4_MK_233 AW4_MK_234 AW4_MK_235 AW4_MK_236 AW4_OE_1 AW4_OE_2 AW4_OE_3 AW4_OE_4 AW4_OE_5 AW4_OE_6 AW4_OE_7 AW4_OE_8 AW4_OE_9 AW4_OW_1 AW4_OW_2 AW4_OW_3 AW4_OW_4 AW4_OW_5 AW4_OW_6 AW4_OW_7 AW4_OW_8 AW4_OW_9 AW4_PD_1 AW4_PD_2 AW4_PD_3 AW4_PD_4 AW4_PD_5 AW4_PD_6 AW4_PM_1 AW4_PM_2 AW4_PM_3 AW4_PM_4 AW4_PM_5 AW4_PM_6 AW4_PM_7 AW4_PM_8 AW4_PM_9 AW4_SB_10 AW4_SB_1 AW4_SB_2 AW4_SB_3 AW4_SB_4 AW4_SB_5 AW4_SB_6 AW4_SB_7 AW4_SB_8 AW4_SB_9 AW4_SC_10 AW4_SC_1 AW4_SC_2 AW4_SC_3 AW4_SC_4 AW4_SC_5 AW4_SC_6 AW4_SC_7 AW4_SC_8 AW4_SC_9 AW4_SR_10 AW4_SR_1 AW4_SR_2 AW4_SR_3 AW4_SR_4 AW4_SR_5 AW4_SR_6 AW4_SR_7 AW4_SR_8 AW4_SR_9 AW4_SS_10 AW4_SS_1 AW4_SS_2 AW4_SS_3 AW4_SS_4 AW4_SS_5 AW4_SS_6 AW4_SS_7 AW4_SS_8 AW4_SS_9 AW4_WH_1 AW4_WH_2 AW4_WH_3 AW4_WH_4 AW4_WH_5 AW4_WH_6 AW4_WJ_10 AW4_WJ_1 AW4_WJ_2 AW4_WJ_3 AW4_WJ_4 AW4_WJ_5 AW4_WJ_6 AW4_WJ_7 AW4_WJ_8 AW4_WJ_9 AW4_YV_10 AW4_YV_1 AW4_YV_2 AW4_YV_3 AW4_YV_4 AW4_YV_5 AW4_YV_6 AW4_YV_7 AW4_YV_8 AW4_YV_9\r\n",
      "CM042338.1:1496841 0 0 0 0 3 37 0 9 92 0 18 138 0 24 161 0 0 0 0 3 37 0 6 67 0 0 0 0 9 92 0 0 0 0 0 0 0 3 37 0 3 37 0 0 0 0 0 0 0 12 113 0 3 37 0 0 0 0 0 0 0 0 0 0 0 0 0 0 0 0 0 0 0 15 129 0 0 0 0 0 0 0 9 92 0 0 0 0 3 37 0 6 67 0 0 0 0 9 92 0 0 0 0 0 0 0 6 67 0 9 92 0 9 92 0 12 110 0 0 0 0 0 0 0 0 0 0 12 113 0 6 67 0 0 0 0 0 0 0 9 92 0 3 37 0 0 0 0 0 0 0 0 0 0 6 67 0 0 0 0 0 0 0 0 0 0 3 37 0 0 0 0 14 165 0 6 67 0 30 173 0 27 170 0 3 37 0 3 37 0 3 37 0 6 67 0 0 0 0 3 33 0 9 92 0 0 0 0 12 113 0 15 127 0 15 129 0 0 0 0 9 92 0 12 110 0 0 0 0 12 110 0 0 0 0 21 147 0 6 67 0 0 0 0 9 92 0 0 0 0 0 0 0 9 92 0 12 113 0 0 0 0 0 0 0 0 0 0 0 0 0 0 0 0 0 0 0 3 37 0 0 0 0 0 0 0 0 0 0 0 0 0 9 92 0 12 106 0 9 92 0 3 37 0 9 92 0 0 0 0 0 0 0 12 113 0 0 0 0 0 0 0 0 0 0 0 0 0 3 37 0 0 0 0 6 67 0 0 0 0 0 0 0 6 67 0 6 67 0 9 92 0 0 0 0 6 67 0 0 0 0 9 85 0 0 0 0 3 37 0 0 0 0 6 67 0 6 67 0 12 113 0 3 37 0 12 113 0 0 0 0 0 0 0 3 37 0 0 0 0 9 92 0 6 67 0 0 0 0 0 0 0 6 64 0 0 0 0 0 0 0 3 33 0 0 0 0 0 0 0 0 0 0 0 0 0 6 67 0 39 187 0 18 143 0 6 67 0 6 67 0 9 92 0 33 180 0 0 0 0 0 0 0 0 0 0 6 57 0 9 92 0 0 0 0 0 0 0 0 0 0 0 0 0 21 152 0 0 0 0 0 0 0 9 91 0 3 37 0 0 0 0 0 0 0 0 0 0 0 0 0 0 0 0 0 0 0 0 0 0 0 0 0 0 0 0 0 0 0 0 0 0 3 37 0 0 0 0 12 107 0 6 67 0 0 0 0 15 122 0 6 64 0 0 0 0 12 113 0 6 67 0 3 37 0 6 59 0 9 92 0 9 92 0 3 37 0 42 189 0 6 67 0 3 37 0 12 113 0 15 129 0 18 143 0 9 92 0 0 0 0 0 0 0 6 67 0 36 182 0 0 0 0 0 0 0 0 0 0 18 143 0 12 113 0 0 0 0 0 0 0 3 37 0 18 143 0 3 37 0 6 67 0 6 67 0 3 37 0 18 143 0 0 0 0 3 37 0 6 67 0 0 0 0 0 0 0 3 37 0 3 37 0 3 37 0 0 0 0 6 67 0 3 37 0 9 92 79 0 53 0 6 67 0 12 113 0 0 0 0 3 37 0 15 128 0 6 67 0 9 92 0 12 113 0 3 33 0 15 129 0 0 0 0 3 37 59 0 28 0 12 113 0 9 92 0 12 110 0 36 183 0 0 0 0 0 0 0 9 92 0 9 92 0 3 37 0 9 92 0 3 37 0 3 37 0 3 37 19 0 109 0 18 143 0 12 113 0 15 129 59 0 28 0 9 89 0 12 113 0 9 92 0 3 35 0 3 37 0 6 67 0 3 37 0 18 143 0 15 129 0 12 113 0 33 180 0 0 0 0 3 36 0 3 37 0 9 85 0 9 92 0 6 59 0 6 67 0 9 92 0 21 148 120 0 105 0 3 27 0 6 67 0 0 0 0 6 64 0 9 92 0 33 179 0 21 150 0 30 175 26 62 202 0 12 110 0 6 67 0 21 152 0 6 59 0 6 67 0 48 191 0 24 162 0 18 139 0 3 37 0 33 178 0 54 195 0 27 170 0 21 154 0 12 113 0 15 129 0 6 67 0 0 0 0 3 37 0 6 67 0 9 92 0 9 92 0 6 67 0 9 92 0 0 0 0 24 162 0 21 154 13 34 158 0 3 37 59 0 28 0 15 127 0 15 129 0 18 139 0 9 92 25 0 81 0 21 149 42 0 131 0 9 92 0 15 127 0 3 37 0 18 143 0 9 92 0 15 129 0 9 92 0 3 37 0 3 37 0 0 0 0 0 0 0 0 0 0 3 37 0 6 57 0 48 192 0 6 67 0 6 67 0 30 173 0 21 154 0 3 37 0 27 170 0 6 67 0 9 92 0 18 143 0 12 113 0 9 92 0 9 92 0 3 37 0 0 0 25 0 81 0 9 92 0 24 162 0 12 113 0 3 37 0 9 92 0 18 138 0 0 0 0 3 37 141 0 63 0 33 178 0 6 67 0 12 113 0 0 0 0 9 92 0 6 67 0 6 67 0 33 178 0 6 67 0 6 67 0 3 33 0 12 113 0 27 170 0 6 67 0 9 92 0 12 107 0 6 67 0 6 67 0 0 0 0 9 92 0 0 0 0 0 0 0 0 0 0 3 37 0 27 170 0 9 92 0 21 154 0 3 37 0 9 92 0 0 0 0 0 0 0 0 0 0 21 154 0.150458 15.9607 21.8142 27.49 34.737 0.146678 16.1875 21.72 26.993 33.7245 0.144087 16.3471 21.6726 26.6825 33.0704 0.151819 15.8807 21.8558 27.6829 35.1204 0.0202582 23.4245 39.66 63.1236 204.033 0.148191 16.0959 21.7541 27.1855 34.1212 0.0994258 17.2622 24.7216 33.2065 62.5329 0.150317 15.969 21.8101 27.4706 34.6981 0.141032 16.5398 21.6334 26.3454 32.3362 0.0797637 17.8009 28.1603 41.0472 94.4234 0.0734313 18.2369 27.8179 39.7547 91.9734 0.061607 18.7424 31.4793 48.1065 124.677 0.107331 16.803 24.9928 34.3812 64.8342 0.147278 14.8323 33.2493 55.5878 100.799 0.166603 15.0627 22.6323 30.3887 40.1436 0.0251134 22.4602 40.4377 66.0227 209.509 0.103208 17.039 24.8328 33.7344 63.587 0.0692283 18.5451 27.6706 39.0391 90.5384 0.0423674 20.3095 34.0818 52.8424 150.711 0.0482579 19.9371 30.6024 44.6939 118.156 0.0195843 23.5761 39.6064 62.8113 203.387 0.065398 18.8407 27.5852 38.4693 89.3352 0.0319842 21.6223 33.521 49.935 144.809 0.0467955 20.0862 30.5673 44.4233 117.574 0.0188953 23.7364 39.5639 62.5107 202.748 0.0240825 22.9311 33.7252 48.6389 141.281 0.0291864 22.3346 30.9811 42.3335 111.701 0.111174 18.7631 22.0918 24.3813 26.6657 0.0701486 18.4762 27.6979 39.1873 90.8416 0.143821 16.3636 21.6685 26.652 33.0051 0.0958522 17.4795 24.645 32.7585 61.6047 0.0699876 18.4882 27.6929 39.1611 90.7881 0.0517719 19.5954 30.7311 45.415 119.638 0.0197025 23.5491 39.6149 62.8648 203.499 0.0204603 23.3801 39.6784 63.2209 204.231 0.0684536 18.6037 27.6497 38.9179 90.2876 0.0488867 19.8743 30.6207 44.8154 118.412 0.0673294 18.6898 27.6227 38.7475 89.9306 0.1015 17.139 24.7786 33.4887 63.1011 0.103705 17.0102 24.8498 33.8081 63.7315 0.10081 17.1797 24.7586 33.393 62.9096 0.0113434 25.8815 45.6704 75.1795 260.791 0.0269687 22.2389 36.6421 57.0131 175.482 0.0489713 19.8659 30.6234 44.8319 118.446 0.0211396 23.1699 44.4271 74.8003 242.644 0.147847 16.1166 21.7459 27.141 34.0301 0.000118721 45.6327 93.8142 171.64 714.806 0.0214854 23.4532 33.9239 48.3728 140.233 0.00377427 30.6444 51.8178 84.4876 310.665 35.8301 0.282256 12.0389 38.817 260.151 17.0193 0.581403 9.82239 28.9952 183.9 0.0002567 42.2846 79.0251 138.32 564.758 0.00592238 28.7356 46.0651 72.2572 252.953 0.143034 16.4129 21.6571 26.5629 32.8131 0.007767 27.5132 48.555 80.423 287.523 0.0411364 20.707 30.5294 43.5234 115.485 0.0670411 18.7121 27.6163 38.7048 89.8403 0.036788 20.971 33.6593 51.0852 147.302 0.0260284 22.4004 36.5904 56.6915 174.81 71.1218 3.03686 3.4001 13.3752 104.052 0.0683831 18.6091 27.6479 38.907 90.265 0.145224 16.2766 21.6918 26.8159 33.3537 0.14631 16.21 21.7125 26.9475 33.6297 0.0285318 21.9822 36.7581 57.5947 176.654 0.113388 16.4693 25.3137 35.4934 66.8954 0.0566454 19.1555 31.0226 46.6056 121.939 0.010226 26.3078 49.2834 83.537 293.601 0.115733 16.3439 25.47 35.9862 67.7833 0.0401768 20.5587 33.8794 52.0902 149.292 0.16264 15.2734 22.3566 29.5333 38.6099 0.0563693 19.1795 31.0022 46.5314 121.799 0.0762136 18.0414 27.9491 40.2876 93.0018 0.11185 16.5526 25.2215 35.1904 66.3426 0.0791974 17.8386 28.1231 40.9195 94.1875 0.0235719 22.7449 40.1088 64.9592 207.58 0.126801 15.7787 26.5429 38.9855 72.9766 0.0408273 20.4834 33.9342 52.3044 149.701 0.0245633 22.5598 40.3103 65.6249 208.795 0.0458294 19.9397 34.5147 54.2362 153.238 0.081523 17.6851 28.2852 41.4612 95.1808 0.0121682 25.5724 45.8323 75.9259 262.271 7.97575 1.71876 8.25042 17.488 48.5922 0.057502 19.0819 31.0889 46.8415 122.379 0.115111 16.377 25.4266 35.8516 67.5421 0.165468 15.1224 22.5473 30.1318 39.6869 0.0232248 22.8115 40.0463 64.7405 207.174 0.0602292 18.8539 31.3339 47.6551 123.867 0.160035 15.4152 22.2052 29.0293 37.6866 0.0383184 20.7805 33.7454 51.5171 148.173 0.0542163 19.3702 30.8599 45.9818 120.752 0.134072 16.9988 21.6072 25.6831 30.7945 0.11912 18.0984 21.8254 24.6913 27.9637 0.138329 16.7146 21.6131 26.0715 31.7173 0.0852859 18.1625 24.5609 31.6787 59.172 0.132158 17.1304 21.6146 25.5247 30.3984 0.131319 17.1888 21.6198 25.4584 30.2284 0.134699 16.9563 21.6061 25.7371 30.9266 0.137196 16.7892 21.6085 25.963 31.4656 0.134462 16.9723 21.6064 25.7166 30.8765 0.161067 15.3587 22.2626 29.2239 38.045 0.164448 15.1765 22.4751 29.9093 39.2887 0.166438 15.0714 22.6196 30.3507 40.0763 0.168735 14.9517 22.8066 30.9005 41.0447 0.0488148 19.6417 35.0256 55.7006 155.794 0.0435841 20.1764 34.217 53.3009 151.555 0.00634985 28.3609 55.9498 97.5001 353.705 0.0971964 16.7414 30.2941 46.9376 104.58 0.172227 14.7734 23.1387 31.8329 42.6613 0.114975 16.3842 25.4173 35.8227 67.4903 0.168282 14.9752 22.7679 30.7884 40.8483 0.0308413 21.6269 37.0023 58.5745 178.538 0.0573287 19.0967 31.0751 46.7931 122.289 0.0192742 23.5807 43.6093 72.5409 238.751 0.0451008 20.0153 34.4108 53.919 152.672 0.116108 18.3427 21.9137 24.5565 27.4573 0.0206993 23.6232 33.9992 48.3093 139.924 0.0761405 18.811 24.6433 30.9952 57.3607 0.00935299 26.7816 42.7648 66.5562 225.967 0.0128691 25.449 39.7335 60.6096 197.837 0.000372607 40.6668 75.8642 132.472 537.131 0.0593031 20.1919 25.1567 30.2647 54.5407 0.00497623 29.4612 48.8395 78.4564 282.222 0.0237424 22.9963 33.7471 48.5993 141.141 0.148909 16.0528 21.7719 27.2797 34.3132 0.0733684 18.2414 27.8152 39.7433 91.9509 0.0160016 24.407 42.785 69.7267 233.562 0.0208289 23.3 39.7149 63.4027 204.597 0.020296 23.4162 39.6633 63.1416 204.07 0.0490405 19.8591 30.6255 44.8455 118.475 0.105509 16.9064 24.9168 34.0855 64.2694 0.0155918 24.522 42.7232 69.4456 233.006 0.02178 23.0998 39.8263 63.9001 205.577 0.0696953 18.51 27.6841 39.1138 90.6915 0.0286515 21.9631 36.7685 57.6418 176.747 0.0157075 24.4892 42.7398 69.5237 233.161 0.144423 16.3261 21.678 26.7215 33.1537 0.00394044 30.4321 57.923 100.257 376.186 0.0199146 23.5012 39.6312 62.962 203.701 0.00658414 28.2154 51.7458 87.5346 318.144 0.154052 15.7513 21.9334 28.0165 35.7726 0.150343 15.9675 21.8109 27.4742 34.7053 0.0462135 20.1467 30.5562 44.3202 117.348 0.054231 19.3689 30.8608 45.9854 120.759 0.0470496 20.06 30.5726 44.4691 117.674 0.0143945 24.8762 42.5884 68.6961 231.468 0.0121029 25.5961 45.8173 75.8633 262.15 0.00292958 31.7165 60.8983 106.15 404.299 0.0396823 20.6167 33.8405 51.9322 148.987 0.00904696 26.8449 48.8154 81.8499 290.444 0.00882725 26.9526 48.7534 81.5782 289.911 0.0707987 18.4281 27.7188 39.2948 91.0593 0.0531227 19.4698 30.7981 45.7211 120.245 0.0723527 18.3145 27.7744 39.5613 91.5924 0.0712674 18.3936 27.7347 39.3737 91.2182 0.0979192 17.3531 24.6861 33.012 62.1341 0.151739 15.8854 21.8532 27.6713 35.0974 0.0701471 18.4763 27.6978 39.1871 90.841 0.0482092 19.942 30.601 44.6846 118.136 0.0998601 17.2363 24.7328 33.2642 62.65 7.50758 2.48086 6.767 13.2739 41.0681 0.00467026 29.7007 54.6431 92.9985 345.38 0.0669196 18.7215 27.6138 38.6869 89.8024 0.145589 16.2542 21.6985 26.8596 33.4458 0.0108857 26.0628 45.6052 74.8038 260.016 0.143573 16.3791 21.6648 26.6237 32.9443 0.0352884 21.1651 33.595 50.6941 146.488 0.0506074 19.7062 30.6813 45.1644 119.133 0.0358787 21.0877 33.618 50.8445 146.804 0.126907 17.5043 21.6661 25.139 29.3663 0.0359726 20.9222 37.9269 61.4401 183.672 0.0113653 25.873 45.674 75.1982 260.829 0.0118837 25.6766 45.7698 75.6579 261.748 0.146145 16.22 21.7092 26.9273 33.5876 0.153349 15.7918 21.9076 27.909 35.5638 0.138078 16.7311 21.6119 26.0471 31.6611 0.0666216 18.7446 27.6076 38.6434 89.7098 0.160901 15.3678 22.2531 29.1921 37.9868 0.167514 15.0151 22.7044 30.6026 40.5215 0.085122 17.4551 28.5884 42.3997 96.8618 0.112029 16.5429 25.2318 35.2249 66.4057 0.167424 15.0198 22.6971 30.5811 40.4835 0.0848313 17.4734 28.5613 42.3189 96.7187 0.0913088 17.079 29.2972 44.384 100.298 0.163251 15.2406 22.3953 29.6577 38.8354 0.0876649 17.2977 28.8473 43.1502 98.1772 0.158274 15.5126 22.1149 28.7116 37.0956 0.0359019 20.9312 37.9097 61.3921 183.589 0.116501 16.3033 25.5256 36.1563 68.0869 0.12167 16.0355 25.9657 37.4324 70.3245 0.107149 16.8133 24.9848 34.3509 64.7767 0.0460171 19.9205 34.5427 54.3202 153.387 0.0204064 23.3269 44.0662 73.834 240.998 0.0377735 20.8474 33.7123 51.3594 147.858 0.0373291 20.9028 33.6873 51.234 147.606 0.145557 16.2561 21.6979 26.8558 33.4378 0.00361036 30.813 57.6996 99.2878 374.289 0.0674457 18.6808 27.6253 38.7648 89.9671 0.0269031 22.25 36.6381 56.99 175.434 0.146688 16.1869 21.7203 26.9943 33.7271 0.0930717 17.6531 24.603 32.4408 60.9227 0.0107159 26.132 45.5854 74.6709 259.736 0.124818 15.8769 26.3002 38.3447 71.89 0.0891016 17.9084 24.568 32.0298 60.0028 0.139178 16.6592 21.6181 26.1552 31.9089 0.137387 16.7766 21.6091 25.981 31.5077 0.145324 16.2704 21.6936 26.8279 33.379 0.0952812 17.5148 24.6351 32.6912 61.4619 0.172193 14.7751 23.1352 31.8232 42.6446 0.0195403 23.5861 39.6033 62.7915 203.346 0.134709 16.9556 21.6061 25.738 30.9286 0.0958536 17.4794 24.645 32.7587 61.6051 0.0693325 18.5373 27.6735 39.0557 90.5724 0.0222337 23.1153 36.5146 55.5883 172.309 0.0673382 18.6891 27.6229 38.7488 89.9333 0.0141059 24.9659 42.5659 68.5304 231.114 0.0193901 23.6207 39.5932 62.7247 203.205 0.149711 16.005 21.7931 27.3875 34.5311 0.145694 16.2477 21.7005 26.8724 33.4726 0.000263156 42.1761 84.6752 152.994 628.549 0.149382 16.0245 21.7842 27.343 34.4414 0.000159499 44.3504 90.8299 165.726 686.657 0.150147 15.9791 21.8053 27.4471 34.651 0.000107279 46.0728 93.6386 170.692 712.87 0.141854 16.4874 21.6422 26.4332 32.5302 0.141244 16.5262 21.6356 26.3679 32.3862 0.0729378 18.2723 27.7975 39.6654 91.7979 0.0358253 21.0947 33.6157 50.8307 146.776 0.0404801 20.5234 33.9044 52.1891 149.481 0.0517839 19.5943 30.7317 45.4176 119.644 0.0210248 23.2581 39.7357 63.5018 204.795 0.0505802 19.7088 30.6803 45.1586 119.121 0.0544086 19.3529 30.8715 46.0289 120.843 0.0218858 23.0781 39.8403 63.9581 205.689 0.141844 16.488 21.6421 26.4321 32.5278 0.150078 15.9832 21.8033 27.4375 34.6318 0.000121341 45.5379 93.8694 171.881 715.277 0.150784 15.9414 21.8238 27.5356 34.828 1.58421e-09 94.3797 210.914 405.449 1818.81 0.0766696 18.01 27.9734 40.38 93.1772 0.0297519 21.7912 36.8758 58.0931 177.625 0.038025 20.8164 33.7273 51.4317 148.003 0.0272734 22.1877 36.6617 57.1217 175.705 0.0083033 27.2207 48.635 80.9765 288.696 0.0965587 17.4361 24.6581 32.8435 61.7834 0.15024 15.9736 21.8079 27.4599 34.6766 0.148013 16.1066 21.7498 27.1624 34.074 0.00338845 31.0892 57.6004 98.7156 373.108 0.0683913 18.6084 27.6481 38.9083 90.2676 0.14977 16.0015 21.7947 27.3954 34.5472 0.0670445 18.7118 27.6164 38.7053 89.8413 0.146119 16.2216 21.7087 26.9241 33.5809 0.00624155 28.4488 51.643 87.0114 317.087 0.0198927 23.5061 39.6294 62.9519 203.68 0.0982982 17.3301 24.6946 33.0601 62.2333 0.0647906 18.889 27.5756 38.3856 89.1524 0.0274383 24.1253 27.8749 31.0245 50.4284 0.000747005 37.6662 60.7664 96.9371 362.022 0.00781748 27.9967 36.9903 49.087 135.28 0.0087584 27.4918 36.5772 48.8345 135.599 0.018909 24.893 30.4875 36.7886 79.0458 0.0169652 25.3954 30.8958 37.0326 78.718 0.0171292 25.351 30.8592 37.0099 78.7455 0.029241 23.8148 27.6218 30.8717 50.629 0.00237793 32.7236 48.789 72.9552 248.713 0.0774397 22.8029 24.8183 25.0097 22.2359 0.0959144 17.4757 24.6461 32.7659 61.6204 0.0499115 19.7735 30.655 45.0202 118.837 0.143469 16.3857 21.6633 26.6119 32.9187 0.0348087 21.2289 33.5785 50.5754 146.235 0.141132 16.5334 21.6344 26.356 32.3598 0.0325688 21.5382 33.5274 50.0596 145.096 0.156183 15.6298 22.0191 28.3562 36.4248 0.150814 15.9397 21.8247 27.5398 34.8364 0.149904 15.9935 21.7985 27.4138 34.5842 0.120956 17.9537 21.7789 24.7839 28.2819 0.143869 16.3606 21.6692 26.6575 33.0168 0.154287 15.7378 21.9423 28.0529 35.8431 0.156429 15.6159 22.0297 28.3969 36.5021 0.148002 16.1072 21.7496 27.161 34.071 0.142369 16.4548 21.6484 26.4893 32.653 0.145403 16.2656 21.695 26.8373 33.3988 0.147637 16.1293 21.741 27.114 33.9745 0.150141 15.9794 21.8051 27.4462 34.6493 0.145168 16.28 21.6908 26.8093 33.3398 0.15225 15.8556 21.8698 27.7455 35.2437 0.153749 15.7687 21.9222 27.9699 35.6823 0.153611 15.7767 21.9171 27.9488 35.6412 0.161567 15.3315 22.2916 29.3205 38.2221 0.0971622 17.3991 24.67 32.9174 61.9379 0.148702 16.0652 21.7666 27.2524 34.2576 0.00327186 31.2416 57.564 98.4382 372.513\r\n",
      "CM042338.1:1942811 0 0 0 0 0 0 0 0 0 0 0 0 0 27 165 0 9 85 0 0 0 0 6 67 0 0 0 0 12 113 0 0 0 0 12 113 0 0 0 0 15 127 0 0 0 0 6 67 0 6 67 0 0 0 0 15 129 0 12 113 28 0 153 0 0 0 0 0 0 0 0 0 0 0 0 0 0 0 0 0 0 0 0 0 0 6 67 0 0 0 0 9 92 0 0 0 0 0 0 0 0 0 0 0 0 0 0 0 0 0 0 0 12 113 0 0 0 0 0 0 0 0 0 0 0 0 0 0 0 0 0 0 0 0 0 0 6 67 0 0 0 0 0 0 0 12 113 0 27 170 40 0 113 37 0 159 19 0 81 22 0 81 54 0 157 64 0 111 0 6 67 0 6 64 0 0 0 0 3 37 0 6 67 0 0 0 0 0 0 0 0 0 0 0 0 0 0 0 0 9 92 0 3 37 0 9 92 0 0 0 0 0 0 0 6 59 0 0 0 0 9 92 0 0 0 0 9 92 0 0 0 0 9 89 0 0 0 0 12 113 0 0 0 0 0 0 0 3 37 0 3 37 0 0 0 0 0 0 0 0 0 0 0 0 0 0 0 0 9 92 0 6 57 0 0 0 0 0 0 0 0 0 0 3 37 0 0 0 0 0 0 0 0 0 19 0 81 0 0 0 0 0 0 0 0 0 0 3 37 0 0 0 0 0 0 0 0 0 0 0 0 0 0 0 0 0 0 0 0 0 0 6 67 0 0 0 0 0 0 0 0 0 0 15 129 0 0 0 0 9 82 0 0 0 0 3 37 0 12 107 0 0 0 0 0 0 0 3 37 0 0 0 0 6 67 72 0 53 0 3 37 0 0 0 0 9 85 0 3 37 59 0 74 0 6 59 0 9 92 0 0 0 0 0 0 0 0 0 0 0 0 0 9 92 0 0 0 0 0 0 0 0 0 0 18 143 0 0 0 0 3 37 0 0 0 0 0 0 0 0 0 0 0 0 0 0 0 0 9 92 0 3 37 0 9 92 0 0 0 0 0 0 0 0 0 0 0 0 0 9 92 0 0 0 0 15 129 0 0 0 0 0 0 0 0 0 0 0 0 0 0 0 0 9 92 0 0 0 0 0 0 0 0 0 0 0 0 0 0 0 0 0 0 0 0 0 0 0 0 0 0 0 0 0 0 0 15 129 0 0 0 0 6 67 0 0 0 0 0 0 0 0 0 0 0 0 0 3 37 0 0 0 54 0 109 0 3 37 0 18 139 0 0 0 0 3 37 0 0 0 0 0 0 0 0 0 0 0 0 0 0 0 0 12 110 0 3 37 0 0 0 0 0 0 0 0 0 0 0 0 0 3 37 0 0 0 0 0 0 0 0 0 0 0 0 0 3 36 0 0 0 0 0 0 0 0 0 0 6 67 0 0 0 0 3 37 0 0 0 0 0 0 0 0 0 0 0 0 0 3 37 0 0 0 0 0 0 0 0 0 0 9 92 0 3 37 69 0 111 0 0 0 0 0 0 0 0 0 0 0 0 0 0 0 45 0 98 0 0 0 0 0 0 0 6 67 0 15 129 0 6 67 0 0 0 0 0 0 0 3 37 0 0 0 0 3 37 27 3 0 0 0 0 0 0 0 15 0 79 0 6 67 0 9 92 0 0 0 36 3 0 0 0 0 0 0 0 0 0 0 0 3 37 0 0 0 27 3 0 0 0 0 0 18 141 0 0 0 0 6 64 0 18 134 0 12 113 0 3 33 25 0 31 0 6 67 0 0 0 0 6 59 37 0 141 0 6 66 0 18 143 0 6 64 0 0 0 0 0 0 22 0 59 0 12 110 0 12 113 36 3 0 0 0 0 0 0 0 0 12 110 0 0 0 34 3 0 0 0 0 0 9 92 0 6 59 0 6 67 0 0 0 0 6 67 0 0 0 0 0 0 0 0 0 0 0 0 0 0 0 0 12 113 0 0 0 0 0 0 0 3 37 9 0 140 0 0 0 0 3 37 42 0 98 0 0 0 0 3 37 25 3 0 0 3 37 0 6 67 0 3 37 0 15 129 0 6 67 0 0 0 31 0 150 61 0 137 31 3 0 6 0 142 0 0 0 0 0 0 0 0 0 0 0 0 0 0 0 0 0 0 0 9 85 13 0 114 0 0 0 0 0 0 9 0 139 0 0 0 0 0 0 0 0 0 0 9 92 0 9 92 0 6 67 0 0 0 0 3 33 0 0 0 0 15 129 0 0 0 0 0 0 0 6 67 0 0 0 0 0 0 0 18 138 0 0 0 0 0 0 0 0 0 0 0 0 0 0 0 0 0 0 0 6 67 0 0 0 0 0 0 0 30 173 0 6 67 0 3 37 0 0 0 0 0 0 0 18 142 0 0 0 0 0 0 67 0 96 0 0 0 0 0 0 45 0 98 0 3 37 48 0 28 0 6 67 0 0 0 0 0 0 0 3 37 0 18 143 0 0 0 0 18 143 0 0 0 0 18 143 0 0 0 0 0 0 0 0 0 0 0 0 62 0 77 0 9 92 0 0 0 0 0 0 0 0 0 0 6 67 0 0 0 0 0 0 0 3 37 0 15 123 0 3 37 0 9 92 0 18 143 0 0 0 0 0 0 12 0 134 34 3 0 0 0 0 0 3 37 103 12 0 0 0 0 0 0 0 0 3 37 4 0 140 0 0 0 0.127178 15.4366 35.8402 69.2723 268.736 45.8179 0.663488 8.51544 30.469 186.959 0.20459 13.4619 30.2096 57.2541 217.197 2.89675 5.66263 8.57395 12.2446 17.7555 86.2854 2.17604 4.10371 22.6804 176.895 23.5326 0.175107 14.5534 44.3294 241.052 2.8343 5.80961 8.64557 12.1079 17.2747 0.537704 9.63054 21.2679 39.7638 142.16 0.63421 9.12758 18.7955 33.7065 115.676 1.11877 7.05107 15.4432 28.69 93.4283 0.749541 8.42886 18.3754 34.0567 117.322 18.8708 2.57224 4.61655 10.541 35.8417 1.45815 6.39772 12.9349 22.911 67.7849 3.8311 3.91232 8.17193 15.873 27.7541 1.20213 6.75487 15.312 29.0229 94.4878 3.17692 5.05797 8.32863 13.0021 20.1092 2.91048 5.63098 8.55908 12.2762 17.8631 2.81271 5.86157 8.67187 12.0632 17.1117 3.05511 5.3106 8.42067 12.6434 19.0428 2.75929 5.99284 8.74049 11.9588 16.7152 2.78302 5.93405 8.70938 12.0041 16.8902 2.71717 6.09914 8.79824 11.8824 16.4092 0.332113 11.5391 24.644 45.3371 165.795 2.71193 6.11254 8.80565 11.8732 16.3715 0.487392 10.0435 21.5222 39.5796 141.238 1.30656 7.71607 11.6924 16.4354 37.8736 2.11762 7.97052 10.055 11.4141 12.5664 2.0985 8.045 10.1121 11.4211 12.4572 18.1094 2.91502 4.51976 9.21917 32.5585 30.393 1.11257 6.62573 21.1921 120.385 2.76269 5.98438 8.73598 11.9652 16.7402 18.0999 2.9191 4.51906 9.20526 32.5226 2.87211 5.72004 8.60142 12.1893 17.5641 1.29315 6.90443 13.1951 22.4889 66.2435 2.84736 5.77846 8.63004 12.1355 17.3741 23.4305 0.176839 14.5193 44.1962 240.753 0.68162 8.82541 18.607 33.832 116.341 2.76539 5.97765 8.73239 11.9703 16.76 1.36148 6.68675 13.078 22.6497 66.8669 28.1583 0.00906054 32.5499 96.7213 525.657 1.35018 6.72195 13.0964 22.6217 66.7624 0.528432 9.70353 21.3116 39.7262 141.988 0.950425 7.72854 15.7987 28.1523 91.4422 0.0503902 19.3916 44.9495 87.0515 344.269 3.38975 4.64952 8.21762 13.7451 22.1717 2.81683 5.8516 8.66679 12.0717 17.1427 1.00959 7.47685 15.6585 28.3203 92.1197 0.553428 10.0134 17.38 27.7655 87.3098 0.587964 9.75545 17.1803 27.7327 87.647 1.0792 8.57197 12.3381 16.4774 36.554 0.97448 9.02794 12.7035 16.5773 35.9794 2.11265 7.98976 10.0697 11.4158 12.5379 2.07723 8.12934 10.1772 11.4308 12.3364 2.72057 6.09046 8.79345 11.8883 16.4337 0.4821 10.0894 21.5516 39.5631 141.143 2.52615 6.6157 9.10376 11.603 15.0874 2.7582 5.99556 8.74194 11.9567 16.7072 15.907 1.99538 5.33952 12.9879 55.677 1.80268 6.27139 10.775 16.9878 41.1704 10.8483 0.958455 9.46344 25.8003 126.269 0.283894 12.1215 27.175 51.3952 192.201 2.76429 5.98039 8.73385 11.9682 16.7519 0.507405 9.87412 21.4158 39.647 141.602 0.741268 8.47509 18.4014 34.0267 117.201 1.56064 6.11274 12.8094 23.2308 68.8106 1.48504 6.32093 12.8995 22.9907 68.0484 61.9716 7.0055 3.01155 5.24051 27.7535 0.492343 9.87852 23.6495 46.1925 169.696 2.96545 5.50643 8.5026 12.4084 18.3013 3.11675 5.18092 8.37139 12.8191 19.5733 3.01786 5.3909 8.45321 12.5428 18.7305 21.4141 4.47809 4.51483 6.74008 11.5036 0.263484 12.384 29.5548 57.7727 219.633 0.822386 8.04362 18.1702 34.3517 118.42 18.6367 2.68102 4.57732 10.086 34.7347 3.39527 4.63942 8.21555 13.7665 22.2292 4.97239 1.71419 21.0368 56.1222 274.435 3.13892 5.13522 8.35503 12.8852 19.7686 40.073 4.32462 3.4013 7.62335 31.7569 3.11738 5.17962 8.37092 12.821 19.5788 40.8223 0.134153 15.1822 49.5911 284.571 1.22359 6.6822 15.2824 29.1156 94.7703 10.4515 0.772995 11.411 31.7874 153.395 1.17155 6.86089 15.357 28.8957 94.0924 1.60856 5.98632 12.7593 23.3955 69.3111 53.5886 2.62405 3.77585 14.6475 94.8978 122.256 11.5259 2.09116 5.06159 62.7044 3.06347 5.29279 8.41366 12.6665 19.1136 1.37167 6.65525 13.0617 22.6754 66.9617 32.7737 1.52529 5.54156 17.8297 98.7867 0.00313138 31.4224 72.4849 140.712 571.318 0.0313195 21.4491 46.442 86.9688 341.247 0.608988 9.2981 18.9061 33.6512 115.329 2.55295 6.53956 9.05633 11.6354 15.2667 0.55302 9.70429 19.1805 33.5596 114.571 1.52938 7.00959 11.2107 16.5853 39.2751 2.55535 6.5328 9.05215 11.6384 15.2828 2.60464 6.3962 8.96918 11.7043 15.618 149.043 0.758756 7.95106 48.4867 390.286 3.08455 5.24818 8.39643 12.7259 19.2939 3.15386 5.10469 8.34441 12.9306 19.9016 3.19481 5.0221 8.31691 13.0587 20.2721 40.142 4.25252 3.39397 7.79995 32.2187 3.31356 4.79125 8.25034 13.4613 21.4003 110.154 4.50967 2.03982 16.8243 151.909 3.30111 4.81488 8.25642 13.4168 21.278 21.9317 3.46368 4.21494 8.48984 16.4422 3.31464 4.78921 8.24983 13.4651 21.411 3.15013 5.11228 8.34703 12.9192 19.8683 1.65736 5.86168 12.7135 23.5733 69.8361 2.0661 5.65985 10.4846 17.587 43.2288 3.04803 5.32575 8.42669 12.624 18.983 3.22359 4.96499 8.299 13.1519 20.538 3.16561 5.08082 8.33627 12.9668 20.007 68.2192 15.4822 8.68057 4.98279 2.8507 0.532944 10.1743 17.5066 27.7934 87.1113 2.37374 7.0751 9.40517 11.4628 14.1025 9.11764 1.22982 9.20268 24.0537 121.717 0.325609 11.7531 22.7317 39.3932 138.425 1.23618 7.96421 11.8735 16.4254 37.454 50.3672 3.31031 3.38742 11.2522 85.8904 0.305135 12.0301 22.9464 39.4304 138.08 0.323272 11.7838 22.7553 39.3965 138.385 2.83814 5.80042 8.64097 12.1159 17.3039 2.9156 5.61922 8.55361 12.2882 17.9035 67.0949 11.5522 5.53617 4.0286 5.93364 2.87419 5.71516 8.59906 12.1939 17.5802 2.83536 5.80708 8.6443 12.1101 17.2827 0.931432 7.81286 15.8477 28.1034 91.2289 1.99755 5.811 10.5492 17.4112 42.6675 2.88093 5.6994 8.59147 12.2089 17.6324 2.94281 5.5573 8.52528 12.3529 18.1194 39.4641 4.8977 3.50365 6.41336 28.4455 2.90718 5.63857 8.56263 12.2686 17.8372 2.89204 5.67354 8.57912 12.2339 17.7188 2.74829 6.02035 8.75525 11.9383 16.6348 2.9895 5.45303 8.4794 12.4691 18.4969 2.80737 5.87451 8.6785 12.0524 17.0717 2.89425 5.66842 8.57669 12.2389 17.736 1.41529 6.52325 12.9952 22.7903 67.3724 0.724519 8.57039 18.4559 33.9681 116.956 2.69301 6.16127 8.83286 11.8409 16.2361 49.5044 1.33447 5.87109 22.379 140.914 1.76069 6.37719 10.8323 16.9113 40.8649 2.76441 5.98008 8.73369 11.9684 16.7528 43.783 7.58956 4.58191 4.89076 8.14477 55.743 3.75416 3.06525 10.7063 71.1543 18.3627 2.8046 4.54259 9.61074 33.555 0.178109 14.0175 32.7517 63.4286 243.858 115.375 21.0772 9.06606 3.98582 3.29016 12.6002 1.08679 7.96858 21.6776 103.337 1.3934 6.58895 13.0279 22.7316 67.1652 64.4865 0.838661 7.5739 31.0811 206.27 0.98154 7.59418 15.7228 28.2377 91.796 1.84458 6.16828 10.7209 17.0694 41.481 1.00188 7.50878 15.6758 28.2971 92.0302 2.83557 5.80656 8.64404 12.1105 17.2844 2.75771 5.99677 8.74259 11.9558 16.7037 2.84303 5.78877 8.63516 12.1263 17.3411 0.687676 8.7884 18.5846 33.85 116.427 0.6986 8.72251 18.5451 33.8834 116.583 1.26369 7.00207 13.2501 22.4259 65.9807 0.279573 12.1867 27.2167 51.372 192.068 0.0504074 19.3901 44.9485 87.052 344.272 0.270997 12.3193 27.3026 51.329 191.806 2.76129 5.98785 8.73782 11.9625 16.7299 0.52572 9.72513 21.3246 39.7156 141.938 2.78627 5.92605 8.7052 12.0105 16.9143 2.4025 6.98476 9.34395 11.4833 14.284 3.29502 4.82648 8.25947 13.3953 21.2185 55.4444 3.88828 3.03851 10.2341 69.9546 61.7556 7.48794 3.21332 4.66029 25.9255 1.82324 6.2205 10.7481 17.0272 41.3221 2.92764 5.59172 8.54093 12.3165 17.9986 61.3796 8.12026 3.50897 4.02503 23.7087 12.2858 1.13023 7.88939 21.2595 102.349 0.833421 7.98843 18.1425 34.401 118.591 13.6167 0.948113 8.29802 23.3142 107.057 3.20618 4.99944 8.3097 13.0952 20.3766 1.53746 6.17542 12.8356 23.1546 68.5734 21.6431 3.99927 4.33636 7.40392 13.4938 16.8614 1.75604 5.57633 14.5524 59.3666 2.39916 4.99252 10.2683 18.6504 46.286 3.12927 5.15505 8.36206 12.8562 19.6833 0.699594 8.53343 20.6927 40.6506 145.364 13.105 1.01769 8.1173 22.4303 105.069 11.0866 0.689516 11.6474 32.9281 155.946 7.3305 0.994203 17.0588 46.8653 227.448 0.943845 7.47554 17.9095 34.9598 120.383 1.4551 6.40653 12.939 22.9022 67.7552 3.20233 5.00709 8.31212 13.0828 20.3412 3.32496 4.76974 8.24496 13.5024 21.5132 0.537456 9.63248 21.2691 39.7627 142.155 2.84725 5.77873 8.63018 12.1353 17.3732 0.922881 7.85142 15.8703 28.0822 91.1335 0.398899 10.7635 24.1439 45.5988 167.362 2.76829 5.97044 8.72857 11.9758 16.7814 2.81094 5.86587 8.67407 12.0596 17.0984 5.40081 1.557 18.885 50.3151 248.118 1.22525 7.13312 13.326 22.3494 65.6427 34.1893 2.33332 4.36939 13.0426 73.5466 3.35385 4.71571 8.23209 13.6088 21.8032 46.8152 1.00398 6.915 25.3623 161.543 2.64391 6.29027 8.90668 11.7621 15.8899 2.60843 6.38588 8.96303 11.7097 15.644 2.76629 5.97541 8.7312 11.972 16.7667 2.75128 6.01287 8.75123 11.9438 16.6566 0.540533 9.4884 23.4634 46.588 170.992 2.77977 5.94206 8.71359 11.9978 16.8661 2.55554 6.53227 9.05183 11.6387 15.2841 0.277673 12.2157 27.2353 51.3621 192.01 1.85582 6.14102 10.707 17.0922 41.5653 1.58578 6.84698 11.1081 16.6495 39.6491 18.2735 0.0970458 21.4173 62.9457 336.992 140.642 27.495 12.3034 4.93157 2.08919 74.0838 4.62391 2.45128 10.6308 88.0992 112.077 0.280611 12.0366 54.0481 380.585 43.8283 8.19079 4.9845 4.744 7.08867 0.162118 14.4202 33.0028 63.2601 242.999 2.84766 5.77774 8.62969 12.1362 17.3764 103.241 11.3714 2.88844 3.84273 42.0721 0.299501 11.8942 27.0326 51.4878 192.686 2.762 5.98608 8.73688 11.9639 16.7351 9.41354 0.92805 11.1343 30.3147 149.949 9.37606 0.93417 11.1267 30.269 149.838 2.90491 5.64378 8.56507 12.2634 17.8194 28.9573 0.755319 8.0765 25.7815 144.645 2.01844 5.76438 10.5287 17.4633 42.8365 77.1562 6.09682 2.29495 7.8299 66.4573 2.8884 5.68201 8.58315 12.2257 17.6904 0.00530878 29.131 68.7705 134.924 547.708 0.135657 15.1595 35.6695 69.3959 269.34 2.95039 5.54019 8.51759 12.3713 18.1801 2.69688 6.15127 8.82725 11.8474 16.2637 2.86165 5.74463 8.61339 12.1663 17.4836 2.93966 5.56441 8.52849 12.3453 18.0943 2.87588 5.7112 8.59715 12.1976 17.5933 1.9124 6.00628 10.64 17.2124 41.9965 0.588485 9.25274 21.0519 39.9961 143.12 8.99386 0.835999 13.1167 36.1726 176.702 2.87631 5.71019 8.59667 12.1986 17.5966 1.87197 6.10214 10.6873 17.1255 41.6872 2.81082 5.86615 8.67421 12.0594 17.0976 2.77682 5.94935 8.71742 11.9921 16.8443 39.5378 4.83418 3.48873 6.5328 28.788 30.6599 1.08846 6.69972 21.5372 121.188 34.2115 2.3283 4.37345 13.0717 73.6183 2.79186 5.91234 8.69805 12.0215 16.9559 93.1968 5.27461 1.97196 11.6682 107.777 0.67131 8.88921 18.646 33.8024 116.195 1.82272 6.22179 10.7487 17.0262 41.3182 0.699586 8.71661 18.5416 33.8865 116.597 1.84628 6.16414 10.7188 17.0728 41.4937 1.58583 5.15119 33.0159 82.417 396.781 9.42865 0.925593 11.1374 30.3332 149.995 2.71111 3.56598 16.1555 38.0482 188.154 0.150434 15.2793 23.8548 35.5936 109.471 0.00530659 29.1395 56.9719 101.482 388.542 1.49168 11.4305 13.0112 12.8574 9.31896 0.0259664 22.2997 41.415 71.143 261.836 0.0172584 24.0522 44.8824 77.4763 287.022 9.82004 3.19211 5.26701 9.25015 42.906 1.48682 11.4711 13.0484 12.8838 9.29616 44.4247 15.7976 11.389 7.67083 1.36647 0.0134176 25.1316 47.7258 83.3411 312.472 2.76393 5.98129 8.73433 11.9675 16.7493 15.8739 2.00332 5.3332 12.9422 55.5654 0.486442 10.0517 21.5274 39.5766 141.221 0.90406 7.93763 15.9217 28.0373 90.9249 15.505 2.09029 5.26999 12.464 54.3787 2.64495 6.28751 8.90508 11.7637 15.8971 66.9986 11.2451 5.30985 4.0263 6.29356 7.61448 0.999017 14.9209 40.6537 200.091 1.89868 6.03858 10.6557 17.1824 41.8909 1.32731 7.64544 11.6419 16.442 37.9993 2.73722 6.04821 8.77033 11.9181 16.5542 11.4582 0.875858 9.62605 26.641 128.236 2.03058 5.73752 10.5172 17.4941 42.9355 2.81994 5.8441 8.66297 12.078 17.1661 2.70733 6.12435 8.81221 11.8653 16.3384 2.76786 5.97151 8.72914 11.975 16.7782 0.517342 9.79261 21.3656 39.6834 141.783 9.91095 0.850475 11.2508 30.9676 151.509 0.498933 9.94495 21.4599 39.6175 141.447 1.38547 6.61303 13.0401 22.7109 67.0906 0.421567 10.5304 24.005 45.7205 167.91 2.93294 5.57966 8.53542 12.3292 18.0407 0.627439 8.9854 20.9098 40.2034 143.883 0.686149 8.7977 18.5902 33.8454 116.405 0.0125402 25.4026 59.7844 116.982 471.535 3.61357 2.51711 23.265 60.4302 296.653\r\n",
      "CM042338.1:6353755 15 0 125 0 9 92 52 0 76 22 0 100 49 0 95 49 0 98 83 0 107 57 0 28 49 0 98 36 36 36 90 9 0 96 0 50 49 0 76 35 0 141 21 0 100 52 0 76 41 0 98 27 0 59 3 0 148 0 15 126 108 0 158 71 0 53 0 6 67 30 0 31 56 0 24 77 0 25 44 0 98 36 3 0 0 6 59 57 0 28 29 0 150 30 0 25 0 3 37 77 0 42 49 0 79 8 0 154 27 0 59 78 0 48 12 0 132 0 0 0 0 0 0 93 0 107 0 0 0 66 6 0 0 0 0 36 3 0 24 0 64 24 0 81 132 0 76 57 0 28 18 0 108 106 0 91 23 0 59 0 0 0 26 0 59 120 0 69 79 0 25 0 0 0 0 3 36 0 0 0 0 0 0 0 0 0 0 0 0 24 0 59 0 3 35 30 0 31 0 3 37 0 6 67 30 0 31 0 6 58 0 0 0 0 0 0 21 0 100 18 0 104 50 0 28 77 0 50 27 0 31 31 0 27 0 12 113 0 0 0 0 6 67 49 0 92 30 0 27 0 12 113 80 0 25 54 0 56 24 0 77 0 6 67 74 0 73 72 0 77 109 0 48 79 0 19 153 21 0 106 0 91 77 0 53 74 0 77 0 6 67 95 0 45 0 3 37 0 0 0 0 18 143 17 0 114 0 9 92 54 0 56 0 3 37 75 0 151 36 3 0 54 0 56 18 0 114 0 12 113 30 0 31 139 18 0 21 0 100 45 0 73 0 27 164 16 0 121 0 0 0 0 3 37 27 0 59 91 0 70 43 0 123 0 21 150 0 27 169 57 0 21 21 0 100 12 0 133 0 3 37 33 3 0 0 21 150 0 3 37 52 0 76 40 0 133 39 0 108 22 0 94 37 0 137 35 3 0 0 45 190 148 0 104 0 6 64 0 36 184 40 0 133 0 24 158 0 0 0 66 6 0 36 3 0 0 0 0 0 3 37 106 0 48 0 0 0 36 3 0 0 0 0 0 0 0 96 0 22 66 6 0 79 0 25 96 0 22 36 3 0 72 0 96 36 3 0 93 0 74 93 0 59 96 0 22 77 0 53 90 9 0 74 0 76 118 0 86 104 12 0 74 0 73 0 9 76 0 0 0 35 0 117 93 0 74 75 0 48 139 18 0 165 27 0 74 0 77 0 3 37 88 0 22 0 0 0 0 0 0 92 0 50 37 0 113 84 0 87 24 0 81 9 0 136 27 3 0 54 0 53 0 0 0 0 9 80 0 0 0 0 3 37 0 3 37 0 0 0 24 0 81 57 0 24 36 3 0 0 3 37 0 3 37 45 0 56 90 9 0 0 3 37 0 3 37 0 15 129 66 6 0 0 6 67 36 3 0 0 0 0 95 0 50 24 0 66 0 3 37 66 6 0 0 12 113 116 0 105 0 0 0 66 6 0 0 3 36 0 3 37 30 0 19 0 3 37 0 9 90 54 0 56 0 3 37 0 12 113 0 0 0 0 3 37 0 9 92 0 0 0 69 0 111 61 6 0 0 0 0 0 3 37 0 0 0 0 0 0 0 24 162 0 0 0 0 12 112 0 0 0 0 3 37 0 0 0 0 0 0 0 0 0 0 0 0 0 0 0 0 9 92 0 9 92 0 0 0 0 0 0 0 6 59 54 0 48 0 9 89 0 0 0 0 0 0 0 6 67 0 36 184 0 6 64 0 3 37 0 0 0 0 6 67 0 3 37 0 0 0 0 12 113 0 6 64 0 9 86 0 12 110 0 0 0 30 0 31 0 0 0 0 0 0 0 0 0 0 0 0 0 0 0 0 0 0 0 0 0 0 15 129 0 0 0 0 0 0 0 0 0 0 0 0 0 0 0 0 9 92 0 0 0 0 12 113 54 0 18 0 0 0 0 9 92 54 0 56 0 18 134 0 12 113 0 0 0 0 0 0 0 12 104 0 12 109 0 6 67 0 3 37 0 0 0 0 3 37 0 12 107 0 0 0 0 3 37 0 0 0 0 3 37 0 0 0 0 3 37 0 6 67 0 0 0 0 3 37 0 0 0 0 0 0 0 12 113 0 18 141 0 0 0 74 0 77 0 0 0 66 6 0 0 0 0 0 0 0 0 12 113 0 6 67 0 6 67 0 3 31 0 0 0 0 3 33 0 0 0 0 0 0 0 21 151 0 0 0 0 6 62 0 0 0 0 3 37 0 0 0 0 6 67 0 3 37 0 6 67 0 0 0 0 0 0 0 0 0 0 24 162 0 6 67 0 0 0 0 0 145 0 9 92 0 27 167 0 6 67 0 6 67 0 24 162 0 0 0 15 0 122 0 6 64 0 0 0 0 0 0 0 0 0 0 0 0 0 0 0 0 0 0 0 0 0 0 0 0 0 12 113 36 3 0 69 0 111 0 0 0 0 0 0 0 3 37 104 0 107 0 0 0 66 6 0 0 3 37 0 6 67 0 0 0 0 0 0 0 0 0 0 3 37 0 0 0 0 0 0 0 0 0 0 9 92 0 0 0 0 0 0 0 0 0 0 0 0 0 0 0 0 0 0 0 6 67 0 0 0 0 0 0 0 0 0 0 0 0 0 3 37 0 0 0 0 0 0 0 0 0 0 0 0 0 0 0 0 6 67 0 0 0 0 0 0 0 0 0 0 0 0 0 0 0 0 0 0 2.61834 4.96749 9.4069 17.1015 43.251 24.5822 0.969324 7.11379 26.5886 115.856 0.54769 9.27579 34.7382 80.2467 261.227 1.45556 6.14357 13.9856 27.4233 76.0823 1.8713 5.57811 11.7262 22.1843 59.3498 11.6923 3.02227 4.62636 10.5203 35.2336 27.6486 6.52866 3.58592 4.95703 17.3103 0.60616 9.06735 22.0238 43.9222 126.008 1.67568 5.96759 12.1374 22.2776 58.7178 4.07122 4.45919 7.16463 12.4678 28.3929 16.5141 1.18785 6.74955 22.5088 91.2033 3.1523 4.38499 8.77711 17.1685 44.794 0.507447 9.72231 24.3631 49.3815 143.259 23.0625 2.24023 4.24873 16.5544 67.421 3.18131 4.35729 8.74684 17.1765 44.8805 6.12445 4.93301 5.91924 8.61562 13.8387 3.73879 4.7153 7.44532 12.3869 27.5411 0.340082 11.2366 40.0954 91.4375 295.136 2.1726 5.06769 11.1826 22.1274 60.3435 87.1969 21.6028 7.30298 1.70236 8.81772 56.6267 13.3213 4.70208 2.55793 12.227 11.3263 3.06499 4.68438 10.3546 34.5599 10.9823 3.10773 4.7408 10.2111 33.9455 17.7693 7.08782 5.30131 5.27671 7.07712 4.5167 2.29983 12.4337 32.3442 112.569 0.470048 10.2023 21.5376 39.3918 107.312 0.299094 11.98 25.0369 45.4616 123.753 16.5717 8.61908 6.91311 5.70644 4.33877 27.6526 6.52774 3.58481 4.95872 17.3182 0.963401 7.47852 17.0471 32.9863 92.0729 56.5782 13.3507 4.73441 2.54755 12.1197 81.8827 17.2338 4.62686 2.02093 20.6701 32.4915 3.70125 3.02098 11.2956 56.1772 5.34141 5.54189 6.58594 8.4315 11.8335 80.4335 24.4747 11.3008 4.74785 2.31227 29.9533 2.67935 3.71385 14.6628 70.3611 11.5418 3.03951 4.64998 10.4505 34.954 3.44705 4.96864 7.7198 12.3519 26.8182 9.95175 2.30637 5.60614 14.4539 50.6047 2.70387 4.86382 9.29567 17.101 43.4924 3.64124 4.79679 7.53393 12.3712 27.2969 38.1084 6.98979 2.90727 5.43356 27.7931 6.84649 1.87201 8.58739 22.9878 81.2272 3.48089 4.93772 7.68645 12.3541 26.901 33.5268 9.23745 4.50601 4.30106 8.10806 0.25178 12.5601 30.6338 60.9521 176.372 1.97023 5.39977 11.5369 22.1551 59.6731 0.412758 10.7379 22.0882 39.719 106.971 2.35048 6.26505 9.09112 12.6258 24.2754 0.674002 9.10858 17.065 28.8235 73.086 0.434321 10.6751 20.3471 34.7656 89.5768 4.01133 7.1756 8.30989 8.83187 8.76561 1.39546 7.18436 11.7296 17.8722 39.9815 37.7064 7.05204 2.98701 5.25762 27.0386 24.0318 4.57986 3.35726 7.32453 30.3104 13.1219 4.41103 4.3536 6.79455 18.8801 11.4684 3.04808 4.66163 10.4173 34.8188 32.3172 3.705 3.03167 11.2047 55.861 5.28218 5.59585 6.64416 8.42752 11.6886 3.40009 5.01224 7.76676 12.3497 26.7038 1.81778 5.67952 11.8336 22.2048 59.176 37.8529 7.02947 2.9582 5.31998 27.31 5.62809 1.9824 10.4052 27.5872 96.8807 5.5605 5.35293 6.38109 8.45936 12.3773 6.00225 5.01677 6.01219 8.57229 13.5138 18.4034 6.54934 4.71669 5.36828 8.65974 63.7438 10.4224 2.31581 4.91631 37.3904 6.10131 4.94859 5.93657 8.60704 13.7768 5.69171 5.24721 6.26573 8.48536 12.709 12.6542 2.92225 4.48247 11.0213 37.1185 5.7983 5.16511 6.17575 8.51129 12.9821 5.73369 5.21448 6.22991 8.49507 12.8162 14.9567 4.11197 3.97358 7.60085 22.3631 12.472 2.9399 4.50882 10.9191 36.7477 4.06281 4.46529 7.17135 12.4652 28.371 6.57905 4.65114 5.60274 8.81791 15.0926 18.3335 6.60252 4.77506 5.35032 8.47974 6.04615 4.98626 5.97838 8.58728 13.63 6.16141 4.90839 5.89183 8.62969 13.9379 4.1603 4.39575 7.09452 12.4962 28.6267 5.65446 5.27669 6.29795 8.4773 12.6144 6.23377 4.8611 5.83906 8.65849 14.1334 5.87098 5.11097 6.11621 8.53135 13.1701 15.1599 4.08193 3.93324 7.7129 22.7915 4.27856 4.31462 7.0045 12.538 28.941 4.01299 4.50179 7.21157 12.4507 28.2414 3.07725 4.45833 8.85712 17.1497 44.5716 5.89141 5.09602 6.09973 8.53733 13.2233 5.53604 5.37323 6.40317 8.45526 12.316 32.9475 10.1799 5.51685 4.29561 6.00511 0.460148 10.1908 23.1929 44.4225 124.951 1.16584 7.30707 13.5342 22.835 57.1061 0.880787 7.82706 17.411 33.1257 91.6861 0.826708 8.07546 17.6696 33.2351 91.4328 1.0693 7.29662 15.1939 27.823 74.595 4.74073 6.15654 7.24279 8.4715 10.4019 4.87153 6.00883 7.08608 8.44645 10.7067 0.157945 14.5167 34.3237 67.0447 192.635 0.825075 8.08324 17.6777 33.2386 91.4251 5.93455 5.06479 6.06528 8.55043 13.3359 20.8661 2.25585 4.375 14.9794 62.4118 15.2861 4.06359 3.90838 7.78485 23.0625 29.5951 1.93239 4.60241 19.3929 88.4055 15.6391 4.0136 3.83966 7.99602 23.8428 2.24184 4.96301 11.0704 22.1267 60.5759 6.38198 4.76791 5.7346 8.72256 14.5397 11.9271 2.11501 5.31697 15.6233 54.7848 7.07684 1.54929 9.89178 28.2606 100.062 2.30665 4.86873 10.9691 22.1296 60.7951 15.3999 4.04726 3.88609 7.85135 23.3105 22.5562 3.1766 3.61209 11.0841 46.7203 11.4834 0.566009 12.9213 40.3374 154.408 6.22092 4.86941 5.84835 8.65325 14.0986 6.10112 4.94872 5.93671 8.60697 13.7763 2.32442 6.30502 9.13278 12.6426 24.2179 4.00012 7.1945 8.3295 8.841 8.74127 12.5648 4.51208 4.47491 6.61915 17.9349 4.24941 6.8003 7.91934 8.6668 9.28838 35.9813 7.30232 3.29942 4.6602 24.1149 4.17076 6.91895 8.04308 8.71548 9.11452 3.89011 7.38686 8.52875 8.9379 8.50345 4.16407 6.92927 8.05383 8.71988 9.09979 1.64647 6.57213 11.0961 17.5531 40.6289 14.1774 4.23288 4.13155 7.21418 20.806 1.47549 6.09408 13.9333 27.4119 76.1599 32.6654 3.69759 3.01022 11.3888 56.4974 18.0168 1.62896 5.49367 18.3181 75.6197 23.2365 0.685103 8.52681 30.9326 131.589 14.0027 4.2612 4.16764 7.13664 20.4738 2.76533 4.79198 9.2184 17.1035 43.6672 24.6036 4.52984 3.2836 7.59661 31.3605 1.50447 6.02348 13.8587 27.3966 76.2729 11.9628 0.642808 11.3281 35.4138 137.239 28.4045 1.92504 4.64625 18.6805 86.1076 67.0976 13.4131 3.63928 2.8663 23.0218 27.3822 6.58992 3.65959 4.84926 16.7933 63.328 10.5082 2.42319 4.70515 36.5103 27.5659 6.54764 3.60881 4.92273 17.1482 59.532 8.27989 1.91242 6.82815 49.3738 12.0872 2.97914 4.56585 10.7144 35.9863 38.189 6.97718 2.89102 5.47074 27.9484 80.5686 25.2019 12.0501 5.17316 2.00148 1.51251 6.00419 13.8383 27.3926 76.3043 2.37373 5.29053 9.75146 17.1312 42.5712 11.4898 3.04557 4.65823 10.4269 34.8581 22.2535 3.18693 3.63544 10.916 46.1432 2.81436 3.34463 18.5528 47.5122 162.464 150.666 39.6178 13.923 1.90665 5.02102 22.248 3.18712 3.63587 10.9131 46.1329 45.815 5.7306 2.20421 8.83629 52.6307 3.62039 4.81462 7.55327 12.3684 27.2451 22.1696 3.18985 3.64188 10.8709 45.9862 2.65347 4.92438 9.36069 17.1007 43.3499 5.48543 5.41586 6.44948 8.44756 12.1895 138.552 22.9395 2.94 3.12688 60.3032 18.1368 6.75972 4.94672 5.30973 7.98127 1.87522 5.57082 11.7185 22.1829 59.3625 3.4317 4.9828 7.73506 12.3511 26.7808 8.26567 1.96373 6.97166 18.5906 65.7751 16.0549 1.19645 6.77644 22.2678 90.3697 1.02473 7.24075 16.7981 32.9015 92.3604 0.0590558 18.7042 45.3033 89.7016 260.777 56.5995 13.3379 4.72025 2.55205 12.1667 1.80619 5.70198 11.8573 22.2098 59.1384 5.22057 5.65338 6.70609 8.42507 11.5388 1.77846 5.75641 11.9148 22.2222 59.0487 56.7489 13.2471 4.62031 2.586 12.5014 14.0085 4.26027 4.16646 7.13912 20.4846 4.57171 6.36097 7.45869 8.51945 10.0134 4.52771 4.15442 6.8254 12.6408 29.6185 56.7722 13.2329 4.60464 2.59167 12.5544 129.874 40.1087 18.3995 6.8739 1.07882 17.9107 6.9558 5.15918 5.28239 7.42111 18.2115 1.62658 5.4834 18.4235 75.9775 23.6845 4.6102 3.40097 7.17293 29.6989 13.8814 4.28115 4.19287 7.08469 20.2464 80.2377 23.4306 10.2218 4.18265 2.8506 12.9711 2.89289 4.43753 11.2076 37.7809 15.3202 4.05868 3.90169 7.80462 23.1364 4.1036 4.4359 7.13891 12.4778 28.4776 15.347 4.05483 3.89644 7.82024 23.1947 10.7718 0.548043 14.5834 45.1861 171.162 6.50222 4.69573 5.65323 8.77939 14.8752 18.6137 6.39755 4.54919 5.4327 9.2094 13.1331 2.87853 4.415 11.307 38.1285 10.446 2.24915 5.52631 14.7061 51.5719 29.7628 1.93367 4.59592 19.5026 88.7511 63.0655 4.48159 2.04185 17.2647 104.707 28.9632 6.23262 3.22071 5.61364 20.1186 1.11562 6.47576 28.4951 68.8537 228.632 6.17693 4.89814 5.88041 8.63573 13.9797 4.59016 4.1164 6.78261 12.6696 29.7918 15.5341 0.190586 18.2478 57.7706 225.711 59.3724 8.29519 1.93461 6.74931 49.0726 32.1178 3.70937 3.04378 11.1035 55.5049 57.538 2.55041 3.56613 23.7536 132.049 24.213 4.56401 3.33413 7.40764 30.637 96.8766 29.8651 13.8546 5.52077 1.69214 32.2024 3.7075 3.03866 11.146 55.6553 118.58 30.8086 10.8322 1.7166 6.14207 32.0786 3.71023 3.04614 11.084 55.4358 48.8674 2.11028 4.18859 24.3643 125.044 47.9525 7.6936 2.50288 5.72284 37.0285 35.9045 1.68472 5.00843 22.4699 109.8 13.8513 0.933755 8.24302 26.1972 104.606 37.5914 0.244473 12.6321 48.5371 213.564 0.929365 7.17936 29.2338 69.0786 227.725 79.5182 8.07422 1.06832 12.0575 87.7234 83.0747 6.00506 1.34828 17.9617 123.443 3.03031 5.38715 8.16769 12.3704 25.8214 13.0463 0.740631 9.73148 30.8451 121.187 1.84862 5.62064 11.7712 22.1926 59.276 23.3954 4.63534 3.43666 7.05423 29.2039 2.44756 5.18861 9.64306 17.1176 42.7748 3.38811 5.0235 7.77888 12.3493 26.6748 1.78795 5.73766 11.895 22.2179 59.0794 0.79528 8.0817 19.3366 38.3669 109.205 2.46075 5.17081 9.6241 17.1156 42.8113 51.0767 3.79298 2.54749 15.8131 91.539 2.58243 5.01238 9.45495 17.1032 43.1503 16.521 1.18773 6.74914 22.5126 91.2161 27.7362 6.50858 3.56164 4.99424 17.4837 2.44167 5.19659 9.65156 17.1185 42.7585 73.0369 11.3455 2.16455 4.96053 45.3475 53.0004 4.98725 2.0566 12.2148 76.1435 82.0638 17.1419 4.52427 2.07581 21.0718 17.6818 1.63353 5.51135 18.1438 75.0177 32.9821 10.1127 5.44541 4.28585 6.12775 24.5748 4.53236 3.28736 7.5822 31.3062 45.7732 5.73268 2.20804 8.81445 52.5527 53.5705 4.98369 2.03169 12.502 77.1423 1.14067 6.83219 16.3687 32.7773 92.9055 87.5054 21.1967 6.86897 1.67761 9.69833 58.9906 3.4015 2.73715 19.7426 116.078 16.3123 1.19145 6.76132 22.4008 90.8329 10.161 2.28128 5.57164 14.5574 51.0087 32.858 10.3624 5.71023 4.32842 5.6887 52.4113 9.99137 3.06251 3.94941 25.2299 23.8323 0.685587 8.50329 31.2612 132.683 28.6239 1.92617 4.63847 18.8033 86.5123 14.3003 4.21321 4.1063 7.27071 21.0432 27.6399 6.53066 3.58833 4.95339 17.2932 3.53807 4.88644 7.63105 12.3589 27.0414 71.7909 17.3194 5.85911 1.99858 10.4178 12.1058 0.633698 11.3131 35.4854 137.503 3.16469 3.0503 16.5782 42.3583 145.384 1.78754 5.73847 11.8959 22.2181 59.0781 24.2958 4.55676 3.32349 7.44659 30.7882 149.293 23.5168 2.3712 3.80612 71.1957 1.77458 5.76411 11.9229 22.2241 59.0362 73.322 11.3009 2.1078 5.0812 45.8754 11.6674 3.02509 4.63024 10.5086 35.1872 32.2477 3.70651 3.03591 11.169 55.7362 17.7854 1.63205 5.50588 18.1968 75.2021 2.93508 3.27524 16.82 42.3526 144.814 2.7757 10.5102 11.7163 11.1529 6.21072 2.80482 10.3808 11.5853 11.0458 6.26807 2.74799 10.6377 11.8452 11.2592 6.15627 2.84532 10.208 11.4104 10.9043 6.34805 2.86871 10.1118 11.3129 10.8262 6.39435 2.76944 10.5386 11.745 11.1765 6.19841 2.77783 10.5006 11.7065 11.1449 6.21491 2.83639 10.2454 11.4483 10.9348 6.33039 2.79617 10.4188 11.6238 11.0772 6.25101 2.79957 10.4038 11.6086 11.0648 6.25771 13.0508 0.740416 9.7311 30.8473 121.195 1.02324 7.2463 16.804 32.9034 92.3535 31.4832 0.588004 9.00966 35.1727 156.484 1.75227 5.80878 11.9701 22.235 58.9642 11.2058 3.07967 4.70393 10.303 34.3426 37.7809 2.3367 3.95695 18.5786 94.7242 135.057 19.9951 1.67226 5.09237 74.3142 71.9885 17.1413 5.66647 2.01797 10.9101 20.5495 0.353293 11.5983 39.7368 162.881 25.8026 6.95655 4.08861 4.36504 14.0056 80.5295 24.9902 11.8322 5.04683 2.08722 22.2809 3.18598 3.63333 10.931 46.1949 8.72983 1.88776 6.8739 18.8123 66.6912 56.7139 13.2684 4.64376 2.57768 12.4223 6.5215 1.95952 8.69027 22.866 80.5936 19.4827 2.27599 4.45282 14.2094 59.8164 20.3793 0.354383 11.606 39.6474 162.576 8.56726 0.763469 16.5531 49.2471 184.824 5.2842 5.59399 6.64215 8.42763 11.6935 5.57018 5.34495 6.37239 8.46105 12.4016 89.0786 8.98574 0.899493 12.1632 96.0032 12.0577 2.98226 4.5703 10.6994 35.9291 3.00079 4.53567 8.94124 17.1335 44.347 2.48563 5.1376 9.5887 17.1122 42.8803 13.3052 0.728573 9.70913 30.9734 121.654 17.7857 7.07217 5.2845 5.27689 7.11663\r\n",
      "CM042338.1:7214312 0 15 119 0 9 89 0 0 0 0 0 0 0 0 0 0 0 0 0 6 67 0 6 67 0 6 64 0 0 0 0 3 37 0 6 49 0 0 0 0 30 161 0 12 113 0 6 64 0 3 37 0 6 64 0 3 37 0 9 77 0 12 92 0 0 0 0 6 67 0 0 0 0 3 37 0 9 89 0 3 37 0 9 92 0 0 0 0 0 0 0 9 89 0 0 0 0 3 27 0 3 27 0 3 37 0 12 113 0 6 67 0 9 89 0 15 118 0 21 154 0 3 37 0 6 67 0 12 113 0 0 0 0 0 0 0 3 37 0 6 67 0 15 129 0 75 198 0 0 0 0 18 143 0 21 154 0 6 67 0 15 129 0 48 192 0 21 154 0 27 170 0 0 0 0 3 37 0 0 0 0 0 0 0 6 67 0 3 37 0 3 37 0 3 33 0 0 0 0 0 0 0 12 110 0 6 59 0 0 0 0 12 110 0 3 37 0 0 0 0 0 0 0 3 27 0 6 67 0 12 107 0 0 0 0 3 37 0 3 27 0 12 113 0 9 69 0 15 127 0 3 37 0 3 37 0 3 37 0 3 37 0 3 37 0 6 67 0 18 143 0 12 113 0 9 92 0 3 37 0 6 67 0 12 113 0 6 67 0 6 67 0 0 0 0 6 67 0 18 143 0 18 143 0 3 37 0 0 0 0 3 37 0 0 0 0 9 92 0 9 92 0 6 67 0 24 162 0 0 0 0 6 67 0 12 113 0 12 113 0 3 27 0 3 27 0 9 78 0 12 110 0 0 0 0 3 37 0 9 92 0 0 0 0 12 104 0 15 122 0 0 0 0 3 37 0 9 86 0 0 0 0 0 0 0 0 0 0 15 129 0 0 0 0 3 37 0 6 64 0 12 104 0 15 127 0 3 37 0 12 113 0 3 37 0 3 27 0 3 37 0 9 85 0 3 37 0 0 0 0 15 129 0 3 37 0 6 67 0 3 37 0 3 37 0 27 170 0 6 67 0 18 143 0 0 0 0 0 0 0 0 0 0 12 113 0 33 180 0 3 37 0 0 0 0 9 92 0 12 113 0 0 0 0 0 0 0 6 59 0 3 22 0 15 122 0 0 0 0 6 67 0 6 67 0 0 0 0 6 67 0 15 129 0 0 0 0 0 0 0 0 0 0 9 92 0 21 154 0 12 113 0 3 37 0 9 92 0 0 0 0 0 0 0 6 67 0 0 0 0 3 33 0 9 89 0 3 33 0 15 127 0 0 0 0 15 129 0 3 37 0 9 92 0 9 82 0 12 113 0 9 92 0 15 124 0 27 170 0 15 123 0 45 191 0 27 167 0 6 67 0 6 67 0 0 0 0 6 67 0 0 0 0 0 0 0 9 92 0 12 113 0 6 67 0 0 0 0 15 129 0 18 143 0 6 67 0 9 92 0 6 67 0 3 37 0 0 0 0 0 0 0 6 67 0 3 37 0 9 92 0 9 92 0 0 0 0 27 170 0 0 0 0 9 92 0 0 0 0 0 0 0 6 67 0 18 143 16 0 59 0 9 92 0 12 113 0 21 149 0 18 143 0 3 37 0 3 37 0 36 184 0 0 0 0 3 37 0 3 37 0 0 0 0 33 178 0 9 73 0 0 0 0 0 0 0 3 27 0 6 64 0 9 78 0 0 0 0 6 67 0 0 0 0 9 92 0 3 33 0 9 85 0 0 0 0 3 37 0 6 49 27 3 0 0 12 113 0 3 33 0 9 85 0 0 0 22 0 94 0 0 0 0 6 67 0 15 127 0 3 27 0 9 92 0 12 110 0 3 37 0 15 125 0 0 0 0 9 89 0 3 37 0 0 0 0 6 59 0 15 124 0 0 0 0 0 0 0 3 37 0 3 37 0 6 45 0 0 0 0 9 85 0 12 97 0 6 67 0 0 0 0 0 0 0 3 37 0 12 104 0 3 33 0 3 37 28 0 56 0 3 37 0 6 67 0 9 89 0 0 0 0 0 0 0 3 27 0 0 0 0 9 92 0 36 184 0 27 170 0 12 113 0 15 129 0 6 67 0 15 129 0 27 167 0 3 37 0 6 67 0 15 129 0 18 143 0 3 37 0 9 92 0 0 0 0 0 0 0 6 55 0 33 173 0 27 166 0 12 110 0 12 107 0 18 139 0 3 37 0 15 119 0 12 104 0 18 134 0 6 60 0 6 59 0 3 27 0 0 0 0 24 162 0 9 92 0 0 0 0 12 113 0 3 37 0 21 154 0 12 113 0 24 162 0 12 113 0 9 92 0 0 0 0 9 92 0 6 67 0 24 162 63 0 141 0 0 0 74 9 0 0 15 129 0 12 113 0 0 0 0 0 0 0 12 113 0 6 67 0 3 37 0 12 113 0 33 178 0 48 191 0 15 128 0 18 143 0 3 37 0 3 37 0 0 0 0 24 162 0 21 154 0 0 0 0 12 113 0 15 129 0 6 64 0 0 0 0 15 129 0 3 37 0 0 0 0 6 64 0 0 0 0 6 64 0 3 37 0 0 0 0 3 27 0 3 33 0 3 33 0 18 131 0 3 33 0 24 161 0 6 67 0 6 67 0 15 129 67 0 160 0 27 170 0 18 143 0 6 67 0 15 129 0 6 67 0 3 37 0 18 143 0 6 67 0 9 92 0 9 92 0 33 180 0 12 113 0.135163 15.4984 26.2648 40.6905 108.081 0.00680269 28.0613 56.0783 100.01 367.986 0.00155976 34.449 71.0486 129.674 497.858 0.396639 11.9401 17.5535 23.1561 30.4054 0.0967679 16.8174 29.1964 46.4228 133.677 76.9729 0.650928 8.57398 34.921 236.541 0.0221581 22.9668 44.1213 76.3017 264.112 0.0989016 16.7165 29.2257 46.6258 134.106 0.239446 13.7053 20.2804 27.8059 53.748 0.290683 12.5719 20.7069 30.3057 58.9276 0.191915 14.1665 23.3699 35.0595 82.6665 0.220054 13.456 23.8811 37.164 86.7382 0.200064 13.9516 23.4785 35.5939 83.7392 0.289499 12.001 28.5508 50.6934 110.967 0.435493 11.1363 18.1415 25.5596 35.0516 0.219544 13.4681 23.8681 37.1185 86.6537 0.138562 15.3787 26.3088 40.9517 108.622 0.180872 14.4711 23.2677 34.4159 81.3203 0.417145 11.5047 17.7982 24.2937 32.6662 0.0921906 17.0415 29.1507 46.0144 132.788 0.0160088 24.3654 47.0831 81.9968 289.578 0.0660299 18.3961 32.1109 51.7628 158.373 0.160599 15.0766 23.2043 33.442 79.1072 0.0152003 24.5915 47.0572 81.6298 288.752 0.0904897 17.1275 29.1395 45.8716 132.467 0.018729 23.7364 41.3733 68.0962 232.212 0.0761204 18.2143 26.7196 37.9502 100.573 0.107107 17.0881 23.7953 31.9685 74.3577 0.0531976 19.2563 35.1543 58.3742 185.866 0.0907647 17.1135 29.1411 45.8944 132.519 0.0376859 20.7137 38.0965 63.9438 211.066 0.053053 19.2684 35.1513 58.3509 185.816 0.135394 15.4901 26.2675 40.7079 108.117 0.254044 13.3636 20.3289 28.3839 55.0417 0.184531 14.3684 23.2961 34.6196 81.7538 0.178838 14.5291 23.2543 34.3066 81.0842 0.0689597 18.2 32.1361 52.0876 159.102 0.379472 12.3261 17.4419 22.3789 28.7558 0.265055 13.1164 20.4015 28.8841 56.1018 24.6387 0.877127 7.62364 21.8019 107.158 0.134572 15.5194 26.2579 40.6465 107.989 0.13292 15.5788 26.24 40.5254 107.733 0.130666 15.661 26.2184 40.3649 107.391 0.38169 12.275 17.452 22.4714 28.9584 0.179084 14.1326 27.5577 45.4399 117.02 0.0292489 21.7818 41.1166 70.2199 237.805 0.397986 11.9107 17.5657 23.2233 30.5433 0.111718 16.8823 23.6966 32.0342 74.7209 0.0320321 21.5098 35.4903 56.0128 179.535 0.281977 15.0574 18.1212 20.1055 21.8814 0.267573 15.5783 18.4153 20.0405 21.1011 0.108529 17.0238 23.7637 31.9875 74.469 0.0523922 19.6253 29.7913 43.8672 126.335 0.0661887 18.3853 32.1119 51.7797 158.412 0.373159 12.4735 17.4199 22.1272 28.1943 0.218962 14.2147 20.2969 27.1387 52.1106 0.092123 17.0449 29.1502 46.0086 132.775 0.0710935 18.0623 32.1647 52.3396 159.649 0.175546 14.624 23.2359 34.1354 80.7093 0.247502 13.5147 20.3007 28.1136 54.4474 0.254032 13.3639 20.3288 28.3834 55.0406 0.0281813 21.945 41.0873 69.9315 237.173 0.12833 15.7475 26.1994 40.2043 107.042 0.0747425 17.8358 32.2339 52.8024 160.623 9.69877 1.75166 7.1074 15.2249 42.9341 8.09353 1.64378 8.32564 18.8758 66.0103 0.426921 11.3061 17.9646 24.9343 33.8865 0.159943 14.6842 26.7795 42.9434 112.497 0.40556 11.7474 17.6439 23.62 31.3449 0.155804 14.8115 26.66 42.5043 111.671 9.58287 1.9118 6.80095 14.3112 41.2736 0.408236 11.6906 17.6757 23.7681 31.6393 0.292246 12.54 20.7325 30.4061 59.1198 8.14597 1.60287 8.43714 19.1861 66.5665 0.151852 14.9361 26.5594 42.1113 110.92 0.460471 10.663 18.8647 27.829 39.1399 0.145352 15.1479 26.4207 41.5149 109.756 0.427912 11.2863 17.9835 25.0034 34.0164 0.0666253 18.2513 35.7612 61.0904 191.208 0.155857 14.8099 26.6614 42.5098 111.681 9.49567 2.02771 6.61155 13.7211 40.1805 11.5473 2.05674 6.24545 12.1326 20.6445 0.416934 11.5091 17.7949 24.2807 32.641 0.300819 12.3675 20.8894 30.9902 60.223 0.432508 11.195 18.0764 25.3345 34.6348 0.149806 15.0019 26.5123 41.9171 110.545 8.26644 1.50777 8.723 19.9666 67.9508 0.207452 13.7635 23.6033 36.1274 84.7801 0.266685 13.0805 20.415 28.9632 56.2656 0.274653 12.9076 20.4921 29.3707 57.0952 0.031945 21.4429 38.0991 62.9472 208.678 0.122566 16.427 23.5035 32.2361 75.6049 50.771 0.00029132 42.3134 127.509 730.043 0.0134445 25.1268 47.0749 80.933 287.052 0.0129329 25.2959 47.1 80.7554 286.579 0.0757824 17.9435 29.176 44.8279 129.895 0.0100937 26.3608 50.0702 86.9276 313.171 0.229389 13.9508 20.2765 27.4585 52.9206 0.222224 14.1311 20.2879 27.2345 52.3592 0.420934 11.4271 17.8585 24.5335 33.1267 0.117419 15.919 29.7073 48.7815 138.349 0.435058 11.1448 18.1318 25.5264 34.9902 0.166445 14.4902 26.9991 43.6971 113.889 0.234141 13.1304 24.3065 38.5588 89.2822 0.423494 11.3751 17.9022 24.7016 33.4466 0.448578 10.8845 18.4767 26.6525 37.0424 0.474069 10.4178 19.435 29.4674 42.0137 0.450292 10.8522 18.5273 26.8101 37.3257 0.216685 13.5366 23.7982 36.8697 86.1894 0.225515 13.3276 24.0301 37.6712 87.6731 0.284453 12.7006 20.6133 29.9225 58.1869 0.287348 12.6405 20.6551 30.0973 58.5264 0.438729 11.0732 18.2166 25.8131 35.5181 0.118191 15.8885 29.7371 48.8896 138.551 0.0428995 20.3336 32.5271 50.0106 153.338 0.0393522 20.7192 32.707 49.877 152.647 0.0505623 19.5975 32.2573 50.4302 154.892 0.0101694 26.3438 47.4135 80.003 284.15 0.0336274 21.2946 35.4025 56.1156 179.961 0.081948 17.8702 26.5621 38.0766 101.202 0.0710794 18.5326 26.8814 37.8698 100.043 0.116564 16.6742 23.6038 32.1163 75.1105 0.086071 17.6405 26.4683 38.1862 101.658 0.260113 13.2263 20.3649 28.6523 55.6161 0.39909 11.8866 17.576 23.2792 30.6575 0.270801 12.9907 20.4525 29.1693 56.6881 0.264816 13.1216 20.3995 28.8726 56.078 0.13237 15.5987 26.2344 40.4858 107.649 0.128209 15.7521 26.1986 40.1962 107.025 0.0774791 17.6729 32.3028 53.1774 161.388 0.136121 15.4644 26.2764 40.7628 108.232 0.194633 14.0939 23.4028 35.2318 83.0162 0.387192 12.1499 17.4824 22.7108 29.4741 0.0130874 25.2297 50.177 88.7148 317.234 0.100519 16.6413 29.2512 46.7852 134.438 0.0915085 17.0758 29.1458 45.9565 132.659 0.408675 11.6814 17.6811 23.7928 31.6882 0.03889 20.5748 38.1207 64.1876 211.602 0.26743 13.0642 20.4214 28.9998 56.3411 0.194534 14.0966 23.4016 35.2254 83.0033 0.0989347 16.7149 29.2262 46.629 134.113 0.120778 16.0379 26.1622 39.7228 105.961 0.403598 11.7894 17.622 23.5141 31.1328 0.37353 12.4648 17.4209 22.1415 28.2267 0.250459 13.446 20.3121 28.2334 54.7129 0.194213 14.1051 23.3975 35.2048 82.9616 0.0435415 20.0757 38.2941 65.2531 213.816 0.0238909 22.6375 44.2324 76.9973 265.56 0.194047 14.1095 23.3955 35.1942 82.9401 0.397097 11.9301 17.5576 23.1789 30.4522 0.0537822 19.2075 35.1674 58.4699 186.07 0.00417072 30.1806 62.1753 112.712 421.722 0.266927 13.0752 20.4171 28.9751 56.2901 26.186 1.34901 6.11439 17.002 81.8612 0.0388004 20.585 38.1186 64.169 211.561 0.0562645 18.9039 60.1057 129.705 578.095 0.0716185 18.029 32.1731 52.4037 159.786 0.0504076 19.4964 35.1075 57.9418 184.923 0.0534654 19.2339 35.1602 58.4178 185.959 0.254081 13.3628 20.3291 28.3855 55.0451 0.00690548 27.9961 56.091 100.127 368.242 0.249246 13.4741 20.3071 28.1838 54.6034 0.2514 13.4243 20.3162 28.2723 54.7985 0.177712 14.5614 23.2475 34.2472 80.955 0.246113 13.5472 20.296 28.0586 54.3243 0.25005 13.4555 20.3104 28.2166 54.6759 0.0715849 18.0311 32.1725 52.3996 159.778 0.0383199 20.64 38.1082 64.0706 211.346 0.202435 14.655 20.3789 26.7102 50.9146 0.447806 10.8991 18.4545 26.5827 36.9167 80.8957 12.1596 5.6138 3.93116 5.84753 0.138615 15.3769 26.3096 40.9558 108.63 0.252861 13.3907 20.323 28.3336 54.9323 0.0565512 18.9836 35.2451 58.9476 187.063 0.360585 12.7766 17.4046 21.6751 27.1378 0.248269 13.4968 20.3034 28.1443 54.5158 0.420497 11.436 17.8513 24.5054 33.0729 0.437889 11.0895 18.1966 25.7463 35.3955 0.43651 11.1164 18.1646 25.6382 35.1966 0.210249 13.6938 23.6576 36.3429 85.1933 0.164139 14.5581 26.9165 43.4202 113.381 0.0373926 20.7027 41.7428 73.0791 243.45 6.27217 1.43887 13.4203 32.2676 122.397 0.426675 11.311 17.96 24.9174 33.8546 0.229363 13.2388 24.1468 38.0531 88.3692 0.413594 11.5783 17.7462 24.078 32.2479 0.318461 12.0248 21.3121 32.4012 62.8109 0.161282 14.6436 26.8214 43.092 112.774 0.126323 15.5779 30.1085 50.1414 140.85 0.279892 12.7962 20.5531 29.6583 57.6683 0.307135 12.2429 21.0241 31.46 61.0953 0.451598 10.8276 18.567 26.9326 37.5454 0.39261 12.0288 17.5202 22.9607 30.0007 0.390186 12.0827 17.5023 22.8471 29.7627 0.251317 13.4262 20.3158 28.2689 54.7909 0.134279 15.5299 26.2546 40.6248 107.943 0.126885 15.8018 26.1895 40.1078 106.83 0.256556 13.3065 20.3426 28.4929 55.2767 0.0161302 24.3325 47.0888 82.0545 289.705 0.242938 13.6221 20.2872 27.936 54.047 0.126253 15.8258 26.1856 40.0662 106.738 0.130709 15.4182 30.3573 50.9179 142.245 0.0619214 18.686 32.1032 51.347 157.394 0.363471 12.7059 17.4048 21.7733 27.3734 0.0187633 23.6939 44.0622 75.1735 261.531 0.00500562 29.3905 59.0629 105.851 393.76 0.1255 15.8544 26.1812 40.0172 106.63 0.0168667 24.1247 51.0874 92.2443 323.952 0.0381447 20.6603 38.1047 64.0352 211.268 0.153913 15.2915 23.2171 33.1737 78.4376 0.126431 15.819 26.1867 40.0779 106.764 0.0038912 30.482 62.0878 112.107 420.445 0.0320026 21.4349 38.0981 62.9559 208.701 0.126667 15.8101 26.1881 40.0934 106.799 0.246714 13.5331 20.298 28.0822 54.3774 0.176228 14.6042 23.2394 34.1703 80.7863 0.0300175 21.6679 41.145 70.4384 238.273 0.0283715 21.9155 41.0917 69.9816 237.284 0.180801 14.4732 23.2672 34.412 81.312 0.133381 15.5622 26.2448 40.5589 107.804 0.139275 15.354 26.319 41.0081 108.737 0.134647 15.5167 26.2588 40.6521 108 0.00118841 35.6294 74.0555 135.768 524.194 0.0359401 20.9231 38.0765 63.6123 210.312 0.0356201 20.9626 38.0748 63.5543 210.177 0.397701 11.9169 17.5631 23.209 30.5141 0.128167 15.7536 26.1983 40.1933 107.018 56.288 7.26705 4.24956 5.03424 9.10978 0.187187 14.295 23.32 34.7733 82.0762 0.012921 25.2855 50.1576 88.5958 316.987 0.0715432 18.0338 32.1719 52.3945 159.767 0.142333 15.2493 26.3669 41.2574 109.242 0.141872 15.2649 26.3593 41.2191 109.165 0.0482604 19.6902 35.0891 57.635 184.225 0.0301697 21.6457 41.1513 70.4828 238.367 0.402216 11.819 17.6072 23.4409 30.9854 0.393921 11.9998 17.5306 23.0233 30.1311 0.0992434 16.7005 29.2308 46.6591 134.176 0.107247 16.3407 29.3901 47.5032 135.891 0.197195 14.0264 23.4369 35.3996 83.3531 0.13574 15.4778 26.2717 40.734 108.172 0.388123 12.129 17.4884 22.7527 29.5632 0.0954031 16.8832 29.1804 46.2973 133.407 0.0688294 18.2086 32.1347 52.0726 159.069 0.0302372 21.6359 41.1542 70.5026 238.408 0.0164368 24.2503 47.1053 82.2034 290.029 0.176195 14.6052 23.2392 34.1686 80.7825 0.128808 15.7297 26.203 40.2367 107.113 0.391257 12.0589 17.51 22.8969 29.8674 0.0375679 20.7276 38.0946 63.9206 211.014 0.177656 14.563 23.2472 34.2443 80.9486 0.386157 12.1733 17.4761 22.6647 29.3756 0.18014 14.4919 23.2627 34.3762 81.2349 0.256651 13.3043 20.3432 28.4971 55.2856 0.0886496 17.2223 29.131 45.7225 132.127 0.0714304 20.02 23.7238 26.8278 43.9318 0.00260287 32.2569 53.5247 86.5662 304.931 0.0146387 25.096 35.7908 50.8067 148.179 0.0480076 20.885 26.4046 32.6098 70.2256 0.207498 18.4381 20.4711 20.736 18.2641 0.199829 18.9359 20.8804 20.9854 17.943 0.0110879 26.1775 38.6523 56.7051 174.367 0.205008 18.5948 20.5987 20.8114 18.1589 0.201899 18.797 20.7651 20.9129 18.0288 0.0155796 24.8221 35.5623 50.6609 148.342 0.12653 15.8153 26.1873 40.0844 106.779 0.1305 15.6671 26.2169 40.3533 107.366 0.0903295 17.1357 29.1386 45.8584 132.438 0.173312 14.6895 23.2258 34.0231 80.4597 0.23971 13.699 20.2808 27.8156 53.7704 0.163244 14.9939 23.2038 33.5551 79.3797 0.00184811 33.7123 71.2614 131.151 500.976 0.00721223 27.8071 56.1398 100.494 369.022 0.0983774 16.7411 29.218 46.5752 134 0.0640489 18.7126 29.3876 44.2331 128.043 0.246888 13.5291 20.2986 28.0891 54.3929 0.0100815 26.3566 53.2195 94.9602 343.861 0.00247029 32.4527 68.2697 125.199 474.951 0.181635 14.4495 23.2732 34.4576 81.4098 0.169782 14.7943 23.2138 33.8521 80.0729 0.379796 12.3186 17.4433 22.3923 28.7852 0.130505 15.6669 26.2169 40.3537 107.366 0.0126964 25.3618 50.1339 88.4391 316.658 0.00211124 33.1349 68.0576 123.798 472.013 0.0232659 22.7534 44.186 76.7364 265.026 0.0100082 26.3883 53.206 94.887 343.712 0.00237803 32.6181 68.1933 124.804 474.155 37.0251 0.134607 15.1858 46.5537 252.577 0.0694003 18.1713 32.1413 52.1385 159.213 0.25957 13.2385 20.3613 28.6276 55.5639 0.00859619 27.05 53.0517 93.641 341.033\r\n",
      "CM042338.1:8063221 83 9 0 83 9 0 0 0 0 36 3 0 0 24 162 0 0 0 0 9 92 57 0 28 67 6 0 66 6 0 0 9 92 0 0 0 27 3 0 0 6 66 109 12 0 66 6 0 91 9 0 66 6 0 0 0 0 43 0 125 66 6 0 92 0 50 0 0 0 36 3 0 67 6 0 83 9 0 36 3 0 149 0 106 0 0 0 75 9 0 0 0 0 0 0 0 37 3 0 0 6 67 0 0 0 0 9 92 0 0 0 0 0 0 33 3 0 36 3 0 0 0 0 0 0 0 36 3 0 0 0 0 66 6 0 139 18 0 66 6 0 0 0 0 90 9 0 30 3 0 0 0 0 36 3 0 30 3 0 0 0 0 0 0 0 36 3 0 49 0 98 0 3 36 0 6 67 0 0 0 108 12 0 66 6 0 36 3 0 57 0 28 0 3 37 66 6 0 0 0 0 33 3 0 97 0 22 94 0 67 66 6 0 0 0 0 36 3 0 0 0 0 36 3 0 0 9 92 58 6 0 0 0 0 31 0 30 0 12 112 0 0 0 0 0 0 30 0 31 66 6 0 62 6 0 0 0 0 0 0 0 0 0 0 0 0 0 54 0 56 0 6 66 57 0 27 106 12 0 0 0 0 0 12 110 36 3 0 0 0 0 66 6 0 0 0 0 0 0 0 0 3 37 0 0 0 0 0 0 36 3 0 0 0 0 0 0 0 66 6 0 0 0 0 66 6 0 36 3 0 36 3 0 0 0 0 0 0 0 0 0 0 0 0 0 0 9 92 30 0 31 36 3 0 30 0 31 0 0 0 36 3 0 66 6 0 67 6 0 0 0 0 110 0 18 0 0 0 30 0 31 63 6 0 36 3 0 30 0 31 0 9 92 68 0 110 30 0 31 66 6 0 0 6 67 30 0 30 0 9 92 0 9 92 0 0 0 25 0 31 76 0 25 51 0 56 0 0 0 80 0 25 0 12 113 52 0 79 66 6 0 0 0 0 0 0 0 0 6 67 0 0 0 66 6 0 0 0 0 110 12 0 0 0 0 30 3 0 102 12 0 36 3 0 0 0 0 36 3 0 66 6 0 91 9 0 66 6 0 0 0 0 0 0 0 0 0 0 146 24 0 0 0 0 0 0 0 0 0 0 36 3 0 61 6 0 139 18 0 0 0 0 0 0 0 0 0 0 0 0 0 30 3 0 0 0 0 0 0 0 0 0 0 36 3 0 24 0 59 0 0 0 56 0 28 0 0 0 63 6 0 0 0 0 0 6 67 31 0 31 66 6 0 0 0 0 66 6 0 66 6 0 24 0 30 0 0 0 36 3 0 0 0 0 0 0 0 0 0 0 0 0 0 0 0 0 52 0 79 36 3 0 66 6 0 0 0 0 0 0 0 0 0 0 0 0 0 0 0 0 0 0 0 66 6 0 0 0 0 30 3 0 0 3 37 0 0 0 0 6 67 0 0 0 61 6 0 82 9 0 0 0 0 0 0 0 0 0 0 0 0 0 0 0 0 0 0 0 0 3 37 0 0 0 0 6 66 0 0 0 30 0 30 30 0 30 0 18 143 0 0 0 0 0 0 89 9 0 66 6 0 0 9 92 88 33 27 36 3 0 0 3 36 0 12 112 24 0 58 0 0 0 0 0 0 61 0 122 25 0 73 36 3 0 66 6 0 24 0 79 30 0 30 89 0 109 34 3 0 121 0 16 27 0 58 0 3 37 67 6 0 30 0 31 0 12 108 89 0 108 91 0 50 66 6 0 0 3 37 0 6 66 92 0 73 0 12 112 16 34 149 110 0 134 58 6 0 0 0 0 15 0 79 44 0 78 18 0 113 24 0 80 0 6 67 65 6 0 91 9 0 0 18 140 36 3 0 55 0 28 27 3 0 58 6 0 0 3 37 12 0 132 0 0 0 0 3 37 27 0 30 36 3 0 36 3 0 66 6 0 0 3 36 0 0 0 33 3 0 90 9 0 30 0 31 63 6 0 27 0 31 63 6 0 0 3 36 93 0 73 0 6 67 36 3 0 0 0 0 95 0 50 21 0 58 0 0 0 0 0 0 36 3 0 36 3 0 90 9 0 0 12 111 0 3 37 0 9 91 0 0 0 21 0 98 0 0 0 95 0 50 30 0 30 0 3 37 0 3 37 0 0 0 52 0 78 96 0 22 127 0 12 0 0 0 66 6 0 0 0 0 0 0 0 0 0 0 0 0 0 80 0 25 0 0 0 66 6 0 0 6 67 0 0 0 36 3 0 18 0 110 0 0 0 0 0 0 0 6 66 0 9 92 90 9 0 0 6 66 36 3 0 110 12 0 0 6 67 0 3 37 79 0 24 0 0 0 0 0 0 0 0 0 0 0 0 0 0 0 0 0 0 0 0 0 0 3 37 36 3 0 36 3 0 36 3 0 0 0 0 0 6 64 0 0 0 0 0 0 0 0 0 0 0 0 0 0 0 0 0 0 0 3 37 57 0 28 27 0 59 0 0 0 30 0 31 0 0 0 0 0 0 66 6 0 36 3 0 0 3 36 136 18 0 127 15 0 57 0 28 0 3 37 97 0 21 0 6 67 0 6 67 0 0 0 0 0 0 36 3 0 0 9 91 0 0 0 0 0 0 0 0 0 0 3 36 0 3 37 0 3 37 37 3 0 0 3 36 90 9 0 36 3 0 0 3 36 5.93821 4.71305 5.61953 8.80243 28.4 41.6976 6.26835 3.07722 5.66472 40.3514 2.08761 5.14476 11.4708 23.4574 96.1895 3.18795 4.33262 8.69953 17.8584 73.3413 9.07449 6.76326 5.97072 6.14376 7.70456 98.6872 24.8659 12.1861 5.35461 1.90537 70.8631 4.45696 2.25693 13.2845 117.201 56.3039 5.16003 2.39295 9.25057 78.7675 8.53758 6.88898 6.29962 6.33028 7.25766 16.4314 1.43072 6.07343 19.6061 110.324 14.1445 1.04577 7.65683 24.0109 131.994 5.23325 3.94216 6.15831 12.6234 51.3431 4.63735 4.12766 6.61074 12.8892 50.8743 18.1246 1.2206 6.47018 23.7703 135.257 18.8059 2.04646 4.76196 15.4443 88.7583 10.35 6.59187 5.31688 5.82744 8.75458 52.8654 14.4473 7.59862 4.34821 3.73853 9.00338 6.77777 6.01217 6.16633 7.64553 46.7831 9 3.69842 3.56413 21.4168 8.81354 6.81959 6.12587 6.22966 7.48771 41.6447 6.26036 3.08319 5.66091 40.3047 2.77142 4.69214 9.30163 18.2906 73.0333 1.87852 5.47636 11.9631 23.837 96.0506 29.768 10.0944 6.48897 4.79953 4.61567 29.8379 10.0769 6.44503 4.77412 4.67394 7.14024 7.44668 7.38027 7.04454 6.08183 3.39389 5.72421 7.58225 10.0986 26.2615 6.60141 7.79315 7.9243 7.45038 5.62365 45.693 8.83811 3.84083 3.49353 20.4669 8.73234 6.83891 6.17592 6.25818 7.42009 8.82556 6.8168 6.11853 6.22552 7.49771 52.623 14.5419 7.80103 4.47508 3.54499 5.94833 4.71119 5.61383 8.79942 28.4084 8.92868 6.79368 6.05637 6.19071 7.58348 9.1275 6.75284 5.94022 6.12732 7.74853 21.4447 3.90232 3.68599 8.02254 43.9528 30.0066 10.0374 6.34164 4.71548 4.81441 8.83514 6.8146 6.1127 6.22223 7.50568 21.851 3.95352 3.62499 8.04014 44.3086 3.24536 4.28912 8.62331 17.8051 73.3838 38.9752 4.49351 2.95816 8.58582 61.4415 9.10841 6.75655 5.95117 6.1332 7.7327 30.1312 10.0106 6.26763 4.67453 4.91795 30.0163 10.0353 6.33582 4.71223 4.82245 11.1855 6.55045 4.96275 5.69128 9.43266 9.01811 6.77471 6.00354 6.16161 7.65776 9.34335 6.71372 5.81932 6.06371 7.92728 6.74727 7.68965 7.76763 7.33088 5.74793 3.67957 5.53466 7.28815 9.87765 26.5046 73.7691 21.6353 12.9105 7.14157 1.25607 1.27373 7.14945 12.7137 21.0344 71.9337 1.13101 7.21877 14.3297 25.7665 95.5639 0.792981 8.31988 17.2207 31.6038 119.097 66.648 12.4058 4.58821 2.38358 17.6363 29.787 10.0896 6.47693 4.79254 4.63155 8.00556 7.05578 6.66687 6.55703 6.81211 5.5414 4.79562 5.85238 8.92999 28.0705 9.04574 6.76905 5.98741 6.15281 7.6807 21.2901 3.88342 3.70906 8.0162 43.8169 21.1895 3.87129 3.72403 8.01218 43.7282 8.92835 6.79375 6.05656 6.19082 7.5832 58.8363 6.88975 2.51191 6.29783 57.5075 121.992 30.4472 14.8434 6.22723 1.3791 9.31989 6.71772 5.83221 6.07037 7.90788 23.0257 4.11327 3.44678 8.09841 45.3258 25.6797 5.90307 3.61661 5.20317 24.1868 26.1916 5.97922 3.5442 5.23462 24.628 43.5709 6.57196 2.86154 5.81242 41.9833 6.28823 4.65517 5.42904 8.7048 28.6894 57.5734 5.37715 2.26019 9.36263 79.8741 46.599 8.97167 3.7226 3.55158 21.2574 9.6326 6.66912 5.66515 5.98624 8.16607 81.4229 10.2236 2.42651 4.77454 56.0358 20.2549 2.82562 3.99012 11.5593 66.4483 25.8916 5.93422 3.58666 5.21595 24.3698 11.2077 6.54994 4.95399 5.68825 9.45059 34.8724 2.32653 4.10954 15.8127 104.965 10.2049 6.60404 5.38374 5.8561 8.63597 31.54 9.82085 5.54515 4.32476 6.07759 90.4852 16.669 5.32923 1.75877 17.3682 2.46943 4.64417 10.6906 22.873 96.4453 10.5539 6.57744 5.22578 5.78986 8.9208 4.82245 4.06372 6.46315 12.8001 51.0202 5.13955 3.9676 6.22526 12.6613 51.2695 31.4633 9.82669 5.57988 4.33931 6.01495 6.58442 4.61581 5.27756 8.63177 28.9332 23.1286 4.12804 3.43111 8.10401 45.4141 9.92011 6.63284 5.52008 5.91728 8.40258 9.27599 6.72537 5.85649 6.083 7.87155 36.8573 3.24631 3.33926 12.0263 83.1228 29.1841 10.2697 6.8844 5.04063 4.12713 1.82257 5.93457 11.133 19.7093 72.3344 8.3514 6.94208 6.423 6.4044 7.10204 74.8465 20.1123 10.7646 5.43175 2.07541 7.93494 7.08162 6.71921 6.5908 6.75277 19.9059 3.72919 3.91089 7.96848 42.5869 44.2642 8.64956 4.02264 3.41577 19.2005 1.37599 6.28492 14.5401 29.3753 119.411 29.2103 10.2606 6.8655 5.02862 4.1491 76.1945 19.1583 9.09116 4.26219 3.09982 31.383 9.83326 5.61667 4.355 5.94941 31.54 9.82086 5.54518 4.32477 6.07754 216.986 51.9753 23.832 8.6675 0.655289 10.8818 6.56029 5.08577 5.7355 9.18712 10.0744 6.6164 5.44537 5.88331 8.5291 31.9539 9.7966 5.36562 4.25353 6.41418 54.8811 14.0023 6.2931 3.64293 5.32852 32.0073 9.7943 5.34335 4.24517 6.45748 76.3797 19.0713 8.91041 4.14695 3.24004 82.1734 10.3664 2.35806 4.85365 56.6837 46.6372 8.97752 3.71758 3.55417 21.2905 76.0933 19.2093 9.19391 4.32877 3.02312 69.1233 12.7548 4.23668 2.52221 19.786 10.3067 6.59533 5.33666 5.83583 8.7192 2.44555 5.6149 9.13344 14.6866 49.1314 3.35948 5.749 7.61958 10.1272 26.2322 7.49414 7.26584 7.0682 6.82435 6.38132 7.04407 7.50171 7.47077 7.11021 6.00024 3.84471 5.43714 7.12981 9.76187 26.6447 6.9122 7.58169 7.59925 7.20475 5.88824 17.4603 3.52737 4.23828 7.9255 40.3597 6.901 7.58873 7.6104 7.21303 5.87872 7.08892 7.47571 7.42824 7.07925 6.0383 98.7178 24.8346 12.1352 5.31745 1.92724 80.5477 10.0642 2.50582 4.6868 55.272 30.5121 9.93999 6.05273 4.56071 5.2335 9.22414 6.73468 5.88544 6.0982 7.82862 9.08441 6.76129 5.96499 6.14066 7.71279 5.63472 4.77445 5.79588 8.89825 28.1482 53.011 14.396 7.48285 4.27753 3.85461 9.24849 6.73027 5.87181 6.09102 7.84878 52.9663 14.4113 7.51793 4.2988 3.81901 206.231 30.0584 6.5248 1.09906 61.7398 3.21307 4.31342 8.66599 17.835 73.3599 6.02042 4.69827 5.5736 8.77832 28.4681 75.3118 19.7048 10.1012 4.94766 2.42954 75.9339 19.2951 9.36191 4.43923 2.90223 169.127 41.7157 20.1335 8.03942 0.792623 4.33453 4.2464 6.86772 13.0494 50.6351 17.6319 1.94165 5.02049 15.4488 87.7568 122.137 30.2435 14.5299 5.99063 1.47468 88.4291 16.4214 5.66548 1.68625 15.5792 2.47574 4.63684 10.6788 22.8643 96.4496 3.82745 4.49153 7.348 13.3649 50.2333 169.072 41.8467 20.3223 8.18772 0.763079 9.45902 6.69486 5.75663 6.0317 8.02287 30.7168 9.90856 5.94379 4.50603 5.40242 98.9513 24.6127 11.7665 5.05153 2.09388 30.5745 9.92995 6.01905 4.54358 5.28505 9.31856 6.71795 5.83294 6.07075 7.90678 30.2646 9.98397 6.19051 4.6328 5.02859 9.37258 6.70882 5.80335 6.05549 7.95145 6.01443 4.69932 5.57692 8.78005 28.4631 15.4952 1.38189 6.31766 19.6453 109.524 4.06848 4.36707 7.1112 13.2068 50.4245 9.29988 6.72118 5.84325 6.0761 7.89132 62.8512 9.35293 3.1299 4.00836 37.6251 2.11625 5.10288 11.4074 23.409 96.2086 167.199 25.4767 6.11844 1.2337 46.5508 8.92968 6.79346 6.05577 6.19038 7.5843 36.1911 3.15786 3.43641 11.9935 82.5409 8.79898 6.82299 6.13478 6.23471 7.47559 5.58878 4.78473 5.82356 8.91374 28.11 38.5746 4.43494 3.00718 8.55947 61.0891 29.8361 10.0774 6.44613 4.77475 4.67247 29.9419 10.0521 6.38089 4.73755 4.76051 9.08266 6.76163 5.966 6.14121 7.71134 8.9092 6.79794 6.06801 6.19718 7.56728 7.58968 7.22234 6.98909 6.77018 6.46198 7.5404 4.53864 4.84048 8.446 29.7139 192.83 47.3693 22.7615 8.95397 0.617541 46.0697 8.89242 3.79186 3.51689 20.7968 30.0178 10.0349 6.33492 4.71173 4.8237 6.14981 4.67651 5.50281 8.74186 28.5751 52.0048 14.8438 8.38156 4.86036 3.04962 8.77272 6.82919 6.15092 6.24389 7.45372 31.1077 9.85971 5.74703 4.41274 5.72396 47.5814 9.1271 3.59342 3.62129 22.1032 53.825 14.1719 6.90494 3.94702 4.50022 57.437 5.35295 2.27451 9.35003 79.7561 5.34307 3.91395 6.08167 12.5805 51.4291 10.4349 6.58549 5.27855 5.81142 8.82386 32.1821 9.78801 5.27184 4.21908 6.59894 10.1682 6.60737 5.4009 5.8636 8.60598 26.8647 6.08361 3.44904 5.27875 25.2032 57.1227 5.29797 2.30749 9.3215 79.4833 10.7944 6.56417 5.12235 5.7493 9.11623 76.4699 19.0317 8.82562 4.09373 3.30827 3.19509 3.95107 9.5098 22.033 96.9365 19.9253 2.7876 4.05005 11.5507 66.1647 31.569 9.81877 5.53218 4.31939 6.10119 10.9269 6.55847 5.06711 5.72858 9.22364 67.371 12.4996 4.48637 2.41887 18.272 52.6706 14.5224 7.76025 4.44919 3.58306 98.5764 24.9836 12.3749 5.49356 1.82638 111.394 20.7794 6.82635 1.25386 14.5906 18.865 2.67508 4.24153 11.5293 65.2424 59.0782 6.92945 2.48883 6.31874 57.7214 122.006 30.4277 14.8137 6.20469 1.38788 8.63021 6.8645 6.24013 6.29532 7.33496 3.94262 4.43013 7.2328 13.2874 50.3247 7.77341 4.52956 4.74439 8.41052 29.9026 121.725 30.8752 15.4803 6.71769 1.20363 8.40964 6.9249 6.38384 6.38064 7.15076 8.28702 6.96171 6.4669 6.43128 7.04816 101.131 13.4012 3.07101 3.36075 52.0919 52.3816 14.6485 8.01587 4.6141 3.35187 4.28166 3.68893 7.46094 17.0356 74.1497 38.5596 4.43279 3.00901 8.5585 61.0759 51.8159 14.957 8.58079 4.99926 2.89778 3.9489 4.42689 7.22663 13.2833 50.3297 52.5735 14.5627 7.84391 4.50248 3.50547 4.8023 5.00794 6.34362 9.22574 27.4527 110.951 20.7379 6.91052 1.24996 14.2042 8.731 6.83924 6.17675 6.25866 7.41897 18.8667 2.67524 4.24123 11.5293 65.2439 89.2183 16.5093 5.53698 1.70941 16.2721 9.52932 0.77652 12.8299 37.9717 199.029 52.5636 14.5669 7.85255 4.50802 3.49756 9.12857 6.75263 5.9396 6.12699 7.74942 25.1518 5.82774 3.69102 5.17278 23.7282 3.10745 4.3959 8.80897 17.9356 73.2818 0.895471 7.59371 19.1395 40.0697 166.548 9.22718 0.810018 12.9655 38.0357 198.772 8.55234 6.885 6.29005 6.32462 7.26999 75.7095 19.4281 9.61221 4.60741 2.73186 121.989 30.4523 14.8513 6.23319 1.37679 42.631 6.41478 2.97063 5.73533 41.1698 67.404 12.5041 4.4817 2.42058 18.3008 9.2755 6.72546 5.85676 6.08315 7.87114 9.07952 6.76226 5.96781 6.14218 7.70874 9.52161 6.68523 5.72329 6.01496 8.07455 9.50129 6.68831 5.73407 6.02036 8.05777 8.59405 6.87391 6.26321 6.30882 7.30479 98.7683 24.7843 12.0529 5.25751 1.96323 9.46202 6.69439 5.75502 6.03089 8.02535 21.8503 3.95343 3.6251 8.04011 44.308 52.7461 14.4924 7.69665 4.40914 3.64334 30.7955 9.89757 5.90298 4.4861 5.46733 9.56207 6.67922 5.70195 6.00435 8.10793 9.2318 6.73328 5.88115 6.09593 7.83496 62.8301 9.34955 3.13211 4.00665 37.6066 45.5687 8.8206 3.85691 3.48607 20.3577 8.87563 6.80541 6.08818 6.20845 7.53936 9.19068 6.74084 5.90429 6.10816 7.8009 45.6155 8.82718 3.85085 3.48886 20.3989 121.962 30.4931 14.9131 6.28023 1.35873 145.511 36.0529 17.4665 7.10678 1.03942 2.29446 4.85886 11.0313 23.1255 96.3278 45.3042 8.78401 3.89099 3.47063 20.1247 75.396 19.6413 9.99237 4.87063 2.49358 169.139 41.6885 20.094 8.00852 0.798936 38.6912 4.45178 2.99298 8.56701 61.1918 45.5729 8.82119 3.85637 3.48632 20.3614 3.77598 4.52016 7.40076 13.4008 50.1924 0.116148 15.9277 30.7336 53.5833 190.243 4.6972 10.3992 11.1976 10.2592 3.98358 4.60803 10.6306 11.4588 10.4998 3.90597 0.623993 9.83812 15.8623 23.8631 71.465 0.324664 11.9032 21.413 35.3721 118.87 0.210285 13.5704 24.8815 41.7792 142.63 0.575587 10.158 16.2176 24.1939 71.4304 0.312527 12.0609 21.5879 35.5351 118.864 1.41531 8.40848 10.9605 12.9937 24.5578 0.415007 11.1197 18.917 29.876 95.1197 52.4193 14.631 7.98142 4.59152 3.38202 75.4722 19.5863 9.89639 4.80332 2.55153 133.121 25.1795 8.4259 0.982275 12.5411 29.8699 10.0691 6.42511 4.76269 4.70063 62.0616 9.22995 3.2115 3.9466 36.9262 44.7276 8.70755 3.9645 3.43903 19.6138 9.62873 6.66966 5.66716 5.98722 8.16289 111.479 20.7877 6.81019 1.25486 14.6645 89.2372 16.5115 5.5339 1.71004 16.2886 3.93965 5.38467 7.04226 9.69887 26.7252 24.2482 5.70703 3.81696 5.12592 22.9354 52.9783 14.4072 7.50848 4.29306 3.82856 30.7684 9.90129 5.91697 4.4929 5.44497 5.76092 4.74757 5.72121 8.85706 28.253 52.2519 14.7116 8.13736 4.69461 3.2479 24.4017 5.72676 3.79575 5.1334 23.0707 9.003 6.77785 6.01239 6.16646 7.64522 80.2755 10.0163 2.53023 4.6606 55.0326 5.55902 4.79154 5.84163 8.92392 28.0852 25.0845 5.81839 3.70047 5.16906 23.6695 6.17937 4.67179 5.48689 8.73378 28.5995 9.43745 6.69827 5.76822 6.03757 8.00506 6.76948 4.59526 5.18707 8.59018 29.0851 41.6747 6.26489 3.07981 5.66307 40.3312 201.276 39.2186 13.3997 0.807659 9.07034 18.6318 2.65244 4.28317 11.5259 65.0376\r\n",
      "CM042338.1:8177835 0 12 113 0 12 113 0 6 67 0 18 137 0 6 49 0 9 92 0 0 0 0 3 37 0 0 0 0 0 0 0 9 89 0 15 118 0 0 0 0 0 0 0 0 0 0 6 67 0 0 0 0 9 92 100 0 22 0 9 85 0 3 37 0 0 0 0 15 127 0 0 0 0 15 124 0 6 67 0 0 0 0 0 0 0 0 0 0 18 139 0 18 143 0 0 0 0 0 0 0 18 139 0 0 0 0 3 37 0 0 0 0 6 64 0 12 112 0 6 67 0 3 37 0 0 0 0 3 37 0 15 129 0 3 37 0 3 37 0 3 37 0 12 113 0 12 113 0 0 0 0 6 67 0 15 129 0 12 113 0 3 37 0 3 37 0 0 0 0 12 113 0 21 154 0 3 36 0 12 113 0 0 0 0 3 37 0 3 37 0 3 37 0 12 113 0 0 0 0 0 0 0 6 67 0 0 0 0 9 92 0 0 0 0 0 0 0 18 139 0 0 0 0 12 113 0 0 0 0 6 67 0 9 85 0 6 67 0 0 0 0 0 0 0 0 0 0 0 0 36 3 0 0 3 37 36 3 0 0 6 67 0 0 0 0 0 0 22 0 100 0 3 37 0 0 0 0 0 0 0 6 67 0 0 0 0 21 149 0 0 0 0 0 0 0 0 0 0 9 92 0 0 0 0 0 0 0 6 67 0 9 92 37 3 0 0 3 37 0 6 67 0 6 67 0 3 37 0 0 0 0 18 143 0 3 37 0 9 92 0 0 0 0 27 169 0 21 148 0 9 89 0 0 0 0 3 27 0 0 0 0 9 92 0 0 0 0 6 67 0 15 129 0 27 167 0 6 67 0 18 141 0 12 110 0 6 64 0 0 0 0 18 137 0 0 0 0 3 37 0 0 0 0 9 89 0 0 0 0 0 0 0 9 89 0 0 0 0 0 0 0 0 0 0 0 0 0 12 113 0 0 0 0 0 0 0 0 0 0 15 129 0 0 0 0 0 0 0 3 37 0 0 0 0 0 0 0 0 0 0 0 0 0 0 0 0 0 0 0 3 37 0 3 37 0 0 0 0 0 0 0 3 37 0 9 92 37 3 0 0 3 37 0 0 0 0 0 0 0 9 92 0 9 89 0 6 67 0 3 37 0 6 67 0 18 143 0 0 0 0 15 129 0 3 37 0 3 37 0 6 67 22 0 100 37 3 0 0 0 0 0 0 0 0 0 0 0 3 37 0 6 67 0 0 0 0 0 0 0 6 67 0 0 0 0 0 0 0 0 0 0 0 0 0 0 0 0 3 36 0 0 0 0 3 37 0 0 0 0 0 0 0 0 0 0 0 0 0 0 0 0 0 0 0 0 0 0 3 37 0 3 37 0 3 37 0 0 0 0 6 67 0 0 0 0 9 92 0 3 37 0 0 0 0 3 37 0 18 143 0 6 67 0 3 37 0 0 0 0 0 0 0 3 37 0 9 92 0 0 0 0 0 0 0 0 0 0 0 0 0 3 37 0 9 92 13 0 134 0 0 0 0 0 0 0 0 0 0 0 0 0 6 67 0 12 111 0 9 92 0 0 0 0 0 0 0 3 37 0 6 67 0 12 113 0 39 185 0 12 113 0 6 67 0 30 174 0 3 37 0 6 67 0 12 113 0 12 113 0 0 0 0 9 92 0 9 92 0 15 127 0 9 92 0 6 64 0 6 67 0 36 180 0 9 89 0 9 89 0 18 137 0 9 92 0 12 113 0 18 141 0 6 67 0 63 196 0 15 129 0 3 37 0 18 143 0 3 36 0 6 64 0 18 139 0 6 67 0 6 67 0 3 37 0 3 37 0 15 127 0 36 183 0 0 0 0 27 166 0 3 31 0 3 37 0 6 67 0 9 92 0 12 107 0 0 0 0 3 37 0 9 89 0 33 178 0 0 0 0 9 85 0 18 143 0 27 169 0 27 170 0 3 37 0 0 0 0 9 92 0 21 154 0 0 0 0 6 67 0 42 185 0 6 67 0 0 0 0 9 89 0 15 129 0 18 137 0 6 67 0 0 0 0 18 143 0 15 123 0 6 67 0 0 0 0 0 0 0 3 37 0 3 37 0 42 189 0 3 37 0 9 92 0 21 154 0 0 0 0 0 0 0 6 67 0 6 67 0 0 0 0 3 33 0 3 37 0 3 37 0 6 67 0 12 113 0 15 122 0 0 0 0 0 0 0 6 67 0 3 37 0 0 0 0 18 143 0 3 36 0 0 0 0 3 37 0 27 168 0 15 129 0 0 0 0 0 0 0 0 0 0 9 92 0 15 129 0 3 37 0 9 92 0 3 37 0 0 0 0 6 67 0 6 67 0 18 143 0 6 67 0 0 0 0 0 0 0 0 0 0 6 67 0 3 37 0 24 162 0 0 0 0 15 123 0 12 113 0 0 0 0 15 129 0 0 0 0 12 112 63 0 140 31 0 31 0 3 37 0 15 129 0 9 92 37 3 0 0 33 176 0 3 37 0 12 109 0 3 37 0 9 92 0 15 129 0 3 36 0 9 92 0 0 0 0 0 0 0 48 192 0 0 0 0 0 0 0 15 121 0 12 112 0 24 162 0 3 37 0 21 154 0 6 67 0 0 0 0 30 175 0 6 67 0 12 113 0 3 37 0 18 142 0 0 0 0 12 113 0 3 37 0 6 67 0 0 0 0.0291321 21.8183 39.7405 66.1728 205.541 22.1371 1.40209 6.05165 16.6596 77.4743 0.177625 14.8937 21.809 29.6988 54.8856 0.0296723 21.737 39.7734 66.3531 205.909 0.0212347 23.1662 42.6912 71.9132 229.922 0.130663 15.8347 24.8156 36.0989 80.7161 0.278585 13.461 18.9809 24.3544 31.2649 0.00290009 31.758 63.6804 113.955 404.413 0.119892 16.2774 24.7246 35.3053 78.9879 0.208546 13.9425 22.2828 32.0023 59.5065 2.40111 3.91488 17.3044 39.2619 158.826 0.218426 13.6629 22.576 33.0118 61.3734 0.201171 14.1584 22.1145 31.3489 58.259 0.207454 13.3828 31.2397 54.5559 113.475 0.219931 13.6212 22.6285 33.1813 61.6813 0.310253 12.5226 19.6574 27.0774 36.5106 0.0299436 21.6967 39.7913 66.4458 206.097 0.0280281 21.9893 39.6843 65.8219 204.809 0.206814 13.9926 22.2397 31.8419 59.2034 0.0905667 17.2398 27.7241 41.665 104.745 0.181518 14.7669 21.838 29.9325 55.3907 0.0881187 17.3717 27.7007 41.4367 104.243 0.258377 14.1301 18.864 23.1984 28.7147 0.122237 16.1781 24.7367 35.4654 79.3488 0.268973 13.7715 18.8995 23.7597 29.9945 0.132216 16.5706 22.0017 27.8458 50.0345 0.210028 16.0516 19.3558 21.6632 24.0115 0.0536996 19.7178 28.2306 39.4152 98.3044 0.0284733 21.9196 39.7052 65.9606 205.101 1.02836 6.82998 24.7556 54.7254 229.743 0.0907648 17.2293 27.7263 41.684 104.786 0.000675127 38.0847 78.6237 143.627 528.293 60.3328 2.82477 3.57532 14.0701 91.8125 0.274601 13.5881 18.9412 24.0974 30.7246 20.5827 0.926682 7.54062 21.4078 101.472 0.274757 13.583 18.9426 24.1072 30.7453 0.181195 14.7773 21.8353 29.9126 55.3481 0.0202563 23.3736 42.6383 71.5202 229.083 0.00388889 30.4857 60.696 108.039 379.674 0.194358 14.3636 21.9923 30.8089 57.1973 0.0388785 20.605 36.7462 60.1584 180.589 0.0285988 21.9001 39.7115 66.0004 205.184 0.184475 14.672 21.8653 30.1195 55.7868 0.0368225 20.8478 36.6736 59.6753 179.572 0.128413 15.5372 29.3043 47.3784 115.459 0.00118527 35.6411 72.6187 131.581 478.372 29.3618 4.54842 4.40387 6.66173 11.5789 0.0802826 18.2898 25.1619 33.531 73.8301 0.0594918 19.2383 28.0182 39.6012 99.1905 0.0361729 21.2304 31.3542 45.3074 122.689 0.0996934 18.094 22.7291 27.3721 47.3698 0.0544508 19.6529 28.1996 39.4355 98.4174 0.206072 16.2362 19.444 21.6056 23.6886 0.088316 17.361 27.7023 41.4547 104.283 0.175346 14.969 21.7957 29.5683 54.5981 0.0560275 19.2307 30.6665 46.5155 126.998 0.0905034 17.2432 27.7234 41.6589 104.732 0.0943837 17.0406 27.7762 42.046 105.557 0.0489238 19.6784 33.6765 53.5959 154.472 0.26992 13.7403 18.9053 23.8145 30.1148 3.58596 2.98968 12.3663 27.6991 108.636 0.17976 14.8239 21.8239 29.8252 55.1604 0.181799 14.7578 21.8404 29.9499 55.4279 0.192509 14.4203 21.9642 30.672 56.9226 0.152967 15.0129 25.3283 38.3105 85.0416 0.20418 14.0695 22.1785 31.6062 58.7547 0.0617629 18.619 34.261 56.2798 159.785 0.309227 12.5512 19.6233 26.9654 36.3061 0.141396 15.4248 25.0026 37.0539 82.6476 0.034111 21.1195 40.1882 68.0759 209.244 0.0429819 20.1561 36.9812 61.2676 182.796 0.200443 14.18 22.1 31.2884 58.1417 0.0810625 17.5157 31.1718 49.9147 134.178 0.148578 15.1658 25.188 37.8022 84.0888 0.149331 15.1392 25.2106 37.8864 84.248 0.237781 13.1439 23.4497 35.6111 65.9736 0.0568336 18.9978 33.9517 55.1041 157.556 0.214512 13.7724 22.4498 32.5916 60.6038 0.116502 16.0159 28.5068 44.9997 111.249 0.212538 13.8282 22.3913 32.3901 60.2311 0.140002 15.4765 24.9724 36.9195 82.3829 0.22281 13.5421 22.735 33.5184 62.2894 0.0245533 22.5276 43.0271 73.4943 233.064 0.0348583 21.0234 40.2856 68.415 209.872 0.310062 12.5279 19.6509 27.0564 36.4723 0.0183009 23.7883 46.0001 79.4 257.799 0.214502 13.7727 22.4495 32.5906 60.6019 0.108571 16.3606 28.1519 43.7702 108.972 0.135564 15.644 24.8884 36.5128 81.5688 0.0553539 19.1178 33.8805 54.7896 156.939 0.0229538 22.872 39.6156 64.4842 201.739 0.00132132 35.1714 66.8359 117.356 422.782 0.0603776 18.8856 30.6507 46.9475 128.066 0.00543225 29.0429 54.5757 94.3986 326.159 0.0299532 21.7684 36.6422 58.3661 176.496 0.0544399 19.3631 30.6831 46.3725 126.622 0.0788268 17.9058 27.6829 40.6769 102.454 0.0436972 20.1897 33.6309 52.8083 152.673 0.0230938 22.8452 39.6132 64.5154 201.818 0.0809912 17.5198 31.1682 49.9013 134.153 0.11402 16.1214 28.3828 44.59 110.5 0.0267555 22.1496 43.3978 74.8014 235.494 0.162478 14.6945 25.714 39.5726 87.3413 0.123739 15.7199 28.9465 46.3515 113.664 0.111038 16.251 28.2498 44.1287 109.646 0.122977 15.7503 28.8941 46.1967 113.391 0.339758 11.7441 21.2026 31.508 44.2595 0.230508 13.3347 23.0655 34.5151 64.0609 0.15545 14.9281 25.4176 38.6173 85.6086 7.46608 1.88878 8.11792 17.1726 44.7257 0.0101622 26.3249 51.9442 91.1878 307.216 0.562454 9.17056 33.6673 74.2781 308.118 0.314509 12.4051 19.8095 27.5648 37.3932 0.216955 13.7038 22.5269 32.8505 61.0792 0.0308414 21.7576 34.0061 51.5028 148.783 0.0208326 23.3804 37.1675 57.3286 172.938 0.0686312 18.5645 27.7936 40.0254 100.668 0.0321366 21.5732 33.9326 51.5923 149.148 0.0622548 19.0248 27.9368 39.7131 99.6263 0.0309151 21.7469 34.0017 51.5076 148.804 0.0510982 19.9493 28.3461 39.3545 97.9175 0.0837578 18.0809 25.0724 33.6188 74.2265 0.0879892 17.8369 24.9779 33.7437 74.7213 8.99867 3.28068 5.83375 9.47572 15.1674 0.0300451 21.6818 39.7983 66.4808 206.167 0.100022 16.7596 27.8898 42.6689 106.832 0.190045 14.4966 21.9299 30.4953 56.5644 0.0950175 17.0082 27.7868 42.1123 105.696 0.273924 13.6099 18.9353 24.0552 30.6347 22.4363 1.21121 6.53846 18.0209 79.9542 0.134988 15.6661 24.8788 36.4623 81.4662 0.196429 14.3006 22.0263 30.9671 57.5117 0.0379009 20.7188 36.708 59.9231 180.099 0.193117 14.4016 21.9732 30.7166 57.0124 0.283973 13.2926 19.0488 24.7278 32.0305 0.0899265 17.274 27.7172 41.6041 104.612 0.104144 16.5634 28.0019 43.1744 107.83 0.0933759 17.0924 27.7606 41.9423 105.339 0.00524629 29.188 57.7229 102.182 355.053 0.00962144 26.5632 51.7997 90.5569 305.982 0.0121969 25.5423 48.7095 84.0761 280.095 0.0345625 21.1305 36.6273 59.1946 178.511 0.0748 17.8913 30.9045 48.8341 132.098 0.0196063 23.5169 42.6143 71.2755 228.544 0.272036 13.6711 18.9201 23.9399 30.3872 0.139377 15.4998 24.9595 36.8602 82.2656 0.0175043 23.9832 45.8693 78.8566 256.747 0.0745601 17.9062 30.8963 48.7962 132.023 0.00719667 27.8188 54.7867 96.5003 330.782 0.136453 15.61 24.9038 36.5918 81.7286 0.0287889 21.8708 39.7214 66.0612 205.31 0.0402617 20.4487 36.8117 60.5096 181.304 0.191555 14.4498 21.9505 30.6027 56.7828 0.0389121 20.6011 36.7476 60.1667 180.606 0.0931821 17.1025 27.7577 41.9226 105.297 0.0722875 18.0505 30.8255 48.4499 131.329 0.18644 14.6096 21.8861 30.2484 56.0562 0.179142 14.844 21.8194 29.7882 55.0804 0.132121 15.7773 24.8351 36.2184 80.965 0.027628 22.0529 39.6676 65.7003 204.55 0.0376452 20.749 36.6992 59.8632 179.973 0.0486881 19.7003 33.6721 53.5571 154.387 0.0272342 22.1164 39.653 65.5834 204.299 0.0368334 20.8464 36.6739 59.6778 179.578 0.019766 23.4813 42.6193 71.3344 228.676 0.0362869 20.9132 36.6595 59.5568 179.316 0.00894481 26.881 51.6696 89.8498 304.54 0.0497375 19.6036 33.6932 53.7326 154.767 0.23765 14.8889 18.9458 22.3476 26.5034 0.320996 12.2296 20.079 28.3857 38.8568 0.13226 15.7719 24.8371 36.2299 80.989 0.0994855 16.7857 27.8771 42.6063 106.707 0.091934 17.1675 27.7405 41.7979 105.032 0.138527 15.5316 24.9425 36.7808 82.1076 0.166345 15.2744 21.7681 29.0958 53.5163 0.0149668 24.6688 45.6189 77.3961 253.733 0.209211 13.9233 22.3 32.0652 59.6246 0.221644 13.574 22.6909 33.3798 62.0399 0.159726 14.7848 25.5898 39.1822 86.6386 0.0105834 26.148 52.0831 91.7244 308.237 7.44957 1.91806 8.04176 16.9656 44.365 0.159179 14.803 25.5664 39.1073 86.5027 0.326748 12.0774 20.3618 29.2068 40.2983 0.15386 14.9822 25.3596 38.4191 85.243 0.164513 14.6285 25.8131 39.8763 87.8836 0.0783499 17.6749 31.0431 49.4235 133.246 0.228402 13.3908 22.968 34.2275 63.5533 0.310671 12.511 19.6715 27.1237 36.5949 0.320392 12.2458 20.0518 28.3048 38.7138 0.104191 16.5613 28.0034 43.1804 107.841 0.312572 12.4584 19.738 27.3384 36.9846 0.323706 12.1575 20.2066 28.7604 39.5171 0.189265 14.5209 21.9198 30.4407 56.4528 0.0701238 18.1919 30.7697 48.1392 130.692 0.180385 14.8035 21.8287 29.8631 55.2419 0.0522001 19.3844 33.7596 54.1708 155.689 0.0910917 17.2119 27.7301 41.7156 104.854 0.0505739 19.528 33.713 53.8772 155.075 0.020665 23.2858 42.6579 71.6806 229.43 0.121882 16.193 24.7346 35.4407 79.2936 0.271671 13.683 18.9174 23.918 30.3398 0.23405 13.2411 23.2428 35.0276 64.9591 0.0829954 17.6593 27.6771 40.9975 103.235 0.260675 14.0507 18.8671 23.3123 28.9826 0.0241557 22.6466 39.6034 64.7621 202.428 0.616658 8.81245 30.3528 66.4342 279.425 0.0150052 24.6576 45.6209 77.4154 253.775 0.0684008 18.153 34.885 58.2574 163.351 0.181213 14.7767 21.8354 29.9137 55.3505 0.0788374 17.9052 27.6829 40.6777 102.456 0.0907664 17.2292 27.7263 41.6841 104.786 0.276808 13.5174 18.9621 24.2378 31.0213 0.109761 16.7275 24.7208 34.6885 77.5136 0.0363968 20.8997 36.6622 59.5809 179.368 0.0198315 23.4667 42.6216 71.3588 228.73 0.049142 19.6582 33.6807 53.6322 154.551 0.09613 16.9519 27.8067 42.2309 105.942 0.126887 15.9861 24.7732 35.8033 80.0889 0.276501 13.5272 18.959 24.218 30.9797 0.132471 15.7636 24.8401 36.2475 81.0254 0.0225157 22.9087 42.7916 72.4755 231.075 0.0523536 19.371 33.7645 54.1994 155.748 0.0663097 18.4516 30.6976 47.6341 129.62 0.121121 16.2252 24.7304 35.3883 79.176 0.120209 16.2639 24.726 35.3266 79.0363 0.285171 13.2557 19.0662 24.815 32.2065 0.127665 15.9546 24.781 35.8627 80.2162 0.00985314 26.4595 51.8571 90.8196 306.501 0.282151 13.3491 19.0239 24.5981 31.7669 0.0719825 18.0701 30.817 48.405 131.237 0.0695276 18.2316 30.7562 48.0568 130.52 0.140674 15.4515 24.9867 36.9838 82.51 0.101816 16.6734 27.9355 42.8833 107.259 0.173415 15.0334 21.7865 29.4613 54.359 0.038866 20.6064 36.7457 60.1553 180.583 0.101178 16.7039 27.9187 42.8062 107.106 0.0527943 19.333 33.7792 54.2823 155.918 0.0291829 21.8106 39.7434 66.1895 205.575 0.143823 15.336 25.0595 37.296 83.1197 0.0559508 19.0691 33.9081 54.9145 157.185 0.282507 13.338 19.0286 24.6232 31.8181 22.2099 1.35764 6.15633 16.9586 78.0269 0.093578 17.082 27.7636 41.9629 105.383 0.127122 15.9765 24.7755 35.8212 80.1273 24.1376 1.93921 5.12155 13.1168 55.5222 0.0941255 17.0538 27.7721 42.0192 105.501 0.0665909 18.432 30.7018 47.6696 129.697 0.0676401 18.3594 30.719 47.8044 129.987 0.0520931 19.3937 33.7562 54.151 155.648 0.0362104 20.9226 36.6576 59.5401 179.279 0.273706 13.6169 18.9334 24.0417 30.6058 0.0281 21.978 39.6875 65.844 204.856 0.00277929 31.9428 63.6226 113.582 403.633 0.00157296 34.4128 69.6186 125.572 453.44 0.0636546 18.6411 30.6668 47.3124 128.909 0.05142 21.4328 25.1539 28.268 44.193 0.145304 20.1297 22.1258 22.305 19.5129 0.0105401 26.52 37.222 52.2198 143.532 0.00110439 35.9615 60.7642 99.7777 342.77 0.0353994 22.1899 27.7478 33.9958 69.3431 0.0510716 21.4658 25.1812 28.2852 44.1727 0.0216048 23.8811 31.107 40.1889 93.904 0.147055 19.9712 21.9963 22.227 19.6162 0.0220701 23.7853 31.0279 40.1396 93.963 0.032862 22.5337 28.028 34.163 69.1177 0.0151425 24.6177 45.6284 77.4852 253.928 0.184285 14.6781 21.8634 30.1072 55.761 0.123539 16.1237 24.7452 35.5572 79.5526 0.177564 14.8957 21.8087 29.6953 54.8779 0.0861246 17.4818 27.6875 41.2597 103.844 0.260773 14.0474 18.8673 23.3173 28.9942 0.0763923 17.793 30.9626 49.0914 132.603 0.0122764 25.514 48.7202 84.1373 280.22 0.00216465 33.0269 66.6669 119.88 429.171 0.22649 15.3348 19.0696 22.0116 25.4425 0.12414 16.0988 24.7495 35.6003 79.6476 0.0229288 22.8287 42.8317 72.6691 231.462 0.0235848 22.7046 42.9032 72.9897 232.092 0.0508802 19.5006 33.721 53.9313 155.189 0.00459263 29.7667 57.5751 101.086 352.715 0.0665703 18.4334 30.7015 47.6669 129.692 0.0209422 23.2272 42.6733 71.7925 229.668 0.0388991 20.6026 36.7471 60.1635 180.599 0.179656 14.8273 21.8232 29.819 55.1469 0.0400073 20.477 36.7986 60.4433 181.171 0.0227651 22.8602 42.8153 72.5917 231.307 0.0303892 21.6313 39.8228 66.6013 206.409 0.0188743 23.6532 46.111 79.8204 258.594 0.128033 15.9397 24.7848 35.891 80.2767 0.0212553 23.162 42.6926 71.9218 229.94 0.00463645 29.7254 57.5801 101.152 352.864\r\n",
      "CM042338.1:8530959 0 90 199 0 45 186 0 12 104 0 39 182 0 24 157 0 60 193 0 39 184 0 24 158 0 87 197 0 78 195 0 33 178 0 21 152 0 66 195 0 87 198 0 102 198 139 0 141 0 66 195 0 63 192 0 84 197 0 42 187 0 108 199 0 42 188 67 6 0 0 30 166 0 18 143 133 0 138 0 33 175 0 12 107 0 27 169 126 0 127 0 60 195 0 3 37 0 60 193 0 72 197 0 33 177 0 123 201 0 54 193 0 21 154 0 72 196 0 12 113 0 18 140 0 12 113 0 3 36 0 15 129 0 6 67 0 39 185 0 15 129 0 51 190 0 66 197 0 54 195 0 45 189 0 45 191 0 15 129 0 30 175 0 36 184 0 27 170 0 45 191 0 54 189 0 27 167 0 57 194 0 51 192 0 30 169 0 36 181 0 63 194 0 51 191 0 36 177 0 24 158 0 33 174 0 12 113 0 69 189 0 45 189 0 135 202 0 42 186 0 72 196 0 21 170 91 0 146 0 117 199 0 72 197 84 0 136 0 27 169 0 48 191 0 169 208 0 42 182 0 45 190 82 0 156 0 39 187 0 69 196 63 0 141 0 48 190 0 15 129 0 27 170 0 30 175 0 15 129 53 0 79 0 15 129 134 0 42 0 24 162 0 42 188 0 18 143 0 24 162 0 24 162 0 24 162 0 18 143 0 15 129 0 33 180 0 48 192 0 15 129 0 36 184 0 12 113 0 12 113 0 12 113 0 9 92 0 42 189 0 33 170 0 36 176 0 24 152 0 30 170 0 51 191 0 33 176 0 12 113 0 72 196 0 75 196 0 57 194 0 39 184 0 99 197 0 63 193 0 33 179 0 69 196 0 63 192 0 39 183 0 54 192 0 42 186 0 45 186 0 54 193 0 90 198 0 36 181 0 60 195 0 114 199 95 0 50 0 66 195 0 51 193 0 81 197 0 63 194 0 6 67 0 9 84 0 33 180 0 39 187 0 24 162 0 18 143 0 18 143 0 15 129 0 6 67 0 6 67 0 9 92 74 0 96 67 6 0 0 24 162 0 12 113 28 0 59 0 27 170 118 0 118 56 0 56 0 27 170 0 60 196 0 66 194 0 126 201 0 18 139 0 27 165 0 60 193 0 0 0 0 81 198 0 60 196 0 36 183 0 39 185 0 36 183 0 27 170 0 3 37 0 54 195 0 39 187 0 6 67 0 54 193 0 65 174 140 0 120 143 0 158 162 0 162 136 0 148 158 0 83 0 0 0 53 0 150 0 27 166 0 15 122 0 42 187 0 24 160 0 36 181 70 0 150 0 15 129 0 30 175 0 45 190 0 27 170 0 6 57 59 0 28 0 15 128 25 0 81 0 21 154 0 30 175 0 27 170 0 36 183 60 0 147 0 54 195 0 51 193 0 39 187 0 27 167 0 6 67 0 48 191 0 6 67 0 12 113 0 15 129 0 18 143 0 21 154 0 21 154 0 21 154 0 21 154 0 42 186 37 3 0 0 9 92 0 12 113 0 12 113 0 27 170 0 6 67 0 9 92 0 42 183 0 18 143 0 33 180 0 9 92 0 36 183 0 12 111 0 27 167 0 72 197 0 81 197 0 63 194 0 24 162 0 78 196 0 60 194 0 60 194 0 54 191 0 126 201 0 63 195 0 60 194 0 75 197 0 39 182 0 27 154 0 48 190 0 18 133 0 226 220 0 33 179 0 48 188 0 42 186 0 30 175 0 30 173 0 69 195 0 24 161 0 181 210 0 57 193 0 36 183 0 24 161 0 15 122 0 36 179 0 21 144 0 3 37 0 51 193 0 54 190 0 51 192 0 0 0 0 45 191 0 15 129 0 45 190 0 33 180 0 27 166 0 78 197 0 45 188 0 12 110 0 39 181 0 39 182 0 27 168 0 42 187 0 42 184 0 66 194 0 90 197 0 60 190 0 114 200 0 84 197 0 18 141 0 15 129 0 36 181 0 27 153 0 12 103 0 54 190 0 6 66 0 42 185 0 18 143 0 36 184 0 42 188 0 21 154 0 33 177 0 15 129 0 45 191 0 69 195 0 57 195 0 27 165 107 0 105 0 33 178 0 9 92 0 39 185 0 12 112 0 18 143 0 18 138 0 57 195 0 72 196 0 54 191 0 33 173 0 12 105 0 30 174 0 18 141 0 3 36 0 54 191 0 36 181 0 24 160 0 27 170 0 39 183 0 21 151 0 72 196 0 123 202 0 36 178 0 24 158 0 27 169 0 18 143 0 75 197 0 30 175 0 6 67 0 30 175 0 24 162 0 36 182 0 27 169 0 6 67 0 30 173 0 15 126 0 72 197 0 21 149 0 63 195 0 18 143 0 15 129 0 33 180 0 12 113 0 39 185 0 6 67 0 33 178 0 24 161 0 6 66 0 81 197 0 15 129 0 36 182 0 33 180 0 72 192 0 42 184 0 18 142 0 15 125 0 24 160 0 24 158 0 33 174 0 69 194 0 0 0 0 57 195 0 81 195 0 42 189 0 51 193 0 30 173 0 24 161 0 48 190 0 21 150 0 81 198 88 0 93 0 36 182 0 48 192 0 36 184 0 27 170 0 12 113 0 0 0 0 9 91 0 36 182 0 36 184 0 21 151 0 18 143 0 30 175 0 24 161 53 0 79 0 51 193 0 24 160 0 51 193 0 45 191 0.00146017 34.7357 70.3252 126.942 545.686 0.000438527 39.9584 82.2744 150.504 665.58 0.000178362 43.865 91.2577 168.236 755.602 3.56212e-06 60.8608 133.487 253.295 1180.65 0.00252937 32.3518 64.2744 114.693 484.768 0.00188559 33.6262 67.2714 120.646 514.872 0.000338666 41.0805 85.3171 156.759 696.319 2.6079e-05 52.2149 112.407 211.037 968.708 0.00301984 31.5843 61.1733 107.838 452.707 0.000940588 36.6447 76.6907 140.499 609.137 123.382 15.706 6.6001 3.65107 4.90882 0.00563982 28.8723 58.9516 105.469 429.706 0.000502923 39.3633 82.5357 151.859 668.323 0.0106321 26.1181 61.9583 115.68 427.656 0.00569597 28.8292 59.0043 105.64 430.016 0.280343 12.9354 20.1312 27.5879 37.0497 0.0485811 19.6845 34.3507 55.1658 183.669 277.695 13.3402 0.367841 14.5757 248.489 0.000929441 36.6965 76.6478 140.338 608.833 0.0325841 21.3771 37.1896 60.2178 211.913 0.0103102 26.2724 49.2084 84.3633 333.056 0.00736371 27.7261 52.1724 90.005 362.477 0.0163297 24.3128 43.1403 71.5095 270.726 64.1629 0.0490025 19.5005 62.2834 426.572 0.0319584 21.4636 37.1732 60.0665 211.582 9.00376e-05 46.8337 94.4854 172.411 780.985 0.00244466 32.5074 58.6825 100.027 417.124 0.00239544 32.5958 58.7246 100 416.971 1.43668e-05 54.8042 118.386 222.858 1028.74 0.0099685 26.4195 49.1782 84.1015 332.488 0.00101586 36.3109 73.2343 132.304 574.546 0.000600567 38.5929 79.3024 144.726 635.847 0.00146299 34.7273 70.3285 126.96 545.724 0.0138574 25.0007 46.2125 78.4094 302.95 0.0192598 23.5875 43.263 72.7447 273.447 0.00246022 32.4722 64.2395 114.457 484.271 0.00770535 27.5285 52.2094 90.3491 363.23 4.31354e-05 50.0295 106.303 198.409 906.983 0.000110447 45.9464 97.3874 181.058 817.743 0.000359353 40.823 85.4215 157.327 697.477 0.000613487 38.5005 79.3346 144.919 636.246 0.00339455 31.0759 61.2786 108.745 454.673 0.0140817 24.9304 46.232 78.5453 303.237 0.000326394 41.2408 85.272 156.448 695.661 0.00151181 34.584 74.8327 138.051 585.293 0.00250148 32.4 64.2595 114.597 484.566 0.00354981 30.8815 61.3566 109.172 455.545 0.0018846 33.6335 61.6323 106.077 447.557 0.0114254 25.8797 43.4871 70.152 266.772 0.00299374 31.6336 55.8627 93.9218 386.286 0.0154454 24.6918 38.1359 57.8178 204.201 0.00076908 37.5206 70.7163 124.051 537.957 0.00417109 30.2015 52.7631 87.9577 356.368 3.1432e-06 61.4041 133.333 252.238 1178.41 0.00232786 32.7125 64.1921 114.034 483.349 0.0151722 24.6357 43.1559 71.1094 269.736 0.00426425 30.0882 58.2038 102.241 423.402 0.000448336 39.8623 82.3016 150.691 665.975 0.000181061 43.7998 91.2701 168.35 755.851 0.00749846 27.6471 52.1849 90.1378 362.771 0.000246521 42.4595 88.2852 162.51 725.996 0.0057124 28.8225 55.203 96.2683 393.258 0.00326272 31.248 61.2283 108.407 453.961 0.00838279 27.1613 52.3342 91.1077 364.805 0.0410626 20.3421 37.7592 62.823 217.066 0.000289116 41.7674 88.6111 164.134 729.257 0.000974794 36.4896 76.836 141.017 610.104 0.00418974 30.161 61.9073 111.314 459.629 0.0925682 17.0726 28.4664 43.5869 124.057 0.0229195 22.8222 43.7513 74.8138 277.471 0.000510785 39.2959 82.5814 152.047 668.685 0.00050034 39.3857 82.5214 151.799 668.205 0.000169012 44.0988 94.756 176.654 790.648 0.00294328 31.6932 64.6359 116.348 488.038 0.0222675 22.9492 43.6346 74.394 276.687 0.157103 14.7581 26.9189 42.1561 102.091 0.00158571 34.3774 70.5088 127.814 547.422 0.139443 15.3912 25.891 39.0894 96.6609 0.0134801 25.1018 49.9826 87.5873 339.303 0.0128628 25.3065 49.7552 86.826 337.909 0.00115474 35.7543 73.4376 133.484 576.98 0.0327567 21.2864 41.1015 69.957 249.343 0.00123759 35.4534 73.6383 134.316 578.588 0.0419293 20.2485 37.858 63.1599 217.686 0.00561648 28.8903 58.9303 105.399 429.579 0.00164121 34.228 70.615 128.241 548.242 0.00412155 30.2323 61.8294 111.052 459.147 0.134257 15.5906 25.695 38.4021 95.3838 0.00467368 29.6895 58.3271 103.039 425.074 11.7313 0.303714 33.7534 93.3013 558.531 0.000204022 43.2813 88.2277 161.285 723.174 0.0020971 33.1692 61.4418 106.288 448.454 1.23202e-05 55.4717 118.279 221.733 1026.26 3.66741e-05 50.7343 106.262 197.376 904.589 0.000351475 40.9194 82.23 149.12 662.352 0.0490287 19.8113 31.1819 46.9669 148.519 0.000650503 38.2464 76.2001 137.304 602.429 0.000676492 38.0762 76.1927 137.516 602.952 8.70079e-06 56.9823 121.293 227.407 1055.66 0.00398509 30.3787 61.6882 110.554 458.222 0.000741572 37.6769 79.9059 147.243 640.723 74.7275 0.478139 9.83433 34.4022 232.705 0.000247736 42.4381 92.2185 172.203 763.275 0.0826589 17.3801 32.4619 52.9747 160.498 0.00227069 32.8188 67.7482 122.747 518.99 0.206989 13.7915 23.5144 34.9175 69.6905 0.00902109 26.8335 57.5042 103.903 407.231 77.9193 0.868476 7.4658 26.9591 177.922 0.0131227 25.2191 49.8458 87.137 338.483 0.0103368 26.2481 53.1146 94.0013 370.256 9.15376e-05 46.7619 100.634 188.159 850.116 1.24692e-06 65.4195 145.773 278.467 1303.75 0.0244255 22.542 44.0776 75.8888 279.431 0.056687 18.9816 34.904 57.2917 187.712 0.00470656 29.6756 52.5229 88.143 357.307 0.00575383 28.8165 49.6909 81.9903 326.385 0.0179143 23.9557 40.2582 64.5722 238.036 0.000368197 40.7178 79.5004 142.303 629.637 0.0161219 24.4203 40.4028 64.2596 236.993 0.00843301 27.1726 46.5098 76.1352 296.895 0.000538469 39.0679 73.8706 129.98 567.676 0.00148396 34.6688 64.5461 112.171 478.17 0.000663058 38.1639 73.4665 130.318 569.319 0.000191134 43.5646 91.3332 168.799 756.806 188.149 12.8385 1.75234 5.52843 99.8729 0.0270762 22.1305 40.3552 67.2281 244.22 0.00462801 29.7322 58.3094 102.944 424.88 6.04348e-05 48.565 103.355 192.815 877.644 0.0103213 26.2677 49.2096 84.3721 333.075 0.000276268 41.9648 88.4836 163.597 728.215 0.0880534 17.3154 28.3393 42.9894 122.868 0.0205332 23.306 43.3886 73.3903 274.751 0.00596196 28.6364 55.2514 96.6212 394.01 0.848615 7.5159 34.9893 81.0466 426.173 0.0111219 25.9415 49.3195 85.0441 334.472 0.00178632 33.8612 67.2138 120.208 513.935 0.00499951 29.3964 58.4826 103.764 426.511 0.0187341 23.7092 43.2241 72.4985 272.932 0.00469194 29.6726 58.3345 103.077 425.151 0.00363375 30.7799 61.4073 109.416 456.033 0.0146015 24.7717 46.2863 78.874 303.92 0.0129004 25.3139 46.1561 77.8689 301.765 0.00274104 32.0025 64.4258 115.484 486.372 0.00311012 31.4562 61.188 108.041 453.164 95.3923 0.660579 8.51493 34.786 277.116 0.0911429 17.1481 28.4222 43.3912 123.672 0.000497045 39.4143 82.5036 151.722 668.056 0.00115318 35.7602 73.4344 133.469 576.951 0.00271732 32.0403 64.4055 115.39 486.185 0.0149347 24.6729 46.3279 79.0953 304.369 0.01445 24.8174 46.2691 78.7761 303.718 0.0150843 24.6293 46.3484 79.1975 304.575 0.0479572 19.7432 34.3234 55.0287 183.393 0.0349892 21.0588 37.2841 60.8466 213.237 0.00784084 27.4526 52.2289 90.4925 363.535 0.00264109 32.164 64.3459 115.098 485.599 0.00190133 33.5901 67.2829 120.719 515.025 0.00239778 32.5839 64.2139 114.253 483.831 0.00143378 34.815 70.2962 126.774 545.34 0.00777417 27.4898 52.219 90.4215 363.384 0.01408 24.9309 46.2318 78.5443 303.235 0.000568633 38.8302 79.2414 144.278 634.892 0.000136767 45.0181 94.2826 174.411 786.184 0.0184125 23.7853 43.204 72.3533 272.623 0.0031358 31.4205 61.1935 108.101 453.296 0.00427382 30.0785 58.2057 102.258 423.439 0.0106937 26.1129 49.254 84.6744 333.713 0.0138037 25.0177 46.2082 78.3775 302.881 0.045756 20.129 31.2401 46.6648 147.677 7.90598 1.03937 12.9939 31.5951 137.694 1.73723 4.84669 26.7844 63.501 335.569 95.7592 0.581179 9.03068 36.0688 279.389 0.0137689 25.0287 46.2055 78.3569 302.837 0.00113981 35.8109 73.408 133.345 576.703 0.0398385 20.584 34.1454 53.5196 180.12 0.0100519 26.3831 49.1847 84.1641 332.625 0.00298301 31.6349 64.6852 116.531 488.383 0.00767965 27.5344 56.0628 99.8333 400.16 0.00322056 31.302 65.0404 117.738 490.603 4.05598e-07 70.2969 157.894 302.859 1425.3 0.00431606 30.0318 62.0655 111.826 460.558 0.000762123 37.5582 80.0452 147.701 641.556 0.211684 13.6537 23.7802 35.6774 71.017 39.1359 3.4966 4.42349 8.03653 14.6139 0.0010587 36.131 77.2888 142.469 612.73 3.87038e-05 50.5003 109.656 206.199 940.803 0.000603748 38.5697 83.3909 154.756 673.645 0.00133983 35.1086 73.9775 135.504 580.791 0.00450544 29.8452 62.3391 112.665 462.053 3.80564e-07 70.5736 157.683 302.036 1423.73 0.282437 12.871 20.2143 27.8528 37.5286 0.152255 14.9253 26.5695 41.1744 100.388 0.00258854 32.2513 64.3099 114.904 485.204 0.000607174 38.5454 79.3183 144.824 636.05 0.00136225 35.0373 70.234 126.343 544.429 0.000109124 45.9987 97.3672 180.945 817.51 7.67977e-05 47.5244 100.293 186.409 846.581 0.00078893 37.4084 76.2772 138.592 605.364 0.0018457 33.7191 67.2452 120.466 514.491 0.00730964 27.7582 52.1681 89.9528 362.361 0.00135201 35.07 70.227 126.284 544.302 0.00467709 29.6826 62.6302 113.511 463.537 0.0016323 34.2529 67.1753 119.601 512.556 0.105646 16.8325 25.1943 35.6626 89.7708 9.0763e-05 46.7988 97.2352 179.59 814.523 1.02592e-05 56.2667 121.334 228.455 1058.09 157.836 0.000204693 43.2669 143.496 1034.43 0.000611642 38.5133 83.4864 155.037 674.141 7.77204e-06 57.4725 124.35 234.54 1088.47 0.00273951 32.0077 61.1712 107.266 451.34 0.00570591 28.8274 55.2019 96.2595 393.239 0.00444207 29.9106 58.2477 102.573 424.111 0.000645229 38.2817 76.2028 137.262 602.324 4.31423e-05 50.0288 106.303 198.41 906.986 0.00235989 32.6531 64.2012 114.133 483.569 0.0136314 25.0727 46.1953 78.2762 302.664 0.0108384 26.0543 49.2744 84.7966 333.966 0.00181954 33.7811 67.2302 120.351 514.244 0.0140567 24.9382 46.2297 78.53 303.205 0.00605988 28.5655 55.2748 96.7663 394.312 1.52157e-05 54.5549 118.487 223.407 1029.86 0.026065 22.299 40.2809 66.8435 243.441 0.00320678 31.3232 61.2113 108.269 453.665 4.10189e-05 50.248 106.268 198.041 906.171 5.41785e-05 49.0396 103.258 191.971 875.813 0.00265873 32.135 64.3589 115.164 485.733 0.000137997 44.9793 94.2916 174.482 786.338 0.0117756 25.6922 49.4502 85.6573 335.69 0.00109783 35.9738 73.3348 132.97 575.947 0.0265122 22.2237 40.3118 67.0104 243.782 0.000601574 38.5856 79.3047 144.741 635.878 0.000207117 43.2159 91.4879 169.597 758.418 0.0370356 20.8045 37.4047 61.4453 214.439 0.0311672 21.5756 37.1572 59.8822 211.171 0.00344109 31.0167 61.2999 108.869 454.931 0.0036284 30.7863 61.4039 109.4 456.002 27.8349 0.400589 10.6736 30.7864 180.765 0.00346547 30.986 61.3117 108.936 455.067 3.86564e-10 100.506 229.844 446.289 2149.09 0.00492612 29.4607 58.443 103.593 426.178 0.00463476 29.7259 58.312 102.958 424.909 0.0190501 23.6357 43.2466 72.6452 273.24 0.025151 22.457 40.2274 66.5173 242.763 8.12413 1.45909 9.06202 21.4132 99.3442 1.95444e-05 53.4676 115.411 217.035 998.906 0.000794094 37.3801 76.2855 138.648 605.482 0.0042956 30.0564 58.2104 102.298 423.525 4.41268e-06 59.9308 130.372 246.627 1149.06 0.00812769 27.296 52.2791 90.8097 364.198 0.00758821 27.5953 52.1948 90.2283 362.969 0.00137334 35.0021 70.2421 126.407 544.567 0.00444556 29.9072 58.2487 102.58 424.126 0.00588441 28.6934 55.2346 96.5089 393.773 3.34528e-05 51.1335 109.345 204.687 937.778 9.74947e-05 46.4881 97.2515 180.042 815.572 1.22327e-06 65.5026 130.771 238.981 1107.6 0.000397359 40.3904 70.5221 118.739 503.323 0.00117464 35.7009 58.748 94.8636 382.267 0.0147794 25.2241 34.2953 46.5534 140.845 0.00242144 32.5853 52.2272 82.5361 322.22 0.000120527 45.5679 82.6998 142.867 624.084 0.000288498 41.7794 73.6445 124.819 533.455 7.34558e-05 47.718 88.4278 154.708 684.737 0.0100565 26.7168 37.5007 52.6804 170.9 0.000222147 42.9134 76.5566 130.769 563.743 0.0597938 18.8936 31.2074 48.2546 151.559 0.00140338 34.9081 70.2669 126.586 544.948 0.000991322 36.4171 73.2149 132.12 574.144 0.0321653 21.4348 37.1782 60.116 211.691 0.0171256 24.1038 43.1509 71.8128 271.432 0.000523647 39.1882 79.2004 143.71 633.613 86.6896 0.0336755 21.1216 69.5939 482.911 0.00195608 33.4667 67.328 120.981 515.564 0.00610416 28.5338 55.2863 96.8333 394.45 0.0575384 19.3495 28.3773 40.3385 116.414 0.0031494 31.4017 61.1966 108.133 453.367 0.00486025 29.5193 58.4098 103.443 425.884 6.71091e-05 48.1101 103.571 193.886 879.794 0.00594358 28.6498 55.2472 96.5944 393.953 2.32652e-05 52.7108 112.284 210.111 966.728 4.32126e-05 50.0218 106.305 198.423 907.013 0.000789862 37.4033 76.2786 138.602 605.385 0.00344412 31.0128 61.3013 108.878 454.948 1.36938e-06 65.0126 142.376 270.495 1269.58 2.68828e-06 62.0831 136.505 259.362 1210.98 0.429707 10.2592 73.5348 184.038 1060.74 0.00114387 35.7954 73.4158 133.383 576.778 0.00950821 26.6123 52.7002 92.6252 367.741 0.00058265 38.7244 79.2649 144.47 635.306 8.10692e-07 67.2893 148.446 282.93 1330.91 2.36603e-07 72.6376 160.389 306.309 1450.38\r\n",
      "CM042338.1:8548932 0 0 0 0 3 33 0 0 0 0 6 64 0 0 0 0 0 0 0 6 59 0 0 0 0 9 86 0 9 92 0 3 37 0 0 0 0 6 67 0 3 37 0 6 67 0 6 67 0 15 115 0 0 0 0 6 60 0 0 0 0 0 0 0 12 94 0 0 0 0 0 0 0 3 37 0 0 0 0 3 37 0 0 0 0 6 58 0 0 0 0 6 67 0 0 0 0 0 0 0 0 0 0 3 37 0 6 64 0 3 37 0 0 0 0 3 37 0 0 0 0 0 0 0 0 0 0 0 0 0 3 32 0 0 0 0 0 0 0 0 0 0 9 86 0 3 37 0 9 92 0 0 0 0 12 107 0 0 0 0 0 0 0 0 0 0 0 0 0 0 0 30 3 0 0 15 122 0 15 129 37 3 0 0 12 107 0 6 67 0 0 0 0 6 67 0 6 52 0 0 0 0 12 104 0 0 0 9 0 125 0 0 0 0 3 37 0 6 67 0 6 64 0 3 33 0 0 0 0 0 0 0 6 67 0 0 0 0 3 33 0 15 121 0 3 37 0 3 37 0 3 37 0 0 0 0 0 0 0 9 89 0 0 0 0 9 92 0 0 0 0 3 33 0 3 37 0 6 64 0 6 67 0 0 0 0 0 0 0 3 33 0 0 0 0 0 0 0 0 0 0 3 37 0 3 37 0 3 33 0 3 37 0 3 32 0 0 0 0 0 0 0 0 0 0 6 63 0 0 0 0 3 37 0 3 37 0 6 67 0 0 0 0 0 0 0 3 37 0 9 85 0 0 0 0 6 62 0 0 0 0 0 0 0 0 0 0 6 67 0 0 0 0 0 0 0 6 64 0 3 37 0 3 36 0 0 0 0 3 37 0 0 0 0 0 0 0 6 67 0 0 0 0 0 0 0 3 33 0 0 0 0 0 0 0 0 0 0 6 67 0 0 0 0 3 33 0 12 107 0 3 36 0 0 0 0 6 67 0 0 0 0 9 91 0 0 0 0 6 67 0 3 37 0 0 0 0 0 0 0 3 37 0 3 37 0 3 37 0 0 0 0 0 0 0 0 0 0 3 37 0 9 92 0 0 0 0 18 126 0 0 0 0 0 0 0 3 37 0 0 0 0 0 0 18 0 56 0 0 0 0 0 0 0 0 0 0 3 37 0 6 67 0 9 92 0 3 37 0 0 0 0 0 0 0 27 170 0 9 89 0 6 67 0 9 92 0 3 36 0 3 37 0 0 0 0 0 0 0 3 37 0 0 0 0 24 162 0 0 0 0 0 0 0 6 67 0 3 37 0 0 0 0 3 27 0 0 0 0 0 0 0 0 0 0 0 0 0 0 0 0 3 37 0 0 0 0 12 113 0 0 0 0 0 0 0 0 0 0 0 0 0 0 0 0 0 0 0 3 37 0 0 0 0 3 33 0 0 0 0 3 37 0 6 67 0 0 0 0 0 0 0 3 37 0 6 67 0 0 0 0 0 0 0 0 0 0 0 0 0 0 0 0 0 0 0 0 0 0 3 37 0 0 0 0 6 66 0 0 0 51 0 118 0 18 143 0 18 133 0 6 64 0 12 107 0 6 64 0 15 128 0 9 89 0 6 60 48 0 108 0 21 154 0 15 163 0 12 110 0 12 113 0 18 141 0 15 119 0 15 125 0 6 67 0 0 0 0 9 92 0 6 55 0 6 67 0 18 136 0 21 143 0 0 0 0 6 67 0 27 165 0 6 60 0 3 33 0 0 0 0 15 129 0 21 154 0 57 192 0 6 64 0 3 27 0 21 152 0 9 89 0 9 86 0 3 30 0 9 85 0 3 37 0 12 107 0 3 37 0 6 67 0 0 0 0 6 67 0 6 67 0 0 0 0 21 153 0 6 67 0 0 0 0 0 0 0 18 141 0 30 167 0 12 113 0 6 67 0 30 170 0 15 129 0 3 144 0 15 118 0 24 160 0 42 188 0 21 137 48 0 158 0 9 85 0 24 156 0 9 89 0 12 104 53 0 18 0 21 154 0 12 104 0 15 129 0 6 67 0 6 55 0 9 92 0 27 170 0 0 0 0 0 0 0 3 37 21 0 59 0 0 0 0 3 37 21 0 59 0 0 0 0 6 64 0 9 86 21 0 59 0 18 139 0 15 125 0 15 122 0 33 179 24 0 27 0 3 37 0 24 149 0 21 147 0 6 67 0 9 89 0 15 160 0 24 158 0 48 191 0 30 175 56 0 83 0 6 64 0 12 113 0 18 134 0 0 145 0 9 92 15 0 86 0 0 0 0 12 113 0 12 107 0 9 89 0 24 161 0 12 113 9 0 109 0 12 112 0 15 118 0 21 152 0 3 37 0 3 37 0 15 122 0 3 37 0 3 37 0 9 92 30 3 0 0 3 37 0 12 113 0 24 159 0 39 187 0 27 166 0 66 196 0 27 162 0 21 152 0 63 193 16 0 123 0 39 185 0 24 161 0 9 89 0 0 0 0 12 111 31 0 31 0 18 139 0 0 0 0 15 129 0 0 0 0 0 0 0 0 0 0 3 37 0 3 33 0 9 82 0 3 37 0 6 67 0 6 67 0 9 92 0 6 67 0 0 0 0 9 92 0 0 0 0 18 132 0 3 37 0 6 67 0 15 126 0 12 113 0 6 67 0 9 92 0 6 67 0 3 37 0 30 175 0 6 67 0.0398081 21.1571 28.8951 37.6226 62.042 0.0383264 21.3853 28.7886 37.1059 61.0053 0.0261522 22.7769 31.7114 42.729 83.3843 0.011241 26.0164 40.8681 61.6209 154.642 0.00250578 32.41 55.7029 90.9392 269.026 0.0107187 26.2338 40.7547 61.1043 153.619 0.0391259 21.2613 28.842 37.3776 61.5551 0.0397531 21.1655 28.8906 37.6024 62.0021 0.0361126 21.7397 28.6866 36.4337 59.5868 0.0630371 19.3569 26.3903 33.3919 42.2169 0.0600133 19.7944 26.0096 32.0405 39.6945 0.0331199 21.5252 32.7096 46.4092 90.3265 0.0614995 19.5762 26.1748 32.664 40.8773 0.0771377 17.5922 37.113 58.6717 83.3801 0.0461342 20.2533 29.8004 40.6575 67.6164 0.0650049 19.0851 26.745 34.4731 44.1446 0.0406084 21.0367 28.9667 37.9268 62.6355 0.0272727 22.5572 31.7901 43.1775 84.31 0.0626761 19.4078 26.3352 33.2127 41.8905 0.0190315 23.9564 34.71 48.7858 106.661 0.0381235 21.4171 28.7765 37.0395 60.8691 0.0257686 22.8541 31.6904 42.5852 83.0794 0.0541811 20.7174 25.6879 30.1747 35.8304 0.0184566 24.1058 34.668 48.5044 106.066 0.0371191 21.5765 28.7249 36.7255 60.214 0.0069584 28.1943 40.7573 58.5627 147.487 0.0115259 26.3586 35.0261 46.3259 100.086 0.0243973 23.9751 29.1002 34.3934 53.8228 0.0108033 26.198 40.771 61.1848 153.78 0.00417306 30.2251 49.618 78.4154 221.649 0.0102871 26.4215 40.6825 60.7113 152.814 0.00596872 28.6897 46.7384 73.066 199.839 0.0204125 23.6138 34.858 49.5367 108.18 0.0194273 23.8559 34.7455 48.9898 107.083 0.010887 26.1627 40.788 61.2657 153.942 0.0013725 35.0128 61.6293 102.592 314.617 0.0104061 26.369 40.7005 60.8167 153.032 0.0007584 37.5836 67.5756 114.328 360.369 0.0741014 17.7338 41.7479 81.4117 292.761 0.00354729 30.9083 52.8595 85.6196 247.218 0.0109926 26.1186 40.8105 61.3694 154.148 7.9375 1.14294 11.5557 31.4789 138.737 0.00791305 27.5011 43.7287 66.9971 176.551 0.00774047 27.6001 43.6897 66.7879 176.124 0.0111562 25.9538 45.7329 73.1207 187.486 0.00792518 27.4943 43.7316 67.0121 176.582 0.0287635 22.2769 31.9375 43.8461 85.6331 0.000251503 42.3756 73.819 123.8 400.064 0.00268366 32.1663 49.8038 76.2807 216.132 0.00408582 30.45 44.1584 64.0711 168.613 0.0137381 26.0225 32.4946 40.163 75.5737 0.229627 13.224 24.1508 42.5887 146.381 0.00235027 32.7482 50.0459 76.0349 215.039 0.00412609 30.275 49.6048 78.3232 221.453 0.0257716 22.8535 31.6906 42.5863 83.0817 0.00865975 27.2049 40.5777 59.4748 150.045 0.0190182 23.9597 34.7089 48.7792 106.647 0.0145192 24.9929 37.7707 55.157 130.575 0.0377148 21.4816 28.7539 36.9089 60.5989 0.0101412 26.4866 40.6624 60.5849 152.549 0.0142117 25.0932 37.7291 54.9407 130.135 0.0102984 26.4165 40.6841 60.7212 152.834 0.00323622 31.3108 52.656 84.6769 245.345 0.0404174 21.0652 28.9487 37.8525 62.4916 0.0638726 19.2403 26.5291 33.8284 43.0028 2.83975 5.16131 8.96443 13.911 21.1271 0.0448576 20.4273 29.5453 39.9083 66.2968 0.0647912 19.1141 26.7016 34.3464 43.9218 0.0609484 19.6564 26.1089 32.4243 40.4269 0.0320876 21.6952 32.4723 45.7016 89.074 0.0426843 20.7329 29.2038 38.8097 64.3044 0.0420723 20.8212 29.1257 38.5342 63.7913 0.0316005 21.777 32.3734 45.3922 88.5178 0.0311853 21.8476 32.2952 45.1398 88.0597 0.0313422 21.8208 32.3242 45.234 88.2312 0.0691256 18.5452 27.8957 37.5339 49.348 0.0301107 22.0344 32.1169 44.5305 86.9349 0.0642805 19.184 26.603 34.0532 43.4034 0.0460699 20.262 29.7864 40.6176 67.5468 0.0173164 24.1632 38.4374 57.6066 135.189 0.0293962 22.1618 32.016 44.1573 86.2307 0.066009 18.95 26.967 35.1038 45.2428 0.0310829 21.8652 32.2768 45.0791 87.9488 0.0239116 22.8335 35.5797 52.0341 112.808 0.0456898 20.3134 29.7064 40.3867 67.1425 0.0624903 19.4342 26.308 33.1225 41.7255 0.0324381 21.6369 32.5485 45.9335 89.4874 0.0628365 19.3852 26.3593 33.2916 42.0345 0.0401821 21.1006 28.9273 37.7625 62.3162 0.0606467 19.7006 26.0752 32.2973 40.1863 0.0036066 30.8674 49.5379 77.414 219.398 0.00209302 33.2196 52.7273 82.3457 239.585 0.00215807 33.0628 55.5271 89.7267 266.453 0.000860006 37.0411 64.4794 107.239 334.798 0.0326325 22.3338 28.6495 35.583 57.6122 0.0515788 21.1696 25.6836 29.5769 34.3995 0.0165774 24.6261 34.6064 47.6994 104.251 0.00681013 28.174 43.5696 65.7928 173.966 0.00882501 27.1191 40.5764 59.5838 150.31 0.0169976 24.251 38.3319 57.2759 134.594 0.0645655 19.1449 26.6572 34.2152 43.6903 0.0460696 20.262 29.7863 40.6174 67.5464 0.0137937 25.0774 41.9156 64.9916 160.756 0.0483163 19.9647 30.3561 42.1718 70.2136 0.044347 20.498 29.4554 39.6318 65.8024 0.067357 18.7723 27.3182 36.0548 46.8699 0.0211505 23.2126 40.69 63.4625 145.059 0.0483367 19.9621 30.3621 42.1876 70.2403 0.032618 21.6073 32.5893 46.0558 89.7042 0.0660671 18.9423 26.9808 35.1422 45.309 0.0306403 21.9416 32.2006 44.8232 87.4788 0.0166445 24.3502 38.2249 56.9272 133.959 0.0248045 22.6513 35.8649 52.8557 114.245 0.0240718 22.8004 35.6272 52.1746 113.056 0.0456098 22.3297 25.9572 28.6398 31.5853 0.0114052 26.4082 35.0478 46.3073 99.9962 0.00565318 29.006 43.6331 64.8424 171.552 0.0272154 23.3688 28.8619 34.68 55.006 0.00690528 28.2288 40.7681 58.5405 147.411 0.0176847 24.7755 31.903 40.5307 77.6968 0.00227983 32.8816 50.1093 75.9959 214.813 0.00355139 30.9876 46.8389 70.2921 192.947 0.00505987 29.5 43.765 64.4761 170.402 0.0199951 23.7151 34.8061 49.298 107.706 0.0209489 23.4866 34.9343 49.8594 108.809 0.0600718 19.7857 26.0154 32.0637 39.7392 0.0149857 24.8445 37.8448 55.5029 131.263 0.0199609 23.7234 34.8021 49.2789 107.668 0.010441 26.3537 40.706 60.8481 153.097 0.0607857 19.6802 26.0905 32.3554 40.2966 0.0593097 19.8999 25.9447 31.7694 39.1676 0.0212857 23.4082 34.9879 50.0718 109.217 0.010723 26.232 40.7555 61.1084 153.627 0.0287647 22.2767 31.9377 43.8466 85.6342 0.0206581 23.5552 34.8915 49.6821 108.465 0.0138087 25.2279 37.683 54.6704 129.575 0.00661989 28.2296 47.0314 74.2674 202.163 0.0196182 23.8081 34.7646 49.0914 107.29 0.0402933 21.0839 28.9373 37.8048 62.3988 0.0412169 20.9463 29.0282 38.1709 63.1045 0.0590386 19.9409 25.9218 31.6688 38.9698 0.0363552 21.7001 28.6947 36.502 59.7355 0.00865054 27.1007 43.9575 67.989 178.495 0.0135489 25.3167 37.6584 54.5037 129.222 0.0265117 22.7056 31.7338 42.8682 83.6754 0.0411583 20.955 29.022 38.1469 63.0585 0.0418781 20.8494 29.1024 38.4496 63.6324 0.0156574 24.6383 37.9758 56.0407 132.304 0.0604034 19.7365 26.0492 32.1971 39.9953 0.00262388 32.2086 55.8101 91.4219 269.979 0.0278892 22.4397 31.845 43.4435 84.8436 0.0288907 22.2536 31.9525 43.9072 85.7514 0.0402182 21.0951 28.9305 37.7762 62.343 0.0203057 23.6396 34.8441 49.4746 108.058 0.0271364 22.5835 31.7791 43.1206 84.1944 0.0595856 19.8584 25.9692 31.8739 39.3718 0.0391508 21.2575 28.8438 37.3863 61.5726 0.0376275 21.4954 28.7493 36.8815 60.5418 0.0585715 20.0122 25.885 31.5002 38.6354 0.0575753 20.1665 25.8174 31.1598 37.9478 0.0387374 21.3213 28.8149 37.2435 61.2853 0.0568529 20.2804 25.7772 30.9285 37.4696 0.0571748 20.2294 25.7942 31.03 37.6807 0.0573932 20.195 25.8066 31.1003 37.8257 0.0136518 25.2813 37.6677 54.569 129.361 0.0376976 21.4843 28.753 36.9035 60.5876 0.039137 21.2596 28.8428 37.3815 61.5629 0.0381872 21.4071 28.7802 37.0603 60.9118 0.0498477 21.4869 25.723 29.2457 33.523 1.58376 5.68597 14.7098 27.5817 71.299 0.0586074 20.0067 25.8877 31.5129 38.6608 0.059896 19.8119 25.9983 31.9942 39.6052 0.0141285 25.1207 37.7188 54.8836 130.018 0.0290884 22.2175 31.9766 44.0037 85.9371 0.0242777 23.1637 31.6365 42.0704 81.9464 0.0374315 21.5266 28.7395 36.8207 60.4145 0.0315223 21.7902 32.3583 45.3439 88.4305 0.0464909 20.2054 29.8801 40.8832 68.0088 0.0462857 20.2329 29.8337 40.7524 67.7817 0.0440648 20.5374 29.4083 39.4841 65.5365 0.0246974 22.6728 35.828 52.752 114.066 0.0461496 20.2512 29.8037 40.6671 67.633 0.0265218 22.3173 36.5782 54.7517 117.467 0.0640964 19.2094 26.5691 33.9507 43.2211 0.0345061 21.3042 33.0969 47.4903 92.1971 0.0428713 20.7061 29.2292 38.8966 64.465 0.0348643 21.2484 33.2118 47.7984 92.7223 0.065092 19.0733 26.7631 34.5255 44.2365 0.0478411 20.0267 30.2201 41.8126 69.6047 0.0614282 19.5866 26.1659 32.6323 40.8181 0.0334479 21.4722 32.7937 46.6504 90.7478 0.0678062 18.714 27.451 36.4027 47.458 0.0590157 19.9444 25.9199 31.6603 38.9532 0.0393784 21.2226 28.8608 37.4668 61.7334 0.0571623 20.2314 25.7935 31.0261 37.6724 0.0588746 19.9659 25.9085 31.6089 38.8514 0.0571103 20.2396 25.7907 31.0095 37.6381 0.057945 20.1089 25.8408 31.2832 38.1991 0.0576057 20.1617 25.8192 31.1698 37.9683 0.0559102 20.4317 25.7353 30.6449 36.869 0.056958 20.2637 25.7826 30.9614 37.5381 0.0196462 23.5643 39.5303 60.6251 140.391 0.0543533 20.6884 25.691 30.2188 35.9305 0.0546613 20.6369 25.6974 30.2991 36.1112 0.0346833 21.9779 28.6541 36.056 58.7419 0.0570711 20.2458 25.7885 30.9971 37.6123 0.0567765 20.2925 25.7733 30.9048 37.4199 0.0675987 18.7409 27.3885 36.2398 47.1831 0.0380598 21.4271 28.7728 37.0189 60.8267 0.0529083 20.9351 25.6761 29.8666 35.1123 0.0139425 25.1828 37.6973 54.7584 129.759 0.038755 21.3186 28.8161 37.2495 61.2974 0.0527039 20.9706 25.6759 29.82 35.0003 0.0191085 23.9367 34.7165 48.8248 106.742 0.0564745 20.3407 25.7589 30.8123 37.2254 0.0571172 20.2385 25.791 31.0117 37.6426 0.0201932 23.6668 34.8299 49.4099 107.93 0.0572161 20.2229 25.7965 31.0433 37.708 0.0579664 20.1055 25.8422 31.2904 38.2138 0.0393865 21.2213 28.8615 37.4697 61.7391 0.0600506 19.7888 26.0133 32.0552 39.7229 0.0589617 19.9526 25.9155 31.6406 38.9142 0.0190645 23.9479 34.7128 48.8025 106.696 0.0557106 20.4641 25.7279 30.5875 36.7452 0.0361961 21.7261 28.6893 36.4571 59.6378 0.0208169 23.5176 34.9145 49.7783 108.652 0.0268204 22.645 31.7552 42.9912 83.9298 0.0419142 20.8442 29.1066 38.4652 63.6618 0.0591456 19.9247 25.9307 31.7082 39.0475 0.0401795 21.101 28.927 37.7615 62.3143 0.0583953 20.0393 25.872 31.4381 38.5113 0.0214484 23.3707 35.0155 50.1772 109.417 0.0413819 20.9221 29.046 38.2391 63.2343 0.0364314 21.6877 28.6974 36.5237 59.7824 0.0589345 19.9568 25.9133 31.6306 38.8945 0.0115508 25.892 40.9496 61.9504 155.277 0.0592115 19.9148 25.9363 31.7327 39.0956 0.0282069 22.3801 31.8765 43.5862 85.1258 0.00497753 29.448 50.0375 80.29 225.347 0.0609777 19.6521 26.1123 32.4367 40.4504 0.0204643 23.6014 34.8649 49.567 108.24 0.0390704 21.2699 28.838 37.3582 61.5163 0.0386674 21.3322 28.8102 37.2198 61.2372 0.0380019 21.4362 28.7695 37.0003 60.7882 0.0589981 19.9471 25.9185 31.6539 38.9405 0.0581253 20.0809 25.8529 31.3446 38.3232 0.0265733 22.6934 31.7379 42.8925 83.7258 0.057572 20.167 25.8172 31.1587 37.9456 0.0279472 22.4288 31.8505 43.4693 84.8948 0.056914 20.2707 25.7803 30.9476 37.5094 0.0141236 25.1223 37.7182 54.8803 130.011 0.0580521 20.0922 25.8479 31.3195 38.2727 0.0578439 20.1246 25.8342 31.2491 38.13 0.0579592 20.1067 25.8417 31.288 38.2088 0.0558073 20.4483 25.7314 30.6152 36.8051 1.28563e-08 85.2867 169.388 309.04 1109.97 4.0626e-06 60.2899 109.487 189.831 648.883 1.24225e-08 85.4358 169.511 309.116 1109.87 3.19891e-06 61.3279 112.311 195.691 672.077 7.85802e-07 67.4247 127.164 225.422 787.45 5.33219e-08 79.1088 154.471 279.273 994.65 0.00149489 34.6342 68.6107 126.389 464.324 2.37872e-06 62.6144 115.335 201.668 695.106 2.2373e-05 52.8812 91.5897 154.113 510.501 1.76133e-08 83.9194 166.297 303.021 1086.99 0.0570247 20.2531 25.7861 30.9824 37.5819 0.0144067 25.0294 37.7548 55.0769 130.413 0.0563436 20.3617 25.7531 30.7728 37.1419 0.0188082 24.0139 34.6924 48.6745 106.428 0.0361521 21.7333 28.6879 36.4447 59.6109 0.0354064 21.8565 28.6674 36.2419 59.163 0.0088423 27.0021 44.0344 68.2754 179.036 0.00258218 32.2787 55.7694 91.247 269.637 0.0588666 19.9671 25.9078 31.606 38.8457 0.0475123 21.9387 25.8278 28.8768 32.4217 0.0260838 22.7906 31.7075 42.7031 83.3295 0.00863029 27.1113 43.9498 67.9595 178.439 0.00662222 28.228 47.0327 74.2722 202.172 0.019772 23.77 34.7809 49.1747 107.459 0.0366372 21.6542 28.705 36.583 59.9102 0.0265659 22.6949 31.7374 42.8896 83.7199 0.0579776 20.1038 25.8429 31.2942 38.2214 0.039684 21.176 28.8849 37.5771 61.9521 0.0102906 26.4199 40.683 60.7143 152.82 0.0152811 24.7528 37.8988 55.7333 131.713 0.0155687 24.6651 37.9568 55.9668 132.163 0.00357647 30.8723 52.8836 85.7161 247.403 0.00945521 26.7003 44.3339 69.2828 180.887 0.0382385 21.3991 28.7833 37.0771 60.9462 0.0276084 22.493 31.8189 43.3206 84.5983 0.00998895 26.5555 40.6436 60.4566 152.277\r\n"
     ]
    }
   ],
   "source": [
    "!head entropy.mpgl"
   ]
  },
  {
   "cell_type": "code",
   "execution_count": 69,
   "metadata": {},
   "outputs": [
    {
     "name": "stdout",
     "output_type": "stream",
     "text": [
      "/data/gpfs/assoc/denovo/tfaske/sagebrush/SNPcall/entropy_ebgAll\n"
     ]
    }
   ],
   "source": [
    "cd $ent_dir"
   ]
  },
  {
   "cell_type": "code",
   "execution_count": 70,
   "metadata": {},
   "outputs": [],
   "source": [
    "!mkdir shdir"
   ]
  },
  {
   "cell_type": "code",
   "execution_count": 71,
   "metadata": {},
   "outputs": [],
   "source": [
    "### select slurm options\n",
    "account = 'cpu-s5-denovo-0'\n",
    "partition = 'cpu-core-0'\n",
    "time = '14-00:00:00' #time limit 14 days\n",
    "cpus = 1 #to prevent hammering one node\n",
    "mem_cpu = 16000\n",
    "email = 'tfaske@nevada.unr.edu'\n",
    "\n",
    "#entropy settings\n",
    "ploidy = 'ploidy_inds.txt'\n",
    "l = 60000\n",
    "b = 10000\n",
    "num_k = [2,3,4,5,6,7]\n",
    "chains = 4"
   ]
  },
  {
   "cell_type": "code",
   "execution_count": 72,
   "metadata": {},
   "outputs": [],
   "source": [
    "def write_entropy_sh(account,partition,time,cpus,mem_cpu,email,ploidy,l,b,num_k,chains):\n",
    "    for k in num_k:\n",
    "        for c in range(1,chains+1):\n",
    "            jobname = 'k%d_c%d' % (k,c)\n",
    "            seed = random.randint(1000,9999) #default is clock so messes up if submitted same time \n",
    "            with open(\"shdir/run_entropy_%s.sh\" % (jobname), \"w\") as o:\n",
    "                o.write(\"\"\"#!/usr/bin/env bash\n",
    "#SBATCH --account=%s\n",
    "#SBATCH --partition=%s\n",
    "#SBATCH --time=%s\n",
    "#SBATCH --ntasks 1\n",
    "#SBATCH --cpus-per-task %d\n",
    "#SBATCH --mem-per-cpu=%d\n",
    "#SBATCH --job-name ent_%s\n",
    "#SBATCH --output output_%s.txt\n",
    "#SBATCH --mail-type=END\n",
    "#SBATCH --mail-user=%s\\n\\n\"\"\" % (account,partition,time,cpus,mem_cpu,jobname,jobname,email))\n",
    "        \n",
    "                o.write(\"entropy -i ../entropy.mpgl -o ../entropy_%s.hdf5 -r %d -n ../%s -l %d -b %d -t 10 -s 50 -e .01 -k %d -q ../ldak%d.txt -m 1 -w 0\"\n",
    "                        % (jobname,seed,ploidy,l,b,k,k))\n",
    "    "
   ]
  },
  {
   "cell_type": "code",
   "execution_count": 73,
   "metadata": {},
   "outputs": [],
   "source": [
    "write_entropy_sh(account,partition,time,cpus,mem_cpu,email,ploidy,l,b,num_k,chains)"
   ]
  },
  {
   "cell_type": "code",
   "execution_count": 74,
   "metadata": {},
   "outputs": [
    {
     "data": {
      "text/plain": [
       "['/data/gpfs/assoc/denovo/tfaske/sagebrush/SNPcall/entropy_ebgAll/shdir/run_entropy_k2_c1.sh',\n",
       " '/data/gpfs/assoc/denovo/tfaske/sagebrush/SNPcall/entropy_ebgAll/shdir/run_entropy_k2_c2.sh',\n",
       " '/data/gpfs/assoc/denovo/tfaske/sagebrush/SNPcall/entropy_ebgAll/shdir/run_entropy_k2_c3.sh',\n",
       " '/data/gpfs/assoc/denovo/tfaske/sagebrush/SNPcall/entropy_ebgAll/shdir/run_entropy_k2_c4.sh',\n",
       " '/data/gpfs/assoc/denovo/tfaske/sagebrush/SNPcall/entropy_ebgAll/shdir/run_entropy_k3_c1.sh',\n",
       " '/data/gpfs/assoc/denovo/tfaske/sagebrush/SNPcall/entropy_ebgAll/shdir/run_entropy_k3_c2.sh',\n",
       " '/data/gpfs/assoc/denovo/tfaske/sagebrush/SNPcall/entropy_ebgAll/shdir/run_entropy_k3_c3.sh',\n",
       " '/data/gpfs/assoc/denovo/tfaske/sagebrush/SNPcall/entropy_ebgAll/shdir/run_entropy_k3_c4.sh',\n",
       " '/data/gpfs/assoc/denovo/tfaske/sagebrush/SNPcall/entropy_ebgAll/shdir/run_entropy_k4_c1.sh',\n",
       " '/data/gpfs/assoc/denovo/tfaske/sagebrush/SNPcall/entropy_ebgAll/shdir/run_entropy_k4_c2.sh',\n",
       " '/data/gpfs/assoc/denovo/tfaske/sagebrush/SNPcall/entropy_ebgAll/shdir/run_entropy_k4_c3.sh',\n",
       " '/data/gpfs/assoc/denovo/tfaske/sagebrush/SNPcall/entropy_ebgAll/shdir/run_entropy_k4_c4.sh',\n",
       " '/data/gpfs/assoc/denovo/tfaske/sagebrush/SNPcall/entropy_ebgAll/shdir/run_entropy_k5_c1.sh',\n",
       " '/data/gpfs/assoc/denovo/tfaske/sagebrush/SNPcall/entropy_ebgAll/shdir/run_entropy_k5_c2.sh',\n",
       " '/data/gpfs/assoc/denovo/tfaske/sagebrush/SNPcall/entropy_ebgAll/shdir/run_entropy_k5_c3.sh',\n",
       " '/data/gpfs/assoc/denovo/tfaske/sagebrush/SNPcall/entropy_ebgAll/shdir/run_entropy_k5_c4.sh',\n",
       " '/data/gpfs/assoc/denovo/tfaske/sagebrush/SNPcall/entropy_ebgAll/shdir/run_entropy_k6_c1.sh',\n",
       " '/data/gpfs/assoc/denovo/tfaske/sagebrush/SNPcall/entropy_ebgAll/shdir/run_entropy_k6_c2.sh',\n",
       " '/data/gpfs/assoc/denovo/tfaske/sagebrush/SNPcall/entropy_ebgAll/shdir/run_entropy_k6_c3.sh',\n",
       " '/data/gpfs/assoc/denovo/tfaske/sagebrush/SNPcall/entropy_ebgAll/shdir/run_entropy_k6_c4.sh',\n",
       " '/data/gpfs/assoc/denovo/tfaske/sagebrush/SNPcall/entropy_ebgAll/shdir/run_entropy_k7_c1.sh',\n",
       " '/data/gpfs/assoc/denovo/tfaske/sagebrush/SNPcall/entropy_ebgAll/shdir/run_entropy_k7_c2.sh',\n",
       " '/data/gpfs/assoc/denovo/tfaske/sagebrush/SNPcall/entropy_ebgAll/shdir/run_entropy_k7_c3.sh',\n",
       " '/data/gpfs/assoc/denovo/tfaske/sagebrush/SNPcall/entropy_ebgAll/shdir/run_entropy_k7_c4.sh']"
      ]
     },
     "execution_count": 74,
     "metadata": {},
     "output_type": "execute_result"
    }
   ],
   "source": [
    "entShells = !find $ent_dir -name 'run_entropy*.sh'\n",
    "entShells = entShells.sort()\n",
    "entShells"
   ]
  },
  {
   "cell_type": "code",
   "execution_count": 75,
   "metadata": {},
   "outputs": [],
   "source": [
    "def write_sbatch_entShells(entShells):\n",
    "         with open(\"shdir/sbatch_entropy.sh\", \"w\") as o:\n",
    "            o.write(\"\"\"#!/usr/bin/env bash \\n\"\"\")\n",
    "            for sh in entShells:\n",
    "                o.write(\"\"\"sbatch %s\\n\"\"\" % (sh))"
   ]
  },
  {
   "cell_type": "code",
   "execution_count": 76,
   "metadata": {},
   "outputs": [],
   "source": [
    "write_sbatch_entShells(entShells)"
   ]
  },
  {
   "cell_type": "markdown",
   "metadata": {},
   "source": [
    "# Run all entropy*sh\n",
    "    cd /data/gpfs/home/tfaske/d/connie/ch2/entropy/shdir\n",
    "    source activate entropy\n",
    "    bash sbatch_entropy.sh"
   ]
  },
  {
   "cell_type": "markdown",
   "metadata": {},
   "source": [
    "# Use estpost to get DIC, q, and gprob"
   ]
  },
  {
   "cell_type": "code",
   "execution_count": 131,
   "metadata": {},
   "outputs": [],
   "source": [
    "np.set_printoptions(precision=8) # increases float print option\n",
    "pd.set_option(\"precision\", 8)"
   ]
  },
  {
   "cell_type": "code",
   "execution_count": 132,
   "metadata": {},
   "outputs": [
    {
     "name": "stdout",
     "output_type": "stream",
     "text": [
      "/data/gpfs/assoc/denovo/tfaske/sagebrush/SNPcall/entropy_ebgAll\n"
     ]
    }
   ],
   "source": [
    "cd $ent_dir"
   ]
  },
  {
   "cell_type": "code",
   "execution_count": 133,
   "metadata": {},
   "outputs": [
    {
     "data": {
      "text/plain": [
       "['./entropy_k2_c1.hdf5',\n",
       " './entropy_k2_c2.hdf5',\n",
       " './entropy_k2_c3.hdf5',\n",
       " './entropy_k2_c4.hdf5',\n",
       " './entropy_k3_c1.hdf5',\n",
       " './entropy_k3_c2.hdf5',\n",
       " './entropy_k3_c3.hdf5',\n",
       " './entropy_k3_c4.hdf5',\n",
       " './entropy_k4_c1.hdf5',\n",
       " './entropy_k4_c2.hdf5',\n",
       " './entropy_k4_c3.hdf5',\n",
       " './entropy_k4_c4.hdf5',\n",
       " './entropy_k5_c1.hdf5',\n",
       " './entropy_k5_c2.hdf5',\n",
       " './entropy_k5_c3.hdf5',\n",
       " './entropy_k5_c4.hdf5',\n",
       " './entropy_k6_c1.hdf5',\n",
       " './entropy_k6_c2.hdf5',\n",
       " './entropy_k6_c3.hdf5',\n",
       " './entropy_k6_c4.hdf5',\n",
       " './entropy_k7_c1.hdf5',\n",
       " './entropy_k7_c2.hdf5',\n",
       " './entropy_k7_c3.hdf5',\n",
       " './entropy_k7_c4.hdf5']"
      ]
     },
     "execution_count": 133,
     "metadata": {},
     "output_type": "execute_result"
    }
   ],
   "source": [
    "hdf5_files = !find . -name '*hdf5'\n",
    "hdf5_files = hdf5_files.sort()\n",
    "hdf5_files"
   ]
  },
  {
   "cell_type": "code",
   "execution_count": 134,
   "metadata": {},
   "outputs": [],
   "source": [
    "estpost = '/data/gpfs/home/tfaske/g/anaconda3/envs/entropy/bin/estpost.entropy'"
   ]
  },
  {
   "cell_type": "code",
   "execution_count": 135,
   "metadata": {},
   "outputs": [],
   "source": [
    "#make DIC\n",
    "for i in range(0,len(hdf5_files)):\n",
    "    f = hdf5_files[i]\n",
    "    k = f.split('_')[1] #set this \n",
    "    c = f.split('_')[2].split('.hdf5')[0]\n",
    "    #print(k,c)\n",
    "    dic = \"DIC_%s_%s.txt\" % (k,c)\n",
    "    !$estpost $f -s 3 -p deviance > $dic"
   ]
  },
  {
   "cell_type": "code",
   "execution_count": 136,
   "metadata": {},
   "outputs": [
    {
     "data": {
      "text/plain": [
       "['./DIC_k2_c4.txt',\n",
       " './DIC_k7_c2.txt',\n",
       " './DIC_k2_c1.txt',\n",
       " './DIC_k6_c1.txt',\n",
       " './DIC_k3_c2.txt',\n",
       " './DIC_k4_c4.txt',\n",
       " './DIC_k4_c2.txt',\n",
       " './DIC_k7_c1.txt',\n",
       " './DIC_k7_c4.txt',\n",
       " './DIC_k5_c2.txt',\n",
       " './DIC_k6_c2.txt',\n",
       " './DIC_k4_c3.txt',\n",
       " './DIC_k7_c3.txt',\n",
       " './DIC_k3_c1.txt',\n",
       " './DIC_k2_c2.txt',\n",
       " './DIC_k5_c4.txt',\n",
       " './DIC_k6_c3.txt',\n",
       " './DIC_k4_c1.txt',\n",
       " './DIC_k2_c3.txt',\n",
       " './DIC_k6_c4.txt',\n",
       " './DIC_k3_c4.txt',\n",
       " './DIC_k5_c1.txt',\n",
       " './DIC_k3_c3.txt',\n",
       " './DIC_k5_c3.txt']"
      ]
     },
     "execution_count": 136,
     "metadata": {},
     "output_type": "execute_result"
    }
   ],
   "source": [
    "dic_files = !find . -name 'DIC*'\n",
    "dic_files"
   ]
  },
  {
   "cell_type": "code",
   "execution_count": 137,
   "metadata": {},
   "outputs": [
    {
     "name": "stdout",
     "output_type": "stream",
     "text": [
      "file = ./entropy_k2_c4.hdf5\n",
      "parameter dimensions for deviance: samples = 5000, chains = 1\n",
      "Model deviance: 20623460.89\n",
      "Effective number of parameters: 25243177.88\n",
      "Model DIC: 45866638.77\n",
      "\n",
      "\n",
      "file = ./entropy_k7_c2.hdf5\n",
      "parameter dimensions for deviance: samples = 5000, chains = 1\n",
      "Model deviance: 19093497.00\n",
      "Effective number of parameters: 53693341.48\n",
      "Model DIC: 72786838.47\n",
      "\n",
      "\n",
      "file = ./entropy_k2_c1.hdf5\n",
      "parameter dimensions for deviance: samples = 5000, chains = 1\n",
      "Model deviance: 20622801.34\n",
      "Effective number of parameters: 25244205.29\n",
      "Model DIC: 45867006.63\n",
      "\n",
      "\n",
      "file = ./entropy_k6_c1.hdf5\n",
      "parameter dimensions for deviance: samples = 5000, chains = 1\n",
      "Model deviance: 19459663.02\n",
      "Effective number of parameters: 40591396.13\n",
      "Model DIC: 60051059.16\n",
      "\n",
      "\n",
      "file = ./entropy_k3_c2.hdf5\n",
      "parameter dimensions for deviance: samples = 5000, chains = 1\n",
      "Model deviance: 20336245.49\n",
      "Effective number of parameters: 36674842.61\n",
      "Model DIC: 57011088.10\n",
      "\n",
      "\n",
      "file = ./entropy_k4_c4.hdf5\n",
      "parameter dimensions for deviance: samples = 5000, chains = 1\n",
      "Model deviance: 20008046.96\n",
      "Effective number of parameters: 66912067.82\n",
      "Model DIC: 86920114.78\n",
      "\n",
      "\n",
      "file = ./entropy_k4_c2.hdf5\n",
      "parameter dimensions for deviance: samples = 5000, chains = 1\n",
      "Model deviance: 19921756.19\n",
      "Effective number of parameters: 38819874.34\n",
      "Model DIC: 58741630.54\n",
      "\n",
      "\n",
      "file = ./entropy_k7_c1.hdf5\n",
      "parameter dimensions for deviance: samples = 5000, chains = 1\n",
      "Model deviance: 19094486.23\n",
      "Effective number of parameters: 58630057.27\n",
      "Model DIC: 77724543.50\n",
      "\n",
      "\n",
      "file = ./entropy_k7_c4.hdf5\n",
      "parameter dimensions for deviance: samples = 5000, chains = 1\n",
      "Model deviance: 19094805.41\n",
      "Effective number of parameters: 56462881.30\n",
      "Model DIC: 75557686.71\n",
      "\n",
      "\n",
      "file = ./entropy_k5_c2.hdf5\n",
      "parameter dimensions for deviance: samples = 5000, chains = 1\n",
      "Model deviance: 19785707.63\n",
      "Effective number of parameters: 77423624.44\n",
      "Model DIC: 97209332.07\n",
      "\n",
      "\n",
      "file = ./entropy_k6_c2.hdf5\n",
      "parameter dimensions for deviance: samples = 5000, chains = 1\n",
      "Model deviance: 19459218.96\n",
      "Effective number of parameters: 45588091.01\n",
      "Model DIC: 65047309.97\n",
      "\n",
      "\n",
      "file = ./entropy_k4_c3.hdf5\n",
      "parameter dimensions for deviance: samples = 5000, chains = 1\n",
      "Model deviance: 20002944.69\n",
      "Effective number of parameters: 60984630.09\n",
      "Model DIC: 80987574.79\n",
      "\n",
      "\n",
      "file = ./entropy_k7_c3.hdf5\n",
      "parameter dimensions for deviance: samples = 5000, chains = 1\n",
      "Model deviance: 19095762.29\n",
      "Effective number of parameters: 63487451.05\n",
      "Model DIC: 82583213.34\n",
      "\n",
      "\n",
      "file = ./entropy_k3_c1.hdf5\n",
      "parameter dimensions for deviance: samples = 5000, chains = 1\n",
      "Model deviance: 20336431.18\n",
      "Effective number of parameters: 35722420.40\n",
      "Model DIC: 56058851.58\n",
      "\n",
      "\n",
      "file = ./entropy_k2_c2.hdf5\n",
      "parameter dimensions for deviance: samples = 5000, chains = 1\n",
      "Model deviance: 20623218.83\n",
      "Effective number of parameters: 24012118.86\n",
      "Model DIC: 44635337.69\n",
      "\n",
      "\n",
      "file = ./entropy_k5_c4.hdf5\n",
      "parameter dimensions for deviance: samples = 5000, chains = 1\n",
      "Model deviance: 19787275.69\n",
      "Effective number of parameters: 97468259.17\n",
      "Model DIC: 117255534.85\n",
      "\n",
      "\n",
      "file = ./entropy_k6_c3.hdf5\n",
      "parameter dimensions for deviance: samples = 5000, chains = 1\n",
      "Model deviance: 19455634.09\n",
      "Effective number of parameters: 41668537.64\n",
      "Model DIC: 61124171.73\n",
      "\n",
      "\n",
      "file = ./entropy_k4_c1.hdf5\n",
      "parameter dimensions for deviance: samples = 5000, chains = 1\n",
      "Model deviance: 20006517.43\n",
      "Effective number of parameters: 61198690.69\n",
      "Model DIC: 81205208.12\n",
      "\n",
      "\n",
      "file = ./entropy_k2_c3.hdf5\n",
      "parameter dimensions for deviance: samples = 5000, chains = 1\n",
      "Model deviance: 20622278.74\n",
      "Effective number of parameters: 25374428.76\n",
      "Model DIC: 45996707.50\n",
      "\n",
      "\n",
      "file = ./entropy_k6_c4.hdf5\n",
      "parameter dimensions for deviance: samples = 5000, chains = 1\n",
      "Model deviance: 19457526.76\n",
      "Effective number of parameters: 43836404.02\n",
      "Model DIC: 63293930.78\n",
      "\n",
      "\n",
      "file = ./entropy_k3_c4.hdf5\n",
      "parameter dimensions for deviance: samples = 5000, chains = 1\n",
      "Model deviance: 20336858.10\n",
      "Effective number of parameters: 34561254.01\n",
      "Model DIC: 54898112.11\n",
      "\n",
      "\n",
      "file = ./entropy_k5_c1.hdf5\n",
      "parameter dimensions for deviance: samples = 5000, chains = 1\n",
      "Model deviance: 19785932.00\n",
      "Effective number of parameters: 41485933.86\n",
      "Model DIC: 61271865.86\n",
      "\n",
      "\n",
      "file = ./entropy_k3_c3.hdf5\n",
      "parameter dimensions for deviance: samples = 5000, chains = 1\n",
      "Model deviance: 20336969.88\n",
      "Effective number of parameters: 36161366.38\n",
      "Model DIC: 56498336.26\n",
      "\n",
      "\n",
      "file = ./entropy_k5_c3.hdf5\n",
      "parameter dimensions for deviance: samples = 5000, chains = 1\n",
      "Model deviance: 19786802.06\n",
      "Effective number of parameters: 52270780.51\n",
      "Model DIC: 72057582.56\n",
      "\n",
      "\n"
     ]
    }
   ],
   "source": [
    "for d in dic_files:\n",
    "    !cat $d\n",
    "    print('\\n')"
   ]
  },
  {
   "cell_type": "code",
   "execution_count": 138,
   "metadata": {},
   "outputs": [
    {
     "data": {
      "text/html": [
       "<div>\n",
       "<style scoped>\n",
       "    .dataframe tbody tr th:only-of-type {\n",
       "        vertical-align: middle;\n",
       "    }\n",
       "\n",
       "    .dataframe tbody tr th {\n",
       "        vertical-align: top;\n",
       "    }\n",
       "\n",
       "    .dataframe thead th {\n",
       "        text-align: right;\n",
       "    }\n",
       "</style>\n",
       "<table border=\"1\" class=\"dataframe\">\n",
       "  <thead>\n",
       "    <tr style=\"text-align: right;\">\n",
       "      <th></th>\n",
       "      <th>k</th>\n",
       "      <th>DIC</th>\n",
       "      <th>chain</th>\n",
       "    </tr>\n",
       "  </thead>\n",
       "  <tbody>\n",
       "    <tr>\n",
       "      <th>0</th>\n",
       "      <td>2</td>\n",
       "      <td>45866638.77</td>\n",
       "      <td>4</td>\n",
       "    </tr>\n",
       "    <tr>\n",
       "      <th>1</th>\n",
       "      <td>7</td>\n",
       "      <td>72786838.47</td>\n",
       "      <td>2</td>\n",
       "    </tr>\n",
       "    <tr>\n",
       "      <th>2</th>\n",
       "      <td>2</td>\n",
       "      <td>45867006.63</td>\n",
       "      <td>1</td>\n",
       "    </tr>\n",
       "    <tr>\n",
       "      <th>3</th>\n",
       "      <td>6</td>\n",
       "      <td>60051059.16</td>\n",
       "      <td>1</td>\n",
       "    </tr>\n",
       "    <tr>\n",
       "      <th>4</th>\n",
       "      <td>3</td>\n",
       "      <td>57011088.10</td>\n",
       "      <td>2</td>\n",
       "    </tr>\n",
       "  </tbody>\n",
       "</table>\n",
       "</div>"
      ],
      "text/plain": [
       "   k          DIC chain\n",
       "0  2  45866638.77     4\n",
       "1  7  72786838.47     2\n",
       "2  2  45867006.63     1\n",
       "3  6  60051059.16     1\n",
       "4  3  57011088.10     2"
      ]
     },
     "execution_count": 138,
     "metadata": {},
     "output_type": "execute_result"
    }
   ],
   "source": [
    "dic_list = []\n",
    "for d in dic_files:\n",
    "    k = d.split('_k')[1].split('_')[0] #set this \n",
    "    c = d.split('_c')[1].split('.txt')[0]\n",
    "    #print(k,c)\n",
    "    \n",
    "    dic = !grep 'DIC' $d\n",
    "    dic = float(re.search('(\\d+.\\d+)',str(dic)).group(0))\n",
    "    #print(dic)\n",
    "    \n",
    "    dic_list.append([k,dic,c])\n",
    "dic_df = pd.DataFrame(dic_list,columns=['k','DIC','chain'])\n",
    "dic_df.head()"
   ]
  },
  {
   "cell_type": "code",
   "execution_count": 139,
   "metadata": {},
   "outputs": [],
   "source": [
    "dic_df.to_csv('dic_list.csv')"
   ]
  },
  {
   "cell_type": "code",
   "execution_count": 140,
   "metadata": {},
   "outputs": [],
   "source": [
    "dic_sum = dic_df.groupby('k').describe().DIC"
   ]
  },
  {
   "cell_type": "code",
   "execution_count": 141,
   "metadata": {},
   "outputs": [
    {
     "data": {
      "text/html": [
       "<div>\n",
       "<style scoped>\n",
       "    .dataframe tbody tr th:only-of-type {\n",
       "        vertical-align: middle;\n",
       "    }\n",
       "\n",
       "    .dataframe tbody tr th {\n",
       "        vertical-align: top;\n",
       "    }\n",
       "\n",
       "    .dataframe thead th {\n",
       "        text-align: right;\n",
       "    }\n",
       "</style>\n",
       "<table border=\"1\" class=\"dataframe\">\n",
       "  <thead>\n",
       "    <tr style=\"text-align: right;\">\n",
       "      <th></th>\n",
       "      <th>count</th>\n",
       "      <th>mean</th>\n",
       "      <th>std</th>\n",
       "      <th>min</th>\n",
       "      <th>25%</th>\n",
       "      <th>50%</th>\n",
       "      <th>75%</th>\n",
       "      <th>max</th>\n",
       "    </tr>\n",
       "    <tr>\n",
       "      <th>k</th>\n",
       "      <th></th>\n",
       "      <th></th>\n",
       "      <th></th>\n",
       "      <th></th>\n",
       "      <th></th>\n",
       "      <th></th>\n",
       "      <th></th>\n",
       "      <th></th>\n",
       "    </tr>\n",
       "  </thead>\n",
       "  <tbody>\n",
       "    <tr>\n",
       "      <th>2</th>\n",
       "      <td>4.0</td>\n",
       "      <td>4.55914226e+07</td>\n",
       "      <td>6.40324059e+05</td>\n",
       "      <td>44635337.69</td>\n",
       "      <td>4.55588135e+07</td>\n",
       "      <td>4.58668227e+07</td>\n",
       "      <td>4.58994318e+07</td>\n",
       "      <td>4.59967075e+07</td>\n",
       "    </tr>\n",
       "    <tr>\n",
       "      <th>3</th>\n",
       "      <td>4.0</td>\n",
       "      <td>5.61165970e+07</td>\n",
       "      <td>9.00718075e+05</td>\n",
       "      <td>54898112.11</td>\n",
       "      <td>5.57686667e+07</td>\n",
       "      <td>5.62785939e+07</td>\n",
       "      <td>5.66265242e+07</td>\n",
       "      <td>5.70110881e+07</td>\n",
       "    </tr>\n",
       "    <tr>\n",
       "      <th>6</th>\n",
       "      <td>4.0</td>\n",
       "      <td>6.23791179e+07</td>\n",
       "      <td>2.23240371e+06</td>\n",
       "      <td>60051059.16</td>\n",
       "      <td>6.08558936e+07</td>\n",
       "      <td>6.22090513e+07</td>\n",
       "      <td>6.37322756e+07</td>\n",
       "      <td>6.50473100e+07</td>\n",
       "    </tr>\n",
       "    <tr>\n",
       "      <th>4</th>\n",
       "      <td>4.0</td>\n",
       "      <td>7.69636321e+07</td>\n",
       "      <td>1.24546641e+07</td>\n",
       "      <td>58741630.54</td>\n",
       "      <td>7.54260887e+07</td>\n",
       "      <td>8.10963915e+07</td>\n",
       "      <td>8.26339348e+07</td>\n",
       "      <td>8.69201148e+07</td>\n",
       "    </tr>\n",
       "    <tr>\n",
       "      <th>7</th>\n",
       "      <td>4.0</td>\n",
       "      <td>7.71630705e+07</td>\n",
       "      <td>4.14012336e+06</td>\n",
       "      <td>72786838.47</td>\n",
       "      <td>7.48649747e+07</td>\n",
       "      <td>7.66411151e+07</td>\n",
       "      <td>7.89392110e+07</td>\n",
       "      <td>8.25832133e+07</td>\n",
       "    </tr>\n",
       "    <tr>\n",
       "      <th>5</th>\n",
       "      <td>4.0</td>\n",
       "      <td>8.69485788e+07</td>\n",
       "      <td>2.51980819e+07</td>\n",
       "      <td>61271865.86</td>\n",
       "      <td>6.93611534e+07</td>\n",
       "      <td>8.46334573e+07</td>\n",
       "      <td>1.02220883e+08</td>\n",
       "      <td>1.17255535e+08</td>\n",
       "    </tr>\n",
       "  </tbody>\n",
       "</table>\n",
       "</div>"
      ],
      "text/plain": [
       "   count            mean             std          min             25%  \\\n",
       "k                                                                       \n",
       "2    4.0  4.55914226e+07  6.40324059e+05  44635337.69  4.55588135e+07   \n",
       "3    4.0  5.61165970e+07  9.00718075e+05  54898112.11  5.57686667e+07   \n",
       "6    4.0  6.23791179e+07  2.23240371e+06  60051059.16  6.08558936e+07   \n",
       "4    4.0  7.69636321e+07  1.24546641e+07  58741630.54  7.54260887e+07   \n",
       "7    4.0  7.71630705e+07  4.14012336e+06  72786838.47  7.48649747e+07   \n",
       "5    4.0  8.69485788e+07  2.51980819e+07  61271865.86  6.93611534e+07   \n",
       "\n",
       "              50%             75%             max  \n",
       "k                                                  \n",
       "2  4.58668227e+07  4.58994318e+07  4.59967075e+07  \n",
       "3  5.62785939e+07  5.66265242e+07  5.70110881e+07  \n",
       "6  6.22090513e+07  6.37322756e+07  6.50473100e+07  \n",
       "4  8.10963915e+07  8.26339348e+07  8.69201148e+07  \n",
       "7  7.66411151e+07  7.89392110e+07  8.25832133e+07  \n",
       "5  8.46334573e+07  1.02220883e+08  1.17255535e+08  "
      ]
     },
     "execution_count": 141,
     "metadata": {},
     "output_type": "execute_result"
    }
   ],
   "source": [
    "dic_sum.sort_values('mean')"
   ]
  },
  {
   "cell_type": "code",
   "execution_count": 142,
   "metadata": {},
   "outputs": [],
   "source": [
    "dic_sum.to_csv('dic_sum.csv')"
   ]
  },
  {
   "cell_type": "markdown",
   "metadata": {},
   "source": [
    "### Get gprob and q for each k, and mcmc metrics"
   ]
  },
  {
   "cell_type": "code",
   "execution_count": 143,
   "metadata": {},
   "outputs": [
    {
     "name": "stdout",
     "output_type": "stream",
     "text": [
      "file = entropy_k6_c1.hdf5\n",
      "file = entropy_k6_c2.hdf5\n",
      "file = entropy_k6_c3.hdf5\n",
      "file = entropy_k6_c4.hdf5\n",
      "parameter dimensions for q: ind = 690, populations = 6, samples = 5000, chains = 4\n",
      "file = entropy_k7_c1.hdf5\n",
      "file = entropy_k7_c2.hdf5\n",
      "file = entropy_k7_c3.hdf5\n",
      "file = entropy_k7_c4.hdf5\n",
      "parameter dimensions for q: ind = 690, populations = 7, samples = 5000, chains = 4\n"
     ]
    }
   ],
   "source": [
    "# ancestry coeffecients \n",
    "#!$estpost *k2*.hdf5 -p q -s 0 -o q2.txt\n",
    "\n",
    "#!$estpost *k3*.hdf5 -p q -s 0 -o q3.txt\n",
    "\n",
    "#!$estpost *k4*.hdf5 -p q -s 0 -o q4.txt\n",
    "\n",
    "#!$estpost *k5*.hdf5 -p q -s 0 -o q5.txt\n",
    "\n",
    "!$estpost *k6*.hdf5 -p q -s 0 -o q6.txt\n",
    "\n",
    "!$estpost *k7*.hdf5 -p q -s 0 -o q7.txt\n",
    "\n"
   ]
  },
  {
   "cell_type": "code",
   "execution_count": 144,
   "metadata": {},
   "outputs": [
    {
     "name": "stdout",
     "output_type": "stream",
     "text": [
      "file = entropy_k6_c1.hdf5\n",
      "file = entropy_k6_c2.hdf5\n",
      "file = entropy_k6_c3.hdf5\n",
      "file = entropy_k6_c4.hdf5\n",
      "parameter dimensions for q: ind = 690, populations = 6, samples = 5000, chains = 4\n",
      "file = entropy_k7_c1.hdf5\n",
      "file = entropy_k7_c2.hdf5\n",
      "file = entropy_k7_c3.hdf5\n",
      "file = entropy_k7_c4.hdf5\n",
      "parameter dimensions for q: ind = 690, populations = 7, samples = 5000, chains = 4\n"
     ]
    }
   ],
   "source": [
    "#MCMC diagnostics\n",
    "#!$estpost *k2*.hdf5 -p q -s 4 -o MCMC_k2.txt\n",
    "\n",
    "#!$estpost *k3*.hdf5 -p q -s 4 -o MCMC_k3.txt\n",
    "\n",
    "#!$estpost *k4*.hdf5 -p q -s 4 -o MCMC_k4.txt\n",
    "\n",
    "#!$estpost *k5*.hdf5 -p q -s 4 -o MCMC_k5.txt\n",
    "\n",
    "!$estpost *k6*.hdf5 -p q -s 4 -o MCMC_k6.txt\n",
    "\n",
    "!$estpost *k7*.hdf5 -p q -s 4 -o MCMC_k7.txt"
   ]
  },
  {
   "cell_type": "markdown",
   "metadata": {},
   "source": [
    "### make slurm script to make gprob file\n",
    "\n",
    "    use all k and chains to make gprob"
   ]
  },
  {
   "cell_type": "code",
   "execution_count": 90,
   "metadata": {},
   "outputs": [
    {
     "name": "stdout",
     "output_type": "stream",
     "text": [
      "/data/gpfs/assoc/denovo/tfaske/sagebrush/SNPcall/entropy_ebgAll\n"
     ]
    }
   ],
   "source": [
    "cd $ent_dir"
   ]
  },
  {
   "cell_type": "code",
   "execution_count": 91,
   "metadata": {},
   "outputs": [],
   "source": [
    "### select slurm options\n",
    "account = 'cpu-s5-denovo-0'\n",
    "partition = 'cpu-core-0'\n",
    "time = '1-00:00:00' #time limit 4\n",
    "cpus = 2 #to prevent hammering one node\n",
    "mem_cpu = 6000\n",
    "email = 'tfaske@nevada.unr.edu'\n",
    "\n",
    "### select k \n",
    "num_k = [2,3,4,5,6,7]"
   ]
  },
  {
   "cell_type": "code",
   "execution_count": 92,
   "metadata": {},
   "outputs": [],
   "source": [
    "def write_gprob_k_sh(account,partition,time,cpus,mem_cpu,email,estpost,num_k):\n",
    "    for k in num_k:\n",
    "        with open(\"shdir/run_gprob_k%d.sh\" % (k), \"w\") as o:\n",
    "            o.write(\"\"\"#!/usr/bin/env bash\n",
    "#SBATCH --account=%s\n",
    "#SBATCH --partition=%s\n",
    "#SBATCH --time=%s\n",
    "#SBATCH --ntasks 1\n",
    "#SBATCH --cpus-per-task %d\n",
    "#SBATCH --mem-per-cpu=%d\n",
    "#SBATCH --job-name gprob_k%d\n",
    "#SBATCH --output output_gprob_k%d.txt\n",
    "#SBATCH --mail-type=END\n",
    "#SBATCH --mail-user=%s\\n\\n\"\"\" % (account,partition,time,cpus,mem_cpu,k,k,email))\n",
    "        \n",
    "            o.write(\"%s ../*k%d*.hdf5 -p gprob -s 0 -o ../gprob%d.txt\" % (estpost,k,k))"
   ]
  },
  {
   "cell_type": "code",
   "execution_count": 93,
   "metadata": {},
   "outputs": [],
   "source": [
    "write_gprob_k_sh(account,partition,time,cpus,mem_cpu,email,estpost,num_k)"
   ]
  },
  {
   "cell_type": "code",
   "execution_count": 94,
   "metadata": {},
   "outputs": [
    {
     "data": {
      "text/plain": [
       "['/data/gpfs/assoc/denovo/tfaske/sagebrush/SNPcall/entropy_ebgAll/shdir/run_gprob_k2.sh',\n",
       " '/data/gpfs/assoc/denovo/tfaske/sagebrush/SNPcall/entropy_ebgAll/shdir/run_gprob_k3.sh',\n",
       " '/data/gpfs/assoc/denovo/tfaske/sagebrush/SNPcall/entropy_ebgAll/shdir/run_gprob_k4.sh',\n",
       " '/data/gpfs/assoc/denovo/tfaske/sagebrush/SNPcall/entropy_ebgAll/shdir/run_gprob_k5.sh',\n",
       " '/data/gpfs/assoc/denovo/tfaske/sagebrush/SNPcall/entropy_ebgAll/shdir/run_gprob_k6.sh',\n",
       " '/data/gpfs/assoc/denovo/tfaske/sagebrush/SNPcall/entropy_ebgAll/shdir/run_gprob_k7.sh']"
      ]
     },
     "execution_count": 94,
     "metadata": {},
     "output_type": "execute_result"
    }
   ],
   "source": [
    "gprobShells = !find $ent_dir -name 'run_gprob*.sh'\n",
    "gprobShells = gprobShells.sort()\n",
    "gprobShells"
   ]
  },
  {
   "cell_type": "code",
   "execution_count": 95,
   "metadata": {},
   "outputs": [],
   "source": [
    "def write_sbatch_gprobShells(gprobShells):\n",
    "    with open(\"shdir/sbatch_gprob.sh\", \"w\") as o:\n",
    "        o.write(\"\"\"#!/usr/bin/env bash \\n\"\"\")\n",
    "        for sh in gprobShells:\n",
    "            o.write(\"\"\"sbatch %s\\n\"\"\" % (sh))"
   ]
  },
  {
   "cell_type": "code",
   "execution_count": 96,
   "metadata": {},
   "outputs": [],
   "source": [
    "write_sbatch_gprobShells(gprobShells)"
   ]
  },
  {
   "cell_type": "markdown",
   "metadata": {},
   "source": [
    "### gprob all "
   ]
  },
  {
   "cell_type": "code",
   "execution_count": 97,
   "metadata": {},
   "outputs": [
    {
     "data": {
      "text/plain": [
       "['../entropy_k2_c*hdf5',\n",
       " '../entropy_k3_c*hdf5',\n",
       " '../entropy_k4_c*hdf5',\n",
       " '../entropy_k5_c*hdf5',\n",
       " '../entropy_k6_c*hdf5',\n",
       " '../entropy_k7_c*hdf5']"
      ]
     },
     "execution_count": 97,
     "metadata": {},
     "output_type": "execute_result"
    }
   ],
   "source": [
    "hdf5_files = []\n",
    "for k in num_k:\n",
    "    f = '../entropy_k' + str(k) + '_c*hdf5'\n",
    "    hdf5_files.append(f)\n",
    "hdf5_files"
   ]
  },
  {
   "cell_type": "code",
   "execution_count": 98,
   "metadata": {},
   "outputs": [
    {
     "data": {
      "text/plain": [
       "'/data/gpfs/home/tfaske/g/anaconda3/envs/entropy/bin/estpost.entropy ../entropy_k2_c*hdf5 ../entropy_k3_c*hdf5 ../entropy_k4_c*hdf5 ../entropy_k5_c*hdf5 ../entropy_k6_c*hdf5 ../entropy_k7_c*hdf5 -p gprob -s 0 -o ../gprobAll.txt'"
      ]
     },
     "execution_count": 98,
     "metadata": {},
     "output_type": "execute_result"
    }
   ],
   "source": [
    "gprob_cmd = estpost + ' ' + ' '.join(hdf5_files) + ' -p gprob -s 0 -o ../gprobAll.txt'\n",
    "gprob_cmd"
   ]
  },
  {
   "cell_type": "code",
   "execution_count": 99,
   "metadata": {},
   "outputs": [],
   "source": [
    "### select slurm options\n",
    "account = 'cpu-s5-denovo-0'\n",
    "partition = 'cpu-core-0'\n",
    "time = '1-00:00:00' #time limit 4\n",
    "cpus = 2 #to prevent hammering one node\n",
    "mem_cpu = 100000\n",
    "email = 'tfaske@nevada.unr.edu'"
   ]
  },
  {
   "cell_type": "code",
   "execution_count": 100,
   "metadata": {},
   "outputs": [],
   "source": [
    "def write_gprob_all_sh(account,partition,time,cpus,mem_cpu,email,estpost,gprob_cmd):\n",
    "        with open(\"shdir/run_gprobAll.sh\", \"w\") as o:\n",
    "            o.write(\"\"\"#!/usr/bin/env bash\n",
    "#SBATCH --account=%s\n",
    "#SBATCH --partition=%s\n",
    "#SBATCH --time=%s\n",
    "#SBATCH --ntasks 1\n",
    "#SBATCH --cpus-per-task %d\n",
    "#SBATCH --mem-per-cpu=%d\n",
    "#SBATCH --job-name gprobAll\n",
    "#SBATCH --output output_gprobAll.txt\n",
    "#SBATCH --mail-type=END\n",
    "#SBATCH --mail-user=%s\n",
    "\n",
    "%s\"\"\" % (account,partition,time,cpus,mem_cpu,email,gprob_cmd))"
   ]
  },
  {
   "cell_type": "code",
   "execution_count": 101,
   "metadata": {},
   "outputs": [],
   "source": [
    "write_gprob_all_sh(account,partition,time,cpus,mem_cpu,email,estpost,gprob_cmd)"
   ]
  },
  {
   "cell_type": "code",
   "execution_count": null,
   "metadata": {},
   "outputs": [],
   "source": []
  },
  {
   "cell_type": "code",
   "execution_count": null,
   "metadata": {},
   "outputs": [],
   "source": []
  },
  {
   "cell_type": "markdown",
   "metadata": {},
   "source": [
    "## Run gprob sh \n",
    "    cd /data/gpfs/home/tfaske/d/milkweed/entropy\n",
    "    source activate entropy\n",
    "    sbatch run_gprob.sh"
   ]
  },
  {
   "cell_type": "code",
   "execution_count": null,
   "metadata": {},
   "outputs": [],
   "source": []
  },
  {
   "cell_type": "code",
   "execution_count": null,
   "metadata": {},
   "outputs": [],
   "source": [
    "#gprobs\n",
    "#!$estpost *k2*.hdf5 -p gprob -s 0 -o gprob2.txt\n",
    "\n",
    "#!$estpost *k3*.hdf5 -p gprob -s 0 -o gprob3.txt\n",
    "\n",
    "#!$estpost *k4*.hdf5 -p gprob -s 0 -o gprob4.txt\n",
    "\n",
    "#!$estpost *k5*.hdf5 -p gprob -s 0 -o gprob5.txt"
   ]
  }
 ],
 "metadata": {
  "kernelspec": {
   "display_name": "Python 3",
   "language": "python",
   "name": "python3"
  },
  "language_info": {
   "codemirror_mode": {
    "name": "ipython",
    "version": 3
   },
   "file_extension": ".py",
   "mimetype": "text/x-python",
   "name": "python",
   "nbconvert_exporter": "python",
   "pygments_lexer": "ipython3",
   "version": "3.6.7"
  }
 },
 "nbformat": 4,
 "nbformat_minor": 2
}
