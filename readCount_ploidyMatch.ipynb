{
 "cells": [
  {
   "cell_type": "markdown",
   "metadata": {},
   "source": [
    "#### Read counts and match with ploidy data file\n",
    "\n",
    "This script counts the reads of every fastq file and creates an output. \n",
    "\n",
    "It additionally matches names and ploidy with  **CHDO_pop.csv** to make sure no descripencies"
   ]
  },
  {
   "cell_type": "code",
   "execution_count": 4,
   "metadata": {},
   "outputs": [],
   "source": [
    "import sys\n",
    "\n",
    "#sys.path.append('/home/faske/g/anaconda3/envs/py34/lib/python3.4/site-packages')\n",
    "sys.path.append('/data/gpfs/assoc/parchmanlab/tfaske/anaconda3/envs/py36/lib/python3.6/site-packages')\n",
    "sys.path.append(\"/data/gpfs/assoc/parchmanlab/tfaske/ipynb/include_utils\")\n",
    "\n",
    "import ipyparallel as ipp\n",
    "import os, time\n",
    "from os import environ\n",
    "import include_utils as u\n",
    "import pandas as pd\n",
    "import numpy as np\n",
    "import scipy as sp\n",
    "import random"
   ]
  },
  {
   "cell_type": "code",
   "execution_count": 5,
   "metadata": {},
   "outputs": [],
   "source": [
    "fq_dir = '/data/gpfs/assoc/denovo/tfaske/CHDO/fastq'"
   ]
  },
  {
   "cell_type": "code",
   "execution_count": 6,
   "metadata": {},
   "outputs": [
    {
     "name": "stdout",
     "output_type": "stream",
     "text": [
      "/data/gpfs/assoc/denovo/tfaske/CHDO/fastq\n"
     ]
    }
   ],
   "source": [
    "cd $fq_dir"
   ]
  },
  {
   "cell_type": "code",
   "execution_count": 7,
   "metadata": {
    "scrolled": true
   },
   "outputs": [
    {
     "data": {
      "text/plain": [
       "(614, '/data/gpfs/assoc/denovo/tfaske/CHDO/fastq/CD_AH_05.F.fq.gz')"
      ]
     },
     "execution_count": 7,
     "metadata": {},
     "output_type": "execute_result"
    }
   ],
   "source": [
    "fq_files = []\n",
    "files = !find . -type f -name '*.F.fq.gz'\n",
    "files = [os.path.abspath(x) for x in files]\n",
    "for x in files:\n",
    "    fq_files.append(x)\n",
    "fq_files = sorted(fq_files)\n",
    "len(fq_files),fq_files[0]"
   ]
  },
  {
   "cell_type": "markdown",
   "metadata": {},
   "source": [
    "#### Count  reads for all fq"
   ]
  },
  {
   "cell_type": "code",
   "execution_count": 8,
   "metadata": {},
   "outputs": [],
   "source": [
    "fq_names = []\n",
    "fq_reads = []\n",
    "for f in fq_files:\n",
    "    environ['f'] = f\n",
    "    r = !zcat $f | awk '{s++}END{print s/4}'\n",
    "    name = f.split('.F')[0]\n",
    "    name = name.split('/')[8]\n",
    "    #print(name)\n",
    "    #print(int(r.n))\n",
    "    fq_names.append(name)\n",
    "    fq_reads.append(int(r.n))"
   ]
  },
  {
   "cell_type": "code",
   "execution_count": 9,
   "metadata": {},
   "outputs": [
    {
     "data": {
      "text/plain": [
       "(614, [743593, 1838255, 411902, 1286525, 1078635])"
      ]
     },
     "execution_count": 9,
     "metadata": {},
     "output_type": "execute_result"
    }
   ],
   "source": [
    "len(fq_reads), fq_reads[:5]"
   ]
  },
  {
   "cell_type": "code",
   "execution_count": 10,
   "metadata": {},
   "outputs": [
    {
     "data": {
      "text/plain": [
       "(614, 'CD_AH_05')"
      ]
     },
     "execution_count": 10,
     "metadata": {},
     "output_type": "execute_result"
    }
   ],
   "source": [
    "len(fq_names), fq_names[0]"
   ]
  },
  {
   "cell_type": "code",
   "execution_count": 11,
   "metadata": {},
   "outputs": [
    {
     "data": {
      "text/html": [
       "<div>\n",
       "<style scoped>\n",
       "    .dataframe tbody tr th:only-of-type {\n",
       "        vertical-align: middle;\n",
       "    }\n",
       "\n",
       "    .dataframe tbody tr th {\n",
       "        vertical-align: top;\n",
       "    }\n",
       "\n",
       "    .dataframe thead th {\n",
       "        text-align: right;\n",
       "    }\n",
       "</style>\n",
       "<table border=\"1\" class=\"dataframe\">\n",
       "  <thead>\n",
       "    <tr style=\"text-align: right;\">\n",
       "      <th></th>\n",
       "      <th>fq</th>\n",
       "      <th>reads</th>\n",
       "    </tr>\n",
       "  </thead>\n",
       "  <tbody>\n",
       "    <tr>\n",
       "      <th>0</th>\n",
       "      <td>CD_AH_05</td>\n",
       "      <td>743593</td>\n",
       "    </tr>\n",
       "    <tr>\n",
       "      <th>1</th>\n",
       "      <td>CD_AH_06</td>\n",
       "      <td>1838255</td>\n",
       "    </tr>\n",
       "    <tr>\n",
       "      <th>2</th>\n",
       "      <td>CD_AH_07</td>\n",
       "      <td>411902</td>\n",
       "    </tr>\n",
       "    <tr>\n",
       "      <th>3</th>\n",
       "      <td>CD_AH_08</td>\n",
       "      <td>1286525</td>\n",
       "    </tr>\n",
       "    <tr>\n",
       "      <th>4</th>\n",
       "      <td>CD_AH_09</td>\n",
       "      <td>1078635</td>\n",
       "    </tr>\n",
       "  </tbody>\n",
       "</table>\n",
       "</div>"
      ],
      "text/plain": [
       "         fq    reads\n",
       "0  CD_AH_05   743593\n",
       "1  CD_AH_06  1838255\n",
       "2  CD_AH_07   411902\n",
       "3  CD_AH_08  1286525\n",
       "4  CD_AH_09  1078635"
      ]
     },
     "execution_count": 11,
     "metadata": {},
     "output_type": "execute_result"
    }
   ],
   "source": [
    "read_dict = {\"fq\":fq_names,'reads':fq_reads}\n",
    "read_df = pd.DataFrame(read_dict)\n",
    "read_df.head()\n",
    "#len(cov_df)"
   ]
  },
  {
   "cell_type": "code",
   "execution_count": 20,
   "metadata": {},
   "outputs": [],
   "source": [
    "data_dir = '/data/gpfs/assoc/denovo/tfaske/CHDO/data'"
   ]
  },
  {
   "cell_type": "code",
   "execution_count": 24,
   "metadata": {},
   "outputs": [],
   "source": [
    "read_out = os.path.join(data_dir,'fq_read.csv')\n",
    "read_df.to_csv(path_or_buf=read_out,index=False)"
   ]
  },
  {
   "cell_type": "markdown",
   "metadata": {},
   "source": [
    "## Match fqs with CHDO_pop\n",
    "\n",
    "Do in R\n",
    "\n",
    "Add ploidy to known ploidy CHDO"
   ]
  },
  {
   "cell_type": "code",
   "execution_count": 22,
   "metadata": {},
   "outputs": [
    {
     "name": "stdout",
     "output_type": "stream",
     "text": [
      "The rpy2.ipython extension is already loaded. To reload it, use:\n",
      "  %reload_ext rpy2.ipython\n"
     ]
    }
   ],
   "source": [
    "%load_ext rpy2.ipython"
   ]
  },
  {
   "cell_type": "code",
   "execution_count": 29,
   "metadata": {},
   "outputs": [
    {
     "name": "stdout",
     "output_type": "stream",
     "text": [
      "  Pop                 Name      Lat      Long Collector Ploidy ploidy_all\n",
      "1  AH       Austin Highway 39.60081 -117.1600    Alison     NA         NA\n",
      "2  AS        Austin Summit 39.47310 -117.0494    Alison     NA         NA\n",
      "3  BM Bald Mountain Canyon 39.47310 -117.0494    Alison     NA         NA\n",
      "4  BV          Buena Vista 43.05290 -118.8715    Alison     NA         NA\n",
      "5  DC       Diamond Crator 43.07586 -118.7486    Alison     NA         NA\n",
      "  Cvalue ploidy_master Bolt NoBolt Frequency\n",
      "1     NA          <NA>   NA     NA        NA\n",
      "2     NA          <NA>   NA     NA        NA\n",
      "3     NA          <NA>   NA     NA        NA\n",
      "4     NA          <NA>   NA     NA        NA\n",
      "5     NA          <NA>   NA     NA        NA\n",
      "        fq   reads\n",
      "1 CD_AH_05  743593\n",
      "2 CD_AH_06 1838255\n",
      "3 CD_AH_07  411902\n",
      "4 CD_AH_08 1286525\n",
      "5 CD_AH_09 1078635\n"
     ]
    }
   ],
   "source": [
    "%%R\n",
    "require(tidyverse)\n",
    "library(ggforce)\n",
    "library(ggsci)\n",
    "setwd('/data/gpfs/assoc/denovo/tfaske/CHDO/data')\n",
    "\n",
    "CHDO_pop <- read.csv('CHDO_pop.csv')\n",
    "read_df <- read.csv('fq_read.csv')\n",
    "read_df$fq <- as.character(read_df$fq)\n",
    "\n",
    "print(CHDO_pop[1:5,])\n",
    "print(read_df[1:5,])"
   ]
  },
  {
   "cell_type": "code",
   "execution_count": 30,
   "metadata": {},
   "outputs": [
    {
     "name": "stderr",
     "output_type": "stream",
     "text": [
      "R[write to console]: \u001b[1m\u001b[22mJoining, by = \"Pop\"\n",
      "\n"
     ]
    }
   ],
   "source": [
    "%%R \n",
    "\n",
    "#make ssp_pop_ID for read_df \n",
    "read_df$Sp <- sapply(read_df$fq, function(s) unlist(strsplit(as.character(s),'_'))[1])\n",
    "read_df$Pop <- sapply(read_df$fq, function(s) unlist(strsplit(as.character(s),'_'))[2]) \n",
    "read_df$ID <- sapply(read_df$fq, function(s) unlist(strsplit(as.character(s),'_'))[3]) \n",
    "read_df <- read_df[,c(3,4,5,1,2)]                     \n",
    "head(read_df)\n",
    "                     \n",
    "### change CHDO to include what we want \n",
    "                     \n",
    "CHDO_pop <- CHDO_pop[,c(1,2,3,4,6)]\n",
    "                      \n",
    "CHDO_reads <- left_join(read_df,CHDO_pop)"
   ]
  },
  {
   "cell_type": "code",
   "execution_count": 38,
   "metadata": {},
   "outputs": [
    {
     "data": {
      "image/png": "[encoded data removed]"
     },
     "metadata": {},
     "output_type": "display_data"
    }
   ],
   "source": [
    "%%R\n",
    "### Assess ploidy counts and keep only known\n",
    "table(CHDO_reads$Ploidy)\n",
    "\n",
    "### only keep known \n",
    "CHDO_known <- CHDO_reads[-which(is.na(CHDO_reads$Ploidy)),]\n",
    "nrow(CHDO_known)\n"
   ]
  },
  {
   "cell_type": "code",
   "execution_count": 49,
   "metadata": {},
   "outputs": [
    {
     "name": "stdout",
     "output_type": "stream",
     "text": [
      "[1] 274\n"
     ]
    },
    {
     "data": {
      "image/png": "[encoded data removed]"
     },
     "metadata": {},
     "output_type": "display_data"
    }
   ],
   "source": [
    "%%R\n",
    "### Assess reads\n",
    "hist(CHDO_known$reads)\n",
    "summary(CHDO_known$reads)\n",
    "\n",
    "nrow(CHDO_known)\n",
    "length(which(CHDO_known$reads < 500000))\n",
    "sort(CHDO_known$reads) #seems need to remove 2\n",
    "\n",
    "#### remove smallest 2, less than 500000 reads\n",
    "CHDO_known <- CHDO_known[-which(CHDO_known$reads < 500000),]\n",
    "nrow(CHDO_known)"
   ]
  },
  {
   "cell_type": "markdown",
   "metadata": {},
   "source": [
    "#### rename and mv to fastq_known"
   ]
  },
  {
   "cell_type": "code",
   "execution_count": 52,
   "metadata": {},
   "outputs": [],
   "source": [
    "root_dir = '/data/gpfs/assoc/denovo/tfaske/CHDO/'"
   ]
  },
  {
   "cell_type": "code",
   "execution_count": 53,
   "metadata": {},
   "outputs": [
    {
     "name": "stdout",
     "output_type": "stream",
     "text": [
      "/data/gpfs/assoc/denovo/tfaske/CHDO\n"
     ]
    }
   ],
   "source": [
    "cd $root_dir"
   ]
  },
  {
   "cell_type": "code",
   "execution_count": 54,
   "metadata": {},
   "outputs": [],
   "source": [
    "!mkdir fastq_known"
   ]
  },
  {
   "cell_type": "code",
   "execution_count": 58,
   "metadata": {},
   "outputs": [],
   "source": [
    "%%R \n",
    "#rename and mv to fastq_known\n",
    "CHDO_known$new_fq <- paste0(CHDO_known$Sp,CHDO_known$Ploidy,'_',\n",
    "                            CHDO_known$Pop,'_',CHDO_known$ID)\n",
    "CHDO_known[1:10,]\n",
    "write.csv(CHDO_known,'data/CHDO_known.csv',row.names=FALSE)"
   ]
  },
  {
   "cell_type": "markdown",
   "metadata": {},
   "source": [
    "### use pandas to read in and move "
   ]
  },
  {
   "cell_type": "code",
   "execution_count": 63,
   "metadata": {},
   "outputs": [
    {
     "name": "stdout",
     "output_type": "stream",
     "text": [
      "/data/gpfs/assoc/denovo/tfaske/CHDO\n"
     ]
    }
   ],
   "source": [
    "cd $root_dir"
   ]
  },
  {
   "cell_type": "code",
   "execution_count": 60,
   "metadata": {},
   "outputs": [
    {
     "data": {
      "text/html": [
       "<div>\n",
       "<style scoped>\n",
       "    .dataframe tbody tr th:only-of-type {\n",
       "        vertical-align: middle;\n",
       "    }\n",
       "\n",
       "    .dataframe tbody tr th {\n",
       "        vertical-align: top;\n",
       "    }\n",
       "\n",
       "    .dataframe thead th {\n",
       "        text-align: right;\n",
       "    }\n",
       "</style>\n",
       "<table border=\"1\" class=\"dataframe\">\n",
       "  <thead>\n",
       "    <tr style=\"text-align: right;\">\n",
       "      <th></th>\n",
       "      <th>Sp</th>\n",
       "      <th>Pop</th>\n",
       "      <th>ID</th>\n",
       "      <th>fq</th>\n",
       "      <th>reads</th>\n",
       "      <th>Name</th>\n",
       "      <th>Lat</th>\n",
       "      <th>Long</th>\n",
       "      <th>Ploidy</th>\n",
       "      <th>new_fq</th>\n",
       "    </tr>\n",
       "  </thead>\n",
       "  <tbody>\n",
       "    <tr>\n",
       "      <th>0</th>\n",
       "      <td>CD</td>\n",
       "      <td>AI</td>\n",
       "      <td>1</td>\n",
       "      <td>CD_AI_1</td>\n",
       "      <td>1996065</td>\n",
       "      <td>Arco Hills</td>\n",
       "      <td>43.62136</td>\n",
       "      <td>-113.22755</td>\n",
       "      <td>6</td>\n",
       "      <td>CD6_AI_1</td>\n",
       "    </tr>\n",
       "    <tr>\n",
       "      <th>1</th>\n",
       "      <td>CD</td>\n",
       "      <td>AI</td>\n",
       "      <td>10</td>\n",
       "      <td>CD_AI_10</td>\n",
       "      <td>3777792</td>\n",
       "      <td>Arco Hills</td>\n",
       "      <td>43.62136</td>\n",
       "      <td>-113.22755</td>\n",
       "      <td>6</td>\n",
       "      <td>CD6_AI_10</td>\n",
       "    </tr>\n",
       "    <tr>\n",
       "      <th>2</th>\n",
       "      <td>CD</td>\n",
       "      <td>AI</td>\n",
       "      <td>11</td>\n",
       "      <td>CD_AI_11</td>\n",
       "      <td>2538769</td>\n",
       "      <td>Arco Hills</td>\n",
       "      <td>43.62136</td>\n",
       "      <td>-113.22755</td>\n",
       "      <td>6</td>\n",
       "      <td>CD6_AI_11</td>\n",
       "    </tr>\n",
       "    <tr>\n",
       "      <th>3</th>\n",
       "      <td>CD</td>\n",
       "      <td>AI</td>\n",
       "      <td>2</td>\n",
       "      <td>CD_AI_2</td>\n",
       "      <td>3493929</td>\n",
       "      <td>Arco Hills</td>\n",
       "      <td>43.62136</td>\n",
       "      <td>-113.22755</td>\n",
       "      <td>6</td>\n",
       "      <td>CD6_AI_2</td>\n",
       "    </tr>\n",
       "    <tr>\n",
       "      <th>4</th>\n",
       "      <td>CD</td>\n",
       "      <td>AI</td>\n",
       "      <td>3</td>\n",
       "      <td>CD_AI_3</td>\n",
       "      <td>2701044</td>\n",
       "      <td>Arco Hills</td>\n",
       "      <td>43.62136</td>\n",
       "      <td>-113.22755</td>\n",
       "      <td>6</td>\n",
       "      <td>CD6_AI_3</td>\n",
       "    </tr>\n",
       "  </tbody>\n",
       "</table>\n",
       "</div>"
      ],
      "text/plain": [
       "   Sp Pop  ID        fq    reads        Name       Lat       Long  Ploidy  \\\n",
       "0  CD  AI   1   CD_AI_1  1996065  Arco Hills  43.62136 -113.22755       6   \n",
       "1  CD  AI  10  CD_AI_10  3777792  Arco Hills  43.62136 -113.22755       6   \n",
       "2  CD  AI  11  CD_AI_11  2538769  Arco Hills  43.62136 -113.22755       6   \n",
       "3  CD  AI   2   CD_AI_2  3493929  Arco Hills  43.62136 -113.22755       6   \n",
       "4  CD  AI   3   CD_AI_3  2701044  Arco Hills  43.62136 -113.22755       6   \n",
       "\n",
       "      new_fq  \n",
       "0   CD6_AI_1  \n",
       "1  CD6_AI_10  \n",
       "2  CD6_AI_11  \n",
       "3   CD6_AI_2  \n",
       "4   CD6_AI_3  "
      ]
     },
     "execution_count": 60,
     "metadata": {},
     "output_type": "execute_result"
    }
   ],
   "source": [
    "CHDO_known = pd.read_csv('data/CHDO_known.csv')\n",
    "CHDO_known.head()"
   ]
  },
  {
   "cell_type": "code",
   "execution_count": 64,
   "metadata": {},
   "outputs": [],
   "source": [
    "for i in range(0,len(CHDO_known)):\n",
    "    fq_old = 'fastq/' + CHDO_known['fq'][i] + '.F.fq.gz'\n",
    "    fq_new = 'fastq_known/' + CHDO_known['new_fq'][i] + '.F.fq.gz'\n",
    "    !cp $fq_old $fq_new"
   ]
  },
  {
   "cell_type": "code",
   "execution_count": 66,
   "metadata": {},
   "outputs": [
    {
     "name": "stdout",
     "output_type": "stream",
     "text": [
      "274\r\n"
     ]
    }
   ],
   "source": [
    "!ls -l fastq_known/*gz | wc -l "
   ]
  },
  {
   "cell_type": "code",
   "execution_count": null,
   "metadata": {},
   "outputs": [],
   "source": []
  }
 ],
 "metadata": {
  "kernelspec": {
   "display_name": "Python 3",
   "language": "python",
   "name": "python3"
  },
  "language_info": {
   "codemirror_mode": {
    "name": "ipython",
    "version": 3
   },
   "file_extension": ".py",
   "mimetype": "text/x-python",
   "name": "python",
   "nbconvert_exporter": "python",
   "pygments_lexer": "ipython3",
   "version": "3.6.7"
  }
 },
 "nbformat": 4,
 "nbformat_minor": 4
}
