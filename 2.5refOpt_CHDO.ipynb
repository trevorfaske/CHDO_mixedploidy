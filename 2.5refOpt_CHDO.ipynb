{
 "cells": [
  {
   "cell_type": "markdown",
   "metadata": {},
   "source": [
    "# Optimize denovo reference\n",
    "    This script uses scripts provided by dDocent to de novo assembly in CD-HIT\n",
    "    https://www.ddocent.com/assembly/\n",
    "    \n",
    "    Run dDocent first with basic commands. Use individuals retained from filtering to make assembly"
   ]
  },
  {
   "cell_type": "code",
   "execution_count": 1,
   "metadata": {
    "ExecuteTime": {}
   },
   "outputs": [
    {
     "name": "stdout",
     "output_type": "stream",
     "text": [
      "/usr/bin/sh: line 0: source: activate: file not found\r\n"
     ]
    }
   ],
   "source": [
    "!source activate py36"
   ]
  },
  {
   "cell_type": "code",
   "execution_count": 2,
   "metadata": {
    "ExecuteTime": {}
   },
   "outputs": [],
   "source": [
    "import sys\n",
    "\n",
    "#sys.path.append('/home/faske/g/anaconda3/envs/py34/lib/python3.4/site-packages')\n",
    "sys.path.append('/data/gpfs/assoc/parchmanlab/tfaske/anaconda3/envs/py36/lib/python3.6/site-packages')\n",
    "sys.path.append(\"/data/gpfs/assoc/parchmanlab/tfaske/ipynb/include_utils\")\n",
    "\n",
    "import ipyparallel as ipp\n",
    "import os, time\n",
    "import include_utils as u\n",
    "import pandas as pd\n",
    "import numpy as np\n",
    "import scipy as sp\n",
    "import numbers\n",
    "import matplotlib.pyplot as plt\n",
    "import matplotlib.patches as mpatches\n",
    "import matplotlib.cm as cm\n",
    "import matplotlib.colors as mcolors\n",
    "#import vcf\n",
    "from sklearn import preprocessing\n",
    "from subprocess import Popen, PIPE, call, check_output\n",
    "import seaborn as sns\n",
    "from IPython.display import FileLink\n",
    "import urllib.request as urllib2\n",
    "import dill\n",
    "import traceback\n",
    "from pandas import Series, DataFrame\n",
    "import gzip\n",
    "import warnings\n",
    "warnings.filterwarnings('ignore',category=pd.io.pytables.PerformanceWarning)\n",
    "%config InlineBackend.figure_format = 'retina'\n",
    "from Bio import SeqIO\n",
    "#import pysam\n",
    "from collections import OrderedDict, namedtuple, Counter\n",
    "import operator\n",
    "import multiprocessing as mp\n",
    "import shutil\n",
    "import tempfile\n",
    "#from ipyparallel import Client\n",
    "import scandir\n",
    "import glob\n",
    "from Bio.SeqIO.QualityIO import FastqGeneralIterator\n",
    "import pickle\n",
    "import re\n",
    "from itertools import chain\n",
    "#import Levenshtein as lv"
   ]
  },
  {
   "cell_type": "code",
   "execution_count": 3,
   "metadata": {
    "ExecuteTime": {}
   },
   "outputs": [],
   "source": [
    "root = \"/data/gpfs/home/tfaske/d/CHDO\""
   ]
  },
  {
   "cell_type": "code",
   "execution_count": 4,
   "metadata": {
    "ExecuteTime": {}
   },
   "outputs": [
    {
     "name": "stdout",
     "output_type": "stream",
     "text": [
      "/data/gpfs/assoc/denovo/tfaske/CHDO\n"
     ]
    }
   ],
   "source": [
    "cd $root"
   ]
  },
  {
   "cell_type": "code",
   "execution_count": 5,
   "metadata": {
    "ExecuteTime": {}
   },
   "outputs": [
    {
     "data": {
      "text/plain": [
       "'/data/gpfs/assoc/denovo/tfaske/CHDO'"
      ]
     },
     "execution_count": 5,
     "metadata": {},
     "output_type": "execute_result"
    }
   ],
   "source": [
    "pwd"
   ]
  },
  {
   "cell_type": "markdown",
   "metadata": {},
   "source": [
    "# Sample random fastq for optimizer\n",
    "\n",
    "    274 CHDO individuals 3 ploidy levels (2x,4x, 6x). \n",
    "    Use read count in CHDO known and pick the largest 10 files from 2x,4x and 5 files from 6x\n",
    "    \n",
    "\n",
    " "
   ]
  },
  {
   "cell_type": "code",
   "execution_count": 6,
   "metadata": {},
   "outputs": [
    {
     "data": {
      "text/html": [
       "<div>\n",
       "<style scoped>\n",
       "    .dataframe tbody tr th:only-of-type {\n",
       "        vertical-align: middle;\n",
       "    }\n",
       "\n",
       "    .dataframe tbody tr th {\n",
       "        vertical-align: top;\n",
       "    }\n",
       "\n",
       "    .dataframe thead th {\n",
       "        text-align: right;\n",
       "    }\n",
       "</style>\n",
       "<table border=\"1\" class=\"dataframe\">\n",
       "  <thead>\n",
       "    <tr style=\"text-align: right;\">\n",
       "      <th></th>\n",
       "      <th>Sp</th>\n",
       "      <th>Pop</th>\n",
       "      <th>ID</th>\n",
       "      <th>fq</th>\n",
       "      <th>reads</th>\n",
       "      <th>Name</th>\n",
       "      <th>Lat</th>\n",
       "      <th>Long</th>\n",
       "      <th>Ploidy</th>\n",
       "      <th>new_fq</th>\n",
       "    </tr>\n",
       "  </thead>\n",
       "  <tbody>\n",
       "    <tr>\n",
       "      <th>0</th>\n",
       "      <td>CD</td>\n",
       "      <td>AI</td>\n",
       "      <td>1</td>\n",
       "      <td>CD_AI_1</td>\n",
       "      <td>1996065</td>\n",
       "      <td>Arco Hills</td>\n",
       "      <td>43.62136</td>\n",
       "      <td>-113.22755</td>\n",
       "      <td>6</td>\n",
       "      <td>CD6_AI_1</td>\n",
       "    </tr>\n",
       "    <tr>\n",
       "      <th>1</th>\n",
       "      <td>CD</td>\n",
       "      <td>AI</td>\n",
       "      <td>10</td>\n",
       "      <td>CD_AI_10</td>\n",
       "      <td>3777792</td>\n",
       "      <td>Arco Hills</td>\n",
       "      <td>43.62136</td>\n",
       "      <td>-113.22755</td>\n",
       "      <td>6</td>\n",
       "      <td>CD6_AI_10</td>\n",
       "    </tr>\n",
       "    <tr>\n",
       "      <th>2</th>\n",
       "      <td>CD</td>\n",
       "      <td>AI</td>\n",
       "      <td>11</td>\n",
       "      <td>CD_AI_11</td>\n",
       "      <td>2538769</td>\n",
       "      <td>Arco Hills</td>\n",
       "      <td>43.62136</td>\n",
       "      <td>-113.22755</td>\n",
       "      <td>6</td>\n",
       "      <td>CD6_AI_11</td>\n",
       "    </tr>\n",
       "    <tr>\n",
       "      <th>3</th>\n",
       "      <td>CD</td>\n",
       "      <td>AI</td>\n",
       "      <td>2</td>\n",
       "      <td>CD_AI_2</td>\n",
       "      <td>3493929</td>\n",
       "      <td>Arco Hills</td>\n",
       "      <td>43.62136</td>\n",
       "      <td>-113.22755</td>\n",
       "      <td>6</td>\n",
       "      <td>CD6_AI_2</td>\n",
       "    </tr>\n",
       "    <tr>\n",
       "      <th>4</th>\n",
       "      <td>CD</td>\n",
       "      <td>AI</td>\n",
       "      <td>3</td>\n",
       "      <td>CD_AI_3</td>\n",
       "      <td>2701044</td>\n",
       "      <td>Arco Hills</td>\n",
       "      <td>43.62136</td>\n",
       "      <td>-113.22755</td>\n",
       "      <td>6</td>\n",
       "      <td>CD6_AI_3</td>\n",
       "    </tr>\n",
       "  </tbody>\n",
       "</table>\n",
       "</div>"
      ],
      "text/plain": [
       "   Sp Pop  ID        fq    reads        Name       Lat       Long  Ploidy  \\\n",
       "0  CD  AI   1   CD_AI_1  1996065  Arco Hills  43.62136 -113.22755       6   \n",
       "1  CD  AI  10  CD_AI_10  3777792  Arco Hills  43.62136 -113.22755       6   \n",
       "2  CD  AI  11  CD_AI_11  2538769  Arco Hills  43.62136 -113.22755       6   \n",
       "3  CD  AI   2   CD_AI_2  3493929  Arco Hills  43.62136 -113.22755       6   \n",
       "4  CD  AI   3   CD_AI_3  2701044  Arco Hills  43.62136 -113.22755       6   \n",
       "\n",
       "      new_fq  \n",
       "0   CD6_AI_1  \n",
       "1  CD6_AI_10  \n",
       "2  CD6_AI_11  \n",
       "3   CD6_AI_2  \n",
       "4   CD6_AI_3  "
      ]
     },
     "execution_count": 6,
     "metadata": {},
     "output_type": "execute_result"
    }
   ],
   "source": [
    "CHDO_known = pd.read_csv('data/CHDO_known.csv')\n",
    "CHDO_known.head()\n"
   ]
  },
  {
   "cell_type": "code",
   "execution_count": 7,
   "metadata": {},
   "outputs": [
    {
     "data": {
      "text/html": [
       "<div>\n",
       "<style scoped>\n",
       "    .dataframe tbody tr th:only-of-type {\n",
       "        vertical-align: middle;\n",
       "    }\n",
       "\n",
       "    .dataframe tbody tr th {\n",
       "        vertical-align: top;\n",
       "    }\n",
       "\n",
       "    .dataframe thead th {\n",
       "        text-align: right;\n",
       "    }\n",
       "</style>\n",
       "<table border=\"1\" class=\"dataframe\">\n",
       "  <thead>\n",
       "    <tr style=\"text-align: right;\">\n",
       "      <th></th>\n",
       "      <th>Sp</th>\n",
       "      <th>Pop</th>\n",
       "      <th>ID</th>\n",
       "      <th>fq</th>\n",
       "      <th>reads</th>\n",
       "      <th>Name</th>\n",
       "      <th>Lat</th>\n",
       "      <th>Long</th>\n",
       "      <th>Ploidy</th>\n",
       "      <th>new_fq</th>\n",
       "    </tr>\n",
       "  </thead>\n",
       "  <tbody>\n",
       "    <tr>\n",
       "      <th>1</th>\n",
       "      <td>CD</td>\n",
       "      <td>AI</td>\n",
       "      <td>10</td>\n",
       "      <td>CD_AI_10</td>\n",
       "      <td>3777792</td>\n",
       "      <td>Arco Hills</td>\n",
       "      <td>43.62136</td>\n",
       "      <td>-113.22755</td>\n",
       "      <td>6</td>\n",
       "      <td>CD6_AI_10</td>\n",
       "    </tr>\n",
       "    <tr>\n",
       "      <th>119</th>\n",
       "      <td>CD</td>\n",
       "      <td>MC</td>\n",
       "      <td>6</td>\n",
       "      <td>CD_MC_6</td>\n",
       "      <td>3553473</td>\n",
       "      <td>Mann Creek Reservoir</td>\n",
       "      <td>44.39673</td>\n",
       "      <td>-116.90020</td>\n",
       "      <td>4</td>\n",
       "      <td>CD4_MC_6</td>\n",
       "    </tr>\n",
       "    <tr>\n",
       "      <th>3</th>\n",
       "      <td>CD</td>\n",
       "      <td>AI</td>\n",
       "      <td>2</td>\n",
       "      <td>CD_AI_2</td>\n",
       "      <td>3493929</td>\n",
       "      <td>Arco Hills</td>\n",
       "      <td>43.62136</td>\n",
       "      <td>-113.22755</td>\n",
       "      <td>6</td>\n",
       "      <td>CD6_AI_2</td>\n",
       "    </tr>\n",
       "    <tr>\n",
       "      <th>148</th>\n",
       "      <td>CD</td>\n",
       "      <td>OV</td>\n",
       "      <td>10</td>\n",
       "      <td>CD_OV_10</td>\n",
       "      <td>3480636</td>\n",
       "      <td>Onion Valley Reservoir</td>\n",
       "      <td>41.69626</td>\n",
       "      <td>-118.74330</td>\n",
       "      <td>4</td>\n",
       "      <td>CD4_OV_10</td>\n",
       "    </tr>\n",
       "    <tr>\n",
       "      <th>16</th>\n",
       "      <td>CD</td>\n",
       "      <td>AO</td>\n",
       "      <td>6</td>\n",
       "      <td>CD_AO_6</td>\n",
       "      <td>3436789</td>\n",
       "      <td>Asotin</td>\n",
       "      <td>46.26210</td>\n",
       "      <td>-117.29850</td>\n",
       "      <td>6</td>\n",
       "      <td>CD6_AO_6</td>\n",
       "    </tr>\n",
       "    <tr>\n",
       "      <th>15</th>\n",
       "      <td>CD</td>\n",
       "      <td>AO</td>\n",
       "      <td>5</td>\n",
       "      <td>CD_AO_5</td>\n",
       "      <td>3410231</td>\n",
       "      <td>Asotin</td>\n",
       "      <td>46.26210</td>\n",
       "      <td>-117.29850</td>\n",
       "      <td>6</td>\n",
       "      <td>CD6_AO_5</td>\n",
       "    </tr>\n",
       "    <tr>\n",
       "      <th>114</th>\n",
       "      <td>CD</td>\n",
       "      <td>MC</td>\n",
       "      <td>12</td>\n",
       "      <td>CD_MC_12</td>\n",
       "      <td>3355766</td>\n",
       "      <td>Mann Creek Reservoir</td>\n",
       "      <td>44.39673</td>\n",
       "      <td>-116.90020</td>\n",
       "      <td>4</td>\n",
       "      <td>CD4_MC_12</td>\n",
       "    </tr>\n",
       "    <tr>\n",
       "      <th>189</th>\n",
       "      <td>CD</td>\n",
       "      <td>SA</td>\n",
       "      <td>4</td>\n",
       "      <td>CD_SA_4</td>\n",
       "      <td>3343058</td>\n",
       "      <td>South Alkali</td>\n",
       "      <td>44.02841</td>\n",
       "      <td>-117.19350</td>\n",
       "      <td>2</td>\n",
       "      <td>CD2_SA_4</td>\n",
       "    </tr>\n",
       "    <tr>\n",
       "      <th>183</th>\n",
       "      <td>CD</td>\n",
       "      <td>SA</td>\n",
       "      <td>1</td>\n",
       "      <td>CD_SA_1</td>\n",
       "      <td>3285414</td>\n",
       "      <td>South Alkali</td>\n",
       "      <td>44.02841</td>\n",
       "      <td>-117.19350</td>\n",
       "      <td>2</td>\n",
       "      <td>CD2_SA_1</td>\n",
       "    </tr>\n",
       "    <tr>\n",
       "      <th>268</th>\n",
       "      <td>CD</td>\n",
       "      <td>WM</td>\n",
       "      <td>4</td>\n",
       "      <td>CD_WM_4</td>\n",
       "      <td>3254557</td>\n",
       "      <td>Winnemucca Mountain</td>\n",
       "      <td>41.01334</td>\n",
       "      <td>-117.78088</td>\n",
       "      <td>4</td>\n",
       "      <td>CD4_WM_4</td>\n",
       "    </tr>\n",
       "    <tr>\n",
       "      <th>12</th>\n",
       "      <td>CD</td>\n",
       "      <td>AO</td>\n",
       "      <td>2</td>\n",
       "      <td>CD_AO_2</td>\n",
       "      <td>3220439</td>\n",
       "      <td>Asotin</td>\n",
       "      <td>46.26210</td>\n",
       "      <td>-117.29850</td>\n",
       "      <td>6</td>\n",
       "      <td>CD6_AO_2</td>\n",
       "    </tr>\n",
       "    <tr>\n",
       "      <th>21</th>\n",
       "      <td>CD</td>\n",
       "      <td>BB</td>\n",
       "      <td>10</td>\n",
       "      <td>CD_BB_10</td>\n",
       "      <td>3206618</td>\n",
       "      <td>Buckhorn Backcountry Byway</td>\n",
       "      <td>40.86578</td>\n",
       "      <td>-120.09511</td>\n",
       "      <td>4</td>\n",
       "      <td>CD4_BB_10</td>\n",
       "    </tr>\n",
       "    <tr>\n",
       "      <th>10</th>\n",
       "      <td>CD</td>\n",
       "      <td>AI</td>\n",
       "      <td>9</td>\n",
       "      <td>CD_AI_9</td>\n",
       "      <td>3193711</td>\n",
       "      <td>Arco Hills</td>\n",
       "      <td>43.62136</td>\n",
       "      <td>-113.22755</td>\n",
       "      <td>6</td>\n",
       "      <td>CD6_AI_9</td>\n",
       "    </tr>\n",
       "  </tbody>\n",
       "</table>\n",
       "</div>"
      ],
      "text/plain": [
       "     Sp Pop  ID        fq    reads                        Name       Lat  \\\n",
       "1    CD  AI  10  CD_AI_10  3777792                  Arco Hills  43.62136   \n",
       "119  CD  MC   6   CD_MC_6  3553473        Mann Creek Reservoir  44.39673   \n",
       "3    CD  AI   2   CD_AI_2  3493929                  Arco Hills  43.62136   \n",
       "148  CD  OV  10  CD_OV_10  3480636      Onion Valley Reservoir  41.69626   \n",
       "16   CD  AO   6   CD_AO_6  3436789                      Asotin  46.26210   \n",
       "15   CD  AO   5   CD_AO_5  3410231                      Asotin  46.26210   \n",
       "114  CD  MC  12  CD_MC_12  3355766        Mann Creek Reservoir  44.39673   \n",
       "189  CD  SA   4   CD_SA_4  3343058                South Alkali  44.02841   \n",
       "183  CD  SA   1   CD_SA_1  3285414                South Alkali  44.02841   \n",
       "268  CD  WM   4   CD_WM_4  3254557         Winnemucca Mountain  41.01334   \n",
       "12   CD  AO   2   CD_AO_2  3220439                      Asotin  46.26210   \n",
       "21   CD  BB  10  CD_BB_10  3206618  Buckhorn Backcountry Byway  40.86578   \n",
       "10   CD  AI   9   CD_AI_9  3193711                  Arco Hills  43.62136   \n",
       "\n",
       "          Long  Ploidy     new_fq  \n",
       "1   -113.22755       6  CD6_AI_10  \n",
       "119 -116.90020       4   CD4_MC_6  \n",
       "3   -113.22755       6   CD6_AI_2  \n",
       "148 -118.74330       4  CD4_OV_10  \n",
       "16  -117.29850       6   CD6_AO_6  \n",
       "15  -117.29850       6   CD6_AO_5  \n",
       "114 -116.90020       4  CD4_MC_12  \n",
       "189 -117.19350       2   CD2_SA_4  \n",
       "183 -117.19350       2   CD2_SA_1  \n",
       "268 -117.78088       4   CD4_WM_4  \n",
       "12  -117.29850       6   CD6_AO_2  \n",
       "21  -120.09511       4  CD4_BB_10  \n",
       "10  -113.22755       6   CD6_AI_9  "
      ]
     },
     "execution_count": 7,
     "metadata": {},
     "output_type": "execute_result"
    }
   ],
   "source": [
    "CHDO_known.sort_values('reads',axis=0,ascending=False,inplace=True)\n",
    "CHDO_known.loc[:10,]"
   ]
  },
  {
   "cell_type": "code",
   "execution_count": 11,
   "metadata": {},
   "outputs": [],
   "source": [
    "fq_2x = CHDO_known[CHDO_known.Ploidy == 2].new_fq[:10]\n",
    "fq_4x = CHDO_known[CHDO_known.Ploidy == 4].new_fq[:10]\n",
    "fq_6x = CHDO_known[CHDO_known.Ploidy == 6].new_fq[:5]"
   ]
  },
  {
   "cell_type": "code",
   "execution_count": 13,
   "metadata": {},
   "outputs": [
    {
     "data": {
      "text/plain": [
       "(25, ['CD2_SA_4', 'CD2_SA_1', 'CD2_PM_5', 'CD2_RC_5', 'CD2_PM_10'])"
      ]
     },
     "execution_count": 13,
     "metadata": {},
     "output_type": "execute_result"
    }
   ],
   "source": [
    "fq_keep = fq_2x.tolist() + fq_4x.tolist() + fq_6x.tolist()\n",
    "len(fq_keep),fq_keep[:5]"
   ]
  },
  {
   "cell_type": "code",
   "execution_count": 14,
   "metadata": {},
   "outputs": [
    {
     "name": "stdout",
     "output_type": "stream",
     "text": [
      "mkdir: cannot create directory ‘refOpt’: File exists\r\n"
     ]
    }
   ],
   "source": [
    "!mkdir refOpt"
   ]
  },
  {
   "cell_type": "code",
   "execution_count": 15,
   "metadata": {},
   "outputs": [],
   "source": [
    "for fq in fq_keep:\n",
    "    fq_full = 'fastq_known/' + fq + '.F.fq.gz'\n",
    "    !cp $fq_full refOpt/"
   ]
  },
  {
   "cell_type": "code",
   "execution_count": 16,
   "metadata": {},
   "outputs": [
    {
     "name": "stdout",
     "output_type": "stream",
     "text": [
      "25\r\n"
     ]
    }
   ],
   "source": [
    "!ls -l refOpt/*gz | wc -l "
   ]
  },
  {
   "cell_type": "markdown",
   "metadata": {
    "ExecuteTime": {}
   },
   "source": [
    "# make a slurm script to run ReferenceOpt.sh \n",
    "    ReferenceOpt.sh minK1 maxK1 minK2 maxK2 Assembly_Type Processors\n",
    "    \n",
    "    **NOTE:** must run dDocent to at least trim first "
   ]
  },
  {
   "cell_type": "code",
   "execution_count": 17,
   "metadata": {},
   "outputs": [],
   "source": [
    "refOpt = '/data/gpfs/home/tfaske/g/src/refOpt/./ReferenceOpt.sh'\n",
    "refOpt_dir = '/data/gpfs/home/tfaske/d/CHDO/refOpt'"
   ]
  },
  {
   "cell_type": "code",
   "execution_count": 18,
   "metadata": {},
   "outputs": [
    {
     "name": "stdout",
     "output_type": "stream",
     "text": [
      "/data/gpfs/assoc/denovo/tfaske/CHDO/refOpt\n"
     ]
    }
   ],
   "source": [
    "cd $refOpt_dir"
   ]
  },
  {
   "cell_type": "code",
   "execution_count": 19,
   "metadata": {},
   "outputs": [],
   "source": [
    "### select options\n",
    "account = 'cpu-s5-denovo-0'\n",
    "partition = 'cpu-core-0'\n",
    "jobname = 'sagebrush'\n",
    "time = '4-00:00:00' #time limit 4 days\n",
    "minK1 = 4\n",
    "maxK1 = 10\n",
    "minK2 = 4\n",
    "maxK2 = 10\n",
    "Type = 'SE' \n",
    "cpus = 64\n",
    "mem_cpu = 2500\n",
    "email = 'tfaske@nevada.unr.edu'"
   ]
  },
  {
   "cell_type": "code",
   "execution_count": 20,
   "metadata": {
    "ExecuteTime": {}
   },
   "outputs": [],
   "source": [
    "def write_refOpt_sh(account,partition,cpus,mem_cpu,email,refOpt,minK1,maxK1,minK2,maxK2,Type):\n",
    "    with open(\"run_refOpt.sh\", \"w\") as o:\n",
    "        o.write(\"\"\"#!/usr/bin/env bash\n",
    "#SBATCH --account=%s\n",
    "#SBATCH --partition=%s\n",
    "#SBATCH --ntasks 1\n",
    "#SBATCH --cpus-per-task %d\n",
    "#SBATCH --mem-per-cpu=%d\n",
    "#SBATCH --job-name refOpt\n",
    "#SBATCH --output output_refOpt.txt\n",
    "#SBATCH --mail-type=BEGIN,END\n",
    "#SBATCH --mail-user=%s\\n\\n\"\"\" % (account,partition,int(cpus),int(mem_cpu),jobname,email))\n",
    "\n",
    "        #ReferenceOpt.sh minK1 maxK1 minK2 maxK2 Assembly_Type Processors\n",
    "        o.write(\"\"\"%s %d %d %d %d %s %d\"\"\"% (refOpt,minK1,maxK1,minK2,maxK2,Type,cpus))"
   ]
  },
  {
   "cell_type": "code",
   "execution_count": 21,
   "metadata": {},
   "outputs": [],
   "source": [
    "write_refOpt_sh(account,partition,cpus,mem_cpu,email,refOpt,minK1,maxK1,minK2,maxK2,Type)"
   ]
  },
  {
   "cell_type": "markdown",
   "metadata": {},
   "source": [
    "# run refOpt.sh in slurm\n",
    "    cd /data/gpfs/home/tfaske/d/sagebrush/refOpt\n",
    "    source activate ddocent_env\n",
    "    sbatch run_refOpt.sh"
   ]
  },
  {
   "cell_type": "markdown",
   "metadata": {},
   "source": [
    "# Visualize kopt"
   ]
  },
  {
   "cell_type": "code",
   "execution_count": 22,
   "metadata": {},
   "outputs": [
    {
     "name": "stdout",
     "output_type": "stream",
     "text": [
      "/data/gpfs/assoc/denovo/tfaske/CHDO/refOpt\n"
     ]
    }
   ],
   "source": [
    "cd $refOpt_dir"
   ]
  },
  {
   "cell_type": "code",
   "execution_count": 23,
   "metadata": {},
   "outputs": [
    {
     "name": "stdout",
     "output_type": "stream",
     "text": [
      "The top three most common number of contigs\r\n",
      "X\tContig number\r\n",
      "5\t97\r\n",
      "5\t87\r\n",
      "4\t116\r\n",
      "The top three most common number of contigs (with values rounded)\r\n",
      "X\tContig number\r\n",
      "38\t100\r\n",
      "21\t200\r\n",
      "11\t2000\r\n"
     ]
    }
   ],
   "source": [
    "!tail output_refOpt.txt"
   ]
  },
  {
   "cell_type": "code",
   "execution_count": 24,
   "metadata": {},
   "outputs": [],
   "source": [
    "%load_ext rpy2.ipython"
   ]
  },
  {
   "cell_type": "code",
   "execution_count": 25,
   "metadata": {},
   "outputs": [
    {
     "name": "stderr",
     "output_type": "stream",
     "text": [
      "R[write to console]: \n",
      "\u001b[36m──\u001b[39m \u001b[1mColumn specification\u001b[22m \u001b[36m────────────────────────────────────────\u001b[39m\n",
      "cols(\n",
      "  k1 = \u001b[32mcol_double()\u001b[39m,\n",
      "  k2 = \u001b[32mcol_double()\u001b[39m,\n",
      "  c = \u001b[32mcol_double()\u001b[39m,\n",
      "  contig = \u001b[32mcol_double()\u001b[39m\n",
      ")\n",
      "\n",
      "\n"
     ]
    },
    {
     "data": {
      "image/png": "[encoded data removed]"
     },
     "metadata": {},
     "output_type": "display_data"
    }
   ],
   "source": [
    "%%R\n",
    "library(readr)\n",
    "library(ggplot2)\n",
    "\n",
    "kopt <- read_table2('kopt.data',col_names = c('k1','k2','c','contig'))\n",
    "kopt$k <- paste0(kopt$k1,'_',kopt$k2)\n",
    "\n",
    "ggplot(data=kopt,aes(x=c,y=contig,colour=k)) + \n",
    "  geom_line() "
   ]
  },
  {
   "cell_type": "markdown",
   "metadata": {},
   "source": [
    "c = .96 is the winner!"
   ]
  },
  {
   "cell_type": "markdown",
   "metadata": {},
   "source": [
    "# MapOpt now!!!\n",
    "    This script assembles references across cutoff values and then maps 20 random samples and evaluates mappings to the reference, along with number of contigs and coverage.\n",
    "    \n",
    "    Moves fastq files from refOpt, runs dDocent to get trimmed files\n",
    "    \n",
    "    choose mapOpt sim from kopt above: 94 add (e.g. 90,92,96)"
   ]
  },
  {
   "cell_type": "code",
   "execution_count": 26,
   "metadata": {},
   "outputs": [
    {
     "name": "stdout",
     "output_type": "stream",
     "text": [
      "/data/gpfs/assoc/denovo/tfaske/CHDO\n"
     ]
    }
   ],
   "source": [
    "cd $root"
   ]
  },
  {
   "cell_type": "code",
   "execution_count": 27,
   "metadata": {},
   "outputs": [
    {
     "name": "stdout",
     "output_type": "stream",
     "text": [
      "mkdir: cannot create directory ‘mapOpt’: File exists\r\n"
     ]
    }
   ],
   "source": [
    "!mkdir mapOpt"
   ]
  },
  {
   "cell_type": "code",
   "execution_count": 28,
   "metadata": {},
   "outputs": [],
   "source": [
    "mapOpt_dir = os.path.join(root,'mapOpt/')\n",
    "assert mapOpt_dir"
   ]
  },
  {
   "cell_type": "code",
   "execution_count": 29,
   "metadata": {},
   "outputs": [],
   "source": [
    "sim_val = [92,94,96,98]"
   ]
  },
  {
   "cell_type": "code",
   "execution_count": 30,
   "metadata": {},
   "outputs": [],
   "source": [
    "for sim in sim_val:\n",
    "    mapsim = \"mapOpt/mapOpt%d\" % (sim)\n",
    "    !mkdir $mapsim"
   ]
  },
  {
   "cell_type": "code",
   "execution_count": 32,
   "metadata": {},
   "outputs": [
    {
     "data": {
      "text/plain": [
       "(50, '/data/gpfs/home/tfaske/d/CHDO/refOpt/CD2_SA_1.R1.fq.gz')"
      ]
     },
     "execution_count": 32,
     "metadata": {},
     "output_type": "execute_result"
    }
   ],
   "source": [
    "### cp fastq from refOpt\n",
    "fq_files = !find $refOpt_dir -name '*fq.gz'\n",
    "fq_files = [os.path.abspath(x) for x in fq_files]\n",
    "len(fq_files),fq_files[0]"
   ]
  },
  {
   "cell_type": "code",
   "execution_count": 33,
   "metadata": {},
   "outputs": [],
   "source": [
    "for fq in fq_files:   \n",
    "    for sim in sim_val:\n",
    "        mapsim = \"mapOpt/mapOpt%d\" % (sim)\n",
    "        !cp $fq $mapsim"
   ]
  },
  {
   "cell_type": "code",
   "execution_count": 34,
   "metadata": {},
   "outputs": [],
   "source": [
    "for sim in sim_val:\n",
    "    mapsim = \"mapOpt/mapOpt%d\" % (sim)\n",
    "    logfiles = os.path.join(refOpt_dir,'logfiles')\n",
    "    !cp -r $logfiles $mapsim"
   ]
  },
  {
   "cell_type": "code",
   "execution_count": 35,
   "metadata": {},
   "outputs": [],
   "source": [
    "src_dir = '/data/gpfs/home/tfaske/g/src/refOpt/./'\n",
    "mapOpt_sh = []\n",
    "for sim in sim_val:\n",
    "    sh = src_dir + \"Map%d.sh\"%(sim)\n",
    "    mapOpt_sh.append(sh)"
   ]
  },
  {
   "cell_type": "code",
   "execution_count": 36,
   "metadata": {},
   "outputs": [
    {
     "data": {
      "text/plain": [
       "(4,\n",
       " ['/data/gpfs/home/tfaske/g/src/refOpt/./Map92.sh',\n",
       "  '/data/gpfs/home/tfaske/g/src/refOpt/./Map94.sh',\n",
       "  '/data/gpfs/home/tfaske/g/src/refOpt/./Map96.sh',\n",
       "  '/data/gpfs/home/tfaske/g/src/refOpt/./Map98.sh'])"
      ]
     },
     "execution_count": 36,
     "metadata": {},
     "output_type": "execute_result"
    }
   ],
   "source": [
    "len(mapOpt_sh), mapOpt_sh"
   ]
  },
  {
   "cell_type": "code",
   "execution_count": 37,
   "metadata": {},
   "outputs": [],
   "source": [
    "### select slurm options\n",
    "account = 'cpu-s5-denovo-0'\n",
    "partition = 'cpu-core-0'\n",
    "time = '1-00:00:00' #time limit 4 days\n",
    "cpus = 16\n",
    "mem_cpu = 2500\n",
    "\n",
    "#RefMapOpt minK1 maxK1 minK2 maxK2 cluster_similarity Assembly_Type Num_of_Processors\n",
    "minK1 = 4\n",
    "maxK1 = 10\n",
    "minK2 = 4\n",
    "maxK2 = 10\n",
    "Type = 'SE' "
   ]
  },
  {
   "cell_type": "code",
   "execution_count": 38,
   "metadata": {},
   "outputs": [
    {
     "name": "stdout",
     "output_type": "stream",
     "text": [
      "/data/gpfs/assoc/denovo/tfaske/CHDO/mapOpt\n"
     ]
    }
   ],
   "source": [
    "cd $mapOpt_dir"
   ]
  },
  {
   "cell_type": "code",
   "execution_count": 39,
   "metadata": {},
   "outputs": [],
   "source": [
    "def write_mapOpt_sh(account,partition,time,cpus,mem_cpu,sim,email,\n",
    "                    mapOpt_sh,sim_val,minK1,maxK1,minK2,maxK2,Type):\n",
    "    for i in range(0,len(mapOpt_sh)):\n",
    "        sh = mapOpt_sh[i]\n",
    "        sim = sim_val[i]\n",
    "        with open(\"mapOpt%d/run_mapOpt%d.sh\" % (sim,sim), \"w\") as o:\n",
    "            o.write(\"\"\"#!/usr/bin/env bash\n",
    "#SBATCH --account=%s\n",
    "#SBATCH --partition=%s\n",
    "#SBATCH --time=%s\n",
    "#SBATCH --ntasks 1\n",
    "#SBATCH --cpus-per-task %d\n",
    "#SBATCH --mem-per-cpu=%d\n",
    "#SBATCH --job-name mapOpt%d\n",
    "#SBATCH --output output_mapOpt%d.txt\n",
    "#SBATCH --mail-type=END\n",
    "#SBATCH --mail-user=%s\\n\\n\"\"\" % (account,partition,time,int(cpus),int(mem_cpu),sim,sim,email))\n",
    "\n",
    "        #RefMapOpt minK1 maxK1 minK2 maxK2 cluster_similarity Assembly_Type Num_of_Processors\n",
    "            o.write(\"\"\"%s %d %d %d %d 0.%d %s %d\"\"\"% (sh,minK1,maxK1,minK2,maxK2,sim,Type,cpus))"
   ]
  },
  {
   "cell_type": "code",
   "execution_count": 40,
   "metadata": {},
   "outputs": [],
   "source": [
    "write_mapOpt_sh(account,partition,time,cpus,mem_cpu,sim,email,\n",
    "                    mapOpt_sh,sim_val,minK1,maxK1,minK2,maxK2,Type)"
   ]
  },
  {
   "cell_type": "code",
   "execution_count": 41,
   "metadata": {},
   "outputs": [
    {
     "data": {
      "text/plain": [
       "['/data/gpfs/home/tfaske/d/CHDO/mapOpt/mapOpt94/run_mapOpt94.sh',\n",
       " '/data/gpfs/home/tfaske/d/CHDO/mapOpt/mapOpt96/run_mapOpt96.sh',\n",
       " '/data/gpfs/home/tfaske/d/CHDO/mapOpt/mapOpt92/run_mapOpt92.sh',\n",
       " '/data/gpfs/home/tfaske/d/CHDO/mapOpt/mapOpt98/run_mapOpt98.sh']"
      ]
     },
     "execution_count": 41,
     "metadata": {},
     "output_type": "execute_result"
    }
   ],
   "source": [
    "mapShells = !find $mapOpt_dir -name 'run_map*.sh'\n",
    "mapShells"
   ]
  },
  {
   "cell_type": "code",
   "execution_count": 42,
   "metadata": {},
   "outputs": [],
   "source": [
    "def write_sbatch_mapOpt(mapShells):\n",
    "         with open(\"sbatch_mapOpt.sh\", \"w\") as o:\n",
    "            o.write(\"\"\"#!/usr/bin/env bash \\n\"\"\")\n",
    "            for sh in mapShells:\n",
    "                o.write(\"\"\"sbatch %s\\n\"\"\" % (sh))"
   ]
  },
  {
   "cell_type": "code",
   "execution_count": 43,
   "metadata": {},
   "outputs": [],
   "source": [
    "write_sbatch_mapOpt(mapShells)"
   ]
  },
  {
   "cell_type": "code",
   "execution_count": null,
   "metadata": {},
   "outputs": [],
   "source": []
  },
  {
   "cell_type": "markdown",
   "metadata": {},
   "source": [
    "# Run all mapOpt*sh (doesnt work, run mapOpt in each dir)\n",
    "    cd /data/gpfs/home/tfaske/d/sagebrush/mapOpt\n",
    "    source activate ddocent_env\n",
    "    bash sbatch_mapOpt.sh"
   ]
  },
  {
   "cell_type": "markdown",
   "metadata": {},
   "source": [
    "# Read in mapping results and make decision"
   ]
  },
  {
   "cell_type": "code",
   "execution_count": 46,
   "metadata": {},
   "outputs": [
    {
     "name": "stdout",
     "output_type": "stream",
     "text": [
      "/data/gpfs/assoc/denovo/tfaske/CHDO\n"
     ]
    }
   ],
   "source": [
    "cd $root"
   ]
  },
  {
   "cell_type": "code",
   "execution_count": 47,
   "metadata": {},
   "outputs": [
    {
     "data": {
      "text/plain": [
       "['./mapOpt/mapOpt94/mapping94.results',\n",
       " './mapOpt/mapOpt96/mapping96.results',\n",
       " './mapOpt/mapOpt92/mapping92.results',\n",
       " './mapOpt/mapOpt98/mapping98.results']"
      ]
     },
     "execution_count": 47,
     "metadata": {},
     "output_type": "execute_result"
    }
   ],
   "source": [
    "mapResults = !find . -name 'mapping*results'\n",
    "mapResults"
   ]
  },
  {
   "cell_type": "code",
   "execution_count": 48,
   "metadata": {},
   "outputs": [
    {
     "name": "stdout",
     "output_type": "stream",
     "text": [
      "./mapOpt/mapOpt94/mapping94.results\n",
      "Cov\tNon0Cov\tContigs\tMeanContigsMapped\tK1\tK2\tSUM Mapped\tSUM Properly\tMean Mapped\tMean Properly\tMisMatched\n",
      "77.7779\t83.614\t24637\t22909\t4\t4\t36409550\t0\t1.91629e+06\t0\t0\n",
      "126.042\t131.547\t14406\t13792.2\t4\t5\t34501874\t0\t1.81589e+06\t0\t0\n",
      "191.731\t196.331\t9039\t8820.53\t4\t6\t32931719\t0\t1.73325e+06\t0\t0\n",
      "276.868\t280.231\t5982\t5907.42\t4\t7\t31473474\t0\t1.6565e+06\t0\t0\n",
      "398.759\t400.921\t3942\t3920.58\t4\t8\t29873858\t0\t1.57231e+06\t0\t0\n",
      "602.956\t604.06\t2444\t2440.37\t4\t9\t28010318\t0\t1.47423e+06\t0\t0\n",
      "3009.02\t3020.07\t297\t296.895\t4\t10\t17037065\t0\t896688\t0\t0\n",
      "110.03\t116.51\t16760\t15815.5\t5\t4\t35040165\t0\t1.84422e+06\t0\t0\n",
      "169.139\t174.938\t10373\t10019.6\t5\t5\t33338357\t0\t1.75465e+06\t0\t0\n",
      "244.699\t249.301\t6857\t6725\t5\t6\t31884694\t0\t1.67814e+06\t0\t0\n",
      "340.334\t343.564\t4727\t4680.79\t5\t7\t30572897\t0\t1.6091e+06\t0\t0\n",
      "474.522\t476.3\t3232\t3220.21\t5\t8\t29148438\t0\t1.53413e+06\t0\t0\n",
      "685.202\t686.304\t2094\t2091.53\t5\t9\t27274457\t0\t1.4355e+06\t0\t0\n",
      "3751.39\t3768.97\t221\t220.947\t5\t10\t15823365\t0\t832809\t0\t0\n",
      "141.663\t148.513\t12587\t11993.3\t6\t4\t33881921\t0\t1783259\t0\t0\n",
      "209.746\t215.721\t8101\t7868.84\t6\t5\t32287827\t0\t1.69936e+06\t0\t0\n",
      "296.909\t300.994\t5480\t5402\t6\t6\t30919832\t0\t1.62736e+06\t0\t0\n",
      "395.358\t398.135\t3952\t3923.53\t6\t7\t29694132\t0\t1.56285e+06\t0\t0\n",
      "538.048\t539.57\t2772\t2764.68\t6\t8\t28348157\t0\t1.49201e+06\t0\t0\n",
      "763.752\t764.804\t1837\t1835.42\t6\t9\t26671738\t0\t1.40378e+06\t0\t0\n",
      "4299.01\t4323.44\t176\t176\t6\t10\t14457569\t0\t760925\t0\t0\n",
      "173.716\t180.785\t10013\t9610.89\t7\t4\t33052224\t0\t1.73959e+06\t0\t0\n",
      "251.605\t257.432\t6596\t6440.53\t7\t5\t31536945\t0\t1.65984e+06\t0\t0\n",
      "344.008\t347.771\t4644\t4591.53\t7\t6\t30360427\t0\t1.59792e+06\t0\t0\n",
      "449.628\t452.178\t3420\t3400.32\t7\t7\t29225390\t0\t1.53818e+06\t0\t0\n",
      "591.502\t593.004\t2484\t2478.32\t7\t8\t27927756\t0\t1.46988e+06\t0\t0\n",
      "840.103\t841.178\t1635\t1633.89\t7\t9\t26113777\t0\t1.37441e+06\t0\t0\n",
      "4702.57\t4734.35\t148\t148\t7\t10\t13312976\t0\t700683\t0\t0\n",
      "205.99\t213.179\t8224\t7938\t8\t4\t32191023\t0\t1.69426e+06\t0\t0\n",
      "293.53\t298.967\t5552\t5446.58\t8\t5\t30969497\t0\t1.62997e+06\t0\t0\n",
      "392.916\t396.353\t4001\t3964.68\t8\t6\t29876551\t0\t1.57245e+06\t0\t0\n",
      "500.811\t503.133\t3024\t3009.95\t8\t7\t28784141\t0\t1.51495e+06\t0\t0\n",
      "652.868\t654.317\t2223\t2218.79\t8\t8\t27587582\t0\t1451978\t0\t0\n",
      "906.178\t907.38\t1482\t1481\t8\t9\t25533382\t0\t1.34386e+06\t0\t0\n",
      "5273.32\t5317.27\t120\t120\t8\t10\t12123365\t0\t638072\t0\t0\n",
      "240.062\t247.239\t6936\t6727.63\t9\t4\t31640938\t0\t1.66531e+06\t0\t0\n",
      "337.134\t342.281\t4758\t4683.16\t9\t5\t30483999\t0\t1604421\t0\t0\n",
      "439.114\t442.223\t3534\t3508.21\t9\t6\t29493060\t0\t1.55227e+06\t0\t0\n",
      "551.15\t553.472\t2709\t2697.89\t9\t7\t28378706\t0\t1.49362e+06\t0\t0\n",
      "710.186\t711.65\t2023\t2019.63\t9\t8\t27310933\t0\t1.43742e+06\t0\t0\n",
      "979.82\t981.17\t1350\t1349.11\t9\t9\t25150984\t0\t1323736\t0\t0\n",
      "6022.72\t6082.95\t100\t100\t9\t10\t11557612\t0\t608295\t0\t0\n",
      "276.555\t283.64\t5909\t5755.68\t10\t4\t31054326\t0\t1.63444e+06\t0\t0\n",
      "374.002\t378.852\t4231\t4174.37\t10\t5\t30072751\t0\t1.58278e+06\t0\t0\n",
      "482.12\t485.138\t3172\t3151.84\t10\t6\t29065542\t0\t1.52977e+06\t0\t0\n",
      "600.903\t602.985\t2456\t2447.95\t10\t7\t28051969\t0\t1.47642e+06\t0\t0\n",
      "762.084\t763.576\t1866\t1863.21\t10\t8\t27033392\t0\t1.42281e+06\t0\t0\n",
      "1043.33\t1044.85\t1252\t1251.16\t10\t9\t24838582\t0\t1.30729e+06\t0\t0\n",
      "6485.31\t6558.17\t89\t89\t10\t10\t11089876\t0\t583678\t0\t0\n",
      "\n",
      "\n",
      "./mapOpt/mapOpt96/mapping96.results\n",
      "Cov\tNon0Cov\tContigs\tMeanContigsMapped\tK1\tK2\tSUM Mapped\tSUM Properly\tMean Mapped\tMean Properly\tMisMatched\n",
      "66.1366\t71.1976\t28052\t26054.8\t4\t4\t37106571\t0\t1.85533e+06\t0\t0\n",
      "107.421\t111.991\t16390\t15711\t4\t5\t35214766\t0\t1.76074e+06\t0\t0\n",
      "162.302\t165.981\t10348\t10112.1\t4\t6\t33593240\t0\t1679662\t0\t0\n",
      "234.111\t236.703\t6866\t6788.1\t4\t7\t32152863\t0\t1.60764e+06\t0\t0\n",
      "333.188\t334.798\t4583\t4560.75\t4\t8\t30546676\t0\t1.52733e+06\t0\t0\n",
      "512.91\t513.759\t2797\t2793.2\t4\t9\t28702460\t0\t1435123\t0\t0\n",
      "2741.65\t2750.99\t319\t318.9\t4\t10\t17546565\t0\t877328\t0\t0\n",
      "92.9201\t98.4783\t19197\t18104.1\t5\t4\t35677600\t0\t1783880\t0\t0\n",
      "143.335\t148.072\t11869\t11480.5\t5\t5\t34027761\t0\t1.70139e+06\t0\t0\n",
      "206.169\t209.804\t7898\t7756.1\t5\t6\t32570519\t0\t1.62853e+06\t0\t0\n",
      "285.692\t288.119\t5468\t5420.25\t5\t7\t31249049\t0\t1.56245e+06\t0\t0\n",
      "398.943\t400.302\t3744\t3731.55\t5\t8\t29880856\t0\t1.49404e+06\t0\t0\n",
      "590.705\t591.576\t2370\t2367.4\t5\t9\t28011237\t0\t1.40056e+06\t0\t0\n",
      "3494.98\t3510.56\t232\t231.95\t5\t10\t16286606\t0\t814330\t0\t0\n",
      "119.545\t125.379\t14460\t13776.9\t6\t4\t34574703\t0\t1.72874e+06\t0\t0\n",
      "178.245\t183.109\t9267\t9013.95\t6\t5\t33039494\t0\t1.65197e+06\t0\t0\n",
      "250.423\t253.695\t6331\t6246\t6\t6\t31713586\t0\t1.58568e+06\t0\t0\n",
      "334.285\t336.419\t4567\t4537.2\t6\t7\t30540271\t0\t1.52701e+06\t0\t0\n",
      "455.258\t456.441\t3209\t3201.2\t6\t8\t29227558\t0\t1.46138e+06\t0\t0\n",
      "664.145\t664.981\t2069\t2067.35\t6\t9\t27495597\t0\t1.37478e+06\t0\t0\n",
      "4126.58\t4149.38\t181\t181\t6\t10\t15020765\t0\t751038\t0\t0\n",
      "147.258\t153.223\t11474\t11018.1\t7\t4\t33795666\t0\t1.68978e+06\t0\t0\n",
      "212.736\t217.41\t7584\t7415.35\t7\t5\t32272024\t0\t1.6136e+06\t0\t0\n",
      "289.176\t292.157\t5373\t5316.15\t7\t6\t31080656\t0\t1.55403e+06\t0\t0\n",
      "380.917\t382.871\t3946\t3925.55\t7\t7\t30069622\t0\t1.50348e+06\t0\t0\n",
      "501.349\t502.541\t2861\t2854.8\t7\t8\t28697188\t0\t1.43486e+06\t0\t0\n",
      "729.683\t730.487\t1839\t1837.95\t7\t9\t26852328\t0\t1.34262e+06\t0\t0\n",
      "4554.61\t4584.77\t151\t151\t7\t10\t13846018\t0\t692301\t0\t0\n",
      "174.972\t180.984\t9440\t9118.55\t8\t4\t33038241\t0\t1.65191e+06\t0\t0\n",
      "246.742\t251.021\t6402\t6288.9\t8\t5\t31597723\t0\t1.57989e+06\t0\t0\n",
      "330.125\t332.751\t4619\t4581.1\t8\t6\t30503572\t0\t1.52518e+06\t0\t0\n",
      "422.203\t423.944\t3487\t3472.65\t8\t7\t29452852\t0\t1.47264e+06\t0\t0\n",
      "552.079\t553.206\t2558\t2553.5\t8\t8\t28255405\t0\t1.41277e+06\t0\t0\n",
      "790.75\t791.689\t1658\t1657\t8\t9\t26237101\t0\t1.31186e+06\t0\t0\n",
      "5074.29\t5115.55\t123\t123\t8\t10\t12584247\t0\t629212\t0\t0\n",
      "203.304\t209.162\t7969\t7739.2\t9\t4\t32406722\t0\t1.62034e+06\t0\t0\n",
      "282.604\t286.575\t5498\t5418.75\t9\t5\t31080752\t0\t1.55404e+06\t0\t0\n",
      "369.537\t371.905\t4079\t4052.15\t9\t6\t30154193\t0\t1.50771e+06\t0\t0\n",
      "462.261\t464.02\t3135\t3123.35\t9\t7\t28992983\t0\t1.44965e+06\t0\t0\n",
      "604.056\t605.139\t2313\t2309.65\t9\t8\t27955703\t0\t1.39779e+06\t0\t0\n",
      "860.284\t861.384\t1503\t1502.05\t9\t9\t25877352\t0\t1.29387e+06\t0\t0\n",
      "5832.62\t5889.8\t102\t102\t9\t10\t12015188\t0\t600759\t0\t0\n",
      "231.504\t237.201\t6836\t6666.3\t10\t4\t31655860\t0\t1582793\t0\t0\n",
      "313.14\t316.838\t4884\t4824.65\t10\t5\t30593770\t0\t1.52969e+06\t0\t0\n",
      "404.13\t406.478\t3664\t3642.4\t10\t6\t29622709\t0\t1.48114e+06\t0\t0\n",
      "502.729\t504.306\t2845\t2836.5\t10\t7\t28615352\t0\t1.43077e+06\t0\t0\n",
      "646.222\t647.312\t2141\t2138.25\t10\t8\t27684150\t0\t1.38421e+06\t0\t0\n",
      "913.833\t915.054\t1400\t1399.1\t10\t9\t25605611\t0\t1.28028e+06\t0\t0\n",
      "6348.75\t6419.29\t90\t90\t10\t10\t11554725\t0\t577736\t0\t0\n",
      "\n",
      "\n",
      "./mapOpt/mapOpt92/mapping92.results\n",
      "Cov\tNon0Cov\tContigs\tMeanContigsMapped\tK1\tK2\tSUM Mapped\tSUM Properly\tMean Mapped\tMean Properly\tMisMatched\n",
      "82.3546\t88.5301\t23557\t21904\t4\t4\t36862096\t0\t1.94011e+06\t0\t0\n",
      "133.294\t139.191\t13776\t13181.2\t4\t5\t34891334\t0\t1836386\t0\t0\n",
      "202.989\t207.978\t8617\t8403.63\t4\t6\t33237759\t0\t1.74936e+06\t0\t0\n",
      "293.516\t297.164\t5693\t5620.26\t4\t7\t31754321\t0\t1.67128e+06\t0\t0\n",
      "421.72\t424.03\t3754\t3733.37\t4\t8\t30087635\t0\t1.58356e+06\t0\t0\n",
      "636.945\t638.121\t2329\t2325.53\t4\t9\t28197542\t0\t1.48408e+06\t0\t0\n",
      "3111.34\t3123.17\t287\t286.895\t4\t10\t17025282\t0\t896067\t0\t0\n",
      "116.465\t123.363\t15983\t15077.3\t5\t4\t35369822\t0\t1.86157e+06\t0\t0\n",
      "178.609\t184.836\t9907\t9564\t5\t5\t33623531\t0\t1.76966e+06\t0\t0\n",
      "259.253\t264.238\t6535\t6406.58\t5\t6\t32195098\t0\t1.69448e+06\t0\t0\n",
      "360.909\t364.388\t4494\t4449.42\t5\t7\t30823445\t0\t1.62229e+06\t0\t0\n",
      "501.764\t503.632\t3078\t3066.89\t5\t8\t29353702\t0\t1.54493e+06\t0\t0\n",
      "726.413\t727.623\t1990\t1987.58\t5\t9\t27479461\t0\t1.44629e+06\t0\t0\n",
      "3806.03\t3824.12\t218\t217.947\t5\t10\t15836910\t0\t833522\t0\t0\n",
      "150.61\t157.979\t11986\t11414.2\t6\t4\t34301933\t0\t1.80536e+06\t0\t0\n",
      "223.248\t229.668\t7707\t7484.05\t6\t5\t32695088\t0\t1.72079e+06\t0\t0\n",
      "315.217\t319.673\t5224\t5147.68\t6\t6\t31293154\t0\t1.64701e+06\t0\t0\n",
      "419.866\t422.841\t3759\t3731.68\t6\t7\t29995223\t0\t1.5787e+06\t0\t0\n",
      "570.029\t571.585\t2641\t2634.37\t6\t8\t28614301\t0\t1.50602e+06\t0\t0\n",
      "806.07\t807.226\t1755\t1753.42\t6\t9\t26893725\t0\t1.41546e+06\t0\t0\n",
      "4377.31\t4402.62\t173\t173\t6\t10\t14471395\t0\t761652\t0\t0\n",
      "184.74\t192.439\t9519\t9128.21\t7\t4\t33415781\t0\t1.75873e+06\t0\t0\n",
      "266.475\t272.783\t6289\t6137.79\t7\t5\t31846443\t0\t1.67613e+06\t0\t0\n",
      "363.254\t367.316\t4431\t4379.89\t7\t6\t30588918\t0\t1.60994e+06\t0\t0\n",
      "477.248\t479.96\t3247\t3228.32\t7\t7\t29451953\t0\t1.5501e+06\t0\t0\n",
      "627.705\t629.345\t2360\t2354.47\t7\t8\t28158202\t0\t1.48201e+06\t0\t0\n",
      "880.326\t881.491\t1569\t1567.89\t7\t9\t26260112\t0\t1.38211e+06\t0\t0\n",
      "4764.55\t4797.18\t146\t146\t7\t10\t13307380\t0\t700388\t0\t0\n",
      "218.679\t226.514\t7820\t7541.47\t8\t4\t32495476\t0\t1.71029e+06\t0\t0\n",
      "310.913\t316.825\t5277\t5174.37\t8\t5\t31178949\t0\t1.641e+06\t0\t0\n",
      "415.558\t419.292\t3804\t3768.63\t8\t6\t30042734\t0\t1.5812e+06\t0\t0\n",
      "530.124\t532.62\t2871\t2857.53\t8\t7\t28927821\t0\t1.52252e+06\t0\t0\n",
      "689.005\t690.548\t2114\t2110\t8\t8\t27687654\t0\t1.45724e+06\t0\t0\n",
      "944.009\t945.312\t1426\t1425\t8\t9\t25594921\t0\t1.3471e+06\t0\t0\n",
      "5359.2\t5404.62\t118\t118\t8\t10\t12117145\t0\t637744\t0\t0\n",
      "255.295\t263.134\t6581\t6378.26\t9\t4\t31926714\t0\t1.68035e+06\t0\t0\n",
      "357.343\t362.931\t4521\t4448.26\t9\t5\t30702173\t0\t1.6159e+06\t0\t0\n",
      "466.307\t469.678\t3354\t3329.05\t9\t6\t29724718\t0\t1.56446e+06\t0\t0\n",
      "583.482\t586.006\t2572\t2561.21\t9\t7\t28524678\t0\t1.5013e+06\t0\t0\n",
      "748.227\t749.808\t1928\t1924.74\t9\t8\t27423269\t0\t1.44333e+06\t0\t0\n",
      "1018.87\t1020.32\t1304\t1303.11\t9\t9\t25262860\t0\t1.32962e+06\t0\t0\n",
      "6151.33\t6214.09\t98\t98\t9\t10\t11570643\t0\t608981\t0\t0\n",
      "293.282\t300.993\t5619\t5469.53\t10\t4\t31316700\t0\t1.64825e+06\t0\t0\n",
      "396.477\t401.75\t4019\t3963.89\t10\t5\t30282921\t0\t1.59384e+06\t0\t0\n",
      "510.378\t513.628\t3019\t2999.53\t10\t6\t29285502\t0\t1.54134e+06\t0\t0\n",
      "634.604\t636.865\t2338\t2330.16\t10\t7\t28202453\t0\t1.48434e+06\t0\t0\n",
      "797.738\t799.321\t1786\t1783.32\t10\t8\t27085582\t0\t1.42556e+06\t0\t0\n",
      "1081.61\t1083.27\t1214\t1213.11\t10\t9\t24968942\t0\t1.31415e+06\t0\t0\n",
      "6556.9\t6631.42\t88\t88\t10\t10\t11087724\t0\t583564\t0\t0\n"
     ]
    },
    {
     "name": "stdout",
     "output_type": "stream",
     "text": [
      "\n",
      "\n",
      "./mapOpt/mapOpt98/mapping98.results\n",
      "Cov\tNon0Cov\tContigs\tMeanContigsMapped\tK1\tK2\tSUM Mapped\tSUM Properly\tMean Mapped\tMean Properly\tMisMatched\n",
      "42.5806\t46.8201\t38059\t34668.3\t4\t4\t29171118\t0\t1.62062e+06\t0\t0\n",
      "68.9893\t72.7315\t22453\t21310.9\t4\t5\t27883543\t0\t1.54909e+06\t0\t0\n",
      "103.67\t106.72\t14326\t13920.2\t4\t6\t26735098\t0\t1.48528e+06\t0\t0\n",
      "149.046\t151.527\t9574\t9418.89\t4\t7\t25688061\t0\t1.42711e+06\t0\t0\n",
      "217.224\t218.964\t6305\t6256.17\t4\t8\t24656625\t0\t1.36981e+06\t0\t0\n",
      "345.435\t346.407\t3740\t3730.56\t4\t9\t23260911\t0\t1.29227e+06\t0\t0\n",
      "2278.05\t2285.44\t364\t363.833\t4\t10\t14966809\t0\t831489\t0\t0\n",
      "58.7962\t63.4622\t26539\t24611.7\t5\t4\t28088109\t0\t1.56045e+06\t0\t0\n",
      "90.7103\t94.6018\t16533\t15858.1\t5\t5\t26996481\t0\t1.4998e+06\t0\t0\n",
      "130.774\t133.825\t11010\t10760.6\t5\t6\t25919054\t0\t1.43995e+06\t0\t0\n",
      "181.695\t183.94\t7643\t7550.94\t5\t7\t24999747\t0\t1.38887e+06\t0\t0\n",
      "256.007\t257.489\t5208\t5179.11\t5\t8\t24003751\t0\t1.33354e+06\t0\t0\n",
      "402.746\t403.647\t3129\t3123\t5\t9\t22690697\t0\t1.26059e+06\t0\t0\n",
      "3043.77\t3056.35\t256\t255.944\t5\t10\t14080478\t0\t782249\t0\t0\n",
      "75.5916\t80.5255\t20092\t18873.2\t6\t4\t27339501\t0\t1.51886e+06\t0\t0\n",
      "113.217\t117.218\t12951\t12512.1\t6\t5\t26395052\t0\t1.46639e+06\t0\t0\n",
      "160.404\t163.303\t8832\t8676.67\t6\t6\t25503304\t0\t1.41685e+06\t0\t0\n",
      "215.877\t217.96\t6336\t6276.61\t6\t7\t24624275\t0\t1.36802e+06\t0\t0\n",
      "299.731\t301.058\t4373\t4354.72\t6\t8\t23598391\t0\t1.31102e+06\t0\t0\n",
      "466.429\t467.337\t2671\t2666.89\t6\t9\t22433359\t0\t1.2463e+06\t0\t0\n",
      "3523.07\t3540.59\t201\t201\t6\t10\t12809866\t0\t711659\t0\t0\n",
      "92.1584\t97.1839\t16088\t15263.3\t7\t4\t26689267\t0\t1.48274e+06\t0\t0\n",
      "134.948\t138.831\t10618\t10323.1\t7\t5\t25794146\t0\t1.43301e+06\t0\t0\n",
      "185.096\t187.994\t7518\t7403.44\t7\t6\t25051304\t0\t1.39174e+06\t0\t0\n",
      "247.861\t249.874\t5464\t5420.89\t7\t7\t24382046\t0\t1.35456e+06\t0\t0\n",
      "335.403\t336.593\t3849\t3836.39\t7\t8\t23243407\t0\t1.2913e+06\t0\t0\n",
      "521.325\t522.312\t2346\t2342.67\t7\t9\t22023903\t0\t1.22355e+06\t0\t0\n",
      "3961.76\t3985.92\t164\t164\t7\t10\t11766441\t0\t653691\t0\t0\n",
      "109.622\t114.645\t13229\t12653.4\t8\t4\t26105433\t0\t1.4503e+06\t0\t0\n",
      "157.49\t161.201\t8961\t8756.44\t8\t5\t25405618\t0\t1.41142e+06\t0\t0\n",
      "212.238\t214.86\t6461\t6383.06\t8\t6\t24686682\t0\t1.37148e+06\t0\t0\n",
      "276.528\t278.398\t4819\t4787.5\t8\t7\t23991535\t0\t1.33286e+06\t0\t0\n",
      "376.508\t377.737\t3401\t3391\t8\t8\t23055872\t0\t1.28088e+06\t0\t0\n",
      "569.727\t570.667\t2106\t2103.61\t8\t9\t21607464\t0\t1.20041e+06\t0\t0\n",
      "4568.68\t4603.83\t130\t130\t8\t10\t10772953\t0\t598497\t0\t0\n",
      "127.315\t132.197\t11193\t10781.6\t9\t4\t25653014\t0\t1.42517e+06\t0\t0\n",
      "180.325\t183.852\t7722\t7575.22\t9\t5\t25067729\t0\t1.39265e+06\t0\t0\n",
      "238.49\t241.093\t5683\t5622.33\t9\t6\t24400356\t0\t1.35558e+06\t0\t0\n",
      "307.07\t308.903\t4273\t4248.61\t9\t7\t23623534\t0\t1.31242e+06\t0\t0\n",
      "414.495\t415.751\t3061\t3052.78\t9\t8\t22845311\t0\t1.26918e+06\t0\t0\n",
      "623.274\t624.358\t1892\t1889.78\t9\t9\t21237440\t0\t1.17986e+06\t0\t0\n",
      "5248.27\t5296.87\t108\t108\t9\t10\t10297109\t0\t572062\t0\t0\n",
      "145.685\t150.456\t9611\t9307.17\t10\t4\t25205768\t0\t1.40032e+06\t0\t0\n",
      "202.829\t206.254\t6805\t6692.72\t10\t5\t24848178\t0\t1.38045e+06\t0\t0\n",
      "266.231\t268.823\t5042\t4994.11\t10\t6\t24166854\t0\t1342603\t0\t0\n",
      "341.231\t342.957\t3821\t3802.78\t10\t7\t23475316\t0\t1.30418e+06\t0\t0\n",
      "451.518\t452.823\t2800\t2793\t10\t8\t22764643\t0\t1.2647e+06\t0\t0\n",
      "670.36\t671.599\t1748\t1745.83\t10\t9\t21104273\t0\t1.17246e+06\t0\t0\n",
      "5639.12\t5697.86\t96\t96\t10\t10\t9845904\t0\t546995\t0\t0\n",
      "\n",
      "\n"
     ]
    }
   ],
   "source": [
    "for mR in mapResults:\n",
    "    print(mR)\n",
    "    !cat $mR\n",
    "    print('\\n')"
   ]
  },
  {
   "cell_type": "code",
   "execution_count": 49,
   "metadata": {},
   "outputs": [
    {
     "name": "stderr",
     "output_type": "stream",
     "text": [
      "R[write to console]: \n",
      "\u001b[36m──\u001b[39m \u001b[1mColumn specification\u001b[22m \u001b[36m────────────────────────────────────────\u001b[39m\n",
      "cols(\n",
      "  Cov = \u001b[32mcol_double()\u001b[39m,\n",
      "  Non0Cov = \u001b[32mcol_double()\u001b[39m,\n",
      "  Contigs = \u001b[32mcol_double()\u001b[39m,\n",
      "  MeanContigsMapped = \u001b[32mcol_double()\u001b[39m,\n",
      "  K1 = \u001b[32mcol_double()\u001b[39m,\n",
      "  K2 = \u001b[32mcol_double()\u001b[39m,\n",
      "  SUM = \u001b[32mcol_double()\u001b[39m,\n",
      "  Mapped = \u001b[32mcol_double()\u001b[39m,\n",
      "  SUM_1 = \u001b[32mcol_double()\u001b[39m,\n",
      "  Properly = \u001b[32mcol_double()\u001b[39m,\n",
      "  Mean = \u001b[32mcol_double()\u001b[39m,\n",
      "  Mapped_1 = \u001b[31mcol_character()\u001b[39m,\n",
      "  Mean_1 = \u001b[31mcol_character()\u001b[39m,\n",
      "  Properly_1 = \u001b[31mcol_character()\u001b[39m,\n",
      "  MisMatched = \u001b[31mcol_character()\u001b[39m\n",
      ")\n",
      "\n",
      "\n",
      "R[write to console]: Warning:\n",
      "R[write to console]:  49 parsing failures.\n",
      "row col   expected     actual                         file\n",
      "  1  -- 15 columns 11 columns 'mapOpt92/mapping92.results'\n",
      "  2  -- 15 columns 11 columns 'mapOpt92/mapping92.results'\n",
      "  3  -- 15 columns 11 columns 'mapOpt92/mapping92.results'\n",
      "  4  -- 15 columns 11 columns 'mapOpt92/mapping92.results'\n",
      "  5  -- 15 columns 11 columns 'mapOpt92/mapping92.results'\n",
      "... ... .......... .......... ............................\n",
      "See problems(...) for more details.\n",
      "\n",
      "\n",
      "R[write to console]: \n",
      "\u001b[36m──\u001b[39m \u001b[1mColumn specification\u001b[22m \u001b[36m────────────────────────────────────────\u001b[39m\n",
      "cols(\n",
      "  Cov = \u001b[32mcol_double()\u001b[39m,\n",
      "  Non0Cov = \u001b[32mcol_double()\u001b[39m,\n",
      "  Contigs = \u001b[32mcol_double()\u001b[39m,\n",
      "  MeanContigsMapped = \u001b[32mcol_double()\u001b[39m,\n",
      "  K1 = \u001b[32mcol_double()\u001b[39m,\n",
      "  K2 = \u001b[32mcol_double()\u001b[39m,\n",
      "  SUM = \u001b[32mcol_double()\u001b[39m,\n",
      "  Mapped = \u001b[32mcol_double()\u001b[39m,\n",
      "  SUM_1 = \u001b[32mcol_double()\u001b[39m,\n",
      "  Properly = \u001b[32mcol_double()\u001b[39m,\n",
      "  Mean = \u001b[32mcol_double()\u001b[39m,\n",
      "  Mapped_1 = \u001b[31mcol_character()\u001b[39m,\n",
      "  Mean_1 = \u001b[31mcol_character()\u001b[39m,\n",
      "  Properly_1 = \u001b[31mcol_character()\u001b[39m,\n",
      "  MisMatched = \u001b[31mcol_character()\u001b[39m\n",
      ")\n",
      "\n",
      "\n",
      "R[write to console]: Warning:\n",
      "R[write to console]:  49 parsing failures.\n",
      "row col   expected     actual                         file\n",
      "  1  -- 15 columns 11 columns 'mapOpt94/mapping94.results'\n",
      "  2  -- 15 columns 11 columns 'mapOpt94/mapping94.results'\n",
      "  3  -- 15 columns 11 columns 'mapOpt94/mapping94.results'\n",
      "  4  -- 15 columns 11 columns 'mapOpt94/mapping94.results'\n",
      "  5  -- 15 columns 11 columns 'mapOpt94/mapping94.results'\n",
      "... ... .......... .......... ............................\n",
      "See problems(...) for more details.\n",
      "\n",
      "\n",
      "R[write to console]: \n",
      "\u001b[36m──\u001b[39m \u001b[1mColumn specification\u001b[22m \u001b[36m────────────────────────────────────────\u001b[39m\n",
      "cols(\n",
      "  Cov = \u001b[32mcol_double()\u001b[39m,\n",
      "  Non0Cov = \u001b[32mcol_double()\u001b[39m,\n",
      "  Contigs = \u001b[32mcol_double()\u001b[39m,\n",
      "  MeanContigsMapped = \u001b[32mcol_double()\u001b[39m,\n",
      "  K1 = \u001b[32mcol_double()\u001b[39m,\n",
      "  K2 = \u001b[32mcol_double()\u001b[39m,\n",
      "  SUM = \u001b[32mcol_double()\u001b[39m,\n",
      "  Mapped = \u001b[32mcol_double()\u001b[39m,\n",
      "  SUM_1 = \u001b[32mcol_double()\u001b[39m,\n",
      "  Properly = \u001b[32mcol_double()\u001b[39m,\n",
      "  Mean = \u001b[32mcol_double()\u001b[39m,\n",
      "  Mapped_1 = \u001b[31mcol_character()\u001b[39m,\n",
      "  Mean_1 = \u001b[31mcol_character()\u001b[39m,\n",
      "  Properly_1 = \u001b[31mcol_character()\u001b[39m,\n",
      "  MisMatched = \u001b[31mcol_character()\u001b[39m\n",
      ")\n",
      "\n",
      "\n",
      "R[write to console]: Warning:\n",
      "R[write to console]:  49 parsing failures.\n",
      "row col   expected     actual                         file\n",
      "  1  -- 15 columns 11 columns 'mapOpt96/mapping96.results'\n",
      "  2  -- 15 columns 11 columns 'mapOpt96/mapping96.results'\n",
      "  3  -- 15 columns 11 columns 'mapOpt96/mapping96.results'\n",
      "  4  -- 15 columns 11 columns 'mapOpt96/mapping96.results'\n",
      "  5  -- 15 columns 11 columns 'mapOpt96/mapping96.results'\n",
      "... ... .......... .......... ............................\n",
      "See problems(...) for more details.\n",
      "\n",
      "\n",
      "R[write to console]: \n",
      "\u001b[36m──\u001b[39m \u001b[1mColumn specification\u001b[22m \u001b[36m────────────────────────────────────────\u001b[39m\n",
      "cols(\n",
      "  Cov = \u001b[32mcol_double()\u001b[39m,\n",
      "  Non0Cov = \u001b[32mcol_double()\u001b[39m,\n",
      "  Contigs = \u001b[32mcol_double()\u001b[39m,\n",
      "  MeanContigsMapped = \u001b[32mcol_double()\u001b[39m,\n",
      "  K1 = \u001b[32mcol_double()\u001b[39m,\n",
      "  K2 = \u001b[32mcol_double()\u001b[39m,\n",
      "  SUM = \u001b[32mcol_double()\u001b[39m,\n",
      "  Mapped = \u001b[32mcol_double()\u001b[39m,\n",
      "  SUM_1 = \u001b[32mcol_double()\u001b[39m,\n",
      "  Properly = \u001b[32mcol_double()\u001b[39m,\n",
      "  Mean = \u001b[32mcol_double()\u001b[39m,\n",
      "  Mapped_1 = \u001b[31mcol_character()\u001b[39m,\n",
      "  Mean_1 = \u001b[31mcol_character()\u001b[39m,\n",
      "  Properly_1 = \u001b[31mcol_character()\u001b[39m,\n",
      "  MisMatched = \u001b[31mcol_character()\u001b[39m\n",
      ")\n",
      "\n",
      "\n",
      "R[write to console]: Warning:\n",
      "R[write to console]:  49 parsing failures.\n",
      "row col   expected     actual                         file\n",
      "  1  -- 15 columns 11 columns 'mapOpt98/mapping98.results'\n",
      "  2  -- 15 columns 11 columns 'mapOpt98/mapping98.results'\n",
      "  3  -- 15 columns 11 columns 'mapOpt98/mapping98.results'\n",
      "  4  -- 15 columns 11 columns 'mapOpt98/mapping98.results'\n",
      "  5  -- 15 columns 11 columns 'mapOpt98/mapping98.results'\n",
      "... ... .......... .......... ............................\n",
      "See problems(...) for more details.\n",
      "\n",
      "\n"
     ]
    },
    {
     "name": "stdout",
     "output_type": "stream",
     "text": [
      "        Cov  Non0Cov Contigs MeanContigsMapped K1 K2      SUM Mapped   SUM_1\n",
      "1:  42.5806  46.8201   38059          34668.30  4  4 29171118      0 1620620\n",
      "2:  68.9893  72.7315   22453          21310.90  4  5 27883543      0 1549090\n",
      "3: 103.6700 106.7200   14326          13920.20  4  6 26735098      0 1485280\n",
      "4: 149.0460 151.5270    9574           9418.89  4  7 25688061      0 1427110\n",
      "5: 217.2240 218.9640    6305           6256.17  4  8 24656625      0 1369810\n",
      "6: 345.4350 346.4070    3740           3730.56  4  9 23260911      0 1292270\n",
      "   Properly Mean Mapped_1 Mean_1 Properly_1 MisMatched   k sim      ratio\n",
      "1:        0    0     <NA>   <NA>       <NA>       <NA> 4_4  98 0.17495466\n",
      "2:        0    0     <NA>   <NA>       <NA>       <NA> 4_5  98 0.26199865\n",
      "3:        0    0     <NA>   <NA>       <NA>       <NA> 4_6  98 0.40584640\n",
      "4:        0    0     <NA>   <NA>       <NA>       <NA> 4_7  98 0.85489731\n",
      "5:        0    0     <NA>   <NA>       <NA>       <NA> 4_8  98 1.02542517\n",
      "6:        0    0     <NA>   <NA>       <NA>       <NA> 4_9  98 0.04927707\n"
     ]
    }
   ],
   "source": [
    "%%R \n",
    "library(readr)\n",
    "library(data.table)\n",
    "setwd('/data/gpfs/assoc/denovo/tfaske/CHDO/mapOpt')\n",
    "\n",
    "mapping92 <- read_table2('mapOpt92/mapping92.results')\n",
    "mapping92$k <- paste0(mapping92$K1,'_',mapping92$K2)\n",
    "mapping92$sim <- '92'\n",
    "mapping92$ratio <- abs( scale(mapping92$SUM_1) / (scale(mapping92$MeanContigsMapped) / scale(mapping92$Cov) ) ) \n",
    "\n",
    "\n",
    "mapping94 <- read_table2('mapOpt94/mapping94.results')\n",
    "mapping94$k <- paste0(mapping94$K1,'_',mapping94$K2)\n",
    "mapping94$sim <- '94'\n",
    "mapping94$ratio <- abs( scale(mapping94$SUM_1) / (scale(mapping94$MeanContigsMapped) / scale(mapping94$Cov) ) ) \n",
    "\n",
    "mapping96 <- read_table2('mapOpt96/mapping96.results')\n",
    "mapping96$k <- paste0(mapping96$K1,'_',mapping96$K2)\n",
    "mapping96$sim <- '96'\n",
    "mapping96$ratio <- abs( scale(mapping96$SUM_1) / (scale(mapping96$MeanContigsMapped) / scale(mapping96$Cov) ) )\n",
    "\n",
    "mapping98 <- read_table2('mapOpt98/mapping98.results')\n",
    "mapping98$k <- paste0(mapping98$K1,'_',mapping98$K2)\n",
    "mapping98$sim <- '98'\n",
    "mapping98$ratio <- abs( scale(mapping98$SUM_1) / (scale(mapping98$MeanContigsMapped) / scale(mapping98$Cov) ) ) \n",
    "\n",
    "#print(mapping92)\n",
    "#print(mapping94)\n",
    "#print(mapping96)\n",
    "\n",
    "#map_df\n",
    "map_df <- rbindlist(list(mapping98,mapping92,mapping94,mapping96))\n",
    "head(map_df)"
   ]
  },
  {
   "cell_type": "code",
   "execution_count": 50,
   "metadata": {},
   "outputs": [
    {
     "data": {
      "image/png": "[encoded data removed]"
     },
     "metadata": {},
     "output_type": "display_data"
    }
   ],
   "source": [
    "%%R\n",
    "ggplot(data=map_df,aes(x=k,y=ratio,color=as.factor(sim))) + \n",
    "    geom_line(aes(group=as.factor(sim))) + theme_bw()"
   ]
  },
  {
   "cell_type": "code",
   "execution_count": 51,
   "metadata": {},
   "outputs": [
    {
     "name": "stdout",
     "output_type": "stream",
     "text": [
      "              Cov           Non0Cov           Contigs MeanContigsMapped \n",
      "     9.809895e+02      9.887925e+02      5.584474e+03      5.410035e+03 \n",
      "               K1                K2               SUM             SUM_1 \n",
      "     7.000000e+00      7.000000e+00      2.665343e+07      1.400922e+06 \n"
     ]
    }
   ],
   "source": [
    "%%R \n",
    "colMeans(map_df[,c(1:7,9)])"
   ]
  },
  {
   "cell_type": "code",
   "execution_count": 52,
   "metadata": {},
   "outputs": [
    {
     "data": {
      "image/png": "[encoded data removed]"
     },
     "metadata": {},
     "output_type": "display_data"
    }
   ],
   "source": [
    "%%R\n",
    "map_top <- map_df[which(map_df$ratio > quantile(map_df$ratio,probs=.75)),]\n",
    "\n",
    "#SUM Properly\n",
    "ggplot(data=map_top,aes(x=k,y=ratio,color=as.factor(sim))) + \n",
    "    geom_line(aes(group=as.factor(sim))) + theme_bw()"
   ]
  },
  {
   "cell_type": "code",
   "execution_count": 54,
   "metadata": {},
   "outputs": [
    {
     "name": "stdout",
     "output_type": "stream",
     "text": [
      " [1] \"Cov\"               \"Non0Cov\"           \"Contigs\"          \n",
      " [4] \"MeanContigsMapped\" \"K1\"                \"K2\"               \n",
      " [7] \"SUM\"               \"Mapped\"            \"SUM_1\"            \n",
      "[10] \"Properly\"          \"Mean\"              \"Mapped_1\"         \n",
      "[13] \"Mean_1\"            \"Properly_1\"        \"MisMatched\"       \n",
      "[16] \"k\"                 \"sim\"               \"ratio\"            \n"
     ]
    }
   ],
   "source": [
    "%%R\n",
    "names(map_df)"
   ]
  },
  {
   "cell_type": "code",
   "execution_count": 55,
   "metadata": {},
   "outputs": [
    {
     "name": "stdout",
     "output_type": "stream",
     "text": [
      "        Cov Non0Cov Contigs MeanContigsMapped K1 K2      SUM   SUM_1 sim\n",
      " 1: 181.695 183.940    7643           7550.94  5  7 24999747 1388870  98\n",
      " 2: 185.096 187.994    7518           7403.44  7  6 25051304 1391740  98\n",
      " 3: 180.325 183.852    7722           7575.22  9  5 25067729 1392650  98\n",
      " 4: 360.909 364.388    4494           4449.42  5  7 30823445 1622290  92\n",
      " 5: 363.254 367.316    4431           4379.89  7  6 30588918 1609940  92\n",
      " 6: 357.343 362.931    4521           4448.26  9  5 30702173 1615900  92\n",
      " 7: 340.334 343.564    4727           4680.79  5  7 30572897 1609100  94\n",
      " 8: 344.008 347.771    4644           4591.53  7  6 30360427 1597920  94\n",
      " 9: 337.134 342.281    4758           4683.16  9  5 30483999 1604421  94\n",
      "10: 285.692 288.119    5468           5420.25  5  7 31249049 1562450  96\n",
      "11: 289.176 292.157    5373           5316.15  7  6 31080656 1554030  96\n",
      "12: 282.604 286.575    5498           5418.75  9  5 31080752 1554040  96\n",
      "         ratio\n",
      " 1:   4.689886\n",
      " 2:  10.064472\n",
      " 3:   4.464940\n",
      " 4:  26.577331\n",
      " 5:  22.421305\n",
      " 6:  26.550613\n",
      " 7:  20.311219\n",
      " 8:  19.562903\n",
      " 9:  18.808957\n",
      "10:  10.177254\n",
      "11: 393.351184\n",
      "12:   9.785771\n"
     ]
    }
   ],
   "source": [
    "%%R\n",
    "map_df[which(map_df$k %in% c('5_7','7_6','9_5')),c(1:7,9,17,18)]"
   ]
  },
  {
   "cell_type": "markdown",
   "metadata": {},
   "source": [
    "# Map results \n",
    "    sim=96 K1=7 k2=6 WINNER\n",
    "    \n",
    "    remake reference in fastq using these parameters. Move reference.fasta to assembly dir"
   ]
  },
  {
   "cell_type": "code",
   "execution_count": null,
   "metadata": {},
   "outputs": [],
   "source": []
  }
 ],
 "metadata": {
  "kernelspec": {
   "display_name": "Python 3",
   "language": "python",
   "name": "python3"
  },
  "language_info": {
   "codemirror_mode": {
    "name": "ipython",
    "version": 3
   },
   "file_extension": ".py",
   "mimetype": "text/x-python",
   "name": "python",
   "nbconvert_exporter": "python",
   "pygments_lexer": "ipython3",
   "version": "3.6.7"
  }
 },
 "nbformat": 4,
 "nbformat_minor": 1
}
